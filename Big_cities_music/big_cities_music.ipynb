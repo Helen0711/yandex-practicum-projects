{
 "cells": [
  {
   "cell_type": "markdown",
   "metadata": {
    "id": "E0vqbgi9ay0H"
   },
   "source": [
    "# Яндекс.Музыка"
   ]
  },
  {
   "cell_type": "markdown",
   "metadata": {},
   "source": [
    "**Содержание**\n",
    "1. [Описание проекта](#desc)\n",
    "2. [Обзор данных](#review)\n",
    "3. [Предобработка данных](#pred)\n",
    "4. [Проверка гипотез](#hip)\n",
    "5. [Итоговый вывод](#it)"
   ]
  },
  {
   "cell_type": "markdown",
   "metadata": {},
   "source": [
    "<a id=\"desc\"></a> \n",
    "## Описание проекта"
   ]
  },
  {
   "cell_type": "markdown",
   "metadata": {
    "id": "VUC88oWjTJw2"
   },
   "source": [
    "Сравнение Москвы и Петербурга окружено мифами. Например:\n",
    " * Москва — мегаполис, подчинённый жёсткому ритму рабочей недели;\n",
    " * Петербург — культурная столица, со своими вкусами.\n",
    "\n",
    "На данных Яндекс.Музыки вы сравните поведение пользователей двух столиц.\n",
    "\n",
    "**Цель исследования** — проверить три гипотезы:\n",
    "1. Активность пользователей зависит от дня недели. Причём в Москве и Петербурге это проявляется по-разному.\n",
    "2. В понедельник утром в Москве преобладают одни жанры, а в Петербурге — другие. Так же и вечером пятницы преобладают разные жанры — в зависимости от города. \n",
    "3. Москва и Петербург предпочитают разные жанры музыки. В Москве чаще слушают поп-музыку, в Петербурге — русский рэп.\n",
    "\n",
    "**Ход исследования**\n",
    "\n",
    "Данные о поведении пользователей получим из файла `yandex_music_project.csv`. О качестве данных ничего не известно. Поэтому перед проверкой гипотез понадобится обзор данных. \n",
    "\n",
    "Таким образом, исследование пройдёт в три этапа:\n",
    " 1. Обзор данных.\n",
    " 2. Предобработка данных.\n",
    " 3. Проверка гипотез.\n",
    "\n"
   ]
  },
  {
   "cell_type": "markdown",
   "metadata": {
    "id": "Ml1hmfXC_Zcs"
   },
   "source": [
    "<a id=\"review\"></a> \n",
    "## Обзор данных"
   ]
  },
  {
   "cell_type": "code",
   "execution_count": 1,
   "metadata": {
    "id": "AXN7PHPN_Zcs"
   },
   "outputs": [],
   "source": [
    "import pandas as pd"
   ]
  },
  {
   "cell_type": "code",
   "execution_count": 2,
   "metadata": {
    "id": "fFVu7vqh_Zct"
   },
   "outputs": [],
   "source": [
    "df = pd.read_csv('/datasets/yandex_music_project.csv')"
   ]
  },
  {
   "cell_type": "code",
   "execution_count": 3,
   "metadata": {
    "id": "oWTVX3gW_Zct",
    "scrolled": true
   },
   "outputs": [
    {
     "data": {
      "text/html": [
       "<div>\n",
       "<style scoped>\n",
       "    .dataframe tbody tr th:only-of-type {\n",
       "        vertical-align: middle;\n",
       "    }\n",
       "\n",
       "    .dataframe tbody tr th {\n",
       "        vertical-align: top;\n",
       "    }\n",
       "\n",
       "    .dataframe thead th {\n",
       "        text-align: right;\n",
       "    }\n",
       "</style>\n",
       "<table border=\"1\" class=\"dataframe\">\n",
       "  <thead>\n",
       "    <tr style=\"text-align: right;\">\n",
       "      <th></th>\n",
       "      <th>userID</th>\n",
       "      <th>Track</th>\n",
       "      <th>artist</th>\n",
       "      <th>genre</th>\n",
       "      <th>City</th>\n",
       "      <th>time</th>\n",
       "      <th>Day</th>\n",
       "    </tr>\n",
       "  </thead>\n",
       "  <tbody>\n",
       "    <tr>\n",
       "      <th>0</th>\n",
       "      <td>FFB692EC</td>\n",
       "      <td>Kamigata To Boots</td>\n",
       "      <td>The Mass Missile</td>\n",
       "      <td>rock</td>\n",
       "      <td>Saint-Petersburg</td>\n",
       "      <td>20:28:33</td>\n",
       "      <td>Wednesday</td>\n",
       "    </tr>\n",
       "    <tr>\n",
       "      <th>1</th>\n",
       "      <td>55204538</td>\n",
       "      <td>Delayed Because of Accident</td>\n",
       "      <td>Andreas Rönnberg</td>\n",
       "      <td>rock</td>\n",
       "      <td>Moscow</td>\n",
       "      <td>14:07:09</td>\n",
       "      <td>Friday</td>\n",
       "    </tr>\n",
       "    <tr>\n",
       "      <th>2</th>\n",
       "      <td>20EC38</td>\n",
       "      <td>Funiculì funiculà</td>\n",
       "      <td>Mario Lanza</td>\n",
       "      <td>pop</td>\n",
       "      <td>Saint-Petersburg</td>\n",
       "      <td>20:58:07</td>\n",
       "      <td>Wednesday</td>\n",
       "    </tr>\n",
       "    <tr>\n",
       "      <th>3</th>\n",
       "      <td>A3DD03C9</td>\n",
       "      <td>Dragons in the Sunset</td>\n",
       "      <td>Fire + Ice</td>\n",
       "      <td>folk</td>\n",
       "      <td>Saint-Petersburg</td>\n",
       "      <td>08:37:09</td>\n",
       "      <td>Monday</td>\n",
       "    </tr>\n",
       "    <tr>\n",
       "      <th>4</th>\n",
       "      <td>E2DC1FAE</td>\n",
       "      <td>Soul People</td>\n",
       "      <td>Space Echo</td>\n",
       "      <td>dance</td>\n",
       "      <td>Moscow</td>\n",
       "      <td>08:34:34</td>\n",
       "      <td>Monday</td>\n",
       "    </tr>\n",
       "    <tr>\n",
       "      <th>5</th>\n",
       "      <td>842029A1</td>\n",
       "      <td>Преданная</td>\n",
       "      <td>IMPERVTOR</td>\n",
       "      <td>rusrap</td>\n",
       "      <td>Saint-Petersburg</td>\n",
       "      <td>13:09:41</td>\n",
       "      <td>Friday</td>\n",
       "    </tr>\n",
       "    <tr>\n",
       "      <th>6</th>\n",
       "      <td>4CB90AA5</td>\n",
       "      <td>True</td>\n",
       "      <td>Roman Messer</td>\n",
       "      <td>dance</td>\n",
       "      <td>Moscow</td>\n",
       "      <td>13:00:07</td>\n",
       "      <td>Wednesday</td>\n",
       "    </tr>\n",
       "    <tr>\n",
       "      <th>7</th>\n",
       "      <td>F03E1C1F</td>\n",
       "      <td>Feeling This Way</td>\n",
       "      <td>Polina Griffith</td>\n",
       "      <td>dance</td>\n",
       "      <td>Moscow</td>\n",
       "      <td>20:47:49</td>\n",
       "      <td>Wednesday</td>\n",
       "    </tr>\n",
       "    <tr>\n",
       "      <th>8</th>\n",
       "      <td>8FA1D3BE</td>\n",
       "      <td>И вновь продолжается бой</td>\n",
       "      <td>NaN</td>\n",
       "      <td>ruspop</td>\n",
       "      <td>Moscow</td>\n",
       "      <td>09:17:40</td>\n",
       "      <td>Friday</td>\n",
       "    </tr>\n",
       "    <tr>\n",
       "      <th>9</th>\n",
       "      <td>E772D5C0</td>\n",
       "      <td>Pessimist</td>\n",
       "      <td>NaN</td>\n",
       "      <td>dance</td>\n",
       "      <td>Saint-Petersburg</td>\n",
       "      <td>21:20:49</td>\n",
       "      <td>Wednesday</td>\n",
       "    </tr>\n",
       "  </tbody>\n",
       "</table>\n",
       "</div>"
      ],
      "text/plain": [
       "     userID                        Track            artist   genre  \\\n",
       "0  FFB692EC            Kamigata To Boots  The Mass Missile    rock   \n",
       "1  55204538  Delayed Because of Accident  Andreas Rönnberg    rock   \n",
       "2    20EC38            Funiculì funiculà       Mario Lanza     pop   \n",
       "3  A3DD03C9        Dragons in the Sunset        Fire + Ice    folk   \n",
       "4  E2DC1FAE                  Soul People        Space Echo   dance   \n",
       "5  842029A1                    Преданная         IMPERVTOR  rusrap   \n",
       "6  4CB90AA5                         True      Roman Messer   dance   \n",
       "7  F03E1C1F             Feeling This Way   Polina Griffith   dance   \n",
       "8  8FA1D3BE     И вновь продолжается бой               NaN  ruspop   \n",
       "9  E772D5C0                    Pessimist               NaN   dance   \n",
       "\n",
       "             City        time        Day  \n",
       "0  Saint-Petersburg  20:28:33  Wednesday  \n",
       "1            Moscow  14:07:09     Friday  \n",
       "2  Saint-Petersburg  20:58:07  Wednesday  \n",
       "3  Saint-Petersburg  08:37:09     Monday  \n",
       "4            Moscow  08:34:34     Monday  \n",
       "5  Saint-Petersburg  13:09:41     Friday  \n",
       "6            Moscow  13:00:07  Wednesday  \n",
       "7            Moscow  20:47:49  Wednesday  \n",
       "8            Moscow  09:17:40     Friday  \n",
       "9  Saint-Petersburg  21:20:49  Wednesday  "
      ]
     },
     "execution_count": 3,
     "metadata": {},
     "output_type": "execute_result"
    }
   ],
   "source": [
    "df.head(10)"
   ]
  },
  {
   "cell_type": "code",
   "execution_count": 4,
   "metadata": {
    "id": "DSf2kIb-_Zct"
   },
   "outputs": [
    {
     "name": "stdout",
     "output_type": "stream",
     "text": [
      "<class 'pandas.core.frame.DataFrame'>\n",
      "RangeIndex: 65079 entries, 0 to 65078\n",
      "Data columns (total 7 columns):\n",
      " #   Column    Non-Null Count  Dtype \n",
      "---  ------    --------------  ----- \n",
      " 0     userID  65079 non-null  object\n",
      " 1   Track     63848 non-null  object\n",
      " 2   artist    57876 non-null  object\n",
      " 3   genre     63881 non-null  object\n",
      " 4     City    65079 non-null  object\n",
      " 5   time      65079 non-null  object\n",
      " 6   Day       65079 non-null  object\n",
      "dtypes: object(7)\n",
      "memory usage: 3.5+ MB\n"
     ]
    }
   ],
   "source": [
    "df.info()"
   ]
  },
  {
   "cell_type": "markdown",
   "metadata": {
    "id": "TaQ2Iwbr_Zct"
   },
   "source": [
    "Итак, в таблице семь столбцов. Тип данных во всех столбцах — `object`.\n",
    "\n",
    "Согласно документации к данным:\n",
    "* `userID` — идентификатор пользователя;\n",
    "* `Track` — название трека;  \n",
    "* `artist` — имя исполнителя;\n",
    "* `genre` — название жанра;\n",
    "* `City` — город пользователя;\n",
    "* `time` — время начала прослушивания;\n",
    "* `Day` — день недели.\n",
    "\n",
    "В названиях колонок есть нарушения стиля, надо это исправить. Количество значений в столбцах различается. Значит, в данных есть пропущенные значения.\n"
   ]
  },
  {
   "cell_type": "markdown",
   "metadata": {
    "id": "MCB6-dXG_Zct"
   },
   "source": [
    "**Вывод**\n",
    "\n",
    "В каждой строке таблицы — данные о прослушанном треке. Часть колонок описывает саму композицию: название, исполнителя и жанр. Остальные данные рассказывают о пользователе: из какого он города, когда он слушал музыку. \n",
    "\n",
    "Предварительно можно утверждать, что, данных достаточно для проверки гипотез. Но встречаются пропуски в данных, а в названиях колонок — расхождения с хорошим стилем.\n",
    "\n",
    "Чтобы двигаться дальше, нужно устранить проблемы в данных."
   ]
  },
  {
   "cell_type": "markdown",
   "metadata": {
    "id": "SjYF6Ub9_Zct"
   },
   "source": [
    "<a id=\"pred\"></a> \n",
    "## Предобработка данных"
   ]
  },
  {
   "cell_type": "markdown",
   "metadata": {
    "id": "dIaKXr29_Zct"
   },
   "source": [
    "### Стиль заголовков"
   ]
  },
  {
   "cell_type": "code",
   "execution_count": 5,
   "metadata": {
    "id": "oKOTdF_Q_Zct"
   },
   "outputs": [
    {
     "data": {
      "text/plain": [
       "Index(['  userID', 'Track', 'artist', 'genre', '  City  ', 'time', 'Day'], dtype='object')"
      ]
     },
     "execution_count": 5,
     "metadata": {},
     "output_type": "execute_result"
    }
   ],
   "source": [
    "df.columns"
   ]
  },
  {
   "cell_type": "code",
   "execution_count": 6,
   "metadata": {
    "id": "ISlFqs5y_Zct"
   },
   "outputs": [],
   "source": [
    "df = df.rename(columns={'  userID': 'user_id', 'Track': 'track', '  City  ': 'city', 'Day': 'day'})"
   ]
  },
  {
   "cell_type": "code",
   "execution_count": 7,
   "metadata": {
    "id": "d4NOAmTW_Zct"
   },
   "outputs": [
    {
     "data": {
      "text/plain": [
       "Index(['user_id', 'track', 'artist', 'genre', 'city', 'time', 'day'], dtype='object')"
      ]
     },
     "execution_count": 7,
     "metadata": {},
     "output_type": "execute_result"
    }
   ],
   "source": [
    "df.columns"
   ]
  },
  {
   "cell_type": "markdown",
   "metadata": {
    "id": "5ISfbcfY_Zct"
   },
   "source": [
    "### Пропуски значений\n"
   ]
  },
  {
   "cell_type": "code",
   "execution_count": 8,
   "metadata": {
    "id": "RskX29qr_Zct"
   },
   "outputs": [
    {
     "data": {
      "text/plain": [
       "user_id       0\n",
       "track      1231\n",
       "artist     7203\n",
       "genre      1198\n",
       "city          0\n",
       "time          0\n",
       "day           0\n",
       "dtype: int64"
      ]
     },
     "execution_count": 8,
     "metadata": {},
     "output_type": "execute_result"
    }
   ],
   "source": [
    "df.isna().sum()"
   ]
  },
  {
   "cell_type": "markdown",
   "metadata": {
    "id": "qubhgnlO_Zct"
   },
   "source": [
    "Не все пропущенные значения влияют на исследование. Так в `track` и `artist` пропуски не важны для нашей работы. Достаточно заменить их явными обозначениями.\n",
    "\n",
    "Но пропуски в `genre` могут помешать сравнению музыкальных вкусов в Москве и Санкт-Петербурге. На практике было бы правильно установить причину пропусков и восстановить данные. Такой возможности нет. Придётся:\n",
    "* заполнить и эти пропуски явными обозначениями,\n",
    "* оценить, насколько они повредят расчётам. "
   ]
  },
  {
   "cell_type": "code",
   "execution_count": 9,
   "metadata": {
    "id": "KplB5qWs_Zct"
   },
   "outputs": [],
   "source": [
    "columns_to_replace = ['track', 'artist', 'genre']\n",
    "for column in columns_to_replace:\n",
    "    df[column] = df[column].fillna('unknown')"
   ]
  },
  {
   "cell_type": "code",
   "execution_count": 10,
   "metadata": {
    "id": "Tq4nYRX4_Zct"
   },
   "outputs": [
    {
     "data": {
      "text/plain": [
       "user_id    0\n",
       "track      0\n",
       "artist     0\n",
       "genre      0\n",
       "city       0\n",
       "time       0\n",
       "day        0\n",
       "dtype: int64"
      ]
     },
     "execution_count": 10,
     "metadata": {},
     "output_type": "execute_result"
    }
   ],
   "source": [
    "df.isna().sum()"
   ]
  },
  {
   "cell_type": "markdown",
   "metadata": {
    "id": "BWKRtBJ3_Zct"
   },
   "source": [
    "### Дубликаты"
   ]
  },
  {
   "cell_type": "code",
   "execution_count": 11,
   "metadata": {
    "id": "36eES_S0_Zct"
   },
   "outputs": [
    {
     "data": {
      "text/plain": [
       "3826"
      ]
     },
     "execution_count": 11,
     "metadata": {},
     "output_type": "execute_result"
    }
   ],
   "source": [
    "df.duplicated().sum()"
   ]
  },
  {
   "cell_type": "code",
   "execution_count": 12,
   "metadata": {
    "id": "exFHq6tt_Zct"
   },
   "outputs": [],
   "source": [
    "df = df.drop_duplicates().reset_index(drop=True)"
   ]
  },
  {
   "cell_type": "code",
   "execution_count": 13,
   "metadata": {
    "id": "-8PuNWQ0_Zct"
   },
   "outputs": [
    {
     "data": {
      "text/plain": [
       "0"
      ]
     },
     "execution_count": 13,
     "metadata": {},
     "output_type": "execute_result"
    }
   ],
   "source": [
    "df.duplicated().sum()"
   ]
  },
  {
   "cell_type": "markdown",
   "metadata": {
    "id": "QlFBsxAr_Zct"
   },
   "source": [
    "**Избавимся от неявных дубликатов в колонке `genre`.**"
   ]
  },
  {
   "cell_type": "code",
   "execution_count": 14,
   "metadata": {
    "id": "JIUcqzZN_Zct",
    "scrolled": true
   },
   "outputs": [
    {
     "data": {
      "text/plain": [
       "['acid',\n",
       " 'acoustic',\n",
       " 'action',\n",
       " 'adult',\n",
       " 'africa',\n",
       " 'afrikaans',\n",
       " 'alternative',\n",
       " 'alternativepunk',\n",
       " 'ambient',\n",
       " 'americana',\n",
       " 'animated',\n",
       " 'anime',\n",
       " 'arabesk',\n",
       " 'arabic',\n",
       " 'arena',\n",
       " 'argentinetango',\n",
       " 'art',\n",
       " 'audiobook',\n",
       " 'author',\n",
       " 'avantgarde',\n",
       " 'axé',\n",
       " 'baile',\n",
       " 'balkan',\n",
       " 'beats',\n",
       " 'bigroom',\n",
       " 'black',\n",
       " 'bluegrass',\n",
       " 'blues',\n",
       " 'bollywood',\n",
       " 'bossa',\n",
       " 'brazilian',\n",
       " 'breakbeat',\n",
       " 'breaks',\n",
       " 'broadway',\n",
       " 'cantautori',\n",
       " 'cantopop',\n",
       " 'canzone',\n",
       " 'caribbean',\n",
       " 'caucasian',\n",
       " 'celtic',\n",
       " 'chamber',\n",
       " 'chanson',\n",
       " 'children',\n",
       " 'chill',\n",
       " 'chinese',\n",
       " 'choral',\n",
       " 'christian',\n",
       " 'christmas',\n",
       " 'classical',\n",
       " 'classicmetal',\n",
       " 'club',\n",
       " 'colombian',\n",
       " 'comedy',\n",
       " 'conjazz',\n",
       " 'contemporary',\n",
       " 'country',\n",
       " 'cuban',\n",
       " 'dance',\n",
       " 'dancehall',\n",
       " 'dancepop',\n",
       " 'dark',\n",
       " 'death',\n",
       " 'deep',\n",
       " 'deutschrock',\n",
       " 'deutschspr',\n",
       " 'dirty',\n",
       " 'disco',\n",
       " 'dnb',\n",
       " 'documentary',\n",
       " 'downbeat',\n",
       " 'downtempo',\n",
       " 'drum',\n",
       " 'dub',\n",
       " 'dubstep',\n",
       " 'eastern',\n",
       " 'easy',\n",
       " 'electronic',\n",
       " 'electropop',\n",
       " 'emo',\n",
       " 'entehno',\n",
       " 'epicmetal',\n",
       " 'estrada',\n",
       " 'ethnic',\n",
       " 'eurofolk',\n",
       " 'european',\n",
       " 'experimental',\n",
       " 'extrememetal',\n",
       " 'fado',\n",
       " 'fairytail',\n",
       " 'film',\n",
       " 'fitness',\n",
       " 'flamenco',\n",
       " 'folk',\n",
       " 'folklore',\n",
       " 'folkmetal',\n",
       " 'folkrock',\n",
       " 'folktronica',\n",
       " 'forró',\n",
       " 'frankreich',\n",
       " 'französisch',\n",
       " 'french',\n",
       " 'funk',\n",
       " 'future',\n",
       " 'gangsta',\n",
       " 'garage',\n",
       " 'german',\n",
       " 'ghazal',\n",
       " 'gitarre',\n",
       " 'glitch',\n",
       " 'gospel',\n",
       " 'gothic',\n",
       " 'grime',\n",
       " 'grunge',\n",
       " 'gypsy',\n",
       " 'handsup',\n",
       " \"hard'n'heavy\",\n",
       " 'hardcore',\n",
       " 'hardstyle',\n",
       " 'hardtechno',\n",
       " 'hip',\n",
       " 'hip-hop',\n",
       " 'hiphop',\n",
       " 'historisch',\n",
       " 'holiday',\n",
       " 'hop',\n",
       " 'horror',\n",
       " 'house',\n",
       " 'hymn',\n",
       " 'idm',\n",
       " 'independent',\n",
       " 'indian',\n",
       " 'indie',\n",
       " 'indipop',\n",
       " 'industrial',\n",
       " 'inspirational',\n",
       " 'instrumental',\n",
       " 'international',\n",
       " 'irish',\n",
       " 'jam',\n",
       " 'japanese',\n",
       " 'jazz',\n",
       " 'jewish',\n",
       " 'jpop',\n",
       " 'jungle',\n",
       " 'k-pop',\n",
       " 'karadeniz',\n",
       " 'karaoke',\n",
       " 'kayokyoku',\n",
       " 'korean',\n",
       " 'laiko',\n",
       " 'latin',\n",
       " 'latino',\n",
       " 'leftfield',\n",
       " 'local',\n",
       " 'lounge',\n",
       " 'loungeelectronic',\n",
       " 'lovers',\n",
       " 'malaysian',\n",
       " 'mandopop',\n",
       " 'marschmusik',\n",
       " 'meditative',\n",
       " 'mediterranean',\n",
       " 'melodic',\n",
       " 'metal',\n",
       " 'metalcore',\n",
       " 'mexican',\n",
       " 'middle',\n",
       " 'minimal',\n",
       " 'miscellaneous',\n",
       " 'modern',\n",
       " 'mood',\n",
       " 'mpb',\n",
       " 'muslim',\n",
       " 'native',\n",
       " 'neoklassik',\n",
       " 'neue',\n",
       " 'new',\n",
       " 'newage',\n",
       " 'newwave',\n",
       " 'nu',\n",
       " 'nujazz',\n",
       " 'numetal',\n",
       " 'oceania',\n",
       " 'old',\n",
       " 'opera',\n",
       " 'orchestral',\n",
       " 'other',\n",
       " 'piano',\n",
       " 'podcasts',\n",
       " 'pop',\n",
       " 'popdance',\n",
       " 'popelectronic',\n",
       " 'popeurodance',\n",
       " 'poprussian',\n",
       " 'post',\n",
       " 'posthardcore',\n",
       " 'postrock',\n",
       " 'power',\n",
       " 'progmetal',\n",
       " 'progressive',\n",
       " 'psychedelic',\n",
       " 'punjabi',\n",
       " 'punk',\n",
       " 'quebecois',\n",
       " 'ragga',\n",
       " 'ram',\n",
       " 'rancheras',\n",
       " 'rap',\n",
       " 'rave',\n",
       " 'reggae',\n",
       " 'reggaeton',\n",
       " 'regional',\n",
       " 'relax',\n",
       " 'religious',\n",
       " 'retro',\n",
       " 'rhythm',\n",
       " 'rnb',\n",
       " 'rnr',\n",
       " 'rock',\n",
       " 'rockabilly',\n",
       " 'rockalternative',\n",
       " 'rockindie',\n",
       " 'rockother',\n",
       " 'romance',\n",
       " 'roots',\n",
       " 'ruspop',\n",
       " 'rusrap',\n",
       " 'rusrock',\n",
       " 'russian',\n",
       " 'salsa',\n",
       " 'samba',\n",
       " 'scenic',\n",
       " 'schlager',\n",
       " 'self',\n",
       " 'sertanejo',\n",
       " 'shanson',\n",
       " 'shoegazing',\n",
       " 'showtunes',\n",
       " 'singer',\n",
       " 'ska',\n",
       " 'skarock',\n",
       " 'slow',\n",
       " 'smooth',\n",
       " 'soft',\n",
       " 'soul',\n",
       " 'soulful',\n",
       " 'sound',\n",
       " 'soundtrack',\n",
       " 'southern',\n",
       " 'specialty',\n",
       " 'speech',\n",
       " 'spiritual',\n",
       " 'sport',\n",
       " 'stonerrock',\n",
       " 'surf',\n",
       " 'swing',\n",
       " 'synthpop',\n",
       " 'synthrock',\n",
       " 'sängerportrait',\n",
       " 'tango',\n",
       " 'tanzorchester',\n",
       " 'taraftar',\n",
       " 'tatar',\n",
       " 'tech',\n",
       " 'techno',\n",
       " 'teen',\n",
       " 'thrash',\n",
       " 'top',\n",
       " 'traditional',\n",
       " 'tradjazz',\n",
       " 'trance',\n",
       " 'tribal',\n",
       " 'trip',\n",
       " 'triphop',\n",
       " 'tropical',\n",
       " 'türk',\n",
       " 'türkçe',\n",
       " 'ukrrock',\n",
       " 'unknown',\n",
       " 'urban',\n",
       " 'uzbek',\n",
       " 'variété',\n",
       " 'vi',\n",
       " 'videogame',\n",
       " 'vocal',\n",
       " 'western',\n",
       " 'world',\n",
       " 'worldbeat',\n",
       " 'ïîï',\n",
       " 'электроника']"
      ]
     },
     "execution_count": 14,
     "metadata": {},
     "output_type": "execute_result"
    }
   ],
   "source": [
    "sorted(df['genre'].unique())"
   ]
  },
  {
   "cell_type": "code",
   "execution_count": 15,
   "metadata": {
    "id": "ErNDkmns_Zct"
   },
   "outputs": [],
   "source": [
    "# Функция для замены неявных дубликатов\n",
    "def replace_wrong_genres(wrong_genres, correct_genre):\n",
    "    for wrong_genre in wrong_genres:\n",
    "        df['genre'] = df['genre'].replace(wrong_genre, correct_genre)       "
   ]
  },
  {
   "cell_type": "code",
   "execution_count": 16,
   "metadata": {
    "id": "YN5i2hpmSo09",
    "scrolled": true
   },
   "outputs": [],
   "source": [
    "duplicates = ['hip', 'hop', 'hip-hop']\n",
    "correct_name = 'hiphop'\n",
    "replace_wrong_genres(duplicates, correct_name) "
   ]
  },
  {
   "cell_type": "code",
   "execution_count": 17,
   "metadata": {
    "id": "wvixALnFG15m"
   },
   "outputs": [
    {
     "data": {
      "text/plain": [
       "['acid',\n",
       " 'acoustic',\n",
       " 'action',\n",
       " 'adult',\n",
       " 'africa',\n",
       " 'afrikaans',\n",
       " 'alternative',\n",
       " 'alternativepunk',\n",
       " 'ambient',\n",
       " 'americana',\n",
       " 'animated',\n",
       " 'anime',\n",
       " 'arabesk',\n",
       " 'arabic',\n",
       " 'arena',\n",
       " 'argentinetango',\n",
       " 'art',\n",
       " 'audiobook',\n",
       " 'author',\n",
       " 'avantgarde',\n",
       " 'axé',\n",
       " 'baile',\n",
       " 'balkan',\n",
       " 'beats',\n",
       " 'bigroom',\n",
       " 'black',\n",
       " 'bluegrass',\n",
       " 'blues',\n",
       " 'bollywood',\n",
       " 'bossa',\n",
       " 'brazilian',\n",
       " 'breakbeat',\n",
       " 'breaks',\n",
       " 'broadway',\n",
       " 'cantautori',\n",
       " 'cantopop',\n",
       " 'canzone',\n",
       " 'caribbean',\n",
       " 'caucasian',\n",
       " 'celtic',\n",
       " 'chamber',\n",
       " 'chanson',\n",
       " 'children',\n",
       " 'chill',\n",
       " 'chinese',\n",
       " 'choral',\n",
       " 'christian',\n",
       " 'christmas',\n",
       " 'classical',\n",
       " 'classicmetal',\n",
       " 'club',\n",
       " 'colombian',\n",
       " 'comedy',\n",
       " 'conjazz',\n",
       " 'contemporary',\n",
       " 'country',\n",
       " 'cuban',\n",
       " 'dance',\n",
       " 'dancehall',\n",
       " 'dancepop',\n",
       " 'dark',\n",
       " 'death',\n",
       " 'deep',\n",
       " 'deutschrock',\n",
       " 'deutschspr',\n",
       " 'dirty',\n",
       " 'disco',\n",
       " 'dnb',\n",
       " 'documentary',\n",
       " 'downbeat',\n",
       " 'downtempo',\n",
       " 'drum',\n",
       " 'dub',\n",
       " 'dubstep',\n",
       " 'eastern',\n",
       " 'easy',\n",
       " 'electronic',\n",
       " 'electropop',\n",
       " 'emo',\n",
       " 'entehno',\n",
       " 'epicmetal',\n",
       " 'estrada',\n",
       " 'ethnic',\n",
       " 'eurofolk',\n",
       " 'european',\n",
       " 'experimental',\n",
       " 'extrememetal',\n",
       " 'fado',\n",
       " 'fairytail',\n",
       " 'film',\n",
       " 'fitness',\n",
       " 'flamenco',\n",
       " 'folk',\n",
       " 'folklore',\n",
       " 'folkmetal',\n",
       " 'folkrock',\n",
       " 'folktronica',\n",
       " 'forró',\n",
       " 'frankreich',\n",
       " 'französisch',\n",
       " 'french',\n",
       " 'funk',\n",
       " 'future',\n",
       " 'gangsta',\n",
       " 'garage',\n",
       " 'german',\n",
       " 'ghazal',\n",
       " 'gitarre',\n",
       " 'glitch',\n",
       " 'gospel',\n",
       " 'gothic',\n",
       " 'grime',\n",
       " 'grunge',\n",
       " 'gypsy',\n",
       " 'handsup',\n",
       " \"hard'n'heavy\",\n",
       " 'hardcore',\n",
       " 'hardstyle',\n",
       " 'hardtechno',\n",
       " 'hiphop',\n",
       " 'historisch',\n",
       " 'holiday',\n",
       " 'horror',\n",
       " 'house',\n",
       " 'hymn',\n",
       " 'idm',\n",
       " 'independent',\n",
       " 'indian',\n",
       " 'indie',\n",
       " 'indipop',\n",
       " 'industrial',\n",
       " 'inspirational',\n",
       " 'instrumental',\n",
       " 'international',\n",
       " 'irish',\n",
       " 'jam',\n",
       " 'japanese',\n",
       " 'jazz',\n",
       " 'jewish',\n",
       " 'jpop',\n",
       " 'jungle',\n",
       " 'k-pop',\n",
       " 'karadeniz',\n",
       " 'karaoke',\n",
       " 'kayokyoku',\n",
       " 'korean',\n",
       " 'laiko',\n",
       " 'latin',\n",
       " 'latino',\n",
       " 'leftfield',\n",
       " 'local',\n",
       " 'lounge',\n",
       " 'loungeelectronic',\n",
       " 'lovers',\n",
       " 'malaysian',\n",
       " 'mandopop',\n",
       " 'marschmusik',\n",
       " 'meditative',\n",
       " 'mediterranean',\n",
       " 'melodic',\n",
       " 'metal',\n",
       " 'metalcore',\n",
       " 'mexican',\n",
       " 'middle',\n",
       " 'minimal',\n",
       " 'miscellaneous',\n",
       " 'modern',\n",
       " 'mood',\n",
       " 'mpb',\n",
       " 'muslim',\n",
       " 'native',\n",
       " 'neoklassik',\n",
       " 'neue',\n",
       " 'new',\n",
       " 'newage',\n",
       " 'newwave',\n",
       " 'nu',\n",
       " 'nujazz',\n",
       " 'numetal',\n",
       " 'oceania',\n",
       " 'old',\n",
       " 'opera',\n",
       " 'orchestral',\n",
       " 'other',\n",
       " 'piano',\n",
       " 'podcasts',\n",
       " 'pop',\n",
       " 'popdance',\n",
       " 'popelectronic',\n",
       " 'popeurodance',\n",
       " 'poprussian',\n",
       " 'post',\n",
       " 'posthardcore',\n",
       " 'postrock',\n",
       " 'power',\n",
       " 'progmetal',\n",
       " 'progressive',\n",
       " 'psychedelic',\n",
       " 'punjabi',\n",
       " 'punk',\n",
       " 'quebecois',\n",
       " 'ragga',\n",
       " 'ram',\n",
       " 'rancheras',\n",
       " 'rap',\n",
       " 'rave',\n",
       " 'reggae',\n",
       " 'reggaeton',\n",
       " 'regional',\n",
       " 'relax',\n",
       " 'religious',\n",
       " 'retro',\n",
       " 'rhythm',\n",
       " 'rnb',\n",
       " 'rnr',\n",
       " 'rock',\n",
       " 'rockabilly',\n",
       " 'rockalternative',\n",
       " 'rockindie',\n",
       " 'rockother',\n",
       " 'romance',\n",
       " 'roots',\n",
       " 'ruspop',\n",
       " 'rusrap',\n",
       " 'rusrock',\n",
       " 'russian',\n",
       " 'salsa',\n",
       " 'samba',\n",
       " 'scenic',\n",
       " 'schlager',\n",
       " 'self',\n",
       " 'sertanejo',\n",
       " 'shanson',\n",
       " 'shoegazing',\n",
       " 'showtunes',\n",
       " 'singer',\n",
       " 'ska',\n",
       " 'skarock',\n",
       " 'slow',\n",
       " 'smooth',\n",
       " 'soft',\n",
       " 'soul',\n",
       " 'soulful',\n",
       " 'sound',\n",
       " 'soundtrack',\n",
       " 'southern',\n",
       " 'specialty',\n",
       " 'speech',\n",
       " 'spiritual',\n",
       " 'sport',\n",
       " 'stonerrock',\n",
       " 'surf',\n",
       " 'swing',\n",
       " 'synthpop',\n",
       " 'synthrock',\n",
       " 'sängerportrait',\n",
       " 'tango',\n",
       " 'tanzorchester',\n",
       " 'taraftar',\n",
       " 'tatar',\n",
       " 'tech',\n",
       " 'techno',\n",
       " 'teen',\n",
       " 'thrash',\n",
       " 'top',\n",
       " 'traditional',\n",
       " 'tradjazz',\n",
       " 'trance',\n",
       " 'tribal',\n",
       " 'trip',\n",
       " 'triphop',\n",
       " 'tropical',\n",
       " 'türk',\n",
       " 'türkçe',\n",
       " 'ukrrock',\n",
       " 'unknown',\n",
       " 'urban',\n",
       " 'uzbek',\n",
       " 'variété',\n",
       " 'vi',\n",
       " 'videogame',\n",
       " 'vocal',\n",
       " 'western',\n",
       " 'world',\n",
       " 'worldbeat',\n",
       " 'ïîï',\n",
       " 'электроника']"
      ]
     },
     "execution_count": 17,
     "metadata": {},
     "output_type": "execute_result"
    }
   ],
   "source": [
    "sorted(df['genre'].unique())"
   ]
  },
  {
   "cell_type": "markdown",
   "metadata": {
    "id": "WttZHXH0SqKk"
   },
   "source": [
    "<a id=\"hip\"></a> \n",
    "## Проверка гипотез"
   ]
  },
  {
   "cell_type": "markdown",
   "metadata": {
    "id": "Im936VVi_Zcu"
   },
   "source": [
    "### Сравнение поведения пользователей двух столиц"
   ]
  },
  {
   "cell_type": "markdown",
   "metadata": {},
   "source": [
    "Первая гипотеза утверждает, что пользователи по-разному слушают музыку в Москве и Санкт-Петербурге. Проверим это предположение по данным о трёх днях недели — понедельнике, среде и пятнице. "
   ]
  },
  {
   "cell_type": "code",
   "execution_count": 18,
   "metadata": {
    "id": "0_Qs96oh_Zcu",
    "scrolled": true
   },
   "outputs": [
    {
     "data": {
      "text/plain": [
       "city\n",
       "Moscow              42741\n",
       "Saint-Petersburg    18512\n",
       "Name: user_id, dtype: int64"
      ]
     },
     "execution_count": 18,
     "metadata": {},
     "output_type": "execute_result"
    }
   ],
   "source": [
    "# Подсчёт прослушиваний в каждом городе\n",
    "df.groupby('city')['user_id'].count()"
   ]
  },
  {
   "cell_type": "markdown",
   "metadata": {
    "id": "dzli3w8o_Zcu"
   },
   "source": [
    "В Москве прослушиваний больше, чем в Петербурге. Из этого не следует, что московские пользователи чаще слушают музыку. Просто самих пользователей в Москве больше."
   ]
  },
  {
   "cell_type": "code",
   "execution_count": 19,
   "metadata": {
    "id": "uZMKjiJz_Zcu",
    "scrolled": false
   },
   "outputs": [
    {
     "data": {
      "text/html": [
       "<div>\n",
       "<style scoped>\n",
       "    .dataframe tbody tr th:only-of-type {\n",
       "        vertical-align: middle;\n",
       "    }\n",
       "\n",
       "    .dataframe tbody tr th {\n",
       "        vertical-align: top;\n",
       "    }\n",
       "\n",
       "    .dataframe thead th {\n",
       "        text-align: right;\n",
       "    }\n",
       "</style>\n",
       "<table border=\"1\" class=\"dataframe\">\n",
       "  <thead>\n",
       "    <tr style=\"text-align: right;\">\n",
       "      <th></th>\n",
       "      <th>user_id</th>\n",
       "    </tr>\n",
       "    <tr>\n",
       "      <th>day</th>\n",
       "      <th></th>\n",
       "    </tr>\n",
       "  </thead>\n",
       "  <tbody>\n",
       "    <tr>\n",
       "      <th>Friday</th>\n",
       "      <td>21840</td>\n",
       "    </tr>\n",
       "    <tr>\n",
       "      <th>Monday</th>\n",
       "      <td>21354</td>\n",
       "    </tr>\n",
       "    <tr>\n",
       "      <th>Wednesday</th>\n",
       "      <td>18059</td>\n",
       "    </tr>\n",
       "  </tbody>\n",
       "</table>\n",
       "</div>"
      ],
      "text/plain": [
       "           user_id\n",
       "day               \n",
       "Friday       21840\n",
       "Monday       21354\n",
       "Wednesday    18059"
      ]
     },
     "execution_count": 19,
     "metadata": {},
     "output_type": "execute_result"
    }
   ],
   "source": [
    "df.groupby('day')[['user_id']].count()"
   ]
  },
  {
   "cell_type": "markdown",
   "metadata": {
    "id": "cC2tNrlL_Zcu"
   },
   "source": [
    "В среднем пользователи из двух городов менее активны по средам. Но картина может измениться, если рассмотреть каждый город в отдельности."
   ]
  },
  {
   "cell_type": "code",
   "execution_count": 20,
   "metadata": {
    "id": "Nz3GdQB1_Zcu"
   },
   "outputs": [],
   "source": [
    "# функция, которая посчитает прослушивания для заданного дня и города\n",
    "def number_tracks(day, city): \n",
    "    track_list = df[df['day'] == day] \n",
    "    track_list = track_list[track_list['city'] == city]   \n",
    "    track_list_count = track_list['user_id'].count() \n",
    "    return track_list_count "
   ]
  },
  {
   "cell_type": "code",
   "execution_count": 21,
   "metadata": {
    "id": "rJcRATNQ_Zcu",
    "scrolled": true
   },
   "outputs": [
    {
     "data": {
      "text/plain": [
       "15740"
      ]
     },
     "execution_count": 21,
     "metadata": {},
     "output_type": "execute_result"
    }
   ],
   "source": [
    "# количество прослушиваний в Москве по понедельникам\n",
    "number_tracks('Monday', 'Moscow')"
   ]
  },
  {
   "cell_type": "code",
   "execution_count": 22,
   "metadata": {
    "id": "hq_ncZ5T_Zcu"
   },
   "outputs": [
    {
     "data": {
      "text/plain": [
       "5614"
      ]
     },
     "execution_count": 22,
     "metadata": {},
     "output_type": "execute_result"
    }
   ],
   "source": [
    "# количество прослушиваний в Санкт-Петербурге по понедельникам\n",
    "number_tracks('Monday', 'Saint-Petersburg')"
   ]
  },
  {
   "cell_type": "code",
   "execution_count": 23,
   "metadata": {
    "id": "_NTy2VPU_Zcu"
   },
   "outputs": [
    {
     "data": {
      "text/plain": [
       "11056"
      ]
     },
     "execution_count": 23,
     "metadata": {},
     "output_type": "execute_result"
    }
   ],
   "source": [
    "# количество прослушиваний в Москве по средам\n",
    "number_tracks('Wednesday', 'Moscow') "
   ]
  },
  {
   "cell_type": "code",
   "execution_count": 24,
   "metadata": {
    "id": "j2y3TAwo_Zcu"
   },
   "outputs": [
    {
     "data": {
      "text/plain": [
       "7003"
      ]
     },
     "execution_count": 24,
     "metadata": {},
     "output_type": "execute_result"
    }
   ],
   "source": [
    "# количество прослушиваний в Санкт-Петербурге по средам\n",
    "number_tracks('Wednesday', 'Saint-Petersburg')"
   ]
  },
  {
   "cell_type": "code",
   "execution_count": 25,
   "metadata": {
    "id": "vYDw5u_K_Zcu",
    "scrolled": true
   },
   "outputs": [
    {
     "data": {
      "text/plain": [
       "15945"
      ]
     },
     "execution_count": 25,
     "metadata": {},
     "output_type": "execute_result"
    }
   ],
   "source": [
    "# количество прослушиваний в Москве по пятницам\n",
    "number_tracks('Friday', 'Moscow') "
   ]
  },
  {
   "cell_type": "code",
   "execution_count": 26,
   "metadata": {
    "id": "8_yzFtW3_Zcu"
   },
   "outputs": [
    {
     "data": {
      "text/plain": [
       "5895"
      ]
     },
     "execution_count": 26,
     "metadata": {},
     "output_type": "execute_result"
    }
   ],
   "source": [
    "# количество прослушиваний в Санкт-Петербурге по пятницам\n",
    "number_tracks('Friday', 'Saint-Petersburg')"
   ]
  },
  {
   "cell_type": "markdown",
   "metadata": {
    "id": "7QXffbO-_Zcu"
   },
   "source": [
    "Создадим сводную таблицу с этими данными."
   ]
  },
  {
   "cell_type": "code",
   "execution_count": 27,
   "metadata": {
    "id": "APAcLpOr_Zcu",
    "scrolled": true
   },
   "outputs": [
    {
     "data": {
      "text/html": [
       "<div>\n",
       "<style scoped>\n",
       "    .dataframe tbody tr th:only-of-type {\n",
       "        vertical-align: middle;\n",
       "    }\n",
       "\n",
       "    .dataframe tbody tr th {\n",
       "        vertical-align: top;\n",
       "    }\n",
       "\n",
       "    .dataframe thead th {\n",
       "        text-align: right;\n",
       "    }\n",
       "</style>\n",
       "<table border=\"1\" class=\"dataframe\">\n",
       "  <thead>\n",
       "    <tr style=\"text-align: right;\">\n",
       "      <th></th>\n",
       "      <th>city</th>\n",
       "      <th>monday</th>\n",
       "      <th>wednesday</th>\n",
       "      <th>friday</th>\n",
       "    </tr>\n",
       "  </thead>\n",
       "  <tbody>\n",
       "    <tr>\n",
       "      <th>0</th>\n",
       "      <td>Москва</td>\n",
       "      <td>15740</td>\n",
       "      <td>11056</td>\n",
       "      <td>15945</td>\n",
       "    </tr>\n",
       "    <tr>\n",
       "      <th>1</th>\n",
       "      <td>Санкт-Петербург</td>\n",
       "      <td>5614</td>\n",
       "      <td>7003</td>\n",
       "      <td>5895</td>\n",
       "    </tr>\n",
       "  </tbody>\n",
       "</table>\n",
       "</div>"
      ],
      "text/plain": [
       "              city  monday  wednesday  friday\n",
       "0           Москва   15740      11056   15945\n",
       "1  Санкт-Петербург    5614       7003    5895"
      ]
     },
     "execution_count": 27,
     "metadata": {},
     "output_type": "execute_result"
    }
   ],
   "source": [
    "data = [\n",
    "    ['Москва', 15740, 11056, 15945],\n",
    "    ['Санкт-Петербург', 5614, 7003, 5895]\n",
    "]\n",
    "columns = ['city', 'monday', 'wednesday', 'friday']\n",
    "number_tracks_by_days = pd.DataFrame(data=data, columns=columns)\n",
    "number_tracks_by_days "
   ]
  },
  {
   "cell_type": "markdown",
   "metadata": {
    "id": "-EgPIHYu_Zcu"
   },
   "source": [
    "**Вывод**\n",
    "\n",
    "Данные показывают разницу поведения пользователей:\n",
    "\n",
    "- В Москве пик прослушиваний приходится на понедельник и пятницу, а в среду заметен спад.\n",
    "- В Петербурге, наоборот, больше слушают музыку по средам. Активность в понедельник и пятницу здесь почти в равной мере уступает среде.\n",
    "\n",
    "Значит, данные говорят в пользу первой гипотезы."
   ]
  },
  {
   "cell_type": "markdown",
   "metadata": {
    "id": "atZAxtq4_Zcu"
   },
   "source": [
    "### Музыка в начале и в конце недели"
   ]
  },
  {
   "cell_type": "markdown",
   "metadata": {
    "id": "eXrQqXFH_Zcu"
   },
   "source": [
    "Согласно второй гипотезе, утром в понедельник в Москве преобладают одни жанры, а в Петербурге — другие. Так же и вечером пятницы преобладают разные жанры — в зависимости от города."
   ]
  },
  {
   "cell_type": "markdown",
   "metadata": {
    "id": "S8UcW6Hw_Zcu"
   },
   "source": [
    "Сохраните таблицы с данными в две переменные:\n",
    "* по Москве — в `moscow_general`;\n",
    "* по Санкт-Петербургу — в `spb_general`."
   ]
  },
  {
   "cell_type": "code",
   "execution_count": 28,
   "metadata": {
    "id": "qeaFfM_P_Zcu"
   },
   "outputs": [],
   "source": [
    "# таблица с данными по Москве\n",
    "moscow_general = df[df['city'] == 'Moscow'] "
   ]
  },
  {
   "cell_type": "code",
   "execution_count": 29,
   "metadata": {
    "id": "ORaVRKto_Zcu"
   },
   "outputs": [],
   "source": [
    "# таблица с данными по Санкт-Петербургу\n",
    "spb_general = df[df['city'] == 'Saint-Petersburg'] "
   ]
  },
  {
   "cell_type": "code",
   "execution_count": 30,
   "metadata": {
    "id": "laJT9BYl_Zcu"
   },
   "outputs": [],
   "source": [
    "# Функция, которая возвращает информацию о топ-10 жанров тех треков, которые прослушивали \n",
    "# в указанный день, в промежутке между двумя отметками времени.\n",
    "def genre_weekday(table, day, time1, time2): \n",
    "    genre_df = table[table['day'] == day]  \n",
    "    genre_df = genre_df[genre_df['time'] > time1] \n",
    "    genre_df = genre_df[genre_df['time'] < time2] \n",
    "    genre_df_count = genre_df.groupby('genre')['user_id'].count() \n",
    "    genre_df_sorted = genre_df_count.sort_values(ascending=False) \n",
    "    return genre_df_sorted.head(10)"
   ]
  },
  {
   "cell_type": "markdown",
   "metadata": {
    "id": "la2s2_PF_Zcu"
   },
   "source": [
    "Cравним результаты функции для Москвы и Санкт-Петербурга в понедельник утром (с 7:00 до 11:00) и в пятницу вечером (с 17:00 до 23:00):"
   ]
  },
  {
   "cell_type": "code",
   "execution_count": 31,
   "metadata": {
    "id": "yz7itPUQ_Zcu",
    "scrolled": true
   },
   "outputs": [
    {
     "data": {
      "text/plain": [
       "genre\n",
       "pop            781\n",
       "dance          549\n",
       "electronic     480\n",
       "rock           474\n",
       "hiphop         286\n",
       "ruspop         186\n",
       "world          181\n",
       "rusrap         175\n",
       "alternative    164\n",
       "unknown        161\n",
       "Name: user_id, dtype: int64"
      ]
     },
     "execution_count": 31,
     "metadata": {},
     "output_type": "execute_result"
    }
   ],
   "source": [
    "genre_weekday(moscow_general, 'Monday', '07:00', '11:00')"
   ]
  },
  {
   "cell_type": "code",
   "execution_count": 32,
   "metadata": {
    "id": "kwUcHPdy_Zcu",
    "scrolled": false
   },
   "outputs": [
    {
     "data": {
      "text/plain": [
       "genre\n",
       "pop            218\n",
       "dance          182\n",
       "rock           162\n",
       "electronic     147\n",
       "hiphop          80\n",
       "ruspop          64\n",
       "alternative     58\n",
       "rusrap          55\n",
       "jazz            44\n",
       "classical       40\n",
       "Name: user_id, dtype: int64"
      ]
     },
     "execution_count": 32,
     "metadata": {},
     "output_type": "execute_result"
    }
   ],
   "source": [
    "genre_weekday(spb_general, 'Monday', '07:00', '11:00')"
   ]
  },
  {
   "cell_type": "code",
   "execution_count": 33,
   "metadata": {
    "id": "EzXVRE1o_Zcu"
   },
   "outputs": [
    {
     "data": {
      "text/plain": [
       "genre\n",
       "pop            713\n",
       "rock           517\n",
       "dance          495\n",
       "electronic     482\n",
       "hiphop         273\n",
       "world          208\n",
       "ruspop         170\n",
       "alternative    163\n",
       "classical      163\n",
       "rusrap         142\n",
       "Name: user_id, dtype: int64"
      ]
     },
     "execution_count": 33,
     "metadata": {},
     "output_type": "execute_result"
    }
   ],
   "source": [
    "genre_weekday(moscow_general, 'Friday', '17:00', '23:00')"
   ]
  },
  {
   "cell_type": "code",
   "execution_count": 34,
   "metadata": {
    "id": "JZaEKu5v_Zcu"
   },
   "outputs": [
    {
     "data": {
      "text/plain": [
       "genre\n",
       "pop            256\n",
       "electronic     216\n",
       "rock           216\n",
       "dance          210\n",
       "hiphop          97\n",
       "alternative     63\n",
       "jazz            61\n",
       "classical       60\n",
       "rusrap          59\n",
       "world           54\n",
       "Name: user_id, dtype: int64"
      ]
     },
     "execution_count": 34,
     "metadata": {},
     "output_type": "execute_result"
    }
   ],
   "source": [
    "genre_weekday(spb_general, 'Friday', '17:00', '23:00')"
   ]
  },
  {
   "cell_type": "markdown",
   "metadata": {
    "id": "wrCe4MNX_Zcu"
   },
   "source": [
    "**Вывод**\n",
    "\n",
    "Если сравнить топ-10 жанров в понедельник утром, можно сделать такие выводы:\n",
    "\n",
    "1. В Москве и Петербурге слушают похожую музыку. Единственное отличие — в московский рейтинг вошёл жанр “world”, а в петербургский — джаз и классика.\n",
    "\n",
    "2. В Москве пропущенных значений оказалось так много, что значение `'unknown'` заняло десятое место среди самых популярных жанров. Значит, пропущенные значения занимают существенную долю в данных и угрожают достоверности исследования.\n",
    "\n",
    "Вечер пятницы не меняет эту картину. Некоторые жанры поднимаются немного выше, другие спускаются, но в целом топ-10 остаётся тем же самым.\n",
    "\n",
    "Таким образом, вторая гипотеза подтвердилась лишь частично:\n",
    "* Пользователи слушают похожую музыку в начале недели и в конце.\n",
    "* Разница между Москвой и Петербургом не слишком выражена. В Москве чаще слушают русскую популярную музыку, в Петербурге — джаз.\n",
    "\n",
    "Однако пропуски в данных ставят под сомнение этот результат. В Москве их так много, что рейтинг топ-10 мог бы выглядеть иначе, если бы не утерянные  данные о жанрах."
   ]
  },
  {
   "cell_type": "markdown",
   "metadata": {
    "id": "JolODAqr_Zcu"
   },
   "source": [
    "### Жанровые предпочтения в Москве и Петербурге"
   ]
  },
  {
   "cell_type": "markdown",
   "metadata": {},
   "source": [
    "Гипотеза: Петербург — столица рэпа, музыку этого жанра там слушают чаще, чем в Москве.  А Москва — город контрастов, в котором, тем не менее, преобладает поп-музыка. Проверим, так ли это."
   ]
  },
  {
   "cell_type": "code",
   "execution_count": 35,
   "metadata": {
    "id": "r19lIPke_Zcu"
   },
   "outputs": [],
   "source": [
    "moscow_genres = moscow_general.groupby('genre')['genre'].count().sort_values(ascending=False) "
   ]
  },
  {
   "cell_type": "code",
   "execution_count": 36,
   "metadata": {
    "id": "WhCSooF8_Zcv",
    "scrolled": true
   },
   "outputs": [
    {
     "data": {
      "text/html": [
       "<div>\n",
       "<style scoped>\n",
       "    .dataframe tbody tr th:only-of-type {\n",
       "        vertical-align: middle;\n",
       "    }\n",
       "\n",
       "    .dataframe tbody tr th {\n",
       "        vertical-align: top;\n",
       "    }\n",
       "\n",
       "    .dataframe thead th {\n",
       "        text-align: right;\n",
       "    }\n",
       "</style>\n",
       "<table border=\"1\" class=\"dataframe\">\n",
       "  <thead>\n",
       "    <tr style=\"text-align: right;\">\n",
       "      <th></th>\n",
       "      <th>genre</th>\n",
       "    </tr>\n",
       "    <tr>\n",
       "      <th>genre</th>\n",
       "      <th></th>\n",
       "    </tr>\n",
       "  </thead>\n",
       "  <tbody>\n",
       "    <tr>\n",
       "      <th>pop</th>\n",
       "      <td>5892</td>\n",
       "    </tr>\n",
       "    <tr>\n",
       "      <th>dance</th>\n",
       "      <td>4435</td>\n",
       "    </tr>\n",
       "    <tr>\n",
       "      <th>rock</th>\n",
       "      <td>3965</td>\n",
       "    </tr>\n",
       "    <tr>\n",
       "      <th>electronic</th>\n",
       "      <td>3786</td>\n",
       "    </tr>\n",
       "    <tr>\n",
       "      <th>hiphop</th>\n",
       "      <td>2096</td>\n",
       "    </tr>\n",
       "    <tr>\n",
       "      <th>classical</th>\n",
       "      <td>1616</td>\n",
       "    </tr>\n",
       "    <tr>\n",
       "      <th>world</th>\n",
       "      <td>1432</td>\n",
       "    </tr>\n",
       "    <tr>\n",
       "      <th>alternative</th>\n",
       "      <td>1379</td>\n",
       "    </tr>\n",
       "    <tr>\n",
       "      <th>ruspop</th>\n",
       "      <td>1372</td>\n",
       "    </tr>\n",
       "    <tr>\n",
       "      <th>rusrap</th>\n",
       "      <td>1161</td>\n",
       "    </tr>\n",
       "  </tbody>\n",
       "</table>\n",
       "</div>"
      ],
      "text/plain": [
       "             genre\n",
       "genre             \n",
       "pop           5892\n",
       "dance         4435\n",
       "rock          3965\n",
       "electronic    3786\n",
       "hiphop        2096\n",
       "classical     1616\n",
       "world         1432\n",
       "alternative   1379\n",
       "ruspop        1372\n",
       "rusrap        1161"
      ]
     },
     "execution_count": 36,
     "metadata": {},
     "output_type": "execute_result"
    }
   ],
   "source": [
    "moscow_genres.to_frame().head(10)"
   ]
  },
  {
   "cell_type": "code",
   "execution_count": 37,
   "metadata": {
    "id": "gluLIpE7_Zcv"
   },
   "outputs": [],
   "source": [
    "spb_genres = spb_general.groupby('genre')['genre'].count().sort_values(ascending=False)"
   ]
  },
  {
   "cell_type": "markdown",
   "metadata": {
    "id": "5Doha_ODgyQ8"
   },
   "source": [
    "Выведите на экран первые десять строк `spb_genres`:"
   ]
  },
  {
   "cell_type": "code",
   "execution_count": 38,
   "metadata": {
    "id": "uaGJHjVU_Zcv",
    "scrolled": true
   },
   "outputs": [
    {
     "data": {
      "text/html": [
       "<div>\n",
       "<style scoped>\n",
       "    .dataframe tbody tr th:only-of-type {\n",
       "        vertical-align: middle;\n",
       "    }\n",
       "\n",
       "    .dataframe tbody tr th {\n",
       "        vertical-align: top;\n",
       "    }\n",
       "\n",
       "    .dataframe thead th {\n",
       "        text-align: right;\n",
       "    }\n",
       "</style>\n",
       "<table border=\"1\" class=\"dataframe\">\n",
       "  <thead>\n",
       "    <tr style=\"text-align: right;\">\n",
       "      <th></th>\n",
       "      <th>genre</th>\n",
       "    </tr>\n",
       "    <tr>\n",
       "      <th>genre</th>\n",
       "      <th></th>\n",
       "    </tr>\n",
       "  </thead>\n",
       "  <tbody>\n",
       "    <tr>\n",
       "      <th>pop</th>\n",
       "      <td>2431</td>\n",
       "    </tr>\n",
       "    <tr>\n",
       "      <th>dance</th>\n",
       "      <td>1932</td>\n",
       "    </tr>\n",
       "    <tr>\n",
       "      <th>rock</th>\n",
       "      <td>1879</td>\n",
       "    </tr>\n",
       "    <tr>\n",
       "      <th>electronic</th>\n",
       "      <td>1736</td>\n",
       "    </tr>\n",
       "    <tr>\n",
       "      <th>hiphop</th>\n",
       "      <td>960</td>\n",
       "    </tr>\n",
       "    <tr>\n",
       "      <th>alternative</th>\n",
       "      <td>649</td>\n",
       "    </tr>\n",
       "    <tr>\n",
       "      <th>classical</th>\n",
       "      <td>646</td>\n",
       "    </tr>\n",
       "    <tr>\n",
       "      <th>rusrap</th>\n",
       "      <td>564</td>\n",
       "    </tr>\n",
       "    <tr>\n",
       "      <th>ruspop</th>\n",
       "      <td>538</td>\n",
       "    </tr>\n",
       "    <tr>\n",
       "      <th>world</th>\n",
       "      <td>515</td>\n",
       "    </tr>\n",
       "  </tbody>\n",
       "</table>\n",
       "</div>"
      ],
      "text/plain": [
       "             genre\n",
       "genre             \n",
       "pop           2431\n",
       "dance         1932\n",
       "rock          1879\n",
       "electronic    1736\n",
       "hiphop         960\n",
       "alternative    649\n",
       "classical      646\n",
       "rusrap         564\n",
       "ruspop         538\n",
       "world          515"
      ]
     },
     "execution_count": 38,
     "metadata": {},
     "output_type": "execute_result"
    }
   ],
   "source": [
    "spb_genres.to_frame().head(10)"
   ]
  },
  {
   "cell_type": "markdown",
   "metadata": {
    "id": "RY51YJYu_Zcv"
   },
   "source": [
    "**Вывод**"
   ]
  },
  {
   "cell_type": "markdown",
   "metadata": {
    "id": "nVhnJEm__Zcv"
   },
   "source": [
    "Гипотеза частично подтвердилась:\n",
    "* Поп-музыка — самый популярный жанр в Москве, как и предполагала гипотеза. Более того, в топ-10 жанров встречается близкий жанр — русская популярная музыка.\n",
    "* Вопреки ожиданиям, рэп одинаково популярен в Москве и Петербурге. \n"
   ]
  },
  {
   "cell_type": "markdown",
   "metadata": {
    "id": "ykKQ0N65_Zcv"
   },
   "source": [
    "<a id=\"it\"></a> \n",
    "## Итоговый вывод"
   ]
  },
  {
   "cell_type": "markdown",
   "metadata": {
    "id": "tjUwbHb3_Zcv"
   },
   "source": [
    "Мы проверили три гипотезы и установили:\n",
    "\n",
    "1. День недели по-разному влияет на активность пользователей в Москве и Петербурге. \n",
    "\n",
    "Первая гипотеза полностью подтвердилась.\n",
    "\n",
    "2. Музыкальные предпочтения не сильно меняются в течение недели — будь то Москва или Петербург. Небольшие различия заметны в начале недели, по понедельникам:\n",
    "* в Москве слушают музыку жанра “world”,\n",
    "* в Петербурге — джаз и классику.\n",
    "\n",
    "Таким образом, вторая гипотеза подтвердилась лишь отчасти. Этот результат мог оказаться иным, если бы не пропуски в данных.\n",
    "\n",
    "3. Во вкусах пользователей Москвы и Петербурга больше общего чем различий. Вопреки ожиданиям, предпочтения жанров в Петербурге напоминают московские.\n",
    "\n",
    "Третья гипотеза не подтвердилась. Если различия в предпочтениях и существуют, на основной массе пользователей они незаметны."
   ]
  },
  {
   "cell_type": "code",
   "execution_count": null,
   "metadata": {},
   "outputs": [],
   "source": []
  }
 ],
 "metadata": {
  "ExecuteTimeLog": [
   {
    "duration": 606,
    "start_time": "2022-01-11T15:36:40.399Z"
   },
   {
    "duration": 115,
    "start_time": "2022-01-11T15:36:44.637Z"
   },
   {
    "duration": 128,
    "start_time": "2022-01-11T15:37:35.405Z"
   },
   {
    "duration": 16,
    "start_time": "2022-01-11T15:37:43.451Z"
   },
   {
    "duration": 9,
    "start_time": "2022-01-11T15:38:01.635Z"
   },
   {
    "duration": 22,
    "start_time": "2022-01-11T15:43:33.028Z"
   },
   {
    "duration": 3,
    "start_time": "2022-01-11T16:01:37.472Z"
   },
   {
    "duration": 17,
    "start_time": "2022-01-11T16:08:38.779Z"
   },
   {
    "duration": 4,
    "start_time": "2022-01-11T16:08:41.662Z"
   },
   {
    "duration": 21,
    "start_time": "2022-01-11T16:10:03.751Z"
   },
   {
    "duration": 15,
    "start_time": "2022-01-11T16:19:07.152Z"
   },
   {
    "duration": 21,
    "start_time": "2022-01-11T16:19:10.760Z"
   },
   {
    "duration": 57,
    "start_time": "2022-01-11T16:21:00.935Z"
   },
   {
    "duration": 64,
    "start_time": "2022-01-11T16:24:06.020Z"
   },
   {
    "duration": 49,
    "start_time": "2022-01-11T16:24:34.072Z"
   },
   {
    "duration": 405,
    "start_time": "2022-01-11T16:30:56.405Z"
   },
   {
    "duration": 109,
    "start_time": "2022-01-11T16:35:47.569Z"
   },
   {
    "duration": 10,
    "start_time": "2022-01-11T16:36:37.334Z"
   },
   {
    "duration": 312,
    "start_time": "2022-01-11T16:48:48.108Z"
   },
   {
    "duration": 374,
    "start_time": "2022-01-11T16:49:38.553Z"
   },
   {
    "duration": 3,
    "start_time": "2022-01-11T16:49:52.098Z"
   },
   {
    "duration": 643,
    "start_time": "2022-01-11T16:49:56.811Z"
   },
   {
    "duration": 3,
    "start_time": "2022-01-11T16:51:14.021Z"
   },
   {
    "duration": 10,
    "start_time": "2022-01-11T16:51:18.764Z"
   },
   {
    "duration": 10,
    "start_time": "2022-01-11T16:51:22.725Z"
   },
   {
    "duration": 8,
    "start_time": "2022-01-11T16:52:01.604Z"
   },
   {
    "duration": 9,
    "start_time": "2022-01-11T16:52:44.069Z"
   },
   {
    "duration": 8,
    "start_time": "2022-01-11T16:52:47.796Z"
   },
   {
    "duration": 355,
    "start_time": "2022-01-12T04:59:17.947Z"
   },
   {
    "duration": 768,
    "start_time": "2022-01-12T05:00:34.414Z"
   },
   {
    "duration": 301,
    "start_time": "2022-01-12T05:00:46.606Z"
   },
   {
    "duration": 4,
    "start_time": "2022-01-12T05:02:34.244Z"
   },
   {
    "duration": 174,
    "start_time": "2022-01-12T05:02:34.251Z"
   },
   {
    "duration": 24,
    "start_time": "2022-01-12T05:02:34.428Z"
   },
   {
    "duration": 69,
    "start_time": "2022-01-12T05:02:34.455Z"
   },
   {
    "duration": 5,
    "start_time": "2022-01-12T05:02:34.527Z"
   },
   {
    "duration": 25,
    "start_time": "2022-01-12T05:02:34.535Z"
   },
   {
    "duration": 5,
    "start_time": "2022-01-12T05:02:34.564Z"
   },
   {
    "duration": 60,
    "start_time": "2022-01-12T05:02:34.572Z"
   },
   {
    "duration": 19,
    "start_time": "2022-01-12T05:02:34.635Z"
   },
   {
    "duration": 27,
    "start_time": "2022-01-12T05:02:34.657Z"
   },
   {
    "duration": 105,
    "start_time": "2022-01-12T05:02:34.687Z"
   },
   {
    "duration": 102,
    "start_time": "2022-01-12T05:02:34.794Z"
   },
   {
    "duration": 83,
    "start_time": "2022-01-12T05:02:34.899Z"
   },
   {
    "duration": 16,
    "start_time": "2022-01-12T05:02:34.985Z"
   },
   {
    "duration": 21,
    "start_time": "2022-01-12T05:02:35.004Z"
   },
   {
    "duration": 16,
    "start_time": "2022-01-12T05:02:35.027Z"
   },
   {
    "duration": 13,
    "start_time": "2022-01-12T05:02:35.045Z"
   },
   {
    "duration": 3,
    "start_time": "2022-01-12T05:02:35.060Z"
   },
   {
    "duration": 4,
    "start_time": "2022-01-12T05:02:35.067Z"
   },
   {
    "duration": 6,
    "start_time": "2022-01-12T05:02:35.074Z"
   },
   {
    "duration": 3,
    "start_time": "2022-01-12T05:02:35.123Z"
   },
   {
    "duration": 5,
    "start_time": "2022-01-12T05:02:35.129Z"
   },
   {
    "duration": 4,
    "start_time": "2022-01-12T05:02:35.137Z"
   },
   {
    "duration": 5,
    "start_time": "2022-01-12T05:02:35.144Z"
   },
   {
    "duration": 5,
    "start_time": "2022-01-12T05:02:35.151Z"
   },
   {
    "duration": 8,
    "start_time": "2022-01-12T05:02:35.159Z"
   },
   {
    "duration": 6,
    "start_time": "2022-01-12T05:02:35.169Z"
   },
   {
    "duration": 6,
    "start_time": "2022-01-12T05:02:35.178Z"
   },
   {
    "duration": 3,
    "start_time": "2022-01-12T05:02:35.223Z"
   },
   {
    "duration": 5,
    "start_time": "2022-01-12T05:02:35.228Z"
   },
   {
    "duration": 8,
    "start_time": "2022-01-12T05:02:35.235Z"
   },
   {
    "duration": 6,
    "start_time": "2022-01-12T05:02:35.245Z"
   },
   {
    "duration": 8,
    "start_time": "2022-01-12T05:02:35.253Z"
   },
   {
    "duration": 5,
    "start_time": "2022-01-12T05:02:35.263Z"
   },
   {
    "duration": 5,
    "start_time": "2022-01-12T05:02:35.270Z"
   },
   {
    "duration": 5,
    "start_time": "2022-01-12T05:02:35.277Z"
   },
   {
    "duration": 2,
    "start_time": "2022-01-12T05:02:35.324Z"
   },
   {
    "duration": 5,
    "start_time": "2022-01-12T05:02:35.328Z"
   },
   {
    "duration": 20,
    "start_time": "2022-01-12T05:02:51.355Z"
   },
   {
    "duration": 29,
    "start_time": "2022-01-12T05:02:53.850Z"
   },
   {
    "duration": 15,
    "start_time": "2022-01-12T05:08:07.280Z"
   },
   {
    "duration": 266,
    "start_time": "2022-01-12T05:10:15.138Z"
   },
   {
    "duration": 16,
    "start_time": "2022-01-12T05:10:38.168Z"
   },
   {
    "duration": 4,
    "start_time": "2022-01-12T05:25:03.101Z"
   },
   {
    "duration": 12,
    "start_time": "2022-01-12T05:25:07.386Z"
   },
   {
    "duration": 14,
    "start_time": "2022-01-12T05:28:01.198Z"
   },
   {
    "duration": 4,
    "start_time": "2022-01-12T05:31:43.936Z"
   },
   {
    "duration": 4,
    "start_time": "2022-01-12T05:31:49.335Z"
   },
   {
    "duration": 11,
    "start_time": "2022-01-12T05:31:54.989Z"
   },
   {
    "duration": 4,
    "start_time": "2022-01-12T05:34:44.069Z"
   },
   {
    "duration": 29,
    "start_time": "2022-01-12T05:44:25.113Z"
   },
   {
    "duration": 4,
    "start_time": "2022-01-12T05:46:34.587Z"
   },
   {
    "duration": 22,
    "start_time": "2022-01-12T05:46:39.148Z"
   },
   {
    "duration": 19,
    "start_time": "2022-01-12T05:50:05.714Z"
   },
   {
    "duration": 17,
    "start_time": "2022-01-12T05:50:08.813Z"
   },
   {
    "duration": 20,
    "start_time": "2022-01-12T05:50:10.205Z"
   },
   {
    "duration": 23,
    "start_time": "2022-01-12T05:50:12.508Z"
   },
   {
    "duration": 20,
    "start_time": "2022-01-12T05:50:16.037Z"
   },
   {
    "duration": 99,
    "start_time": "2022-01-12T06:04:42.724Z"
   },
   {
    "duration": 301,
    "start_time": "2022-01-12T06:05:13.208Z"
   },
   {
    "duration": 12,
    "start_time": "2022-01-12T06:06:49.627Z"
   },
   {
    "duration": 16,
    "start_time": "2022-01-12T06:09:31.753Z"
   },
   {
    "duration": 9,
    "start_time": "2022-01-12T06:10:34.351Z"
   },
   {
    "duration": 11,
    "start_time": "2022-01-12T06:11:58.447Z"
   },
   {
    "duration": 16,
    "start_time": "2022-01-12T06:12:06.980Z"
   },
   {
    "duration": 8,
    "start_time": "2022-01-12T06:12:08.308Z"
   },
   {
    "duration": 6,
    "start_time": "2022-01-12T07:00:03.877Z"
   },
   {
    "duration": 623,
    "start_time": "2022-01-12T07:02:05.276Z"
   },
   {
    "duration": 6,
    "start_time": "2022-01-12T07:12:07.801Z"
   },
   {
    "duration": 565,
    "start_time": "2022-01-12T07:12:10.938Z"
   },
   {
    "duration": 6,
    "start_time": "2022-01-12T07:13:28.140Z"
   },
   {
    "duration": 669,
    "start_time": "2022-01-12T07:13:30.204Z"
   },
   {
    "duration": 6,
    "start_time": "2022-01-12T07:14:15.304Z"
   },
   {
    "duration": 570,
    "start_time": "2022-01-12T07:14:17.615Z"
   },
   {
    "duration": 7,
    "start_time": "2022-01-12T07:14:35.343Z"
   },
   {
    "duration": 24,
    "start_time": "2022-01-12T07:14:39.056Z"
   },
   {
    "duration": 13,
    "start_time": "2022-01-12T07:15:39.951Z"
   },
   {
    "duration": 29,
    "start_time": "2022-01-12T07:16:37.837Z"
   },
   {
    "duration": 18,
    "start_time": "2022-01-12T07:16:52.479Z"
   },
   {
    "duration": 14,
    "start_time": "2022-01-12T07:17:12.259Z"
   },
   {
    "duration": 15,
    "start_time": "2022-01-12T07:17:48.434Z"
   },
   {
    "duration": 26,
    "start_time": "2022-01-12T07:18:27.466Z"
   },
   {
    "duration": 12,
    "start_time": "2022-01-12T07:18:37.873Z"
   },
   {
    "duration": 27,
    "start_time": "2022-01-12T07:18:43.152Z"
   },
   {
    "duration": 19,
    "start_time": "2022-01-12T07:18:47.552Z"
   },
   {
    "duration": 26,
    "start_time": "2022-01-12T07:20:14.102Z"
   },
   {
    "duration": 17,
    "start_time": "2022-01-12T07:21:04.357Z"
   },
   {
    "duration": 12,
    "start_time": "2022-01-12T07:26:46.471Z"
   },
   {
    "duration": 270,
    "start_time": "2022-01-12T07:27:08.076Z"
   },
   {
    "duration": 11,
    "start_time": "2022-01-12T07:27:39.947Z"
   },
   {
    "duration": 309,
    "start_time": "2022-01-12T07:27:42.271Z"
   },
   {
    "duration": 15,
    "start_time": "2022-01-12T07:30:52.630Z"
   },
   {
    "duration": 11,
    "start_time": "2022-01-12T07:31:19.464Z"
   },
   {
    "duration": 7,
    "start_time": "2022-01-12T07:31:29.357Z"
   },
   {
    "duration": 9,
    "start_time": "2022-01-12T07:32:40.789Z"
   },
   {
    "duration": 9,
    "start_time": "2022-01-12T07:33:01.291Z"
   },
   {
    "duration": 7,
    "start_time": "2022-01-12T07:33:04.250Z"
   },
   {
    "duration": 4,
    "start_time": "2022-01-12T07:35:29.103Z"
   },
   {
    "duration": 213,
    "start_time": "2022-01-12T07:35:29.113Z"
   },
   {
    "duration": 15,
    "start_time": "2022-01-12T07:35:29.328Z"
   },
   {
    "duration": 37,
    "start_time": "2022-01-12T07:35:29.346Z"
   },
   {
    "duration": 13,
    "start_time": "2022-01-12T07:35:29.386Z"
   },
   {
    "duration": 44,
    "start_time": "2022-01-12T07:35:29.402Z"
   },
   {
    "duration": 5,
    "start_time": "2022-01-12T07:35:29.449Z"
   },
   {
    "duration": 37,
    "start_time": "2022-01-12T07:35:29.457Z"
   },
   {
    "duration": 43,
    "start_time": "2022-01-12T07:35:29.497Z"
   },
   {
    "duration": 28,
    "start_time": "2022-01-12T07:35:29.544Z"
   },
   {
    "duration": 107,
    "start_time": "2022-01-12T07:35:29.575Z"
   },
   {
    "duration": 103,
    "start_time": "2022-01-12T07:35:29.685Z"
   },
   {
    "duration": 85,
    "start_time": "2022-01-12T07:35:29.791Z"
   },
   {
    "duration": 15,
    "start_time": "2022-01-12T07:35:29.879Z"
   },
   {
    "duration": 4,
    "start_time": "2022-01-12T07:35:29.896Z"
   },
   {
    "duration": 30,
    "start_time": "2022-01-12T07:35:29.902Z"
   },
   {
    "duration": 25,
    "start_time": "2022-01-12T07:35:29.935Z"
   },
   {
    "duration": 13,
    "start_time": "2022-01-12T07:35:29.962Z"
   },
   {
    "duration": 48,
    "start_time": "2022-01-12T07:35:29.977Z"
   },
   {
    "duration": 4,
    "start_time": "2022-01-12T07:35:30.027Z"
   },
   {
    "duration": 34,
    "start_time": "2022-01-12T07:35:30.034Z"
   },
   {
    "duration": 18,
    "start_time": "2022-01-12T07:35:30.070Z"
   },
   {
    "duration": 38,
    "start_time": "2022-01-12T07:35:30.090Z"
   },
   {
    "duration": 18,
    "start_time": "2022-01-12T07:35:30.135Z"
   },
   {
    "duration": 22,
    "start_time": "2022-01-12T07:35:30.156Z"
   },
   {
    "duration": 51,
    "start_time": "2022-01-12T07:35:30.182Z"
   },
   {
    "duration": 13,
    "start_time": "2022-01-12T07:35:30.236Z"
   },
   {
    "duration": 23,
    "start_time": "2022-01-12T07:35:30.252Z"
   },
   {
    "duration": 18,
    "start_time": "2022-01-12T07:35:30.278Z"
   },
   {
    "duration": 29,
    "start_time": "2022-01-12T07:35:30.298Z"
   },
   {
    "duration": 51,
    "start_time": "2022-01-12T07:35:30.330Z"
   },
   {
    "duration": 15,
    "start_time": "2022-01-12T07:35:30.384Z"
   },
   {
    "duration": 22,
    "start_time": "2022-01-12T07:35:30.401Z"
   },
   {
    "duration": 23,
    "start_time": "2022-01-12T07:35:30.425Z"
   },
   {
    "duration": 16,
    "start_time": "2022-01-12T07:35:30.451Z"
   },
   {
    "duration": 11,
    "start_time": "2022-01-12T07:35:30.469Z"
   },
   {
    "duration": 45,
    "start_time": "2022-01-12T07:35:30.482Z"
   },
   {
    "duration": 32,
    "start_time": "2022-01-12T07:35:30.529Z"
   },
   {
    "duration": 11,
    "start_time": "2022-01-12T07:38:48.842Z"
   },
   {
    "duration": 14,
    "start_time": "2022-01-12T07:39:00.586Z"
   },
   {
    "duration": 5,
    "start_time": "2022-01-12T07:39:37.529Z"
   },
   {
    "duration": 14,
    "start_time": "2022-01-12T07:39:40.305Z"
   },
   {
    "duration": 16,
    "start_time": "2022-01-12T07:39:46.808Z"
   },
   {
    "duration": 4,
    "start_time": "2022-01-12T07:40:46.601Z"
   },
   {
    "duration": 20,
    "start_time": "2022-01-12T07:40:49.731Z"
   },
   {
    "duration": 14,
    "start_time": "2022-01-12T07:40:55.648Z"
   },
   {
    "duration": 4,
    "start_time": "2022-01-12T07:41:06.256Z"
   },
   {
    "duration": 185,
    "start_time": "2022-01-12T07:41:06.262Z"
   },
   {
    "duration": 16,
    "start_time": "2022-01-12T07:41:06.450Z"
   },
   {
    "duration": 58,
    "start_time": "2022-01-12T07:41:06.469Z"
   },
   {
    "duration": 9,
    "start_time": "2022-01-12T07:41:06.529Z"
   },
   {
    "duration": 27,
    "start_time": "2022-01-12T07:41:06.540Z"
   },
   {
    "duration": 4,
    "start_time": "2022-01-12T07:41:06.571Z"
   },
   {
    "duration": 60,
    "start_time": "2022-01-12T07:41:06.578Z"
   },
   {
    "duration": 22,
    "start_time": "2022-01-12T07:41:06.641Z"
   },
   {
    "duration": 28,
    "start_time": "2022-01-12T07:41:06.665Z"
   },
   {
    "duration": 99,
    "start_time": "2022-01-12T07:41:06.695Z"
   },
   {
    "duration": 104,
    "start_time": "2022-01-12T07:41:06.796Z"
   },
   {
    "duration": 78,
    "start_time": "2022-01-12T07:41:06.902Z"
   },
   {
    "duration": 14,
    "start_time": "2022-01-12T07:41:06.982Z"
   },
   {
    "duration": 5,
    "start_time": "2022-01-12T07:41:06.998Z"
   },
   {
    "duration": 17,
    "start_time": "2022-01-12T07:41:07.024Z"
   },
   {
    "duration": 12,
    "start_time": "2022-01-12T07:41:07.044Z"
   },
   {
    "duration": 14,
    "start_time": "2022-01-12T07:41:07.059Z"
   },
   {
    "duration": 52,
    "start_time": "2022-01-12T07:41:07.078Z"
   },
   {
    "duration": 4,
    "start_time": "2022-01-12T07:41:07.133Z"
   },
   {
    "duration": 27,
    "start_time": "2022-01-12T07:41:07.139Z"
   },
   {
    "duration": 18,
    "start_time": "2022-01-12T07:41:07.169Z"
   },
   {
    "duration": 47,
    "start_time": "2022-01-12T07:41:07.189Z"
   },
   {
    "duration": 17,
    "start_time": "2022-01-12T07:41:07.238Z"
   },
   {
    "duration": 20,
    "start_time": "2022-01-12T07:41:07.257Z"
   },
   {
    "duration": 51,
    "start_time": "2022-01-12T07:41:07.280Z"
   },
   {
    "duration": 12,
    "start_time": "2022-01-12T07:41:07.333Z"
   },
   {
    "duration": 20,
    "start_time": "2022-01-12T07:41:07.347Z"
   },
   {
    "duration": 13,
    "start_time": "2022-01-12T07:41:07.369Z"
   },
   {
    "duration": 9,
    "start_time": "2022-01-12T07:41:07.384Z"
   },
   {
    "duration": 26,
    "start_time": "2022-01-12T07:41:07.424Z"
   },
   {
    "duration": 16,
    "start_time": "2022-01-12T07:41:07.453Z"
   },
   {
    "duration": 20,
    "start_time": "2022-01-12T07:41:07.472Z"
   },
   {
    "duration": 17,
    "start_time": "2022-01-12T07:41:07.523Z"
   },
   {
    "duration": 12,
    "start_time": "2022-01-12T07:41:07.542Z"
   },
   {
    "duration": 7,
    "start_time": "2022-01-12T07:41:07.556Z"
   },
   {
    "duration": 9,
    "start_time": "2022-01-12T07:41:07.566Z"
   },
   {
    "duration": 46,
    "start_time": "2022-01-12T07:41:07.579Z"
   },
   {
    "duration": 15,
    "start_time": "2022-01-12T07:44:14.510Z"
   },
   {
    "duration": 15,
    "start_time": "2022-01-12T07:44:59.827Z"
   },
   {
    "duration": 4,
    "start_time": "2022-01-12T07:45:22.526Z"
   },
   {
    "duration": 200,
    "start_time": "2022-01-12T07:45:22.538Z"
   },
   {
    "duration": 17,
    "start_time": "2022-01-12T07:45:22.741Z"
   },
   {
    "duration": 67,
    "start_time": "2022-01-12T07:45:22.762Z"
   },
   {
    "duration": 7,
    "start_time": "2022-01-12T07:45:22.832Z"
   },
   {
    "duration": 28,
    "start_time": "2022-01-12T07:45:22.841Z"
   },
   {
    "duration": 7,
    "start_time": "2022-01-12T07:45:22.872Z"
   },
   {
    "duration": 67,
    "start_time": "2022-01-12T07:45:22.882Z"
   },
   {
    "duration": 23,
    "start_time": "2022-01-12T07:45:22.952Z"
   },
   {
    "duration": 45,
    "start_time": "2022-01-12T07:45:22.978Z"
   },
   {
    "duration": 76,
    "start_time": "2022-01-12T07:45:23.026Z"
   },
   {
    "duration": 105,
    "start_time": "2022-01-12T07:45:23.105Z"
   },
   {
    "duration": 77,
    "start_time": "2022-01-12T07:45:23.225Z"
   },
   {
    "duration": 33,
    "start_time": "2022-01-12T07:45:23.305Z"
   },
   {
    "duration": 4,
    "start_time": "2022-01-12T07:45:23.341Z"
   },
   {
    "duration": 20,
    "start_time": "2022-01-12T07:45:23.349Z"
   },
   {
    "duration": 14,
    "start_time": "2022-01-12T07:45:23.371Z"
   },
   {
    "duration": 15,
    "start_time": "2022-01-12T07:45:23.424Z"
   },
   {
    "duration": 14,
    "start_time": "2022-01-12T07:45:23.441Z"
   },
   {
    "duration": 6,
    "start_time": "2022-01-12T07:45:23.458Z"
   },
   {
    "duration": 61,
    "start_time": "2022-01-12T07:45:23.466Z"
   },
   {
    "duration": 18,
    "start_time": "2022-01-12T07:45:23.529Z"
   },
   {
    "duration": 18,
    "start_time": "2022-01-12T07:45:23.549Z"
   },
   {
    "duration": 18,
    "start_time": "2022-01-12T07:45:23.569Z"
   },
   {
    "duration": 47,
    "start_time": "2022-01-12T07:45:23.589Z"
   },
   {
    "duration": 20,
    "start_time": "2022-01-12T07:45:23.639Z"
   },
   {
    "duration": 16,
    "start_time": "2022-01-12T07:45:23.662Z"
   },
   {
    "duration": 50,
    "start_time": "2022-01-12T07:45:23.683Z"
   },
   {
    "duration": 13,
    "start_time": "2022-01-12T07:45:23.735Z"
   },
   {
    "duration": 6,
    "start_time": "2022-01-12T07:45:23.750Z"
   },
   {
    "duration": 30,
    "start_time": "2022-01-12T07:45:23.758Z"
   },
   {
    "duration": 44,
    "start_time": "2022-01-12T07:45:23.790Z"
   },
   {
    "duration": 20,
    "start_time": "2022-01-12T07:45:23.837Z"
   },
   {
    "duration": 16,
    "start_time": "2022-01-12T07:45:23.859Z"
   },
   {
    "duration": 47,
    "start_time": "2022-01-12T07:45:23.877Z"
   },
   {
    "duration": 6,
    "start_time": "2022-01-12T07:45:23.926Z"
   },
   {
    "duration": 11,
    "start_time": "2022-01-12T07:45:23.934Z"
   },
   {
    "duration": 13,
    "start_time": "2022-01-12T07:45:23.947Z"
   },
   {
    "duration": 12,
    "start_time": "2022-01-12T08:01:58.897Z"
   },
   {
    "duration": 7,
    "start_time": "2022-01-12T08:02:02.989Z"
   },
   {
    "duration": 11,
    "start_time": "2022-01-12T08:02:06.206Z"
   },
   {
    "duration": 7,
    "start_time": "2022-01-12T08:02:08.475Z"
   },
   {
    "duration": 8,
    "start_time": "2022-01-12T08:02:23.247Z"
   },
   {
    "duration": 6,
    "start_time": "2022-01-12T08:02:26.652Z"
   },
   {
    "duration": 6,
    "start_time": "2022-01-12T08:02:29.954Z"
   },
   {
    "duration": 5,
    "start_time": "2022-01-12T08:09:45.302Z"
   },
   {
    "duration": 3,
    "start_time": "2022-01-12T08:09:48.614Z"
   },
   {
    "duration": 173,
    "start_time": "2022-01-12T08:09:48.624Z"
   },
   {
    "duration": 33,
    "start_time": "2022-01-12T08:09:48.800Z"
   },
   {
    "duration": 33,
    "start_time": "2022-01-12T08:09:48.836Z"
   },
   {
    "duration": 5,
    "start_time": "2022-01-12T08:09:48.872Z"
   },
   {
    "duration": 65,
    "start_time": "2022-01-12T08:09:48.880Z"
   },
   {
    "duration": 5,
    "start_time": "2022-01-12T08:09:48.948Z"
   },
   {
    "duration": 30,
    "start_time": "2022-01-12T08:09:48.956Z"
   },
   {
    "duration": 50,
    "start_time": "2022-01-12T08:09:48.990Z"
   },
   {
    "duration": 29,
    "start_time": "2022-01-12T08:09:49.043Z"
   },
   {
    "duration": 93,
    "start_time": "2022-01-12T08:09:49.075Z"
   },
   {
    "duration": 95,
    "start_time": "2022-01-12T08:09:49.171Z"
   },
   {
    "duration": 82,
    "start_time": "2022-01-12T08:09:49.268Z"
   },
   {
    "duration": 14,
    "start_time": "2022-01-12T08:09:49.352Z"
   },
   {
    "duration": 3,
    "start_time": "2022-01-12T08:09:49.369Z"
   },
   {
    "duration": 22,
    "start_time": "2022-01-12T08:09:49.375Z"
   },
   {
    "duration": 13,
    "start_time": "2022-01-12T08:09:49.424Z"
   },
   {
    "duration": 14,
    "start_time": "2022-01-12T08:09:49.440Z"
   },
   {
    "duration": 14,
    "start_time": "2022-01-12T08:09:49.456Z"
   },
   {
    "duration": 4,
    "start_time": "2022-01-12T08:09:49.472Z"
   },
   {
    "duration": 60,
    "start_time": "2022-01-12T08:09:49.479Z"
   },
   {
    "duration": 17,
    "start_time": "2022-01-12T08:09:49.541Z"
   },
   {
    "duration": 17,
    "start_time": "2022-01-12T08:09:49.561Z"
   },
   {
    "duration": 45,
    "start_time": "2022-01-12T08:09:49.584Z"
   },
   {
    "duration": 19,
    "start_time": "2022-01-12T08:09:49.632Z"
   },
   {
    "duration": 17,
    "start_time": "2022-01-12T08:09:49.653Z"
   },
   {
    "duration": 51,
    "start_time": "2022-01-12T08:09:49.672Z"
   },
   {
    "duration": 19,
    "start_time": "2022-01-12T08:09:49.726Z"
   },
   {
    "duration": 15,
    "start_time": "2022-01-12T08:09:49.747Z"
   },
   {
    "duration": 6,
    "start_time": "2022-01-12T08:09:49.764Z"
   },
   {
    "duration": 57,
    "start_time": "2022-01-12T08:09:49.773Z"
   },
   {
    "duration": 15,
    "start_time": "2022-01-12T08:09:49.833Z"
   },
   {
    "duration": 21,
    "start_time": "2022-01-12T08:09:49.850Z"
   },
   {
    "duration": 15,
    "start_time": "2022-01-12T08:09:49.873Z"
   },
   {
    "duration": 44,
    "start_time": "2022-01-12T08:09:49.889Z"
   },
   {
    "duration": 6,
    "start_time": "2022-01-12T08:09:49.935Z"
   },
   {
    "duration": 10,
    "start_time": "2022-01-12T08:09:49.943Z"
   },
   {
    "duration": 6,
    "start_time": "2022-01-12T08:09:49.955Z"
   },
   {
    "duration": 4,
    "start_time": "2022-01-12T08:16:14.404Z"
   },
   {
    "duration": 186,
    "start_time": "2022-01-12T08:16:14.410Z"
   },
   {
    "duration": 36,
    "start_time": "2022-01-12T08:16:14.599Z"
   },
   {
    "duration": 39,
    "start_time": "2022-01-12T08:16:14.638Z"
   },
   {
    "duration": 20,
    "start_time": "2022-01-12T08:16:14.680Z"
   },
   {
    "duration": 37,
    "start_time": "2022-01-12T08:16:14.703Z"
   },
   {
    "duration": 6,
    "start_time": "2022-01-12T08:16:14.744Z"
   },
   {
    "duration": 37,
    "start_time": "2022-01-12T08:16:14.753Z"
   },
   {
    "duration": 44,
    "start_time": "2022-01-12T08:16:14.792Z"
   },
   {
    "duration": 29,
    "start_time": "2022-01-12T08:16:14.838Z"
   },
   {
    "duration": 99,
    "start_time": "2022-01-12T08:16:14.869Z"
   },
   {
    "duration": 99,
    "start_time": "2022-01-12T08:16:14.971Z"
   },
   {
    "duration": 103,
    "start_time": "2022-01-12T08:16:15.074Z"
   },
   {
    "duration": 13,
    "start_time": "2022-01-12T08:16:15.179Z"
   },
   {
    "duration": 3,
    "start_time": "2022-01-12T08:16:15.195Z"
   },
   {
    "duration": 16,
    "start_time": "2022-01-12T08:16:15.223Z"
   },
   {
    "duration": 16,
    "start_time": "2022-01-12T08:16:15.242Z"
   },
   {
    "duration": 16,
    "start_time": "2022-01-12T08:16:15.261Z"
   },
   {
    "duration": 50,
    "start_time": "2022-01-12T08:16:15.281Z"
   },
   {
    "duration": 9,
    "start_time": "2022-01-12T08:16:15.334Z"
   },
   {
    "duration": 26,
    "start_time": "2022-01-12T08:16:15.345Z"
   },
   {
    "duration": 20,
    "start_time": "2022-01-12T08:16:15.373Z"
   },
   {
    "duration": 20,
    "start_time": "2022-01-12T08:16:15.423Z"
   },
   {
    "duration": 18,
    "start_time": "2022-01-12T08:16:15.446Z"
   },
   {
    "duration": 20,
    "start_time": "2022-01-12T08:16:15.466Z"
   },
   {
    "duration": 51,
    "start_time": "2022-01-12T08:16:15.488Z"
   },
   {
    "duration": 12,
    "start_time": "2022-01-12T08:16:15.541Z"
   },
   {
    "duration": 20,
    "start_time": "2022-01-12T08:16:15.556Z"
   },
   {
    "duration": 46,
    "start_time": "2022-01-12T08:16:15.578Z"
   },
   {
    "duration": 5,
    "start_time": "2022-01-12T08:16:15.626Z"
   },
   {
    "duration": 39,
    "start_time": "2022-01-12T08:16:15.633Z"
   },
   {
    "duration": 16,
    "start_time": "2022-01-12T08:16:15.674Z"
   },
   {
    "duration": 43,
    "start_time": "2022-01-12T08:16:15.693Z"
   },
   {
    "duration": 17,
    "start_time": "2022-01-12T08:16:15.739Z"
   },
   {
    "duration": 14,
    "start_time": "2022-01-12T08:16:15.759Z"
   },
   {
    "duration": 8,
    "start_time": "2022-01-12T08:16:15.775Z"
   },
   {
    "duration": 7,
    "start_time": "2022-01-12T08:16:15.823Z"
   },
   {
    "duration": 10,
    "start_time": "2022-01-12T08:16:15.832Z"
   },
   {
    "duration": 5,
    "start_time": "2022-01-12T08:19:43.311Z"
   },
   {
    "duration": 23,
    "start_time": "2022-01-12T08:19:46.389Z"
   },
   {
    "duration": 4,
    "start_time": "2022-01-12T08:19:49.485Z"
   },
   {
    "duration": 188,
    "start_time": "2022-01-12T08:19:49.491Z"
   },
   {
    "duration": 16,
    "start_time": "2022-01-12T08:19:49.682Z"
   },
   {
    "duration": 30,
    "start_time": "2022-01-12T08:19:49.725Z"
   },
   {
    "duration": 5,
    "start_time": "2022-01-12T08:19:49.758Z"
   },
   {
    "duration": 30,
    "start_time": "2022-01-12T08:19:49.765Z"
   },
   {
    "duration": 5,
    "start_time": "2022-01-12T08:19:49.825Z"
   },
   {
    "duration": 30,
    "start_time": "2022-01-12T08:19:49.833Z"
   },
   {
    "duration": 24,
    "start_time": "2022-01-12T08:19:49.866Z"
   },
   {
    "duration": 30,
    "start_time": "2022-01-12T08:19:49.923Z"
   },
   {
    "duration": 98,
    "start_time": "2022-01-12T08:19:49.956Z"
   },
   {
    "duration": 143,
    "start_time": "2022-01-12T08:19:50.057Z"
   },
   {
    "duration": 85,
    "start_time": "2022-01-12T08:19:50.203Z"
   },
   {
    "duration": 16,
    "start_time": "2022-01-12T08:19:50.291Z"
   },
   {
    "duration": 5,
    "start_time": "2022-01-12T08:19:50.323Z"
   },
   {
    "duration": 20,
    "start_time": "2022-01-12T08:19:50.331Z"
   },
   {
    "duration": 13,
    "start_time": "2022-01-12T08:19:50.354Z"
   },
   {
    "duration": 14,
    "start_time": "2022-01-12T08:19:50.369Z"
   },
   {
    "duration": 15,
    "start_time": "2022-01-12T08:19:50.426Z"
   },
   {
    "duration": 5,
    "start_time": "2022-01-12T08:19:50.444Z"
   },
   {
    "duration": 28,
    "start_time": "2022-01-12T08:19:50.452Z"
   },
   {
    "duration": 42,
    "start_time": "2022-01-12T08:19:50.483Z"
   },
   {
    "duration": 18,
    "start_time": "2022-01-12T08:19:50.528Z"
   },
   {
    "duration": 18,
    "start_time": "2022-01-12T08:19:50.549Z"
   },
   {
    "duration": 64,
    "start_time": "2022-01-12T08:19:50.570Z"
   },
   {
    "duration": 21,
    "start_time": "2022-01-12T08:19:50.637Z"
   },
   {
    "duration": 13,
    "start_time": "2022-01-12T08:19:50.661Z"
   },
   {
    "duration": 53,
    "start_time": "2022-01-12T08:19:50.677Z"
   },
   {
    "duration": 15,
    "start_time": "2022-01-12T08:19:50.732Z"
   },
   {
    "duration": 7,
    "start_time": "2022-01-12T08:19:50.750Z"
   },
   {
    "duration": 37,
    "start_time": "2022-01-12T08:19:50.760Z"
   },
   {
    "duration": 19,
    "start_time": "2022-01-12T08:19:50.824Z"
   },
   {
    "duration": 23,
    "start_time": "2022-01-12T08:19:50.846Z"
   },
   {
    "duration": 59,
    "start_time": "2022-01-12T08:19:50.872Z"
   },
   {
    "duration": 14,
    "start_time": "2022-01-12T08:19:50.933Z"
   },
   {
    "duration": 7,
    "start_time": "2022-01-12T08:19:50.949Z"
   },
   {
    "duration": 12,
    "start_time": "2022-01-12T08:19:50.958Z"
   },
   {
    "duration": 6,
    "start_time": "2022-01-12T08:19:50.973Z"
   },
   {
    "duration": 5,
    "start_time": "2022-01-12T08:20:13.381Z"
   },
   {
    "duration": 21,
    "start_time": "2022-01-12T08:20:16.049Z"
   },
   {
    "duration": 4,
    "start_time": "2022-01-12T08:21:27.364Z"
   },
   {
    "duration": 186,
    "start_time": "2022-01-12T08:21:27.371Z"
   },
   {
    "duration": 16,
    "start_time": "2022-01-12T08:21:27.560Z"
   },
   {
    "duration": 57,
    "start_time": "2022-01-12T08:21:27.579Z"
   },
   {
    "duration": 6,
    "start_time": "2022-01-12T08:21:27.639Z"
   },
   {
    "duration": 31,
    "start_time": "2022-01-12T08:21:27.647Z"
   },
   {
    "duration": 5,
    "start_time": "2022-01-12T08:21:27.683Z"
   },
   {
    "duration": 62,
    "start_time": "2022-01-12T08:21:27.690Z"
   },
   {
    "duration": 22,
    "start_time": "2022-01-12T08:21:27.755Z"
   },
   {
    "duration": 53,
    "start_time": "2022-01-12T08:21:27.779Z"
   },
   {
    "duration": 96,
    "start_time": "2022-01-12T08:21:27.834Z"
   },
   {
    "duration": 110,
    "start_time": "2022-01-12T08:21:27.933Z"
   },
   {
    "duration": 94,
    "start_time": "2022-01-12T08:21:28.045Z"
   },
   {
    "duration": 16,
    "start_time": "2022-01-12T08:21:28.142Z"
   },
   {
    "duration": 4,
    "start_time": "2022-01-12T08:21:28.160Z"
   },
   {
    "duration": 28,
    "start_time": "2022-01-12T08:21:28.168Z"
   },
   {
    "duration": 36,
    "start_time": "2022-01-12T08:21:28.200Z"
   },
   {
    "duration": 14,
    "start_time": "2022-01-12T08:21:28.238Z"
   },
   {
    "duration": 14,
    "start_time": "2022-01-12T08:21:28.257Z"
   },
   {
    "duration": 4,
    "start_time": "2022-01-12T08:21:28.274Z"
   },
   {
    "duration": 71,
    "start_time": "2022-01-12T08:21:28.281Z"
   },
   {
    "duration": 19,
    "start_time": "2022-01-12T08:21:28.354Z"
   },
   {
    "duration": 48,
    "start_time": "2022-01-12T08:21:28.375Z"
   },
   {
    "duration": 20,
    "start_time": "2022-01-12T08:21:28.426Z"
   },
   {
    "duration": 24,
    "start_time": "2022-01-12T08:21:28.450Z"
   },
   {
    "duration": 56,
    "start_time": "2022-01-12T08:21:28.477Z"
   },
   {
    "duration": 16,
    "start_time": "2022-01-12T08:21:28.537Z"
   },
   {
    "duration": 19,
    "start_time": "2022-01-12T08:21:28.555Z"
   },
   {
    "duration": 50,
    "start_time": "2022-01-12T08:21:28.577Z"
   },
   {
    "duration": 6,
    "start_time": "2022-01-12T08:21:28.629Z"
   },
   {
    "duration": 30,
    "start_time": "2022-01-12T08:21:28.638Z"
   },
   {
    "duration": 18,
    "start_time": "2022-01-12T08:21:28.671Z"
   },
   {
    "duration": 47,
    "start_time": "2022-01-12T08:21:28.692Z"
   },
   {
    "duration": 17,
    "start_time": "2022-01-12T08:21:28.742Z"
   },
   {
    "duration": 11,
    "start_time": "2022-01-12T08:21:28.762Z"
   },
   {
    "duration": 7,
    "start_time": "2022-01-12T08:21:28.776Z"
   },
   {
    "duration": 55,
    "start_time": "2022-01-12T08:21:28.825Z"
   },
   {
    "duration": 142,
    "start_time": "2022-01-12T08:21:28.883Z"
   },
   {
    "duration": 765,
    "start_time": "2022-01-13T16:53:00.915Z"
   },
   {
    "duration": 203,
    "start_time": "2022-01-13T16:53:01.683Z"
   },
   {
    "duration": 27,
    "start_time": "2022-01-13T16:53:01.890Z"
   },
   {
    "duration": 50,
    "start_time": "2022-01-13T16:53:01.920Z"
   },
   {
    "duration": 5,
    "start_time": "2022-01-13T16:53:01.973Z"
   },
   {
    "duration": 40,
    "start_time": "2022-01-13T16:53:01.981Z"
   },
   {
    "duration": 6,
    "start_time": "2022-01-13T16:53:02.024Z"
   },
   {
    "duration": 57,
    "start_time": "2022-01-13T16:53:02.032Z"
   },
   {
    "duration": 34,
    "start_time": "2022-01-13T16:53:02.093Z"
   },
   {
    "duration": 41,
    "start_time": "2022-01-13T16:53:02.130Z"
   },
   {
    "duration": 102,
    "start_time": "2022-01-13T16:53:02.173Z"
   },
   {
    "duration": 117,
    "start_time": "2022-01-13T16:53:02.277Z"
   },
   {
    "duration": 88,
    "start_time": "2022-01-13T16:53:02.396Z"
   },
   {
    "duration": 14,
    "start_time": "2022-01-13T16:53:02.486Z"
   },
   {
    "duration": 16,
    "start_time": "2022-01-13T16:53:02.502Z"
   },
   {
    "duration": 24,
    "start_time": "2022-01-13T16:53:02.520Z"
   },
   {
    "duration": 27,
    "start_time": "2022-01-13T16:53:02.546Z"
   },
   {
    "duration": 15,
    "start_time": "2022-01-13T16:53:02.575Z"
   },
   {
    "duration": 16,
    "start_time": "2022-01-13T16:53:02.593Z"
   },
   {
    "duration": 5,
    "start_time": "2022-01-13T16:53:02.611Z"
   },
   {
    "duration": 60,
    "start_time": "2022-01-13T16:53:02.618Z"
   },
   {
    "duration": 19,
    "start_time": "2022-01-13T16:53:02.681Z"
   },
   {
    "duration": 19,
    "start_time": "2022-01-13T16:53:02.702Z"
   },
   {
    "duration": 51,
    "start_time": "2022-01-13T16:53:02.723Z"
   },
   {
    "duration": 21,
    "start_time": "2022-01-13T16:53:02.777Z"
   },
   {
    "duration": 20,
    "start_time": "2022-01-13T16:53:02.800Z"
   },
   {
    "duration": 42,
    "start_time": "2022-01-13T16:53:02.825Z"
   },
   {
    "duration": 18,
    "start_time": "2022-01-13T16:53:02.870Z"
   },
   {
    "duration": 13,
    "start_time": "2022-01-13T16:53:02.891Z"
   },
   {
    "duration": 5,
    "start_time": "2022-01-13T16:53:02.907Z"
   },
   {
    "duration": 65,
    "start_time": "2022-01-13T16:53:02.914Z"
   },
   {
    "duration": 21,
    "start_time": "2022-01-13T16:53:02.982Z"
   },
   {
    "duration": 27,
    "start_time": "2022-01-13T16:53:03.005Z"
   },
   {
    "duration": 19,
    "start_time": "2022-01-13T16:53:03.063Z"
   },
   {
    "duration": 12,
    "start_time": "2022-01-13T16:53:03.084Z"
   },
   {
    "duration": 6,
    "start_time": "2022-01-13T16:53:03.098Z"
   },
   {
    "duration": 9,
    "start_time": "2022-01-13T16:53:03.107Z"
   },
   {
    "duration": 48,
    "start_time": "2022-01-13T16:53:03.119Z"
   },
   {
    "duration": 15,
    "start_time": "2022-01-13T16:53:34.459Z"
   },
   {
    "duration": 25,
    "start_time": "2022-01-13T16:55:48.947Z"
   },
   {
    "duration": 9,
    "start_time": "2022-01-13T16:56:32.400Z"
   },
   {
    "duration": 419,
    "start_time": "2022-06-22T14:19:13.115Z"
   },
   {
    "duration": 3,
    "start_time": "2022-06-22T14:20:25.684Z"
   },
   {
    "duration": 265,
    "start_time": "2022-06-22T14:20:25.690Z"
   },
   {
    "duration": 195,
    "start_time": "2022-06-22T14:20:27.943Z"
   },
   {
    "duration": 19,
    "start_time": "2022-06-22T14:20:29.372Z"
   },
   {
    "duration": 50,
    "start_time": "2022-06-22T14:20:50.019Z"
   },
   {
    "duration": 4,
    "start_time": "2022-06-22T14:23:40.730Z"
   },
   {
    "duration": 10,
    "start_time": "2022-06-22T14:23:56.471Z"
   },
   {
    "duration": 4,
    "start_time": "2022-06-22T14:24:08.492Z"
   },
   {
    "duration": 4,
    "start_time": "2022-06-22T14:24:10.687Z"
   },
   {
    "duration": 32,
    "start_time": "2022-06-22T14:24:28.226Z"
   },
   {
    "duration": 18,
    "start_time": "2022-06-22T14:25:05.404Z"
   },
   {
    "duration": 28,
    "start_time": "2022-06-22T14:25:19.994Z"
   },
   {
    "duration": 96,
    "start_time": "2022-06-22T14:25:34.533Z"
   },
   {
    "duration": 87,
    "start_time": "2022-06-22T14:25:44.970Z"
   },
   {
    "duration": 57,
    "start_time": "2022-06-22T14:25:52.763Z"
   },
   {
    "duration": 9,
    "start_time": "2022-06-22T14:26:43.887Z"
   },
   {
    "duration": 3,
    "start_time": "2022-06-22T14:28:06.258Z"
   },
   {
    "duration": 10,
    "start_time": "2022-06-22T14:28:17.198Z"
   },
   {
    "duration": 3,
    "start_time": "2022-06-22T14:28:48.117Z"
   },
   {
    "duration": 9,
    "start_time": "2022-06-22T14:28:48.600Z"
   },
   {
    "duration": 11,
    "start_time": "2022-06-22T14:28:49.733Z"
   },
   {
    "duration": 12,
    "start_time": "2022-06-22T14:29:55.286Z"
   },
   {
    "duration": 12,
    "start_time": "2022-06-22T14:30:23.667Z"
   },
   {
    "duration": 17,
    "start_time": "2022-06-22T14:30:43.630Z"
   },
   {
    "duration": 3,
    "start_time": "2022-06-22T14:31:45.190Z"
   },
   {
    "duration": 18,
    "start_time": "2022-06-22T14:32:10.720Z"
   },
   {
    "duration": 18,
    "start_time": "2022-06-22T14:32:52.493Z"
   },
   {
    "duration": 17,
    "start_time": "2022-06-22T14:32:52.956Z"
   },
   {
    "duration": 16,
    "start_time": "2022-06-22T14:32:53.381Z"
   },
   {
    "duration": 16,
    "start_time": "2022-06-22T14:33:10.095Z"
   },
   {
    "duration": 19,
    "start_time": "2022-06-22T14:33:22.380Z"
   },
   {
    "duration": 16,
    "start_time": "2022-06-22T14:33:38.729Z"
   },
   {
    "duration": 9,
    "start_time": "2022-06-22T14:34:26.037Z"
   },
   {
    "duration": 11,
    "start_time": "2022-06-22T14:36:38.728Z"
   },
   {
    "duration": 9,
    "start_time": "2022-06-22T14:36:57.769Z"
   },
   {
    "duration": 4,
    "start_time": "2022-06-22T14:38:17.465Z"
   },
   {
    "duration": 18,
    "start_time": "2022-06-22T14:38:43.059Z"
   },
   {
    "duration": 13,
    "start_time": "2022-06-22T14:38:56.919Z"
   },
   {
    "duration": 16,
    "start_time": "2022-06-22T14:39:03.639Z"
   },
   {
    "duration": 13,
    "start_time": "2022-06-22T14:39:11.780Z"
   },
   {
    "duration": 9,
    "start_time": "2022-06-22T14:40:19.478Z"
   },
   {
    "duration": 6,
    "start_time": "2022-06-22T14:40:29.608Z"
   },
   {
    "duration": 6,
    "start_time": "2022-06-22T14:40:43.698Z"
   },
   {
    "duration": 6,
    "start_time": "2022-06-22T14:41:08.353Z"
   },
   {
    "duration": 6,
    "start_time": "2022-06-22T14:41:25.715Z"
   },
   {
    "duration": 375,
    "start_time": "2022-06-22T14:42:42.384Z"
   },
   {
    "duration": 169,
    "start_time": "2022-06-22T14:42:42.761Z"
   },
   {
    "duration": 20,
    "start_time": "2022-06-22T14:42:42.933Z"
   },
   {
    "duration": 31,
    "start_time": "2022-06-22T14:42:42.955Z"
   },
   {
    "duration": 4,
    "start_time": "2022-06-22T14:42:42.988Z"
   },
   {
    "duration": 32,
    "start_time": "2022-06-22T14:42:42.994Z"
   },
   {
    "duration": 5,
    "start_time": "2022-06-22T14:42:43.028Z"
   },
   {
    "duration": 33,
    "start_time": "2022-06-22T14:42:43.035Z"
   },
   {
    "duration": 20,
    "start_time": "2022-06-22T14:42:43.070Z"
   },
   {
    "duration": 40,
    "start_time": "2022-06-22T14:42:43.093Z"
   },
   {
    "duration": 72,
    "start_time": "2022-06-22T14:42:43.134Z"
   },
   {
    "duration": 92,
    "start_time": "2022-06-22T14:42:43.208Z"
   },
   {
    "duration": 74,
    "start_time": "2022-06-22T14:42:43.302Z"
   },
   {
    "duration": 10,
    "start_time": "2022-06-22T14:42:43.378Z"
   },
   {
    "duration": 2,
    "start_time": "2022-06-22T14:42:43.390Z"
   },
   {
    "duration": 17,
    "start_time": "2022-06-22T14:42:43.394Z"
   },
   {
    "duration": 27,
    "start_time": "2022-06-22T14:42:43.413Z"
   },
   {
    "duration": 22,
    "start_time": "2022-06-22T14:42:43.442Z"
   },
   {
    "duration": 15,
    "start_time": "2022-06-22T14:42:43.466Z"
   },
   {
    "duration": 3,
    "start_time": "2022-06-22T14:42:43.482Z"
   },
   {
    "duration": 23,
    "start_time": "2022-06-22T14:42:43.486Z"
   },
   {
    "duration": 28,
    "start_time": "2022-06-22T14:42:43.511Z"
   },
   {
    "duration": 13,
    "start_time": "2022-06-22T14:42:43.541Z"
   },
   {
    "duration": 12,
    "start_time": "2022-06-22T14:42:43.556Z"
   },
   {
    "duration": 16,
    "start_time": "2022-06-22T14:42:43.569Z"
   },
   {
    "duration": 46,
    "start_time": "2022-06-22T14:42:43.586Z"
   },
   {
    "duration": 9,
    "start_time": "2022-06-22T14:42:43.633Z"
   },
   {
    "duration": 14,
    "start_time": "2022-06-22T14:42:43.645Z"
   },
   {
    "duration": 9,
    "start_time": "2022-06-22T14:42:43.661Z"
   },
   {
    "duration": 10,
    "start_time": "2022-06-22T14:42:43.671Z"
   },
   {
    "duration": 32,
    "start_time": "2022-06-22T14:42:43.682Z"
   },
   {
    "duration": 20,
    "start_time": "2022-06-22T14:42:43.716Z"
   },
   {
    "duration": 18,
    "start_time": "2022-06-22T14:42:43.737Z"
   },
   {
    "duration": 13,
    "start_time": "2022-06-22T14:42:43.756Z"
   },
   {
    "duration": 12,
    "start_time": "2022-06-22T14:42:43.770Z"
   },
   {
    "duration": 9,
    "start_time": "2022-06-22T14:42:43.784Z"
   },
   {
    "duration": 48,
    "start_time": "2022-06-22T14:42:43.795Z"
   },
   {
    "duration": 13,
    "start_time": "2022-06-22T14:42:43.845Z"
   },
   {
    "duration": 390,
    "start_time": "2022-06-22T14:49:36.373Z"
   },
   {
    "duration": 171,
    "start_time": "2022-06-22T14:49:36.765Z"
   },
   {
    "duration": 22,
    "start_time": "2022-06-22T14:49:36.938Z"
   },
   {
    "duration": 46,
    "start_time": "2022-06-22T14:49:36.962Z"
   },
   {
    "duration": 23,
    "start_time": "2022-06-22T14:49:37.010Z"
   },
   {
    "duration": 23,
    "start_time": "2022-06-22T14:49:37.035Z"
   },
   {
    "duration": 18,
    "start_time": "2022-06-22T14:49:37.060Z"
   },
   {
    "duration": 34,
    "start_time": "2022-06-22T14:49:37.080Z"
   },
   {
    "duration": 27,
    "start_time": "2022-06-22T14:49:37.116Z"
   },
   {
    "duration": 27,
    "start_time": "2022-06-22T14:49:37.145Z"
   },
   {
    "duration": 78,
    "start_time": "2022-06-22T14:49:37.174Z"
   },
   {
    "duration": 92,
    "start_time": "2022-06-22T14:49:37.253Z"
   },
   {
    "duration": 69,
    "start_time": "2022-06-22T14:49:37.347Z"
   },
   {
    "duration": 19,
    "start_time": "2022-06-22T14:49:37.417Z"
   },
   {
    "duration": 16,
    "start_time": "2022-06-22T14:49:37.437Z"
   },
   {
    "duration": 26,
    "start_time": "2022-06-22T14:49:37.455Z"
   },
   {
    "duration": 33,
    "start_time": "2022-06-22T14:49:37.484Z"
   },
   {
    "duration": 25,
    "start_time": "2022-06-22T14:49:37.519Z"
   },
   {
    "duration": 16,
    "start_time": "2022-06-22T14:49:37.546Z"
   },
   {
    "duration": 3,
    "start_time": "2022-06-22T14:49:37.564Z"
   },
   {
    "duration": 24,
    "start_time": "2022-06-22T14:49:37.568Z"
   },
   {
    "duration": 39,
    "start_time": "2022-06-22T14:49:37.594Z"
   },
   {
    "duration": 19,
    "start_time": "2022-06-22T14:49:37.635Z"
   },
   {
    "duration": 23,
    "start_time": "2022-06-22T14:49:37.656Z"
   },
   {
    "duration": 18,
    "start_time": "2022-06-22T14:49:37.680Z"
   },
   {
    "duration": 36,
    "start_time": "2022-06-22T14:49:37.699Z"
   },
   {
    "duration": 12,
    "start_time": "2022-06-22T14:49:37.737Z"
   },
   {
    "duration": 19,
    "start_time": "2022-06-22T14:49:37.753Z"
   },
   {
    "duration": 15,
    "start_time": "2022-06-22T14:49:37.774Z"
   },
   {
    "duration": 6,
    "start_time": "2022-06-22T14:49:37.791Z"
   },
   {
    "duration": 31,
    "start_time": "2022-06-22T14:49:37.799Z"
   },
   {
    "duration": 13,
    "start_time": "2022-06-22T14:49:37.832Z"
   },
   {
    "duration": 21,
    "start_time": "2022-06-22T14:49:37.846Z"
   },
   {
    "duration": 13,
    "start_time": "2022-06-22T14:49:37.869Z"
   },
   {
    "duration": 20,
    "start_time": "2022-06-22T14:49:37.883Z"
   },
   {
    "duration": 22,
    "start_time": "2022-06-22T14:49:37.905Z"
   },
   {
    "duration": 18,
    "start_time": "2022-06-22T14:49:37.929Z"
   },
   {
    "duration": 13,
    "start_time": "2022-06-22T14:49:37.948Z"
   }
  ],
  "colab": {
   "collapsed_sections": [
    "E0vqbgi9ay0H",
    "VUC88oWjTJw2"
   ],
   "name": "yandex_music_project_2021.2.ipynb",
   "provenance": []
  },
  "kernelspec": {
   "display_name": "Python 3 (ipykernel)",
   "language": "python",
   "name": "python3"
  },
  "language_info": {
   "codemirror_mode": {
    "name": "ipython",
    "version": 3
   },
   "file_extension": ".py",
   "mimetype": "text/x-python",
   "name": "python",
   "nbconvert_exporter": "python",
   "pygments_lexer": "ipython3",
   "version": "3.9.5"
  },
  "toc": {
   "base_numbering": 1,
   "nav_menu": {},
   "number_sections": true,
   "sideBar": true,
   "skip_h1_title": true,
   "title_cell": "Table of Contents",
   "title_sidebar": "Contents",
   "toc_cell": false,
   "toc_position": {
    "height": "calc(100% - 180px)",
    "left": "10px",
    "top": "150px",
    "width": "256px"
   },
   "toc_section_display": true,
   "toc_window_display": false
  }
 },
 "nbformat": 4,
 "nbformat_minor": 1
}
