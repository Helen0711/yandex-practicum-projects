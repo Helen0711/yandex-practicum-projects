{
 "cells": [
  {
   "cell_type": "markdown",
   "metadata": {},
   "source": [
    "# Проект \"Принятие решений в бизнесе\""
   ]
  },
  {
   "cell_type": "markdown",
   "metadata": {},
   "source": [
    "**Содержание**\n",
    "1. [Описание проекта](#start)\n",
    "2. [Приоритизация гипотез](#prior)\n",
    "3. [Анализ А/В теста](#analize)\n",
    "4. [Проверка гипотез](#hip)    \n",
    "5. [Общий вывод](#end)    "
   ]
  },
  {
   "cell_type": "markdown",
   "metadata": {},
   "source": [
    "<a id=\"start\"></a>\n",
    "## Описание проекта"
   ]
  },
  {
   "cell_type": "markdown",
   "metadata": {},
   "source": [
    "Вы — аналитик крупного интернет-магазина. Вместе с отделом маркетинга вы подготовили список гипотез для увеличения выручки.\n",
    "Цели проекта:\n",
    "- Приоритизировать гипотезы\n",
    "- Проанализировать А/В тест\n",
    "\n",
    "Итак, проект будет состоять из 2 частей. В **первой** части нужно будет приоритизировать гипотезы. Будет дан список из 9 гипотез с уже рассчитанными для каждой гипотезы параметрами. Задача состоит в применении фреймворков ICE и RICE и анализе и сравнении результатов.\\\n",
    "**Вторая** часть - это А/В тест и его анализ. Будут даны 2 таблицы с результатами теста. Необходимо сделать предобработку данных, построить нужные графики для анализа, проанализировать выбросы и провести статистический тест с \"сырыми\" и \"очищенными данными\". По результатам теста принять решение и объяснить его."
   ]
  },
  {
   "cell_type": "markdown",
   "metadata": {},
   "source": [
    "<a id=\"prior\"></a>\n",
    "## Приоритизация гипотез"
   ]
  },
  {
   "cell_type": "markdown",
   "metadata": {},
   "source": [
    "Гипотезы приоритизируют для того, чтобы максимизировать ожидаемое улучшение ключевых метрик бизнеса. Мы будем использовать в проекте одни из самых популярных методов приоритизации гипотез: ICE и RICE. У каждой гипотезы есть 4 параметра, каждому из которых ставят оценку по шкале от 1 до 10: **Reach(обхват), Impact(степень удовлетворения от продукта), Confidence(Уверенность, что это изменение повлияет на пользователей именно так),Efforts(стоимость тестирования гипотезы).** И по этим параметрам рассчитываются ICE и RICE.   "
   ]
  },
  {
   "cell_type": "code",
   "execution_count": 1,
   "metadata": {},
   "outputs": [],
   "source": [
    "import pandas as pd\n",
    "import datetime as dt\n",
    "import numpy as np\n",
    "import matplotlib.pyplot as plt\n",
    "from scipy import stats as st\n",
    "import warnings\n",
    "warnings.filterwarnings(\"ignore\")\n",
    "pd.options.display.max_colwidth = 400"
   ]
  },
  {
   "cell_type": "markdown",
   "metadata": {},
   "source": [
    "Посмотрим на данные."
   ]
  },
  {
   "cell_type": "code",
   "execution_count": 2,
   "metadata": {
    "scrolled": true
   },
   "outputs": [
    {
     "data": {
      "text/html": [
       "<div>\n",
       "<style scoped>\n",
       "    .dataframe tbody tr th:only-of-type {\n",
       "        vertical-align: middle;\n",
       "    }\n",
       "\n",
       "    .dataframe tbody tr th {\n",
       "        vertical-align: top;\n",
       "    }\n",
       "\n",
       "    .dataframe thead th {\n",
       "        text-align: right;\n",
       "    }\n",
       "</style>\n",
       "<table border=\"1\" class=\"dataframe\">\n",
       "  <thead>\n",
       "    <tr style=\"text-align: right;\">\n",
       "      <th></th>\n",
       "      <th>Hypothesis</th>\n",
       "      <th>Reach</th>\n",
       "      <th>Impact</th>\n",
       "      <th>Confidence</th>\n",
       "      <th>Efforts</th>\n",
       "    </tr>\n",
       "  </thead>\n",
       "  <tbody>\n",
       "    <tr>\n",
       "      <th>0</th>\n",
       "      <td>Добавить два новых канала привлечения трафика, что позволит привлекать на 30% больше пользователей</td>\n",
       "      <td>3</td>\n",
       "      <td>10</td>\n",
       "      <td>8</td>\n",
       "      <td>6</td>\n",
       "    </tr>\n",
       "    <tr>\n",
       "      <th>1</th>\n",
       "      <td>Запустить собственную службу доставки, что сократит срок доставки заказов</td>\n",
       "      <td>2</td>\n",
       "      <td>5</td>\n",
       "      <td>4</td>\n",
       "      <td>10</td>\n",
       "    </tr>\n",
       "    <tr>\n",
       "      <th>2</th>\n",
       "      <td>Добавить блоки рекомендаций товаров на сайт интернет магазина, чтобы повысить конверсию и средний чек заказа</td>\n",
       "      <td>8</td>\n",
       "      <td>3</td>\n",
       "      <td>7</td>\n",
       "      <td>3</td>\n",
       "    </tr>\n",
       "    <tr>\n",
       "      <th>3</th>\n",
       "      <td>Изменить структура категорий, что увеличит конверсию, т.к. пользователи быстрее найдут нужный товар</td>\n",
       "      <td>8</td>\n",
       "      <td>3</td>\n",
       "      <td>3</td>\n",
       "      <td>8</td>\n",
       "    </tr>\n",
       "    <tr>\n",
       "      <th>4</th>\n",
       "      <td>Изменить цвет фона главной страницы, чтобы увеличить вовлеченность пользователей</td>\n",
       "      <td>3</td>\n",
       "      <td>1</td>\n",
       "      <td>1</td>\n",
       "      <td>1</td>\n",
       "    </tr>\n",
       "    <tr>\n",
       "      <th>5</th>\n",
       "      <td>Добавить страницу отзывов клиентов о магазине, что позволит увеличить количество заказов</td>\n",
       "      <td>3</td>\n",
       "      <td>2</td>\n",
       "      <td>2</td>\n",
       "      <td>3</td>\n",
       "    </tr>\n",
       "    <tr>\n",
       "      <th>6</th>\n",
       "      <td>Показать на главной странице баннеры с актуальными акциями и распродажами, чтобы увеличить конверсию</td>\n",
       "      <td>5</td>\n",
       "      <td>3</td>\n",
       "      <td>8</td>\n",
       "      <td>3</td>\n",
       "    </tr>\n",
       "    <tr>\n",
       "      <th>7</th>\n",
       "      <td>Добавить форму подписки на все основные страницы, чтобы собрать базу клиентов для email-рассылок</td>\n",
       "      <td>10</td>\n",
       "      <td>7</td>\n",
       "      <td>8</td>\n",
       "      <td>5</td>\n",
       "    </tr>\n",
       "    <tr>\n",
       "      <th>8</th>\n",
       "      <td>Запустить акцию, дающую скидку на товар в день рождения</td>\n",
       "      <td>1</td>\n",
       "      <td>9</td>\n",
       "      <td>9</td>\n",
       "      <td>5</td>\n",
       "    </tr>\n",
       "  </tbody>\n",
       "</table>\n",
       "</div>"
      ],
      "text/plain": [
       "                                                                                                     Hypothesis  \\\n",
       "0            Добавить два новых канала привлечения трафика, что позволит привлекать на 30% больше пользователей   \n",
       "1                                     Запустить собственную службу доставки, что сократит срок доставки заказов   \n",
       "2  Добавить блоки рекомендаций товаров на сайт интернет магазина, чтобы повысить конверсию и средний чек заказа   \n",
       "3           Изменить структура категорий, что увеличит конверсию, т.к. пользователи быстрее найдут нужный товар   \n",
       "4                              Изменить цвет фона главной страницы, чтобы увеличить вовлеченность пользователей   \n",
       "5                      Добавить страницу отзывов клиентов о магазине, что позволит увеличить количество заказов   \n",
       "6          Показать на главной странице баннеры с актуальными акциями и распродажами, чтобы увеличить конверсию   \n",
       "7              Добавить форму подписки на все основные страницы, чтобы собрать базу клиентов для email-рассылок   \n",
       "8                                                       Запустить акцию, дающую скидку на товар в день рождения   \n",
       "\n",
       "   Reach  Impact  Confidence  Efforts  \n",
       "0      3      10           8        6  \n",
       "1      2       5           4       10  \n",
       "2      8       3           7        3  \n",
       "3      8       3           3        8  \n",
       "4      3       1           1        1  \n",
       "5      3       2           2        3  \n",
       "6      5       3           8        3  \n",
       "7     10       7           8        5  \n",
       "8      1       9           9        5  "
      ]
     },
     "execution_count": 2,
     "metadata": {},
     "output_type": "execute_result"
    }
   ],
   "source": [
    "data = pd.read_csv('/datasets/hypothesis.csv')\n",
    "data"
   ]
  },
  {
   "cell_type": "markdown",
   "metadata": {},
   "source": [
    "**Применим фреймворк ICE для приоритизации гипотез.**"
   ]
  },
  {
   "cell_type": "code",
   "execution_count": 3,
   "metadata": {},
   "outputs": [],
   "source": [
    "data['ICE'] = (data['Impact'] * data['Confidence']) / data['Efforts']"
   ]
  },
  {
   "cell_type": "code",
   "execution_count": 4,
   "metadata": {},
   "outputs": [
    {
     "data": {
      "text/html": [
       "<div>\n",
       "<style scoped>\n",
       "    .dataframe tbody tr th:only-of-type {\n",
       "        vertical-align: middle;\n",
       "    }\n",
       "\n",
       "    .dataframe tbody tr th {\n",
       "        vertical-align: top;\n",
       "    }\n",
       "\n",
       "    .dataframe thead th {\n",
       "        text-align: right;\n",
       "    }\n",
       "</style>\n",
       "<table border=\"1\" class=\"dataframe\">\n",
       "  <thead>\n",
       "    <tr style=\"text-align: right;\">\n",
       "      <th></th>\n",
       "      <th>Hypothesis</th>\n",
       "      <th>ICE</th>\n",
       "    </tr>\n",
       "  </thead>\n",
       "  <tbody>\n",
       "    <tr>\n",
       "      <th>8</th>\n",
       "      <td>Запустить акцию, дающую скидку на товар в день рождения</td>\n",
       "      <td>16.200000</td>\n",
       "    </tr>\n",
       "    <tr>\n",
       "      <th>0</th>\n",
       "      <td>Добавить два новых канала привлечения трафика, что позволит привлекать на 30% больше пользователей</td>\n",
       "      <td>13.333333</td>\n",
       "    </tr>\n",
       "    <tr>\n",
       "      <th>7</th>\n",
       "      <td>Добавить форму подписки на все основные страницы, чтобы собрать базу клиентов для email-рассылок</td>\n",
       "      <td>11.200000</td>\n",
       "    </tr>\n",
       "    <tr>\n",
       "      <th>6</th>\n",
       "      <td>Показать на главной странице баннеры с актуальными акциями и распродажами, чтобы увеличить конверсию</td>\n",
       "      <td>8.000000</td>\n",
       "    </tr>\n",
       "    <tr>\n",
       "      <th>2</th>\n",
       "      <td>Добавить блоки рекомендаций товаров на сайт интернет магазина, чтобы повысить конверсию и средний чек заказа</td>\n",
       "      <td>7.000000</td>\n",
       "    </tr>\n",
       "    <tr>\n",
       "      <th>1</th>\n",
       "      <td>Запустить собственную службу доставки, что сократит срок доставки заказов</td>\n",
       "      <td>2.000000</td>\n",
       "    </tr>\n",
       "    <tr>\n",
       "      <th>5</th>\n",
       "      <td>Добавить страницу отзывов клиентов о магазине, что позволит увеличить количество заказов</td>\n",
       "      <td>1.333333</td>\n",
       "    </tr>\n",
       "    <tr>\n",
       "      <th>3</th>\n",
       "      <td>Изменить структура категорий, что увеличит конверсию, т.к. пользователи быстрее найдут нужный товар</td>\n",
       "      <td>1.125000</td>\n",
       "    </tr>\n",
       "    <tr>\n",
       "      <th>4</th>\n",
       "      <td>Изменить цвет фона главной страницы, чтобы увеличить вовлеченность пользователей</td>\n",
       "      <td>1.000000</td>\n",
       "    </tr>\n",
       "  </tbody>\n",
       "</table>\n",
       "</div>"
      ],
      "text/plain": [
       "                                                                                                     Hypothesis  \\\n",
       "8                                                       Запустить акцию, дающую скидку на товар в день рождения   \n",
       "0            Добавить два новых канала привлечения трафика, что позволит привлекать на 30% больше пользователей   \n",
       "7              Добавить форму подписки на все основные страницы, чтобы собрать базу клиентов для email-рассылок   \n",
       "6          Показать на главной странице баннеры с актуальными акциями и распродажами, чтобы увеличить конверсию   \n",
       "2  Добавить блоки рекомендаций товаров на сайт интернет магазина, чтобы повысить конверсию и средний чек заказа   \n",
       "1                                     Запустить собственную службу доставки, что сократит срок доставки заказов   \n",
       "5                      Добавить страницу отзывов клиентов о магазине, что позволит увеличить количество заказов   \n",
       "3           Изменить структура категорий, что увеличит конверсию, т.к. пользователи быстрее найдут нужный товар   \n",
       "4                              Изменить цвет фона главной страницы, чтобы увеличить вовлеченность пользователей   \n",
       "\n",
       "         ICE  \n",
       "8  16.200000  \n",
       "0  13.333333  \n",
       "7  11.200000  \n",
       "6   8.000000  \n",
       "2   7.000000  \n",
       "1   2.000000  \n",
       "5   1.333333  \n",
       "3   1.125000  \n",
       "4   1.000000  "
      ]
     },
     "execution_count": 4,
     "metadata": {},
     "output_type": "execute_result"
    }
   ],
   "source": [
    "data[['Hypothesis', 'ICE']].sort_values(by='ICE', ascending=False)"
   ]
  },
  {
   "cell_type": "markdown",
   "metadata": {},
   "source": [
    "**Теперь применим фреймворк RICE для приоритизации гипотез.**"
   ]
  },
  {
   "cell_type": "code",
   "execution_count": 5,
   "metadata": {},
   "outputs": [],
   "source": [
    "data['RICE'] = (data['Reach']* data['Impact'] * data['Confidence']) / data['Efforts']"
   ]
  },
  {
   "cell_type": "code",
   "execution_count": 6,
   "metadata": {},
   "outputs": [
    {
     "data": {
      "text/html": [
       "<div>\n",
       "<style scoped>\n",
       "    .dataframe tbody tr th:only-of-type {\n",
       "        vertical-align: middle;\n",
       "    }\n",
       "\n",
       "    .dataframe tbody tr th {\n",
       "        vertical-align: top;\n",
       "    }\n",
       "\n",
       "    .dataframe thead th {\n",
       "        text-align: right;\n",
       "    }\n",
       "</style>\n",
       "<table border=\"1\" class=\"dataframe\">\n",
       "  <thead>\n",
       "    <tr style=\"text-align: right;\">\n",
       "      <th></th>\n",
       "      <th>Hypothesis</th>\n",
       "      <th>RICE</th>\n",
       "    </tr>\n",
       "  </thead>\n",
       "  <tbody>\n",
       "    <tr>\n",
       "      <th>7</th>\n",
       "      <td>Добавить форму подписки на все основные страницы, чтобы собрать базу клиентов для email-рассылок</td>\n",
       "      <td>112.0</td>\n",
       "    </tr>\n",
       "    <tr>\n",
       "      <th>2</th>\n",
       "      <td>Добавить блоки рекомендаций товаров на сайт интернет магазина, чтобы повысить конверсию и средний чек заказа</td>\n",
       "      <td>56.0</td>\n",
       "    </tr>\n",
       "    <tr>\n",
       "      <th>0</th>\n",
       "      <td>Добавить два новых канала привлечения трафика, что позволит привлекать на 30% больше пользователей</td>\n",
       "      <td>40.0</td>\n",
       "    </tr>\n",
       "    <tr>\n",
       "      <th>6</th>\n",
       "      <td>Показать на главной странице баннеры с актуальными акциями и распродажами, чтобы увеличить конверсию</td>\n",
       "      <td>40.0</td>\n",
       "    </tr>\n",
       "    <tr>\n",
       "      <th>8</th>\n",
       "      <td>Запустить акцию, дающую скидку на товар в день рождения</td>\n",
       "      <td>16.2</td>\n",
       "    </tr>\n",
       "    <tr>\n",
       "      <th>3</th>\n",
       "      <td>Изменить структура категорий, что увеличит конверсию, т.к. пользователи быстрее найдут нужный товар</td>\n",
       "      <td>9.0</td>\n",
       "    </tr>\n",
       "    <tr>\n",
       "      <th>1</th>\n",
       "      <td>Запустить собственную службу доставки, что сократит срок доставки заказов</td>\n",
       "      <td>4.0</td>\n",
       "    </tr>\n",
       "    <tr>\n",
       "      <th>5</th>\n",
       "      <td>Добавить страницу отзывов клиентов о магазине, что позволит увеличить количество заказов</td>\n",
       "      <td>4.0</td>\n",
       "    </tr>\n",
       "    <tr>\n",
       "      <th>4</th>\n",
       "      <td>Изменить цвет фона главной страницы, чтобы увеличить вовлеченность пользователей</td>\n",
       "      <td>3.0</td>\n",
       "    </tr>\n",
       "  </tbody>\n",
       "</table>\n",
       "</div>"
      ],
      "text/plain": [
       "                                                                                                     Hypothesis  \\\n",
       "7              Добавить форму подписки на все основные страницы, чтобы собрать базу клиентов для email-рассылок   \n",
       "2  Добавить блоки рекомендаций товаров на сайт интернет магазина, чтобы повысить конверсию и средний чек заказа   \n",
       "0            Добавить два новых канала привлечения трафика, что позволит привлекать на 30% больше пользователей   \n",
       "6          Показать на главной странице баннеры с актуальными акциями и распродажами, чтобы увеличить конверсию   \n",
       "8                                                       Запустить акцию, дающую скидку на товар в день рождения   \n",
       "3           Изменить структура категорий, что увеличит конверсию, т.к. пользователи быстрее найдут нужный товар   \n",
       "1                                     Запустить собственную службу доставки, что сократит срок доставки заказов   \n",
       "5                      Добавить страницу отзывов клиентов о магазине, что позволит увеличить количество заказов   \n",
       "4                              Изменить цвет фона главной страницы, чтобы увеличить вовлеченность пользователей   \n",
       "\n",
       "    RICE  \n",
       "7  112.0  \n",
       "2   56.0  \n",
       "0   40.0  \n",
       "6   40.0  \n",
       "8   16.2  \n",
       "3    9.0  \n",
       "1    4.0  \n",
       "5    4.0  \n",
       "4    3.0  "
      ]
     },
     "execution_count": 6,
     "metadata": {},
     "output_type": "execute_result"
    }
   ],
   "source": [
    "data[['Hypothesis', 'RICE']].sort_values(by='RICE', ascending=False)"
   ]
  },
  {
   "cell_type": "markdown",
   "metadata": {},
   "source": [
    "**Вывод**\n",
    "\n",
    "Итак, наиболее перспективные гипотезы по ICE - это 8, 0, 7 и 6. А согласно RICE, самые перспективные гипотезы - 7, 2, 0 и 6. При сравнении этих 2 гипотез, мы видим, что приоритет у гипотез поменялся. Случилось это потому, что у RICE добавился еще один компонент при подсчете - Reach(обхват пользователей). Если при ICE на первом месте гипотеза 8, то при RICE гипотеза 8 улетела вниз, на 5 место, так как параметр Reach у нее всего лишь 1. Тогда как гипотеза 7, которая при ICE была на 3 месте, при RICE вышла на 1 место, так как параметр Reach у нее максимальный - 10. "
   ]
  },
  {
   "cell_type": "markdown",
   "metadata": {},
   "source": [
    "<a id=\"analize\"></a>\n",
    "## Анализ A/B-теста"
   ]
  },
  {
   "cell_type": "markdown",
   "metadata": {},
   "source": [
    "Итак, у нас есть результаты проведенного А/В тестирования, которые описаны в файлах /datasets/orders.csv и /datasets/visitors.csv."
   ]
  },
  {
   "cell_type": "markdown",
   "metadata": {},
   "source": [
    "### Обзор данных"
   ]
  },
  {
   "cell_type": "code",
   "execution_count": 7,
   "metadata": {},
   "outputs": [],
   "source": [
    "orders = pd.read_csv('/datasets/orders.csv')\n",
    "visitors = pd.read_csv('/datasets/visitors.csv')"
   ]
  },
  {
   "cell_type": "code",
   "execution_count": 8,
   "metadata": {},
   "outputs": [
    {
     "data": {
      "text/html": [
       "<div>\n",
       "<style scoped>\n",
       "    .dataframe tbody tr th:only-of-type {\n",
       "        vertical-align: middle;\n",
       "    }\n",
       "\n",
       "    .dataframe tbody tr th {\n",
       "        vertical-align: top;\n",
       "    }\n",
       "\n",
       "    .dataframe thead th {\n",
       "        text-align: right;\n",
       "    }\n",
       "</style>\n",
       "<table border=\"1\" class=\"dataframe\">\n",
       "  <thead>\n",
       "    <tr style=\"text-align: right;\">\n",
       "      <th></th>\n",
       "      <th>transactionId</th>\n",
       "      <th>visitorId</th>\n",
       "      <th>date</th>\n",
       "      <th>revenue</th>\n",
       "      <th>group</th>\n",
       "    </tr>\n",
       "  </thead>\n",
       "  <tbody>\n",
       "    <tr>\n",
       "      <th>0</th>\n",
       "      <td>3667963787</td>\n",
       "      <td>3312258926</td>\n",
       "      <td>2019-08-15</td>\n",
       "      <td>1650</td>\n",
       "      <td>B</td>\n",
       "    </tr>\n",
       "    <tr>\n",
       "      <th>1</th>\n",
       "      <td>2804400009</td>\n",
       "      <td>3642806036</td>\n",
       "      <td>2019-08-15</td>\n",
       "      <td>730</td>\n",
       "      <td>B</td>\n",
       "    </tr>\n",
       "    <tr>\n",
       "      <th>2</th>\n",
       "      <td>2961555356</td>\n",
       "      <td>4069496402</td>\n",
       "      <td>2019-08-15</td>\n",
       "      <td>400</td>\n",
       "      <td>A</td>\n",
       "    </tr>\n",
       "    <tr>\n",
       "      <th>3</th>\n",
       "      <td>3797467345</td>\n",
       "      <td>1196621759</td>\n",
       "      <td>2019-08-15</td>\n",
       "      <td>9759</td>\n",
       "      <td>B</td>\n",
       "    </tr>\n",
       "    <tr>\n",
       "      <th>4</th>\n",
       "      <td>2282983706</td>\n",
       "      <td>2322279887</td>\n",
       "      <td>2019-08-15</td>\n",
       "      <td>2308</td>\n",
       "      <td>B</td>\n",
       "    </tr>\n",
       "  </tbody>\n",
       "</table>\n",
       "</div>"
      ],
      "text/plain": [
       "   transactionId   visitorId        date  revenue group\n",
       "0     3667963787  3312258926  2019-08-15     1650     B\n",
       "1     2804400009  3642806036  2019-08-15      730     B\n",
       "2     2961555356  4069496402  2019-08-15      400     A\n",
       "3     3797467345  1196621759  2019-08-15     9759     B\n",
       "4     2282983706  2322279887  2019-08-15     2308     B"
      ]
     },
     "execution_count": 8,
     "metadata": {},
     "output_type": "execute_result"
    }
   ],
   "source": [
    "orders.head()"
   ]
  },
  {
   "cell_type": "code",
   "execution_count": 9,
   "metadata": {},
   "outputs": [
    {
     "name": "stdout",
     "output_type": "stream",
     "text": [
      "<class 'pandas.core.frame.DataFrame'>\n",
      "RangeIndex: 1197 entries, 0 to 1196\n",
      "Data columns (total 5 columns):\n",
      " #   Column         Non-Null Count  Dtype \n",
      "---  ------         --------------  ----- \n",
      " 0   transactionId  1197 non-null   int64 \n",
      " 1   visitorId      1197 non-null   int64 \n",
      " 2   date           1197 non-null   object\n",
      " 3   revenue        1197 non-null   int64 \n",
      " 4   group          1197 non-null   object\n",
      "dtypes: int64(3), object(2)\n",
      "memory usage: 46.9+ KB\n"
     ]
    }
   ],
   "source": [
    "orders.info()"
   ]
  },
  {
   "cell_type": "code",
   "execution_count": 10,
   "metadata": {},
   "outputs": [
    {
     "data": {
      "text/html": [
       "<div>\n",
       "<style scoped>\n",
       "    .dataframe tbody tr th:only-of-type {\n",
       "        vertical-align: middle;\n",
       "    }\n",
       "\n",
       "    .dataframe tbody tr th {\n",
       "        vertical-align: top;\n",
       "    }\n",
       "\n",
       "    .dataframe thead th {\n",
       "        text-align: right;\n",
       "    }\n",
       "</style>\n",
       "<table border=\"1\" class=\"dataframe\">\n",
       "  <thead>\n",
       "    <tr style=\"text-align: right;\">\n",
       "      <th></th>\n",
       "      <th>date</th>\n",
       "      <th>group</th>\n",
       "      <th>visitors</th>\n",
       "    </tr>\n",
       "  </thead>\n",
       "  <tbody>\n",
       "    <tr>\n",
       "      <th>0</th>\n",
       "      <td>2019-08-01</td>\n",
       "      <td>A</td>\n",
       "      <td>719</td>\n",
       "    </tr>\n",
       "    <tr>\n",
       "      <th>1</th>\n",
       "      <td>2019-08-02</td>\n",
       "      <td>A</td>\n",
       "      <td>619</td>\n",
       "    </tr>\n",
       "    <tr>\n",
       "      <th>2</th>\n",
       "      <td>2019-08-03</td>\n",
       "      <td>A</td>\n",
       "      <td>507</td>\n",
       "    </tr>\n",
       "    <tr>\n",
       "      <th>3</th>\n",
       "      <td>2019-08-04</td>\n",
       "      <td>A</td>\n",
       "      <td>717</td>\n",
       "    </tr>\n",
       "    <tr>\n",
       "      <th>4</th>\n",
       "      <td>2019-08-05</td>\n",
       "      <td>A</td>\n",
       "      <td>756</td>\n",
       "    </tr>\n",
       "  </tbody>\n",
       "</table>\n",
       "</div>"
      ],
      "text/plain": [
       "         date group  visitors\n",
       "0  2019-08-01     A       719\n",
       "1  2019-08-02     A       619\n",
       "2  2019-08-03     A       507\n",
       "3  2019-08-04     A       717\n",
       "4  2019-08-05     A       756"
      ]
     },
     "execution_count": 10,
     "metadata": {},
     "output_type": "execute_result"
    }
   ],
   "source": [
    "visitors.head()"
   ]
  },
  {
   "cell_type": "code",
   "execution_count": 11,
   "metadata": {
    "scrolled": true
   },
   "outputs": [
    {
     "name": "stdout",
     "output_type": "stream",
     "text": [
      "<class 'pandas.core.frame.DataFrame'>\n",
      "RangeIndex: 62 entries, 0 to 61\n",
      "Data columns (total 3 columns):\n",
      " #   Column    Non-Null Count  Dtype \n",
      "---  ------    --------------  ----- \n",
      " 0   date      62 non-null     object\n",
      " 1   group     62 non-null     object\n",
      " 2   visitors  62 non-null     int64 \n",
      "dtypes: int64(1), object(2)\n",
      "memory usage: 1.6+ KB\n"
     ]
    }
   ],
   "source": [
    "visitors.info()"
   ]
  },
  {
   "cell_type": "markdown",
   "metadata": {},
   "source": [
    "**Вывод**\n",
    "\n",
    "Результаты А/В теста описаны в 2 таблицах: **orders** и **visitors**. В таблицах нет пропущенных значений. Единственное, надо привести названия колонок к \"змеиному\" регистру и перевести все даты в нужный тип."
   ]
  },
  {
   "cell_type": "markdown",
   "metadata": {},
   "source": [
    "### Предобработка данных"
   ]
  },
  {
   "cell_type": "code",
   "execution_count": 12,
   "metadata": {},
   "outputs": [
    {
     "data": {
      "text/plain": [
       "Index(['transaction_id', 'visitor_id', 'date', 'revenue', 'group'], dtype='object')"
      ]
     },
     "execution_count": 12,
     "metadata": {},
     "output_type": "execute_result"
    }
   ],
   "source": [
    "orders.rename(columns={'transactionId':'transaction_id', 'visitorId':'visitor_id'}, inplace=True)\n",
    "orders.columns"
   ]
  },
  {
   "cell_type": "code",
   "execution_count": 13,
   "metadata": {
    "scrolled": true
   },
   "outputs": [],
   "source": [
    "orders['date'] = orders['date'].map(\n",
    "    lambda x: dt.datetime.strptime(x, '%Y-%m-%d')\n",
    ")"
   ]
  },
  {
   "cell_type": "code",
   "execution_count": 14,
   "metadata": {},
   "outputs": [],
   "source": [
    "visitors['date'] = visitors['date'].map(\n",
    "    lambda x: dt.datetime.strptime(x, '%Y-%m-%d')\n",
    ")"
   ]
  },
  {
   "cell_type": "markdown",
   "metadata": {},
   "source": [
    "### Анализ данных"
   ]
  },
  {
   "cell_type": "markdown",
   "metadata": {},
   "source": [
    "#### Построим график кумулятивной выручки по группам."
   ]
  },
  {
   "cell_type": "markdown",
   "metadata": {},
   "source": [
    "Для начала хочу проверить, есть ли пользователи, которые попали и в группу А, и в группу В."
   ]
  },
  {
   "cell_type": "code",
   "execution_count": 15,
   "metadata": {},
   "outputs": [],
   "source": [
    "# отберем группы из данных с заказами \n",
    "group_a = orders.query('group == \"A\"') \n",
    "group_b = orders.query('group == \"B\"')   "
   ]
  },
  {
   "cell_type": "code",
   "execution_count": 16,
   "metadata": {
    "scrolled": true
   },
   "outputs": [
    {
     "data": {
      "text/plain": [
       "58"
      ]
     },
     "execution_count": 16,
     "metadata": {},
     "output_type": "execute_result"
    }
   ],
   "source": [
    "# создадим список уникальных ID пользователей, которые есть и в группе А,\n",
    "# и в группе В\n",
    "group_a_b = []\n",
    "for i in group_a['visitor_id']:\n",
    "    for j in group_b['visitor_id']:\n",
    "        if i == j and i not in group_a_b:\n",
    "            group_a_b.append(i)\n",
    "len(group_a_b)"
   ]
  },
  {
   "cell_type": "code",
   "execution_count": 17,
   "metadata": {},
   "outputs": [
    {
     "data": {
      "text/plain": [
       "1031"
      ]
     },
     "execution_count": 17,
     "metadata": {},
     "output_type": "execute_result"
    }
   ],
   "source": [
    "orders['visitor_id'].nunique()"
   ]
  },
  {
   "cell_type": "markdown",
   "metadata": {},
   "source": [
    "Итак, у нас 58 человек, которые входят и в группу А, и в группу В. Это около 5 % от общего количества пользователей. Думаю, их надо убрать из таблицы, так как они могут исказить результат эксперимента (да и не понятно, в какуюгруппу их надо по итогу включить)."
   ]
  },
  {
   "cell_type": "code",
   "execution_count": 18,
   "metadata": {},
   "outputs": [],
   "source": [
    "orders = orders.query('visitor_id not in @group_a_b')"
   ]
  },
  {
   "cell_type": "markdown",
   "metadata": {},
   "source": [
    "По новой таблице будем строить график кумулятивной выручки по группам."
   ]
  },
  {
   "cell_type": "code",
   "execution_count": 19,
   "metadata": {},
   "outputs": [],
   "source": [
    "# создадим массив уникальных пар значений дат и групп теста\n",
    "unique_dates_groups = orders[['date','group']].drop_duplicates()\n",
    "\n",
    "# получим агрегированные кумулятивные по дням данные о заказах \n",
    "orders_aggregated = unique_dates_groups.apply(lambda x:\\\n",
    "orders[np.logical_and(orders['date'] <= x['date'],orders['group'] == x['group'])]\\\n",
    ".agg({'date' : 'max', 'group' : 'max', 'transaction_id' : 'nunique',\\\n",
    "'visitor_id' : 'nunique', 'revenue' : 'sum'}), axis=1)\\\n",
    ".sort_values(by=['date','group']) \n",
    "\n",
    "# получим агрегированные кумулятивные по дням данные о посетителях \n",
    "visitors_aggregated = unique_dates_groups.apply(lambda x:\\\n",
    "visitors[np.logical_and(visitors['date'] <= x['date'], visitors['group'] == x['group'])]\\\n",
    ".agg({'date' : 'max', 'group' : 'max', 'visitors' : 'sum'}), axis=1)\\\n",
    ".sort_values(by=['date','group'])\n"
   ]
  },
  {
   "cell_type": "code",
   "execution_count": 20,
   "metadata": {},
   "outputs": [],
   "source": [
    "# объединим кумулятивные данные в одной таблице\n",
    "cumulative_data = (\n",
    "    orders_aggregated.merge(visitors_aggregated,\n",
    "    left_on=['date', 'group'], right_on=['date', 'group'])\n",
    ")    "
   ]
  },
  {
   "cell_type": "code",
   "execution_count": 21,
   "metadata": {},
   "outputs": [],
   "source": [
    "cumulative_data.columns = ['date', 'group', 'orders', 'buyers', 'revenue', 'visitors']"
   ]
  },
  {
   "cell_type": "code",
   "execution_count": 22,
   "metadata": {},
   "outputs": [
    {
     "data": {
      "text/html": [
       "<div>\n",
       "<style scoped>\n",
       "    .dataframe tbody tr th:only-of-type {\n",
       "        vertical-align: middle;\n",
       "    }\n",
       "\n",
       "    .dataframe tbody tr th {\n",
       "        vertical-align: top;\n",
       "    }\n",
       "\n",
       "    .dataframe thead th {\n",
       "        text-align: right;\n",
       "    }\n",
       "</style>\n",
       "<table border=\"1\" class=\"dataframe\">\n",
       "  <thead>\n",
       "    <tr style=\"text-align: right;\">\n",
       "      <th></th>\n",
       "      <th>date</th>\n",
       "      <th>group</th>\n",
       "      <th>orders</th>\n",
       "      <th>buyers</th>\n",
       "      <th>revenue</th>\n",
       "      <th>visitors</th>\n",
       "    </tr>\n",
       "  </thead>\n",
       "  <tbody>\n",
       "    <tr>\n",
       "      <th>0</th>\n",
       "      <td>2019-08-01</td>\n",
       "      <td>A</td>\n",
       "      <td>23</td>\n",
       "      <td>19</td>\n",
       "      <td>142779</td>\n",
       "      <td>719</td>\n",
       "    </tr>\n",
       "    <tr>\n",
       "      <th>1</th>\n",
       "      <td>2019-08-01</td>\n",
       "      <td>B</td>\n",
       "      <td>17</td>\n",
       "      <td>17</td>\n",
       "      <td>59758</td>\n",
       "      <td>713</td>\n",
       "    </tr>\n",
       "    <tr>\n",
       "      <th>2</th>\n",
       "      <td>2019-08-02</td>\n",
       "      <td>A</td>\n",
       "      <td>42</td>\n",
       "      <td>36</td>\n",
       "      <td>234381</td>\n",
       "      <td>1338</td>\n",
       "    </tr>\n",
       "    <tr>\n",
       "      <th>3</th>\n",
       "      <td>2019-08-02</td>\n",
       "      <td>B</td>\n",
       "      <td>40</td>\n",
       "      <td>39</td>\n",
       "      <td>221801</td>\n",
       "      <td>1294</td>\n",
       "    </tr>\n",
       "    <tr>\n",
       "      <th>4</th>\n",
       "      <td>2019-08-03</td>\n",
       "      <td>A</td>\n",
       "      <td>66</td>\n",
       "      <td>60</td>\n",
       "      <td>346854</td>\n",
       "      <td>1845</td>\n",
       "    </tr>\n",
       "  </tbody>\n",
       "</table>\n",
       "</div>"
      ],
      "text/plain": [
       "        date group  orders  buyers  revenue  visitors\n",
       "0 2019-08-01     A      23      19   142779       719\n",
       "1 2019-08-01     B      17      17    59758       713\n",
       "2 2019-08-02     A      42      36   234381      1338\n",
       "3 2019-08-02     B      40      39   221801      1294\n",
       "4 2019-08-03     A      66      60   346854      1845"
      ]
     },
     "execution_count": 22,
     "metadata": {},
     "output_type": "execute_result"
    }
   ],
   "source": [
    "cumulative_data.head(5)"
   ]
  },
  {
   "cell_type": "markdown",
   "metadata": {},
   "source": [
    "Построим графики кумулятивной выручки по дням и группам A/B-тестирования:"
   ]
  },
  {
   "cell_type": "code",
   "execution_count": 23,
   "metadata": {},
   "outputs": [
    {
     "data": {
      "image/png": "[encoded data removed]",
      "text/plain": [
       "<Figure size 720x360 with 1 Axes>"
      ]
     },
     "metadata": {
      "needs_background": "light"
     },
     "output_type": "display_data"
    }
   ],
   "source": [
    "# датафрейм с кумулятивным количеством заказов и кумулятивной выручкой\n",
    "# по дням в группе А\n",
    "cumulative_rev_A = cumulative_data[cumulative_data['group']=='A']\\\n",
    "[['date','revenue', 'orders']]\n",
    "\n",
    "# датафрейм с кумулятивным количеством заказов и кумулятивной выручкой \n",
    "# по дням в группе B\n",
    "cumulative_rev_B = cumulative_data[cumulative_data['group']=='B']\\\n",
    "[['date','revenue', 'orders']]\n",
    "\n",
    "# Строим график выручки группы А\n",
    "plt.figure(figsize=(10, 5))\n",
    "plt.plot(cumulative_rev_A['date'], cumulative_rev_A['revenue'], label='A')\n",
    "\n",
    "# Строим график выручки группы B\n",
    "plt.plot(cumulative_rev_B['date'], cumulative_rev_B['revenue'], label='B')\n",
    "\n",
    "plt.title('Кумулятивная выручки по дням и группам A/B-тестирования')\n",
    "plt.legend()\n",
    "plt.show() "
   ]
  },
  {
   "cell_type": "markdown",
   "metadata": {},
   "source": [
    "**Вывод**\n",
    "\n",
    "График группы А практически равномерно увеличивается в течение всего теста. А вот у группы В есть резкий скачок вверх в середине теста. Это может свидетельствовать о всплесках числа заказов, либо о появлении очень дорогих заказов в выборке. При заключительном анализе от выбросов надобудет избавиться."
   ]
  },
  {
   "cell_type": "markdown",
   "metadata": {},
   "source": [
    "#### Построим график кумулятивного среднего чека по группам. "
   ]
  },
  {
   "cell_type": "markdown",
   "metadata": {},
   "source": [
    "Для этого разделим кумулятивную выручку на кумулятивное число заказов."
   ]
  },
  {
   "cell_type": "code",
   "execution_count": 24,
   "metadata": {},
   "outputs": [
    {
     "data": {
      "image/png": "[encoded data removed]",
      "text/plain": [
       "<Figure size 720x360 with 1 Axes>"
      ]
     },
     "metadata": {
      "needs_background": "light"
     },
     "output_type": "display_data"
    }
   ],
   "source": [
    "plt.figure(figsize=(10, 5))\n",
    "plt.plot(cumulative_rev_A['date'], cumulative_rev_A['revenue']/cumulative_rev_A['orders'], label='A')\n",
    "plt.plot(cumulative_rev_B['date'], cumulative_rev_B['revenue']/cumulative_rev_B['orders'], label='B')\n",
    "\n",
    "plt.title('График кумулятивного среднего чека по группам')\n",
    "plt.legend()\n",
    "plt.show() "
   ]
  },
  {
   "cell_type": "markdown",
   "metadata": {},
   "source": [
    "**Вывод**\n",
    "\n",
    "Средний чек для группы А становится равномерным ближе к концу теста. Хотя вначале мы видим взлеты и падения суммы среднего чека группы **А**. А вот у группы **В** мы видим большой скачок, к концу теста средний чек становится более равномерным, но постепенно падает. Возможно, в группу **B** в середине теста попали крупные заказы (резкий всплеск на графике).Надо будет дополнительно проанализировать выбросы."
   ]
  },
  {
   "cell_type": "markdown",
   "metadata": {},
   "source": [
    "#### Построим график относительного изменения кумулятивного среднего чека группы B к группе A."
   ]
  },
  {
   "cell_type": "code",
   "execution_count": 25,
   "metadata": {},
   "outputs": [
    {
     "data": {
      "image/png": "[encoded data removed]",
      "text/plain": [
       "<Figure size 720x360 with 1 Axes>"
      ]
     },
     "metadata": {
      "needs_background": "light"
     },
     "output_type": "display_data"
    }
   ],
   "source": [
    "plt.figure(figsize=(10, 5))\n",
    "\n",
    "# соберем данные в одном датасете\n",
    "сumulative_rev = cumulative_rev_A.merge(cumulative_rev_B, left_on='date',\\\n",
    "                 right_on='date', how='left', suffixes=['A', 'B'])\n",
    "\n",
    "# поcтроим отношение средних чеков\n",
    "plt.plot(сumulative_rev['date'], (сumulative_rev['revenueB']/сumulative_rev['ordersB'])\\\n",
    "               /(сumulative_rev['revenueA']/сumulative_rev['ordersA'])-1)\n",
    "\n",
    "plt.title('График относительного изменения кумулятивного среднего чека группы B к группе A')\n",
    "plt.axhline(y=0, color='black', linestyle='--')\n",
    "plt.show() "
   ]
  },
  {
   "cell_type": "markdown",
   "metadata": {},
   "source": [
    "**Вывод**\n",
    "\n",
    "В нескольких точках график различия между сегментами резко скачет. Где-то точно есть крупные заказы и выбросы."
   ]
  },
  {
   "cell_type": "markdown",
   "metadata": {},
   "source": [
    "#### Постройте график кумулятивной конверсии по группам"
   ]
  },
  {
   "cell_type": "code",
   "execution_count": 26,
   "metadata": {},
   "outputs": [
    {
     "data": {
      "image/png": "[encoded data removed]",
      "text/plain": [
       "<Figure size 720x360 with 1 Axes>"
      ]
     },
     "metadata": {
      "needs_background": "light"
     },
     "output_type": "display_data"
    }
   ],
   "source": [
    "# считаем кумулятивную конверсию\n",
    "cumulative_data['conversion'] = cumulative_data['orders']/cumulative_data['visitors']\n",
    "\n",
    "# делаем срезы данных по группе A и В\n",
    "cumulative_data_A = cumulative_data[cumulative_data['group']=='A']\n",
    "cumulative_data_B = cumulative_data[cumulative_data['group']=='B']\n",
    "\n",
    "# строим графики\n",
    "plt.figure(figsize=(10, 5))\n",
    "plt.plot(cumulative_data_A['date'], cumulative_data_A['conversion'], label='A')\n",
    "plt.plot(cumulative_data_B['date'], cumulative_data_B['conversion'], label='B')\n",
    "plt.title('График кумулятивной конверсии по группам')\n",
    "plt.legend()\n",
    "\n",
    "# Зададим диапазон дат и масштаб по оси Х\n",
    "plt.axis([pd.to_datetime('2019-08-01'), pd.to_datetime('2019-09-03'), 0, 0.05])\n",
    "plt.show() "
   ]
  },
  {
   "cell_type": "markdown",
   "metadata": {},
   "source": [
    "**Вывод**\n",
    "\n",
    "Конверсия обеих групп немного колебалась вначале, но потом конверсия группы В вышла вперед и зафиксировалась около одного значения, тогда как конверсия группы А стала ниже и тоже зафиксировалась."
   ]
  },
  {
   "cell_type": "markdown",
   "metadata": {},
   "source": [
    "#### Построим график относительного изменения кумулятивной конверсии группы B к группе A."
   ]
  },
  {
   "cell_type": "code",
   "execution_count": 27,
   "metadata": {},
   "outputs": [
    {
     "data": {
      "image/png": "[encoded data removed]",
      "text/plain": [
       "<Figure size 720x360 with 1 Axes>"
      ]
     },
     "metadata": {
      "needs_background": "light"
     },
     "output_type": "display_data"
    }
   ],
   "source": [
    "# Объединим таблицы с конверсией групп А и В\n",
    "сumulative_сonv = cumulative_data_A[['date','conversion']]\\\n",
    ".merge(cumulative_data_B[['date','conversion']], left_on='date', right_on='date', how='left', suffixes=['A', 'B'])\n",
    "\n",
    "# Построим графики\n",
    "plt.figure(figsize=(10, 5))\n",
    "plt.plot(сumulative_сonv['date'], сumulative_сonv['conversionB']/сumulative_сonv['conversionA']-1, label='прирост конверсии')\n",
    "plt.legend()\n",
    "\n",
    "plt.title('Относительный прирост конверсии группы B относительно группы A')\n",
    "plt.axhline(y=0, color='black', linestyle='--')\n",
    "plt.axhline(y=0.15, color='grey', linestyle='--')\n",
    "plt.axis([pd.to_datetime('2019-08-01'), pd.to_datetime('2019-09-03'), -0.3, 0.3])\n",
    "plt.show()"
   ]
  },
  {
   "cell_type": "markdown",
   "metadata": {},
   "source": [
    "**Вывод**\n",
    "\n",
    "В самом начале теста конверсия В резко упала относительно конверсии А, но затем вырвалась вперед.  Прирост конверсии группы В относительно конверсии группы А колебается около значения 15%. В целом,в последней трети эксперимента наблюдается стабилизация результатов."
   ]
  },
  {
   "cell_type": "markdown",
   "metadata": {},
   "source": [
    "#### Построим точечный график количества заказов по пользователям. "
   ]
  },
  {
   "cell_type": "code",
   "execution_count": 28,
   "metadata": {
    "scrolled": true
   },
   "outputs": [
    {
     "data": {
      "text/html": [
       "<div>\n",
       "<style scoped>\n",
       "    .dataframe tbody tr th:only-of-type {\n",
       "        vertical-align: middle;\n",
       "    }\n",
       "\n",
       "    .dataframe tbody tr th {\n",
       "        vertical-align: top;\n",
       "    }\n",
       "\n",
       "    .dataframe thead th {\n",
       "        text-align: right;\n",
       "    }\n",
       "</style>\n",
       "<table border=\"1\" class=\"dataframe\">\n",
       "  <thead>\n",
       "    <tr style=\"text-align: right;\">\n",
       "      <th></th>\n",
       "      <th>visitor_id</th>\n",
       "      <th>orders</th>\n",
       "    </tr>\n",
       "  </thead>\n",
       "  <tbody>\n",
       "    <tr>\n",
       "      <th>908</th>\n",
       "      <td>3967698036</td>\n",
       "      <td>3</td>\n",
       "    </tr>\n",
       "    <tr>\n",
       "      <th>55</th>\n",
       "      <td>249864742</td>\n",
       "      <td>3</td>\n",
       "    </tr>\n",
       "    <tr>\n",
       "      <th>478</th>\n",
       "      <td>2108163459</td>\n",
       "      <td>3</td>\n",
       "    </tr>\n",
       "    <tr>\n",
       "      <th>687</th>\n",
       "      <td>2988190573</td>\n",
       "      <td>3</td>\n",
       "    </tr>\n",
       "    <tr>\n",
       "      <th>890</th>\n",
       "      <td>3908431265</td>\n",
       "      <td>3</td>\n",
       "    </tr>\n",
       "  </tbody>\n",
       "</table>\n",
       "</div>"
      ],
      "text/plain": [
       "     visitor_id  orders\n",
       "908  3967698036       3\n",
       "55    249864742       3\n",
       "478  2108163459       3\n",
       "687  2988190573       3\n",
       "890  3908431265       3"
      ]
     },
     "execution_count": 28,
     "metadata": {},
     "output_type": "execute_result"
    }
   ],
   "source": [
    "# Подсчитаем количество заказов по пользователям \n",
    "orders_by_users = orders.groupby('visitor_id', as_index=False)\\\n",
    "                        .agg({'transaction_id':'nunique'})\\\n",
    "                        .sort_values(by='transaction_id', ascending=False)\n",
    "orders_by_users.columns = ['visitor_id', 'orders']    \n",
    "orders_by_users.head()"
   ]
  },
  {
   "cell_type": "code",
   "execution_count": 29,
   "metadata": {},
   "outputs": [
    {
     "data": {
      "image/png": "[encoded data removed]",
      "text/plain": [
       "<Figure size 432x288 with 1 Axes>"
      ]
     },
     "metadata": {
      "needs_background": "light"
     },
     "output_type": "display_data"
    }
   ],
   "source": [
    "# Построим график\n",
    "plt.title('Точечный график количества заказов у каждого пользователя')\n",
    "values = pd.Series(range(0, len(orders_by_users)))\n",
    "plt.scatter(values, orders_by_users['orders'])\n",
    "plt.show()"
   ]
  },
  {
   "cell_type": "markdown",
   "metadata": {},
   "source": [
    "**Вывод**\n",
    "\n",
    "Заказов больше 1 совсем мало, т.е. они вполне могут быть аномальными. Посмотрим на 95-й и 99-й процентили, чтобы точно ответить на вопрос аномальности этих заказов."
   ]
  },
  {
   "cell_type": "markdown",
   "metadata": {},
   "source": [
    "#### Посчитаем 95-й и 99-й перцентили количества заказов на пользователя."
   ]
  },
  {
   "cell_type": "code",
   "execution_count": 30,
   "metadata": {},
   "outputs": [
    {
     "data": {
      "text/plain": [
       "array([1., 2.])"
      ]
     },
     "execution_count": 30,
     "metadata": {},
     "output_type": "execute_result"
    }
   ],
   "source": [
    "np.percentile(orders_by_users['orders'], [95, 99])"
   ]
  },
  {
   "cell_type": "markdown",
   "metadata": {},
   "source": [
    "**Вывод**\n",
    "\n",
    "Итак, мы видим, что не более 5 % от всех пользователей совершали больше 1 заказов, и не более 1% - больше 2. Можно принять за аномальных пользователей тех, у кого больше 2 заказов."
   ]
  },
  {
   "cell_type": "markdown",
   "metadata": {},
   "source": [
    "#### Построим точечный график стоимостей заказов."
   ]
  },
  {
   "cell_type": "code",
   "execution_count": 31,
   "metadata": {},
   "outputs": [
    {
     "data": {
      "image/png": "[encoded data removed]",
      "text/plain": [
       "<Figure size 432x288 with 1 Axes>"
      ]
     },
     "metadata": {
      "needs_background": "light"
     },
     "output_type": "display_data"
    }
   ],
   "source": [
    "plt.title('Точечный график стоимости заказов')\n",
    "value = pd.Series(range(0, len(orders['revenue'])))\n",
    "plt.scatter(value, orders['revenue'])\n",
    "plt.show()"
   ]
  },
  {
   "cell_type": "markdown",
   "metadata": {},
   "source": [
    "**Вывод**\n",
    "\n",
    "Есть выбросы в районе 200 000 и 1 200 000 рублей. Посмотрим на перцентили."
   ]
  },
  {
   "cell_type": "markdown",
   "metadata": {},
   "source": [
    "#### Посчитаем 95-й и 99-й перцентили стоимости заказов."
   ]
  },
  {
   "cell_type": "code",
   "execution_count": 32,
   "metadata": {},
   "outputs": [
    {
     "data": {
      "text/plain": [
       "array([26785., 53904.])"
      ]
     },
     "execution_count": 32,
     "metadata": {},
     "output_type": "execute_result"
    }
   ],
   "source": [
    "np.percentile(orders['revenue'], [95, 99])"
   ]
  },
  {
   "cell_type": "markdown",
   "metadata": {},
   "source": [
    "**Вывод**\n",
    "\n",
    "Итак,по согласно перцентилям, не более, чем у 5% заказов чек дороже, чем 26785 руб., и не более 1 % - дороже 53904 руб. Думаю, можно принять за аномальных пользователей тех, у кого заказ дороже 53904 рублей. "
   ]
  },
  {
   "cell_type": "markdown",
   "metadata": {},
   "source": [
    "<a id=\"hip\"></a>\n",
    "## Проверка гипотез"
   ]
  },
  {
   "cell_type": "markdown",
   "metadata": {},
   "source": [
    "#### Посчитаем статистическую значимость различий в конверсии между группами по «сырым» данным."
   ]
  },
  {
   "cell_type": "markdown",
   "metadata": {},
   "source": [
    "Для начала хочу проверить, нормально ли распределение данных (сумм заказов) с помощью критерия Шапиро-Уилка."
   ]
  },
  {
   "cell_type": "code",
   "execution_count": 33,
   "metadata": {
    "scrolled": true
   },
   "outputs": [
    {
     "data": {
      "text/plain": [
       "'p-значение: '"
      ]
     },
     "metadata": {},
     "output_type": "display_data"
    },
    {
     "data": {
      "text/plain": [
       "0.0"
      ]
     },
     "metadata": {},
     "output_type": "display_data"
    },
    {
     "data": {
      "text/plain": [
       "'Отвергаем нулевую гипотезу: распределение не нормально'"
      ]
     },
     "metadata": {},
     "output_type": "display_data"
    }
   ],
   "source": [
    "alpha = 0.05  # установим критический уровень статистической значимости\n",
    "\n",
    "results = st.shapiro(orders['revenue'])\n",
    "p_value = results[1]\n",
    "\n",
    "display('p-значение: ', p_value)\n",
    "\n",
    "if p_value < alpha:\n",
    "    display('Отвергаем нулевую гипотезу: распределение не нормально')\n",
    "else:\n",
    "    display('Не получилось отвергнуть нулевую гипотезу, всё нормально')"
   ]
  },
  {
   "cell_type": "markdown",
   "metadata": {},
   "source": [
    "**Вывод**\n",
    "\n",
    "Итак, распределение не нормально. Этого следовало ожидать, так как данные о продажах и средних чеках редко бывают нормальные. В наших данных, как мы уже убедились выше, есть аномальные выбросы. Поэтому для тестировании будем использовать тест Уилкоксона-Манна-Уитни, так как выбросы могут существенно повлиять на результат."
   ]
  },
  {
   "cell_type": "markdown",
   "metadata": {},
   "source": [
    "**ГИПОТЕЗЫ**"
   ]
  },
  {
   "cell_type": "markdown",
   "metadata": {},
   "source": [
    "- H0: Конверсии группы А и группы В одинаковые.\n",
    "- H1: Конверсии группы А и группы В одинаковые различаются."
   ]
  },
  {
   "cell_type": "markdown",
   "metadata": {},
   "source": [
    "Сначала подготовим данные для дальнейшего теста."
   ]
  },
  {
   "cell_type": "code",
   "execution_count": 34,
   "metadata": {},
   "outputs": [],
   "source": [
    "# Сделаем срез по основной таблице с группой А\n",
    "visitors_A_daily = visitors[visitors['group'] == 'A'][['date', 'visitors']]\n",
    "visitors_A_daily.columns = ['date', 'visitorsPerDateA']\n",
    "\n",
    "# Создадим таблицу с куммулятивными данными о посетителях группы А\n",
    "visitors_A_cummulative = visitors_A_daily.apply(\n",
    "    lambda x: visitors_A_daily[visitors_A_daily['date'] <= x['date']].agg(\n",
    "        {'date': 'max', 'visitorsPerDateA': 'sum'}\n",
    "    ),\n",
    "    axis=1,\n",
    ")\n",
    "visitors_A_cummulative.columns = ['date', 'visitorsCummulativeA']"
   ]
  },
  {
   "cell_type": "code",
   "execution_count": 35,
   "metadata": {},
   "outputs": [],
   "source": [
    "# Теперь то же самое сделаем для группы В\n",
    "visitors_B_daily = visitors[visitors['group'] == 'B'][['date', 'visitors']]\n",
    "visitors_B_daily.columns = ['date', 'visitorsPerDateB']\n",
    "\n",
    "visitors_B_cummulative = visitors_B_daily.apply(\n",
    "    lambda x: visitors_B_daily[visitors_B_daily['date'] <= x['date']].agg(\n",
    "        {'date': 'max', 'visitorsPerDateB': 'sum'}\n",
    "    ),\n",
    "    axis=1,\n",
    ")\n",
    "visitors_B_cummulative.columns = ['date', 'visitorsCummulativeB']\n"
   ]
  },
  {
   "cell_type": "code",
   "execution_count": 36,
   "metadata": {},
   "outputs": [],
   "source": [
    "# Создадим таблицу с пользователями группы А, где \n",
    "# для каждой даты будет подсчитано количество заказов и сумма всех чеков\n",
    "orders_A_daily = (\n",
    "    orders[orders['group'] == 'A'][['date', 'transaction_id', 'visitor_id', 'revenue']]\n",
    "    .groupby('date', as_index=False)\n",
    "    .agg({'transaction_id': pd.Series.nunique, 'revenue': 'sum'})\n",
    ")\n",
    "orders_A_daily.columns = ['date', 'ordersPerDateA', 'revenuePerDateA']\n",
    "\n",
    "# Создадим таблицу группы А с куммулятивным количеством заказов \n",
    "# и куммулятивной суммой заказов по каждому дню\n",
    "orders_A_cummulative = orders_A_daily.apply(\n",
    "    lambda x: orders_A_daily[orders_A_daily['date'] <= x['date']].agg(\n",
    "        {'date': 'max', 'ordersPerDateA': 'sum', 'revenuePerDateA': 'sum'}\n",
    "    ),\n",
    "    axis=1,\n",
    ").sort_values(by=['date'])\n",
    "orders_A_cummulative.columns = [\n",
    "    'date',\n",
    "    'ordersCummulativeA',\n",
    "    'revenueCummulativeA',\n",
    "]"
   ]
  },
  {
   "cell_type": "code",
   "execution_count": 37,
   "metadata": {},
   "outputs": [],
   "source": [
    "# Создадим таблицу с пользователями группы B, где \n",
    "# для каждой даты будет подсчитано количество заказов и сумма всех чеков\n",
    "orders_B_daily = (\n",
    "    orders[orders['group'] == 'B'][['date', 'transaction_id', 'visitor_id', 'revenue']]\n",
    "    .groupby('date', as_index=False)\n",
    "    .agg({'transaction_id': pd.Series.nunique, 'revenue': 'sum'})\n",
    ")\n",
    "orders_B_daily.columns = ['date', 'ordersPerDateB', 'revenuePerDateB']\n",
    "\n",
    "# Создадим таблицу группы B с куммулятивным количеством заказов \n",
    "# и куммулятивной суммой заказов по каждому дню\n",
    "orders_B_cummulative = orders_B_daily.apply(\n",
    "    lambda x: orders_B_daily[orders_B_daily['date'] <= x['date']].agg(\n",
    "        {'date': 'max', 'ordersPerDateB': 'sum', 'revenuePerDateB': 'sum'}\n",
    "    ),\n",
    "    axis=1,\n",
    ").sort_values(by=['date'])\n",
    "orders_B_cummulative.columns = [\n",
    "    'date',\n",
    "    'ordersCummulativeB',\n",
    "    'revenueCummulativeB',\n",
    "]"
   ]
  },
  {
   "cell_type": "code",
   "execution_count": 38,
   "metadata": {},
   "outputs": [
    {
     "data": {
      "text/html": [
       "<div>\n",
       "<style scoped>\n",
       "    .dataframe tbody tr th:only-of-type {\n",
       "        vertical-align: middle;\n",
       "    }\n",
       "\n",
       "    .dataframe tbody tr th {\n",
       "        vertical-align: top;\n",
       "    }\n",
       "\n",
       "    .dataframe thead th {\n",
       "        text-align: right;\n",
       "    }\n",
       "</style>\n",
       "<table border=\"1\" class=\"dataframe\">\n",
       "  <thead>\n",
       "    <tr style=\"text-align: right;\">\n",
       "      <th></th>\n",
       "      <th>date</th>\n",
       "      <th>ordersPerDateA</th>\n",
       "      <th>revenuePerDateA</th>\n",
       "      <th>ordersPerDateB</th>\n",
       "      <th>revenuePerDateB</th>\n",
       "      <th>ordersCummulativeA</th>\n",
       "      <th>revenueCummulativeA</th>\n",
       "      <th>ordersCummulativeB</th>\n",
       "      <th>revenueCummulativeB</th>\n",
       "      <th>visitorsPerDateA</th>\n",
       "      <th>visitorsPerDateB</th>\n",
       "      <th>visitorsCummulativeA</th>\n",
       "      <th>visitorsCummulativeB</th>\n",
       "    </tr>\n",
       "  </thead>\n",
       "  <tbody>\n",
       "    <tr>\n",
       "      <th>0</th>\n",
       "      <td>2019-08-01</td>\n",
       "      <td>23</td>\n",
       "      <td>142779</td>\n",
       "      <td>17</td>\n",
       "      <td>59758</td>\n",
       "      <td>23</td>\n",
       "      <td>142779</td>\n",
       "      <td>17</td>\n",
       "      <td>59758</td>\n",
       "      <td>719</td>\n",
       "      <td>713</td>\n",
       "      <td>719</td>\n",
       "      <td>713</td>\n",
       "    </tr>\n",
       "    <tr>\n",
       "      <th>1</th>\n",
       "      <td>2019-08-02</td>\n",
       "      <td>19</td>\n",
       "      <td>91602</td>\n",
       "      <td>23</td>\n",
       "      <td>162043</td>\n",
       "      <td>42</td>\n",
       "      <td>234381</td>\n",
       "      <td>40</td>\n",
       "      <td>221801</td>\n",
       "      <td>619</td>\n",
       "      <td>581</td>\n",
       "      <td>1338</td>\n",
       "      <td>1294</td>\n",
       "    </tr>\n",
       "    <tr>\n",
       "      <th>2</th>\n",
       "      <td>2019-08-03</td>\n",
       "      <td>24</td>\n",
       "      <td>112473</td>\n",
       "      <td>14</td>\n",
       "      <td>67049</td>\n",
       "      <td>66</td>\n",
       "      <td>346854</td>\n",
       "      <td>54</td>\n",
       "      <td>288850</td>\n",
       "      <td>507</td>\n",
       "      <td>509</td>\n",
       "      <td>1845</td>\n",
       "      <td>1803</td>\n",
       "    </tr>\n",
       "    <tr>\n",
       "      <th>3</th>\n",
       "      <td>2019-08-04</td>\n",
       "      <td>11</td>\n",
       "      <td>41176</td>\n",
       "      <td>14</td>\n",
       "      <td>96890</td>\n",
       "      <td>77</td>\n",
       "      <td>388030</td>\n",
       "      <td>68</td>\n",
       "      <td>385740</td>\n",
       "      <td>717</td>\n",
       "      <td>770</td>\n",
       "      <td>2562</td>\n",
       "      <td>2573</td>\n",
       "    </tr>\n",
       "    <tr>\n",
       "      <th>4</th>\n",
       "      <td>2019-08-05</td>\n",
       "      <td>22</td>\n",
       "      <td>86383</td>\n",
       "      <td>21</td>\n",
       "      <td>89908</td>\n",
       "      <td>99</td>\n",
       "      <td>474413</td>\n",
       "      <td>89</td>\n",
       "      <td>475648</td>\n",
       "      <td>756</td>\n",
       "      <td>707</td>\n",
       "      <td>3318</td>\n",
       "      <td>3280</td>\n",
       "    </tr>\n",
       "  </tbody>\n",
       "</table>\n",
       "</div>"
      ],
      "text/plain": [
       "        date  ordersPerDateA  revenuePerDateA  ordersPerDateB  \\\n",
       "0 2019-08-01              23           142779              17   \n",
       "1 2019-08-02              19            91602              23   \n",
       "2 2019-08-03              24           112473              14   \n",
       "3 2019-08-04              11            41176              14   \n",
       "4 2019-08-05              22            86383              21   \n",
       "\n",
       "   revenuePerDateB  ordersCummulativeA  revenueCummulativeA  \\\n",
       "0            59758                  23               142779   \n",
       "1           162043                  42               234381   \n",
       "2            67049                  66               346854   \n",
       "3            96890                  77               388030   \n",
       "4            89908                  99               474413   \n",
       "\n",
       "   ordersCummulativeB  revenueCummulativeB  visitorsPerDateA  \\\n",
       "0                  17                59758               719   \n",
       "1                  40               221801               619   \n",
       "2                  54               288850               507   \n",
       "3                  68               385740               717   \n",
       "4                  89               475648               756   \n",
       "\n",
       "   visitorsPerDateB  visitorsCummulativeA  visitorsCummulativeB  \n",
       "0               713                   719                   713  \n",
       "1               581                  1338                  1294  \n",
       "2               509                  1845                  1803  \n",
       "3               770                  2562                  2573  \n",
       "4               707                  3318                  3280  "
      ]
     },
     "execution_count": 38,
     "metadata": {},
     "output_type": "execute_result"
    }
   ],
   "source": [
    "# Объединим все созданные таблицы в одну\n",
    "df = (\n",
    "    orders_A_daily.merge(\n",
    "        orders_B_daily, left_on='date', right_on='date', how='left'\n",
    "    )\n",
    "    .merge(orders_A_cummulative, left_on='date', right_on='date', how='left')\n",
    "    .merge(orders_B_cummulative, left_on='date', right_on='date', how='left')\n",
    "    .merge(visitors_A_daily, left_on='date', right_on='date', how='left')\n",
    "    .merge(visitors_B_daily, left_on='date', right_on='date', how='left')\n",
    "    .merge(visitors_A_cummulative, left_on='date', right_on='date', how='left')\n",
    "    .merge(visitors_B_cummulative, left_on='date', right_on='date', how='left')\n",
    ")\n",
    "\n",
    "df.head(5)\n"
   ]
  },
  {
   "cell_type": "markdown",
   "metadata": {},
   "source": [
    "**Теперь можно подсчитать статистическую значимость различия в конверсии между группами.**"
   ]
  },
  {
   "cell_type": "markdown",
   "metadata": {},
   "source": [
    "Итак, напомню наши **гипотезы.**"
   ]
  },
  {
   "cell_type": "markdown",
   "metadata": {},
   "source": [
    "- H0: Конверсии группы А и группы В одинаковые.\n",
    "- H1: Конверсии группы А и группы В одинаковые различаются."
   ]
  },
  {
   "cell_type": "code",
   "execution_count": 39,
   "metadata": {},
   "outputs": [],
   "source": [
    "# Создадим переменные orders_by_users_A и orders_by_users_B, где для \n",
    "# пользователей, которые заказывали хотя бы 1 раз, укажем число совершённых заказов\n",
    "orders_by_users_A = (\n",
    "    orders[orders['group'] == 'A']\n",
    "    .groupby('visitor_id', as_index=False)\n",
    "    .agg({'transaction_id': pd.Series.nunique})\n",
    ")\n",
    "orders_by_users_A.columns = ['visitor_id', 'orders']\n",
    "\n",
    "orders_by_users_B = (\n",
    "    orders[orders['group'] == 'B']\n",
    "    .groupby('visitor_id', as_index=False)\n",
    "    .agg({'transaction_id': pd.Series.nunique})\n",
    ")\n",
    "orders_by_users_B.columns = ['visitor_id', 'orders']"
   ]
  },
  {
   "cell_type": "code",
   "execution_count": 40,
   "metadata": {},
   "outputs": [],
   "source": [
    "# Объявим переменные sample_A и sample_B, в которых пользователям из разных \n",
    "# групп будет соответствовать количество заказов. Тем, кто ничего не заказал, \n",
    "# будут соответствовать нули\n",
    "sample_A = pd.concat([orders_by_users_A['orders'],\\\n",
    "  pd.Series(0, index=np.arange(df['visitorsPerDateA'].sum() - len(orders_by_users_A['orders'])),\\\n",
    "  name='orders')],axis=0)\n",
    "\n",
    "sample_B = pd.concat([orders_by_users_B['orders'],\\\n",
    "  pd.Series(0, index=np.arange(df['visitorsPerDateB'].sum() - len(orders_by_users_B['orders'])),\\\n",
    "  name='orders')],axis=0) \n"
   ]
  },
  {
   "cell_type": "code",
   "execution_count": 41,
   "metadata": {},
   "outputs": [],
   "source": [
    "# Установим пороговое значение\n",
    "alpha = 0.05"
   ]
  },
  {
   "cell_type": "code",
   "execution_count": 42,
   "metadata": {},
   "outputs": [],
   "source": [
    "# Применим критерий Манна-Уитни, округлив до 3 знаков после запятой,\n",
    "# также найдем относительный прирост конверсии группы B и округлим\n",
    "p_value = '{0:.3f}'.format(st.mannwhitneyu(sample_A, sample_B)[1])\n",
    "p_value = float(p_value)\n",
    "growth_conversion = '{0:.3f}'.format(sample_B.mean() / sample_A.mean() - 1)"
   ]
  },
  {
   "cell_type": "code",
   "execution_count": 43,
   "metadata": {
    "scrolled": true
   },
   "outputs": [
    {
     "data": {
      "text/plain": [
       "'p-значение:'"
      ]
     },
     "metadata": {},
     "output_type": "display_data"
    },
    {
     "data": {
      "text/plain": [
       "0.011"
      ]
     },
     "metadata": {},
     "output_type": "display_data"
    },
    {
     "data": {
      "text/plain": [
       "'Отвергаем нулевую гипотезу'"
      ]
     },
     "metadata": {},
     "output_type": "display_data"
    }
   ],
   "source": [
    "display('p-значение:', p_value)\n",
    "if (p_value < alpha):\n",
    "    display('Отвергаем нулевую гипотезу')\n",
    "else:\n",
    "    display('Не получилось отвергнуть нулевую гипотезу')"
   ]
  },
  {
   "cell_type": "code",
   "execution_count": 44,
   "metadata": {
    "scrolled": false
   },
   "outputs": [
    {
     "data": {
      "text/plain": [
       "'относительный прирост конверсии группы B:'"
      ]
     },
     "metadata": {},
     "output_type": "display_data"
    },
    {
     "data": {
      "text/plain": [
       "'0.160'"
      ]
     },
     "metadata": {},
     "output_type": "display_data"
    }
   ],
   "source": [
    "display('относительный прирост конверсии группы B:', growth_conversion)"
   ]
  },
  {
   "cell_type": "markdown",
   "metadata": {},
   "source": [
    "**Вывод**\n",
    "\n",
    "Итак, p-value = 0.011 меньше 0.05. Значит, нулевую гипотезу о том, что статистически значимых различий в конверсии между группами нет, отвергаем. Скорее всего, различия в конверсии есть. Относительный прирост группы B относительно группы А равен 16%."
   ]
  },
  {
   "cell_type": "markdown",
   "metadata": {},
   "source": [
    "#### Посчитаем статистическую значимость различий в среднем чеке заказа между группами по «сырым» данным."
   ]
  },
  {
   "cell_type": "markdown",
   "metadata": {},
   "source": [
    "**ГИПОТЕЗЫ**"
   ]
  },
  {
   "cell_type": "markdown",
   "metadata": {},
   "source": [
    "- Н0: Различий в среднем чеке между группами нет. \n",
    "- Н1: Различия в среднем чеке между группами есть."
   ]
  },
  {
   "cell_type": "code",
   "execution_count": 45,
   "metadata": {},
   "outputs": [],
   "source": [
    "# Передадим критерию mannwhitneyu() данные о выручке с заказов\n",
    "# и найдём относительные различия в среднем чеке между группами\n",
    "p_val = '{0:.3f}'.format(st.mannwhitneyu(orders[orders['group']=='A']['revenue'],\\\n",
    "                  orders[orders['group']=='B']['revenue'])[1])\n",
    "p_val = float(p_val)\n",
    "\n",
    "# Найдём относительные различия в среднем чеке между группами\n",
    "growth_cheque = '{0:.3f}'.format(orders[orders['group']=='B']['revenue'].mean()/\\\n",
    "                         orders[orders['group']=='A']['revenue'].mean()-1)"
   ]
  },
  {
   "cell_type": "code",
   "execution_count": 46,
   "metadata": {},
   "outputs": [
    {
     "data": {
      "text/plain": [
       "'p-значение:'"
      ]
     },
     "metadata": {},
     "output_type": "display_data"
    },
    {
     "data": {
      "text/plain": [
       "0.829"
      ]
     },
     "metadata": {},
     "output_type": "display_data"
    },
    {
     "data": {
      "text/plain": [
       "'Не получилось отвергнуть нулевую гипотезу'"
      ]
     },
     "metadata": {},
     "output_type": "display_data"
    }
   ],
   "source": [
    "display('p-значение:', p_val)\n",
    "if (p_val < alpha):\n",
    "    display('Отвергаем нулевую гипотезу')\n",
    "else:\n",
    "    display('Не получилось отвергнуть нулевую гипотезу')"
   ]
  },
  {
   "cell_type": "code",
   "execution_count": 47,
   "metadata": {},
   "outputs": [
    {
     "data": {
      "text/plain": [
       "'относительный прирост среднего чека группы B:'"
      ]
     },
     "metadata": {},
     "output_type": "display_data"
    },
    {
     "data": {
      "text/plain": [
       "'0.287'"
      ]
     },
     "metadata": {},
     "output_type": "display_data"
    }
   ],
   "source": [
    "display('относительный прирост среднего чека группы B:', growth_cheque)"
   ]
  },
  {
   "cell_type": "markdown",
   "metadata": {},
   "source": [
    "**Вывод**\n",
    "\n",
    "P-value значительно больше 0.05. Значит, причин отвергать нулевую гипотезу и считать, что в среднем чеке есть различия, нет. Наблюдаемое значение среднего чека групп  в 28% не является статистически значимым. Проведем еще раз статистический тест, исключив выбросы."
   ]
  },
  {
   "cell_type": "markdown",
   "metadata": {},
   "source": [
    "#### Посчитаем статистическую значимость различий в конверсии между группами по «очищенным» данным."
   ]
  },
  {
   "cell_type": "markdown",
   "metadata": {},
   "source": [
    "**ГИПОТЕЗЫ**"
   ]
  },
  {
   "cell_type": "markdown",
   "metadata": {},
   "source": [
    "- H0: Конверсии группы А и группы В одинаковые.\n",
    "- H1: Конверсии группы А и группы В одинаковые различаются."
   ]
  },
  {
   "cell_type": "markdown",
   "metadata": {},
   "source": [
    "Примем за аномальных пользователей тех, кто совершил от 2 заказов или совершил заказ дороже 53904 рублей."
   ]
  },
  {
   "cell_type": "code",
   "execution_count": 48,
   "metadata": {},
   "outputs": [],
   "source": [
    "# Сделаем срез пользователей с числом заказов больше 2 — users_with_many_orders\n",
    "order_lim = np.percentile(orders_by_users['orders'], 99)\n",
    "users_with_many_orders = pd.concat(\n",
    "    [\n",
    "        orders_by_users_A[orders_by_users_A['orders'] > order_lim]['visitor_id'],\n",
    "        orders_by_users_B[orders_by_users_B['orders'] > order_lim]['visitor_id'],\n",
    "    ],\n",
    "    axis=0,\n",
    ")\n",
    "\n",
    "# Сделаем срез пользователей , совершивших заказы дороже 30 000 \n",
    "revenue_lim = np.percentile(orders['revenue'], 99)\n",
    "users_with_expensive_orders = orders[orders['revenue'] > revenue_lim]['visitor_id']\n"
   ]
  },
  {
   "cell_type": "code",
   "execution_count": 49,
   "metadata": {
    "scrolled": true
   },
   "outputs": [
    {
     "data": {
      "text/plain": [
       "(16,)"
      ]
     },
     "execution_count": 49,
     "metadata": {},
     "output_type": "execute_result"
    }
   ],
   "source": [
    "# Объединим их в общей таблице\n",
    "abnormal_users = (\n",
    "    pd.concat([users_with_many_orders, users_with_expensive_orders], axis=0)\n",
    "    .drop_duplicates()\n",
    "    .sort_values()\n",
    ")\n",
    "abnormal_users\n",
    "abnormal_users.shape"
   ]
  },
  {
   "cell_type": "markdown",
   "metadata": {},
   "source": [
    "Всего 16 аномальных пользователей."
   ]
  },
  {
   "cell_type": "markdown",
   "metadata": {},
   "source": [
    "Сначала подготовим выборки количества заказов по пользователям по группам теста, исключив аномальных пользователей."
   ]
  },
  {
   "cell_type": "code",
   "execution_count": 50,
   "metadata": {},
   "outputs": [],
   "source": [
    "sample_A_filtered = pd.concat(\n",
    "    [\n",
    "        orders_by_users_A[\n",
    "            np.logical_not(orders_by_users_A['visitor_id'].isin(abnormal_users))\n",
    "        ]['orders'],\n",
    "        pd.Series(\n",
    "            0,\n",
    "            index=np.arange(\n",
    "                df['visitorsPerDateA'].sum() - len(orders_by_users_A['orders'])\n",
    "            ),\n",
    "            name='orders',\n",
    "        ),\n",
    "    ],\n",
    "    axis=0,\n",
    ")\n",
    "\n",
    "sample_B_filtered = pd.concat(\n",
    "    [\n",
    "        orders_by_users_B[\n",
    "            np.logical_not(orders_by_users_B['visitor_id'].isin(abnormal_users))\n",
    "        ]['orders'],\n",
    "        pd.Series(\n",
    "            0,\n",
    "            index=np.arange(\n",
    "                df['visitorsPerDateB'].sum() - len(orders_by_users_B['orders'])\n",
    "            ),\n",
    "            name='orders',\n",
    "        ),\n",
    "    ],\n",
    "    axis=0,\n",
    ") \n"
   ]
  },
  {
   "cell_type": "code",
   "execution_count": 51,
   "metadata": {},
   "outputs": [],
   "source": [
    "# Применим статистический критерий Манна-Уитни к полученным выборкам\n",
    "p_value_new = '{0:.3f}'.format(st.mannwhitneyu(sample_A_filtered, sample_B_filtered)[1])\n",
    "p_value_new = float(p_value_new)\n",
    "growth_conversion_new = '{0:.3f}'.format(sample_B_filtered.mean()/sample_A_filtered.mean()-1)"
   ]
  },
  {
   "cell_type": "code",
   "execution_count": 52,
   "metadata": {
    "scrolled": false
   },
   "outputs": [
    {
     "data": {
      "text/plain": [
       "'p-значение:'"
      ]
     },
     "metadata": {},
     "output_type": "display_data"
    },
    {
     "data": {
      "text/plain": [
       "0.007"
      ]
     },
     "metadata": {},
     "output_type": "display_data"
    },
    {
     "data": {
      "text/plain": [
       "'Отвергаем нулевую гипотезу'"
      ]
     },
     "metadata": {},
     "output_type": "display_data"
    }
   ],
   "source": [
    "display('p-значение:', p_value_new)\n",
    "if (p_value_new < alpha):\n",
    "    display('Отвергаем нулевую гипотезу')\n",
    "else:\n",
    "    display('Не получилось отвергнуть нулевую гипотезу')"
   ]
  },
  {
   "cell_type": "code",
   "execution_count": 53,
   "metadata": {
    "scrolled": true
   },
   "outputs": [
    {
     "data": {
      "text/plain": [
       "'Относительный прирост конверсии отфильтрованной группы B:'"
      ]
     },
     "metadata": {},
     "output_type": "display_data"
    },
    {
     "data": {
      "text/plain": [
       "'0.189'"
      ]
     },
     "metadata": {},
     "output_type": "display_data"
    }
   ],
   "source": [
    "display('Относительный прирост конверсии отфильтрованной группы B:', growth_conversion_new)"
   ]
  },
  {
   "cell_type": "markdown",
   "metadata": {},
   "source": [
    "**Вывод**\n",
    "\n",
    "Результаты по конверсии практически не изменились. Относительный прирост по конверсии у группы В стал чуть больше."
   ]
  },
  {
   "cell_type": "markdown",
   "metadata": {},
   "source": [
    "#### Посчитаем статистическую значимость различий в среднем чеке заказа между группами по «очищенным» данным."
   ]
  },
  {
   "cell_type": "markdown",
   "metadata": {},
   "source": [
    "**ГИПОТЕЗЫ**"
   ]
  },
  {
   "cell_type": "markdown",
   "metadata": {},
   "source": [
    "- Н0: Различий в среднем чеке между группами нет. \n",
    "- Н1: Различия в среднем чеке между группами есть."
   ]
  },
  {
   "cell_type": "code",
   "execution_count": 54,
   "metadata": {},
   "outputs": [],
   "source": [
    "# Применим статистический критерий Манна-Уитни к полученным выборкам\n",
    "p_val_new = '{0:.3f}'.format(\n",
    "        st.mannwhitneyu(\n",
    "            orders[np.logical_and(orders['group'] == 'A',\n",
    "                    np.logical_not(orders['visitor_id'].isin(abnormal_users)),\n",
    "                )\n",
    "            ]['revenue'],\n",
    "            orders[np.logical_and (orders['group'] == 'B',\n",
    "                    np.logical_not(orders['visitor_id'].isin(abnormal_users)),\n",
    "                )\n",
    "            ]['revenue'],\n",
    "        )[1]\n",
    "    )\n",
    "p_val_new = float(p_val_new)"
   ]
  },
  {
   "cell_type": "code",
   "execution_count": 55,
   "metadata": {},
   "outputs": [],
   "source": [
    "# Найдём относительные различия в среднем чеке между группами\n",
    "growth_cheque_new = '{0:.3f}'.format(\n",
    "        orders[np.logical_and(orders['group'] == 'B',\n",
    "                np.logical_not(orders['visitor_id'].isin(abnormal_users)),\n",
    "            )\n",
    "        ]['revenue'].mean()\n",
    "        / orders[np.logical_and(orders['group'] == 'A',\n",
    "                np.logical_not(orders['visitor_id'].isin(abnormal_users)),\n",
    "            )\n",
    "        ]['revenue'].mean()\n",
    "        - 1\n",
    "    )"
   ]
  },
  {
   "cell_type": "code",
   "execution_count": 56,
   "metadata": {
    "scrolled": false
   },
   "outputs": [
    {
     "data": {
      "text/plain": [
       "'p-значение:'"
      ]
     },
     "metadata": {},
     "output_type": "display_data"
    },
    {
     "data": {
      "text/plain": [
       "0.788"
      ]
     },
     "metadata": {},
     "output_type": "display_data"
    },
    {
     "data": {
      "text/plain": [
       "'Не получилось отвергнуть нулевую гипотезу'"
      ]
     },
     "metadata": {},
     "output_type": "display_data"
    }
   ],
   "source": [
    "display('p-значение:', p_val_new)\n",
    "if (p_val_new < alpha):\n",
    "    display('Отвергаем нулевую гипотезу')\n",
    "else:\n",
    "    display('Не получилось отвергнуть нулевую гипотезу')"
   ]
  },
  {
   "cell_type": "code",
   "execution_count": 57,
   "metadata": {
    "scrolled": true
   },
   "outputs": [
    {
     "data": {
      "text/plain": [
       "'Относительная разница среднего чека между отфильтрованными группами:'"
      ]
     },
     "metadata": {},
     "output_type": "display_data"
    },
    {
     "data": {
      "text/plain": [
       "'-0.032'"
      ]
     },
     "metadata": {},
     "output_type": "display_data"
    }
   ],
   "source": [
    "display('Относительная разница среднего чека между отфильтрованными группами:', growth_cheque_new)"
   ]
  },
  {
   "cell_type": "markdown",
   "metadata": {},
   "source": [
    "**Вывод**\n",
    "\n",
    "Итак, нулевую гипотезу опровергнуть не удалось,значит, скорее всего, разницы между средними чеками групп нет. Наблюдаемое различие между средними чеками в 3 % не является статистически важным. "
   ]
  },
  {
   "cell_type": "markdown",
   "metadata": {},
   "source": [
    "<a id=\"end\"></a>\n",
    "## Общий вывод"
   ]
  },
  {
   "cell_type": "markdown",
   "metadata": {},
   "source": [
    "Итак, какие мы получили результаты:\n",
    "- Есть статистически значимое различие по конверсии между группами как по сырым данным, так и после фильтрации аномалий. \n",
    "- И по сырым данным, и по фильтрованным нет статистически значимого различия по среднему чеку между группами. Единственное, если до фильтрации относительная разница среднего чека группы В по отношению к А была положительной (то есть чек группы В был больше), то после фильтрации средний чек группы В, наоборот, стал меньше.\n",
    "- График различия конверсии между группами сообщает, что результаты группы B лучше группы A: имеют тенденцию к росту. Но пока конверсия не установилась. Продемонстрирую это ниже."
   ]
  },
  {
   "cell_type": "code",
   "execution_count": 58,
   "metadata": {},
   "outputs": [
    {
     "data": {
      "image/png": "[encoded data removed]",
      "text/plain": [
       "<Figure size 720x360 with 1 Axes>"
      ]
     },
     "metadata": {
      "needs_background": "light"
     },
     "output_type": "display_data"
    }
   ],
   "source": [
    "# Построим график\n",
    "plt.figure(figsize=(10, 5))\n",
    "plt.plot(сumulative_сonv['date'], сumulative_сonv['conversionB']/сumulative_сonv['conversionA']-1, label='прирост конверсии')\n",
    "plt.legend()\n",
    "\n",
    "plt.title('Относительный прирост конверсии группы B относительно группы A')\n",
    "plt.axhline(y=0, color='black', linestyle='--')\n",
    "plt.axhline(y=0.15, color='grey', linestyle='--')\n",
    "plt.axis([pd.to_datetime('2019-08-01'), pd.to_datetime('2019-09-03'), -0.3, 0.3]);"
   ]
  },
  {
   "cell_type": "markdown",
   "metadata": {},
   "source": [
    "**Проанализировав результаты, я пришла к выводу,что А/В тестирование можно закончить. Тест оказался успешным по конверсии (то есть конверсия у группы В выше, чем у группы А). К тому же график относительного прироста конверсии показал, что конверсия зафиксировалась. И поскольку конверсия группы В выше, то даже при сохранившемся средним чеком, выручка будет расти.**"
   ]
  },
  {
   "cell_type": "code",
   "execution_count": null,
   "metadata": {},
   "outputs": [],
   "source": []
  }
 ],
 "metadata": {
  "ExecuteTimeLog": [
   {
    "duration": 803,
    "start_time": "2022-04-25T12:49:56.534Z"
   },
   {
    "duration": 50,
    "start_time": "2022-04-25T14:02:15.191Z"
   },
   {
    "duration": 15,
    "start_time": "2022-04-25T14:02:43.027Z"
   },
   {
    "duration": 95,
    "start_time": "2022-04-25T14:37:45.077Z"
   },
   {
    "duration": 7,
    "start_time": "2022-04-25T14:37:52.867Z"
   },
   {
    "duration": 10,
    "start_time": "2022-04-25T14:37:55.364Z"
   },
   {
    "duration": 4,
    "start_time": "2022-04-25T14:41:07.972Z"
   },
   {
    "duration": 10,
    "start_time": "2022-04-25T14:41:24.894Z"
   },
   {
    "duration": 15,
    "start_time": "2022-04-25T14:44:13.513Z"
   },
   {
    "duration": 63,
    "start_time": "2022-04-25T14:58:53.831Z"
   },
   {
    "duration": 8,
    "start_time": "2022-04-25T14:59:09.558Z"
   },
   {
    "duration": 12,
    "start_time": "2022-04-25T14:59:20.583Z"
   },
   {
    "duration": 7,
    "start_time": "2022-04-25T14:59:40.626Z"
   },
   {
    "duration": 10,
    "start_time": "2022-04-25T14:59:53.736Z"
   },
   {
    "duration": 2,
    "start_time": "2022-04-25T15:04:03.195Z"
   },
   {
    "duration": 12,
    "start_time": "2022-04-25T15:05:59.261Z"
   },
   {
    "duration": 2,
    "start_time": "2022-04-25T15:10:36.211Z"
   },
   {
    "duration": 344,
    "start_time": "2022-04-25T15:10:45.198Z"
   },
   {
    "duration": 2,
    "start_time": "2022-04-25T15:10:58.043Z"
   },
   {
    "duration": 14,
    "start_time": "2022-04-25T15:10:58.055Z"
   },
   {
    "duration": 4,
    "start_time": "2022-04-25T15:10:58.078Z"
   },
   {
    "duration": 9,
    "start_time": "2022-04-25T15:10:58.124Z"
   },
   {
    "duration": 5,
    "start_time": "2022-04-25T15:10:58.135Z"
   },
   {
    "duration": 11,
    "start_time": "2022-04-25T15:10:58.141Z"
   },
   {
    "duration": 29,
    "start_time": "2022-04-25T15:10:58.153Z"
   },
   {
    "duration": 7,
    "start_time": "2022-04-25T15:10:58.184Z"
   },
   {
    "duration": 11,
    "start_time": "2022-04-25T15:10:58.193Z"
   },
   {
    "duration": 9,
    "start_time": "2022-04-25T15:10:58.205Z"
   },
   {
    "duration": 13,
    "start_time": "2022-04-25T15:10:58.215Z"
   },
   {
    "duration": 11,
    "start_time": "2022-04-25T15:11:03.047Z"
   },
   {
    "duration": 307,
    "start_time": "2022-04-25T15:13:18.105Z"
   },
   {
    "duration": 3,
    "start_time": "2022-04-25T15:13:24.121Z"
   },
   {
    "duration": 23,
    "start_time": "2022-04-25T15:13:24.129Z"
   },
   {
    "duration": 5,
    "start_time": "2022-04-25T15:13:24.154Z"
   },
   {
    "duration": 34,
    "start_time": "2022-04-25T15:13:24.160Z"
   },
   {
    "duration": 17,
    "start_time": "2022-04-25T15:13:24.197Z"
   },
   {
    "duration": 11,
    "start_time": "2022-04-25T15:13:24.215Z"
   },
   {
    "duration": 29,
    "start_time": "2022-04-25T15:13:24.228Z"
   },
   {
    "duration": 7,
    "start_time": "2022-04-25T15:13:24.259Z"
   },
   {
    "duration": 13,
    "start_time": "2022-04-25T15:13:24.269Z"
   },
   {
    "duration": 9,
    "start_time": "2022-04-25T15:13:24.284Z"
   },
   {
    "duration": 18,
    "start_time": "2022-04-25T15:13:24.295Z"
   },
   {
    "duration": 11,
    "start_time": "2022-04-25T15:13:24.315Z"
   },
   {
    "duration": 268,
    "start_time": "2022-04-25T15:13:29.224Z"
   },
   {
    "duration": 252,
    "start_time": "2022-04-25T15:13:30.339Z"
   },
   {
    "duration": 3,
    "start_time": "2022-04-25T15:13:37.309Z"
   },
   {
    "duration": 15,
    "start_time": "2022-04-25T15:13:37.316Z"
   },
   {
    "duration": 4,
    "start_time": "2022-04-25T15:13:37.333Z"
   },
   {
    "duration": 10,
    "start_time": "2022-04-25T15:13:37.339Z"
   },
   {
    "duration": 4,
    "start_time": "2022-04-25T15:13:37.351Z"
   },
   {
    "duration": 10,
    "start_time": "2022-04-25T15:13:37.371Z"
   },
   {
    "duration": 30,
    "start_time": "2022-04-25T15:13:37.382Z"
   },
   {
    "duration": 7,
    "start_time": "2022-04-25T15:13:37.414Z"
   },
   {
    "duration": 11,
    "start_time": "2022-04-25T15:13:37.422Z"
   },
   {
    "duration": 12,
    "start_time": "2022-04-25T15:13:37.435Z"
   },
   {
    "duration": 16,
    "start_time": "2022-04-25T15:13:37.448Z"
   },
   {
    "duration": 12,
    "start_time": "2022-04-25T15:13:44.326Z"
   },
   {
    "duration": 306,
    "start_time": "2022-04-25T15:13:45.641Z"
   },
   {
    "duration": 3,
    "start_time": "2022-04-25T15:17:16.060Z"
   },
   {
    "duration": 21,
    "start_time": "2022-04-25T15:17:16.066Z"
   },
   {
    "duration": 4,
    "start_time": "2022-04-25T15:17:16.089Z"
   },
   {
    "duration": 10,
    "start_time": "2022-04-25T15:17:16.095Z"
   },
   {
    "duration": 4,
    "start_time": "2022-04-25T15:17:16.107Z"
   },
   {
    "duration": 10,
    "start_time": "2022-04-25T15:17:16.113Z"
   },
   {
    "duration": 28,
    "start_time": "2022-04-25T15:17:16.125Z"
   },
   {
    "duration": 8,
    "start_time": "2022-04-25T15:17:16.155Z"
   },
   {
    "duration": 10,
    "start_time": "2022-04-25T15:17:16.165Z"
   },
   {
    "duration": 10,
    "start_time": "2022-04-25T15:17:20.627Z"
   },
   {
    "duration": 7,
    "start_time": "2022-04-25T15:17:21.514Z"
   },
   {
    "duration": 10,
    "start_time": "2022-04-25T15:17:22.388Z"
   },
   {
    "duration": 14,
    "start_time": "2022-04-25T15:17:29.066Z"
   },
   {
    "duration": 318,
    "start_time": "2022-04-25T15:18:08.711Z"
   },
   {
    "duration": 5,
    "start_time": "2022-04-25T15:18:23.529Z"
   },
   {
    "duration": 11,
    "start_time": "2022-04-25T16:09:20.476Z"
   },
   {
    "duration": 4,
    "start_time": "2022-04-25T16:12:20.074Z"
   },
   {
    "duration": 5,
    "start_time": "2022-04-25T16:12:43.836Z"
   },
   {
    "duration": 78,
    "start_time": "2022-04-25T16:16:30.729Z"
   },
   {
    "duration": 3,
    "start_time": "2022-04-25T16:17:15.899Z"
   },
   {
    "duration": 17,
    "start_time": "2022-04-25T16:17:15.903Z"
   },
   {
    "duration": 4,
    "start_time": "2022-04-25T16:17:15.922Z"
   },
   {
    "duration": 12,
    "start_time": "2022-04-25T16:17:15.928Z"
   },
   {
    "duration": 6,
    "start_time": "2022-04-25T16:17:15.941Z"
   },
   {
    "duration": 13,
    "start_time": "2022-04-25T16:17:15.949Z"
   },
   {
    "duration": 31,
    "start_time": "2022-04-25T16:17:15.964Z"
   },
   {
    "duration": 10,
    "start_time": "2022-04-25T16:17:15.997Z"
   },
   {
    "duration": 11,
    "start_time": "2022-04-25T16:17:16.009Z"
   },
   {
    "duration": 9,
    "start_time": "2022-04-25T16:17:16.022Z"
   },
   {
    "duration": 11,
    "start_time": "2022-04-25T16:17:16.033Z"
   },
   {
    "duration": 67,
    "start_time": "2022-04-25T16:17:19.842Z"
   },
   {
    "duration": 65,
    "start_time": "2022-04-25T16:17:57.718Z"
   },
   {
    "duration": 5,
    "start_time": "2022-04-25T16:18:09.240Z"
   },
   {
    "duration": 5,
    "start_time": "2022-04-25T16:18:46.199Z"
   },
   {
    "duration": 1204,
    "start_time": "2022-04-25T16:20:56.543Z"
   },
   {
    "duration": 3,
    "start_time": "2022-04-25T16:21:37.875Z"
   },
   {
    "duration": 15,
    "start_time": "2022-04-25T16:21:37.885Z"
   },
   {
    "duration": 4,
    "start_time": "2022-04-25T16:21:37.902Z"
   },
   {
    "duration": 11,
    "start_time": "2022-04-25T16:21:37.907Z"
   },
   {
    "duration": 6,
    "start_time": "2022-04-25T16:21:37.920Z"
   },
   {
    "duration": 12,
    "start_time": "2022-04-25T16:21:37.928Z"
   },
   {
    "duration": 29,
    "start_time": "2022-04-25T16:21:37.942Z"
   },
   {
    "duration": 8,
    "start_time": "2022-04-25T16:21:37.972Z"
   },
   {
    "duration": 10,
    "start_time": "2022-04-25T16:21:37.982Z"
   },
   {
    "duration": 17,
    "start_time": "2022-04-25T16:21:37.994Z"
   },
   {
    "duration": 10,
    "start_time": "2022-04-25T16:21:38.013Z"
   },
   {
    "duration": 4,
    "start_time": "2022-04-25T16:21:38.026Z"
   },
   {
    "duration": 12,
    "start_time": "2022-04-25T16:21:38.032Z"
   },
   {
    "duration": 5,
    "start_time": "2022-04-25T16:21:38.045Z"
   },
   {
    "duration": 8,
    "start_time": "2022-04-25T16:21:40.962Z"
   },
   {
    "duration": 59,
    "start_time": "2022-04-25T16:21:42.116Z"
   },
   {
    "duration": 57,
    "start_time": "2022-04-25T16:22:05.017Z"
   },
   {
    "duration": 14,
    "start_time": "2022-04-25T16:23:46.254Z"
   },
   {
    "duration": 11,
    "start_time": "2022-04-25T16:23:55.246Z"
   },
   {
    "duration": 14,
    "start_time": "2022-04-25T16:24:18.239Z"
   },
   {
    "duration": 10,
    "start_time": "2022-04-25T16:25:01.778Z"
   },
   {
    "duration": 12,
    "start_time": "2022-04-25T16:25:34.430Z"
   },
   {
    "duration": 12,
    "start_time": "2022-04-25T16:26:31.410Z"
   },
   {
    "duration": 14,
    "start_time": "2022-04-25T16:26:37.286Z"
   },
   {
    "duration": 54,
    "start_time": "2022-04-25T16:27:34.423Z"
   },
   {
    "duration": 5,
    "start_time": "2022-04-25T16:29:56.284Z"
   },
   {
    "duration": 27,
    "start_time": "2022-04-25T16:37:32.782Z"
   },
   {
    "duration": 5,
    "start_time": "2022-04-25T16:37:54.115Z"
   },
   {
    "duration": 5,
    "start_time": "2022-04-25T16:38:06.896Z"
   },
   {
    "duration": 6,
    "start_time": "2022-04-25T16:41:09.213Z"
   },
   {
    "duration": 13,
    "start_time": "2022-04-25T16:45:23.679Z"
   },
   {
    "duration": 13,
    "start_time": "2022-04-25T16:45:48.861Z"
   },
   {
    "duration": 13,
    "start_time": "2022-04-25T16:46:50.014Z"
   },
   {
    "duration": 173,
    "start_time": "2022-04-25T16:47:05.872Z"
   },
   {
    "duration": 167,
    "start_time": "2022-04-25T16:49:05.087Z"
   },
   {
    "duration": 294,
    "start_time": "2022-04-25T16:51:41.892Z"
   },
   {
    "duration": 7,
    "start_time": "2022-04-25T16:53:27.507Z"
   },
   {
    "duration": 6,
    "start_time": "2022-04-25T16:53:50.364Z"
   },
   {
    "duration": 3,
    "start_time": "2022-04-25T16:54:18.954Z"
   },
   {
    "duration": 9,
    "start_time": "2022-04-25T16:54:32.218Z"
   },
   {
    "duration": 426,
    "start_time": "2022-04-25T16:55:29.769Z"
   },
   {
    "duration": 18,
    "start_time": "2022-04-25T16:57:12.922Z"
   },
   {
    "duration": 8,
    "start_time": "2022-04-25T16:57:29.694Z"
   },
   {
    "duration": 8,
    "start_time": "2022-04-25T16:57:39.875Z"
   },
   {
    "duration": 252,
    "start_time": "2022-04-25T16:58:41.770Z"
   },
   {
    "duration": 190,
    "start_time": "2022-04-25T16:59:41.199Z"
   },
   {
    "duration": 187,
    "start_time": "2022-04-25T16:59:51.384Z"
   },
   {
    "duration": 181,
    "start_time": "2022-04-25T17:00:07.498Z"
   },
   {
    "duration": 247,
    "start_time": "2022-04-25T17:01:13.400Z"
   },
   {
    "duration": 211,
    "start_time": "2022-04-25T17:01:35.205Z"
   },
   {
    "duration": 198,
    "start_time": "2022-04-25T17:01:50.576Z"
   },
   {
    "duration": 189,
    "start_time": "2022-04-25T17:01:57.895Z"
   },
   {
    "duration": 277,
    "start_time": "2022-04-25T17:02:06.603Z"
   },
   {
    "duration": 197,
    "start_time": "2022-04-25T17:03:22.263Z"
   },
   {
    "duration": 191,
    "start_time": "2022-04-25T17:14:37.555Z"
   },
   {
    "duration": 181,
    "start_time": "2022-04-25T17:14:44.676Z"
   },
   {
    "duration": 194,
    "start_time": "2022-04-25T17:15:07.956Z"
   },
   {
    "duration": 357,
    "start_time": "2022-04-25T17:27:05.587Z"
   },
   {
    "duration": 259,
    "start_time": "2022-04-25T17:27:26.057Z"
   },
   {
    "duration": 2268,
    "start_time": "2022-04-26T08:54:08.810Z"
   },
   {
    "duration": 45,
    "start_time": "2022-04-26T08:54:11.081Z"
   },
   {
    "duration": 10,
    "start_time": "2022-04-26T08:54:11.129Z"
   },
   {
    "duration": 36,
    "start_time": "2022-04-26T08:54:11.143Z"
   },
   {
    "duration": 18,
    "start_time": "2022-04-26T08:54:11.183Z"
   },
   {
    "duration": 29,
    "start_time": "2022-04-26T08:54:11.204Z"
   },
   {
    "duration": 38,
    "start_time": "2022-04-26T08:54:11.237Z"
   },
   {
    "duration": 24,
    "start_time": "2022-04-26T08:54:11.279Z"
   },
   {
    "duration": 25,
    "start_time": "2022-04-26T08:54:11.315Z"
   },
   {
    "duration": 17,
    "start_time": "2022-04-26T08:54:11.344Z"
   },
   {
    "duration": 22,
    "start_time": "2022-04-26T08:54:11.364Z"
   },
   {
    "duration": 40,
    "start_time": "2022-04-26T08:54:11.388Z"
   },
   {
    "duration": 28,
    "start_time": "2022-04-26T08:54:11.430Z"
   },
   {
    "duration": 13,
    "start_time": "2022-04-26T08:54:11.461Z"
   },
   {
    "duration": 21,
    "start_time": "2022-04-26T08:54:11.477Z"
   },
   {
    "duration": 181,
    "start_time": "2022-04-26T08:54:11.501Z"
   },
   {
    "duration": 8,
    "start_time": "2022-04-26T08:54:11.685Z"
   },
   {
    "duration": 30,
    "start_time": "2022-04-26T08:54:11.695Z"
   },
   {
    "duration": 584,
    "start_time": "2022-04-26T08:54:11.728Z"
   },
   {
    "duration": 19,
    "start_time": "2022-04-26T08:54:12.314Z"
   },
   {
    "duration": 18,
    "start_time": "2022-04-26T08:54:12.336Z"
   },
   {
    "duration": 25,
    "start_time": "2022-04-26T08:54:12.358Z"
   },
   {
    "duration": 752,
    "start_time": "2022-04-26T08:54:12.385Z"
   },
   {
    "duration": 492,
    "start_time": "2022-04-26T08:54:13.140Z"
   },
   {
    "duration": 631,
    "start_time": "2022-04-26T08:54:13.636Z"
   },
   {
    "duration": 492,
    "start_time": "2022-04-26T08:54:16.530Z"
   },
   {
    "duration": 325,
    "start_time": "2022-04-26T08:56:03.964Z"
   },
   {
    "duration": 466,
    "start_time": "2022-04-26T08:57:40.418Z"
   },
   {
    "duration": 292,
    "start_time": "2022-04-26T09:02:43.388Z"
   },
   {
    "duration": 307,
    "start_time": "2022-04-26T09:03:05.403Z"
   },
   {
    "duration": 388,
    "start_time": "2022-04-26T09:03:12.757Z"
   },
   {
    "duration": 276,
    "start_time": "2022-04-26T09:03:55.403Z"
   },
   {
    "duration": 302,
    "start_time": "2022-04-26T09:05:31.256Z"
   },
   {
    "duration": 294,
    "start_time": "2022-04-26T09:05:40.513Z"
   },
   {
    "duration": 165,
    "start_time": "2022-04-26T09:15:13.193Z"
   },
   {
    "duration": 23,
    "start_time": "2022-04-26T09:15:51.208Z"
   },
   {
    "duration": 23,
    "start_time": "2022-04-26T09:16:12.693Z"
   },
   {
    "duration": 438,
    "start_time": "2022-04-26T09:16:49.046Z"
   },
   {
    "duration": 408,
    "start_time": "2022-04-26T09:18:43.767Z"
   },
   {
    "duration": 446,
    "start_time": "2022-04-26T09:19:42.099Z"
   },
   {
    "duration": 401,
    "start_time": "2022-04-26T09:20:20.812Z"
   },
   {
    "duration": 441,
    "start_time": "2022-04-26T09:22:15.304Z"
   },
   {
    "duration": 421,
    "start_time": "2022-04-26T09:22:40.742Z"
   },
   {
    "duration": 457,
    "start_time": "2022-04-26T09:22:47.796Z"
   },
   {
    "duration": 542,
    "start_time": "2022-04-26T09:23:39.261Z"
   },
   {
    "duration": 416,
    "start_time": "2022-04-26T09:25:10.043Z"
   },
   {
    "duration": 422,
    "start_time": "2022-04-26T09:25:18.450Z"
   },
   {
    "duration": 398,
    "start_time": "2022-04-26T09:25:29.234Z"
   },
   {
    "duration": 16,
    "start_time": "2022-04-26T09:51:51.642Z"
   },
   {
    "duration": 185,
    "start_time": "2022-04-26T14:17:58.713Z"
   },
   {
    "duration": 24,
    "start_time": "2022-04-26T14:18:16.456Z"
   },
   {
    "duration": 194,
    "start_time": "2022-04-26T14:18:43.949Z"
   },
   {
    "duration": 204,
    "start_time": "2022-04-26T14:18:56.573Z"
   },
   {
    "duration": 216,
    "start_time": "2022-04-26T14:21:02.691Z"
   },
   {
    "duration": 10,
    "start_time": "2022-04-26T14:25:02.370Z"
   },
   {
    "duration": 223,
    "start_time": "2022-04-26T14:36:18.062Z"
   },
   {
    "duration": 7,
    "start_time": "2022-04-26T14:40:51.151Z"
   },
   {
    "duration": 81,
    "start_time": "2022-04-26T14:50:12.245Z"
   },
   {
    "duration": 87,
    "start_time": "2022-04-26T14:50:59.118Z"
   },
   {
    "duration": 82,
    "start_time": "2022-04-26T14:51:44.461Z"
   },
   {
    "duration": 22,
    "start_time": "2022-04-26T15:01:39.863Z"
   },
   {
    "duration": 35,
    "start_time": "2022-04-26T15:03:29.158Z"
   },
   {
    "duration": 116,
    "start_time": "2022-04-26T15:03:47.657Z"
   },
   {
    "duration": 106,
    "start_time": "2022-04-26T15:05:24.205Z"
   },
   {
    "duration": 113,
    "start_time": "2022-04-26T15:06:00.138Z"
   },
   {
    "duration": 46,
    "start_time": "2022-04-26T15:08:25.184Z"
   },
   {
    "duration": 292,
    "start_time": "2022-04-26T15:15:05.696Z"
   },
   {
    "duration": 4116,
    "start_time": "2022-04-26T15:17:16.060Z"
   },
   {
    "duration": 2249,
    "start_time": "2022-04-26T15:18:55.286Z"
   },
   {
    "duration": 320,
    "start_time": "2022-04-26T15:19:20.760Z"
   },
   {
    "duration": 2124,
    "start_time": "2022-04-26T15:19:21.799Z"
   },
   {
    "duration": 9,
    "start_time": "2022-04-26T15:19:45.712Z"
   },
   {
    "duration": 9,
    "start_time": "2022-04-26T15:20:32.692Z"
   },
   {
    "duration": 18,
    "start_time": "2022-04-26T15:20:59.116Z"
   },
   {
    "duration": 20,
    "start_time": "2022-04-26T15:25:58.543Z"
   },
   {
    "duration": 31,
    "start_time": "2022-04-26T15:27:17.974Z"
   },
   {
    "duration": 33,
    "start_time": "2022-04-26T15:30:14.466Z"
   },
   {
    "duration": 49,
    "start_time": "2022-04-26T15:30:29.313Z"
   },
   {
    "duration": 44,
    "start_time": "2022-04-26T15:35:34.553Z"
   },
   {
    "duration": 33,
    "start_time": "2022-04-26T15:35:51.691Z"
   },
   {
    "duration": 47,
    "start_time": "2022-04-26T15:37:24.723Z"
   },
   {
    "duration": 15,
    "start_time": "2022-04-26T15:38:28.399Z"
   },
   {
    "duration": 3,
    "start_time": "2022-04-26T15:38:33.480Z"
   },
   {
    "duration": 29,
    "start_time": "2022-04-26T15:38:34.884Z"
   },
   {
    "duration": 15,
    "start_time": "2022-04-26T15:38:35.773Z"
   },
   {
    "duration": 15,
    "start_time": "2022-04-26T15:39:03.171Z"
   },
   {
    "duration": 44,
    "start_time": "2022-04-26T15:40:27.947Z"
   },
   {
    "duration": 15,
    "start_time": "2022-04-26T15:40:29.714Z"
   },
   {
    "duration": 8,
    "start_time": "2022-04-26T15:41:16.775Z"
   },
   {
    "duration": 136,
    "start_time": "2022-04-26T15:47:44.077Z"
   },
   {
    "duration": 13,
    "start_time": "2022-04-26T16:23:41.601Z"
   },
   {
    "duration": 26,
    "start_time": "2022-04-26T16:23:50.736Z"
   },
   {
    "duration": 9,
    "start_time": "2022-04-26T16:24:13.895Z"
   },
   {
    "duration": 8,
    "start_time": "2022-04-26T16:25:26.611Z"
   },
   {
    "duration": 8,
    "start_time": "2022-04-26T16:25:37.956Z"
   },
   {
    "duration": 21,
    "start_time": "2022-04-26T16:34:28.149Z"
   },
   {
    "duration": 8,
    "start_time": "2022-04-26T16:34:35.698Z"
   },
   {
    "duration": 13,
    "start_time": "2022-04-26T16:36:23.226Z"
   },
   {
    "duration": 8,
    "start_time": "2022-04-26T16:37:50.368Z"
   },
   {
    "duration": 10,
    "start_time": "2022-04-26T16:40:49.048Z"
   },
   {
    "duration": 11,
    "start_time": "2022-04-26T16:40:50.043Z"
   },
   {
    "duration": 9,
    "start_time": "2022-04-26T16:41:18.151Z"
   },
   {
    "duration": 13,
    "start_time": "2022-04-26T16:41:58.633Z"
   },
   {
    "duration": 9,
    "start_time": "2022-04-26T16:42:02.584Z"
   },
   {
    "duration": 9,
    "start_time": "2022-04-26T16:42:03.013Z"
   },
   {
    "duration": 9,
    "start_time": "2022-04-26T16:42:23.774Z"
   },
   {
    "duration": 10,
    "start_time": "2022-04-26T16:42:24.911Z"
   },
   {
    "duration": 10,
    "start_time": "2022-04-26T16:42:26.861Z"
   },
   {
    "duration": 8,
    "start_time": "2022-04-26T16:42:27.498Z"
   },
   {
    "duration": 10,
    "start_time": "2022-04-26T16:42:32.509Z"
   },
   {
    "duration": 9,
    "start_time": "2022-04-26T16:42:35.113Z"
   },
   {
    "duration": 15,
    "start_time": "2022-04-26T16:43:14.216Z"
   },
   {
    "duration": 14,
    "start_time": "2022-04-26T16:43:15.149Z"
   },
   {
    "duration": 10,
    "start_time": "2022-04-26T16:43:27.009Z"
   },
   {
    "duration": 10,
    "start_time": "2022-04-26T16:43:27.480Z"
   },
   {
    "duration": 5,
    "start_time": "2022-04-26T16:43:41.338Z"
   },
   {
    "duration": 34,
    "start_time": "2022-04-26T16:43:41.352Z"
   },
   {
    "duration": 6,
    "start_time": "2022-04-26T16:43:41.388Z"
   },
   {
    "duration": 15,
    "start_time": "2022-04-26T16:43:41.396Z"
   },
   {
    "duration": 16,
    "start_time": "2022-04-26T16:43:41.413Z"
   },
   {
    "duration": 15,
    "start_time": "2022-04-26T16:43:41.434Z"
   },
   {
    "duration": 51,
    "start_time": "2022-04-26T16:43:41.451Z"
   },
   {
    "duration": 12,
    "start_time": "2022-04-26T16:43:41.504Z"
   },
   {
    "duration": 21,
    "start_time": "2022-04-26T16:43:41.518Z"
   },
   {
    "duration": 30,
    "start_time": "2022-04-26T16:43:41.542Z"
   },
   {
    "duration": 17,
    "start_time": "2022-04-26T16:43:41.575Z"
   },
   {
    "duration": 11,
    "start_time": "2022-04-26T16:43:41.595Z"
   },
   {
    "duration": 39,
    "start_time": "2022-04-26T16:43:41.608Z"
   },
   {
    "duration": 9,
    "start_time": "2022-04-26T16:43:41.650Z"
   },
   {
    "duration": 17,
    "start_time": "2022-04-26T16:43:41.663Z"
   },
   {
    "duration": 118,
    "start_time": "2022-04-26T16:43:41.683Z"
   },
   {
    "duration": 7,
    "start_time": "2022-04-26T16:43:41.803Z"
   },
   {
    "duration": 21,
    "start_time": "2022-04-26T16:43:41.812Z"
   },
   {
    "duration": 541,
    "start_time": "2022-04-26T16:43:41.835Z"
   },
   {
    "duration": 10,
    "start_time": "2022-04-26T16:43:42.378Z"
   },
   {
    "duration": 9,
    "start_time": "2022-04-26T16:43:42.390Z"
   },
   {
    "duration": 43,
    "start_time": "2022-04-26T16:43:42.402Z"
   },
   {
    "duration": 359,
    "start_time": "2022-04-26T16:43:42.447Z"
   },
   {
    "duration": 347,
    "start_time": "2022-04-26T16:43:42.809Z"
   },
   {
    "duration": 569,
    "start_time": "2022-04-26T16:43:43.158Z"
   },
   {
    "duration": 387,
    "start_time": "2022-04-26T16:43:43.733Z"
   },
   {
    "duration": 527,
    "start_time": "2022-04-26T16:43:44.125Z"
   },
   {
    "duration": 21,
    "start_time": "2022-04-26T16:43:44.655Z"
   },
   {
    "duration": 215,
    "start_time": "2022-04-26T16:43:44.678Z"
   },
   {
    "duration": 7,
    "start_time": "2022-04-26T16:43:44.896Z"
   },
   {
    "duration": 246,
    "start_time": "2022-04-26T16:43:44.905Z"
   },
   {
    "duration": 9,
    "start_time": "2022-04-26T16:43:45.154Z"
   },
   {
    "duration": 111,
    "start_time": "2022-04-26T16:43:45.166Z"
   },
   {
    "duration": 97,
    "start_time": "2022-04-26T16:43:45.280Z"
   },
   {
    "duration": 116,
    "start_time": "2022-04-26T16:43:45.380Z"
   },
   {
    "duration": 136,
    "start_time": "2022-04-26T16:43:45.498Z"
   },
   {
    "duration": 43,
    "start_time": "2022-04-26T16:43:45.637Z"
   },
   {
    "duration": 324,
    "start_time": "2022-04-26T16:43:45.683Z"
   },
   {
    "duration": 22,
    "start_time": "2022-04-26T16:43:46.009Z"
   },
   {
    "duration": 26,
    "start_time": "2022-04-26T16:43:46.033Z"
   },
   {
    "duration": 31,
    "start_time": "2022-04-26T16:43:46.062Z"
   },
   {
    "duration": 9,
    "start_time": "2022-04-26T16:43:46.096Z"
   },
   {
    "duration": 29,
    "start_time": "2022-04-26T16:43:46.108Z"
   },
   {
    "duration": 32,
    "start_time": "2022-04-26T16:43:46.140Z"
   },
   {
    "duration": 9,
    "start_time": "2022-04-26T16:43:46.174Z"
   },
   {
    "duration": 8,
    "start_time": "2022-04-26T16:43:46.185Z"
   },
   {
    "duration": 10,
    "start_time": "2022-04-26T16:43:51.110Z"
   },
   {
    "duration": 34,
    "start_time": "2022-04-26T16:43:51.124Z"
   },
   {
    "duration": 11,
    "start_time": "2022-04-26T16:44:16.260Z"
   },
   {
    "duration": 8,
    "start_time": "2022-04-26T16:44:21.452Z"
   },
   {
    "duration": 13,
    "start_time": "2022-04-26T16:45:06.447Z"
   },
   {
    "duration": 8,
    "start_time": "2022-04-26T16:45:07.273Z"
   },
   {
    "duration": 7,
    "start_time": "2022-04-26T16:45:10.454Z"
   },
   {
    "duration": 10,
    "start_time": "2022-04-26T16:45:19.054Z"
   },
   {
    "duration": 14,
    "start_time": "2022-04-26T16:45:19.722Z"
   },
   {
    "duration": 8,
    "start_time": "2022-04-26T16:45:36.861Z"
   },
   {
    "duration": 8,
    "start_time": "2022-04-26T16:45:38.259Z"
   },
   {
    "duration": 9,
    "start_time": "2022-04-26T16:46:59.219Z"
   },
   {
    "duration": 8,
    "start_time": "2022-04-26T16:46:59.791Z"
   },
   {
    "duration": 10,
    "start_time": "2022-04-26T16:47:05.751Z"
   },
   {
    "duration": 14,
    "start_time": "2022-04-26T16:47:06.356Z"
   },
   {
    "duration": 2232,
    "start_time": "2022-04-26T16:50:11.080Z"
   },
   {
    "duration": 22,
    "start_time": "2022-04-26T16:50:59.288Z"
   },
   {
    "duration": 12,
    "start_time": "2022-04-26T16:51:13.002Z"
   },
   {
    "duration": 40,
    "start_time": "2022-04-26T16:53:24.328Z"
   },
   {
    "duration": 11,
    "start_time": "2022-04-26T16:53:51.162Z"
   },
   {
    "duration": 8,
    "start_time": "2022-04-26T16:54:45.695Z"
   },
   {
    "duration": 5,
    "start_time": "2022-04-26T16:55:14.070Z"
   },
   {
    "duration": 37,
    "start_time": "2022-04-26T16:55:14.079Z"
   },
   {
    "duration": 33,
    "start_time": "2022-04-26T16:55:14.119Z"
   },
   {
    "duration": 26,
    "start_time": "2022-04-26T16:55:14.155Z"
   },
   {
    "duration": 52,
    "start_time": "2022-04-26T16:55:14.184Z"
   },
   {
    "duration": 52,
    "start_time": "2022-04-26T16:55:14.239Z"
   },
   {
    "duration": 63,
    "start_time": "2022-04-26T16:55:14.294Z"
   },
   {
    "duration": 13,
    "start_time": "2022-04-26T16:55:14.360Z"
   },
   {
    "duration": 34,
    "start_time": "2022-04-26T16:55:14.375Z"
   },
   {
    "duration": 60,
    "start_time": "2022-04-26T16:55:14.412Z"
   },
   {
    "duration": 39,
    "start_time": "2022-04-26T16:55:14.476Z"
   },
   {
    "duration": 49,
    "start_time": "2022-04-26T16:55:14.518Z"
   },
   {
    "duration": 48,
    "start_time": "2022-04-26T16:55:14.570Z"
   },
   {
    "duration": 61,
    "start_time": "2022-04-26T16:55:14.620Z"
   },
   {
    "duration": 31,
    "start_time": "2022-04-26T16:55:14.683Z"
   },
   {
    "duration": 126,
    "start_time": "2022-04-26T16:55:14.717Z"
   },
   {
    "duration": 11,
    "start_time": "2022-04-26T16:55:14.845Z"
   },
   {
    "duration": 28,
    "start_time": "2022-04-26T16:55:14.858Z"
   },
   {
    "duration": 505,
    "start_time": "2022-04-26T16:55:14.888Z"
   },
   {
    "duration": 10,
    "start_time": "2022-04-26T16:55:15.396Z"
   },
   {
    "duration": 48,
    "start_time": "2022-04-26T16:55:15.408Z"
   },
   {
    "duration": 38,
    "start_time": "2022-04-26T16:55:15.459Z"
   },
   {
    "duration": 340,
    "start_time": "2022-04-26T16:55:15.499Z"
   },
   {
    "duration": 314,
    "start_time": "2022-04-26T16:55:15.842Z"
   },
   {
    "duration": 446,
    "start_time": "2022-04-26T16:55:16.159Z"
   },
   {
    "duration": 344,
    "start_time": "2022-04-26T16:55:16.608Z"
   },
   {
    "duration": 427,
    "start_time": "2022-04-26T16:55:16.955Z"
   },
   {
    "duration": 19,
    "start_time": "2022-04-26T16:55:17.384Z"
   },
   {
    "duration": 223,
    "start_time": "2022-04-26T16:55:17.430Z"
   },
   {
    "duration": 11,
    "start_time": "2022-04-26T16:55:17.658Z"
   },
   {
    "duration": 563,
    "start_time": "2022-04-26T16:55:17.673Z"
   },
   {
    "duration": 13,
    "start_time": "2022-04-26T16:55:18.246Z"
   },
   {
    "duration": 104,
    "start_time": "2022-04-26T16:55:18.263Z"
   },
   {
    "duration": 89,
    "start_time": "2022-04-26T16:55:18.370Z"
   },
   {
    "duration": 132,
    "start_time": "2022-04-26T16:55:18.461Z"
   },
   {
    "duration": 117,
    "start_time": "2022-04-26T16:55:18.595Z"
   },
   {
    "duration": 52,
    "start_time": "2022-04-26T16:55:18.714Z"
   },
   {
    "duration": 310,
    "start_time": "2022-04-26T16:55:18.769Z"
   },
   {
    "duration": 16,
    "start_time": "2022-04-26T16:55:19.082Z"
   },
   {
    "duration": 5,
    "start_time": "2022-04-26T16:55:19.101Z"
   },
   {
    "duration": 49,
    "start_time": "2022-04-26T16:55:19.126Z"
   },
   {
    "duration": 14,
    "start_time": "2022-04-26T16:55:19.179Z"
   },
   {
    "duration": 49,
    "start_time": "2022-04-26T16:55:19.196Z"
   },
   {
    "duration": 30,
    "start_time": "2022-04-26T16:55:19.247Z"
   },
   {
    "duration": 13,
    "start_time": "2022-04-26T16:55:19.280Z"
   },
   {
    "duration": 11,
    "start_time": "2022-04-26T16:55:19.295Z"
   },
   {
    "duration": 23,
    "start_time": "2022-04-26T16:55:19.329Z"
   },
   {
    "duration": 17,
    "start_time": "2022-04-26T16:55:19.357Z"
   },
   {
    "duration": 23,
    "start_time": "2022-04-26T16:55:19.376Z"
   },
   {
    "duration": 43,
    "start_time": "2022-04-26T16:55:19.402Z"
   },
   {
    "duration": 30,
    "start_time": "2022-04-26T16:55:23.665Z"
   },
   {
    "duration": 12,
    "start_time": "2022-04-26T16:55:24.351Z"
   },
   {
    "duration": 13,
    "start_time": "2022-04-26T16:55:25.518Z"
   },
   {
    "duration": 16,
    "start_time": "2022-04-26T16:59:29.718Z"
   },
   {
    "duration": 20,
    "start_time": "2022-04-26T16:59:43.916Z"
   },
   {
    "duration": 2839,
    "start_time": "2022-04-26T17:00:08.076Z"
   },
   {
    "duration": 14,
    "start_time": "2022-04-26T17:00:29.445Z"
   },
   {
    "duration": 1942,
    "start_time": "2022-04-26T17:01:50.433Z"
   },
   {
    "duration": 14,
    "start_time": "2022-04-26T17:03:35.564Z"
   },
   {
    "duration": 16,
    "start_time": "2022-04-26T17:04:07.546Z"
   },
   {
    "duration": 14,
    "start_time": "2022-04-26T17:04:32.168Z"
   },
   {
    "duration": 11,
    "start_time": "2022-04-26T17:04:35.574Z"
   },
   {
    "duration": 9,
    "start_time": "2022-04-26T17:04:37.708Z"
   },
   {
    "duration": 7,
    "start_time": "2022-04-26T17:06:05.514Z"
   },
   {
    "duration": 9,
    "start_time": "2022-04-26T17:06:28.178Z"
   },
   {
    "duration": 10,
    "start_time": "2022-04-26T17:06:30.111Z"
   },
   {
    "duration": 9,
    "start_time": "2022-04-26T17:06:36.002Z"
   },
   {
    "duration": 9,
    "start_time": "2022-04-26T17:06:36.596Z"
   },
   {
    "duration": 9,
    "start_time": "2022-04-26T17:07:09.494Z"
   },
   {
    "duration": 8,
    "start_time": "2022-04-26T17:07:10.114Z"
   },
   {
    "duration": 12,
    "start_time": "2022-04-26T17:07:18.550Z"
   },
   {
    "duration": 31,
    "start_time": "2022-04-26T17:07:19.280Z"
   },
   {
    "duration": 10,
    "start_time": "2022-04-26T17:07:19.900Z"
   },
   {
    "duration": 17,
    "start_time": "2022-04-26T17:07:21.646Z"
   },
   {
    "duration": 15,
    "start_time": "2022-04-26T17:08:51.439Z"
   },
   {
    "duration": 11,
    "start_time": "2022-04-26T17:08:52.084Z"
   },
   {
    "duration": 8,
    "start_time": "2022-04-26T17:08:54.095Z"
   },
   {
    "duration": 15,
    "start_time": "2022-04-26T17:08:58.643Z"
   },
   {
    "duration": 9,
    "start_time": "2022-04-26T17:08:59.276Z"
   },
   {
    "duration": 7,
    "start_time": "2022-04-26T17:09:00.867Z"
   },
   {
    "duration": 1582,
    "start_time": "2022-04-26T17:09:13.605Z"
   },
   {
    "duration": 31,
    "start_time": "2022-04-26T17:09:15.189Z"
   },
   {
    "duration": 13,
    "start_time": "2022-04-26T17:09:15.222Z"
   },
   {
    "duration": 44,
    "start_time": "2022-04-26T17:09:15.243Z"
   },
   {
    "duration": 9,
    "start_time": "2022-04-26T17:09:15.290Z"
   },
   {
    "duration": 19,
    "start_time": "2022-04-26T17:09:15.301Z"
   },
   {
    "duration": 85,
    "start_time": "2022-04-26T17:09:15.323Z"
   },
   {
    "duration": 10,
    "start_time": "2022-04-26T17:09:15.411Z"
   },
   {
    "duration": 28,
    "start_time": "2022-04-26T17:09:15.430Z"
   },
   {
    "duration": 26,
    "start_time": "2022-04-26T17:09:15.465Z"
   },
   {
    "duration": 21,
    "start_time": "2022-04-26T17:09:15.494Z"
   },
   {
    "duration": 19,
    "start_time": "2022-04-26T17:09:15.518Z"
   },
   {
    "duration": 69,
    "start_time": "2022-04-26T17:09:15.543Z"
   },
   {
    "duration": 23,
    "start_time": "2022-04-26T17:09:15.616Z"
   },
   {
    "duration": 42,
    "start_time": "2022-04-26T17:09:15.641Z"
   },
   {
    "duration": 108,
    "start_time": "2022-04-26T17:09:15.686Z"
   },
   {
    "duration": 7,
    "start_time": "2022-04-26T17:09:15.796Z"
   },
   {
    "duration": 32,
    "start_time": "2022-04-26T17:09:15.806Z"
   },
   {
    "duration": 540,
    "start_time": "2022-04-26T17:09:15.841Z"
   },
   {
    "duration": 10,
    "start_time": "2022-04-26T17:09:16.384Z"
   },
   {
    "duration": 16,
    "start_time": "2022-04-26T17:09:16.397Z"
   },
   {
    "duration": 21,
    "start_time": "2022-04-26T17:09:16.424Z"
   },
   {
    "duration": 501,
    "start_time": "2022-04-26T17:09:16.450Z"
   },
   {
    "duration": 324,
    "start_time": "2022-04-26T17:09:16.964Z"
   },
   {
    "duration": 453,
    "start_time": "2022-04-26T17:09:17.291Z"
   },
   {
    "duration": 308,
    "start_time": "2022-04-26T17:09:17.751Z"
   },
   {
    "duration": 418,
    "start_time": "2022-04-26T17:09:18.062Z"
   },
   {
    "duration": 16,
    "start_time": "2022-04-26T17:09:18.482Z"
   },
   {
    "duration": 224,
    "start_time": "2022-04-26T17:09:18.500Z"
   },
   {
    "duration": 10,
    "start_time": "2022-04-26T17:09:18.730Z"
   },
   {
    "duration": 253,
    "start_time": "2022-04-26T17:09:18.742Z"
   },
   {
    "duration": 7,
    "start_time": "2022-04-26T17:09:18.998Z"
   },
   {
    "duration": 121,
    "start_time": "2022-04-26T17:09:19.007Z"
   },
   {
    "duration": 79,
    "start_time": "2022-04-26T17:09:19.133Z"
   },
   {
    "duration": 119,
    "start_time": "2022-04-26T17:09:19.214Z"
   },
   {
    "duration": 118,
    "start_time": "2022-04-26T17:09:19.335Z"
   },
   {
    "duration": 40,
    "start_time": "2022-04-26T17:09:19.458Z"
   },
   {
    "duration": 294,
    "start_time": "2022-04-26T17:09:19.500Z"
   },
   {
    "duration": 8,
    "start_time": "2022-04-26T17:09:19.796Z"
   },
   {
    "duration": 8,
    "start_time": "2022-04-26T17:09:19.806Z"
   },
   {
    "duration": 47,
    "start_time": "2022-04-26T17:09:19.837Z"
   },
   {
    "duration": 9,
    "start_time": "2022-04-26T17:09:19.886Z"
   },
   {
    "duration": 46,
    "start_time": "2022-04-26T17:09:19.897Z"
   },
   {
    "duration": 35,
    "start_time": "2022-04-26T17:09:19.946Z"
   },
   {
    "duration": 8,
    "start_time": "2022-04-26T17:09:19.984Z"
   },
   {
    "duration": 6,
    "start_time": "2022-04-26T17:09:19.995Z"
   },
   {
    "duration": 22,
    "start_time": "2022-04-26T17:09:20.003Z"
   },
   {
    "duration": 53,
    "start_time": "2022-04-26T17:09:20.027Z"
   },
   {
    "duration": 20,
    "start_time": "2022-04-26T17:09:20.083Z"
   },
   {
    "duration": 53,
    "start_time": "2022-04-26T17:09:20.105Z"
   },
   {
    "duration": 15,
    "start_time": "2022-04-26T17:09:20.161Z"
   },
   {
    "duration": 17,
    "start_time": "2022-04-26T17:09:20.178Z"
   },
   {
    "duration": 58,
    "start_time": "2022-04-26T17:09:20.197Z"
   },
   {
    "duration": 34,
    "start_time": "2022-04-26T17:09:20.257Z"
   },
   {
    "duration": 27,
    "start_time": "2022-04-26T17:09:20.294Z"
   },
   {
    "duration": 43,
    "start_time": "2022-04-26T17:09:20.323Z"
   },
   {
    "duration": 10,
    "start_time": "2022-04-26T17:11:29.120Z"
   },
   {
    "duration": 4,
    "start_time": "2022-04-26T17:13:03.019Z"
   },
   {
    "duration": 152,
    "start_time": "2022-04-26T17:14:30.403Z"
   },
   {
    "duration": 1393,
    "start_time": "2022-04-27T06:24:50.291Z"
   },
   {
    "duration": 36,
    "start_time": "2022-04-27T06:24:51.686Z"
   },
   {
    "duration": 5,
    "start_time": "2022-04-27T06:24:51.724Z"
   },
   {
    "duration": 12,
    "start_time": "2022-04-27T06:24:51.731Z"
   },
   {
    "duration": 4,
    "start_time": "2022-04-27T06:24:51.745Z"
   },
   {
    "duration": 9,
    "start_time": "2022-04-27T06:24:51.751Z"
   },
   {
    "duration": 55,
    "start_time": "2022-04-27T06:24:51.762Z"
   },
   {
    "duration": 8,
    "start_time": "2022-04-27T06:24:51.818Z"
   },
   {
    "duration": 10,
    "start_time": "2022-04-27T06:24:51.828Z"
   },
   {
    "duration": 12,
    "start_time": "2022-04-27T06:24:51.840Z"
   },
   {
    "duration": 11,
    "start_time": "2022-04-27T06:24:51.854Z"
   },
   {
    "duration": 6,
    "start_time": "2022-04-27T06:24:51.867Z"
   },
   {
    "duration": 16,
    "start_time": "2022-04-27T06:24:51.874Z"
   },
   {
    "duration": 9,
    "start_time": "2022-04-27T06:24:51.892Z"
   },
   {
    "duration": 9,
    "start_time": "2022-04-27T06:24:51.923Z"
   },
   {
    "duration": 49,
    "start_time": "2022-04-27T06:24:51.933Z"
   },
   {
    "duration": 4,
    "start_time": "2022-04-27T06:24:51.983Z"
   },
   {
    "duration": 9,
    "start_time": "2022-04-27T06:24:51.989Z"
   },
   {
    "duration": 296,
    "start_time": "2022-04-27T06:24:52.000Z"
   },
   {
    "duration": 6,
    "start_time": "2022-04-27T06:24:52.297Z"
   },
   {
    "duration": 5,
    "start_time": "2022-04-27T06:24:52.305Z"
   },
   {
    "duration": 18,
    "start_time": "2022-04-27T06:24:52.311Z"
   },
   {
    "duration": 259,
    "start_time": "2022-04-27T06:24:52.331Z"
   },
   {
    "duration": 169,
    "start_time": "2022-04-27T06:24:52.592Z"
   },
   {
    "duration": 296,
    "start_time": "2022-04-27T06:24:52.763Z"
   },
   {
    "duration": 178,
    "start_time": "2022-04-27T06:24:53.061Z"
   },
   {
    "duration": 284,
    "start_time": "2022-04-27T06:24:53.240Z"
   },
   {
    "duration": 11,
    "start_time": "2022-04-27T06:24:53.527Z"
   },
   {
    "duration": 118,
    "start_time": "2022-04-27T06:24:53.539Z"
   },
   {
    "duration": 5,
    "start_time": "2022-04-27T06:24:53.658Z"
   },
   {
    "duration": 129,
    "start_time": "2022-04-27T06:24:53.665Z"
   },
   {
    "duration": 5,
    "start_time": "2022-04-27T06:24:53.795Z"
   },
   {
    "duration": 61,
    "start_time": "2022-04-27T06:24:53.802Z"
   },
   {
    "duration": 46,
    "start_time": "2022-04-27T06:24:53.865Z"
   },
   {
    "duration": 63,
    "start_time": "2022-04-27T06:24:53.913Z"
   },
   {
    "duration": 72,
    "start_time": "2022-04-27T06:24:53.978Z"
   },
   {
    "duration": 24,
    "start_time": "2022-04-27T06:24:54.052Z"
   },
   {
    "duration": 144,
    "start_time": "2022-04-27T06:24:54.078Z"
   },
   {
    "duration": 8,
    "start_time": "2022-04-27T06:24:54.224Z"
   },
   {
    "duration": 2,
    "start_time": "2022-04-27T06:24:54.234Z"
   },
   {
    "duration": 27,
    "start_time": "2022-04-27T06:24:54.238Z"
   },
   {
    "duration": 7,
    "start_time": "2022-04-27T06:24:54.267Z"
   },
   {
    "duration": 7,
    "start_time": "2022-04-27T06:24:54.276Z"
   },
   {
    "duration": 45,
    "start_time": "2022-04-27T06:24:54.285Z"
   },
   {
    "duration": 8,
    "start_time": "2022-04-27T06:24:54.332Z"
   },
   {
    "duration": 5,
    "start_time": "2022-04-27T06:24:54.342Z"
   },
   {
    "duration": 8,
    "start_time": "2022-04-27T06:24:54.350Z"
   },
   {
    "duration": 16,
    "start_time": "2022-04-27T06:24:54.359Z"
   },
   {
    "duration": 15,
    "start_time": "2022-04-27T06:24:54.377Z"
   },
   {
    "duration": 43,
    "start_time": "2022-04-27T06:24:54.393Z"
   },
   {
    "duration": 6,
    "start_time": "2022-04-27T06:24:54.437Z"
   },
   {
    "duration": 5,
    "start_time": "2022-04-27T06:24:54.445Z"
   },
   {
    "duration": 9,
    "start_time": "2022-04-27T06:24:54.452Z"
   },
   {
    "duration": 11,
    "start_time": "2022-04-27T06:24:54.463Z"
   },
   {
    "duration": 10,
    "start_time": "2022-04-27T06:24:54.475Z"
   },
   {
    "duration": 38,
    "start_time": "2022-04-27T06:24:54.486Z"
   },
   {
    "duration": 7,
    "start_time": "2022-04-27T06:59:38.995Z"
   },
   {
    "duration": 1204,
    "start_time": "2022-04-27T07:49:19.989Z"
   },
   {
    "duration": 36,
    "start_time": "2022-04-27T07:49:21.195Z"
   },
   {
    "duration": 7,
    "start_time": "2022-04-27T07:49:21.232Z"
   },
   {
    "duration": 13,
    "start_time": "2022-04-27T07:49:21.241Z"
   },
   {
    "duration": 10,
    "start_time": "2022-04-27T07:49:21.255Z"
   },
   {
    "duration": 21,
    "start_time": "2022-04-27T07:49:21.266Z"
   },
   {
    "duration": 58,
    "start_time": "2022-04-27T07:49:21.288Z"
   },
   {
    "duration": 8,
    "start_time": "2022-04-27T07:49:21.348Z"
   },
   {
    "duration": 12,
    "start_time": "2022-04-27T07:49:21.358Z"
   },
   {
    "duration": 10,
    "start_time": "2022-04-27T07:49:21.373Z"
   },
   {
    "duration": 10,
    "start_time": "2022-04-27T07:49:21.384Z"
   },
   {
    "duration": 7,
    "start_time": "2022-04-27T07:49:21.395Z"
   },
   {
    "duration": 30,
    "start_time": "2022-04-27T07:49:21.403Z"
   },
   {
    "duration": 5,
    "start_time": "2022-04-27T07:49:21.435Z"
   },
   {
    "duration": 12,
    "start_time": "2022-04-27T07:49:21.442Z"
   },
   {
    "duration": 105,
    "start_time": "2022-04-27T07:49:21.456Z"
   },
   {
    "duration": 5,
    "start_time": "2022-04-27T07:49:21.563Z"
   },
   {
    "duration": 13,
    "start_time": "2022-04-27T07:49:21.570Z"
   },
   {
    "duration": 313,
    "start_time": "2022-04-27T07:49:21.585Z"
   },
   {
    "duration": 6,
    "start_time": "2022-04-27T07:49:21.900Z"
   },
   {
    "duration": 5,
    "start_time": "2022-04-27T07:49:21.908Z"
   },
   {
    "duration": 9,
    "start_time": "2022-04-27T07:49:21.923Z"
   },
   {
    "duration": 276,
    "start_time": "2022-04-27T07:49:21.933Z"
   },
   {
    "duration": 205,
    "start_time": "2022-04-27T07:49:22.210Z"
   },
   {
    "duration": 276,
    "start_time": "2022-04-27T07:49:22.417Z"
   },
   {
    "duration": 180,
    "start_time": "2022-04-27T07:49:22.696Z"
   },
   {
    "duration": 327,
    "start_time": "2022-04-27T07:49:22.878Z"
   },
   {
    "duration": 21,
    "start_time": "2022-04-27T07:49:23.210Z"
   },
   {
    "duration": 138,
    "start_time": "2022-04-27T07:49:23.233Z"
   },
   {
    "duration": 6,
    "start_time": "2022-04-27T07:49:23.374Z"
   },
   {
    "duration": 126,
    "start_time": "2022-04-27T07:49:23.381Z"
   },
   {
    "duration": 5,
    "start_time": "2022-04-27T07:49:23.509Z"
   },
   {
    "duration": 8,
    "start_time": "2022-04-27T07:49:23.523Z"
   },
   {
    "duration": 48,
    "start_time": "2022-04-27T07:49:23.533Z"
   },
   {
    "duration": 76,
    "start_time": "2022-04-27T07:49:23.583Z"
   },
   {
    "duration": 68,
    "start_time": "2022-04-27T07:49:23.661Z"
   },
   {
    "duration": 56,
    "start_time": "2022-04-27T07:49:23.731Z"
   },
   {
    "duration": 42,
    "start_time": "2022-04-27T07:49:23.789Z"
   },
   {
    "duration": 129,
    "start_time": "2022-04-27T07:49:23.833Z"
   },
   {
    "duration": 7,
    "start_time": "2022-04-27T07:49:23.963Z"
   },
   {
    "duration": 3,
    "start_time": "2022-04-27T07:49:23.971Z"
   },
   {
    "duration": 24,
    "start_time": "2022-04-27T07:49:23.976Z"
   },
   {
    "duration": 23,
    "start_time": "2022-04-27T07:49:24.002Z"
   },
   {
    "duration": 5,
    "start_time": "2022-04-27T07:49:24.027Z"
   },
   {
    "duration": 9,
    "start_time": "2022-04-27T07:49:24.033Z"
   },
   {
    "duration": 6,
    "start_time": "2022-04-27T07:49:24.043Z"
   },
   {
    "duration": 5,
    "start_time": "2022-04-27T07:49:24.050Z"
   },
   {
    "duration": 9,
    "start_time": "2022-04-27T07:49:24.056Z"
   },
   {
    "duration": 10,
    "start_time": "2022-04-27T07:49:24.067Z"
   },
   {
    "duration": 43,
    "start_time": "2022-04-27T07:49:24.079Z"
   },
   {
    "duration": 21,
    "start_time": "2022-04-27T07:49:24.124Z"
   },
   {
    "duration": 5,
    "start_time": "2022-04-27T07:49:24.147Z"
   },
   {
    "duration": 4,
    "start_time": "2022-04-27T07:49:24.154Z"
   },
   {
    "duration": 9,
    "start_time": "2022-04-27T07:49:24.160Z"
   },
   {
    "duration": 10,
    "start_time": "2022-04-27T07:49:24.171Z"
   },
   {
    "duration": 8,
    "start_time": "2022-04-27T07:49:24.182Z"
   },
   {
    "duration": 32,
    "start_time": "2022-04-27T07:49:24.192Z"
   },
   {
    "duration": 281,
    "start_time": "2022-04-27T07:55:16.329Z"
   },
   {
    "duration": 7,
    "start_time": "2022-04-27T08:00:01.242Z"
   },
   {
    "duration": 6,
    "start_time": "2022-04-27T08:00:03.288Z"
   },
   {
    "duration": 6,
    "start_time": "2022-04-27T08:00:13.639Z"
   },
   {
    "duration": 6,
    "start_time": "2022-04-27T08:00:15.436Z"
   },
   {
    "duration": 6,
    "start_time": "2022-04-27T08:01:10.546Z"
   },
   {
    "duration": 6,
    "start_time": "2022-04-27T08:01:17.483Z"
   },
   {
    "duration": 9,
    "start_time": "2022-04-27T08:01:45.537Z"
   },
   {
    "duration": 24,
    "start_time": "2022-04-27T08:01:46.117Z"
   },
   {
    "duration": 6,
    "start_time": "2022-04-27T08:01:46.645Z"
   },
   {
    "duration": 4,
    "start_time": "2022-04-27T08:01:47.160Z"
   },
   {
    "duration": 8,
    "start_time": "2022-04-27T08:01:49.720Z"
   },
   {
    "duration": 8,
    "start_time": "2022-04-27T08:01:50.179Z"
   },
   {
    "duration": 6,
    "start_time": "2022-04-27T08:01:50.669Z"
   },
   {
    "duration": 5,
    "start_time": "2022-04-27T08:01:51.131Z"
   },
   {
    "duration": 6,
    "start_time": "2022-04-27T08:03:50.950Z"
   },
   {
    "duration": 6,
    "start_time": "2022-04-27T08:03:52.303Z"
   },
   {
    "duration": 369,
    "start_time": "2022-04-27T08:12:59.898Z"
   },
   {
    "duration": 257,
    "start_time": "2022-04-27T08:16:08.177Z"
   },
   {
    "duration": 227,
    "start_time": "2022-04-27T08:16:37.765Z"
   },
   {
    "duration": 274,
    "start_time": "2022-04-27T08:16:45.096Z"
   },
   {
    "duration": 233,
    "start_time": "2022-04-27T08:18:21.862Z"
   },
   {
    "duration": 233,
    "start_time": "2022-04-27T08:18:36.359Z"
   },
   {
    "duration": 1160,
    "start_time": "2022-04-27T08:24:24.652Z"
   },
   {
    "duration": 38,
    "start_time": "2022-04-27T08:24:25.814Z"
   },
   {
    "duration": 8,
    "start_time": "2022-04-27T08:24:25.853Z"
   },
   {
    "duration": 12,
    "start_time": "2022-04-27T08:24:25.863Z"
   },
   {
    "duration": 5,
    "start_time": "2022-04-27T08:24:25.877Z"
   },
   {
    "duration": 11,
    "start_time": "2022-04-27T08:24:25.883Z"
   },
   {
    "duration": 54,
    "start_time": "2022-04-27T08:24:25.896Z"
   },
   {
    "duration": 9,
    "start_time": "2022-04-27T08:24:25.951Z"
   },
   {
    "duration": 13,
    "start_time": "2022-04-27T08:24:25.962Z"
   },
   {
    "duration": 8,
    "start_time": "2022-04-27T08:24:25.979Z"
   },
   {
    "duration": 11,
    "start_time": "2022-04-27T08:24:25.988Z"
   },
   {
    "duration": 6,
    "start_time": "2022-04-27T08:24:26.001Z"
   },
   {
    "duration": 21,
    "start_time": "2022-04-27T08:24:26.009Z"
   },
   {
    "duration": 6,
    "start_time": "2022-04-27T08:24:26.032Z"
   },
   {
    "duration": 14,
    "start_time": "2022-04-27T08:24:26.040Z"
   },
   {
    "duration": 62,
    "start_time": "2022-04-27T08:24:26.055Z"
   },
   {
    "duration": 5,
    "start_time": "2022-04-27T08:24:26.119Z"
   },
   {
    "duration": 4,
    "start_time": "2022-04-27T08:24:26.126Z"
   },
   {
    "duration": 291,
    "start_time": "2022-04-27T08:24:26.132Z"
   },
   {
    "duration": 7,
    "start_time": "2022-04-27T08:24:26.424Z"
   },
   {
    "duration": 7,
    "start_time": "2022-04-27T08:24:26.432Z"
   },
   {
    "duration": 11,
    "start_time": "2022-04-27T08:24:26.441Z"
   },
   {
    "duration": 255,
    "start_time": "2022-04-27T08:24:26.454Z"
   },
   {
    "duration": 179,
    "start_time": "2022-04-27T08:24:26.710Z"
   },
   {
    "duration": 296,
    "start_time": "2022-04-27T08:24:26.890Z"
   },
   {
    "duration": 183,
    "start_time": "2022-04-27T08:24:27.187Z"
   },
   {
    "duration": 306,
    "start_time": "2022-04-27T08:24:27.371Z"
   },
   {
    "duration": 11,
    "start_time": "2022-04-27T08:24:27.681Z"
   },
   {
    "duration": 141,
    "start_time": "2022-04-27T08:24:27.694Z"
   },
   {
    "duration": 5,
    "start_time": "2022-04-27T08:24:27.836Z"
   },
   {
    "duration": 119,
    "start_time": "2022-04-27T08:24:27.842Z"
   },
   {
    "duration": 5,
    "start_time": "2022-04-27T08:24:27.962Z"
   },
   {
    "duration": 8,
    "start_time": "2022-04-27T08:24:27.968Z"
   },
   {
    "duration": 55,
    "start_time": "2022-04-27T08:24:27.977Z"
   },
   {
    "duration": 69,
    "start_time": "2022-04-27T08:24:28.034Z"
   },
   {
    "duration": 66,
    "start_time": "2022-04-27T08:24:28.105Z"
   },
   {
    "duration": 65,
    "start_time": "2022-04-27T08:24:28.173Z"
   },
   {
    "duration": 25,
    "start_time": "2022-04-27T08:24:28.240Z"
   },
   {
    "duration": 133,
    "start_time": "2022-04-27T08:24:28.266Z"
   },
   {
    "duration": 6,
    "start_time": "2022-04-27T08:24:28.401Z"
   },
   {
    "duration": 3,
    "start_time": "2022-04-27T08:24:28.408Z"
   },
   {
    "duration": 25,
    "start_time": "2022-04-27T08:24:28.413Z"
   },
   {
    "duration": 6,
    "start_time": "2022-04-27T08:24:28.440Z"
   },
   {
    "duration": 7,
    "start_time": "2022-04-27T08:24:28.447Z"
   },
   {
    "duration": 13,
    "start_time": "2022-04-27T08:24:28.455Z"
   },
   {
    "duration": 7,
    "start_time": "2022-04-27T08:24:28.470Z"
   },
   {
    "duration": 8,
    "start_time": "2022-04-27T08:24:28.478Z"
   },
   {
    "duration": 12,
    "start_time": "2022-04-27T08:24:28.487Z"
   },
   {
    "duration": 11,
    "start_time": "2022-04-27T08:24:28.501Z"
   },
   {
    "duration": 17,
    "start_time": "2022-04-27T08:24:28.513Z"
   },
   {
    "duration": 24,
    "start_time": "2022-04-27T08:24:28.532Z"
   },
   {
    "duration": 5,
    "start_time": "2022-04-27T08:24:28.558Z"
   },
   {
    "duration": 5,
    "start_time": "2022-04-27T08:24:28.565Z"
   },
   {
    "duration": 10,
    "start_time": "2022-04-27T08:24:28.572Z"
   },
   {
    "duration": 14,
    "start_time": "2022-04-27T08:24:28.584Z"
   },
   {
    "duration": 10,
    "start_time": "2022-04-27T08:24:28.599Z"
   },
   {
    "duration": 7,
    "start_time": "2022-04-27T08:24:28.610Z"
   },
   {
    "duration": 310,
    "start_time": "2022-04-27T08:24:28.619Z"
   },
   {
    "duration": 420,
    "start_time": "2022-04-27T08:24:28.930Z"
   },
   {
    "duration": 1117,
    "start_time": "2022-04-28T07:15:37.663Z"
   },
   {
    "duration": 35,
    "start_time": "2022-04-28T07:15:38.782Z"
   },
   {
    "duration": 6,
    "start_time": "2022-04-28T07:15:38.819Z"
   },
   {
    "duration": 10,
    "start_time": "2022-04-28T07:15:38.826Z"
   },
   {
    "duration": 6,
    "start_time": "2022-04-28T07:15:38.838Z"
   },
   {
    "duration": 12,
    "start_time": "2022-04-28T07:15:38.846Z"
   },
   {
    "duration": 53,
    "start_time": "2022-04-28T07:15:38.860Z"
   },
   {
    "duration": 7,
    "start_time": "2022-04-28T07:15:38.915Z"
   },
   {
    "duration": 14,
    "start_time": "2022-04-28T07:15:38.924Z"
   },
   {
    "duration": 8,
    "start_time": "2022-04-28T07:15:38.942Z"
   },
   {
    "duration": 10,
    "start_time": "2022-04-28T07:15:38.952Z"
   },
   {
    "duration": 6,
    "start_time": "2022-04-28T07:15:38.964Z"
   },
   {
    "duration": 13,
    "start_time": "2022-04-28T07:15:38.971Z"
   },
   {
    "duration": 37,
    "start_time": "2022-04-28T07:15:38.986Z"
   },
   {
    "duration": 8,
    "start_time": "2022-04-28T07:15:39.025Z"
   },
   {
    "duration": 54,
    "start_time": "2022-04-28T07:15:39.035Z"
   },
   {
    "duration": 5,
    "start_time": "2022-04-28T07:15:39.092Z"
   },
   {
    "duration": 7,
    "start_time": "2022-04-28T07:15:39.123Z"
   },
   {
    "duration": 462,
    "start_time": "2022-04-28T07:15:39.132Z"
   },
   {
    "duration": 10,
    "start_time": "2022-04-28T07:15:39.596Z"
   },
   {
    "duration": 16,
    "start_time": "2022-04-28T07:15:39.608Z"
   },
   {
    "duration": 14,
    "start_time": "2022-04-28T07:15:39.626Z"
   },
   {
    "duration": 425,
    "start_time": "2022-04-28T07:15:39.642Z"
   },
   {
    "duration": 186,
    "start_time": "2022-04-28T07:15:40.069Z"
   },
   {
    "duration": 286,
    "start_time": "2022-04-28T07:15:40.257Z"
   },
   {
    "duration": 181,
    "start_time": "2022-04-28T07:15:40.545Z"
   },
   {
    "duration": 320,
    "start_time": "2022-04-28T07:15:40.729Z"
   },
   {
    "duration": 22,
    "start_time": "2022-04-28T07:15:41.054Z"
   },
   {
    "duration": 167,
    "start_time": "2022-04-28T07:15:41.078Z"
   },
   {
    "duration": 4,
    "start_time": "2022-04-28T07:15:41.247Z"
   },
   {
    "duration": 141,
    "start_time": "2022-04-28T07:15:41.252Z"
   },
   {
    "duration": 5,
    "start_time": "2022-04-28T07:15:41.394Z"
   },
   {
    "duration": 23,
    "start_time": "2022-04-28T07:15:41.400Z"
   },
   {
    "duration": 47,
    "start_time": "2022-04-28T07:15:41.425Z"
   },
   {
    "duration": 64,
    "start_time": "2022-04-28T07:15:41.474Z"
   },
   {
    "duration": 67,
    "start_time": "2022-04-28T07:15:41.540Z"
   },
   {
    "duration": 70,
    "start_time": "2022-04-28T07:15:41.609Z"
   },
   {
    "duration": 43,
    "start_time": "2022-04-28T07:15:41.681Z"
   },
   {
    "duration": 148,
    "start_time": "2022-04-28T07:15:41.726Z"
   },
   {
    "duration": 7,
    "start_time": "2022-04-28T07:15:41.875Z"
   },
   {
    "duration": 6,
    "start_time": "2022-04-28T07:15:41.883Z"
   },
   {
    "duration": 34,
    "start_time": "2022-04-28T07:15:41.891Z"
   },
   {
    "duration": 7,
    "start_time": "2022-04-28T07:15:41.926Z"
   },
   {
    "duration": 5,
    "start_time": "2022-04-28T07:15:41.935Z"
   },
   {
    "duration": 10,
    "start_time": "2022-04-28T07:15:41.941Z"
   },
   {
    "duration": 7,
    "start_time": "2022-04-28T07:15:41.952Z"
   },
   {
    "duration": 5,
    "start_time": "2022-04-28T07:15:41.960Z"
   },
   {
    "duration": 10,
    "start_time": "2022-04-28T07:15:41.967Z"
   },
   {
    "duration": 7,
    "start_time": "2022-04-28T07:15:42.023Z"
   },
   {
    "duration": 45,
    "start_time": "2022-04-28T07:15:42.032Z"
   },
   {
    "duration": 29,
    "start_time": "2022-04-28T07:15:42.079Z"
   },
   {
    "duration": 7,
    "start_time": "2022-04-28T07:15:42.110Z"
   },
   {
    "duration": 7,
    "start_time": "2022-04-28T07:15:42.118Z"
   },
   {
    "duration": 8,
    "start_time": "2022-04-28T07:15:42.127Z"
   },
   {
    "duration": 14,
    "start_time": "2022-04-28T07:15:42.137Z"
   },
   {
    "duration": 16,
    "start_time": "2022-04-28T07:15:42.152Z"
   },
   {
    "duration": 11,
    "start_time": "2022-04-28T07:15:42.170Z"
   },
   {
    "duration": 422,
    "start_time": "2022-04-28T07:15:42.183Z"
   },
   {
    "duration": 371,
    "start_time": "2022-04-28T07:15:42.607Z"
   },
   {
    "duration": 2466,
    "start_time": "2022-05-02T09:01:12.888Z"
   },
   {
    "duration": 18,
    "start_time": "2022-05-02T09:01:22.427Z"
   },
   {
    "duration": 12,
    "start_time": "2022-05-02T09:01:26.521Z"
   },
   {
    "duration": 6,
    "start_time": "2022-05-02T09:01:40.144Z"
   },
   {
    "duration": 25,
    "start_time": "2022-05-02T09:01:42.148Z"
   },
   {
    "duration": 10,
    "start_time": "2022-05-02T09:01:47.580Z"
   },
   {
    "duration": 14,
    "start_time": "2022-05-02T09:01:48.092Z"
   },
   {
    "duration": 5,
    "start_time": "2022-05-02T09:01:53.491Z"
   },
   {
    "duration": 14,
    "start_time": "2022-05-02T09:01:54.257Z"
   },
   {
    "duration": 6,
    "start_time": "2022-05-02T09:15:47.593Z"
   },
   {
    "duration": 39,
    "start_time": "2022-05-02T09:15:47.602Z"
   },
   {
    "duration": 9,
    "start_time": "2022-05-02T09:15:47.644Z"
   },
   {
    "duration": 28,
    "start_time": "2022-05-02T09:15:47.656Z"
   },
   {
    "duration": 8,
    "start_time": "2022-05-02T09:15:47.688Z"
   },
   {
    "duration": 28,
    "start_time": "2022-05-02T09:15:47.700Z"
   },
   {
    "duration": 46,
    "start_time": "2022-05-02T09:15:47.732Z"
   },
   {
    "duration": 16,
    "start_time": "2022-05-02T09:15:47.783Z"
   },
   {
    "duration": 30,
    "start_time": "2022-05-02T09:15:47.802Z"
   },
   {
    "duration": 25,
    "start_time": "2022-05-02T09:15:47.835Z"
   },
   {
    "duration": 43,
    "start_time": "2022-05-02T09:15:47.865Z"
   },
   {
    "duration": 12,
    "start_time": "2022-05-02T09:15:47.911Z"
   },
   {
    "duration": 33,
    "start_time": "2022-05-02T09:15:47.929Z"
   },
   {
    "duration": 21,
    "start_time": "2022-05-02T09:15:47.964Z"
   },
   {
    "duration": 25,
    "start_time": "2022-05-02T09:15:47.988Z"
   },
   {
    "duration": 106,
    "start_time": "2022-05-02T09:15:48.016Z"
   },
   {
    "duration": 8,
    "start_time": "2022-05-02T09:15:48.124Z"
   },
   {
    "duration": 21,
    "start_time": "2022-05-02T09:15:48.135Z"
   },
   {
    "duration": 596,
    "start_time": "2022-05-02T09:15:48.159Z"
   },
   {
    "duration": 11,
    "start_time": "2022-05-02T09:15:48.758Z"
   },
   {
    "duration": 14,
    "start_time": "2022-05-02T09:15:48.783Z"
   },
   {
    "duration": 33,
    "start_time": "2022-05-02T09:15:48.800Z"
   },
   {
    "duration": 689,
    "start_time": "2022-05-02T09:15:48.836Z"
   },
   {
    "duration": 373,
    "start_time": "2022-05-02T09:15:49.529Z"
   },
   {
    "duration": 529,
    "start_time": "2022-05-02T09:15:53.329Z"
   },
   {
    "duration": 420,
    "start_time": "2022-05-02T09:16:06.764Z"
   },
   {
    "duration": 20,
    "start_time": "2022-05-02T09:18:32.872Z"
   },
   {
    "duration": 5,
    "start_time": "2022-05-02T09:18:36.957Z"
   },
   {
    "duration": 29,
    "start_time": "2022-05-02T09:18:36.964Z"
   },
   {
    "duration": 6,
    "start_time": "2022-05-02T09:18:36.996Z"
   },
   {
    "duration": 28,
    "start_time": "2022-05-02T09:18:37.005Z"
   },
   {
    "duration": 9,
    "start_time": "2022-05-02T09:18:37.036Z"
   },
   {
    "duration": 39,
    "start_time": "2022-05-02T09:18:37.047Z"
   },
   {
    "duration": 35,
    "start_time": "2022-05-02T09:18:37.090Z"
   },
   {
    "duration": 16,
    "start_time": "2022-05-02T09:18:37.128Z"
   },
   {
    "duration": 32,
    "start_time": "2022-05-02T09:18:37.151Z"
   },
   {
    "duration": 18,
    "start_time": "2022-05-02T09:18:37.187Z"
   },
   {
    "duration": 22,
    "start_time": "2022-05-02T09:18:37.209Z"
   },
   {
    "duration": 9,
    "start_time": "2022-05-02T09:18:37.234Z"
   },
   {
    "duration": 58,
    "start_time": "2022-05-02T09:18:37.245Z"
   },
   {
    "duration": 7,
    "start_time": "2022-05-02T09:18:37.307Z"
   },
   {
    "duration": 15,
    "start_time": "2022-05-02T09:18:37.358Z"
   },
   {
    "duration": 105,
    "start_time": "2022-05-02T09:18:37.376Z"
   },
   {
    "duration": 9,
    "start_time": "2022-05-02T09:18:37.484Z"
   },
   {
    "duration": 10,
    "start_time": "2022-05-02T09:18:37.498Z"
   },
   {
    "duration": 681,
    "start_time": "2022-05-02T09:18:37.511Z"
   },
   {
    "duration": 13,
    "start_time": "2022-05-02T09:18:38.196Z"
   },
   {
    "duration": 11,
    "start_time": "2022-05-02T09:18:38.212Z"
   },
   {
    "duration": 21,
    "start_time": "2022-05-02T09:18:38.226Z"
   },
   {
    "duration": 464,
    "start_time": "2022-05-02T09:18:38.249Z"
   },
   {
    "duration": 329,
    "start_time": "2022-05-02T09:18:38.718Z"
   },
   {
    "duration": 433,
    "start_time": "2022-05-02T09:18:39.050Z"
   },
   {
    "duration": 318,
    "start_time": "2022-05-02T09:18:39.486Z"
   },
   {
    "duration": 673,
    "start_time": "2022-05-02T09:18:39.807Z"
   },
   {
    "duration": 17,
    "start_time": "2022-05-02T09:18:40.482Z"
   },
   {
    "duration": 288,
    "start_time": "2022-05-02T09:18:40.502Z"
   },
   {
    "duration": 9,
    "start_time": "2022-05-02T09:18:40.793Z"
   },
   {
    "duration": 307,
    "start_time": "2022-05-02T09:18:40.805Z"
   },
   {
    "duration": 11,
    "start_time": "2022-05-02T09:18:41.115Z"
   },
   {
    "duration": 17,
    "start_time": "2022-05-02T09:18:41.129Z"
   },
   {
    "duration": 144,
    "start_time": "2022-05-02T09:18:41.149Z"
   },
   {
    "duration": 99,
    "start_time": "2022-05-02T09:18:41.299Z"
   },
   {
    "duration": 135,
    "start_time": "2022-05-02T09:18:41.401Z"
   },
   {
    "duration": 124,
    "start_time": "2022-05-02T09:18:41.539Z"
   },
   {
    "duration": 117,
    "start_time": "2022-05-02T09:18:43.229Z"
   },
   {
    "duration": 63,
    "start_time": "2022-05-02T09:18:44.858Z"
   },
   {
    "duration": 5,
    "start_time": "2022-05-02T09:35:08.646Z"
   },
   {
    "duration": 24,
    "start_time": "2022-05-02T09:35:08.654Z"
   },
   {
    "duration": 6,
    "start_time": "2022-05-02T09:35:08.681Z"
   },
   {
    "duration": 24,
    "start_time": "2022-05-02T09:35:08.689Z"
   },
   {
    "duration": 7,
    "start_time": "2022-05-02T09:35:08.716Z"
   },
   {
    "duration": 23,
    "start_time": "2022-05-02T09:35:08.725Z"
   },
   {
    "duration": 42,
    "start_time": "2022-05-02T09:35:08.750Z"
   },
   {
    "duration": 12,
    "start_time": "2022-05-02T09:35:08.795Z"
   },
   {
    "duration": 25,
    "start_time": "2022-05-02T09:35:08.809Z"
   },
   {
    "duration": 15,
    "start_time": "2022-05-02T09:35:08.839Z"
   },
   {
    "duration": 15,
    "start_time": "2022-05-02T09:35:08.924Z"
   },
   {
    "duration": 36,
    "start_time": "2022-05-02T09:35:08.942Z"
   },
   {
    "duration": 23,
    "start_time": "2022-05-02T09:35:08.980Z"
   },
   {
    "duration": 25,
    "start_time": "2022-05-02T09:35:09.006Z"
   },
   {
    "duration": 13,
    "start_time": "2022-05-02T09:35:09.035Z"
   },
   {
    "duration": 93,
    "start_time": "2022-05-02T09:35:09.050Z"
   },
   {
    "duration": 6,
    "start_time": "2022-05-02T09:35:09.146Z"
   },
   {
    "duration": 30,
    "start_time": "2022-05-02T09:35:09.154Z"
   },
   {
    "duration": 472,
    "start_time": "2022-05-02T09:35:09.187Z"
   },
   {
    "duration": 8,
    "start_time": "2022-05-02T09:35:09.662Z"
   },
   {
    "duration": 4,
    "start_time": "2022-05-02T09:35:09.682Z"
   },
   {
    "duration": 20,
    "start_time": "2022-05-02T09:35:09.688Z"
   },
   {
    "duration": 315,
    "start_time": "2022-05-02T09:35:09.711Z"
   },
   {
    "duration": 320,
    "start_time": "2022-05-02T09:35:10.029Z"
   },
   {
    "duration": 429,
    "start_time": "2022-05-02T09:35:10.352Z"
   },
   {
    "duration": 430,
    "start_time": "2022-05-02T09:35:10.784Z"
   },
   {
    "duration": 423,
    "start_time": "2022-05-02T09:35:11.217Z"
   },
   {
    "duration": 16,
    "start_time": "2022-05-02T09:35:11.643Z"
   },
   {
    "duration": 243,
    "start_time": "2022-05-02T09:35:11.662Z"
   },
   {
    "duration": 8,
    "start_time": "2022-05-02T09:35:11.908Z"
   },
   {
    "duration": 219,
    "start_time": "2022-05-02T09:35:11.918Z"
   },
   {
    "duration": 7,
    "start_time": "2022-05-02T09:35:12.140Z"
   },
   {
    "duration": 33,
    "start_time": "2022-05-02T09:35:12.150Z"
   },
   {
    "duration": 79,
    "start_time": "2022-05-02T09:35:12.185Z"
   },
   {
    "duration": 103,
    "start_time": "2022-05-02T09:35:12.281Z"
   },
   {
    "duration": 115,
    "start_time": "2022-05-02T09:35:12.386Z"
   },
   {
    "duration": 113,
    "start_time": "2022-05-02T09:35:12.503Z"
   },
   {
    "duration": 64,
    "start_time": "2022-05-02T09:35:12.619Z"
   },
   {
    "duration": 275,
    "start_time": "2022-05-02T09:35:12.688Z"
   },
   {
    "duration": 15,
    "start_time": "2022-05-02T09:35:12.966Z"
   },
   {
    "duration": 3,
    "start_time": "2022-05-02T09:35:12.984Z"
   },
   {
    "duration": 32,
    "start_time": "2022-05-02T09:35:12.989Z"
   },
   {
    "duration": 10,
    "start_time": "2022-05-02T09:35:13.024Z"
   },
   {
    "duration": 8,
    "start_time": "2022-05-02T09:35:13.036Z"
   },
   {
    "duration": 15,
    "start_time": "2022-05-02T09:35:13.082Z"
   },
   {
    "duration": 10,
    "start_time": "2022-05-02T09:35:13.100Z"
   },
   {
    "duration": 6,
    "start_time": "2022-05-02T09:35:13.112Z"
   },
   {
    "duration": 127,
    "start_time": "2022-05-02T09:35:16.066Z"
   },
   {
    "duration": 1574,
    "start_time": "2022-05-02T09:35:26.146Z"
   },
   {
    "duration": 1668,
    "start_time": "2022-05-02T09:36:15.050Z"
   },
   {
    "duration": 1744,
    "start_time": "2022-05-02T09:36:36.176Z"
   },
   {
    "duration": 15,
    "start_time": "2022-05-02T09:37:26.784Z"
   },
   {
    "duration": 9,
    "start_time": "2022-05-02T09:37:36.491Z"
   },
   {
    "duration": 9,
    "start_time": "2022-05-02T09:38:24.347Z"
   },
   {
    "duration": 12,
    "start_time": "2022-05-02T09:38:26.130Z"
   },
   {
    "duration": 30,
    "start_time": "2022-05-02T09:38:27.430Z"
   },
   {
    "duration": 10,
    "start_time": "2022-05-02T09:38:32.806Z"
   },
   {
    "duration": 8,
    "start_time": "2022-05-02T09:38:40.158Z"
   },
   {
    "duration": 9,
    "start_time": "2022-05-02T09:39:07.822Z"
   },
   {
    "duration": 17,
    "start_time": "2022-05-02T09:40:13.461Z"
   },
   {
    "duration": 18,
    "start_time": "2022-05-02T09:40:14.571Z"
   },
   {
    "duration": 10,
    "start_time": "2022-05-02T09:40:19.584Z"
   },
   {
    "duration": 8,
    "start_time": "2022-05-02T09:40:21.308Z"
   },
   {
    "duration": 1496,
    "start_time": "2022-05-02T09:51:06.262Z"
   },
   {
    "duration": 31,
    "start_time": "2022-05-02T09:51:07.761Z"
   },
   {
    "duration": 7,
    "start_time": "2022-05-02T09:51:07.795Z"
   },
   {
    "duration": 14,
    "start_time": "2022-05-02T09:51:07.805Z"
   },
   {
    "duration": 8,
    "start_time": "2022-05-02T09:51:07.821Z"
   },
   {
    "duration": 15,
    "start_time": "2022-05-02T09:51:07.831Z"
   },
   {
    "duration": 66,
    "start_time": "2022-05-02T09:51:07.848Z"
   },
   {
    "duration": 11,
    "start_time": "2022-05-02T09:51:07.917Z"
   },
   {
    "duration": 28,
    "start_time": "2022-05-02T09:51:07.930Z"
   },
   {
    "duration": 16,
    "start_time": "2022-05-02T09:51:07.963Z"
   },
   {
    "duration": 34,
    "start_time": "2022-05-02T09:51:07.983Z"
   },
   {
    "duration": 17,
    "start_time": "2022-05-02T09:51:08.019Z"
   },
   {
    "duration": 24,
    "start_time": "2022-05-02T09:51:08.038Z"
   },
   {
    "duration": 8,
    "start_time": "2022-05-02T09:51:08.064Z"
   },
   {
    "duration": 25,
    "start_time": "2022-05-02T09:51:08.075Z"
   },
   {
    "duration": 123,
    "start_time": "2022-05-02T09:51:08.103Z"
   },
   {
    "duration": 6,
    "start_time": "2022-05-02T09:51:08.228Z"
   },
   {
    "duration": 7,
    "start_time": "2022-05-02T09:51:08.236Z"
   },
   {
    "duration": 494,
    "start_time": "2022-05-02T09:51:08.246Z"
   },
   {
    "duration": 10,
    "start_time": "2022-05-02T09:51:08.742Z"
   },
   {
    "duration": 7,
    "start_time": "2022-05-02T09:51:08.754Z"
   },
   {
    "duration": 35,
    "start_time": "2022-05-02T09:51:08.763Z"
   },
   {
    "duration": 700,
    "start_time": "2022-05-02T09:51:08.800Z"
   },
   {
    "duration": 360,
    "start_time": "2022-05-02T09:51:09.504Z"
   },
   {
    "duration": 433,
    "start_time": "2022-05-02T09:51:09.867Z"
   },
   {
    "duration": 439,
    "start_time": "2022-05-02T09:51:10.303Z"
   },
   {
    "duration": 460,
    "start_time": "2022-05-02T09:51:10.745Z"
   },
   {
    "duration": 16,
    "start_time": "2022-05-02T09:51:11.211Z"
   },
   {
    "duration": 254,
    "start_time": "2022-05-02T09:51:11.229Z"
   },
   {
    "duration": 14,
    "start_time": "2022-05-02T09:51:11.486Z"
   },
   {
    "duration": 222,
    "start_time": "2022-05-02T09:51:11.502Z"
   },
   {
    "duration": 6,
    "start_time": "2022-05-02T09:51:11.727Z"
   },
   {
    "duration": 11,
    "start_time": "2022-05-02T09:51:11.736Z"
   },
   {
    "duration": 113,
    "start_time": "2022-05-02T09:51:11.750Z"
   },
   {
    "duration": 87,
    "start_time": "2022-05-02T09:51:11.865Z"
   },
   {
    "duration": 114,
    "start_time": "2022-05-02T09:51:11.954Z"
   },
   {
    "duration": 115,
    "start_time": "2022-05-02T09:51:12.070Z"
   },
   {
    "duration": 51,
    "start_time": "2022-05-02T09:51:12.187Z"
   },
   {
    "duration": 296,
    "start_time": "2022-05-02T09:51:12.240Z"
   },
   {
    "duration": 9,
    "start_time": "2022-05-02T09:51:12.538Z"
   },
   {
    "duration": 12,
    "start_time": "2022-05-02T09:51:12.549Z"
   },
   {
    "duration": 50,
    "start_time": "2022-05-02T09:51:12.564Z"
   },
   {
    "duration": 8,
    "start_time": "2022-05-02T09:51:12.617Z"
   },
   {
    "duration": 8,
    "start_time": "2022-05-02T09:51:12.627Z"
   },
   {
    "duration": 15,
    "start_time": "2022-05-02T09:51:12.636Z"
   },
   {
    "duration": 14,
    "start_time": "2022-05-02T09:51:12.681Z"
   },
   {
    "duration": 10,
    "start_time": "2022-05-02T09:51:12.698Z"
   },
   {
    "duration": 14,
    "start_time": "2022-05-02T09:51:12.711Z"
   },
   {
    "duration": 10,
    "start_time": "2022-05-02T09:51:12.727Z"
   },
   {
    "duration": 49,
    "start_time": "2022-05-02T09:51:12.739Z"
   },
   {
    "duration": 31,
    "start_time": "2022-05-02T09:51:12.790Z"
   },
   {
    "duration": 9,
    "start_time": "2022-05-02T09:51:12.823Z"
   },
   {
    "duration": 9,
    "start_time": "2022-05-02T09:51:12.834Z"
   },
   {
    "duration": 52,
    "start_time": "2022-05-02T09:51:12.845Z"
   },
   {
    "duration": 10,
    "start_time": "2022-05-02T09:51:12.900Z"
   },
   {
    "duration": 8,
    "start_time": "2022-05-02T09:51:12.912Z"
   },
   {
    "duration": 9,
    "start_time": "2022-05-02T09:51:12.922Z"
   },
   {
    "duration": 479,
    "start_time": "2022-05-02T09:51:12.933Z"
   },
   {
    "duration": 1287,
    "start_time": "2022-05-03T06:57:40.514Z"
   },
   {
    "duration": 24,
    "start_time": "2022-05-03T06:57:41.803Z"
   },
   {
    "duration": 6,
    "start_time": "2022-05-03T06:57:41.828Z"
   },
   {
    "duration": 19,
    "start_time": "2022-05-03T06:57:41.836Z"
   },
   {
    "duration": 6,
    "start_time": "2022-05-03T06:57:41.858Z"
   },
   {
    "duration": 18,
    "start_time": "2022-05-03T06:57:41.866Z"
   },
   {
    "duration": 35,
    "start_time": "2022-05-03T06:57:41.886Z"
   },
   {
    "duration": 10,
    "start_time": "2022-05-03T06:57:41.924Z"
   },
   {
    "duration": 19,
    "start_time": "2022-05-03T06:57:41.936Z"
   },
   {
    "duration": 13,
    "start_time": "2022-05-03T06:57:41.956Z"
   },
   {
    "duration": 13,
    "start_time": "2022-05-03T06:57:41.970Z"
   },
   {
    "duration": 5,
    "start_time": "2022-05-03T06:57:41.985Z"
   },
   {
    "duration": 14,
    "start_time": "2022-05-03T06:57:41.992Z"
   },
   {
    "duration": 6,
    "start_time": "2022-05-03T06:57:42.010Z"
   },
   {
    "duration": 38,
    "start_time": "2022-05-03T06:57:42.017Z"
   },
   {
    "duration": 50,
    "start_time": "2022-05-03T06:57:42.057Z"
   },
   {
    "duration": 5,
    "start_time": "2022-05-03T06:57:42.110Z"
   },
   {
    "duration": 33,
    "start_time": "2022-05-03T06:57:42.116Z"
   },
   {
    "duration": 264,
    "start_time": "2022-05-03T06:57:42.151Z"
   },
   {
    "duration": 6,
    "start_time": "2022-05-03T06:57:42.417Z"
   },
   {
    "duration": 7,
    "start_time": "2022-05-03T06:57:42.424Z"
   },
   {
    "duration": 20,
    "start_time": "2022-05-03T06:57:42.433Z"
   },
   {
    "duration": 267,
    "start_time": "2022-05-03T06:57:42.454Z"
   },
   {
    "duration": 183,
    "start_time": "2022-05-03T06:57:42.722Z"
   },
   {
    "duration": 352,
    "start_time": "2022-05-03T06:57:42.906Z"
   },
   {
    "duration": 176,
    "start_time": "2022-05-03T06:57:43.260Z"
   },
   {
    "duration": 294,
    "start_time": "2022-05-03T06:57:43.438Z"
   },
   {
    "duration": 17,
    "start_time": "2022-05-03T06:57:43.733Z"
   },
   {
    "duration": 145,
    "start_time": "2022-05-03T06:57:43.752Z"
   },
   {
    "duration": 5,
    "start_time": "2022-05-03T06:57:43.899Z"
   },
   {
    "duration": 129,
    "start_time": "2022-05-03T06:57:43.905Z"
   },
   {
    "duration": 14,
    "start_time": "2022-05-03T06:57:44.035Z"
   },
   {
    "duration": 12,
    "start_time": "2022-05-03T06:57:44.051Z"
   },
   {
    "duration": 48,
    "start_time": "2022-05-03T06:57:44.064Z"
   },
   {
    "duration": 58,
    "start_time": "2022-05-03T06:57:44.113Z"
   },
   {
    "duration": 61,
    "start_time": "2022-05-03T06:57:44.173Z"
   },
   {
    "duration": 64,
    "start_time": "2022-05-03T06:57:44.236Z"
   },
   {
    "duration": 29,
    "start_time": "2022-05-03T06:57:44.302Z"
   },
   {
    "duration": 126,
    "start_time": "2022-05-03T06:57:44.347Z"
   },
   {
    "duration": 6,
    "start_time": "2022-05-03T06:57:44.475Z"
   },
   {
    "duration": 3,
    "start_time": "2022-05-03T06:57:44.484Z"
   },
   {
    "duration": 24,
    "start_time": "2022-05-03T06:57:44.488Z"
   },
   {
    "duration": 6,
    "start_time": "2022-05-03T06:57:44.514Z"
   },
   {
    "duration": 5,
    "start_time": "2022-05-03T06:57:44.548Z"
   },
   {
    "duration": 11,
    "start_time": "2022-05-03T06:57:44.554Z"
   },
   {
    "duration": 9,
    "start_time": "2022-05-03T06:57:44.567Z"
   },
   {
    "duration": 6,
    "start_time": "2022-05-03T06:57:44.578Z"
   },
   {
    "duration": 8,
    "start_time": "2022-05-03T06:57:44.585Z"
   },
   {
    "duration": 7,
    "start_time": "2022-05-03T06:57:44.595Z"
   },
   {
    "duration": 49,
    "start_time": "2022-05-03T06:57:44.603Z"
   },
   {
    "duration": 22,
    "start_time": "2022-05-03T06:57:44.654Z"
   },
   {
    "duration": 6,
    "start_time": "2022-05-03T06:57:44.677Z"
   },
   {
    "duration": 5,
    "start_time": "2022-05-03T06:57:44.684Z"
   },
   {
    "duration": 9,
    "start_time": "2022-05-03T06:57:44.690Z"
   },
   {
    "duration": 8,
    "start_time": "2022-05-03T06:57:44.700Z"
   },
   {
    "duration": 41,
    "start_time": "2022-05-03T06:57:44.709Z"
   },
   {
    "duration": 6,
    "start_time": "2022-05-03T06:57:44.752Z"
   },
   {
    "duration": 298,
    "start_time": "2022-05-03T06:57:44.760Z"
   },
   {
    "duration": 127,
    "start_time": "2022-05-03T07:05:59.173Z"
   },
   {
    "duration": 1236,
    "start_time": "2022-09-15T08:11:22.244Z"
   },
   {
    "duration": 72,
    "start_time": "2022-09-15T08:11:23.483Z"
   },
   {
    "duration": 6,
    "start_time": "2022-09-15T08:11:23.557Z"
   },
   {
    "duration": 17,
    "start_time": "2022-09-15T08:11:23.565Z"
   },
   {
    "duration": 5,
    "start_time": "2022-09-15T08:11:23.584Z"
   },
   {
    "duration": 12,
    "start_time": "2022-09-15T08:11:23.591Z"
   },
   {
    "duration": 138,
    "start_time": "2022-09-15T08:11:23.605Z"
   },
   {
    "duration": 8,
    "start_time": "2022-09-15T08:11:23.745Z"
   },
   {
    "duration": 17,
    "start_time": "2022-09-15T08:11:23.754Z"
   },
   {
    "duration": 8,
    "start_time": "2022-09-15T08:11:23.774Z"
   },
   {
    "duration": 15,
    "start_time": "2022-09-15T08:11:23.784Z"
   },
   {
    "duration": 7,
    "start_time": "2022-09-15T08:11:23.800Z"
   },
   {
    "duration": 18,
    "start_time": "2022-09-15T08:11:23.809Z"
   },
   {
    "duration": 9,
    "start_time": "2022-09-15T08:11:23.828Z"
   },
   {
    "duration": 13,
    "start_time": "2022-09-15T08:11:23.838Z"
   },
   {
    "duration": 81,
    "start_time": "2022-09-15T08:11:23.853Z"
   },
   {
    "duration": 6,
    "start_time": "2022-09-15T08:11:23.936Z"
   },
   {
    "duration": 19,
    "start_time": "2022-09-15T08:11:23.943Z"
   },
   {
    "duration": 296,
    "start_time": "2022-09-15T08:11:23.964Z"
   },
   {
    "duration": 6,
    "start_time": "2022-09-15T08:11:24.262Z"
   },
   {
    "duration": 14,
    "start_time": "2022-09-15T08:11:24.269Z"
   },
   {
    "duration": 18,
    "start_time": "2022-09-15T08:11:24.285Z"
   },
   {
    "duration": 293,
    "start_time": "2022-09-15T08:11:30.450Z"
   },
   {
    "duration": 190,
    "start_time": "2022-09-15T08:11:40.681Z"
   },
   {
    "duration": 1126,
    "start_time": "2022-09-15T08:24:20.177Z"
   },
   {
    "duration": 43,
    "start_time": "2022-09-15T08:24:21.305Z"
   },
   {
    "duration": 6,
    "start_time": "2022-09-15T08:24:21.349Z"
   },
   {
    "duration": 21,
    "start_time": "2022-09-15T08:24:21.357Z"
   },
   {
    "duration": 8,
    "start_time": "2022-09-15T08:24:21.380Z"
   },
   {
    "duration": 14,
    "start_time": "2022-09-15T08:24:21.390Z"
   },
   {
    "duration": 62,
    "start_time": "2022-09-15T08:24:21.406Z"
   },
   {
    "duration": 8,
    "start_time": "2022-09-15T08:24:21.469Z"
   },
   {
    "duration": 16,
    "start_time": "2022-09-15T08:24:21.479Z"
   },
   {
    "duration": 12,
    "start_time": "2022-09-15T08:24:21.499Z"
   },
   {
    "duration": 14,
    "start_time": "2022-09-15T08:24:21.513Z"
   },
   {
    "duration": 5,
    "start_time": "2022-09-15T08:24:21.529Z"
   },
   {
    "duration": 17,
    "start_time": "2022-09-15T08:24:21.536Z"
   },
   {
    "duration": 10,
    "start_time": "2022-09-15T08:24:21.554Z"
   },
   {
    "duration": 20,
    "start_time": "2022-09-15T08:24:21.566Z"
   },
   {
    "duration": 53,
    "start_time": "2022-09-15T08:24:21.588Z"
   },
   {
    "duration": 5,
    "start_time": "2022-09-15T08:24:21.643Z"
   },
   {
    "duration": 13,
    "start_time": "2022-09-15T08:24:21.650Z"
   },
   {
    "duration": 310,
    "start_time": "2022-09-15T08:24:21.664Z"
   },
   {
    "duration": 7,
    "start_time": "2022-09-15T08:24:21.976Z"
   },
   {
    "duration": 11,
    "start_time": "2022-09-15T08:24:21.986Z"
   },
   {
    "duration": 23,
    "start_time": "2022-09-15T08:24:21.999Z"
   },
   {
    "duration": 285,
    "start_time": "2022-09-15T08:24:22.024Z"
   },
   {
    "duration": 212,
    "start_time": "2022-09-15T08:24:22.310Z"
   },
   {
    "duration": 303,
    "start_time": "2022-09-15T08:24:22.524Z"
   },
   {
    "duration": 200,
    "start_time": "2022-09-15T08:24:22.829Z"
   },
   {
    "duration": 322,
    "start_time": "2022-09-15T08:24:23.031Z"
   },
   {
    "duration": 12,
    "start_time": "2022-09-15T08:24:23.356Z"
   },
   {
    "duration": 157,
    "start_time": "2022-09-15T08:24:23.369Z"
   },
   {
    "duration": 5,
    "start_time": "2022-09-15T08:24:23.528Z"
   },
   {
    "duration": 146,
    "start_time": "2022-09-15T08:24:23.535Z"
   },
   {
    "duration": 5,
    "start_time": "2022-09-15T08:24:23.683Z"
   },
   {
    "duration": 11,
    "start_time": "2022-09-15T08:24:23.690Z"
   },
   {
    "duration": 51,
    "start_time": "2022-09-15T08:24:23.721Z"
   },
   {
    "duration": 61,
    "start_time": "2022-09-15T08:24:23.774Z"
   },
   {
    "duration": 61,
    "start_time": "2022-09-15T08:24:23.837Z"
   },
   {
    "duration": 72,
    "start_time": "2022-09-15T08:24:23.900Z"
   },
   {
    "duration": 30,
    "start_time": "2022-09-15T08:24:23.974Z"
   },
   {
    "duration": 154,
    "start_time": "2022-09-15T08:24:24.006Z"
   },
   {
    "duration": 6,
    "start_time": "2022-09-15T08:24:24.162Z"
   },
   {
    "duration": 5,
    "start_time": "2022-09-15T08:24:24.169Z"
   },
   {
    "duration": 25,
    "start_time": "2022-09-15T08:24:24.176Z"
   },
   {
    "duration": 21,
    "start_time": "2022-09-15T08:24:24.203Z"
   },
   {
    "duration": 8,
    "start_time": "2022-09-15T08:24:24.226Z"
   },
   {
    "duration": 11,
    "start_time": "2022-09-15T08:24:24.236Z"
   },
   {
    "duration": 7,
    "start_time": "2022-09-15T08:24:24.249Z"
   },
   {
    "duration": 5,
    "start_time": "2022-09-15T08:24:24.258Z"
   },
   {
    "duration": 8,
    "start_time": "2022-09-15T08:24:24.264Z"
   },
   {
    "duration": 48,
    "start_time": "2022-09-15T08:24:24.274Z"
   },
   {
    "duration": 14,
    "start_time": "2022-09-15T08:24:24.323Z"
   },
   {
    "duration": 21,
    "start_time": "2022-09-15T08:24:24.339Z"
   },
   {
    "duration": 6,
    "start_time": "2022-09-15T08:24:24.362Z"
   },
   {
    "duration": 6,
    "start_time": "2022-09-15T08:24:24.370Z"
   },
   {
    "duration": 8,
    "start_time": "2022-09-15T08:24:24.378Z"
   },
   {
    "duration": 8,
    "start_time": "2022-09-15T08:24:24.420Z"
   },
   {
    "duration": 8,
    "start_time": "2022-09-15T08:24:24.430Z"
   },
   {
    "duration": 5,
    "start_time": "2022-09-15T08:24:24.440Z"
   },
   {
    "duration": 302,
    "start_time": "2022-09-15T08:24:24.447Z"
   },
   {
    "duration": 1172,
    "start_time": "2022-09-15T08:27:25.930Z"
   },
   {
    "duration": 38,
    "start_time": "2022-09-15T08:27:27.105Z"
   },
   {
    "duration": 6,
    "start_time": "2022-09-15T08:27:27.145Z"
   },
   {
    "duration": 13,
    "start_time": "2022-09-15T08:27:27.153Z"
   },
   {
    "duration": 6,
    "start_time": "2022-09-15T08:27:27.167Z"
   },
   {
    "duration": 14,
    "start_time": "2022-09-15T08:27:27.174Z"
   },
   {
    "duration": 58,
    "start_time": "2022-09-15T08:27:27.189Z"
   },
   {
    "duration": 8,
    "start_time": "2022-09-15T08:27:27.249Z"
   },
   {
    "duration": 14,
    "start_time": "2022-09-15T08:27:27.259Z"
   },
   {
    "duration": 10,
    "start_time": "2022-09-15T08:27:27.275Z"
   },
   {
    "duration": 15,
    "start_time": "2022-09-15T08:27:27.286Z"
   },
   {
    "duration": 12,
    "start_time": "2022-09-15T08:27:27.303Z"
   },
   {
    "duration": 20,
    "start_time": "2022-09-15T08:27:27.316Z"
   },
   {
    "duration": 9,
    "start_time": "2022-09-15T08:27:27.337Z"
   },
   {
    "duration": 17,
    "start_time": "2022-09-15T08:27:27.347Z"
   },
   {
    "duration": 61,
    "start_time": "2022-09-15T08:27:27.366Z"
   },
   {
    "duration": 5,
    "start_time": "2022-09-15T08:27:27.429Z"
   },
   {
    "duration": 8,
    "start_time": "2022-09-15T08:27:27.435Z"
   },
   {
    "duration": 301,
    "start_time": "2022-09-15T08:27:27.445Z"
   },
   {
    "duration": 6,
    "start_time": "2022-09-15T08:27:27.748Z"
   },
   {
    "duration": 10,
    "start_time": "2022-09-15T08:27:27.755Z"
   },
   {
    "duration": 11,
    "start_time": "2022-09-15T08:27:27.766Z"
   },
   {
    "duration": 297,
    "start_time": "2022-09-15T08:27:27.779Z"
   },
   {
    "duration": 214,
    "start_time": "2022-09-15T08:27:28.077Z"
   },
   {
    "duration": 320,
    "start_time": "2022-09-15T08:27:28.293Z"
   },
   {
    "duration": 204,
    "start_time": "2022-09-15T08:27:28.620Z"
   },
   {
    "duration": 362,
    "start_time": "2022-09-15T08:27:28.826Z"
   },
   {
    "duration": 12,
    "start_time": "2022-09-15T08:27:29.192Z"
   },
   {
    "duration": 157,
    "start_time": "2022-09-15T08:27:29.205Z"
   },
   {
    "duration": 5,
    "start_time": "2022-09-15T08:27:29.364Z"
   },
   {
    "duration": 157,
    "start_time": "2022-09-15T08:27:29.371Z"
   },
   {
    "duration": 5,
    "start_time": "2022-09-15T08:27:29.530Z"
   },
   {
    "duration": 13,
    "start_time": "2022-09-15T08:27:29.536Z"
   },
   {
    "duration": 73,
    "start_time": "2022-09-15T08:27:29.551Z"
   },
   {
    "duration": 49,
    "start_time": "2022-09-15T08:27:29.626Z"
   },
   {
    "duration": 76,
    "start_time": "2022-09-15T08:27:29.677Z"
   },
   {
    "duration": 72,
    "start_time": "2022-09-15T08:27:29.755Z"
   },
   {
    "duration": 32,
    "start_time": "2022-09-15T08:27:29.829Z"
   },
   {
    "duration": 163,
    "start_time": "2022-09-15T08:27:29.863Z"
   },
   {
    "duration": 6,
    "start_time": "2022-09-15T08:27:30.028Z"
   },
   {
    "duration": 11,
    "start_time": "2022-09-15T08:27:30.036Z"
   },
   {
    "duration": 25,
    "start_time": "2022-09-15T08:27:30.049Z"
   },
   {
    "duration": 7,
    "start_time": "2022-09-15T08:27:30.076Z"
   },
   {
    "duration": 17,
    "start_time": "2022-09-15T08:27:30.085Z"
   },
   {
    "duration": 25,
    "start_time": "2022-09-15T08:27:30.104Z"
   },
   {
    "duration": 8,
    "start_time": "2022-09-15T08:27:30.131Z"
   },
   {
    "duration": 20,
    "start_time": "2022-09-15T08:27:30.141Z"
   },
   {
    "duration": 22,
    "start_time": "2022-09-15T08:27:30.162Z"
   },
   {
    "duration": 41,
    "start_time": "2022-09-15T08:27:30.185Z"
   },
   {
    "duration": 25,
    "start_time": "2022-09-15T08:27:30.228Z"
   },
   {
    "duration": 38,
    "start_time": "2022-09-15T08:27:30.255Z"
   },
   {
    "duration": 6,
    "start_time": "2022-09-15T08:27:30.295Z"
   },
   {
    "duration": 27,
    "start_time": "2022-09-15T08:27:30.303Z"
   },
   {
    "duration": 20,
    "start_time": "2022-09-15T08:27:30.332Z"
   },
   {
    "duration": 21,
    "start_time": "2022-09-15T08:27:30.354Z"
   },
   {
    "duration": 12,
    "start_time": "2022-09-15T08:27:30.376Z"
   },
   {
    "duration": 21,
    "start_time": "2022-09-15T08:27:30.389Z"
   },
   {
    "duration": 335,
    "start_time": "2022-09-15T08:27:30.412Z"
   }
  ],
  "kernelspec": {
   "display_name": "Python 3 (ipykernel)",
   "language": "python",
   "name": "python3"
  },
  "language_info": {
   "codemirror_mode": {
    "name": "ipython",
    "version": 3
   },
   "file_extension": ".py",
   "mimetype": "text/x-python",
   "name": "python",
   "nbconvert_exporter": "python",
   "pygments_lexer": "ipython3",
   "version": "3.9.5"
  },
  "toc": {
   "base_numbering": 1,
   "nav_menu": {},
   "number_sections": true,
   "sideBar": true,
   "skip_h1_title": true,
   "title_cell": "Table of Contents",
   "title_sidebar": "Contents",
   "toc_cell": false,
   "toc_position": {
    "height": "calc(100% - 180px)",
    "left": "10px",
    "top": "150px",
    "width": "210px"
   },
   "toc_section_display": true,
   "toc_window_display": false
  }
 },
 "nbformat": 4,
 "nbformat_minor": 2
}
