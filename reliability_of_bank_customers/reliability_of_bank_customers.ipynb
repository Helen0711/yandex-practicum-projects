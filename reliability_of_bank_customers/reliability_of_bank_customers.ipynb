{
 "cells": [
  {
   "cell_type": "markdown",
   "metadata": {},
   "source": [
    "# Исследование надёжности заёмщиков"
   ]
  },
  {
   "cell_type": "markdown",
   "metadata": {},
   "source": [
    "**Содержание**\n",
    "1. [Описание проекта](#desc)\n",
    "2. [Обзор данных](#review)\n",
    "3. [Предобработка данных](#pred)\n",
    "4. [Анализ данных](#analiz)\n",
    "5. [Итоговый вывод](#it)"
   ]
  },
  {
   "cell_type": "markdown",
   "metadata": {},
   "source": [
    "<a id=\"desc\"></a> \n",
    "## Описание проекта"
   ]
  },
  {
   "cell_type": "markdown",
   "metadata": {},
   "source": [
    "Заказчик — кредитный отдел банка. Нужно разобраться, влияет ли семейное положение и количество детей клиента на факт погашения кредита в срок. Входные данные от банка — статистика о платёжеспособности клиентов.\n",
    "\n",
    "Результаты исследования будут учтены при построении модели **кредитного скоринга** — специальной системы, которая оценивает способность потенциального заёмщика вернуть кредит банку.\n",
    "\n",
    "**Цель исследования** — ответить на 4 вопроса:\n",
    "\n",
    "1. Есть ли зависимость между наличием детей и возвратом кредита в срок?\n",
    "2. Есть ли зависимость между семейным положением и возвратом кредита в срок?\n",
    "3. Есть ли зависимость между уровнем дохода и возвратом кредита в срок?\n",
    "4. Как разные цели кредита влияют на его возврат в срок?\n",
    "\n",
    "**Ход исследования**\n",
    "\n",
    "Исследование пройдёт в три этапа:\n",
    "\n",
    "1. Обзор данных.\n",
    "2. Предобработка данных.\n",
    "3. Исследование."
   ]
  },
  {
   "cell_type": "markdown",
   "metadata": {},
   "source": [
    "<a id=\"review\"></a> \n",
    "## Обзор данных"
   ]
  },
  {
   "cell_type": "code",
   "execution_count": 1,
   "metadata": {
    "scrolled": true
   },
   "outputs": [
    {
     "data": {
      "text/html": [
       "<div>\n",
       "<style scoped>\n",
       "    .dataframe tbody tr th:only-of-type {\n",
       "        vertical-align: middle;\n",
       "    }\n",
       "\n",
       "    .dataframe tbody tr th {\n",
       "        vertical-align: top;\n",
       "    }\n",
       "\n",
       "    .dataframe thead th {\n",
       "        text-align: right;\n",
       "    }\n",
       "</style>\n",
       "<table border=\"1\" class=\"dataframe\">\n",
       "  <thead>\n",
       "    <tr style=\"text-align: right;\">\n",
       "      <th></th>\n",
       "      <th>children</th>\n",
       "      <th>days_employed</th>\n",
       "      <th>dob_years</th>\n",
       "      <th>education</th>\n",
       "      <th>education_id</th>\n",
       "      <th>family_status</th>\n",
       "      <th>family_status_id</th>\n",
       "      <th>gender</th>\n",
       "      <th>income_type</th>\n",
       "      <th>debt</th>\n",
       "      <th>total_income</th>\n",
       "      <th>purpose</th>\n",
       "    </tr>\n",
       "  </thead>\n",
       "  <tbody>\n",
       "    <tr>\n",
       "      <th>0</th>\n",
       "      <td>1</td>\n",
       "      <td>-8437.673028</td>\n",
       "      <td>42</td>\n",
       "      <td>высшее</td>\n",
       "      <td>0</td>\n",
       "      <td>женат / замужем</td>\n",
       "      <td>0</td>\n",
       "      <td>F</td>\n",
       "      <td>сотрудник</td>\n",
       "      <td>0</td>\n",
       "      <td>253875.639453</td>\n",
       "      <td>покупка жилья</td>\n",
       "    </tr>\n",
       "    <tr>\n",
       "      <th>1</th>\n",
       "      <td>1</td>\n",
       "      <td>-4024.803754</td>\n",
       "      <td>36</td>\n",
       "      <td>среднее</td>\n",
       "      <td>1</td>\n",
       "      <td>женат / замужем</td>\n",
       "      <td>0</td>\n",
       "      <td>F</td>\n",
       "      <td>сотрудник</td>\n",
       "      <td>0</td>\n",
       "      <td>112080.014102</td>\n",
       "      <td>приобретение автомобиля</td>\n",
       "    </tr>\n",
       "    <tr>\n",
       "      <th>2</th>\n",
       "      <td>0</td>\n",
       "      <td>-5623.422610</td>\n",
       "      <td>33</td>\n",
       "      <td>Среднее</td>\n",
       "      <td>1</td>\n",
       "      <td>женат / замужем</td>\n",
       "      <td>0</td>\n",
       "      <td>M</td>\n",
       "      <td>сотрудник</td>\n",
       "      <td>0</td>\n",
       "      <td>145885.952297</td>\n",
       "      <td>покупка жилья</td>\n",
       "    </tr>\n",
       "    <tr>\n",
       "      <th>3</th>\n",
       "      <td>3</td>\n",
       "      <td>-4124.747207</td>\n",
       "      <td>32</td>\n",
       "      <td>среднее</td>\n",
       "      <td>1</td>\n",
       "      <td>женат / замужем</td>\n",
       "      <td>0</td>\n",
       "      <td>M</td>\n",
       "      <td>сотрудник</td>\n",
       "      <td>0</td>\n",
       "      <td>267628.550329</td>\n",
       "      <td>дополнительное образование</td>\n",
       "    </tr>\n",
       "    <tr>\n",
       "      <th>4</th>\n",
       "      <td>0</td>\n",
       "      <td>340266.072047</td>\n",
       "      <td>53</td>\n",
       "      <td>среднее</td>\n",
       "      <td>1</td>\n",
       "      <td>гражданский брак</td>\n",
       "      <td>1</td>\n",
       "      <td>F</td>\n",
       "      <td>пенсионер</td>\n",
       "      <td>0</td>\n",
       "      <td>158616.077870</td>\n",
       "      <td>сыграть свадьбу</td>\n",
       "    </tr>\n",
       "    <tr>\n",
       "      <th>5</th>\n",
       "      <td>0</td>\n",
       "      <td>-926.185831</td>\n",
       "      <td>27</td>\n",
       "      <td>высшее</td>\n",
       "      <td>0</td>\n",
       "      <td>гражданский брак</td>\n",
       "      <td>1</td>\n",
       "      <td>M</td>\n",
       "      <td>компаньон</td>\n",
       "      <td>0</td>\n",
       "      <td>255763.565419</td>\n",
       "      <td>покупка жилья</td>\n",
       "    </tr>\n",
       "    <tr>\n",
       "      <th>6</th>\n",
       "      <td>0</td>\n",
       "      <td>-2879.202052</td>\n",
       "      <td>43</td>\n",
       "      <td>высшее</td>\n",
       "      <td>0</td>\n",
       "      <td>женат / замужем</td>\n",
       "      <td>0</td>\n",
       "      <td>F</td>\n",
       "      <td>компаньон</td>\n",
       "      <td>0</td>\n",
       "      <td>240525.971920</td>\n",
       "      <td>операции с жильем</td>\n",
       "    </tr>\n",
       "    <tr>\n",
       "      <th>7</th>\n",
       "      <td>0</td>\n",
       "      <td>-152.779569</td>\n",
       "      <td>50</td>\n",
       "      <td>СРЕДНЕЕ</td>\n",
       "      <td>1</td>\n",
       "      <td>женат / замужем</td>\n",
       "      <td>0</td>\n",
       "      <td>M</td>\n",
       "      <td>сотрудник</td>\n",
       "      <td>0</td>\n",
       "      <td>135823.934197</td>\n",
       "      <td>образование</td>\n",
       "    </tr>\n",
       "    <tr>\n",
       "      <th>8</th>\n",
       "      <td>2</td>\n",
       "      <td>-6929.865299</td>\n",
       "      <td>35</td>\n",
       "      <td>ВЫСШЕЕ</td>\n",
       "      <td>0</td>\n",
       "      <td>гражданский брак</td>\n",
       "      <td>1</td>\n",
       "      <td>F</td>\n",
       "      <td>сотрудник</td>\n",
       "      <td>0</td>\n",
       "      <td>95856.832424</td>\n",
       "      <td>на проведение свадьбы</td>\n",
       "    </tr>\n",
       "    <tr>\n",
       "      <th>9</th>\n",
       "      <td>0</td>\n",
       "      <td>-2188.756445</td>\n",
       "      <td>41</td>\n",
       "      <td>среднее</td>\n",
       "      <td>1</td>\n",
       "      <td>женат / замужем</td>\n",
       "      <td>0</td>\n",
       "      <td>M</td>\n",
       "      <td>сотрудник</td>\n",
       "      <td>0</td>\n",
       "      <td>144425.938277</td>\n",
       "      <td>покупка жилья для семьи</td>\n",
       "    </tr>\n",
       "    <tr>\n",
       "      <th>10</th>\n",
       "      <td>2</td>\n",
       "      <td>-4171.483647</td>\n",
       "      <td>36</td>\n",
       "      <td>высшее</td>\n",
       "      <td>0</td>\n",
       "      <td>женат / замужем</td>\n",
       "      <td>0</td>\n",
       "      <td>M</td>\n",
       "      <td>компаньон</td>\n",
       "      <td>0</td>\n",
       "      <td>113943.491460</td>\n",
       "      <td>покупка недвижимости</td>\n",
       "    </tr>\n",
       "    <tr>\n",
       "      <th>11</th>\n",
       "      <td>0</td>\n",
       "      <td>-792.701887</td>\n",
       "      <td>40</td>\n",
       "      <td>среднее</td>\n",
       "      <td>1</td>\n",
       "      <td>женат / замужем</td>\n",
       "      <td>0</td>\n",
       "      <td>F</td>\n",
       "      <td>сотрудник</td>\n",
       "      <td>0</td>\n",
       "      <td>77069.234271</td>\n",
       "      <td>покупка коммерческой недвижимости</td>\n",
       "    </tr>\n",
       "    <tr>\n",
       "      <th>12</th>\n",
       "      <td>0</td>\n",
       "      <td>NaN</td>\n",
       "      <td>65</td>\n",
       "      <td>среднее</td>\n",
       "      <td>1</td>\n",
       "      <td>гражданский брак</td>\n",
       "      <td>1</td>\n",
       "      <td>M</td>\n",
       "      <td>пенсионер</td>\n",
       "      <td>0</td>\n",
       "      <td>NaN</td>\n",
       "      <td>сыграть свадьбу</td>\n",
       "    </tr>\n",
       "    <tr>\n",
       "      <th>13</th>\n",
       "      <td>0</td>\n",
       "      <td>-1846.641941</td>\n",
       "      <td>54</td>\n",
       "      <td>неоконченное высшее</td>\n",
       "      <td>2</td>\n",
       "      <td>женат / замужем</td>\n",
       "      <td>0</td>\n",
       "      <td>F</td>\n",
       "      <td>сотрудник</td>\n",
       "      <td>0</td>\n",
       "      <td>130458.228857</td>\n",
       "      <td>приобретение автомобиля</td>\n",
       "    </tr>\n",
       "    <tr>\n",
       "      <th>14</th>\n",
       "      <td>0</td>\n",
       "      <td>-1844.956182</td>\n",
       "      <td>56</td>\n",
       "      <td>высшее</td>\n",
       "      <td>0</td>\n",
       "      <td>гражданский брак</td>\n",
       "      <td>1</td>\n",
       "      <td>F</td>\n",
       "      <td>компаньон</td>\n",
       "      <td>1</td>\n",
       "      <td>165127.911772</td>\n",
       "      <td>покупка жилой недвижимости</td>\n",
       "    </tr>\n",
       "  </tbody>\n",
       "</table>\n",
       "</div>"
      ],
      "text/plain": [
       "    children  days_employed  dob_years            education  education_id  \\\n",
       "0          1   -8437.673028         42               высшее             0   \n",
       "1          1   -4024.803754         36              среднее             1   \n",
       "2          0   -5623.422610         33              Среднее             1   \n",
       "3          3   -4124.747207         32              среднее             1   \n",
       "4          0  340266.072047         53              среднее             1   \n",
       "5          0    -926.185831         27               высшее             0   \n",
       "6          0   -2879.202052         43               высшее             0   \n",
       "7          0    -152.779569         50              СРЕДНЕЕ             1   \n",
       "8          2   -6929.865299         35               ВЫСШЕЕ             0   \n",
       "9          0   -2188.756445         41              среднее             1   \n",
       "10         2   -4171.483647         36               высшее             0   \n",
       "11         0    -792.701887         40              среднее             1   \n",
       "12         0            NaN         65              среднее             1   \n",
       "13         0   -1846.641941         54  неоконченное высшее             2   \n",
       "14         0   -1844.956182         56               высшее             0   \n",
       "\n",
       "       family_status  family_status_id gender income_type  debt  \\\n",
       "0    женат / замужем                 0      F   сотрудник     0   \n",
       "1    женат / замужем                 0      F   сотрудник     0   \n",
       "2    женат / замужем                 0      M   сотрудник     0   \n",
       "3    женат / замужем                 0      M   сотрудник     0   \n",
       "4   гражданский брак                 1      F   пенсионер     0   \n",
       "5   гражданский брак                 1      M   компаньон     0   \n",
       "6    женат / замужем                 0      F   компаньон     0   \n",
       "7    женат / замужем                 0      M   сотрудник     0   \n",
       "8   гражданский брак                 1      F   сотрудник     0   \n",
       "9    женат / замужем                 0      M   сотрудник     0   \n",
       "10   женат / замужем                 0      M   компаньон     0   \n",
       "11   женат / замужем                 0      F   сотрудник     0   \n",
       "12  гражданский брак                 1      M   пенсионер     0   \n",
       "13   женат / замужем                 0      F   сотрудник     0   \n",
       "14  гражданский брак                 1      F   компаньон     1   \n",
       "\n",
       "     total_income                            purpose  \n",
       "0   253875.639453                      покупка жилья  \n",
       "1   112080.014102            приобретение автомобиля  \n",
       "2   145885.952297                      покупка жилья  \n",
       "3   267628.550329         дополнительное образование  \n",
       "4   158616.077870                    сыграть свадьбу  \n",
       "5   255763.565419                      покупка жилья  \n",
       "6   240525.971920                  операции с жильем  \n",
       "7   135823.934197                        образование  \n",
       "8    95856.832424              на проведение свадьбы  \n",
       "9   144425.938277            покупка жилья для семьи  \n",
       "10  113943.491460               покупка недвижимости  \n",
       "11   77069.234271  покупка коммерческой недвижимости  \n",
       "12            NaN                    сыграть свадьбу  \n",
       "13  130458.228857            приобретение автомобиля  \n",
       "14  165127.911772         покупка жилой недвижимости  "
      ]
     },
     "execution_count": 1,
     "metadata": {},
     "output_type": "execute_result"
    }
   ],
   "source": [
    "import pandas as pd\n",
    "df = pd.read_csv('/datasets/data.csv')\n",
    "df.head(15)"
   ]
  },
  {
   "cell_type": "code",
   "execution_count": 2,
   "metadata": {},
   "outputs": [
    {
     "name": "stdout",
     "output_type": "stream",
     "text": [
      "<class 'pandas.core.frame.DataFrame'>\n",
      "RangeIndex: 21525 entries, 0 to 21524\n",
      "Data columns (total 12 columns):\n",
      " #   Column            Non-Null Count  Dtype  \n",
      "---  ------            --------------  -----  \n",
      " 0   children          21525 non-null  int64  \n",
      " 1   days_employed     19351 non-null  float64\n",
      " 2   dob_years         21525 non-null  int64  \n",
      " 3   education         21525 non-null  object \n",
      " 4   education_id      21525 non-null  int64  \n",
      " 5   family_status     21525 non-null  object \n",
      " 6   family_status_id  21525 non-null  int64  \n",
      " 7   gender            21525 non-null  object \n",
      " 8   income_type       21525 non-null  object \n",
      " 9   debt              21525 non-null  int64  \n",
      " 10  total_income      19351 non-null  float64\n",
      " 11  purpose           21525 non-null  object \n",
      "dtypes: float64(2), int64(5), object(5)\n",
      "memory usage: 2.0+ MB\n"
     ]
    }
   ],
   "source": [
    "df.info()"
   ]
  },
  {
   "cell_type": "markdown",
   "metadata": {},
   "source": [
    "**Вывод**\n",
    "\n",
    "Итак, в таблице двенадцать столбцов. Тип данных в столбцах:\n",
    "\n",
    "`days_employed`, `total_income` - float64;\n",
    "`children`,`dob_years`,`education_id`,`family_status_id`,`debt` - int64\n",
    "`education`,`family_status`,`gender`,`income_type`,`purpose` - object.\n",
    "\n",
    "Согласно документации к данным:\n",
    "\n",
    "`children` — количество детей в семье;\n",
    "\n",
    "`days_employed` — общий трудовой стаж в днях;\n",
    "\n",
    "`dob_years` — возраст клиента в годах;\n",
    "\n",
    "`education` — уровень образования клиента;\n",
    "\n",
    "`education_id` — идентификатор уровня образования;\n",
    "\n",
    "`family_status` — семейное положение;\n",
    "\n",
    "`family_status_id` — идентификатор семейного положения;\n",
    "\n",
    "`gender` — пол клиента;\n",
    "\n",
    "`income_type` — тип занятости;\n",
    "`debt` — имел ли задолженность по возврату кредитов: со значением 1 - имел долг, 0 - не имел;\n",
    "\n",
    "`total_income` — ежемесячный доход;\n",
    "\n",
    "`purpose` — цель получения кредита.\n",
    "\n",
    "В каждой строке таблицы - данные о клиенте банка. Названия колонок написаны в правильном стиле. Но количество значений в столбцах различается. Значит, в данных есть пропущенные значения. Также в колонке **education** я заметила дубликаты, а в колонке **days_employed** есть отрицательные значения. И еще в колонках **days_employed** и **total_income** много цифр после запятой. Прежде чем начать проверять гипотезы, нужно глубже исследовать данные и устранить проблемы в них."
   ]
  },
  {
   "cell_type": "markdown",
   "metadata": {},
   "source": [
    "<a id=\"pred\"></a> \n",
    "## Предобработка данных"
   ]
  },
  {
   "cell_type": "markdown",
   "metadata": {},
   "source": [
    "### Обработка пропусков"
   ]
  },
  {
   "cell_type": "code",
   "execution_count": 3,
   "metadata": {
    "scrolled": true
   },
   "outputs": [
    {
     "data": {
      "text/plain": [
       "children               0\n",
       "days_employed       2174\n",
       "dob_years              0\n",
       "education              0\n",
       "education_id           0\n",
       "family_status          0\n",
       "family_status_id       0\n",
       "gender                 0\n",
       "income_type            0\n",
       "debt                   0\n",
       "total_income        2174\n",
       "purpose                0\n",
       "dtype: int64"
      ]
     },
     "execution_count": 3,
     "metadata": {},
     "output_type": "execute_result"
    }
   ],
   "source": [
    "df.isna().sum()\n"
   ]
  },
  {
   "cell_type": "markdown",
   "metadata": {},
   "source": [
    "Устраним пропуски в столбце `total_income`. Для этого создадим сначала небольшой датасет, где будет подсчитана медианная зарплата для каждой группы `income_type`."
   ]
  },
  {
   "cell_type": "code",
   "execution_count": 4,
   "metadata": {
    "scrolled": true
   },
   "outputs": [
    {
     "data": {
      "text/html": [
       "<div>\n",
       "<style scoped>\n",
       "    .dataframe tbody tr th:only-of-type {\n",
       "        vertical-align: middle;\n",
       "    }\n",
       "\n",
       "    .dataframe tbody tr th {\n",
       "        vertical-align: top;\n",
       "    }\n",
       "\n",
       "    .dataframe thead th {\n",
       "        text-align: right;\n",
       "    }\n",
       "</style>\n",
       "<table border=\"1\" class=\"dataframe\">\n",
       "  <thead>\n",
       "    <tr style=\"text-align: right;\">\n",
       "      <th></th>\n",
       "      <th>income_type</th>\n",
       "      <th>total_income_median</th>\n",
       "    </tr>\n",
       "  </thead>\n",
       "  <tbody>\n",
       "    <tr>\n",
       "      <th>0</th>\n",
       "      <td>безработный</td>\n",
       "      <td>131339.751676</td>\n",
       "    </tr>\n",
       "    <tr>\n",
       "      <th>1</th>\n",
       "      <td>в декрете</td>\n",
       "      <td>53829.130729</td>\n",
       "    </tr>\n",
       "    <tr>\n",
       "      <th>2</th>\n",
       "      <td>госслужащий</td>\n",
       "      <td>150447.935283</td>\n",
       "    </tr>\n",
       "    <tr>\n",
       "      <th>3</th>\n",
       "      <td>компаньон</td>\n",
       "      <td>172357.950966</td>\n",
       "    </tr>\n",
       "    <tr>\n",
       "      <th>4</th>\n",
       "      <td>пенсионер</td>\n",
       "      <td>118514.486412</td>\n",
       "    </tr>\n",
       "    <tr>\n",
       "      <th>5</th>\n",
       "      <td>предприниматель</td>\n",
       "      <td>499163.144947</td>\n",
       "    </tr>\n",
       "    <tr>\n",
       "      <th>6</th>\n",
       "      <td>сотрудник</td>\n",
       "      <td>142594.396847</td>\n",
       "    </tr>\n",
       "    <tr>\n",
       "      <th>7</th>\n",
       "      <td>студент</td>\n",
       "      <td>98201.625314</td>\n",
       "    </tr>\n",
       "  </tbody>\n",
       "</table>\n",
       "</div>"
      ],
      "text/plain": [
       "       income_type  total_income_median\n",
       "0      безработный        131339.751676\n",
       "1        в декрете         53829.130729\n",
       "2      госслужащий        150447.935283\n",
       "3        компаньон        172357.950966\n",
       "4        пенсионер        118514.486412\n",
       "5  предприниматель        499163.144947\n",
       "6        сотрудник        142594.396847\n",
       "7          студент         98201.625314"
      ]
     },
     "execution_count": 4,
     "metadata": {},
     "output_type": "execute_result"
    }
   ],
   "source": [
    "median_income_group = df.groupby('income_type')['total_income'].median()\n",
    "total_income_median = pd.DataFrame({'total_income_median':median_income_group}).reset_index()\n",
    "total_income_median "
   ]
  },
  {
   "cell_type": "markdown",
   "metadata": {},
   "source": [
    "Добавим к таблице столбец с медианной зарплатой, соответствующей определенному типу занятости."
   ]
  },
  {
   "cell_type": "code",
   "execution_count": 5,
   "metadata": {
    "scrolled": true
   },
   "outputs": [
    {
     "data": {
      "text/html": [
       "<div>\n",
       "<style scoped>\n",
       "    .dataframe tbody tr th:only-of-type {\n",
       "        vertical-align: middle;\n",
       "    }\n",
       "\n",
       "    .dataframe tbody tr th {\n",
       "        vertical-align: top;\n",
       "    }\n",
       "\n",
       "    .dataframe thead th {\n",
       "        text-align: right;\n",
       "    }\n",
       "</style>\n",
       "<table border=\"1\" class=\"dataframe\">\n",
       "  <thead>\n",
       "    <tr style=\"text-align: right;\">\n",
       "      <th></th>\n",
       "      <th>children</th>\n",
       "      <th>days_employed</th>\n",
       "      <th>dob_years</th>\n",
       "      <th>education</th>\n",
       "      <th>education_id</th>\n",
       "      <th>family_status</th>\n",
       "      <th>family_status_id</th>\n",
       "      <th>gender</th>\n",
       "      <th>income_type</th>\n",
       "      <th>debt</th>\n",
       "      <th>total_income</th>\n",
       "      <th>purpose</th>\n",
       "      <th>total_income_median</th>\n",
       "    </tr>\n",
       "  </thead>\n",
       "  <tbody>\n",
       "    <tr>\n",
       "      <th>0</th>\n",
       "      <td>1</td>\n",
       "      <td>-8437.673028</td>\n",
       "      <td>42</td>\n",
       "      <td>высшее</td>\n",
       "      <td>0</td>\n",
       "      <td>женат / замужем</td>\n",
       "      <td>0</td>\n",
       "      <td>F</td>\n",
       "      <td>сотрудник</td>\n",
       "      <td>0</td>\n",
       "      <td>253875.639453</td>\n",
       "      <td>покупка жилья</td>\n",
       "      <td>142594.396847</td>\n",
       "    </tr>\n",
       "    <tr>\n",
       "      <th>1</th>\n",
       "      <td>1</td>\n",
       "      <td>-4024.803754</td>\n",
       "      <td>36</td>\n",
       "      <td>среднее</td>\n",
       "      <td>1</td>\n",
       "      <td>женат / замужем</td>\n",
       "      <td>0</td>\n",
       "      <td>F</td>\n",
       "      <td>сотрудник</td>\n",
       "      <td>0</td>\n",
       "      <td>112080.014102</td>\n",
       "      <td>приобретение автомобиля</td>\n",
       "      <td>142594.396847</td>\n",
       "    </tr>\n",
       "    <tr>\n",
       "      <th>2</th>\n",
       "      <td>0</td>\n",
       "      <td>-5623.422610</td>\n",
       "      <td>33</td>\n",
       "      <td>Среднее</td>\n",
       "      <td>1</td>\n",
       "      <td>женат / замужем</td>\n",
       "      <td>0</td>\n",
       "      <td>M</td>\n",
       "      <td>сотрудник</td>\n",
       "      <td>0</td>\n",
       "      <td>145885.952297</td>\n",
       "      <td>покупка жилья</td>\n",
       "      <td>142594.396847</td>\n",
       "    </tr>\n",
       "    <tr>\n",
       "      <th>3</th>\n",
       "      <td>3</td>\n",
       "      <td>-4124.747207</td>\n",
       "      <td>32</td>\n",
       "      <td>среднее</td>\n",
       "      <td>1</td>\n",
       "      <td>женат / замужем</td>\n",
       "      <td>0</td>\n",
       "      <td>M</td>\n",
       "      <td>сотрудник</td>\n",
       "      <td>0</td>\n",
       "      <td>267628.550329</td>\n",
       "      <td>дополнительное образование</td>\n",
       "      <td>142594.396847</td>\n",
       "    </tr>\n",
       "    <tr>\n",
       "      <th>4</th>\n",
       "      <td>0</td>\n",
       "      <td>340266.072047</td>\n",
       "      <td>53</td>\n",
       "      <td>среднее</td>\n",
       "      <td>1</td>\n",
       "      <td>гражданский брак</td>\n",
       "      <td>1</td>\n",
       "      <td>F</td>\n",
       "      <td>пенсионер</td>\n",
       "      <td>0</td>\n",
       "      <td>158616.077870</td>\n",
       "      <td>сыграть свадьбу</td>\n",
       "      <td>118514.486412</td>\n",
       "    </tr>\n",
       "  </tbody>\n",
       "</table>\n",
       "</div>"
      ],
      "text/plain": [
       "   children  days_employed  dob_years education  education_id  \\\n",
       "0         1   -8437.673028         42    высшее             0   \n",
       "1         1   -4024.803754         36   среднее             1   \n",
       "2         0   -5623.422610         33   Среднее             1   \n",
       "3         3   -4124.747207         32   среднее             1   \n",
       "4         0  340266.072047         53   среднее             1   \n",
       "\n",
       "      family_status  family_status_id gender income_type  debt   total_income  \\\n",
       "0   женат / замужем                 0      F   сотрудник     0  253875.639453   \n",
       "1   женат / замужем                 0      F   сотрудник     0  112080.014102   \n",
       "2   женат / замужем                 0      M   сотрудник     0  145885.952297   \n",
       "3   женат / замужем                 0      M   сотрудник     0  267628.550329   \n",
       "4  гражданский брак                 1      F   пенсионер     0  158616.077870   \n",
       "\n",
       "                      purpose  total_income_median  \n",
       "0               покупка жилья        142594.396847  \n",
       "1     приобретение автомобиля        142594.396847  \n",
       "2               покупка жилья        142594.396847  \n",
       "3  дополнительное образование        142594.396847  \n",
       "4             сыграть свадьбу        118514.486412  "
      ]
     },
     "execution_count": 5,
     "metadata": {},
     "output_type": "execute_result"
    }
   ],
   "source": [
    "df = df.merge(total_income_median, on='income_type', how='left')\n",
    "df.head()"
   ]
  },
  {
   "cell_type": "markdown",
   "metadata": {},
   "source": [
    "Заменим пропущенные значения в столбце `total_income` медианной зарплатой."
   ]
  },
  {
   "cell_type": "code",
   "execution_count": 6,
   "metadata": {
    "scrolled": true
   },
   "outputs": [
    {
     "data": {
      "text/html": [
       "<div>\n",
       "<style scoped>\n",
       "    .dataframe tbody tr th:only-of-type {\n",
       "        vertical-align: middle;\n",
       "    }\n",
       "\n",
       "    .dataframe tbody tr th {\n",
       "        vertical-align: top;\n",
       "    }\n",
       "\n",
       "    .dataframe thead th {\n",
       "        text-align: right;\n",
       "    }\n",
       "</style>\n",
       "<table border=\"1\" class=\"dataframe\">\n",
       "  <thead>\n",
       "    <tr style=\"text-align: right;\">\n",
       "      <th></th>\n",
       "      <th>children</th>\n",
       "      <th>days_employed</th>\n",
       "      <th>dob_years</th>\n",
       "      <th>education</th>\n",
       "      <th>education_id</th>\n",
       "      <th>family_status</th>\n",
       "      <th>family_status_id</th>\n",
       "      <th>gender</th>\n",
       "      <th>income_type</th>\n",
       "      <th>debt</th>\n",
       "      <th>total_income</th>\n",
       "      <th>purpose</th>\n",
       "      <th>total_income_median</th>\n",
       "    </tr>\n",
       "  </thead>\n",
       "  <tbody>\n",
       "    <tr>\n",
       "      <th>0</th>\n",
       "      <td>1</td>\n",
       "      <td>-8437.673028</td>\n",
       "      <td>42</td>\n",
       "      <td>высшее</td>\n",
       "      <td>0</td>\n",
       "      <td>женат / замужем</td>\n",
       "      <td>0</td>\n",
       "      <td>F</td>\n",
       "      <td>сотрудник</td>\n",
       "      <td>0</td>\n",
       "      <td>253875.639453</td>\n",
       "      <td>покупка жилья</td>\n",
       "      <td>142594.396847</td>\n",
       "    </tr>\n",
       "    <tr>\n",
       "      <th>1</th>\n",
       "      <td>1</td>\n",
       "      <td>-4024.803754</td>\n",
       "      <td>36</td>\n",
       "      <td>среднее</td>\n",
       "      <td>1</td>\n",
       "      <td>женат / замужем</td>\n",
       "      <td>0</td>\n",
       "      <td>F</td>\n",
       "      <td>сотрудник</td>\n",
       "      <td>0</td>\n",
       "      <td>112080.014102</td>\n",
       "      <td>приобретение автомобиля</td>\n",
       "      <td>142594.396847</td>\n",
       "    </tr>\n",
       "    <tr>\n",
       "      <th>2</th>\n",
       "      <td>0</td>\n",
       "      <td>-5623.422610</td>\n",
       "      <td>33</td>\n",
       "      <td>Среднее</td>\n",
       "      <td>1</td>\n",
       "      <td>женат / замужем</td>\n",
       "      <td>0</td>\n",
       "      <td>M</td>\n",
       "      <td>сотрудник</td>\n",
       "      <td>0</td>\n",
       "      <td>145885.952297</td>\n",
       "      <td>покупка жилья</td>\n",
       "      <td>142594.396847</td>\n",
       "    </tr>\n",
       "    <tr>\n",
       "      <th>3</th>\n",
       "      <td>3</td>\n",
       "      <td>-4124.747207</td>\n",
       "      <td>32</td>\n",
       "      <td>среднее</td>\n",
       "      <td>1</td>\n",
       "      <td>женат / замужем</td>\n",
       "      <td>0</td>\n",
       "      <td>M</td>\n",
       "      <td>сотрудник</td>\n",
       "      <td>0</td>\n",
       "      <td>267628.550329</td>\n",
       "      <td>дополнительное образование</td>\n",
       "      <td>142594.396847</td>\n",
       "    </tr>\n",
       "    <tr>\n",
       "      <th>4</th>\n",
       "      <td>0</td>\n",
       "      <td>340266.072047</td>\n",
       "      <td>53</td>\n",
       "      <td>среднее</td>\n",
       "      <td>1</td>\n",
       "      <td>гражданский брак</td>\n",
       "      <td>1</td>\n",
       "      <td>F</td>\n",
       "      <td>пенсионер</td>\n",
       "      <td>0</td>\n",
       "      <td>158616.077870</td>\n",
       "      <td>сыграть свадьбу</td>\n",
       "      <td>118514.486412</td>\n",
       "    </tr>\n",
       "  </tbody>\n",
       "</table>\n",
       "</div>"
      ],
      "text/plain": [
       "   children  days_employed  dob_years education  education_id  \\\n",
       "0         1   -8437.673028         42    высшее             0   \n",
       "1         1   -4024.803754         36   среднее             1   \n",
       "2         0   -5623.422610         33   Среднее             1   \n",
       "3         3   -4124.747207         32   среднее             1   \n",
       "4         0  340266.072047         53   среднее             1   \n",
       "\n",
       "      family_status  family_status_id gender income_type  debt   total_income  \\\n",
       "0   женат / замужем                 0      F   сотрудник     0  253875.639453   \n",
       "1   женат / замужем                 0      F   сотрудник     0  112080.014102   \n",
       "2   женат / замужем                 0      M   сотрудник     0  145885.952297   \n",
       "3   женат / замужем                 0      M   сотрудник     0  267628.550329   \n",
       "4  гражданский брак                 1      F   пенсионер     0  158616.077870   \n",
       "\n",
       "                      purpose  total_income_median  \n",
       "0               покупка жилья        142594.396847  \n",
       "1     приобретение автомобиля        142594.396847  \n",
       "2               покупка жилья        142594.396847  \n",
       "3  дополнительное образование        142594.396847  \n",
       "4             сыграть свадьбу        118514.486412  "
      ]
     },
     "execution_count": 6,
     "metadata": {},
     "output_type": "execute_result"
    }
   ],
   "source": [
    "df['total_income'] = df['total_income'].fillna(value=df['total_income_median'])\n",
    "df.head()"
   ]
  },
  {
   "cell_type": "markdown",
   "metadata": {},
   "source": [
    "Пропуски в столбце `days_employed` не так важны для нашей работы, поэтому их можно просто заменить явными обозначениями."
   ]
  },
  {
   "cell_type": "code",
   "execution_count": 7,
   "metadata": {},
   "outputs": [
    {
     "data": {
      "text/plain": [
       "children               0\n",
       "days_employed          0\n",
       "dob_years              0\n",
       "education              0\n",
       "education_id           0\n",
       "family_status          0\n",
       "family_status_id       0\n",
       "gender                 0\n",
       "income_type            0\n",
       "debt                   0\n",
       "total_income           0\n",
       "purpose                0\n",
       "total_income_median    0\n",
       "dtype: int64"
      ]
     },
     "execution_count": 7,
     "metadata": {},
     "output_type": "execute_result"
    }
   ],
   "source": [
    "df['days_employed'] = df['days_employed'].fillna(value=0)\n",
    "df.isna().sum()"
   ]
  },
  {
   "cell_type": "markdown",
   "metadata": {},
   "source": [
    "**Вывод**\n",
    "\n",
    "Пропуски есть в колонках `days_employed` и `total_income`. Причем, в столбце `days_employed` есть также отрицательные значения (скорее всего, это или опечатки, или какой-то сбой программы при переносе данных). Если учесть то, что количество пропусков в обеих колонках одинаково, я предполагаю, что эти значения связаны друг с другом расчетом (одно получается из другого, например). На практике было бы правильно установить причину отрицательных значений и пропусков и восстановить данные. Я бы обратилась к \"хозяину\" данных и уточнила эти вопросы. Но поскольку такой возможности нет, то:\n",
    "\n",
    "1) Данные в колонке `total_income` важны для исследования, поэтому просто удалить эти строки нельзя. Пропуски можно заменить медианным значением. Можно было бы заменить и средним арифметическим, но поскольку эти данные обозначают доходы клиента, то здесь могут быть выбросы, соответственно, среднее значение может быть искаженным.\n",
    "\n",
    "2) Данные в колонке `days_employed` не влияют на исследование, поэтому их можно просто заменить явным обозначением (например, '0').\n",
    "\n",
    "3) Поскольку данные в столбце `days_employed` не нужны для дальнейших расчетов, я решила ничего не делать с отрицательными значениями."
   ]
  },
  {
   "cell_type": "markdown",
   "metadata": {},
   "source": [
    "### Замена типа данных"
   ]
  },
  {
   "cell_type": "code",
   "execution_count": 8,
   "metadata": {},
   "outputs": [
    {
     "data": {
      "text/html": [
       "<div>\n",
       "<style scoped>\n",
       "    .dataframe tbody tr th:only-of-type {\n",
       "        vertical-align: middle;\n",
       "    }\n",
       "\n",
       "    .dataframe tbody tr th {\n",
       "        vertical-align: top;\n",
       "    }\n",
       "\n",
       "    .dataframe thead th {\n",
       "        text-align: right;\n",
       "    }\n",
       "</style>\n",
       "<table border=\"1\" class=\"dataframe\">\n",
       "  <thead>\n",
       "    <tr style=\"text-align: right;\">\n",
       "      <th></th>\n",
       "      <th>children</th>\n",
       "      <th>days_employed</th>\n",
       "      <th>dob_years</th>\n",
       "      <th>education</th>\n",
       "      <th>education_id</th>\n",
       "      <th>family_status</th>\n",
       "      <th>family_status_id</th>\n",
       "      <th>gender</th>\n",
       "      <th>income_type</th>\n",
       "      <th>debt</th>\n",
       "      <th>total_income</th>\n",
       "      <th>purpose</th>\n",
       "      <th>total_income_median</th>\n",
       "    </tr>\n",
       "  </thead>\n",
       "  <tbody>\n",
       "    <tr>\n",
       "      <th>0</th>\n",
       "      <td>1</td>\n",
       "      <td>-8437</td>\n",
       "      <td>42</td>\n",
       "      <td>высшее</td>\n",
       "      <td>0</td>\n",
       "      <td>женат / замужем</td>\n",
       "      <td>0</td>\n",
       "      <td>F</td>\n",
       "      <td>сотрудник</td>\n",
       "      <td>0</td>\n",
       "      <td>253875</td>\n",
       "      <td>покупка жилья</td>\n",
       "      <td>142594.396847</td>\n",
       "    </tr>\n",
       "    <tr>\n",
       "      <th>1</th>\n",
       "      <td>1</td>\n",
       "      <td>-4024</td>\n",
       "      <td>36</td>\n",
       "      <td>среднее</td>\n",
       "      <td>1</td>\n",
       "      <td>женат / замужем</td>\n",
       "      <td>0</td>\n",
       "      <td>F</td>\n",
       "      <td>сотрудник</td>\n",
       "      <td>0</td>\n",
       "      <td>112080</td>\n",
       "      <td>приобретение автомобиля</td>\n",
       "      <td>142594.396847</td>\n",
       "    </tr>\n",
       "    <tr>\n",
       "      <th>2</th>\n",
       "      <td>0</td>\n",
       "      <td>-5623</td>\n",
       "      <td>33</td>\n",
       "      <td>Среднее</td>\n",
       "      <td>1</td>\n",
       "      <td>женат / замужем</td>\n",
       "      <td>0</td>\n",
       "      <td>M</td>\n",
       "      <td>сотрудник</td>\n",
       "      <td>0</td>\n",
       "      <td>145885</td>\n",
       "      <td>покупка жилья</td>\n",
       "      <td>142594.396847</td>\n",
       "    </tr>\n",
       "    <tr>\n",
       "      <th>3</th>\n",
       "      <td>3</td>\n",
       "      <td>-4124</td>\n",
       "      <td>32</td>\n",
       "      <td>среднее</td>\n",
       "      <td>1</td>\n",
       "      <td>женат / замужем</td>\n",
       "      <td>0</td>\n",
       "      <td>M</td>\n",
       "      <td>сотрудник</td>\n",
       "      <td>0</td>\n",
       "      <td>267628</td>\n",
       "      <td>дополнительное образование</td>\n",
       "      <td>142594.396847</td>\n",
       "    </tr>\n",
       "    <tr>\n",
       "      <th>4</th>\n",
       "      <td>0</td>\n",
       "      <td>340266</td>\n",
       "      <td>53</td>\n",
       "      <td>среднее</td>\n",
       "      <td>1</td>\n",
       "      <td>гражданский брак</td>\n",
       "      <td>1</td>\n",
       "      <td>F</td>\n",
       "      <td>пенсионер</td>\n",
       "      <td>0</td>\n",
       "      <td>158616</td>\n",
       "      <td>сыграть свадьбу</td>\n",
       "      <td>118514.486412</td>\n",
       "    </tr>\n",
       "  </tbody>\n",
       "</table>\n",
       "</div>"
      ],
      "text/plain": [
       "   children  days_employed  dob_years education  education_id  \\\n",
       "0         1          -8437         42    высшее             0   \n",
       "1         1          -4024         36   среднее             1   \n",
       "2         0          -5623         33   Среднее             1   \n",
       "3         3          -4124         32   среднее             1   \n",
       "4         0         340266         53   среднее             1   \n",
       "\n",
       "      family_status  family_status_id gender income_type  debt  total_income  \\\n",
       "0   женат / замужем                 0      F   сотрудник     0        253875   \n",
       "1   женат / замужем                 0      F   сотрудник     0        112080   \n",
       "2   женат / замужем                 0      M   сотрудник     0        145885   \n",
       "3   женат / замужем                 0      M   сотрудник     0        267628   \n",
       "4  гражданский брак                 1      F   пенсионер     0        158616   \n",
       "\n",
       "                      purpose  total_income_median  \n",
       "0               покупка жилья        142594.396847  \n",
       "1     приобретение автомобиля        142594.396847  \n",
       "2               покупка жилья        142594.396847  \n",
       "3  дополнительное образование        142594.396847  \n",
       "4             сыграть свадьбу        118514.486412  "
      ]
     },
     "execution_count": 8,
     "metadata": {},
     "output_type": "execute_result"
    }
   ],
   "source": [
    "df['total_income'] = df['total_income'].astype('int')\n",
    "df['days_employed'] = df['days_employed'].astype('int')\n",
    "df.head()"
   ]
  },
  {
   "cell_type": "markdown",
   "metadata": {},
   "source": [
    "**Вывод**\n",
    "\n",
    "Колонки`days_employed` (общий трудовой стаж в днях) и `total_income` (ежемесячный доход) имели тип данных float64. Для дальнейшего анализа и более читабельных и \"красивых\" результатов данные этих колонок лучше перевести в целочисленный тип."
   ]
  },
  {
   "cell_type": "markdown",
   "metadata": {},
   "source": [
    "### Обработка дубликатов"
   ]
  },
  {
   "cell_type": "markdown",
   "metadata": {},
   "source": [
    "Проверим столбцы на дубликаты и \"необычные\" значения."
   ]
  },
  {
   "cell_type": "code",
   "execution_count": 9,
   "metadata": {
    "scrolled": true
   },
   "outputs": [
    {
     "data": {
      "text/plain": [
       "array([ 1,  0,  3,  2, -1,  4, 20,  5])"
      ]
     },
     "metadata": {},
     "output_type": "display_data"
    },
    {
     "data": {
      "text/plain": [
       "array(['высшее', 'среднее', 'Среднее', 'СРЕДНЕЕ', 'ВЫСШЕЕ',\n",
       "       'неоконченное высшее', 'начальное', 'Высшее',\n",
       "       'НЕОКОНЧЕННОЕ ВЫСШЕЕ', 'Неоконченное высшее', 'НАЧАЛЬНОЕ',\n",
       "       'Начальное', 'Ученая степень', 'УЧЕНАЯ СТЕПЕНЬ', 'ученая степень'],\n",
       "      dtype=object)"
      ]
     },
     "metadata": {},
     "output_type": "display_data"
    },
    {
     "data": {
      "text/plain": [
       "array(['женат / замужем', 'гражданский брак', 'вдовец / вдова',\n",
       "       'в разводе', 'Не женат / не замужем'], dtype=object)"
      ]
     },
     "metadata": {},
     "output_type": "display_data"
    },
    {
     "data": {
      "text/plain": [
       "array(['сотрудник', 'пенсионер', 'компаньон', 'госслужащий',\n",
       "       'безработный', 'предприниматель', 'студент', 'в декрете'],\n",
       "      dtype=object)"
      ]
     },
     "metadata": {},
     "output_type": "display_data"
    },
    {
     "data": {
      "text/plain": [
       "array(['F', 'M', 'XNA'], dtype=object)"
      ]
     },
     "execution_count": 9,
     "metadata": {},
     "output_type": "execute_result"
    }
   ],
   "source": [
    "display(df['children'].unique())\n",
    "display(df['education'].unique())\n",
    "display(df['family_status'].unique())\n",
    "display(df['income_type'].unique())\n",
    "df['gender'].unique()\n"
   ]
  },
  {
   "cell_type": "code",
   "execution_count": 10,
   "metadata": {
    "scrolled": true
   },
   "outputs": [
    {
     "data": {
      "text/plain": [
       " 0     14149\n",
       " 1      4818\n",
       " 2      2055\n",
       " 3       330\n",
       " 20       76\n",
       "-1        47\n",
       " 4        41\n",
       " 5         9\n",
       "Name: children, dtype: int64"
      ]
     },
     "execution_count": 10,
     "metadata": {},
     "output_type": "execute_result"
    }
   ],
   "source": [
    "df['children'].value_counts()"
   ]
  },
  {
   "cell_type": "code",
   "execution_count": 11,
   "metadata": {
    "scrolled": false
   },
   "outputs": [
    {
     "data": {
      "text/plain": [
       "F      14236\n",
       "M       7288\n",
       "XNA        1\n",
       "Name: gender, dtype: int64"
      ]
     },
     "execution_count": 11,
     "metadata": {},
     "output_type": "execute_result"
    }
   ],
   "source": [
    "df['gender'].value_counts()"
   ]
  },
  {
   "cell_type": "code",
   "execution_count": 12,
   "metadata": {},
   "outputs": [],
   "source": [
    "df = df.drop(df[df['children'] == -1].index)\n"
   ]
  },
  {
   "cell_type": "code",
   "execution_count": 13,
   "metadata": {},
   "outputs": [],
   "source": [
    "df = df.drop(df[df['children'] == 20].index)"
   ]
  },
  {
   "cell_type": "code",
   "execution_count": 14,
   "metadata": {},
   "outputs": [],
   "source": [
    "df = df.drop(df[df['gender'] == 'XNA'].index)"
   ]
  },
  {
   "cell_type": "code",
   "execution_count": 15,
   "metadata": {},
   "outputs": [
    {
     "data": {
      "text/plain": [
       "0    14148\n",
       "1     4818\n",
       "2     2055\n",
       "3      330\n",
       "4       41\n",
       "5        9\n",
       "Name: children, dtype: int64"
      ]
     },
     "execution_count": 15,
     "metadata": {},
     "output_type": "execute_result"
    }
   ],
   "source": [
    "df['children'].value_counts()"
   ]
  },
  {
   "cell_type": "code",
   "execution_count": 16,
   "metadata": {},
   "outputs": [
    {
     "data": {
      "text/plain": [
       "F    14154\n",
       "M     7247\n",
       "Name: gender, dtype: int64"
      ]
     },
     "execution_count": 16,
     "metadata": {},
     "output_type": "execute_result"
    }
   ],
   "source": [
    "df['gender'].value_counts()"
   ]
  },
  {
   "cell_type": "code",
   "execution_count": 17,
   "metadata": {
    "scrolled": true
   },
   "outputs": [
    {
     "data": {
      "text/plain": [
       "array(['высшее', 'среднее', 'неоконченное высшее', 'начальное',\n",
       "       'ученая степень'], dtype=object)"
      ]
     },
     "execution_count": 17,
     "metadata": {},
     "output_type": "execute_result"
    }
   ],
   "source": [
    "df['education'] = df['education'].str.lower()\n",
    "df['education'].unique()"
   ]
  },
  {
   "cell_type": "markdown",
   "metadata": {},
   "source": [
    "Найдем явные дубликаты и избавимся от них."
   ]
  },
  {
   "cell_type": "code",
   "execution_count": 18,
   "metadata": {
    "scrolled": false
   },
   "outputs": [
    {
     "data": {
      "text/plain": [
       "71"
      ]
     },
     "execution_count": 18,
     "metadata": {},
     "output_type": "execute_result"
    }
   ],
   "source": [
    "df.duplicated().sum()"
   ]
  },
  {
   "cell_type": "code",
   "execution_count": 19,
   "metadata": {},
   "outputs": [],
   "source": [
    "df = df.drop_duplicates().reset_index(drop=True)"
   ]
  },
  {
   "cell_type": "code",
   "execution_count": 20,
   "metadata": {
    "scrolled": true
   },
   "outputs": [
    {
     "data": {
      "text/plain": [
       "0"
      ]
     },
     "execution_count": 20,
     "metadata": {},
     "output_type": "execute_result"
    }
   ],
   "source": [
    "df.duplicated().sum()"
   ]
  },
  {
   "cell_type": "markdown",
   "metadata": {},
   "source": [
    "**Вывод**\n",
    "    \n",
    "* В столбце `children` были строки с 2 аномальными значениями: **-1** и **20**. Доля их очень мала: 0,21% и 0,35% соответственно. Поэтому строки с ними можно удалить.\n",
    "* Также в столбце `gender` я обнаружила странное значение **'XNA'**. Во всей таблице только одна строка с таким значением, поэтому ее можно также удалить.\n",
    "* Затем, применив метод **unique()** к столбцу `education`, я выяснила, что там есть названия, которые отличаются только лишь регистром нескольких букв. Применив метод str.lower(), я избавилась и от этих дупликатов. Возможная причина появления таких дупликатов - это отсутствие определенных правил при заполнении этого столбца. \n",
    "*Потом с помощью методов **duplicated()** и **drop_duplicates()** были удалены явные дупликаты.</div>\n"
   ]
  },
  {
   "cell_type": "markdown",
   "metadata": {},
   "source": [
    "### Лемматизация"
   ]
  },
  {
   "cell_type": "code",
   "execution_count": 21,
   "metadata": {},
   "outputs": [
    {
     "data": {
      "text/plain": [
       "array(['покупка жилья', 'приобретение автомобиля',\n",
       "       'дополнительное образование', 'сыграть свадьбу',\n",
       "       'операции с жильем', 'образование', 'на проведение свадьбы',\n",
       "       'покупка жилья для семьи', 'покупка недвижимости',\n",
       "       'покупка коммерческой недвижимости', 'покупка жилой недвижимости',\n",
       "       'строительство собственной недвижимости', 'недвижимость',\n",
       "       'строительство недвижимости', 'на покупку подержанного автомобиля',\n",
       "       'на покупку своего автомобиля',\n",
       "       'операции с коммерческой недвижимостью',\n",
       "       'строительство жилой недвижимости', 'жилье',\n",
       "       'операции со своей недвижимостью', 'автомобили',\n",
       "       'заняться образованием', 'сделка с подержанным автомобилем',\n",
       "       'получение образования', 'автомобиль', 'свадьба',\n",
       "       'получение дополнительного образования', 'покупка своего жилья',\n",
       "       'операции с недвижимостью', 'получение высшего образования',\n",
       "       'свой автомобиль', 'сделка с автомобилем',\n",
       "       'профильное образование', 'высшее образование',\n",
       "       'покупка жилья для сдачи', 'на покупку автомобиля', 'ремонт жилью',\n",
       "       'заняться высшим образованием'], dtype=object)"
      ]
     },
     "execution_count": 21,
     "metadata": {},
     "output_type": "execute_result"
    }
   ],
   "source": [
    "purpose_unique = df['purpose'].unique() # создадим список с уникальными значениями целей\n",
    "purpose_unique"
   ]
  },
  {
   "cell_type": "code",
   "execution_count": 22,
   "metadata": {},
   "outputs": [
    {
     "data": {
      "text/plain": [
       "Counter({'покупка': 10,\n",
       "         '   ': 59,\n",
       "         'жилье': 7,\n",
       "         ' \\n': 38,\n",
       "         'приобретение': 1,\n",
       "         'автомобиль': 9,\n",
       "         'дополнительный': 2,\n",
       "         'образование': 9,\n",
       "         'сыграть': 1,\n",
       "         'свадьба': 3,\n",
       "         'операция': 4,\n",
       "         'с': 5,\n",
       "         'на': 4,\n",
       "         'проведение': 1,\n",
       "         'для': 2,\n",
       "         'семья': 1,\n",
       "         'недвижимость': 10,\n",
       "         'коммерческий': 2,\n",
       "         'жилой': 2,\n",
       "         'строительство': 3,\n",
       "         'собственный': 1,\n",
       "         'подержать': 1,\n",
       "         'свой': 4,\n",
       "         'со': 1,\n",
       "         'заниматься': 2,\n",
       "         'сделка': 2,\n",
       "         'подержанный': 1,\n",
       "         'получение': 3,\n",
       "         'высокий': 3,\n",
       "         'профильный': 1,\n",
       "         'сдача': 1,\n",
       "         'ремонт': 1})"
      ]
     },
     "execution_count": 22,
     "metadata": {},
     "output_type": "execute_result"
    }
   ],
   "source": [
    "#импортируем библиотеку\n",
    "from pymystem3 import Mystem\n",
    "m = Mystem()\n",
    "\n",
    "lemmas_list = [] # создадим пустой список для лемматизированных целей\n",
    "for i in purpose_unique:\n",
    "    lemmas_list.append(' '.join(m.lemmatize(i)))   \n",
    "\n",
    "\n",
    "lemmas_list = ''.join(lemmas_list) # превратим список в строку для подсчета слов\n",
    "\n",
    "from collections import Counter\n",
    "Counter(m.lemmatize(lemmas_list))"
   ]
  },
  {
   "cell_type": "markdown",
   "metadata": {},
   "source": [
    "**Вывод**\n",
    "\n",
    "Применив лемматизацию, мы можем выделить несколько ключевых целей кредита: жилье, автомобиль, свадьба, образование"
   ]
  },
  {
   "cell_type": "markdown",
   "metadata": {},
   "source": [
    "### Категоризация данных"
   ]
  },
  {
   "cell_type": "markdown",
   "metadata": {},
   "source": [
    "Создадим словари `education_dict` и `family_status_dict`."
   ]
  },
  {
   "cell_type": "code",
   "execution_count": 23,
   "metadata": {
    "scrolled": true
   },
   "outputs": [
    {
     "data": {
      "text/html": [
       "<div>\n",
       "<style scoped>\n",
       "    .dataframe tbody tr th:only-of-type {\n",
       "        vertical-align: middle;\n",
       "    }\n",
       "\n",
       "    .dataframe tbody tr th {\n",
       "        vertical-align: top;\n",
       "    }\n",
       "\n",
       "    .dataframe thead th {\n",
       "        text-align: right;\n",
       "    }\n",
       "</style>\n",
       "<table border=\"1\" class=\"dataframe\">\n",
       "  <thead>\n",
       "    <tr style=\"text-align: right;\">\n",
       "      <th></th>\n",
       "      <th>education_id</th>\n",
       "      <th>education</th>\n",
       "    </tr>\n",
       "  </thead>\n",
       "  <tbody>\n",
       "    <tr>\n",
       "      <th>0</th>\n",
       "      <td>0</td>\n",
       "      <td>высшее</td>\n",
       "    </tr>\n",
       "    <tr>\n",
       "      <th>1</th>\n",
       "      <td>1</td>\n",
       "      <td>среднее</td>\n",
       "    </tr>\n",
       "    <tr>\n",
       "      <th>2</th>\n",
       "      <td>2</td>\n",
       "      <td>неоконченное высшее</td>\n",
       "    </tr>\n",
       "    <tr>\n",
       "      <th>3</th>\n",
       "      <td>3</td>\n",
       "      <td>начальное</td>\n",
       "    </tr>\n",
       "    <tr>\n",
       "      <th>4</th>\n",
       "      <td>4</td>\n",
       "      <td>ученая степень</td>\n",
       "    </tr>\n",
       "  </tbody>\n",
       "</table>\n",
       "</div>"
      ],
      "text/plain": [
       "   education_id            education\n",
       "0             0               высшее\n",
       "1             1              среднее\n",
       "2             2  неоконченное высшее\n",
       "3             3            начальное\n",
       "4             4       ученая степень"
      ]
     },
     "execution_count": 23,
     "metadata": {},
     "output_type": "execute_result"
    }
   ],
   "source": [
    "education_dict = df[['education_id','education']]\n",
    "education_dict = education_dict.drop_duplicates().reset_index(drop=True)\n",
    "education_dict"
   ]
  },
  {
   "cell_type": "code",
   "execution_count": 24,
   "metadata": {
    "scrolled": true
   },
   "outputs": [
    {
     "data": {
      "text/html": [
       "<div>\n",
       "<style scoped>\n",
       "    .dataframe tbody tr th:only-of-type {\n",
       "        vertical-align: middle;\n",
       "    }\n",
       "\n",
       "    .dataframe tbody tr th {\n",
       "        vertical-align: top;\n",
       "    }\n",
       "\n",
       "    .dataframe thead th {\n",
       "        text-align: right;\n",
       "    }\n",
       "</style>\n",
       "<table border=\"1\" class=\"dataframe\">\n",
       "  <thead>\n",
       "    <tr style=\"text-align: right;\">\n",
       "      <th></th>\n",
       "      <th>family_status_id</th>\n",
       "      <th>family_status</th>\n",
       "    </tr>\n",
       "  </thead>\n",
       "  <tbody>\n",
       "    <tr>\n",
       "      <th>0</th>\n",
       "      <td>0</td>\n",
       "      <td>женат / замужем</td>\n",
       "    </tr>\n",
       "    <tr>\n",
       "      <th>1</th>\n",
       "      <td>1</td>\n",
       "      <td>гражданский брак</td>\n",
       "    </tr>\n",
       "    <tr>\n",
       "      <th>2</th>\n",
       "      <td>2</td>\n",
       "      <td>вдовец / вдова</td>\n",
       "    </tr>\n",
       "    <tr>\n",
       "      <th>3</th>\n",
       "      <td>3</td>\n",
       "      <td>в разводе</td>\n",
       "    </tr>\n",
       "    <tr>\n",
       "      <th>4</th>\n",
       "      <td>4</td>\n",
       "      <td>Не женат / не замужем</td>\n",
       "    </tr>\n",
       "  </tbody>\n",
       "</table>\n",
       "</div>"
      ],
      "text/plain": [
       "   family_status_id          family_status\n",
       "0                 0        женат / замужем\n",
       "1                 1       гражданский брак\n",
       "2                 2         вдовец / вдова\n",
       "3                 3              в разводе\n",
       "4                 4  Не женат / не замужем"
      ]
     },
     "execution_count": 24,
     "metadata": {},
     "output_type": "execute_result"
    }
   ],
   "source": [
    "family_status_dict = df[['family_status_id','family_status']]\n",
    "family_status_dict = family_status_dict.drop_duplicates().reset_index(drop=True)\n",
    "family_status_dict"
   ]
  },
  {
   "cell_type": "code",
   "execution_count": 25,
   "metadata": {},
   "outputs": [],
   "source": [
    "df.drop(['education', 'family_status', 'total_income_median'], axis = 1, inplace=True)"
   ]
  },
  {
   "cell_type": "markdown",
   "metadata": {},
   "source": [
    "**Категоризация по столбцу \"children\"**"
   ]
  },
  {
   "cell_type": "code",
   "execution_count": 26,
   "metadata": {
    "scrolled": false
   },
   "outputs": [
    {
     "data": {
      "text/html": [
       "<div>\n",
       "<style scoped>\n",
       "    .dataframe tbody tr th:only-of-type {\n",
       "        vertical-align: middle;\n",
       "    }\n",
       "\n",
       "    .dataframe tbody tr th {\n",
       "        vertical-align: top;\n",
       "    }\n",
       "\n",
       "    .dataframe thead th {\n",
       "        text-align: right;\n",
       "    }\n",
       "</style>\n",
       "<table border=\"1\" class=\"dataframe\">\n",
       "  <thead>\n",
       "    <tr style=\"text-align: right;\">\n",
       "      <th></th>\n",
       "      <th>children</th>\n",
       "    </tr>\n",
       "    <tr>\n",
       "      <th>children</th>\n",
       "      <th></th>\n",
       "    </tr>\n",
       "  </thead>\n",
       "  <tbody>\n",
       "    <tr>\n",
       "      <th>0</th>\n",
       "      <td>14090</td>\n",
       "    </tr>\n",
       "    <tr>\n",
       "      <th>1</th>\n",
       "      <td>4808</td>\n",
       "    </tr>\n",
       "    <tr>\n",
       "      <th>2</th>\n",
       "      <td>2052</td>\n",
       "    </tr>\n",
       "    <tr>\n",
       "      <th>3</th>\n",
       "      <td>330</td>\n",
       "    </tr>\n",
       "    <tr>\n",
       "      <th>4</th>\n",
       "      <td>41</td>\n",
       "    </tr>\n",
       "    <tr>\n",
       "      <th>5</th>\n",
       "      <td>9</td>\n",
       "    </tr>\n",
       "  </tbody>\n",
       "</table>\n",
       "</div>"
      ],
      "text/plain": [
       "          children\n",
       "children          \n",
       "0            14090\n",
       "1             4808\n",
       "2             2052\n",
       "3              330\n",
       "4               41\n",
       "5                9"
      ]
     },
     "execution_count": 26,
     "metadata": {},
     "output_type": "execute_result"
    }
   ],
   "source": [
    "df.groupby('children')[['children']].count()"
   ]
  },
  {
   "cell_type": "markdown",
   "metadata": {},
   "source": [
    "Для того, чтобы было легче анализировать данные по детям, напишу функцию, которая объединит данные о наличии детей в 3 категории: **нет детей**, **1-2 ребенка**, **многодетные**."
   ]
  },
  {
   "cell_type": "code",
   "execution_count": 27,
   "metadata": {},
   "outputs": [],
   "source": [
    "def children_group(children):\n",
    "    #\"\"\"\n",
    "    #Возвращает группу по наличию детей `children`, используя правила:\n",
    "    #- 'нет детей', если children = 0;\n",
    "    #- '1-2 ребенка', если children = 1 или 2;\n",
    "    #- 'многодетные' — если children >= 3.\n",
    "    #\"\"\"\n",
    "    \n",
    "    if children == 0:\n",
    "        return 'нет детей'\n",
    "    if (children == 1) or (children == 2):\n",
    "        return '1-2 ребенка'\n",
    "    return 'многодетные' "
   ]
  },
  {
   "cell_type": "markdown",
   "metadata": {},
   "source": [
    "Применим эту функцию для всех значений столбца `children` и запишем результат ее работы в новый столбец `children_group`."
   ]
  },
  {
   "cell_type": "code",
   "execution_count": 28,
   "metadata": {
    "scrolled": false
   },
   "outputs": [
    {
     "data": {
      "text/html": [
       "<div>\n",
       "<style scoped>\n",
       "    .dataframe tbody tr th:only-of-type {\n",
       "        vertical-align: middle;\n",
       "    }\n",
       "\n",
       "    .dataframe tbody tr th {\n",
       "        vertical-align: top;\n",
       "    }\n",
       "\n",
       "    .dataframe thead th {\n",
       "        text-align: right;\n",
       "    }\n",
       "</style>\n",
       "<table border=\"1\" class=\"dataframe\">\n",
       "  <thead>\n",
       "    <tr style=\"text-align: right;\">\n",
       "      <th></th>\n",
       "      <th>children</th>\n",
       "      <th>days_employed</th>\n",
       "      <th>dob_years</th>\n",
       "      <th>education_id</th>\n",
       "      <th>family_status_id</th>\n",
       "      <th>gender</th>\n",
       "      <th>income_type</th>\n",
       "      <th>debt</th>\n",
       "      <th>total_income</th>\n",
       "      <th>purpose</th>\n",
       "      <th>children_group</th>\n",
       "    </tr>\n",
       "  </thead>\n",
       "  <tbody>\n",
       "    <tr>\n",
       "      <th>0</th>\n",
       "      <td>1</td>\n",
       "      <td>-8437</td>\n",
       "      <td>42</td>\n",
       "      <td>0</td>\n",
       "      <td>0</td>\n",
       "      <td>F</td>\n",
       "      <td>сотрудник</td>\n",
       "      <td>0</td>\n",
       "      <td>253875</td>\n",
       "      <td>покупка жилья</td>\n",
       "      <td>1-2 ребенка</td>\n",
       "    </tr>\n",
       "    <tr>\n",
       "      <th>1</th>\n",
       "      <td>1</td>\n",
       "      <td>-4024</td>\n",
       "      <td>36</td>\n",
       "      <td>1</td>\n",
       "      <td>0</td>\n",
       "      <td>F</td>\n",
       "      <td>сотрудник</td>\n",
       "      <td>0</td>\n",
       "      <td>112080</td>\n",
       "      <td>приобретение автомобиля</td>\n",
       "      <td>1-2 ребенка</td>\n",
       "    </tr>\n",
       "    <tr>\n",
       "      <th>2</th>\n",
       "      <td>0</td>\n",
       "      <td>-5623</td>\n",
       "      <td>33</td>\n",
       "      <td>1</td>\n",
       "      <td>0</td>\n",
       "      <td>M</td>\n",
       "      <td>сотрудник</td>\n",
       "      <td>0</td>\n",
       "      <td>145885</td>\n",
       "      <td>покупка жилья</td>\n",
       "      <td>нет детей</td>\n",
       "    </tr>\n",
       "    <tr>\n",
       "      <th>3</th>\n",
       "      <td>3</td>\n",
       "      <td>-4124</td>\n",
       "      <td>32</td>\n",
       "      <td>1</td>\n",
       "      <td>0</td>\n",
       "      <td>M</td>\n",
       "      <td>сотрудник</td>\n",
       "      <td>0</td>\n",
       "      <td>267628</td>\n",
       "      <td>дополнительное образование</td>\n",
       "      <td>многодетные</td>\n",
       "    </tr>\n",
       "    <tr>\n",
       "      <th>4</th>\n",
       "      <td>0</td>\n",
       "      <td>340266</td>\n",
       "      <td>53</td>\n",
       "      <td>1</td>\n",
       "      <td>1</td>\n",
       "      <td>F</td>\n",
       "      <td>пенсионер</td>\n",
       "      <td>0</td>\n",
       "      <td>158616</td>\n",
       "      <td>сыграть свадьбу</td>\n",
       "      <td>нет детей</td>\n",
       "    </tr>\n",
       "  </tbody>\n",
       "</table>\n",
       "</div>"
      ],
      "text/plain": [
       "   children  days_employed  dob_years  education_id  family_status_id gender  \\\n",
       "0         1          -8437         42             0                 0      F   \n",
       "1         1          -4024         36             1                 0      F   \n",
       "2         0          -5623         33             1                 0      M   \n",
       "3         3          -4124         32             1                 0      M   \n",
       "4         0         340266         53             1                 1      F   \n",
       "\n",
       "  income_type  debt  total_income                     purpose children_group  \n",
       "0   сотрудник     0        253875               покупка жилья    1-2 ребенка  \n",
       "1   сотрудник     0        112080     приобретение автомобиля    1-2 ребенка  \n",
       "2   сотрудник     0        145885               покупка жилья      нет детей  \n",
       "3   сотрудник     0        267628  дополнительное образование    многодетные  \n",
       "4   пенсионер     0        158616             сыграть свадьбу      нет детей  "
      ]
     },
     "execution_count": 28,
     "metadata": {},
     "output_type": "execute_result"
    }
   ],
   "source": [
    "df['children_group'] = df['children'].apply(children_group)\n",
    "df.head()"
   ]
  },
  {
   "cell_type": "markdown",
   "metadata": {},
   "source": [
    "**Категоризация по столбцу \"family_status_id\"**"
   ]
  },
  {
   "cell_type": "code",
   "execution_count": 29,
   "metadata": {
    "scrolled": true
   },
   "outputs": [
    {
     "data": {
      "text/plain": [
       "0    12261\n",
       "1     4133\n",
       "4     2796\n",
       "3     1189\n",
       "2      951\n",
       "Name: family_status_id, dtype: int64"
      ]
     },
     "execution_count": 29,
     "metadata": {},
     "output_type": "execute_result"
    }
   ],
   "source": [
    "df['family_status_id'].value_counts()"
   ]
  },
  {
   "cell_type": "markdown",
   "metadata": {},
   "source": [
    "Напишем функцию, которая которая объединит данные о семейном положении в 2 группы."
   ]
  },
  {
   "cell_type": "code",
   "execution_count": 30,
   "metadata": {},
   "outputs": [],
   "source": [
    "def family_status_group(status):\n",
    "    #\"\"\"\n",
    "    #Возвращает группу по семейному положению `family_status`, используя правила:\n",
    "    #- 'Состоит в браке', если family_status = женат / замужем или гражданский брак;\n",
    "    #- 'Не состоит в браке', если family_status = Не женат / не замужем, в разводе или вдовец / вдова;\n",
    "    #\"\"\"\n",
    "    \n",
    "    if (status == 0) or (status == 1):\n",
    "        return 'В браке'\n",
    "    return 'Не состоит в браке' "
   ]
  },
  {
   "cell_type": "markdown",
   "metadata": {},
   "source": [
    "Применим эту функцию для всех значений столбца `family_status_id` запишем результат ее работы в новый столбец `family_status_group`."
   ]
  },
  {
   "cell_type": "code",
   "execution_count": 31,
   "metadata": {
    "scrolled": false
   },
   "outputs": [
    {
     "data": {
      "text/html": [
       "<div>\n",
       "<style scoped>\n",
       "    .dataframe tbody tr th:only-of-type {\n",
       "        vertical-align: middle;\n",
       "    }\n",
       "\n",
       "    .dataframe tbody tr th {\n",
       "        vertical-align: top;\n",
       "    }\n",
       "\n",
       "    .dataframe thead th {\n",
       "        text-align: right;\n",
       "    }\n",
       "</style>\n",
       "<table border=\"1\" class=\"dataframe\">\n",
       "  <thead>\n",
       "    <tr style=\"text-align: right;\">\n",
       "      <th></th>\n",
       "      <th>children</th>\n",
       "      <th>days_employed</th>\n",
       "      <th>dob_years</th>\n",
       "      <th>education_id</th>\n",
       "      <th>family_status_id</th>\n",
       "      <th>gender</th>\n",
       "      <th>income_type</th>\n",
       "      <th>debt</th>\n",
       "      <th>total_income</th>\n",
       "      <th>purpose</th>\n",
       "      <th>children_group</th>\n",
       "      <th>family_status_group</th>\n",
       "    </tr>\n",
       "  </thead>\n",
       "  <tbody>\n",
       "    <tr>\n",
       "      <th>0</th>\n",
       "      <td>1</td>\n",
       "      <td>-8437</td>\n",
       "      <td>42</td>\n",
       "      <td>0</td>\n",
       "      <td>0</td>\n",
       "      <td>F</td>\n",
       "      <td>сотрудник</td>\n",
       "      <td>0</td>\n",
       "      <td>253875</td>\n",
       "      <td>покупка жилья</td>\n",
       "      <td>1-2 ребенка</td>\n",
       "      <td>В браке</td>\n",
       "    </tr>\n",
       "    <tr>\n",
       "      <th>1</th>\n",
       "      <td>1</td>\n",
       "      <td>-4024</td>\n",
       "      <td>36</td>\n",
       "      <td>1</td>\n",
       "      <td>0</td>\n",
       "      <td>F</td>\n",
       "      <td>сотрудник</td>\n",
       "      <td>0</td>\n",
       "      <td>112080</td>\n",
       "      <td>приобретение автомобиля</td>\n",
       "      <td>1-2 ребенка</td>\n",
       "      <td>В браке</td>\n",
       "    </tr>\n",
       "    <tr>\n",
       "      <th>2</th>\n",
       "      <td>0</td>\n",
       "      <td>-5623</td>\n",
       "      <td>33</td>\n",
       "      <td>1</td>\n",
       "      <td>0</td>\n",
       "      <td>M</td>\n",
       "      <td>сотрудник</td>\n",
       "      <td>0</td>\n",
       "      <td>145885</td>\n",
       "      <td>покупка жилья</td>\n",
       "      <td>нет детей</td>\n",
       "      <td>В браке</td>\n",
       "    </tr>\n",
       "    <tr>\n",
       "      <th>3</th>\n",
       "      <td>3</td>\n",
       "      <td>-4124</td>\n",
       "      <td>32</td>\n",
       "      <td>1</td>\n",
       "      <td>0</td>\n",
       "      <td>M</td>\n",
       "      <td>сотрудник</td>\n",
       "      <td>0</td>\n",
       "      <td>267628</td>\n",
       "      <td>дополнительное образование</td>\n",
       "      <td>многодетные</td>\n",
       "      <td>В браке</td>\n",
       "    </tr>\n",
       "    <tr>\n",
       "      <th>4</th>\n",
       "      <td>0</td>\n",
       "      <td>340266</td>\n",
       "      <td>53</td>\n",
       "      <td>1</td>\n",
       "      <td>1</td>\n",
       "      <td>F</td>\n",
       "      <td>пенсионер</td>\n",
       "      <td>0</td>\n",
       "      <td>158616</td>\n",
       "      <td>сыграть свадьбу</td>\n",
       "      <td>нет детей</td>\n",
       "      <td>В браке</td>\n",
       "    </tr>\n",
       "  </tbody>\n",
       "</table>\n",
       "</div>"
      ],
      "text/plain": [
       "   children  days_employed  dob_years  education_id  family_status_id gender  \\\n",
       "0         1          -8437         42             0                 0      F   \n",
       "1         1          -4024         36             1                 0      F   \n",
       "2         0          -5623         33             1                 0      M   \n",
       "3         3          -4124         32             1                 0      M   \n",
       "4         0         340266         53             1                 1      F   \n",
       "\n",
       "  income_type  debt  total_income                     purpose children_group  \\\n",
       "0   сотрудник     0        253875               покупка жилья    1-2 ребенка   \n",
       "1   сотрудник     0        112080     приобретение автомобиля    1-2 ребенка   \n",
       "2   сотрудник     0        145885               покупка жилья      нет детей   \n",
       "3   сотрудник     0        267628  дополнительное образование    многодетные   \n",
       "4   пенсионер     0        158616             сыграть свадьбу      нет детей   \n",
       "\n",
       "  family_status_group  \n",
       "0             В браке  \n",
       "1             В браке  \n",
       "2             В браке  \n",
       "3             В браке  \n",
       "4             В браке  "
      ]
     },
     "execution_count": 31,
     "metadata": {},
     "output_type": "execute_result"
    }
   ],
   "source": [
    "df['family_status_group'] = df['family_status_id'].apply(family_status_group)\n",
    "df.head()"
   ]
  },
  {
   "cell_type": "markdown",
   "metadata": {},
   "source": [
    "**Категоризация по столбцу \"total_income\"**"
   ]
  },
  {
   "cell_type": "markdown",
   "metadata": {},
   "source": [
    "Поделим данные столбца \"total_income\" на 4 группы и посмотрим, какие интервалы получатся."
   ]
  },
  {
   "cell_type": "code",
   "execution_count": 32,
   "metadata": {},
   "outputs": [
    {
     "data": {
      "text/plain": [
       "0        (214605.0, 2265604.0]\n",
       "1          (98514.0, 132113.0]\n",
       "2         (132113.0, 161379.4]\n",
       "3        (214605.0, 2265604.0]\n",
       "4         (132113.0, 161379.4]\n",
       "                 ...          \n",
       "21325    (214605.0, 2265604.0]\n",
       "21326     (132113.0, 161379.4]\n",
       "21327     (20666.999, 98514.0]\n",
       "21328    (214605.0, 2265604.0]\n",
       "21329     (20666.999, 98514.0]\n",
       "Name: total_income, Length: 21330, dtype: category\n",
       "Categories (5, interval[float64]): [(20666.999, 98514.0] < (98514.0, 132113.0] < (132113.0, 161379.4] < (161379.4, 214605.0] < (214605.0, 2265604.0]]"
      ]
     },
     "execution_count": 32,
     "metadata": {},
     "output_type": "execute_result"
    }
   ],
   "source": [
    "pd.qcut(df['total_income'], q=5)"
   ]
  },
  {
   "cell_type": "markdown",
   "metadata": {},
   "source": [
    "Создадим новый столбец `total_income_group`, где будет прописана группа в зависимости от уровня дохода."
   ]
  },
  {
   "cell_type": "code",
   "execution_count": 33,
   "metadata": {
    "scrolled": false
   },
   "outputs": [
    {
     "data": {
      "text/html": [
       "<div>\n",
       "<style scoped>\n",
       "    .dataframe tbody tr th:only-of-type {\n",
       "        vertical-align: middle;\n",
       "    }\n",
       "\n",
       "    .dataframe tbody tr th {\n",
       "        vertical-align: top;\n",
       "    }\n",
       "\n",
       "    .dataframe thead th {\n",
       "        text-align: right;\n",
       "    }\n",
       "</style>\n",
       "<table border=\"1\" class=\"dataframe\">\n",
       "  <thead>\n",
       "    <tr style=\"text-align: right;\">\n",
       "      <th></th>\n",
       "      <th>children</th>\n",
       "      <th>days_employed</th>\n",
       "      <th>dob_years</th>\n",
       "      <th>education_id</th>\n",
       "      <th>family_status_id</th>\n",
       "      <th>gender</th>\n",
       "      <th>income_type</th>\n",
       "      <th>debt</th>\n",
       "      <th>total_income</th>\n",
       "      <th>purpose</th>\n",
       "      <th>children_group</th>\n",
       "      <th>family_status_group</th>\n",
       "      <th>total_income_group</th>\n",
       "    </tr>\n",
       "  </thead>\n",
       "  <tbody>\n",
       "    <tr>\n",
       "      <th>0</th>\n",
       "      <td>1</td>\n",
       "      <td>-8437</td>\n",
       "      <td>42</td>\n",
       "      <td>0</td>\n",
       "      <td>0</td>\n",
       "      <td>F</td>\n",
       "      <td>сотрудник</td>\n",
       "      <td>0</td>\n",
       "      <td>253875</td>\n",
       "      <td>покупка жилья</td>\n",
       "      <td>1-2 ребенка</td>\n",
       "      <td>В браке</td>\n",
       "      <td>очень высокий</td>\n",
       "    </tr>\n",
       "    <tr>\n",
       "      <th>1</th>\n",
       "      <td>1</td>\n",
       "      <td>-4024</td>\n",
       "      <td>36</td>\n",
       "      <td>1</td>\n",
       "      <td>0</td>\n",
       "      <td>F</td>\n",
       "      <td>сотрудник</td>\n",
       "      <td>0</td>\n",
       "      <td>112080</td>\n",
       "      <td>приобретение автомобиля</td>\n",
       "      <td>1-2 ребенка</td>\n",
       "      <td>В браке</td>\n",
       "      <td>низкий</td>\n",
       "    </tr>\n",
       "    <tr>\n",
       "      <th>2</th>\n",
       "      <td>0</td>\n",
       "      <td>-5623</td>\n",
       "      <td>33</td>\n",
       "      <td>1</td>\n",
       "      <td>0</td>\n",
       "      <td>M</td>\n",
       "      <td>сотрудник</td>\n",
       "      <td>0</td>\n",
       "      <td>145885</td>\n",
       "      <td>покупка жилья</td>\n",
       "      <td>нет детей</td>\n",
       "      <td>В браке</td>\n",
       "      <td>средний</td>\n",
       "    </tr>\n",
       "    <tr>\n",
       "      <th>3</th>\n",
       "      <td>3</td>\n",
       "      <td>-4124</td>\n",
       "      <td>32</td>\n",
       "      <td>1</td>\n",
       "      <td>0</td>\n",
       "      <td>M</td>\n",
       "      <td>сотрудник</td>\n",
       "      <td>0</td>\n",
       "      <td>267628</td>\n",
       "      <td>дополнительное образование</td>\n",
       "      <td>многодетные</td>\n",
       "      <td>В браке</td>\n",
       "      <td>очень высокий</td>\n",
       "    </tr>\n",
       "    <tr>\n",
       "      <th>4</th>\n",
       "      <td>0</td>\n",
       "      <td>340266</td>\n",
       "      <td>53</td>\n",
       "      <td>1</td>\n",
       "      <td>1</td>\n",
       "      <td>F</td>\n",
       "      <td>пенсионер</td>\n",
       "      <td>0</td>\n",
       "      <td>158616</td>\n",
       "      <td>сыграть свадьбу</td>\n",
       "      <td>нет детей</td>\n",
       "      <td>В браке</td>\n",
       "      <td>средний</td>\n",
       "    </tr>\n",
       "  </tbody>\n",
       "</table>\n",
       "</div>"
      ],
      "text/plain": [
       "   children  days_employed  dob_years  education_id  family_status_id gender  \\\n",
       "0         1          -8437         42             0                 0      F   \n",
       "1         1          -4024         36             1                 0      F   \n",
       "2         0          -5623         33             1                 0      M   \n",
       "3         3          -4124         32             1                 0      M   \n",
       "4         0         340266         53             1                 1      F   \n",
       "\n",
       "  income_type  debt  total_income                     purpose children_group  \\\n",
       "0   сотрудник     0        253875               покупка жилья    1-2 ребенка   \n",
       "1   сотрудник     0        112080     приобретение автомобиля    1-2 ребенка   \n",
       "2   сотрудник     0        145885               покупка жилья      нет детей   \n",
       "3   сотрудник     0        267628  дополнительное образование    многодетные   \n",
       "4   пенсионер     0        158616             сыграть свадьбу      нет детей   \n",
       "\n",
       "  family_status_group total_income_group  \n",
       "0             В браке      очень высокий  \n",
       "1             В браке             низкий  \n",
       "2             В браке            средний  \n",
       "3             В браке      очень высокий  \n",
       "4             В браке            средний  "
      ]
     },
     "execution_count": 33,
     "metadata": {},
     "output_type": "execute_result"
    }
   ],
   "source": [
    "names = ['очень низкий', 'низкий', 'средний', 'высокий', 'очень высокий'] # создадим список с названиями категорий по уровню дохода \n",
    "df['total_income_group'] = pd.qcut(df['total_income'], q=5, labels=names)\n",
    "df.head()"
   ]
  },
  {
   "cell_type": "markdown",
   "metadata": {},
   "source": [
    "**Категоризация по столбцу \"purpose\"**"
   ]
  },
  {
   "cell_type": "markdown",
   "metadata": {},
   "source": [
    "Сначала напишем функцию для определения цели кредита."
   ]
  },
  {
   "cell_type": "code",
   "execution_count": 34,
   "metadata": {
    "scrolled": true
   },
   "outputs": [],
   "source": [
    "def purpose_cat(purpose):\n",
    "    #\"\"\"\n",
    "    #Возвращает группу в зависимости от цели кредита `purpose`, используя правила:\n",
    "    #- 'автомобиль', если в столбце `purpose` есть ключевое слово \"авто\";\n",
    "    #- 'недвижимость', если в столбце `purpose` есть ключевые слова \"недвижимость\" или \"жилье\";\n",
    "    #- 'свадьба', если в столбце `purpose` есть ключевое слово \"свадьба\";\n",
    "    #- 'образование', если в столбце `purpose` есть ключевое слово \"образование\";\n",
    "    #\"\"\"\n",
    "    lemma = ' '.join(m.lemmatize(purpose))\n",
    " \n",
    "    if 'авто' in lemma:\n",
    "        return 'автомобиль'\n",
    "    if ('недвиж' in lemma) or ('жил' in lemma):\n",
    "        return  'недвижимость'\n",
    "    if 'свадьба' in lemma:\n",
    "        return  'свадьба'\n",
    "    if 'образов' in lemma:\n",
    "        return 'образование'\n",
    "    else:\n",
    "        return 'другое'"
   ]
  },
  {
   "cell_type": "markdown",
   "metadata": {},
   "source": [
    "Применим эту функцию к столбцу `purpose`, и создадим новый столбец `purpose_group`, где для каждого клиента будет прописана группа по цели кредита."
   ]
  },
  {
   "cell_type": "code",
   "execution_count": 35,
   "metadata": {
    "scrolled": true
   },
   "outputs": [
    {
     "data": {
      "text/html": [
       "<div>\n",
       "<style scoped>\n",
       "    .dataframe tbody tr th:only-of-type {\n",
       "        vertical-align: middle;\n",
       "    }\n",
       "\n",
       "    .dataframe tbody tr th {\n",
       "        vertical-align: top;\n",
       "    }\n",
       "\n",
       "    .dataframe thead th {\n",
       "        text-align: right;\n",
       "    }\n",
       "</style>\n",
       "<table border=\"1\" class=\"dataframe\">\n",
       "  <thead>\n",
       "    <tr style=\"text-align: right;\">\n",
       "      <th></th>\n",
       "      <th>children</th>\n",
       "      <th>days_employed</th>\n",
       "      <th>dob_years</th>\n",
       "      <th>education_id</th>\n",
       "      <th>family_status_id</th>\n",
       "      <th>gender</th>\n",
       "      <th>income_type</th>\n",
       "      <th>debt</th>\n",
       "      <th>total_income</th>\n",
       "      <th>purpose</th>\n",
       "      <th>children_group</th>\n",
       "      <th>family_status_group</th>\n",
       "      <th>total_income_group</th>\n",
       "      <th>purpose_group</th>\n",
       "    </tr>\n",
       "  </thead>\n",
       "  <tbody>\n",
       "    <tr>\n",
       "      <th>0</th>\n",
       "      <td>1</td>\n",
       "      <td>-8437</td>\n",
       "      <td>42</td>\n",
       "      <td>0</td>\n",
       "      <td>0</td>\n",
       "      <td>F</td>\n",
       "      <td>сотрудник</td>\n",
       "      <td>0</td>\n",
       "      <td>253875</td>\n",
       "      <td>покупка жилья</td>\n",
       "      <td>1-2 ребенка</td>\n",
       "      <td>В браке</td>\n",
       "      <td>очень высокий</td>\n",
       "      <td>недвижимость</td>\n",
       "    </tr>\n",
       "    <tr>\n",
       "      <th>1</th>\n",
       "      <td>1</td>\n",
       "      <td>-4024</td>\n",
       "      <td>36</td>\n",
       "      <td>1</td>\n",
       "      <td>0</td>\n",
       "      <td>F</td>\n",
       "      <td>сотрудник</td>\n",
       "      <td>0</td>\n",
       "      <td>112080</td>\n",
       "      <td>приобретение автомобиля</td>\n",
       "      <td>1-2 ребенка</td>\n",
       "      <td>В браке</td>\n",
       "      <td>низкий</td>\n",
       "      <td>автомобиль</td>\n",
       "    </tr>\n",
       "    <tr>\n",
       "      <th>2</th>\n",
       "      <td>0</td>\n",
       "      <td>-5623</td>\n",
       "      <td>33</td>\n",
       "      <td>1</td>\n",
       "      <td>0</td>\n",
       "      <td>M</td>\n",
       "      <td>сотрудник</td>\n",
       "      <td>0</td>\n",
       "      <td>145885</td>\n",
       "      <td>покупка жилья</td>\n",
       "      <td>нет детей</td>\n",
       "      <td>В браке</td>\n",
       "      <td>средний</td>\n",
       "      <td>недвижимость</td>\n",
       "    </tr>\n",
       "    <tr>\n",
       "      <th>3</th>\n",
       "      <td>3</td>\n",
       "      <td>-4124</td>\n",
       "      <td>32</td>\n",
       "      <td>1</td>\n",
       "      <td>0</td>\n",
       "      <td>M</td>\n",
       "      <td>сотрудник</td>\n",
       "      <td>0</td>\n",
       "      <td>267628</td>\n",
       "      <td>дополнительное образование</td>\n",
       "      <td>многодетные</td>\n",
       "      <td>В браке</td>\n",
       "      <td>очень высокий</td>\n",
       "      <td>образование</td>\n",
       "    </tr>\n",
       "    <tr>\n",
       "      <th>4</th>\n",
       "      <td>0</td>\n",
       "      <td>340266</td>\n",
       "      <td>53</td>\n",
       "      <td>1</td>\n",
       "      <td>1</td>\n",
       "      <td>F</td>\n",
       "      <td>пенсионер</td>\n",
       "      <td>0</td>\n",
       "      <td>158616</td>\n",
       "      <td>сыграть свадьбу</td>\n",
       "      <td>нет детей</td>\n",
       "      <td>В браке</td>\n",
       "      <td>средний</td>\n",
       "      <td>свадьба</td>\n",
       "    </tr>\n",
       "  </tbody>\n",
       "</table>\n",
       "</div>"
      ],
      "text/plain": [
       "   children  days_employed  dob_years  education_id  family_status_id gender  \\\n",
       "0         1          -8437         42             0                 0      F   \n",
       "1         1          -4024         36             1                 0      F   \n",
       "2         0          -5623         33             1                 0      M   \n",
       "3         3          -4124         32             1                 0      M   \n",
       "4         0         340266         53             1                 1      F   \n",
       "\n",
       "  income_type  debt  total_income                     purpose children_group  \\\n",
       "0   сотрудник     0        253875               покупка жилья    1-2 ребенка   \n",
       "1   сотрудник     0        112080     приобретение автомобиля    1-2 ребенка   \n",
       "2   сотрудник     0        145885               покупка жилья      нет детей   \n",
       "3   сотрудник     0        267628  дополнительное образование    многодетные   \n",
       "4   пенсионер     0        158616             сыграть свадьбу      нет детей   \n",
       "\n",
       "  family_status_group total_income_group purpose_group  \n",
       "0             В браке      очень высокий  недвижимость  \n",
       "1             В браке             низкий    автомобиль  \n",
       "2             В браке            средний  недвижимость  \n",
       "3             В браке      очень высокий   образование  \n",
       "4             В браке            средний       свадьба  "
      ]
     },
     "execution_count": 35,
     "metadata": {},
     "output_type": "execute_result"
    }
   ],
   "source": [
    "df['purpose_group'] = df['purpose'].apply(purpose_cat)\n",
    "df.head()"
   ]
  },
  {
   "cell_type": "markdown",
   "metadata": {},
   "source": [
    "**Вывод**\n",
    "\n",
    "В нашей таблице были столбцы, которые не нужны по сути для расчетов. Кроме того, были столбцы-дубли, с \"id\" и их расшифровкой (это столбцы `education_id` и `education`, `family_status_id` и `family_status`) Для оптимизации расчетов, расшифровки вынесли в отдельные словари. А в основной таблице оставили \"id\" и нужные для расчетов данные. Также для дальнейшего исследования я провела категоризацию в 4 колонках.\n",
    "* колонка \"children\": группы - **нет детей**, **1-2 ребенка** и **многодетные**.\n",
    "* колонка \"family_status_id\": группы - **в браке** и **не состоит в браке**.\n",
    "* колонка \"total_income\": группы - **очень низкий**, **низкий**, **средний**, **высокий**, **очень высокий**.\n",
    "* колонка \"purpose\": группы - **автомобиль**, **недвижимость**, **свадьба** и **образование**."
   ]
  },
  {
   "cell_type": "markdown",
   "metadata": {},
   "source": [
    "<a id=\"analiz\"></a> \n",
    "## Анализ данных"
   ]
  },
  {
   "cell_type": "markdown",
   "metadata": {},
   "source": [
    "**ОТВЕТИМ НА ВОПРОСЫ**"
   ]
  },
  {
   "cell_type": "markdown",
   "metadata": {},
   "source": [
    "**- Есть ли зависимость между наличием детей и возвратом кредита в срок?**"
   ]
  },
  {
   "cell_type": "markdown",
   "metadata": {},
   "source": [
    "Выясним, какова доля должников по кредитам в каждой из 3 групп: **нет детей**, **1-2 ребенка** и **многодетные**. Для этого для каждой группы нужно количество должников поделить на количество всех людей в группе."
   ]
  },
  {
   "cell_type": "code",
   "execution_count": 36,
   "metadata": {
    "scrolled": true
   },
   "outputs": [
    {
     "data": {
      "text/html": [
       "<div>\n",
       "<style scoped>\n",
       "    .dataframe tbody tr th:only-of-type {\n",
       "        vertical-align: middle;\n",
       "    }\n",
       "\n",
       "    .dataframe tbody tr th {\n",
       "        vertical-align: top;\n",
       "    }\n",
       "\n",
       "    .dataframe thead tr th {\n",
       "        text-align: left;\n",
       "    }\n",
       "\n",
       "    .dataframe thead tr:last-of-type th {\n",
       "        text-align: right;\n",
       "    }\n",
       "</style>\n",
       "<table border=\"1\" class=\"dataframe\">\n",
       "  <thead>\n",
       "    <tr>\n",
       "      <th></th>\n",
       "      <th colspan=\"2\" halign=\"left\">debt</th>\n",
       "      <th>share</th>\n",
       "    </tr>\n",
       "    <tr>\n",
       "      <th></th>\n",
       "      <th>count</th>\n",
       "      <th>sum</th>\n",
       "      <th></th>\n",
       "    </tr>\n",
       "    <tr>\n",
       "      <th>children_group</th>\n",
       "      <th></th>\n",
       "      <th></th>\n",
       "      <th></th>\n",
       "    </tr>\n",
       "  </thead>\n",
       "  <tbody>\n",
       "    <tr>\n",
       "      <th>1-2 ребенка</th>\n",
       "      <td>6860</td>\n",
       "      <td>638</td>\n",
       "      <td>0.093003</td>\n",
       "    </tr>\n",
       "    <tr>\n",
       "      <th>многодетные</th>\n",
       "      <td>380</td>\n",
       "      <td>31</td>\n",
       "      <td>0.081579</td>\n",
       "    </tr>\n",
       "    <tr>\n",
       "      <th>нет детей</th>\n",
       "      <td>14090</td>\n",
       "      <td>1063</td>\n",
       "      <td>0.075444</td>\n",
       "    </tr>\n",
       "  </tbody>\n",
       "</table>\n",
       "</div>"
      ],
      "text/plain": [
       "                 debt           share\n",
       "                count   sum          \n",
       "children_group                       \n",
       "1-2 ребенка      6860   638  0.093003\n",
       "многодетные       380    31  0.081579\n",
       "нет детей       14090  1063  0.075444"
      ]
     },
     "execution_count": 36,
     "metadata": {},
     "output_type": "execute_result"
    }
   ],
   "source": [
    "children_grouped_final = df.groupby(['children_group']).agg({'debt':['count', 'sum']})\n",
    "children_grouped_final['share'] = children_grouped_final['debt']['sum'] / children_grouped_final['debt']['count']  \n",
    "children_grouped_final.sort_values(by='share', ascending=False)"
   ]
  },
  {
   "cell_type": "markdown",
   "metadata": {},
   "source": [
    "**Вывод**\n",
    "\n",
    "Итак, самая высокая доля должников в группе **\"1-2 ребенка\"**, а самая низкая - в группе **\"нет детей\"**."
   ]
  },
  {
   "cell_type": "markdown",
   "metadata": {},
   "source": [
    "**- Есть ли зависимость между семейным положением и возвратом кредита в срок?**"
   ]
  },
  {
   "cell_type": "markdown",
   "metadata": {},
   "source": [
    "Выясним, какова доля должников по кредитам в каждой из 2 групп: **в браке** и **не состоит в браке**."
   ]
  },
  {
   "cell_type": "code",
   "execution_count": 37,
   "metadata": {},
   "outputs": [
    {
     "data": {
      "text/html": [
       "<div>\n",
       "<style scoped>\n",
       "    .dataframe tbody tr th:only-of-type {\n",
       "        vertical-align: middle;\n",
       "    }\n",
       "\n",
       "    .dataframe tbody tr th {\n",
       "        vertical-align: top;\n",
       "    }\n",
       "\n",
       "    .dataframe thead tr th {\n",
       "        text-align: left;\n",
       "    }\n",
       "\n",
       "    .dataframe thead tr:last-of-type th {\n",
       "        text-align: right;\n",
       "    }\n",
       "</style>\n",
       "<table border=\"1\" class=\"dataframe\">\n",
       "  <thead>\n",
       "    <tr>\n",
       "      <th></th>\n",
       "      <th colspan=\"2\" halign=\"left\">debt</th>\n",
       "      <th>share</th>\n",
       "    </tr>\n",
       "    <tr>\n",
       "      <th></th>\n",
       "      <th>count</th>\n",
       "      <th>sum</th>\n",
       "      <th></th>\n",
       "    </tr>\n",
       "    <tr>\n",
       "      <th>family_status_group</th>\n",
       "      <th></th>\n",
       "      <th></th>\n",
       "      <th></th>\n",
       "    </tr>\n",
       "  </thead>\n",
       "  <tbody>\n",
       "    <tr>\n",
       "      <th>В браке</th>\n",
       "      <td>16394</td>\n",
       "      <td>1312</td>\n",
       "      <td>0.080029</td>\n",
       "    </tr>\n",
       "    <tr>\n",
       "      <th>Не состоит в браке</th>\n",
       "      <td>4936</td>\n",
       "      <td>420</td>\n",
       "      <td>0.085089</td>\n",
       "    </tr>\n",
       "  </tbody>\n",
       "</table>\n",
       "</div>"
      ],
      "text/plain": [
       "                      debt           share\n",
       "                     count   sum          \n",
       "family_status_group                       \n",
       "В браке              16394  1312  0.080029\n",
       "Не состоит в браке    4936   420  0.085089"
      ]
     },
     "execution_count": 37,
     "metadata": {},
     "output_type": "execute_result"
    }
   ],
   "source": [
    "family_status_grouped = df.groupby(['family_status_group']).agg({'debt':['count', 'sum']})\n",
    "family_status_grouped['share'] = family_status_grouped['debt']['sum'] / family_status_grouped['debt']['count']  \n",
    "family_status_grouped"
   ]
  },
  {
   "cell_type": "markdown",
   "metadata": {},
   "source": [
    "**Вывод**\n",
    "\n",
    "Доля должников в группах  одинаковая - 8%."
   ]
  },
  {
   "cell_type": "markdown",
   "metadata": {},
   "source": [
    "**- Есть ли зависимость между уровнем дохода и возвратом кредита в срок?**"
   ]
  },
  {
   "cell_type": "markdown",
   "metadata": {},
   "source": [
    "Выясним, какова доля должников по кредитам в каждой из 5 групп."
   ]
  },
  {
   "cell_type": "code",
   "execution_count": 38,
   "metadata": {},
   "outputs": [
    {
     "data": {
      "text/html": [
       "<div>\n",
       "<style scoped>\n",
       "    .dataframe tbody tr th:only-of-type {\n",
       "        vertical-align: middle;\n",
       "    }\n",
       "\n",
       "    .dataframe tbody tr th {\n",
       "        vertical-align: top;\n",
       "    }\n",
       "\n",
       "    .dataframe thead tr th {\n",
       "        text-align: left;\n",
       "    }\n",
       "\n",
       "    .dataframe thead tr:last-of-type th {\n",
       "        text-align: right;\n",
       "    }\n",
       "</style>\n",
       "<table border=\"1\" class=\"dataframe\">\n",
       "  <thead>\n",
       "    <tr>\n",
       "      <th></th>\n",
       "      <th colspan=\"2\" halign=\"left\">debt</th>\n",
       "      <th>share</th>\n",
       "    </tr>\n",
       "    <tr>\n",
       "      <th></th>\n",
       "      <th>count</th>\n",
       "      <th>sum</th>\n",
       "      <th></th>\n",
       "    </tr>\n",
       "    <tr>\n",
       "      <th>total_income_group</th>\n",
       "      <th></th>\n",
       "      <th></th>\n",
       "      <th></th>\n",
       "    </tr>\n",
       "  </thead>\n",
       "  <tbody>\n",
       "    <tr>\n",
       "      <th>очень низкий</th>\n",
       "      <td>4267</td>\n",
       "      <td>344</td>\n",
       "      <td>0.080619</td>\n",
       "    </tr>\n",
       "    <tr>\n",
       "      <th>низкий</th>\n",
       "      <td>4266</td>\n",
       "      <td>358</td>\n",
       "      <td>0.083919</td>\n",
       "    </tr>\n",
       "    <tr>\n",
       "      <th>средний</th>\n",
       "      <td>4265</td>\n",
       "      <td>373</td>\n",
       "      <td>0.087456</td>\n",
       "    </tr>\n",
       "    <tr>\n",
       "      <th>высокий</th>\n",
       "      <td>4266</td>\n",
       "      <td>358</td>\n",
       "      <td>0.083919</td>\n",
       "    </tr>\n",
       "    <tr>\n",
       "      <th>очень высокий</th>\n",
       "      <td>4266</td>\n",
       "      <td>299</td>\n",
       "      <td>0.070089</td>\n",
       "    </tr>\n",
       "  </tbody>\n",
       "</table>\n",
       "</div>"
      ],
      "text/plain": [
       "                    debt          share\n",
       "                   count  sum          \n",
       "total_income_group                     \n",
       "очень низкий        4267  344  0.080619\n",
       "низкий              4266  358  0.083919\n",
       "средний             4265  373  0.087456\n",
       "высокий             4266  358  0.083919\n",
       "очень высокий       4266  299  0.070089"
      ]
     },
     "execution_count": 38,
     "metadata": {},
     "output_type": "execute_result"
    }
   ],
   "source": [
    "total_income_grouped = df.groupby(['total_income_group']).agg({'debt':['count', 'sum']})\n",
    "total_income_grouped['share'] = total_income_grouped['debt']['sum'] / total_income_grouped['debt']['count']  \n",
    "total_income_grouped"
   ]
  },
  {
   "cell_type": "markdown",
   "metadata": {},
   "source": [
    "**Вывод**\n",
    "\n",
    "Итак, меньше всего доля должников в группе по доходам \"**очень высокий**\", тогда как в остальных группах доля должников чуть больше и примерно одинакова."
   ]
  },
  {
   "cell_type": "markdown",
   "metadata": {},
   "source": [
    "**- Как разные цели кредита влияют на его возврат в срок?**"
   ]
  },
  {
   "cell_type": "markdown",
   "metadata": {},
   "source": [
    "Выясним, какова доля должников по кредитам в каждой группе: **автомобиль**, **образование**, **недвижимость** и **свадьба**."
   ]
  },
  {
   "cell_type": "code",
   "execution_count": 39,
   "metadata": {},
   "outputs": [
    {
     "data": {
      "text/html": [
       "<div>\n",
       "<style scoped>\n",
       "    .dataframe tbody tr th:only-of-type {\n",
       "        vertical-align: middle;\n",
       "    }\n",
       "\n",
       "    .dataframe tbody tr th {\n",
       "        vertical-align: top;\n",
       "    }\n",
       "\n",
       "    .dataframe thead tr th {\n",
       "        text-align: left;\n",
       "    }\n",
       "\n",
       "    .dataframe thead tr:last-of-type th {\n",
       "        text-align: right;\n",
       "    }\n",
       "</style>\n",
       "<table border=\"1\" class=\"dataframe\">\n",
       "  <thead>\n",
       "    <tr>\n",
       "      <th></th>\n",
       "      <th colspan=\"2\" halign=\"left\">debt</th>\n",
       "      <th>share</th>\n",
       "    </tr>\n",
       "    <tr>\n",
       "      <th></th>\n",
       "      <th>count</th>\n",
       "      <th>sum</th>\n",
       "      <th></th>\n",
       "    </tr>\n",
       "    <tr>\n",
       "      <th>purpose_group</th>\n",
       "      <th></th>\n",
       "      <th></th>\n",
       "      <th></th>\n",
       "    </tr>\n",
       "  </thead>\n",
       "  <tbody>\n",
       "    <tr>\n",
       "      <th>автомобиль</th>\n",
       "      <td>4279</td>\n",
       "      <td>400</td>\n",
       "      <td>0.093480</td>\n",
       "    </tr>\n",
       "    <tr>\n",
       "      <th>образование</th>\n",
       "      <td>3988</td>\n",
       "      <td>369</td>\n",
       "      <td>0.092528</td>\n",
       "    </tr>\n",
       "    <tr>\n",
       "      <th>свадьба</th>\n",
       "      <td>2313</td>\n",
       "      <td>183</td>\n",
       "      <td>0.079118</td>\n",
       "    </tr>\n",
       "    <tr>\n",
       "      <th>недвижимость</th>\n",
       "      <td>10750</td>\n",
       "      <td>780</td>\n",
       "      <td>0.072558</td>\n",
       "    </tr>\n",
       "  </tbody>\n",
       "</table>\n",
       "</div>"
      ],
      "text/plain": [
       "                debt          share\n",
       "               count  sum          \n",
       "purpose_group                      \n",
       "автомобиль      4279  400  0.093480\n",
       "образование     3988  369  0.092528\n",
       "свадьба         2313  183  0.079118\n",
       "недвижимость   10750  780  0.072558"
      ]
     },
     "execution_count": 39,
     "metadata": {},
     "output_type": "execute_result"
    }
   ],
   "source": [
    "purpose_grouped = df.groupby(['purpose_group']).agg({'debt':['count', 'sum']})\n",
    "purpose_grouped['share'] = purpose_grouped['debt']['sum'] / purpose_grouped['debt']['count']  \n",
    "purpose_grouped.sort_values(by='share', ascending=False)"
   ]
  },
  {
   "cell_type": "markdown",
   "metadata": {},
   "source": [
    "**Вывод**\n",
    "\n",
    "Из таблицы видно, что доля должников в группах с целями **\"автомобиль\"** и **\"образование\"** выше, чем в группах с целями **\"недвижимость\"** и **\"свадьба\"**."
   ]
  },
  {
   "cell_type": "markdown",
   "metadata": {},
   "source": [
    "<a id=\"it\"></a> \n",
    "## Общий вывод"
   ]
  },
  {
   "cell_type": "markdown",
   "metadata": {},
   "source": [
    "Итак, изучив входные данные, я выяснила, то в данных есть пропуски в нескольких столбцах,также обнаружились дубликаты в столбце \"education\" (\"образование\") и аномальные значения в колонках \"gender\" (\"пол\") и \"children\" (\"количество детей\"). Проблемы в данных я устранила. Часть строк пришлось удалить, но поскольку их доля очень мала, на исследование это не повлияло.\n",
    "В исследовании я ответила на 4 вопроса:\n",
    "1. Есть ли зависимость между наличием детей и возвратом кредита в срок?\n",
    "Есть, но небольшая - самая высокая доля должников в группе **\"1-2 ребенка\"**, а самая низкая - в группе **\"нет детей\"**.\n",
    "2. Есть ли зависимость между семейным положением и возвратом кредита в срок?\n",
    "Нет, доля должников в обеих группах - 8%.\n",
    "3. Есть ли зависимость между уровнем дохода и возвратом кредита в срок?\n",
    "Незначительная зависимость есть. Меньше всего доля должников в группе по доходам **\"очень высокий\"**.\n",
    "4. Как разные цели кредита влияют на его возврат в срок?\n",
    "Доля должников в группах с целями **\"автомобиль\"** и **\"образование\"** чуть больше, чем в группах с целями **\"недвижимость\"** и **\"свадьба\"**.\n",
    "\n",
    "В целом, сильной зависимости возврата кредита в срок от этих 4 параметров нет. Разница между параметрами в группах около 1 - 2 %, что очень мало."
   ]
  }
 ],
 "metadata": {
  "ExecuteTimeLog": [
   {
    "duration": 906,
    "start_time": "2022-01-31T06:35:31.676Z"
   },
   {
    "duration": 17,
    "start_time": "2022-01-31T06:36:05.061Z"
   },
   {
    "duration": 15,
    "start_time": "2022-01-31T06:46:11.949Z"
   },
   {
    "duration": 16,
    "start_time": "2022-01-31T06:47:22.612Z"
   },
   {
    "duration": 39,
    "start_time": "2022-01-31T06:48:18.523Z"
   },
   {
    "duration": 21,
    "start_time": "2022-01-31T06:49:11.309Z"
   },
   {
    "duration": 20,
    "start_time": "2022-01-31T06:50:45.723Z"
   },
   {
    "duration": 21,
    "start_time": "2022-01-31T06:52:49.171Z"
   },
   {
    "duration": 23,
    "start_time": "2022-01-31T06:55:35.615Z"
   },
   {
    "duration": 28,
    "start_time": "2022-01-31T06:55:47.781Z"
   },
   {
    "duration": 24,
    "start_time": "2022-01-31T06:56:00.738Z"
   },
   {
    "duration": 20,
    "start_time": "2022-01-31T07:31:07.317Z"
   },
   {
    "duration": 20,
    "start_time": "2022-01-31T07:31:11.860Z"
   },
   {
    "duration": 25,
    "start_time": "2022-01-31T07:32:25.820Z"
   },
   {
    "duration": 11,
    "start_time": "2022-01-31T07:32:49.837Z"
   },
   {
    "duration": 8,
    "start_time": "2022-01-31T07:35:56.103Z"
   },
   {
    "duration": 1416,
    "start_time": "2022-01-31T07:36:24.454Z"
   },
   {
    "duration": 19,
    "start_time": "2022-01-31T07:39:17.408Z"
   },
   {
    "duration": 16,
    "start_time": "2022-01-31T07:39:31.518Z"
   },
   {
    "duration": 28,
    "start_time": "2022-01-31T07:40:36.122Z"
   },
   {
    "duration": 12,
    "start_time": "2022-01-31T07:44:08.121Z"
   },
   {
    "duration": 11,
    "start_time": "2022-01-31T07:45:15.357Z"
   },
   {
    "duration": 379,
    "start_time": "2022-01-31T07:48:46.167Z"
   },
   {
    "duration": 298,
    "start_time": "2022-01-31T07:50:18.889Z"
   },
   {
    "duration": 5,
    "start_time": "2022-01-31T07:50:31.765Z"
   },
   {
    "duration": 28,
    "start_time": "2022-01-31T07:50:34.566Z"
   },
   {
    "duration": 294,
    "start_time": "2022-01-31T07:51:08.649Z"
   },
   {
    "duration": 851,
    "start_time": "2022-01-31T07:51:30.241Z"
   },
   {
    "duration": 15,
    "start_time": "2022-01-31T07:51:31.094Z"
   },
   {
    "duration": 38,
    "start_time": "2022-01-31T07:51:31.112Z"
   },
   {
    "duration": 19,
    "start_time": "2022-01-31T07:51:31.153Z"
   },
   {
    "duration": 41,
    "start_time": "2022-01-31T07:51:31.175Z"
   },
   {
    "duration": 49,
    "start_time": "2022-01-31T07:51:31.219Z"
   },
   {
    "duration": 21,
    "start_time": "2022-01-31T07:51:31.271Z"
   },
   {
    "duration": 60,
    "start_time": "2022-01-31T07:51:31.297Z"
   },
   {
    "duration": 24,
    "start_time": "2022-01-31T07:51:31.361Z"
   },
   {
    "duration": 24,
    "start_time": "2022-01-31T07:51:31.387Z"
   },
   {
    "duration": 50,
    "start_time": "2022-01-31T07:51:31.414Z"
   },
   {
    "duration": 17,
    "start_time": "2022-01-31T07:51:31.466Z"
   },
   {
    "duration": 19,
    "start_time": "2022-01-31T07:51:31.485Z"
   },
   {
    "duration": 43,
    "start_time": "2022-01-31T07:51:31.507Z"
   },
   {
    "duration": 8,
    "start_time": "2022-01-31T07:51:31.552Z"
   },
   {
    "duration": 944,
    "start_time": "2022-01-31T07:51:31.563Z"
   },
   {
    "duration": 40,
    "start_time": "2022-01-31T07:51:32.510Z"
   },
   {
    "duration": 22,
    "start_time": "2022-01-31T07:51:32.553Z"
   },
   {
    "duration": 447,
    "start_time": "2022-01-31T07:51:32.578Z"
   },
   {
    "duration": 930,
    "start_time": "2022-01-31T07:51:32.098Z"
   },
   {
    "duration": 917,
    "start_time": "2022-01-31T07:51:32.112Z"
   },
   {
    "duration": 913,
    "start_time": "2022-01-31T07:51:32.118Z"
   },
   {
    "duration": 912,
    "start_time": "2022-01-31T07:51:32.121Z"
   },
   {
    "duration": 10,
    "start_time": "2022-01-31T07:54:32.809Z"
   },
   {
    "duration": 8,
    "start_time": "2022-01-31T07:54:48.442Z"
   },
   {
    "duration": 907,
    "start_time": "2022-01-31T07:54:50.915Z"
   },
   {
    "duration": 26,
    "start_time": "2022-01-31T07:54:57.067Z"
   },
   {
    "duration": 15,
    "start_time": "2022-01-31T07:54:59.259Z"
   },
   {
    "duration": 6,
    "start_time": "2022-01-31T07:57:59.703Z"
   },
   {
    "duration": 294,
    "start_time": "2022-01-31T07:58:08.242Z"
   },
   {
    "duration": 924,
    "start_time": "2022-01-31T07:58:23.687Z"
   },
   {
    "duration": 33,
    "start_time": "2022-01-31T07:58:24.629Z"
   },
   {
    "duration": 116,
    "start_time": "2022-01-31T07:58:24.667Z"
   },
   {
    "duration": 112,
    "start_time": "2022-01-31T07:58:24.787Z"
   },
   {
    "duration": 134,
    "start_time": "2022-01-31T07:58:24.904Z"
   },
   {
    "duration": 21,
    "start_time": "2022-01-31T07:58:25.041Z"
   },
   {
    "duration": 18,
    "start_time": "2022-01-31T07:58:25.065Z"
   },
   {
    "duration": 20,
    "start_time": "2022-01-31T07:58:25.087Z"
   },
   {
    "duration": 43,
    "start_time": "2022-01-31T07:58:25.110Z"
   },
   {
    "duration": 24,
    "start_time": "2022-01-31T07:58:25.155Z"
   },
   {
    "duration": 21,
    "start_time": "2022-01-31T07:58:25.181Z"
   },
   {
    "duration": 49,
    "start_time": "2022-01-31T07:58:25.205Z"
   },
   {
    "duration": 20,
    "start_time": "2022-01-31T07:58:25.256Z"
   },
   {
    "duration": 10,
    "start_time": "2022-01-31T07:58:25.278Z"
   },
   {
    "duration": 8,
    "start_time": "2022-01-31T07:58:25.291Z"
   },
   {
    "duration": 1063,
    "start_time": "2022-01-31T07:58:25.301Z"
   },
   {
    "duration": 19,
    "start_time": "2022-01-31T07:58:26.367Z"
   },
   {
    "duration": 16,
    "start_time": "2022-01-31T07:58:26.389Z"
   },
   {
    "duration": 6,
    "start_time": "2022-01-31T07:58:26.407Z"
   },
   {
    "duration": 43,
    "start_time": "2022-01-31T07:58:26.416Z"
   },
   {
    "duration": 5,
    "start_time": "2022-01-31T07:58:26.461Z"
   },
   {
    "duration": 23,
    "start_time": "2022-01-31T07:58:26.468Z"
   },
   {
    "duration": 13,
    "start_time": "2022-01-31T07:58:26.495Z"
   },
   {
    "duration": 720,
    "start_time": "2022-01-31T07:59:41.749Z"
   },
   {
    "duration": 33,
    "start_time": "2022-01-31T07:59:51.602Z"
   },
   {
    "duration": 286,
    "start_time": "2022-01-31T08:01:33.527Z"
   },
   {
    "duration": 8,
    "start_time": "2022-01-31T08:01:38.874Z"
   },
   {
    "duration": 4,
    "start_time": "2022-01-31T08:02:20.259Z"
   },
   {
    "duration": 26,
    "start_time": "2022-01-31T08:04:36.773Z"
   },
   {
    "duration": 25,
    "start_time": "2022-01-31T08:06:03.046Z"
   },
   {
    "duration": 20,
    "start_time": "2022-01-31T08:09:34.894Z"
   },
   {
    "duration": 26,
    "start_time": "2022-01-31T08:12:24.115Z"
   },
   {
    "duration": 26,
    "start_time": "2022-01-31T08:13:29.865Z"
   },
   {
    "duration": 5,
    "start_time": "2022-01-31T08:18:16.323Z"
   },
   {
    "duration": 291,
    "start_time": "2022-01-31T08:21:20.643Z"
   },
   {
    "duration": 3965,
    "start_time": "2022-01-31T08:21:26.624Z"
   },
   {
    "duration": 28,
    "start_time": "2022-01-31T08:22:35.827Z"
   },
   {
    "duration": 1208,
    "start_time": "2022-01-31T08:35:42.704Z"
   },
   {
    "duration": 1286,
    "start_time": "2022-01-31T08:36:18.884Z"
   },
   {
    "duration": 951,
    "start_time": "2022-01-31T08:47:50.050Z"
   },
   {
    "duration": 917,
    "start_time": "2022-01-31T08:48:19.516Z"
   },
   {
    "duration": 825,
    "start_time": "2022-01-31T08:48:45.608Z"
   },
   {
    "duration": 14,
    "start_time": "2022-01-31T08:48:46.436Z"
   },
   {
    "duration": 14,
    "start_time": "2022-01-31T08:48:46.453Z"
   },
   {
    "duration": 15,
    "start_time": "2022-01-31T08:48:46.470Z"
   },
   {
    "duration": 66,
    "start_time": "2022-01-31T08:48:46.487Z"
   },
   {
    "duration": 19,
    "start_time": "2022-01-31T08:48:46.556Z"
   },
   {
    "duration": 18,
    "start_time": "2022-01-31T08:48:46.577Z"
   },
   {
    "duration": 49,
    "start_time": "2022-01-31T08:48:46.599Z"
   },
   {
    "duration": 21,
    "start_time": "2022-01-31T08:48:46.651Z"
   },
   {
    "duration": 24,
    "start_time": "2022-01-31T08:48:46.675Z"
   },
   {
    "duration": 50,
    "start_time": "2022-01-31T08:48:46.701Z"
   },
   {
    "duration": 17,
    "start_time": "2022-01-31T08:48:46.753Z"
   },
   {
    "duration": 24,
    "start_time": "2022-01-31T08:48:46.772Z"
   },
   {
    "duration": 15,
    "start_time": "2022-01-31T08:48:46.799Z"
   },
   {
    "duration": 34,
    "start_time": "2022-01-31T08:48:46.816Z"
   },
   {
    "duration": 1036,
    "start_time": "2022-01-31T08:48:46.853Z"
   },
   {
    "duration": 18,
    "start_time": "2022-01-31T08:48:47.891Z"
   },
   {
    "duration": 39,
    "start_time": "2022-01-31T08:48:47.911Z"
   },
   {
    "duration": 7,
    "start_time": "2022-01-31T08:48:47.952Z"
   },
   {
    "duration": 22,
    "start_time": "2022-01-31T08:48:47.961Z"
   },
   {
    "duration": 5,
    "start_time": "2022-01-31T08:48:47.985Z"
   },
   {
    "duration": 35,
    "start_time": "2022-01-31T08:48:47.992Z"
   },
   {
    "duration": 33,
    "start_time": "2022-01-31T08:48:48.048Z"
   },
   {
    "duration": 8,
    "start_time": "2022-01-31T08:48:48.084Z"
   },
   {
    "duration": 9,
    "start_time": "2022-01-31T08:48:48.094Z"
   },
   {
    "duration": 46,
    "start_time": "2022-01-31T08:48:48.105Z"
   },
   {
    "duration": 37,
    "start_time": "2022-01-31T08:48:48.154Z"
   },
   {
    "duration": 20,
    "start_time": "2022-01-31T08:48:48.193Z"
   },
   {
    "duration": 39,
    "start_time": "2022-01-31T08:48:48.215Z"
   },
   {
    "duration": 21,
    "start_time": "2022-01-31T08:48:48.256Z"
   },
   {
    "duration": 4,
    "start_time": "2022-01-31T08:48:48.280Z"
   },
   {
    "duration": 3962,
    "start_time": "2022-01-31T08:48:48.287Z"
   },
   {
    "duration": 30,
    "start_time": "2022-01-31T08:48:52.252Z"
   },
   {
    "duration": 883,
    "start_time": "2022-01-31T08:55:59.468Z"
   },
   {
    "duration": 15,
    "start_time": "2022-01-31T08:56:00.354Z"
   },
   {
    "duration": 20,
    "start_time": "2022-01-31T08:56:00.372Z"
   },
   {
    "duration": 27,
    "start_time": "2022-01-31T08:56:00.395Z"
   },
   {
    "duration": 54,
    "start_time": "2022-01-31T08:56:00.424Z"
   },
   {
    "duration": 20,
    "start_time": "2022-01-31T08:56:00.481Z"
   },
   {
    "duration": 19,
    "start_time": "2022-01-31T08:56:00.503Z"
   },
   {
    "duration": 21,
    "start_time": "2022-01-31T08:56:00.549Z"
   },
   {
    "duration": 21,
    "start_time": "2022-01-31T08:56:00.573Z"
   },
   {
    "duration": 57,
    "start_time": "2022-01-31T08:56:00.596Z"
   },
   {
    "duration": 21,
    "start_time": "2022-01-31T08:56:00.655Z"
   },
   {
    "duration": 17,
    "start_time": "2022-01-31T08:56:00.678Z"
   },
   {
    "duration": 60,
    "start_time": "2022-01-31T08:56:00.698Z"
   },
   {
    "duration": 14,
    "start_time": "2022-01-31T08:56:00.761Z"
   },
   {
    "duration": 19,
    "start_time": "2022-01-31T08:56:00.778Z"
   },
   {
    "duration": 950,
    "start_time": "2022-01-31T08:56:00.800Z"
   },
   {
    "duration": 20,
    "start_time": "2022-01-31T08:56:01.753Z"
   },
   {
    "duration": 22,
    "start_time": "2022-01-31T08:56:01.776Z"
   },
   {
    "duration": 8,
    "start_time": "2022-01-31T08:56:01.800Z"
   },
   {
    "duration": 53,
    "start_time": "2022-01-31T08:56:01.810Z"
   },
   {
    "duration": 11,
    "start_time": "2022-01-31T08:56:01.866Z"
   },
   {
    "duration": 32,
    "start_time": "2022-01-31T08:56:01.880Z"
   },
   {
    "duration": 48,
    "start_time": "2022-01-31T08:56:01.916Z"
   },
   {
    "duration": 8,
    "start_time": "2022-01-31T08:56:01.966Z"
   },
   {
    "duration": 5,
    "start_time": "2022-01-31T08:56:01.976Z"
   },
   {
    "duration": 35,
    "start_time": "2022-01-31T08:56:01.983Z"
   },
   {
    "duration": 51,
    "start_time": "2022-01-31T08:56:02.021Z"
   },
   {
    "duration": 27,
    "start_time": "2022-01-31T08:56:02.075Z"
   },
   {
    "duration": 55,
    "start_time": "2022-01-31T08:56:02.105Z"
   },
   {
    "duration": 31,
    "start_time": "2022-01-31T08:56:02.164Z"
   },
   {
    "duration": 5,
    "start_time": "2022-01-31T08:56:02.198Z"
   },
   {
    "duration": 4098,
    "start_time": "2022-01-31T08:56:02.206Z"
   },
   {
    "duration": 42,
    "start_time": "2022-01-31T08:56:06.307Z"
   },
   {
    "duration": 317,
    "start_time": "2022-02-09T15:00:12.045Z"
   },
   {
    "duration": 268,
    "start_time": "2022-02-09T15:00:36.085Z"
   },
   {
    "duration": 835,
    "start_time": "2022-02-09T15:00:41.097Z"
   },
   {
    "duration": 14,
    "start_time": "2022-02-09T15:00:41.935Z"
   },
   {
    "duration": 13,
    "start_time": "2022-02-09T15:00:41.954Z"
   },
   {
    "duration": 18,
    "start_time": "2022-02-09T15:00:41.971Z"
   },
   {
    "duration": 80,
    "start_time": "2022-02-09T15:00:41.991Z"
   },
   {
    "duration": 22,
    "start_time": "2022-02-09T15:00:42.074Z"
   },
   {
    "duration": 48,
    "start_time": "2022-02-09T15:00:42.098Z"
   },
   {
    "duration": 28,
    "start_time": "2022-02-09T15:00:42.149Z"
   },
   {
    "duration": 58,
    "start_time": "2022-02-09T15:00:42.181Z"
   },
   {
    "duration": 8,
    "start_time": "2022-02-09T15:05:17.037Z"
   },
   {
    "duration": 91,
    "start_time": "2022-02-09T15:07:23.403Z"
   },
   {
    "duration": 8,
    "start_time": "2022-02-09T15:08:09.797Z"
   },
   {
    "duration": 19,
    "start_time": "2022-02-09T15:08:18.510Z"
   },
   {
    "duration": 10,
    "start_time": "2022-02-09T15:22:36.285Z"
   },
   {
    "duration": 365,
    "start_time": "2022-02-09T16:01:30.508Z"
   },
   {
    "duration": 258,
    "start_time": "2022-02-09T16:02:02.547Z"
   },
   {
    "duration": 254,
    "start_time": "2022-02-09T16:02:42.716Z"
   },
   {
    "duration": 246,
    "start_time": "2022-02-09T16:04:40.316Z"
   },
   {
    "duration": 25,
    "start_time": "2022-02-09T16:04:51.668Z"
   },
   {
    "duration": 295,
    "start_time": "2022-02-09T16:05:22.844Z"
   },
   {
    "duration": 23,
    "start_time": "2022-02-09T16:05:35.404Z"
   },
   {
    "duration": 364,
    "start_time": "2022-02-09T16:05:50.713Z"
   },
   {
    "duration": 72,
    "start_time": "2022-02-09T16:06:02.397Z"
   },
   {
    "duration": 14,
    "start_time": "2022-02-09T16:06:02.472Z"
   },
   {
    "duration": 16,
    "start_time": "2022-02-09T16:06:02.489Z"
   },
   {
    "duration": 37,
    "start_time": "2022-02-09T16:06:02.508Z"
   },
   {
    "duration": 38,
    "start_time": "2022-02-09T16:06:02.548Z"
   },
   {
    "duration": 49,
    "start_time": "2022-02-09T16:06:02.589Z"
   },
   {
    "duration": 19,
    "start_time": "2022-02-09T16:06:02.640Z"
   },
   {
    "duration": 20,
    "start_time": "2022-02-09T16:06:02.662Z"
   },
   {
    "duration": 57,
    "start_time": "2022-02-09T16:06:02.684Z"
   },
   {
    "duration": 8,
    "start_time": "2022-02-09T16:06:02.743Z"
   },
   {
    "duration": 8,
    "start_time": "2022-02-09T16:06:09.417Z"
   },
   {
    "duration": 10,
    "start_time": "2022-02-09T16:06:12.130Z"
   },
   {
    "duration": 256,
    "start_time": "2022-02-09T16:06:14.328Z"
   },
   {
    "duration": 247,
    "start_time": "2022-02-09T16:06:51.681Z"
   },
   {
    "duration": 845,
    "start_time": "2022-02-09T16:07:07.034Z"
   },
   {
    "duration": 15,
    "start_time": "2022-02-09T16:07:07.882Z"
   },
   {
    "duration": 33,
    "start_time": "2022-02-09T16:07:07.900Z"
   },
   {
    "duration": 15,
    "start_time": "2022-02-09T16:07:07.936Z"
   },
   {
    "duration": 40,
    "start_time": "2022-02-09T16:07:07.954Z"
   },
   {
    "duration": 54,
    "start_time": "2022-02-09T16:07:07.997Z"
   },
   {
    "duration": 20,
    "start_time": "2022-02-09T16:07:08.053Z"
   },
   {
    "duration": 55,
    "start_time": "2022-02-09T16:07:08.076Z"
   },
   {
    "duration": 20,
    "start_time": "2022-02-09T16:07:08.134Z"
   },
   {
    "duration": 8,
    "start_time": "2022-02-09T16:07:08.156Z"
   },
   {
    "duration": 13,
    "start_time": "2022-02-09T16:07:08.166Z"
   },
   {
    "duration": 67,
    "start_time": "2022-02-09T16:07:08.181Z"
   },
   {
    "duration": 20,
    "start_time": "2022-02-09T16:07:08.251Z"
   },
   {
    "duration": 11,
    "start_time": "2022-02-09T16:07:08.273Z"
   },
   {
    "duration": 52,
    "start_time": "2022-02-09T16:07:08.286Z"
   },
   {
    "duration": 26,
    "start_time": "2022-02-09T16:07:08.340Z"
   },
   {
    "duration": 22,
    "start_time": "2022-02-09T16:07:08.369Z"
   },
   {
    "duration": 38,
    "start_time": "2022-02-09T16:07:08.393Z"
   },
   {
    "duration": 951,
    "start_time": "2022-02-09T16:07:08.434Z"
   },
   {
    "duration": 23,
    "start_time": "2022-02-09T16:07:09.388Z"
   },
   {
    "duration": 16,
    "start_time": "2022-02-09T16:07:09.432Z"
   },
   {
    "duration": 7,
    "start_time": "2022-02-09T16:07:09.451Z"
   },
   {
    "duration": 19,
    "start_time": "2022-02-09T16:07:09.463Z"
   },
   {
    "duration": 4,
    "start_time": "2022-02-09T16:07:09.485Z"
   },
   {
    "duration": 56,
    "start_time": "2022-02-09T16:07:09.491Z"
   },
   {
    "duration": 39,
    "start_time": "2022-02-09T16:07:09.550Z"
   },
   {
    "duration": 7,
    "start_time": "2022-02-09T16:07:09.591Z"
   },
   {
    "duration": 8,
    "start_time": "2022-02-09T16:07:09.600Z"
   },
   {
    "duration": 23,
    "start_time": "2022-02-09T16:07:09.633Z"
   },
   {
    "duration": 26,
    "start_time": "2022-02-09T16:07:09.658Z"
   },
   {
    "duration": 48,
    "start_time": "2022-02-09T16:07:09.686Z"
   },
   {
    "duration": 26,
    "start_time": "2022-02-09T16:07:09.736Z"
   },
   {
    "duration": 26,
    "start_time": "2022-02-09T16:07:09.765Z"
   },
   {
    "duration": 38,
    "start_time": "2022-02-09T16:07:09.794Z"
   },
   {
    "duration": 4138,
    "start_time": "2022-02-09T16:07:09.835Z"
   },
   {
    "duration": 29,
    "start_time": "2022-02-09T16:07:13.975Z"
   },
   {
    "duration": 14,
    "start_time": "2022-02-09T16:07:48.553Z"
   },
   {
    "duration": 329,
    "start_time": "2022-02-09T16:08:34.452Z"
   },
   {
    "duration": 13,
    "start_time": "2022-02-09T16:08:49.036Z"
   },
   {
    "duration": 8,
    "start_time": "2022-02-09T16:09:30.191Z"
   },
   {
    "duration": 10,
    "start_time": "2022-02-09T16:09:34.249Z"
   },
   {
    "duration": 6324,
    "start_time": "2022-02-09T16:12:17.533Z"
   },
   {
    "duration": 75,
    "start_time": "2022-02-09T16:12:43.775Z"
   },
   {
    "duration": 22,
    "start_time": "2022-02-09T16:12:43.853Z"
   },
   {
    "duration": 19,
    "start_time": "2022-02-09T16:12:43.878Z"
   },
   {
    "duration": 47,
    "start_time": "2022-02-09T16:12:43.900Z"
   },
   {
    "duration": 45,
    "start_time": "2022-02-09T16:12:43.950Z"
   },
   {
    "duration": 47,
    "start_time": "2022-02-09T16:12:43.998Z"
   },
   {
    "duration": 20,
    "start_time": "2022-02-09T16:12:44.048Z"
   },
   {
    "duration": 61,
    "start_time": "2022-02-09T16:12:44.073Z"
   },
   {
    "duration": 24,
    "start_time": "2022-02-09T16:12:44.137Z"
   },
   {
    "duration": 9,
    "start_time": "2022-02-09T16:12:44.164Z"
   },
   {
    "duration": 56,
    "start_time": "2022-02-09T16:12:44.176Z"
   },
   {
    "duration": 12,
    "start_time": "2022-02-09T16:12:44.235Z"
   },
   {
    "duration": 9,
    "start_time": "2022-02-09T16:12:44.249Z"
   },
   {
    "duration": 27,
    "start_time": "2022-02-09T16:12:44.261Z"
   },
   {
    "duration": 17,
    "start_time": "2022-02-09T16:12:44.290Z"
   },
   {
    "duration": 24,
    "start_time": "2022-02-09T16:12:44.309Z"
   },
   {
    "duration": 21,
    "start_time": "2022-02-09T16:13:00.844Z"
   },
   {
    "duration": 23,
    "start_time": "2022-02-09T16:13:34.973Z"
   },
   {
    "duration": 26,
    "start_time": "2022-02-09T16:13:35.927Z"
   },
   {
    "duration": 23,
    "start_time": "2022-02-09T16:13:36.879Z"
   },
   {
    "duration": 85,
    "start_time": "2022-02-09T17:06:13.142Z"
   },
   {
    "duration": 920,
    "start_time": "2022-02-09T17:55:15.209Z"
   },
   {
    "duration": 16,
    "start_time": "2022-02-09T17:55:16.134Z"
   },
   {
    "duration": 15,
    "start_time": "2022-02-09T17:55:16.167Z"
   },
   {
    "duration": 15,
    "start_time": "2022-02-09T17:55:16.185Z"
   },
   {
    "duration": 68,
    "start_time": "2022-02-09T17:55:16.203Z"
   },
   {
    "duration": 22,
    "start_time": "2022-02-09T17:55:16.273Z"
   },
   {
    "duration": 52,
    "start_time": "2022-02-09T17:55:16.297Z"
   },
   {
    "duration": 21,
    "start_time": "2022-02-09T17:55:16.353Z"
   },
   {
    "duration": 62,
    "start_time": "2022-02-09T17:55:16.378Z"
   },
   {
    "duration": 11,
    "start_time": "2022-02-09T17:55:16.446Z"
   },
   {
    "duration": 16,
    "start_time": "2022-02-09T17:55:16.461Z"
   },
   {
    "duration": 12,
    "start_time": "2022-02-09T17:55:16.480Z"
   },
   {
    "duration": 50,
    "start_time": "2022-02-09T17:55:16.494Z"
   },
   {
    "duration": 16,
    "start_time": "2022-02-09T17:55:16.547Z"
   },
   {
    "duration": 7,
    "start_time": "2022-02-09T17:55:16.566Z"
   },
   {
    "duration": 12,
    "start_time": "2022-02-09T17:55:16.575Z"
   },
   {
    "duration": 60,
    "start_time": "2022-02-09T17:55:16.589Z"
   },
   {
    "duration": 27,
    "start_time": "2022-02-09T17:55:16.651Z"
   },
   {
    "duration": 52,
    "start_time": "2022-02-09T17:55:16.680Z"
   },
   {
    "duration": 23,
    "start_time": "2022-02-09T17:55:16.735Z"
   },
   {
    "duration": 9,
    "start_time": "2022-02-09T17:55:16.761Z"
   },
   {
    "duration": 1369,
    "start_time": "2022-02-09T17:55:16.773Z"
   },
   {
    "duration": 23,
    "start_time": "2022-02-09T17:55:18.151Z"
   },
   {
    "duration": 22,
    "start_time": "2022-02-09T17:55:18.178Z"
   },
   {
    "duration": 43,
    "start_time": "2022-02-09T17:55:18.203Z"
   },
   {
    "duration": 17,
    "start_time": "2022-02-09T17:55:18.249Z"
   },
   {
    "duration": 5,
    "start_time": "2022-02-09T17:55:18.269Z"
   },
   {
    "duration": 67,
    "start_time": "2022-02-09T17:55:18.277Z"
   },
   {
    "duration": 10,
    "start_time": "2022-02-09T17:55:18.347Z"
   },
   {
    "duration": 8,
    "start_time": "2022-02-09T17:55:18.360Z"
   },
   {
    "duration": 67,
    "start_time": "2022-02-09T17:55:18.370Z"
   },
   {
    "duration": 31,
    "start_time": "2022-02-09T17:55:18.440Z"
   },
   {
    "duration": 27,
    "start_time": "2022-02-09T17:55:18.473Z"
   },
   {
    "duration": 6,
    "start_time": "2022-02-09T17:55:18.531Z"
   },
   {
    "duration": 4635,
    "start_time": "2022-02-09T17:55:18.541Z"
   },
   {
    "duration": 53,
    "start_time": "2022-02-09T17:55:23.179Z"
   },
   {
    "duration": 31,
    "start_time": "2022-02-09T17:55:23.235Z"
   },
   {
    "duration": 25,
    "start_time": "2022-02-09T17:55:23.269Z"
   },
   {
    "duration": 61,
    "start_time": "2022-02-09T17:55:23.296Z"
   },
   {
    "duration": 870,
    "start_time": "2022-02-09T18:17:53.729Z"
   },
   {
    "duration": 15,
    "start_time": "2022-02-09T18:17:54.602Z"
   },
   {
    "duration": 15,
    "start_time": "2022-02-09T18:17:54.632Z"
   },
   {
    "duration": 24,
    "start_time": "2022-02-09T18:17:54.652Z"
   },
   {
    "duration": 82,
    "start_time": "2022-02-09T18:17:54.679Z"
   },
   {
    "duration": 22,
    "start_time": "2022-02-09T18:17:54.764Z"
   },
   {
    "duration": 54,
    "start_time": "2022-02-09T18:17:54.789Z"
   },
   {
    "duration": 23,
    "start_time": "2022-02-09T18:17:54.849Z"
   },
   {
    "duration": 58,
    "start_time": "2022-02-09T18:17:54.876Z"
   },
   {
    "duration": 9,
    "start_time": "2022-02-09T18:17:54.936Z"
   },
   {
    "duration": 11,
    "start_time": "2022-02-09T18:17:54.947Z"
   },
   {
    "duration": 12,
    "start_time": "2022-02-09T18:17:54.960Z"
   },
   {
    "duration": 10,
    "start_time": "2022-02-09T18:17:54.975Z"
   },
   {
    "duration": 51,
    "start_time": "2022-02-09T18:17:54.988Z"
   },
   {
    "duration": 9,
    "start_time": "2022-02-09T18:17:55.042Z"
   },
   {
    "duration": 19,
    "start_time": "2022-02-09T18:17:55.053Z"
   },
   {
    "duration": 63,
    "start_time": "2022-02-09T18:17:55.075Z"
   },
   {
    "duration": 24,
    "start_time": "2022-02-09T18:17:55.141Z"
   },
   {
    "duration": 27,
    "start_time": "2022-02-09T18:17:55.167Z"
   },
   {
    "duration": 52,
    "start_time": "2022-02-09T18:17:55.196Z"
   },
   {
    "duration": 11,
    "start_time": "2022-02-09T18:17:55.252Z"
   },
   {
    "duration": 1417,
    "start_time": "2022-02-09T18:17:55.266Z"
   },
   {
    "duration": 20,
    "start_time": "2022-02-09T18:17:56.688Z"
   },
   {
    "duration": 16,
    "start_time": "2022-02-09T18:17:56.731Z"
   },
   {
    "duration": 7,
    "start_time": "2022-02-09T18:17:56.749Z"
   },
   {
    "duration": 14,
    "start_time": "2022-02-09T18:17:56.759Z"
   },
   {
    "duration": 4,
    "start_time": "2022-02-09T18:17:56.775Z"
   },
   {
    "duration": 62,
    "start_time": "2022-02-09T18:17:56.781Z"
   },
   {
    "duration": 11,
    "start_time": "2022-02-09T18:17:56.846Z"
   },
   {
    "duration": 6,
    "start_time": "2022-02-09T18:17:56.860Z"
   },
   {
    "duration": 29,
    "start_time": "2022-02-09T18:17:56.869Z"
   },
   {
    "duration": 94,
    "start_time": "2022-02-09T18:21:59.765Z"
   },
   {
    "duration": 865,
    "start_time": "2022-02-09T18:22:21.624Z"
   },
   {
    "duration": 16,
    "start_time": "2022-02-09T18:22:22.493Z"
   },
   {
    "duration": 33,
    "start_time": "2022-02-09T18:22:22.513Z"
   },
   {
    "duration": 21,
    "start_time": "2022-02-09T18:22:22.551Z"
   },
   {
    "duration": 73,
    "start_time": "2022-02-09T18:22:22.574Z"
   },
   {
    "duration": 21,
    "start_time": "2022-02-09T18:22:22.651Z"
   },
   {
    "duration": 18,
    "start_time": "2022-02-09T18:22:22.675Z"
   },
   {
    "duration": 60,
    "start_time": "2022-02-09T18:22:22.697Z"
   },
   {
    "duration": 19,
    "start_time": "2022-02-09T18:22:22.760Z"
   },
   {
    "duration": 8,
    "start_time": "2022-02-09T18:22:22.781Z"
   },
   {
    "duration": 17,
    "start_time": "2022-02-09T18:22:22.831Z"
   },
   {
    "duration": 17,
    "start_time": "2022-02-09T18:22:22.850Z"
   },
   {
    "duration": 10,
    "start_time": "2022-02-09T18:22:22.870Z"
   },
   {
    "duration": 23,
    "start_time": "2022-02-09T18:22:22.882Z"
   },
   {
    "duration": 25,
    "start_time": "2022-02-09T18:22:22.907Z"
   },
   {
    "duration": 9,
    "start_time": "2022-02-09T18:22:22.936Z"
   },
   {
    "duration": 31,
    "start_time": "2022-02-09T18:22:22.948Z"
   },
   {
    "duration": 24,
    "start_time": "2022-02-09T18:22:22.981Z"
   },
   {
    "duration": 58,
    "start_time": "2022-02-09T18:22:23.008Z"
   },
   {
    "duration": 25,
    "start_time": "2022-02-09T18:22:23.069Z"
   },
   {
    "duration": 38,
    "start_time": "2022-02-09T18:22:23.097Z"
   },
   {
    "duration": 1019,
    "start_time": "2022-02-09T18:22:23.138Z"
   },
   {
    "duration": 20,
    "start_time": "2022-02-09T18:22:24.164Z"
   },
   {
    "duration": 49,
    "start_time": "2022-02-09T18:22:24.187Z"
   },
   {
    "duration": 9,
    "start_time": "2022-02-09T18:22:24.240Z"
   },
   {
    "duration": 18,
    "start_time": "2022-02-09T18:22:24.253Z"
   },
   {
    "duration": 5,
    "start_time": "2022-02-09T18:22:24.274Z"
   },
   {
    "duration": 60,
    "start_time": "2022-02-09T18:22:24.282Z"
   },
   {
    "duration": 8,
    "start_time": "2022-02-09T18:22:24.346Z"
   },
   {
    "duration": 5,
    "start_time": "2022-02-09T18:22:24.356Z"
   },
   {
    "duration": 73,
    "start_time": "2022-02-09T18:22:24.363Z"
   },
   {
    "duration": 30,
    "start_time": "2022-02-09T18:22:24.439Z"
   },
   {
    "duration": 60,
    "start_time": "2022-02-09T18:22:24.472Z"
   },
   {
    "duration": 5,
    "start_time": "2022-02-09T18:22:24.534Z"
   },
   {
    "duration": 4428,
    "start_time": "2022-02-09T18:22:24.541Z"
   },
   {
    "duration": 35,
    "start_time": "2022-02-09T18:22:28.972Z"
   },
   {
    "duration": 35,
    "start_time": "2022-02-09T18:22:29.010Z"
   },
   {
    "duration": 22,
    "start_time": "2022-02-09T18:22:29.047Z"
   },
   {
    "duration": 25,
    "start_time": "2022-02-09T18:22:29.071Z"
   },
   {
    "duration": 519,
    "start_time": "2022-09-08T09:25:42.718Z"
   },
   {
    "duration": 13,
    "start_time": "2022-09-08T09:25:43.238Z"
   },
   {
    "duration": 12,
    "start_time": "2022-09-08T09:25:43.252Z"
   },
   {
    "duration": 9,
    "start_time": "2022-09-08T09:25:43.265Z"
   },
   {
    "duration": 19,
    "start_time": "2022-09-08T09:25:43.276Z"
   },
   {
    "duration": 20,
    "start_time": "2022-09-08T09:25:43.297Z"
   },
   {
    "duration": 16,
    "start_time": "2022-09-08T09:25:43.318Z"
   },
   {
    "duration": 10,
    "start_time": "2022-09-08T09:25:43.336Z"
   },
   {
    "duration": 12,
    "start_time": "2022-09-08T09:25:43.347Z"
   },
   {
    "duration": 4,
    "start_time": "2022-09-08T09:25:43.361Z"
   },
   {
    "duration": 11,
    "start_time": "2022-09-08T09:25:43.366Z"
   },
   {
    "duration": 36,
    "start_time": "2022-09-08T09:25:43.378Z"
   },
   {
    "duration": 5,
    "start_time": "2022-09-08T09:25:43.416Z"
   },
   {
    "duration": 15,
    "start_time": "2022-09-08T09:25:43.423Z"
   },
   {
    "duration": 5,
    "start_time": "2022-09-08T09:25:43.440Z"
   },
   {
    "duration": 7,
    "start_time": "2022-09-08T09:25:43.447Z"
   },
   {
    "duration": 14,
    "start_time": "2022-09-08T09:25:43.455Z"
   },
   {
    "duration": 14,
    "start_time": "2022-09-08T09:25:43.471Z"
   },
   {
    "duration": 31,
    "start_time": "2022-09-08T09:25:43.486Z"
   },
   {
    "duration": 18,
    "start_time": "2022-09-08T09:25:43.519Z"
   },
   {
    "duration": 6,
    "start_time": "2022-09-08T09:25:43.539Z"
   },
   {
    "duration": 946,
    "start_time": "2022-09-08T09:25:43.546Z"
   },
   {
    "duration": 15,
    "start_time": "2022-09-08T09:25:44.494Z"
   },
   {
    "duration": 12,
    "start_time": "2022-09-08T09:25:44.510Z"
   },
   {
    "duration": 14,
    "start_time": "2022-09-08T09:25:44.524Z"
   },
   {
    "duration": 7,
    "start_time": "2022-09-08T09:25:44.539Z"
   },
   {
    "duration": 4,
    "start_time": "2022-09-08T09:25:44.548Z"
   },
   {
    "duration": 15,
    "start_time": "2022-09-08T09:25:44.554Z"
   },
   {
    "duration": 7,
    "start_time": "2022-09-08T09:25:44.570Z"
   },
   {
    "duration": 2,
    "start_time": "2022-09-08T09:25:44.578Z"
   },
   {
    "duration": 28,
    "start_time": "2022-09-08T09:25:44.582Z"
   },
   {
    "duration": 12,
    "start_time": "2022-09-08T09:25:44.612Z"
   },
   {
    "duration": 15,
    "start_time": "2022-09-08T09:25:44.626Z"
   },
   {
    "duration": 3,
    "start_time": "2022-09-08T09:25:44.642Z"
   },
   {
    "duration": 2654,
    "start_time": "2022-09-08T09:25:44.646Z"
   },
   {
    "duration": 25,
    "start_time": "2022-09-08T09:25:47.306Z"
   },
   {
    "duration": 12,
    "start_time": "2022-09-08T09:25:47.332Z"
   },
   {
    "duration": 11,
    "start_time": "2022-09-08T09:25:47.346Z"
   },
   {
    "duration": 15,
    "start_time": "2022-09-08T09:25:47.359Z"
   }
  ],
  "kernelspec": {
   "display_name": "Python 3 (ipykernel)",
   "language": "python",
   "name": "python3"
  },
  "language_info": {
   "codemirror_mode": {
    "name": "ipython",
    "version": 3
   },
   "file_extension": ".py",
   "mimetype": "text/x-python",
   "name": "python",
   "nbconvert_exporter": "python",
   "pygments_lexer": "ipython3",
   "version": "3.9.5"
  },
  "toc": {
   "base_numbering": 1,
   "nav_menu": {},
   "number_sections": true,
   "sideBar": true,
   "skip_h1_title": true,
   "title_cell": "Table of Contents",
   "title_sidebar": "Contents",
   "toc_cell": false,
   "toc_position": {
    "height": "calc(100% - 180px)",
    "left": "10px",
    "top": "150px",
    "width": "179.625px"
   },
   "toc_section_display": true,
   "toc_window_display": false
  }
 },
 "nbformat": 4,
 "nbformat_minor": 2
}
