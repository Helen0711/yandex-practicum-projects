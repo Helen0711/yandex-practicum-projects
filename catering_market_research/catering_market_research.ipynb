{
 "cells": [
  {
   "cell_type": "markdown",
   "metadata": {},
   "source": [
    "# Проект \"Исследование рынка заведений общественного питания Москвы\""
   ]
  },
  {
   "cell_type": "markdown",
   "metadata": {},
   "source": [
    "1. [Описание проекта](#start)\n",
    "2. [Изучение общей информации](#info)\n",
    "3. [Предобработка данных](#preprocessing)\n",
    "4. [Анализ данных](#analize)\n",
    "5. [Общий вывод](#conclusion)    "
   ]
  },
  {
   "cell_type": "markdown",
   "metadata": {},
   "source": [
    "<a id=\"start\"></a>\n",
    "## Описание проекта"
   ]
  },
  {
   "cell_type": "markdown",
   "metadata": {},
   "source": [
    "Вы решили открыть небольшое кафе в Москве. Оно оригинальное — гостей должны обслуживать роботы. Проект многообещающий, но дорогой. Вместе с партнёрами вы решились обратиться к инвесторам. Их интересует текущее положение дел на рынке — сможете ли вы снискать популярность на долгое время, когда все зеваки насмотрятся на роботов-официантов? У вас есть открытые данные о заведениях общественного питания в Москве.\\\n",
    "**Цель проекта**: провести исследование рынка заведений общественного питания в Москве.\n",
    "\n",
    "Для достижения цели нужно решить следующие **задачи**:\n",
    "- изучить общую информацию и подготовить их к анализу;\n",
    "- проанализировать данные, построить необходимые таблицы и графики;\n",
    "- сделать на основе данных общий вывод и дать рекомендации;\n",
    "- подготовить презентацию исследования для инвесторов."
   ]
  },
  {
   "cell_type": "markdown",
   "metadata": {},
   "source": [
    "<a id=\"info\"></a>\n",
    "## Изучение общей информации"
   ]
  },
  {
   "cell_type": "code",
   "execution_count": 1,
   "metadata": {},
   "outputs": [],
   "source": [
    "# Импортируем необходимые библиотеки\n",
    "import pandas as pd\n",
    "from datetime import datetime, timedelta\n",
    "import numpy as np\n",
    "import math\n",
    "import matplotlib.pyplot as plt\n",
    "from plotly import graph_objects as go\n",
    "import seaborn as sns\n",
    "%matplotlib inline\n",
    "import warnings\n",
    "warnings.filterwarnings(\"ignore\")"
   ]
  },
  {
   "cell_type": "markdown",
   "metadata": {},
   "source": [
    "Посмотрим на данные."
   ]
  },
  {
   "cell_type": "code",
   "execution_count": 2,
   "metadata": {
    "scrolled": true
   },
   "outputs": [
    {
     "data": {
      "text/html": [
       "<div>\n",
       "<style scoped>\n",
       "    .dataframe tbody tr th:only-of-type {\n",
       "        vertical-align: middle;\n",
       "    }\n",
       "\n",
       "    .dataframe tbody tr th {\n",
       "        vertical-align: top;\n",
       "    }\n",
       "\n",
       "    .dataframe thead th {\n",
       "        text-align: right;\n",
       "    }\n",
       "</style>\n",
       "<table border=\"1\" class=\"dataframe\">\n",
       "  <thead>\n",
       "    <tr style=\"text-align: right;\">\n",
       "      <th></th>\n",
       "      <th>id</th>\n",
       "      <th>object_name</th>\n",
       "      <th>chain</th>\n",
       "      <th>object_type</th>\n",
       "      <th>address</th>\n",
       "      <th>number</th>\n",
       "    </tr>\n",
       "  </thead>\n",
       "  <tbody>\n",
       "    <tr>\n",
       "      <th>0</th>\n",
       "      <td>151635</td>\n",
       "      <td>СМЕТАНА</td>\n",
       "      <td>нет</td>\n",
       "      <td>кафе</td>\n",
       "      <td>город Москва, улица Егора Абакумова, дом 9</td>\n",
       "      <td>48</td>\n",
       "    </tr>\n",
       "    <tr>\n",
       "      <th>1</th>\n",
       "      <td>77874</td>\n",
       "      <td>Родник</td>\n",
       "      <td>нет</td>\n",
       "      <td>кафе</td>\n",
       "      <td>город Москва, улица Талалихина, дом 2/1, корпус 1</td>\n",
       "      <td>35</td>\n",
       "    </tr>\n",
       "    <tr>\n",
       "      <th>2</th>\n",
       "      <td>24309</td>\n",
       "      <td>Кафе «Академия»</td>\n",
       "      <td>нет</td>\n",
       "      <td>кафе</td>\n",
       "      <td>город Москва, Абельмановская улица, дом 6</td>\n",
       "      <td>95</td>\n",
       "    </tr>\n",
       "    <tr>\n",
       "      <th>3</th>\n",
       "      <td>21894</td>\n",
       "      <td>ПИЦЦЕТОРИЯ</td>\n",
       "      <td>да</td>\n",
       "      <td>кафе</td>\n",
       "      <td>город Москва, Абрамцевская улица, дом 1</td>\n",
       "      <td>40</td>\n",
       "    </tr>\n",
       "    <tr>\n",
       "      <th>4</th>\n",
       "      <td>119365</td>\n",
       "      <td>Кафе «Вишневая метель»</td>\n",
       "      <td>нет</td>\n",
       "      <td>кафе</td>\n",
       "      <td>город Москва, Абрамцевская улица, дом 9, корпус 1</td>\n",
       "      <td>50</td>\n",
       "    </tr>\n",
       "  </tbody>\n",
       "</table>\n",
       "</div>"
      ],
      "text/plain": [
       "       id             object_name chain object_type  \\\n",
       "0  151635                 СМЕТАНА   нет        кафе   \n",
       "1   77874                  Родник   нет        кафе   \n",
       "2   24309         Кафе «Академия»   нет        кафе   \n",
       "3   21894              ПИЦЦЕТОРИЯ    да        кафе   \n",
       "4  119365  Кафе «Вишневая метель»   нет        кафе   \n",
       "\n",
       "                                             address  number  \n",
       "0         город Москва, улица Егора Абакумова, дом 9      48  \n",
       "1  город Москва, улица Талалихина, дом 2/1, корпус 1      35  \n",
       "2          город Москва, Абельмановская улица, дом 6      95  \n",
       "3            город Москва, Абрамцевская улица, дом 1      40  \n",
       "4  город Москва, Абрамцевская улица, дом 9, корпус 1      50  "
      ]
     },
     "execution_count": 2,
     "metadata": {},
     "output_type": "execute_result"
    }
   ],
   "source": [
    "data = pd.read_csv('/datasets/rest_data.csv')\n",
    "data.head()"
   ]
  },
  {
   "cell_type": "code",
   "execution_count": 3,
   "metadata": {},
   "outputs": [
    {
     "name": "stdout",
     "output_type": "stream",
     "text": [
      "<class 'pandas.core.frame.DataFrame'>\n",
      "RangeIndex: 15366 entries, 0 to 15365\n",
      "Data columns (total 6 columns):\n",
      " #   Column       Non-Null Count  Dtype \n",
      "---  ------       --------------  ----- \n",
      " 0   id           15366 non-null  int64 \n",
      " 1   object_name  15366 non-null  object\n",
      " 2   chain        15366 non-null  object\n",
      " 3   object_type  15366 non-null  object\n",
      " 4   address      15366 non-null  object\n",
      " 5   number       15366 non-null  int64 \n",
      "dtypes: int64(2), object(4)\n",
      "memory usage: 720.4+ KB\n"
     ]
    }
   ],
   "source": [
    "data.info()"
   ]
  },
  {
   "cell_type": "markdown",
   "metadata": {},
   "source": [
    "**Вывод**\n",
    "\n",
    "Итак, у нас есть таблица **rest_data** с данными по заведениям общественного питания в городе Москве. В таблице 6 столбцов и 15366 строк.Пропусков нет.\\\n",
    "Ее колонки:\n",
    "- `id` — идентификатор объекта (тип **int64**)\n",
    "- `object_name` — название объекта общественного питания (тип **object**)\n",
    "- `chain` — сетевой ресторан (тип **object**)\n",
    "- `object_type` — тип объекта общественного питания (тип **object**)\n",
    "- `address` — адрес (тип **object**) \n",
    "- `number` — количество посадочных мест (тип **int64**).\n"
   ]
  },
  {
   "cell_type": "markdown",
   "metadata": {},
   "source": [
    "<a id=\"preprocessing\"></a>\n",
    "## Предобработка данных"
   ]
  },
  {
   "cell_type": "markdown",
   "metadata": {},
   "source": [
    "Проверим на явные дубликаты."
   ]
  },
  {
   "cell_type": "code",
   "execution_count": 4,
   "metadata": {},
   "outputs": [
    {
     "data": {
      "text/plain": [
       "0"
      ]
     },
     "execution_count": 4,
     "metadata": {},
     "output_type": "execute_result"
    }
   ],
   "source": [
    "data.duplicated().sum()"
   ]
  },
  {
   "cell_type": "markdown",
   "metadata": {},
   "source": [
    "Явных дубликатов нет. Посмотрим еще на значения в столбцах **chain** и **object_type**."
   ]
  },
  {
   "cell_type": "code",
   "execution_count": 5,
   "metadata": {},
   "outputs": [
    {
     "data": {
      "text/plain": [
       "array(['нет', 'да'], dtype=object)"
      ]
     },
     "execution_count": 5,
     "metadata": {},
     "output_type": "execute_result"
    }
   ],
   "source": [
    "data['chain'].unique()"
   ]
  },
  {
   "cell_type": "code",
   "execution_count": 6,
   "metadata": {
    "scrolled": true
   },
   "outputs": [
    {
     "data": {
      "text/plain": [
       "array(['кафе', 'столовая', 'закусочная',\n",
       "       'предприятие быстрого обслуживания', 'ресторан', 'кафетерий',\n",
       "       'буфет', 'бар', 'магазин (отдел кулинарии)'], dtype=object)"
      ]
     },
     "execution_count": 6,
     "metadata": {},
     "output_type": "execute_result"
    }
   ],
   "source": [
    "data['object_type'].unique()"
   ]
  },
  {
   "cell_type": "code",
   "execution_count": 7,
   "metadata": {
    "scrolled": true
   },
   "outputs": [
    {
     "data": {
      "text/plain": [
       "array(['ПИЦЦЕТОРИЯ', 'Брусника', 'Алло Пицца', 'Суши Wok', 'Тануки',\n",
       "       \"Домино'с Пицца\", 'Готика', 'Му-Му', 'Хлеб насущный', 'TAJJ MAHAL',\n",
       "       'ДАНКИН ДОНАТС', 'Вареничная №1', 'ШОКОЛАДНИЦА', 'Теремок',\n",
       "       'Хинкальная', 'Шантимель', 'ТАНУКИ', 'Шоколадница', 'МУ-МУ',\n",
       "       'Хинкальная City', 'КРУЖКА', 'СУШИ ВОК', 'ПРИМАВЕРА', 'Виктория',\n",
       "       'Пиццерия «АКАДЕМИЯ»', 'Чебуречная СССР', 'МАКДОНАЛДС',\n",
       "       'Grand Cru', 'Чайхона №1', 'Панчо Пицца', 'KFC', 'Сабвей',\n",
       "       'ресторан «Якитория»', 'Советские времена', 'Кафе «Андерсон»',\n",
       "       'Кафе «Subway»', 'Ресторан «Макдоналдс»', 'Суши Сет', 'Суши WoK',\n",
       "       'Шоколад', 'Тирольские пироги', 'Гамбринус', 'Пицца Фабрика',\n",
       "       'Subway', 'Кафе «Якитория»', 'Кафе «Тануки»', 'Сити Пицца',\n",
       "       'Кружка', 'Кофе Хаус',\n",
       "       'Кулинарная Лавка Братьев Караваевых Братья Караваевы', 'Суши Вок',\n",
       "       'Прайм', 'Пицца Экспресс', 'Шоколадница Кофе Хаус', 'Николай',\n",
       "       'Якитория', 'МАГНОЛИЯ', 'КОФЕ С СОБОЙ', 'Джаганнат', 'Волконский',\n",
       "       'MosKalyan', 'Гино-но-таки', 'Макдоналдс', 'Тратория Semplice',\n",
       "       'Ньокки', 'Хижина', 'Додо Пицца', 'Крошка Картошка', 'Бургер Кинг',\n",
       "       'Суши WOK', 'Папа Джонс', 'Кондитерская Волконский',\n",
       "       'Бар- буфет «Николай»', 'Ресторан «Тануки»', 'Две палочки',\n",
       "       'Джон Джоли', 'Ваби-Саби', 'Кофемания', 'Простые Вещи',\n",
       "       'Павлин-Мавлин', 'Кафе «Чайхана Тапчан»', 'Штолле', 'Суши сет',\n",
       "       'Кофе с собой', 'Бабай Клаб', 'Андерсон', 'КОФЕМАНИЯ',\n",
       "       'КОФЕ ХАУС. ЭКСПРЕССО И КАПУЧИНО БАР', 'КАКТУС', 'Темпл бар',\n",
       "       'Хлеб&Co', 'Кофе-Бин', 'Французская выпечка',\n",
       "       'Кофейня «Кофе Хаус»', 'Планета Суши', 'Де Марко',\n",
       "       'Ресторан «Илья Муромец»', 'Ресторан «Корчма Тарас Бульба»',\n",
       "       'Кофейня «Шоколадница»', 'Стейк Хаус ГУДМАН', 'ИЛЬ ПАТИО',\n",
       "       'Иль-патио', 'ЯКИТОРИЯ', 'Мюнгер', 'БОТИК ПЕТРА',\n",
       "       'кафе «Папа Джонс»', 'Кафе «Штолле»', 'Чин Чин', 'ПРАВDА Кофе',\n",
       "       'Сити', 'Krispy Creme', 'Prime Прайм стар', 'Азбука Вкуса',\n",
       "       'Ресторан «Якитория»', 'КАФЕ «ШТОЛЛЕ»', 'РЕСТОРАН «ДЖОН ДЖОЛИ»',\n",
       "       'Ресторан «ТАНУКИ»', 'КОФЕ ХАУС', 'РЕСТОРАН «Тануки»', 'ПИВКО',\n",
       "       'Додо пицца', 'Пиццерия «Папа Джонс»', 'Ресторан «Брудер»',\n",
       "       'ПРАЙМ', 'ДЖОН ДЖОЛИ', 'Мимино', 'Кофепорт',\n",
       "       'Кафе «Пицца Фабрика»', 'Прайм стар', 'Цинандали Хинкальная',\n",
       "       'Иль Форно', 'Travelers Coffee', 'Рецептор', 'СушиШоп',\n",
       "       'Кофе-Хаус', 'Баскин Роббинс', 'Барашка', 'КОРЧМА «ТАРАС БУЛЬБА»',\n",
       "       'Кафе «Шоколадница»', 'Пицца Хат', 'Мята Lounge', 'Costa Coffee',\n",
       "       'Илья Муромец', 'Ёрш', 'СтардогS', 'КОРЧМА ТАРАС БУЛЬБА',\n",
       "       'UPSIDE DOWN CAKE', 'Кафе Пекарня Хачапури',\n",
       "       'Домашнее Кафе сеть городских кафе', 'Ресторан Тануки',\n",
       "       'Бар-буфет Николай', 'Добрынинский и партнёры',\n",
       "       'КОФЕЙНЯ «ДЕ МАРКО»', 'Менза', 'Тапчан', 'Колбасофф',\n",
       "       'Крепери де пари', \"Домино'с пицца\", 'БРАВА Коста кофе',\n",
       "       'Старбакс Starbucks', 'АндерСон', 'Венеция', 'Жан Жак', 'Гурмания',\n",
       "       'Кулинарная лавка братьев Караваевых', 'Кафе «Тапчан»',\n",
       "       'Ресторан «Ньокки»', 'Bierloga', 'Штирбирлиц', 'Маки-Маки',\n",
       "       'ХАЧАПУРИ', 'В&В Бургер', 'Прайм Стар', 'Jeffreys coffee',\n",
       "       'Travelers Coffe', 'АКАДЕМИЯ', 'Дабл Би', 'Иль Патио',\n",
       "       'ЗОЛОТАЯ ВОБЛА', 'ТЕРЕМОК', 'Корчма Тарас Бульба', 'АЛЛО ПИЦЦА',\n",
       "       'ПИЛЗНЕР', 'Траттория Примавера', 'ПРАЙМкафе Прайм стар',\n",
       "       \"Пиццерия «Домино'с Пицца»\", 'Кафе «Суши Сет»', 'Коста Кофе',\n",
       "       'СУШИ WOK', 'РЕСТОРАН «ТАНУКИ»', 'Перекресток', 'Starbucks',\n",
       "       'Руккола', 'Иль Патио Планета Суши', 'Кафе «Starbucks»',\n",
       "       'Шантимель (кондитерские)', 'Милано пицца',\n",
       "       'Ресторан «Джон Джоли»', 'Зодиак', 'Ресторан «Ёрш»', 'Торро Гриль',\n",
       "       'ФИТНЕС-БАР «WORLD CLASS»', 'Роллофф', 'Кафе «Кулинарное бюро»',\n",
       "       'БУРГЕР КИНГ', 'Билла', 'УРЮК', 'Темпл Бар', 'Кофейня «Старбакс»',\n",
       "       'Кафе «Кружка»', 'Пицца экспресс', 'Tokyo bay',\n",
       "       'Пиццерия «ПАПА ДЖОНС»', 'КУЛИНАРНОЕ БЮРО', 'Пиппони',\n",
       "       'Пицца Пипони', 'Золотая вобла', 'ДЕТСКОЕ КАФЕ «АНДЕРСОН»',\n",
       "       'Кулинарное бюро', 'КАФЕ «Хлеб насущный»', 'ПИЦЦЕРИЯ «Папа Джонс»',\n",
       "       'КАФЕ «Андерсон»', 'Кулинарное бюро Китчен', 'Сытая Утка',\n",
       "       'Икура Паб', 'Сварня', 'Пиццетория', 'ДЕТСКИЙ КЛУБ «АНДЕРСОН»',\n",
       "       'Пиццерия Пиу дель Чибо',\n",
       "       'Предприятие быстрого обслуживания «Бургер Кинг»',\n",
       "       'Предприятие быстрого обслуживания «Крошка Картошка»',\n",
       "       'Предприятие быстрого обслуживания «Макдоналдс»',\n",
       "       'Предприятие быстрого обслуживания «Теремок»', 'Ичибан Боши',\n",
       "       'Макс Бреннер', 'Бутчер Бизон', 'Магбургер АЗС №16',\n",
       "       'Магазин-кулинария «Суши Сет»', 'Магбургер АЗС №17',\n",
       "       'Кондитерская-пекарня Волконский', 'Му-му', 'IL Forno Иль Форно',\n",
       "       'Хлеб Насущный', 'Кафе «Prime» Прайм стар', 'То Да Сё',\n",
       "       'Пицца Pomodoro', 'Бургер Кинг Burger King',\n",
       "       'Чешская пивная «Козловица»', 'Ресторан Джон Джоли',\n",
       "       'Простые вещи', 'Грабли', 'VietCafe Вьеткафе', 'Оникс',\n",
       "       'Пицца Pomodoro и Суши Дзен', 'Вьеткафе', 'Да Пино',\n",
       "       'Старина Миллер', 'Кафе Рецептор', 'Якитория и Ян Примус',\n",
       "       'СТАРИНА МЮЛЛЕР Старина Миллер', 'Кафе Кофемания', 'Хинкальная №1',\n",
       "       'Пронто', 'Пицца «Паоло»', 'Лепешка', 'Чешская пивная «Пилзнер»',\n",
       "       'ПИРОГИ ШТОЛЛЕ', 'Крепери де Пари', 'Гурман', 'ТЕРРИТОРИЯ ЯСЕНЕВО',\n",
       "       'Сабвей СушиВок', 'Городские автокофейни', 'ВГости. Урюк',\n",
       "       'Порто Мальтезе', 'Мимино Хинкальная', 'Квартира 44',\n",
       "       'Хинкальная КИНТО', 'КОЛБАСОФФ', 'Урюк',\n",
       "       'Американ Сити Пицца ЦЕХ ПО ИЗГОТОВЛЕНИЮ ПИЦЦЫ',\n",
       "       'РЕСТОРАН «Чайхона №1»', 'БАР Азбука Вкуса', 'КАФЕ «Шоколадница»',\n",
       "       'Суп Кафе', 'Ресторан «Florentini»', 'Upside Down Cake',\n",
       "       'Поль Бейкери', 'кафе «Шоколадница»', 'Кафе «Му-Му»',\n",
       "       'GlowSubs Sandwiches', 'Ми Пьяче', 'Кафе «Хинкальная»',\n",
       "       'Закусочная «СушиШоп»', 'Ресторан «Территория»', 'Кафе «KFC»',\n",
       "       'Кафе «Пицца Хат»', 'Пиццерия Донателло',\n",
       "       'Закусочная «Американ Сити Пицца»',\n",
       "       'Предприятие быстрого обслуживания «СушиШоп»',\n",
       "       'Кафе «PRIME» Прайм стар', 'Нияма Пицца Пи', 'Кафе «Ваби-Саби»',\n",
       "       'Кафе «Марукамэ»', 'Кафе Чайхона №1', 'Бир хаус', 'САБВЕЙ',\n",
       "       'Хачапури', 'СПБ', 'Кебаб хаус', 'Прайм-кафе', 'PAUL Поль',\n",
       "       'ВЕНЕЦИЯ', 'ШАШЛЫК-МАШЛЫК', 'ГЕНАЦВАЛИ', 'Территория TIMBIGFAMILY',\n",
       "       'Территория', 'Да Пино (Da Pino)',\n",
       "       'Кулинарная лавка братьев Караваевых Братья Караваевы',\n",
       "       'Ресторан «Золотая Вобла»', 'Кафе PRIME Прайм стар',\n",
       "       'Граци рагацци Зю Кафе', 'Виват-Пицца', 'Ресторан «Вьеткафе»',\n",
       "       'Пироговая Штолле', 'Сабвей Subway', 'Starlite Diner',\n",
       "       'Прайм-кафе Прайм стар', 'ресторан «Брудер»', 'Старбакс', 'ПРОНТО',\n",
       "       'РЕСТОРАН «УРЮК»', 'Krispy Krem', 'ГРАБЛИ', 'Кофе Хаус,Экспресс',\n",
       "       'Ростикс KFC', 'Ресторан «ИЛЬ ПАТИО»', 'Ресторан Маки-Маки',\n",
       "       'КАФЕ «МУ-МУ»', 'Кофейня Шоколадница', 'Кафе Пронто',\n",
       "       'Кафе Якитория', 'Кофетун', 'ТАШИР ПИЦЦА', 'Ресторан Хинкальная',\n",
       "       'Закусочная KFC', 'Елки-Палки', 'Кофейня ШОКОЛАДНИЦА',\n",
       "       'Кафе КОФЕ ТУН', 'Метро К&К', 'Тамаси Суши', 'Burger Club',\n",
       "       'ФАНТОЦЦИ РУС', 'КАФЕ «ЯКИТОРИЯ»', 'Кафе «Урюк» Хивинская чайхона',\n",
       "       'Ресторан «Пронто»', 'Изба', 'Воккер', 'Нияма', 'Ганс и Марта',\n",
       "       'Кафе «Поль Бейкери»', 'Кафе «Сабвей» Старбакс',\n",
       "       'KFC Волгоградский', 'Кофе', 'Ресторан «Чайхона №1»',\n",
       "       'Кафе «Теремок»', 'Ливан-хаус', 'Крошка картошка', 'Лето',\n",
       "       'Кафе «АндерСон»', 'Суши бар «Маки-маки»', 'ЯММИ МИКС', 'Брудер',\n",
       "       'Бургер кинг', 'Баракат', 'Кафе при АЗС', 'Урюк Вавилова',\n",
       "       'SUBWAY', 'Кафе теремок', 'Кулинарное бюро Kitchen',\n",
       "       'МОСКВА - МАКДОНАЛДС', 'ТЕРЕМОК ИНВЕСТ', 'Ресторан«ВьетКафе»',\n",
       "       'НИЯМА', 'Кафе Космик', 'СушиМан', 'Кафе шоколад', 'ЯПОША',\n",
       "       'МАКИ-МАКИ', 'Примавера', 'Кофе тун', 'Барбарис', 'Yogurt Frenzy',\n",
       "       'Ташир пицца', 'Bocconcino', 'ПОМИДОР', 'Дюшес', 'Маки-маки',\n",
       "       'Планета суши', 'Чайхона №1 Бутово', 'Кафе «То Да Сё»',\n",
       "       'кафе «Старбакс»', 'Урожай', 'Ресторан «Ян Примус»', 'ШВАРЦВАЛЬД',\n",
       "       'TUTTI FRUTTI FROZEN YOGURT', 'Данкин Донатс', 'Кафе «Нияма»',\n",
       "       'Кафе «Менза»', 'Ресторан «Джардино Да Пино»', 'Кафе «МЕЛЕНКА»',\n",
       "       'Кафе «Кофейня Старбакс»', 'Ресторан «Колбасофф»',\n",
       "       'КАФЕ МАКДОНАЛДС', 'КАФЕ «Теремок»', 'КАФЕ KFC', 'Сбарро',\n",
       "       'КАФЕ «МАКДОНАЛДС»', 'КАФЕ «Восточный базар»', 'КАФЕ Кофе-Хаус',\n",
       "       'КАФЕ Starbucks', 'РЕСТОРАН «Космик»', 'КАРО', 'ХИНКАЛЬНАЯ',\n",
       "       'ПБО «KFC Покрышкина»', 'кафе «Му-Му»', 'Кофейня «СТАРБАКС КОФЕ»',\n",
       "       'Ресторан «Планета Суши»', 'White Rabbite (Белый кролик)',\n",
       "       'БАКИНСКИЙ БУЛЬВАР', 'Ян Примус', 'Кафе МУ-МУ',\n",
       "       'Кафе «Prime» (Прайм стар)', 'Healthy Food', 'Sushilka',\n",
       "       'Кебаб Хаус', 'Coffeeshop Company', 'Теремок-Инвест',\n",
       "       'Кафе «МАКДОНАЛДС»', 'ИЛЬ ФОРНО', 'Maki Maki',\n",
       "       'РЕСТОРАН«МАКДОНАЛДС»', 'ЧАЙХОНА №1', 'РЕСТОРАН «ЧАЙХОНА №1»',\n",
       "       'КОФЕЙНЯ «ШОКОЛАДНИЦА»', 'АНДЕРСОН', 'КАФЕ «ТЕРЕМОК»',\n",
       "       'СТЕЙК-ХАУС ГУДМАН', 'МЕНЗА', 'Барбекю', 'Обжорный ряд', 'Космик',\n",
       "       'Ресторан «БРУДЕР»', 'Тайм Авеню', 'Братья Караваевы',\n",
       "       'СтардогS и шаурма', 'Wok & Box', 'ПивКо',\n",
       "       'Кафе при АЗС Газпромнефть', 'Старбакс Кофе', 'Бар Боулинг-Космик',\n",
       "       'Академия', 'Ресторан «Темпл Бар»', 'Закусочная «Бургер Кинг»',\n",
       "       'Ресторан «Чайхана Урюк»', 'Прайм Стар кафе',\n",
       "       'Кофе с собой Gate 42', 'Кафе-закусочная «Бургер Кинг»',\n",
       "       'Ресторан «ЯКИТОРИЯ»', 'Кафе «Торнадо»', 'Магбургер', 'КОФЕПОРТ',\n",
       "       'Ресторан «Теремок»', 'Кафе «Макдоналдс»',\n",
       "       'Ресторан «Бакинский бульвар»', 'Бакинский бульвар',\n",
       "       \"Предприятие быстрого обслуживания «Домино'с Пицца»\",\n",
       "       'Кафе «Прайм Стар»', 'Кафе «SUBWAY»',\n",
       "       'Предприятие быстрого обслуживания «Бенто WOK»',\n",
       "       'Предприятие быстрого обслуживания «KFC»', 'Бургер клаб',\n",
       "       'Кафе «Кофе Хаус»', 'Кафе при АЗС «BP»', 'Wokker', 'АРИАНА',\n",
       "       'Кафе «Суши Вок»', 'Кафе «Бургер Кинг»', 'ПАПА ДЖОНС ПИЦЦА',\n",
       "       'Закусочная «Теремок»', 'Закусочная «Крошка Картошка»',\n",
       "       'Ресторан «Иль Патио»', 'Спорт-бар «Космик»', 'Ресторан «Космик»',\n",
       "       'Ресторан японской кухни «Маки-Маки»', 'Детское кафе «Космик»',\n",
       "       'Кафе ПРОНТО', 'Кофейня «Кофе хаус»', 'Ванвок', 'Шикари Иль Патио',\n",
       "       'Кафе «Данкин Донатс»', 'Ресторан «Бургер Кинг»',\n",
       "       'Кафе «Крошка Картошка»', 'Закусочная «KFC»',\n",
       "       'Закусочная «Пицца Хат»', 'Кафе «Costa coffee»', 'Каффе «Wokker»',\n",
       "       'Семейный ресторан «Космик»', 'Кафе Иль Патио «Il Patio»',\n",
       "       'Ресторан «Урюк»', 'Кофейня «Дабл Би»', 'Ресторан KFC',\n",
       "       'Ресторан быстрого питания «Крошка Картошка»', 'кафе «Нияма»',\n",
       "       'Starbucks кофе', 'МИ ПЬЯЧЕ', 'Пражечка',\n",
       "       'Павлин Мавлин Чайхона №1', 'Блинная', 'Correas',\n",
       "       'Мистер Картошка', 'Кафе «Сим-Сим»', 'Кафе «Му-му»',\n",
       "       'Pizengof99 СПБ', 'Меленка', 'Югос', 'Марчеллис',\n",
       "       'Кафе Песто и Митлес', 'Ресторан «Вареничная №1»', 'Молли гвинз',\n",
       "       'ВьетКафе', 'Шоколадница Кофемания', 'Дорогая я перезвоню',\n",
       "       'M Cafe Хинкальная', 'Marrakesh Хинкальная',\n",
       "       'Кофейня Кофемания, пиццерия Бармалини',\n",
       "       'Кофешоп Coffeeshop Company', 'Гудман Гудвин', 'Гудман',\n",
       "       'Torro Grill Торро Гриль', 'Ресторан Торро Гриль',\n",
       "       'Кафе «Старбакс»', 'The Terrace', 'Ваби-саби', 'Бир Хаус Паб',\n",
       "       'CORREAS', 'Вlack Burger Чайхона №1', 'Пончиковое кафе ИКЕА Ikea',\n",
       "       'Ресторан ИКЕА Ikea', 'Black & White', 'Пиццерия «Додо Пицца»',\n",
       "       'Роснефть', 'Upside Down', 'ПБО «KFC»', 'ПБО «Теремок»',\n",
       "       'Starbucks, СТАРБАКС КОФЕ', 'КОФЕЙНЯ «Costa Coffee»',\n",
       "       \"ДОМИНО'С ПИЦЦА\", 'Cookhouse', 'Dunkin Donuts',\n",
       "       'МСК Московская сеть кальянных', 'Братья Караваевых',\n",
       "       'Кафе Бургер Кинг', 'Кафе «ТО ДА СЁ»',\n",
       "       'Предприятие быстрого обслуживания «Магбургер»',\n",
       "       'Кафе «Баскин Роббинс»', 'Ресторан «БУРГЕР КИНГ»',\n",
       "       'Кафе БУРГЕР КИНГ', 'Пицца Паоло', 'COFIX', 'Пикколо', 'Пицца хат',\n",
       "       'Cofix', 'Милти', 'Сеть магазинов «Суши Wok»', 'Васаби',\n",
       "       'Грузинская кухня ЭZО Хинкальная', 'Кафе быстрого питания Му-му',\n",
       "       'Ресторан ТАНУКИ', 'Кафе Суши Wok', 'Хачапури, Одесса -мама',\n",
       "       'TGI FRIDAYS', 'Deli by Prime Прайм-кафе', 'Пицерия «Папа Джонс»',\n",
       "       'HEALTHY Food', 'Дабл Би блэк', 'Азбука вкуса', 'МИМИНО',\n",
       "       'Точка продажи готовой еды Милти',\n",
       "       'Предприятие быстрого обслуживания «ДОДО Пицца»',\n",
       "       'Суши «Маки-Маки»', 'Семейное кафе и кондитерская «Андерсон»',\n",
       "       'Пиццерия Папа Джонс', 'GRAND УРЮК', 'Кафе Волконский пекарня',\n",
       "       'Стардогs', 'Panda Express', 'Кафе «БУРГЕР КИНГ»',\n",
       "       'АВ-Дейли Азбука Вкуса', 'ШАНТИМЕЛЬ', 'Healthy food',\n",
       "       'Ирландский Паб', 'Ресторан «KFC»',\n",
       "       'Кафе мороженного «Tutti Frutti»', 'Кафе «Суши Wok»',\n",
       "       'Бар «Суши Wok»', 'Япоша', 'КУЛИНАРНАЯ ЛАВКА БРАТЬЕВ КАРАВАЕВЫХ',\n",
       "       \"Ресторан «Домино'с Пицца»\", 'Tutti frutti', 'Кафе «Папа Джонс»',\n",
       "       'ПАПА ДЖОНС', 'Кафе Prime Прайм стар Прайм-кафе',\n",
       "       'PRIME Прайм стар Прайм-кафе', 'Суши вок', \"Кафе «Домино'с Пицца»\",\n",
       "       'КАФЕ-ПЕКАРЕЯ «ВОЛКОНСКИЙ»', 'Нияма. Пицца Пи', 'Алло Пицца 2',\n",
       "       'БИСТРО ПРОНТО', 'ШТОЛЛЕ', 'Ливан-Хаус', 'Зю Кафе',\n",
       "       'Восточный базар', 'Сказка', 'Ресторан «Хинкальная»',\n",
       "       'Jeffreys Coffee', 'Ресторан «Пицца Хат»', 'Вкусняшка',\n",
       "       'МагБургер', 'Грузинские каникулы Барбарис', 'Стардогс СтардогS',\n",
       "       'Суши тун, Хруст pizza, Кофе тун', 'Кофе с собой «Кофейня»',\n",
       "       'Пиццерия «Пицца Паоло»', 'Кафе при АЗС Лукойл',\n",
       "       'Лукойл-Центрнефтьпродукт', 'FRIDAYS', 'TGI Fridays', 'Мираторг',\n",
       "       'Закусочная «Баскин Роббинс & Стардогс»', 'Бенто WOK',\n",
       "       'Кафе «Иль Патио»', 'Bubbleology', 'Starbucks Старбакс',\n",
       "       'Бодрый день Кофе с собой', 'ДоДо Пицца', 'ДОДО ПИЦЦА',\n",
       "       'ДОДО Пицца', 'BooBo', 'Кальянная Мята Lounge',\n",
       "       'Кальян-бар «Мята Lounge»', 'Кальян- бар «Мята Lounge»',\n",
       "       'Паб Кружка', 'БРУСНИКА', 'Luciano', 'Пиццерия «Пицца Хат»',\n",
       "       'Лукойл', 'Мята Lounge Шаболовка', 'Кальянная F-lounge', 'МИЛТИ',\n",
       "       'ПРАЙМ СТАР', 'МСК Московская сеть кальянных на Шаболовке',\n",
       "       'Семейное кафе Андерсон',\n",
       "       '«Кафе «Кулинарная лавка братьев Караваевых»»',\n",
       "       'Кафе «Кулинарная лавка братьев Караваевых»',\n",
       "       '«Кафе «Кулинарная лавка братьев Караваевых»',\n",
       "       \"Домино'с Пицца Domino,s Pizza\", 'Чешская пивная ПИЛЗНЕР',\n",
       "       'Beverly Hills Diner', 'Кафе Штолле',\n",
       "       'Предприятие быстрого питания «Крошка Картошка»', 'Florentini',\n",
       "       'Кондитерия Тирольские пироги', 'LAVKALAVKA', 'Хлебница пекарня',\n",
       "       'Кальян-бар MosKalyan', 'Анти-кафе кальянная «MosKalyan»',\n",
       "       'Ботик Петра', 'Советские времена Чебуречная СССР', 'ДоДо пицца',\n",
       "       'Мята Lounge Автозаводская', 'Osteria Mario', 'МЯСОROOB',\n",
       "       'МясоROOB', 'Газпромнефтьцентр', 'ДВЕ ПАЛОЧКИ', 'ХЛЕБ НАСУЩНЫЙ',\n",
       "       'ЯКИТОРИЯ И СПОРТ БАР', 'Японский ресторан «Ваби-Саби»',\n",
       "       'Goodman Гудман', 'PRIME STAR Прайм стар', 'Праймстар',\n",
       "       'CoffeeShop', 'My box', 'Vanwok Ванвок', 'Van Wok Ванвок',\n",
       "       'ББ энд БУРГЕРС В&В Бургер', 'КРОШКА КАРТОШКА',\n",
       "       'Закусочная «СтардогS»', 'Сувлаки', 'Бургер Клаб', 'Суши тун',\n",
       "       'Кофе с Собой', 'Пицца ПИПОНИ', 'Пицца Паоло и Бенто WOK',\n",
       "       'STARBUCKS COFFEE', 'Кофемания Starbucks', 'Movenpick',\n",
       "       'РОСТИКС KFC', 'Fridays KFC', 'Ресторан быстрого питания KFC',\n",
       "       'ВОККЕР', 'Marmalato', 'Предприятие быстрого обслуживания «Милти»',\n",
       "       'Дабл би', 'ДОДО пицца', 'Магазин готовой еды «Милти»',\n",
       "       'Готовые блюда Милти', 'Мята lounge', 'Лаундж-бар «Мята Lounge»',\n",
       "       'Бар Мята Lounge', 'Мята Lounge Октябрьская',\n",
       "       'Кальянная «Мята Lounge»', 'Мята'], dtype=object)"
      ]
     },
     "execution_count": 7,
     "metadata": {},
     "output_type": "execute_result"
    }
   ],
   "source": [
    "data_ch = data.query('chain == \"да\"')\n",
    "data_ch['object_name'].unique()"
   ]
  },
  {
   "cell_type": "markdown",
   "metadata": {},
   "source": [
    "**Вывод**\n",
    "\n",
    "Явных дубликатов нет. Названия колонок в таблице и типы данных указаны корректно. Единственное, я обратила внимание, что в колонке **object_name** для сетевых объектов много неявных дублей. Пока непонятно, помешает ли это дальнейшему анализу. Вопрос к тем, кто предоставил нам эту выгрузку. Но делать с этими данными ничего не будем, будем считать, что все хорошо. Двигаемся дальше."
   ]
  },
  {
   "cell_type": "markdown",
   "metadata": {},
   "source": [
    "<a id=\"analize\"></a>\n",
    "## Анализ данных"
   ]
  },
  {
   "cell_type": "markdown",
   "metadata": {},
   "source": [
    "<a id=\"analize1\"></a>\n",
    "### Исследуем соотношение видов объектов общественного питания по количеству и построим график."
   ]
  },
  {
   "cell_type": "code",
   "execution_count": 8,
   "metadata": {
    "scrolled": false
   },
   "outputs": [
    {
     "data": {
      "text/html": [
       "<div>\n",
       "<style scoped>\n",
       "    .dataframe tbody tr th:only-of-type {\n",
       "        vertical-align: middle;\n",
       "    }\n",
       "\n",
       "    .dataframe tbody tr th {\n",
       "        vertical-align: top;\n",
       "    }\n",
       "\n",
       "    .dataframe thead th {\n",
       "        text-align: right;\n",
       "    }\n",
       "</style>\n",
       "<table border=\"1\" class=\"dataframe\">\n",
       "  <thead>\n",
       "    <tr style=\"text-align: right;\">\n",
       "      <th></th>\n",
       "      <th>object_type</th>\n",
       "      <th>amount</th>\n",
       "      <th>rate,%</th>\n",
       "    </tr>\n",
       "  </thead>\n",
       "  <tbody>\n",
       "    <tr>\n",
       "      <th>0</th>\n",
       "      <td>кафе</td>\n",
       "      <td>6099</td>\n",
       "      <td>40.0</td>\n",
       "    </tr>\n",
       "    <tr>\n",
       "      <th>1</th>\n",
       "      <td>столовая</td>\n",
       "      <td>2587</td>\n",
       "      <td>17.0</td>\n",
       "    </tr>\n",
       "    <tr>\n",
       "      <th>2</th>\n",
       "      <td>ресторан</td>\n",
       "      <td>2285</td>\n",
       "      <td>15.0</td>\n",
       "    </tr>\n",
       "    <tr>\n",
       "      <th>3</th>\n",
       "      <td>предприятие быстрого обслуживания</td>\n",
       "      <td>1923</td>\n",
       "      <td>13.0</td>\n",
       "    </tr>\n",
       "    <tr>\n",
       "      <th>4</th>\n",
       "      <td>бар</td>\n",
       "      <td>856</td>\n",
       "      <td>6.0</td>\n",
       "    </tr>\n",
       "    <tr>\n",
       "      <th>5</th>\n",
       "      <td>буфет</td>\n",
       "      <td>585</td>\n",
       "      <td>4.0</td>\n",
       "    </tr>\n",
       "    <tr>\n",
       "      <th>6</th>\n",
       "      <td>кафетерий</td>\n",
       "      <td>398</td>\n",
       "      <td>3.0</td>\n",
       "    </tr>\n",
       "    <tr>\n",
       "      <th>7</th>\n",
       "      <td>закусочная</td>\n",
       "      <td>360</td>\n",
       "      <td>2.0</td>\n",
       "    </tr>\n",
       "    <tr>\n",
       "      <th>8</th>\n",
       "      <td>магазин (отдел кулинарии)</td>\n",
       "      <td>273</td>\n",
       "      <td>2.0</td>\n",
       "    </tr>\n",
       "  </tbody>\n",
       "</table>\n",
       "</div>"
      ],
      "text/plain": [
       "                         object_type  amount  rate,%\n",
       "0                               кафе    6099    40.0\n",
       "1                           столовая    2587    17.0\n",
       "2                           ресторан    2285    15.0\n",
       "3  предприятие быстрого обслуживания    1923    13.0\n",
       "4                                бар     856     6.0\n",
       "5                              буфет     585     4.0\n",
       "6                          кафетерий     398     3.0\n",
       "7                         закусочная     360     2.0\n",
       "8          магазин (отдел кулинарии)     273     2.0"
      ]
     },
     "execution_count": 8,
     "metadata": {},
     "output_type": "execute_result"
    }
   ],
   "source": [
    "# Создадим сводную таблицу, где для каждого типа объекта общ. питания будет указано общее количество.\n",
    "object_type_rate = (\n",
    "    data.pivot_table(index='object_type', values='id', aggfunc='count')\n",
    "        .sort_values(by='id', ascending=False)\n",
    "        .reset_index()\n",
    ")\n",
    "object_type_rate.columns = ['object_type', 'amount']\n",
    "object_type_rate['rate,%'] = round(((object_type_rate['amount'] / object_type_rate['amount'].sum()) * 100))\n",
    "object_type_rate['rate,%'].astype('str')\n",
    "object_type_rate    "
   ]
  },
  {
   "cell_type": "code",
   "execution_count": 9,
   "metadata": {
    "scrolled": false
   },
   "outputs": [
    {
     "data": {
      "image/png": "[encoded data removed]",
      "text/plain": [
       "<Figure size 432x288 with 1 Axes>"
      ]
     },
     "metadata": {
      "needs_background": "light"
     },
     "output_type": "display_data"
    }
   ],
   "source": [
    "# Построим график\n",
    "ax = sns.barplot(x='amount', y='object_type', data=object_type_rate)\n",
    "ax.set_title('Количество заведений общественного питания по типам')\n",
    "plt.xlabel('Количество посадочных мест')\n",
    "plt.ylabel('Тип объекта');"
   ]
  },
  {
   "cell_type": "markdown",
   "metadata": {},
   "source": [
    "**Вывод**\\\n",
    "Итак, в Москве больше всего заведений: **кафе** (40%), **столовых** (17%) и **ресторанов** (15%). Меньше всего по количеству **магазинов(отдел кулинарии), закусочных и кафетериев (всего 2-3%)**."
   ]
  },
  {
   "cell_type": "markdown",
   "metadata": {},
   "source": [
    "<a id=\"analize2\"></a>\n",
    "###  Исследуем соотношение сетевых и несетевых заведений по количеству. Построим график."
   ]
  },
  {
   "cell_type": "code",
   "execution_count": 10,
   "metadata": {
    "scrolled": true
   },
   "outputs": [
    {
     "data": {
      "text/html": [
       "<div>\n",
       "<style scoped>\n",
       "    .dataframe tbody tr th:only-of-type {\n",
       "        vertical-align: middle;\n",
       "    }\n",
       "\n",
       "    .dataframe tbody tr th {\n",
       "        vertical-align: top;\n",
       "    }\n",
       "\n",
       "    .dataframe thead th {\n",
       "        text-align: right;\n",
       "    }\n",
       "</style>\n",
       "<table border=\"1\" class=\"dataframe\">\n",
       "  <thead>\n",
       "    <tr style=\"text-align: right;\">\n",
       "      <th></th>\n",
       "      <th>chain</th>\n",
       "      <th>amount</th>\n",
       "    </tr>\n",
       "  </thead>\n",
       "  <tbody>\n",
       "    <tr>\n",
       "      <th>0</th>\n",
       "      <td>нет</td>\n",
       "      <td>12398</td>\n",
       "    </tr>\n",
       "    <tr>\n",
       "      <th>1</th>\n",
       "      <td>да</td>\n",
       "      <td>2968</td>\n",
       "    </tr>\n",
       "  </tbody>\n",
       "</table>\n",
       "</div>"
      ],
      "text/plain": [
       "  chain  amount\n",
       "0   нет   12398\n",
       "1    да    2968"
      ]
     },
     "execution_count": 10,
     "metadata": {},
     "output_type": "execute_result"
    }
   ],
   "source": [
    "# Построим сводную таблицу, где для сетевых и несетевых объектов будет указано их общее количество\n",
    "chain_amount = (\n",
    "    data.pivot_table(index='chain', values='id', aggfunc='count')\n",
    "        .sort_values(by='id', ascending=False)\n",
    "        .reset_index()\n",
    ")\n",
    "chain_amount.columns = ['chain', 'amount']\n",
    "chain_amount "
   ]
  },
  {
   "cell_type": "code",
   "execution_count": 11,
   "metadata": {},
   "outputs": [
    {
     "data": {
      "image/png": "[encoded data removed]",
      "text/plain": [
       "<Figure size 432x288 with 1 Axes>"
      ]
     },
     "metadata": {},
     "output_type": "display_data"
    }
   ],
   "source": [
    "# так как групп всего 2, можно построить круговую диаграмму\n",
    "labels=['несетевые', 'сетевые']\n",
    "plt.pie(chain_amount['amount'], labels=labels, autopct='%.2f')\n",
    "plt.legend(loc='upper left', bbox_to_anchor=(1.0, 1.0));"
   ]
  },
  {
   "cell_type": "markdown",
   "metadata": {},
   "source": [
    "**Вывод**\\\n",
    "Несетевых заведений в Москве существенно больше, чем сетевых (примерно, в 4 раза)."
   ]
  },
  {
   "cell_type": "markdown",
   "metadata": {},
   "source": [
    "<a id=\"analize3\"></a>\n",
    "### Посмотрим, для какого вида объекта общественного питания характерно сетевое распространение."
   ]
  },
  {
   "cell_type": "code",
   "execution_count": 12,
   "metadata": {},
   "outputs": [
    {
     "data": {
      "text/html": [
       "<div>\n",
       "<style scoped>\n",
       "    .dataframe tbody tr th:only-of-type {\n",
       "        vertical-align: middle;\n",
       "    }\n",
       "\n",
       "    .dataframe tbody tr th {\n",
       "        vertical-align: top;\n",
       "    }\n",
       "\n",
       "    .dataframe thead th {\n",
       "        text-align: right;\n",
       "    }\n",
       "</style>\n",
       "<table border=\"1\" class=\"dataframe\">\n",
       "  <thead>\n",
       "    <tr style=\"text-align: right;\">\n",
       "      <th></th>\n",
       "      <th>object_type</th>\n",
       "      <th>amount</th>\n",
       "      <th>rate,%</th>\n",
       "    </tr>\n",
       "  </thead>\n",
       "  <tbody>\n",
       "    <tr>\n",
       "      <th>0</th>\n",
       "      <td>кафе</td>\n",
       "      <td>1396</td>\n",
       "      <td>47.0</td>\n",
       "    </tr>\n",
       "    <tr>\n",
       "      <th>1</th>\n",
       "      <td>предприятие быстрого обслуживания</td>\n",
       "      <td>791</td>\n",
       "      <td>27.0</td>\n",
       "    </tr>\n",
       "    <tr>\n",
       "      <th>2</th>\n",
       "      <td>ресторан</td>\n",
       "      <td>544</td>\n",
       "      <td>18.0</td>\n",
       "    </tr>\n",
       "    <tr>\n",
       "      <th>3</th>\n",
       "      <td>магазин (отдел кулинарии)</td>\n",
       "      <td>78</td>\n",
       "      <td>3.0</td>\n",
       "    </tr>\n",
       "    <tr>\n",
       "      <th>4</th>\n",
       "      <td>закусочная</td>\n",
       "      <td>56</td>\n",
       "      <td>2.0</td>\n",
       "    </tr>\n",
       "    <tr>\n",
       "      <th>5</th>\n",
       "      <td>кафетерий</td>\n",
       "      <td>52</td>\n",
       "      <td>2.0</td>\n",
       "    </tr>\n",
       "    <tr>\n",
       "      <th>6</th>\n",
       "      <td>бар</td>\n",
       "      <td>37</td>\n",
       "      <td>1.0</td>\n",
       "    </tr>\n",
       "    <tr>\n",
       "      <th>7</th>\n",
       "      <td>буфет</td>\n",
       "      <td>11</td>\n",
       "      <td>0.0</td>\n",
       "    </tr>\n",
       "    <tr>\n",
       "      <th>8</th>\n",
       "      <td>столовая</td>\n",
       "      <td>3</td>\n",
       "      <td>0.0</td>\n",
       "    </tr>\n",
       "  </tbody>\n",
       "</table>\n",
       "</div>"
      ],
      "text/plain": [
       "                         object_type  amount  rate,%\n",
       "0                               кафе    1396    47.0\n",
       "1  предприятие быстрого обслуживания     791    27.0\n",
       "2                           ресторан     544    18.0\n",
       "3          магазин (отдел кулинарии)      78     3.0\n",
       "4                         закусочная      56     2.0\n",
       "5                          кафетерий      52     2.0\n",
       "6                                бар      37     1.0\n",
       "7                              буфет      11     0.0\n",
       "8                           столовая       3     0.0"
      ]
     },
     "execution_count": 12,
     "metadata": {},
     "output_type": "execute_result"
    }
   ],
   "source": [
    "# Создадим срез таблицы только с сетевыми объектами и по ней построим сводную таблицу\n",
    "chain_est = (\n",
    "    data.query('chain == \"да\"')\n",
    "        .pivot_table(index='object_type', values='id', aggfunc='count')\n",
    "        .sort_values(by='id', ascending=False)\n",
    "        .reset_index()\n",
    ")\n",
    "chain_est.columns = ['object_type','amount']\n",
    "chain_est['rate,%'] = round(((chain_est['amount'] / chain_est['amount'].sum()) * 100))\n",
    "chain_est"
   ]
  },
  {
   "cell_type": "code",
   "execution_count": 13,
   "metadata": {},
   "outputs": [
    {
     "data": {
      "image/png": "[encoded data removed]",
      "text/plain": [
       "<Figure size 432x288 with 1 Axes>"
      ]
     },
     "metadata": {
      "needs_background": "light"
     },
     "output_type": "display_data"
    }
   ],
   "source": [
    "# построим график\n",
    "ax = sns.barplot(x='amount', y='object_type', data=chain_est)\n",
    "ax.set_title('Соотношение видов предприятий общественного питания для сетевых заведений')\n",
    "plt.xlabel('Количество посадочных мест')\n",
    "plt.ylabel('Тип объекта');"
   ]
  },
  {
   "cell_type": "markdown",
   "metadata": {},
   "source": [
    "**Вывод**\\\n",
    "Итак, среди сетевых предприятий общественного питания наиболее распространены кафе, предприятия быстрого обслуживания и рестораны. Остальных типов среди сетевых заведений очень мало. "
   ]
  },
  {
   "cell_type": "markdown",
   "metadata": {},
   "source": [
    "<a id=\"analize4\"></a>\n",
    "### Посмотрим, что характерно для сетевых заведений: много заведений с небольшим числом посадочных мест в каждом или мало заведений с большим количеством посадочных мест"
   ]
  },
  {
   "cell_type": "markdown",
   "metadata": {},
   "source": [
    "Для начала построим боксплоты для всех сетевых заведений."
   ]
  },
  {
   "cell_type": "code",
   "execution_count": 14,
   "metadata": {
    "scrolled": true
   },
   "outputs": [
    {
     "data": {
      "image/png": "[encoded data removed]",
      "text/plain": [
       "<Figure size 1296x576 with 1 Axes>"
      ]
     },
     "metadata": {
      "needs_background": "light"
     },
     "output_type": "display_data"
    }
   ],
   "source": [
    "data_chain = data.query('chain == \"да\"')\n",
    "plt.figure(figsize=(18,8))\n",
    "sns.boxplot(x='number', y='object_type', data=data_chain)\n",
    "plt.title('Распределение количества посадочных мест для сетевых заведений', fontsize=16)\n",
    "plt.xlabel('Тип объекта', fontsize=14)\n",
    "plt.ylabel('Количество посадочных мест', fontsize=14);"
   ]
  },
  {
   "cell_type": "markdown",
   "metadata": {},
   "source": [
    "Итак, есть выбросы, особенно у таких типов, как кафе, предприятия быстрого обслуживания и ресторанов. Избавимся от выбросов, чтобы сделать графики информативнее."
   ]
  },
  {
   "cell_type": "code",
   "execution_count": 15,
   "metadata": {
    "scrolled": false
   },
   "outputs": [
    {
     "data": {
      "image/png": "[encoded data removed]",
      "text/plain": [
       "<Figure size 1296x576 with 1 Axes>"
      ]
     },
     "metadata": {
      "needs_background": "light"
     },
     "output_type": "display_data"
    }
   ],
   "source": [
    "plt.figure(figsize=(18,8))\n",
    "plt.xlim(-1, 270)\n",
    "sns.boxplot(x='number', y='object_type', data=data_chain)\n",
    "plt.title('Распределение количества посадочных мест для сетевых заведений', fontsize=16)\n",
    "plt.xlabel('Количество посадочных мест', fontsize=14)\n",
    "plt.ylabel('Тип объекта', fontsize=14);"
   ]
  },
  {
   "cell_type": "markdown",
   "metadata": {},
   "source": [
    "**Вывод**\\\n",
    "Так намного лучше) Итак, наибольший разброс данных у ресторанов (от 0 до примерно 270 мест), а также у кафе и предприятий быстрого обслуживания (от 0 до 120). У все трех типов есть выбросы. Также у баров разброс от 0 до 150. И у столовых количество мест в диапозоне от 60 до 160 . Остальные типы имеют небольшой разброс количества посадочных мест. В итоге видно, что для сетевых заведений все же больше характерно маленькое количиство заведений с большим количеством посадочных мест. Посмотрю еще на распределение наиболее часто встречаемых типов сетевых заведений: кафе, предприятия быстрого обслуживания и ресторанов."
   ]
  },
  {
   "cell_type": "markdown",
   "metadata": {},
   "source": [
    "Хочу посмотреть еще график зависимости медианного количества посадочных мест от количества сетевых заведений."
   ]
  },
  {
   "cell_type": "code",
   "execution_count": 16,
   "metadata": {
    "scrolled": true
   },
   "outputs": [
    {
     "data": {
      "image/png": "[encoded data removed]",
      "text/plain": [
       "<Figure size 360x360 with 1 Axes>"
      ]
     },
     "metadata": {
      "needs_background": "light"
     },
     "output_type": "display_data"
    }
   ],
   "source": [
    "# Сгруппируем таблицу ссетевыми заведениями по типу объекта\n",
    "data_chain_grouped = data_chain.groupby('object_name').agg({'id':'count', 'number':'median'})\n",
    "data_chain_grouped.columns = ['objects_amount', 'median_number_of_seats']\n",
    "plt.figure(figsize=(5,5))\n",
    "plt.scatter(data_chain_grouped['median_number_of_seats'], data_chain_grouped['objects_amount'])\n",
    "plt.title('Распределение количества сетей и их медианного количества посадочных мест', fontsize=16)\n",
    "plt.xlabel('Медианное количество посадочных мест')\n",
    "plt.ylabel('Количество сетей для каждого типа');"
   ]
  },
  {
   "cell_type": "markdown",
   "metadata": {},
   "source": [
    "Посмотрим еще на 90-й персентиль в двух столбцах."
   ]
  },
  {
   "cell_type": "code",
   "execution_count": 17,
   "metadata": {
    "scrolled": true
   },
   "outputs": [
    {
     "data": {
      "text/plain": [
       "6.0"
      ]
     },
     "execution_count": 17,
     "metadata": {},
     "output_type": "execute_result"
    }
   ],
   "source": [
    "np.percentile(data_chain_grouped['objects_amount'], 90)"
   ]
  },
  {
   "cell_type": "code",
   "execution_count": 18,
   "metadata": {
    "scrolled": true
   },
   "outputs": [
    {
     "data": {
      "text/plain": [
       "130.0"
      ]
     },
     "execution_count": 18,
     "metadata": {},
     "output_type": "execute_result"
    }
   ],
   "source": [
    "np.percentile(data_chain_grouped['median_number_of_seats'], 90)"
   ]
  },
  {
   "cell_type": "markdown",
   "metadata": {},
   "source": [
    "**Вывод**\\\n",
    "Итак, по графику видно, что, в среднем, 90% сетей имеют не более 130 посадочных мест и 6 заведений. Таким образом мы еще раз убедились в том, что для сетевых заведений характерно следующее - мало заведений с большим количеством мест."
   ]
  },
  {
   "cell_type": "code",
   "execution_count": 19,
   "metadata": {
    "scrolled": false
   },
   "outputs": [],
   "source": [
    "data_cafe = data_chain[data_chain['object_type'] == 'кафе']"
   ]
  },
  {
   "cell_type": "code",
   "execution_count": 20,
   "metadata": {},
   "outputs": [
    {
     "data": {
      "image/png": "[encoded data removed]",
      "text/plain": [
       "<Figure size 432x288 with 1 Axes>"
      ]
     },
     "metadata": {
      "needs_background": "light"
     },
     "output_type": "display_data"
    }
   ],
   "source": [
    "data_cafe['number'].hist(bins=20)\n",
    "plt.title('Распределение количества посадочных мест в объектах типа \"кафе\"')\n",
    "plt.xlabel('Количество посадочных мест')\n",
    "plt.ylabel('Частота');"
   ]
  },
  {
   "cell_type": "markdown",
   "metadata": {},
   "source": [
    "<a id=\"analize5\"></a>\n",
    "### Для каждого вида объекта общественного питания опишем среднее количество посадочных мест. Какой вид предоставляет в среднем самое большое количество посадочных мест? Построим графики"
   ]
  },
  {
   "cell_type": "markdown",
   "metadata": {},
   "source": [
    "Посмотрю сначала на колонку **number** в общем."
   ]
  },
  {
   "cell_type": "code",
   "execution_count": 21,
   "metadata": {
    "scrolled": true
   },
   "outputs": [
    {
     "data": {
      "text/html": [
       "<div>\n",
       "<style scoped>\n",
       "    .dataframe tbody tr th:only-of-type {\n",
       "        vertical-align: middle;\n",
       "    }\n",
       "\n",
       "    .dataframe tbody tr th {\n",
       "        vertical-align: top;\n",
       "    }\n",
       "\n",
       "    .dataframe thead th {\n",
       "        text-align: right;\n",
       "    }\n",
       "</style>\n",
       "<table border=\"1\" class=\"dataframe\">\n",
       "  <thead>\n",
       "    <tr style=\"text-align: right;\">\n",
       "      <th></th>\n",
       "      <th>number</th>\n",
       "    </tr>\n",
       "  </thead>\n",
       "  <tbody>\n",
       "    <tr>\n",
       "      <th>count</th>\n",
       "      <td>15366.000000</td>\n",
       "    </tr>\n",
       "    <tr>\n",
       "      <th>mean</th>\n",
       "      <td>59.547182</td>\n",
       "    </tr>\n",
       "    <tr>\n",
       "      <th>std</th>\n",
       "      <td>74.736833</td>\n",
       "    </tr>\n",
       "    <tr>\n",
       "      <th>min</th>\n",
       "      <td>0.000000</td>\n",
       "    </tr>\n",
       "    <tr>\n",
       "      <th>25%</th>\n",
       "      <td>12.000000</td>\n",
       "    </tr>\n",
       "    <tr>\n",
       "      <th>50%</th>\n",
       "      <td>40.000000</td>\n",
       "    </tr>\n",
       "    <tr>\n",
       "      <th>75%</th>\n",
       "      <td>80.000000</td>\n",
       "    </tr>\n",
       "    <tr>\n",
       "      <th>max</th>\n",
       "      <td>1700.000000</td>\n",
       "    </tr>\n",
       "  </tbody>\n",
       "</table>\n",
       "</div>"
      ],
      "text/plain": [
       "             number\n",
       "count  15366.000000\n",
       "mean      59.547182\n",
       "std       74.736833\n",
       "min        0.000000\n",
       "25%       12.000000\n",
       "50%       40.000000\n",
       "75%       80.000000\n",
       "max     1700.000000"
      ]
     },
     "execution_count": 21,
     "metadata": {},
     "output_type": "execute_result"
    }
   ],
   "source": [
    "data[['number']].describe()"
   ]
  },
  {
   "cell_type": "markdown",
   "metadata": {},
   "source": [
    "Поскольку в графиках выше были видны выбросы, я использую функцию **median**, а не **mean**."
   ]
  },
  {
   "cell_type": "code",
   "execution_count": 22,
   "metadata": {},
   "outputs": [
    {
     "data": {
      "text/html": [
       "<div>\n",
       "<style scoped>\n",
       "    .dataframe tbody tr th:only-of-type {\n",
       "        vertical-align: middle;\n",
       "    }\n",
       "\n",
       "    .dataframe tbody tr th {\n",
       "        vertical-align: top;\n",
       "    }\n",
       "\n",
       "    .dataframe thead th {\n",
       "        text-align: right;\n",
       "    }\n",
       "</style>\n",
       "<table border=\"1\" class=\"dataframe\">\n",
       "  <thead>\n",
       "    <tr style=\"text-align: right;\">\n",
       "      <th></th>\n",
       "      <th>object_type</th>\n",
       "      <th>mean_seats</th>\n",
       "    </tr>\n",
       "  </thead>\n",
       "  <tbody>\n",
       "    <tr>\n",
       "      <th>0</th>\n",
       "      <td>столовая</td>\n",
       "      <td>103</td>\n",
       "    </tr>\n",
       "    <tr>\n",
       "      <th>1</th>\n",
       "      <td>ресторан</td>\n",
       "      <td>80</td>\n",
       "    </tr>\n",
       "    <tr>\n",
       "      <th>2</th>\n",
       "      <td>бар</td>\n",
       "      <td>35</td>\n",
       "    </tr>\n",
       "    <tr>\n",
       "      <th>3</th>\n",
       "      <td>буфет</td>\n",
       "      <td>32</td>\n",
       "    </tr>\n",
       "    <tr>\n",
       "      <th>4</th>\n",
       "      <td>кафе</td>\n",
       "      <td>30</td>\n",
       "    </tr>\n",
       "    <tr>\n",
       "      <th>5</th>\n",
       "      <td>кафетерий</td>\n",
       "      <td>6</td>\n",
       "    </tr>\n",
       "    <tr>\n",
       "      <th>6</th>\n",
       "      <td>предприятие быстрого обслуживания</td>\n",
       "      <td>5</td>\n",
       "    </tr>\n",
       "    <tr>\n",
       "      <th>7</th>\n",
       "      <td>закусочная</td>\n",
       "      <td>0</td>\n",
       "    </tr>\n",
       "    <tr>\n",
       "      <th>8</th>\n",
       "      <td>магазин (отдел кулинарии)</td>\n",
       "      <td>0</td>\n",
       "    </tr>\n",
       "  </tbody>\n",
       "</table>\n",
       "</div>"
      ],
      "text/plain": [
       "                         object_type  mean_seats\n",
       "0                           столовая         103\n",
       "1                           ресторан          80\n",
       "2                                бар          35\n",
       "3                              буфет          32\n",
       "4                               кафе          30\n",
       "5                          кафетерий           6\n",
       "6  предприятие быстрого обслуживания           5\n",
       "7                         закусочная           0\n",
       "8          магазин (отдел кулинарии)           0"
      ]
     },
     "execution_count": 22,
     "metadata": {},
     "output_type": "execute_result"
    }
   ],
   "source": [
    "num_of_seats_mean = (\n",
    "    data.pivot_table(index='object_type', values='number', aggfunc='median')\n",
    "        .sort_values(by='number', ascending=False)\n",
    "        .reset_index()\n",
    ")\n",
    "num_of_seats_mean.columns = ['object_type','mean_seats']\n",
    "num_of_seats_mean['mean_seats'] = round(num_of_seats_mean['mean_seats'],2)\n",
    "num_of_seats_mean"
   ]
  },
  {
   "cell_type": "code",
   "execution_count": 23,
   "metadata": {},
   "outputs": [
    {
     "data": {
      "image/png": "[encoded data removed]",
      "text/plain": [
       "<Figure size 432x288 with 1 Axes>"
      ]
     },
     "metadata": {
      "needs_background": "light"
     },
     "output_type": "display_data"
    }
   ],
   "source": [
    "# построим график\n",
    "ax = sns.barplot(x='mean_seats', y='object_type', data=num_of_seats_mean)\n",
    "ax.set_title('Среднее количество посадочных мест для каждого вида предприятий общественного питания')\n",
    "plt.xlabel('Среднее число посадочных мест')\n",
    "plt.ylabel('Вид предприятия');"
   ]
  },
  {
   "cell_type": "markdown",
   "metadata": {},
   "source": [
    "**Вывод**\\\n",
    "Самое большое в среднем количество посадочных мест предоставляет **столовая** (103 места). Меньше всего в среднем посадочных мест у кафетериев и предприятий быстрого обслуживания."
   ]
  },
  {
   "cell_type": "markdown",
   "metadata": {},
   "source": [
    "<a id=\"analize6\"></a>\n",
    "### Выделим в отдельный столбец информацию об улице из столбца address. \n"
   ]
  },
  {
   "cell_type": "markdown",
   "metadata": {},
   "source": [
    "Итак, просмотрев колонку address, решила сделать так, каждую ячейку колонки делю на подстроки (разделяются запятой), получается список из подстрок, который мы разобьем на колонки с помощью параметра \"expand\" . Из получившейся таблицы возьмем второй столбец, который как раз будет улицей(т.к. в столбце address образец везде одинаков: сначала город, потом улица, потом дом и т.д.)."
   ]
  },
  {
   "cell_type": "code",
   "execution_count": 24,
   "metadata": {
    "scrolled": true
   },
   "outputs": [
    {
     "data": {
      "text/html": [
       "<div>\n",
       "<style scoped>\n",
       "    .dataframe tbody tr th:only-of-type {\n",
       "        vertical-align: middle;\n",
       "    }\n",
       "\n",
       "    .dataframe tbody tr th {\n",
       "        vertical-align: top;\n",
       "    }\n",
       "\n",
       "    .dataframe thead th {\n",
       "        text-align: right;\n",
       "    }\n",
       "</style>\n",
       "<table border=\"1\" class=\"dataframe\">\n",
       "  <thead>\n",
       "    <tr style=\"text-align: right;\">\n",
       "      <th></th>\n",
       "      <th>0</th>\n",
       "      <th>1</th>\n",
       "      <th>2</th>\n",
       "      <th>3</th>\n",
       "      <th>4</th>\n",
       "      <th>5</th>\n",
       "      <th>6</th>\n",
       "    </tr>\n",
       "  </thead>\n",
       "  <tbody>\n",
       "    <tr>\n",
       "      <th>0</th>\n",
       "      <td>город Москва</td>\n",
       "      <td>улица Егора Абакумова</td>\n",
       "      <td>дом 9</td>\n",
       "      <td>None</td>\n",
       "      <td>None</td>\n",
       "      <td>None</td>\n",
       "      <td>None</td>\n",
       "    </tr>\n",
       "    <tr>\n",
       "      <th>1</th>\n",
       "      <td>город Москва</td>\n",
       "      <td>улица Талалихина</td>\n",
       "      <td>дом 2/1</td>\n",
       "      <td>корпус 1</td>\n",
       "      <td>None</td>\n",
       "      <td>None</td>\n",
       "      <td>None</td>\n",
       "    </tr>\n",
       "    <tr>\n",
       "      <th>2</th>\n",
       "      <td>город Москва</td>\n",
       "      <td>Абельмановская улица</td>\n",
       "      <td>дом 6</td>\n",
       "      <td>None</td>\n",
       "      <td>None</td>\n",
       "      <td>None</td>\n",
       "      <td>None</td>\n",
       "    </tr>\n",
       "    <tr>\n",
       "      <th>3</th>\n",
       "      <td>город Москва</td>\n",
       "      <td>Абрамцевская улица</td>\n",
       "      <td>дом 1</td>\n",
       "      <td>None</td>\n",
       "      <td>None</td>\n",
       "      <td>None</td>\n",
       "      <td>None</td>\n",
       "    </tr>\n",
       "    <tr>\n",
       "      <th>4</th>\n",
       "      <td>город Москва</td>\n",
       "      <td>Абрамцевская улица</td>\n",
       "      <td>дом 9</td>\n",
       "      <td>корпус 1</td>\n",
       "      <td>None</td>\n",
       "      <td>None</td>\n",
       "      <td>None</td>\n",
       "    </tr>\n",
       "  </tbody>\n",
       "</table>\n",
       "</div>"
      ],
      "text/plain": [
       "              0                       1         2          3     4     5     6\n",
       "0  город Москва   улица Егора Абакумова     дом 9       None  None  None  None\n",
       "1  город Москва        улица Талалихина   дом 2/1   корпус 1  None  None  None\n",
       "2  город Москва    Абельмановская улица     дом 6       None  None  None  None\n",
       "3  город Москва      Абрамцевская улица     дом 1       None  None  None  None\n",
       "4  город Москва      Абрамцевская улица     дом 9   корпус 1  None  None  None"
      ]
     },
     "execution_count": 24,
     "metadata": {},
     "output_type": "execute_result"
    }
   ],
   "source": [
    "address_split = data['address'].str.split(',', expand=True)\n",
    "address_split.head()"
   ]
  },
  {
   "cell_type": "code",
   "execution_count": 25,
   "metadata": {
    "scrolled": false
   },
   "outputs": [
    {
     "data": {
      "text/html": [
       "<div>\n",
       "<style scoped>\n",
       "    .dataframe tbody tr th:only-of-type {\n",
       "        vertical-align: middle;\n",
       "    }\n",
       "\n",
       "    .dataframe tbody tr th {\n",
       "        vertical-align: top;\n",
       "    }\n",
       "\n",
       "    .dataframe thead th {\n",
       "        text-align: right;\n",
       "    }\n",
       "</style>\n",
       "<table border=\"1\" class=\"dataframe\">\n",
       "  <thead>\n",
       "    <tr style=\"text-align: right;\">\n",
       "      <th></th>\n",
       "      <th>id</th>\n",
       "      <th>object_name</th>\n",
       "      <th>chain</th>\n",
       "      <th>object_type</th>\n",
       "      <th>address</th>\n",
       "      <th>number</th>\n",
       "      <th>street</th>\n",
       "    </tr>\n",
       "  </thead>\n",
       "  <tbody>\n",
       "    <tr>\n",
       "      <th>0</th>\n",
       "      <td>151635</td>\n",
       "      <td>СМЕТАНА</td>\n",
       "      <td>нет</td>\n",
       "      <td>кафе</td>\n",
       "      <td>город Москва, улица Егора Абакумова, дом 9</td>\n",
       "      <td>48</td>\n",
       "      <td>улица Егора Абакумова</td>\n",
       "    </tr>\n",
       "    <tr>\n",
       "      <th>1</th>\n",
       "      <td>77874</td>\n",
       "      <td>Родник</td>\n",
       "      <td>нет</td>\n",
       "      <td>кафе</td>\n",
       "      <td>город Москва, улица Талалихина, дом 2/1, корпус 1</td>\n",
       "      <td>35</td>\n",
       "      <td>улица Талалихина</td>\n",
       "    </tr>\n",
       "    <tr>\n",
       "      <th>2</th>\n",
       "      <td>24309</td>\n",
       "      <td>Кафе «Академия»</td>\n",
       "      <td>нет</td>\n",
       "      <td>кафе</td>\n",
       "      <td>город Москва, Абельмановская улица, дом 6</td>\n",
       "      <td>95</td>\n",
       "      <td>Абельмановская улица</td>\n",
       "    </tr>\n",
       "  </tbody>\n",
       "</table>\n",
       "</div>"
      ],
      "text/plain": [
       "       id      object_name chain object_type  \\\n",
       "0  151635          СМЕТАНА   нет        кафе   \n",
       "1   77874           Родник   нет        кафе   \n",
       "2   24309  Кафе «Академия»   нет        кафе   \n",
       "\n",
       "                                             address  number  \\\n",
       "0         город Москва, улица Егора Абакумова, дом 9      48   \n",
       "1  город Москва, улица Талалихина, дом 2/1, корпус 1      35   \n",
       "2          город Москва, Абельмановская улица, дом 6      95   \n",
       "\n",
       "                   street  \n",
       "0   улица Егора Абакумова  \n",
       "1        улица Талалихина  \n",
       "2    Абельмановская улица  "
      ]
     },
     "execution_count": 25,
     "metadata": {},
     "output_type": "execute_result"
    }
   ],
   "source": [
    "data['street'] = address_split[1]\n",
    "data.head(3)"
   ]
  },
  {
   "cell_type": "markdown",
   "metadata": {},
   "source": [
    "**Вывод**\\\n",
    "Итак,мы добавили в общую таблицу колонку с названием района."
   ]
  },
  {
   "cell_type": "markdown",
   "metadata": {},
   "source": [
    "<a id=\"analize7\"></a>\n",
    "### Построим график топ-10 улиц по количеству объектов общественного питания. Ответим на вопрос — в каких районах Москвы находятся эти улицы?"
   ]
  },
  {
   "cell_type": "markdown",
   "metadata": {},
   "source": [
    "Когда я сделала в первый раз график, увидела, что в него вошли город Зеленоград и поселение Сосенское. Решила убрать их из топ-списка, чтобы были только улицы. Ничего другого не придумала, как еще можно убрать то, что никак не относится к улицам.))"
   ]
  },
  {
   "cell_type": "code",
   "execution_count": 26,
   "metadata": {},
   "outputs": [],
   "source": [
    "not_streets = [' город Зеленоград', ' поселение Сосенское']\n",
    "data_streets = data.query('street not in @not_streets')"
   ]
  },
  {
   "cell_type": "code",
   "execution_count": 27,
   "metadata": {
    "scrolled": true
   },
   "outputs": [
    {
     "data": {
      "image/png": "[encoded data removed]",
      "text/plain": [
       "<Figure size 432x288 with 1 Axes>"
      ]
     },
     "metadata": {
      "needs_background": "light"
     },
     "output_type": "display_data"
    }
   ],
   "source": [
    "streets_with_max_objects = (\n",
    "    data_streets.pivot_table(index='street', values='id', aggfunc='count')\n",
    "        .sort_values(by='id', ascending=False)\n",
    "        .reset_index()\n",
    "        .head(10)\n",
    ")\n",
    "\n",
    "streets_with_max_objects.columns = ['street', 'amount_of_objects']\n",
    "ax = sns.barplot(x='amount_of_objects', y='street', data=streets_with_max_objects)\n",
    "\n",
    "ax.set_title('ТОП-10 улиц с наибольшим числом объектов общественного питания')\n",
    "plt.xlabel('Количество объектов')\n",
    "plt.ylabel('Улица');"
   ]
  },
  {
   "cell_type": "code",
   "execution_count": 28,
   "metadata": {
    "scrolled": false
   },
   "outputs": [
    {
     "data": {
      "text/html": [
       "<div>\n",
       "<style scoped>\n",
       "    .dataframe tbody tr th:only-of-type {\n",
       "        vertical-align: middle;\n",
       "    }\n",
       "\n",
       "    .dataframe tbody tr th {\n",
       "        vertical-align: top;\n",
       "    }\n",
       "\n",
       "    .dataframe thead th {\n",
       "        text-align: right;\n",
       "    }\n",
       "</style>\n",
       "<table border=\"1\" class=\"dataframe\">\n",
       "  <thead>\n",
       "    <tr style=\"text-align: right;\">\n",
       "      <th></th>\n",
       "      <th>street</th>\n",
       "      <th>amount_of_objects</th>\n",
       "    </tr>\n",
       "  </thead>\n",
       "  <tbody>\n",
       "    <tr>\n",
       "      <th>0</th>\n",
       "      <td>проспект Мира</td>\n",
       "      <td>204</td>\n",
       "    </tr>\n",
       "    <tr>\n",
       "      <th>1</th>\n",
       "      <td>Профсоюзная улица</td>\n",
       "      <td>182</td>\n",
       "    </tr>\n",
       "    <tr>\n",
       "      <th>2</th>\n",
       "      <td>Ленинградский проспект</td>\n",
       "      <td>171</td>\n",
       "    </tr>\n",
       "    <tr>\n",
       "      <th>3</th>\n",
       "      <td>Пресненская набережная</td>\n",
       "      <td>167</td>\n",
       "    </tr>\n",
       "    <tr>\n",
       "      <th>4</th>\n",
       "      <td>Варшавское шоссе</td>\n",
       "      <td>161</td>\n",
       "    </tr>\n",
       "    <tr>\n",
       "      <th>5</th>\n",
       "      <td>Ленинский проспект</td>\n",
       "      <td>147</td>\n",
       "    </tr>\n",
       "    <tr>\n",
       "      <th>6</th>\n",
       "      <td>проспект Вернадского</td>\n",
       "      <td>132</td>\n",
       "    </tr>\n",
       "    <tr>\n",
       "      <th>7</th>\n",
       "      <td>Кутузовский проспект</td>\n",
       "      <td>114</td>\n",
       "    </tr>\n",
       "    <tr>\n",
       "      <th>8</th>\n",
       "      <td>Каширское шоссе</td>\n",
       "      <td>112</td>\n",
       "    </tr>\n",
       "    <tr>\n",
       "      <th>9</th>\n",
       "      <td>Кировоградская улица</td>\n",
       "      <td>110</td>\n",
       "    </tr>\n",
       "  </tbody>\n",
       "</table>\n",
       "</div>"
      ],
      "text/plain": [
       "                    street  amount_of_objects\n",
       "0            проспект Мира                204\n",
       "1        Профсоюзная улица                182\n",
       "2   Ленинградский проспект                171\n",
       "3   Пресненская набережная                167\n",
       "4         Варшавское шоссе                161\n",
       "5       Ленинский проспект                147\n",
       "6     проспект Вернадского                132\n",
       "7     Кутузовский проспект                114\n",
       "8          Каширское шоссе                112\n",
       "9     Кировоградская улица                110"
      ]
     },
     "execution_count": 28,
     "metadata": {},
     "output_type": "execute_result"
    }
   ],
   "source": [
    "streets_with_max_objects"
   ]
  },
  {
   "cell_type": "markdown",
   "metadata": {},
   "source": [
    "**Вывод**\\\n",
    "Итак, топ-10 улиц готов. На первом месте, проспект Мира.\\\n",
    "Продолжаем."
   ]
  },
  {
   "cell_type": "markdown",
   "metadata": {},
   "source": [
    "Подключим внешние данные к проекту, для того, чтобы посмотреть, в какихрайонах Москвы находятся эти улицы. Информация про районы и улицы Москвы возьмем с сайта https://data.mos.ru/opendata/7710881420-obshchestvennoe-pitanie-v-moskve/data/table?versionNumber=1&releaseNumber=86"
   ]
  },
  {
   "cell_type": "code",
   "execution_count": 29,
   "metadata": {
    "scrolled": true
   },
   "outputs": [
    {
     "data": {
      "text/html": [
       "<div>\n",
       "<style scoped>\n",
       "    .dataframe tbody tr th:only-of-type {\n",
       "        vertical-align: middle;\n",
       "    }\n",
       "\n",
       "    .dataframe tbody tr th {\n",
       "        vertical-align: top;\n",
       "    }\n",
       "\n",
       "    .dataframe thead th {\n",
       "        text-align: right;\n",
       "    }\n",
       "</style>\n",
       "<table border=\"1\" class=\"dataframe\">\n",
       "  <thead>\n",
       "    <tr style=\"text-align: right;\">\n",
       "      <th></th>\n",
       "      <th>ID</th>\n",
       "      <th>Name</th>\n",
       "      <th>global_id</th>\n",
       "      <th>IsNetObject</th>\n",
       "      <th>OperatingCompany</th>\n",
       "      <th>TypeObject</th>\n",
       "      <th>AdmArea</th>\n",
       "      <th>District</th>\n",
       "      <th>Address</th>\n",
       "      <th>PublicPhone</th>\n",
       "      <th>...</th>\n",
       "      <th>AdmArea_en</th>\n",
       "      <th>District_en</th>\n",
       "      <th>Address_en</th>\n",
       "      <th>PublicPhone_en</th>\n",
       "      <th>SeatsCount_en</th>\n",
       "      <th>SocialPrivileges_en</th>\n",
       "      <th>Longitude_WGS84_en</th>\n",
       "      <th>Latitude_WGS84_en</th>\n",
       "      <th>geodata_center</th>\n",
       "      <th>geoarea</th>\n",
       "    </tr>\n",
       "  </thead>\n",
       "  <tbody>\n",
       "    <tr>\n",
       "      <th>0</th>\n",
       "      <td>Код</td>\n",
       "      <td>Наименование</td>\n",
       "      <td>global_id</td>\n",
       "      <td>Является сетевым</td>\n",
       "      <td>Название управляющей компании</td>\n",
       "      <td>Вид объекта</td>\n",
       "      <td>Административный округ по адресу</td>\n",
       "      <td>Район</td>\n",
       "      <td>Адрес</td>\n",
       "      <td>Контактный телефон</td>\n",
       "      <td>...</td>\n",
       "      <td>AdmArea_en</td>\n",
       "      <td>District_en</td>\n",
       "      <td>Address_en</td>\n",
       "      <td>PublicPhone_en</td>\n",
       "      <td>SeatsCount_en</td>\n",
       "      <td>SocialPrivileges_en</td>\n",
       "      <td>Longitude_WGS84_en</td>\n",
       "      <td>Latitude_WGS84_en</td>\n",
       "      <td>geodata_center</td>\n",
       "      <td>geoarea</td>\n",
       "    </tr>\n",
       "    <tr>\n",
       "      <th>1</th>\n",
       "      <td>00151635</td>\n",
       "      <td>СМЕТАНА</td>\n",
       "      <td>637376221</td>\n",
       "      <td>нет</td>\n",
       "      <td>NaN</td>\n",
       "      <td>кафе</td>\n",
       "      <td>Северо-Восточный административный округ</td>\n",
       "      <td>Ярославский район</td>\n",
       "      <td>город Москва, улица Егора Абакумова, дом 9</td>\n",
       "      <td>PublicPhone:(499) 183-14-10\\n\\n</td>\n",
       "      <td>...</td>\n",
       "      <td>NaN</td>\n",
       "      <td>NaN</td>\n",
       "      <td>NaN</td>\n",
       "      <td>NaN</td>\n",
       "      <td>NaN</td>\n",
       "      <td>NaN</td>\n",
       "      <td>NaN</td>\n",
       "      <td>NaN</td>\n",
       "      <td>{\"coordinates\":[37.714565000436,55.87900153130...</td>\n",
       "      <td>NaN</td>\n",
       "    </tr>\n",
       "  </tbody>\n",
       "</table>\n",
       "<p>2 rows × 29 columns</p>\n",
       "</div>"
      ],
      "text/plain": [
       "         ID          Name  global_id       IsNetObject  \\\n",
       "0       Код  Наименование  global_id  Является сетевым   \n",
       "1  00151635       СМЕТАНА  637376221               нет   \n",
       "\n",
       "                OperatingCompany   TypeObject  \\\n",
       "0  Название управляющей компании  Вид объекта   \n",
       "1                            NaN         кафе   \n",
       "\n",
       "                                   AdmArea           District  \\\n",
       "0         Административный округ по адресу              Район   \n",
       "1  Северо-Восточный административный округ  Ярославский район   \n",
       "\n",
       "                                      Address  \\\n",
       "0                                       Адрес   \n",
       "1  город Москва, улица Егора Абакумова, дом 9   \n",
       "\n",
       "                       PublicPhone  ...  AdmArea_en  District_en  Address_en  \\\n",
       "0               Контактный телефон  ...  AdmArea_en  District_en  Address_en   \n",
       "1  PublicPhone:(499) 183-14-10\\n\\n  ...         NaN          NaN         NaN   \n",
       "\n",
       "   PublicPhone_en  SeatsCount_en  SocialPrivileges_en  Longitude_WGS84_en  \\\n",
       "0  PublicPhone_en  SeatsCount_en  SocialPrivileges_en  Longitude_WGS84_en   \n",
       "1             NaN            NaN                  NaN                 NaN   \n",
       "\n",
       "   Latitude_WGS84_en                                     geodata_center  \\\n",
       "0  Latitude_WGS84_en                                     geodata_center   \n",
       "1                NaN  {\"coordinates\":[37.714565000436,55.87900153130...   \n",
       "\n",
       "   geoarea  \n",
       "0  geoarea  \n",
       "1      NaN  \n",
       "\n",
       "[2 rows x 29 columns]"
      ]
     },
     "execution_count": 29,
     "metadata": {},
     "output_type": "execute_result"
    }
   ],
   "source": [
    "from io import BytesIO\n",
    "import requests\n",
    "spreadsheet_id = '1H190jCvDMlCOwtzshWevyJgAkRf6TDtVzj5k1_vjfv4'\n",
    "file_name = 'https://docs.google.com/spreadsheets/d/{}/export?format=csv'.format(spreadsheet_id)\n",
    "r = requests.get(file_name)\n",
    "df = pd.read_csv(BytesIO(r.content))\n",
    "df.head(2) "
   ]
  },
  {
   "cell_type": "code",
   "execution_count": 30,
   "metadata": {
    "scrolled": true
   },
   "outputs": [
    {
     "data": {
      "text/html": [
       "<div>\n",
       "<style scoped>\n",
       "    .dataframe tbody tr th:only-of-type {\n",
       "        vertical-align: middle;\n",
       "    }\n",
       "\n",
       "    .dataframe tbody tr th {\n",
       "        vertical-align: top;\n",
       "    }\n",
       "\n",
       "    .dataframe thead th {\n",
       "        text-align: right;\n",
       "    }\n",
       "</style>\n",
       "<table border=\"1\" class=\"dataframe\">\n",
       "  <thead>\n",
       "    <tr style=\"text-align: right;\">\n",
       "      <th></th>\n",
       "      <th>ID</th>\n",
       "      <th>Name</th>\n",
       "      <th>global_id</th>\n",
       "      <th>IsNetObject</th>\n",
       "      <th>OperatingCompany</th>\n",
       "      <th>TypeObject</th>\n",
       "      <th>AdmArea</th>\n",
       "      <th>District</th>\n",
       "      <th>Address</th>\n",
       "      <th>PublicPhone</th>\n",
       "      <th>...</th>\n",
       "      <th>District_en</th>\n",
       "      <th>Address_en</th>\n",
       "      <th>PublicPhone_en</th>\n",
       "      <th>SeatsCount_en</th>\n",
       "      <th>SocialPrivileges_en</th>\n",
       "      <th>Longitude_WGS84_en</th>\n",
       "      <th>Latitude_WGS84_en</th>\n",
       "      <th>geodata_center</th>\n",
       "      <th>geoarea</th>\n",
       "      <th>street</th>\n",
       "    </tr>\n",
       "  </thead>\n",
       "  <tbody>\n",
       "    <tr>\n",
       "      <th>0</th>\n",
       "      <td>Код</td>\n",
       "      <td>Наименование</td>\n",
       "      <td>global_id</td>\n",
       "      <td>Является сетевым</td>\n",
       "      <td>Название управляющей компании</td>\n",
       "      <td>Вид объекта</td>\n",
       "      <td>Административный округ по адресу</td>\n",
       "      <td>Район</td>\n",
       "      <td>Адрес</td>\n",
       "      <td>Контактный телефон</td>\n",
       "      <td>...</td>\n",
       "      <td>District_en</td>\n",
       "      <td>Address_en</td>\n",
       "      <td>PublicPhone_en</td>\n",
       "      <td>SeatsCount_en</td>\n",
       "      <td>SocialPrivileges_en</td>\n",
       "      <td>Longitude_WGS84_en</td>\n",
       "      <td>Latitude_WGS84_en</td>\n",
       "      <td>geodata_center</td>\n",
       "      <td>geoarea</td>\n",
       "      <td>None</td>\n",
       "    </tr>\n",
       "    <tr>\n",
       "      <th>1</th>\n",
       "      <td>00151635</td>\n",
       "      <td>СМЕТАНА</td>\n",
       "      <td>637376221</td>\n",
       "      <td>нет</td>\n",
       "      <td>NaN</td>\n",
       "      <td>кафе</td>\n",
       "      <td>Северо-Восточный административный округ</td>\n",
       "      <td>Ярославский район</td>\n",
       "      <td>город Москва, улица Егора Абакумова, дом 9</td>\n",
       "      <td>PublicPhone:(499) 183-14-10\\n\\n</td>\n",
       "      <td>...</td>\n",
       "      <td>NaN</td>\n",
       "      <td>NaN</td>\n",
       "      <td>NaN</td>\n",
       "      <td>NaN</td>\n",
       "      <td>NaN</td>\n",
       "      <td>NaN</td>\n",
       "      <td>NaN</td>\n",
       "      <td>{\"coordinates\":[37.714565000436,55.87900153130...</td>\n",
       "      <td>NaN</td>\n",
       "      <td>улица Егора Абакумова</td>\n",
       "    </tr>\n",
       "  </tbody>\n",
       "</table>\n",
       "<p>2 rows × 30 columns</p>\n",
       "</div>"
      ],
      "text/plain": [
       "         ID          Name  global_id       IsNetObject  \\\n",
       "0       Код  Наименование  global_id  Является сетевым   \n",
       "1  00151635       СМЕТАНА  637376221               нет   \n",
       "\n",
       "                OperatingCompany   TypeObject  \\\n",
       "0  Название управляющей компании  Вид объекта   \n",
       "1                            NaN         кафе   \n",
       "\n",
       "                                   AdmArea           District  \\\n",
       "0         Административный округ по адресу              Район   \n",
       "1  Северо-Восточный административный округ  Ярославский район   \n",
       "\n",
       "                                      Address  \\\n",
       "0                                       Адрес   \n",
       "1  город Москва, улица Егора Абакумова, дом 9   \n",
       "\n",
       "                       PublicPhone  ...  District_en  Address_en  \\\n",
       "0               Контактный телефон  ...  District_en  Address_en   \n",
       "1  PublicPhone:(499) 183-14-10\\n\\n  ...          NaN         NaN   \n",
       "\n",
       "   PublicPhone_en  SeatsCount_en  SocialPrivileges_en  Longitude_WGS84_en  \\\n",
       "0  PublicPhone_en  SeatsCount_en  SocialPrivileges_en  Longitude_WGS84_en   \n",
       "1             NaN            NaN                  NaN                 NaN   \n",
       "\n",
       "   Latitude_WGS84_en                                     geodata_center  \\\n",
       "0  Latitude_WGS84_en                                     geodata_center   \n",
       "1                NaN  {\"coordinates\":[37.714565000436,55.87900153130...   \n",
       "\n",
       "   geoarea                  street  \n",
       "0  geoarea                    None  \n",
       "1      NaN   улица Егора Абакумова  \n",
       "\n",
       "[2 rows x 30 columns]"
      ]
     },
     "execution_count": 30,
     "metadata": {},
     "output_type": "execute_result"
    }
   ],
   "source": [
    "address_spl = df['Address'].str.split(',', expand=True)\n",
    "df['street'] = address_spl[1]\n",
    "df.head(2)"
   ]
  },
  {
   "cell_type": "code",
   "execution_count": 31,
   "metadata": {
    "scrolled": true
   },
   "outputs": [],
   "source": [
    "# Обогатим нашу таблицу с топ-10 улицами сведениями о районах из внешней таблицы\n",
    "streets_merged = streets_with_max_objects.merge(df[['District', 'street']], on='street', how='inner')"
   ]
  },
  {
   "cell_type": "code",
   "execution_count": 32,
   "metadata": {
    "scrolled": true
   },
   "outputs": [
    {
     "data": {
      "text/html": [
       "<div>\n",
       "<style scoped>\n",
       "    .dataframe tbody tr th:only-of-type {\n",
       "        vertical-align: middle;\n",
       "    }\n",
       "\n",
       "    .dataframe tbody tr th {\n",
       "        vertical-align: top;\n",
       "    }\n",
       "\n",
       "    .dataframe thead th {\n",
       "        text-align: right;\n",
       "    }\n",
       "</style>\n",
       "<table border=\"1\" class=\"dataframe\">\n",
       "  <thead>\n",
       "    <tr style=\"text-align: right;\">\n",
       "      <th></th>\n",
       "      <th>street</th>\n",
       "      <th>amount_of_objects</th>\n",
       "      <th>District</th>\n",
       "    </tr>\n",
       "  </thead>\n",
       "  <tbody>\n",
       "    <tr>\n",
       "      <th>0</th>\n",
       "      <td>проспект Мира</td>\n",
       "      <td>204</td>\n",
       "      <td>Мещанский район</td>\n",
       "    </tr>\n",
       "    <tr>\n",
       "      <th>1</th>\n",
       "      <td>проспект Мира</td>\n",
       "      <td>204</td>\n",
       "      <td>Мещанский район</td>\n",
       "    </tr>\n",
       "    <tr>\n",
       "      <th>2</th>\n",
       "      <td>проспект Мира</td>\n",
       "      <td>204</td>\n",
       "      <td>Мещанский район</td>\n",
       "    </tr>\n",
       "    <tr>\n",
       "      <th>3</th>\n",
       "      <td>проспект Мира</td>\n",
       "      <td>204</td>\n",
       "      <td>Мещанский район</td>\n",
       "    </tr>\n",
       "    <tr>\n",
       "      <th>4</th>\n",
       "      <td>проспект Мира</td>\n",
       "      <td>204</td>\n",
       "      <td>Мещанский район</td>\n",
       "    </tr>\n",
       "    <tr>\n",
       "      <th>...</th>\n",
       "      <td>...</td>\n",
       "      <td>...</td>\n",
       "      <td>...</td>\n",
       "    </tr>\n",
       "    <tr>\n",
       "      <th>1511</th>\n",
       "      <td>Кировоградская улица</td>\n",
       "      <td>110</td>\n",
       "      <td>район Чертаново Центральное</td>\n",
       "    </tr>\n",
       "    <tr>\n",
       "      <th>1512</th>\n",
       "      <td>Кировоградская улица</td>\n",
       "      <td>110</td>\n",
       "      <td>район Чертаново Центральное</td>\n",
       "    </tr>\n",
       "    <tr>\n",
       "      <th>1513</th>\n",
       "      <td>Кировоградская улица</td>\n",
       "      <td>110</td>\n",
       "      <td>район Чертаново Центральное</td>\n",
       "    </tr>\n",
       "    <tr>\n",
       "      <th>1514</th>\n",
       "      <td>Кировоградская улица</td>\n",
       "      <td>110</td>\n",
       "      <td>район Чертаново Центральное</td>\n",
       "    </tr>\n",
       "    <tr>\n",
       "      <th>1515</th>\n",
       "      <td>Кировоградская улица</td>\n",
       "      <td>110</td>\n",
       "      <td>район Чертаново Северное</td>\n",
       "    </tr>\n",
       "  </tbody>\n",
       "</table>\n",
       "<p>1516 rows × 3 columns</p>\n",
       "</div>"
      ],
      "text/plain": [
       "                     street  amount_of_objects                     District\n",
       "0             проспект Мира                204              Мещанский район\n",
       "1             проспект Мира                204              Мещанский район\n",
       "2             проспект Мира                204              Мещанский район\n",
       "3             проспект Мира                204              Мещанский район\n",
       "4             проспект Мира                204              Мещанский район\n",
       "...                     ...                ...                          ...\n",
       "1511   Кировоградская улица                110  район Чертаново Центральное\n",
       "1512   Кировоградская улица                110  район Чертаново Центральное\n",
       "1513   Кировоградская улица                110  район Чертаново Центральное\n",
       "1514   Кировоградская улица                110  район Чертаново Центральное\n",
       "1515   Кировоградская улица                110     район Чертаново Северное\n",
       "\n",
       "[1516 rows x 3 columns]"
      ]
     },
     "execution_count": 32,
     "metadata": {},
     "output_type": "execute_result"
    }
   ],
   "source": [
    "streets_merged"
   ]
  },
  {
   "cell_type": "markdown",
   "metadata": {},
   "source": [
    "Есть дубликаты, избавимся от них."
   ]
  },
  {
   "cell_type": "code",
   "execution_count": 33,
   "metadata": {
    "scrolled": true
   },
   "outputs": [
    {
     "data": {
      "text/html": [
       "<div>\n",
       "<style scoped>\n",
       "    .dataframe tbody tr th:only-of-type {\n",
       "        vertical-align: middle;\n",
       "    }\n",
       "\n",
       "    .dataframe tbody tr th {\n",
       "        vertical-align: top;\n",
       "    }\n",
       "\n",
       "    .dataframe thead th {\n",
       "        text-align: right;\n",
       "    }\n",
       "</style>\n",
       "<table border=\"1\" class=\"dataframe\">\n",
       "  <thead>\n",
       "    <tr style=\"text-align: right;\">\n",
       "      <th></th>\n",
       "      <th>street</th>\n",
       "      <th>District</th>\n",
       "    </tr>\n",
       "  </thead>\n",
       "  <tbody>\n",
       "    <tr>\n",
       "      <th>0</th>\n",
       "      <td>проспект Мира</td>\n",
       "      <td>Мещанский район</td>\n",
       "    </tr>\n",
       "    <tr>\n",
       "      <th>1</th>\n",
       "      <td>проспект Мира</td>\n",
       "      <td>Останкинский район</td>\n",
       "    </tr>\n",
       "    <tr>\n",
       "      <th>2</th>\n",
       "      <td>проспект Мира</td>\n",
       "      <td>Алексеевский район</td>\n",
       "    </tr>\n",
       "    <tr>\n",
       "      <th>3</th>\n",
       "      <td>проспект Мира</td>\n",
       "      <td>район Свиблово</td>\n",
       "    </tr>\n",
       "    <tr>\n",
       "      <th>4</th>\n",
       "      <td>проспект Мира</td>\n",
       "      <td>район Ростокино</td>\n",
       "    </tr>\n",
       "    <tr>\n",
       "      <th>5</th>\n",
       "      <td>Профсоюзная улица</td>\n",
       "      <td>Академический район</td>\n",
       "    </tr>\n",
       "    <tr>\n",
       "      <th>6</th>\n",
       "      <td>Профсоюзная улица</td>\n",
       "      <td>район Черёмушки</td>\n",
       "    </tr>\n",
       "    <tr>\n",
       "      <th>7</th>\n",
       "      <td>Профсоюзная улица</td>\n",
       "      <td>район Тёплый Стан</td>\n",
       "    </tr>\n",
       "    <tr>\n",
       "      <th>8</th>\n",
       "      <td>Профсоюзная улица</td>\n",
       "      <td>район Коньково</td>\n",
       "    </tr>\n",
       "    <tr>\n",
       "      <th>9</th>\n",
       "      <td>Профсоюзная улица</td>\n",
       "      <td>Обручевский район</td>\n",
       "    </tr>\n",
       "    <tr>\n",
       "      <th>10</th>\n",
       "      <td>Профсоюзная улица</td>\n",
       "      <td>район Ясенево</td>\n",
       "    </tr>\n",
       "    <tr>\n",
       "      <th>11</th>\n",
       "      <td>Ленинградский проспект</td>\n",
       "      <td>район Беговой</td>\n",
       "    </tr>\n",
       "    <tr>\n",
       "      <th>12</th>\n",
       "      <td>Ленинградский проспект</td>\n",
       "      <td>район Аэропорт</td>\n",
       "    </tr>\n",
       "    <tr>\n",
       "      <th>13</th>\n",
       "      <td>Ленинградский проспект</td>\n",
       "      <td>район Сокол</td>\n",
       "    </tr>\n",
       "    <tr>\n",
       "      <th>14</th>\n",
       "      <td>Ленинградский проспект</td>\n",
       "      <td>Хорошёвский район</td>\n",
       "    </tr>\n",
       "    <tr>\n",
       "      <th>15</th>\n",
       "      <td>Пресненская набережная</td>\n",
       "      <td>Пресненский район</td>\n",
       "    </tr>\n",
       "    <tr>\n",
       "      <th>16</th>\n",
       "      <td>Варшавское шоссе</td>\n",
       "      <td>Донской район</td>\n",
       "    </tr>\n",
       "    <tr>\n",
       "      <th>17</th>\n",
       "      <td>Варшавское шоссе</td>\n",
       "      <td>Нагорный район</td>\n",
       "    </tr>\n",
       "    <tr>\n",
       "      <th>18</th>\n",
       "      <td>Варшавское шоссе</td>\n",
       "      <td>район Чертаново Южное</td>\n",
       "    </tr>\n",
       "    <tr>\n",
       "      <th>19</th>\n",
       "      <td>Варшавское шоссе</td>\n",
       "      <td>район Чертаново Центральное</td>\n",
       "    </tr>\n",
       "    <tr>\n",
       "      <th>20</th>\n",
       "      <td>Варшавское шоссе</td>\n",
       "      <td>район Чертаново Северное</td>\n",
       "    </tr>\n",
       "    <tr>\n",
       "      <th>21</th>\n",
       "      <td>Варшавское шоссе</td>\n",
       "      <td>район Южное Бутово</td>\n",
       "    </tr>\n",
       "    <tr>\n",
       "      <th>22</th>\n",
       "      <td>Варшавское шоссе</td>\n",
       "      <td>район Нагатино-Садовники</td>\n",
       "    </tr>\n",
       "    <tr>\n",
       "      <th>23</th>\n",
       "      <td>Ленинский проспект</td>\n",
       "      <td>район Якиманка</td>\n",
       "    </tr>\n",
       "    <tr>\n",
       "      <th>24</th>\n",
       "      <td>Ленинский проспект</td>\n",
       "      <td>Донской район</td>\n",
       "    </tr>\n",
       "    <tr>\n",
       "      <th>25</th>\n",
       "      <td>Ленинский проспект</td>\n",
       "      <td>Гагаринский район</td>\n",
       "    </tr>\n",
       "    <tr>\n",
       "      <th>26</th>\n",
       "      <td>Ленинский проспект</td>\n",
       "      <td>Ломоносовский район</td>\n",
       "    </tr>\n",
       "    <tr>\n",
       "      <th>27</th>\n",
       "      <td>Ленинский проспект</td>\n",
       "      <td>Обручевский район</td>\n",
       "    </tr>\n",
       "    <tr>\n",
       "      <th>28</th>\n",
       "      <td>Ленинский проспект</td>\n",
       "      <td>район Тропарёво-Никулино</td>\n",
       "    </tr>\n",
       "    <tr>\n",
       "      <th>29</th>\n",
       "      <td>Ленинский проспект</td>\n",
       "      <td>район Тёплый Стан</td>\n",
       "    </tr>\n",
       "    <tr>\n",
       "      <th>30</th>\n",
       "      <td>Ленинский проспект</td>\n",
       "      <td>район Проспект Вернадского</td>\n",
       "    </tr>\n",
       "    <tr>\n",
       "      <th>31</th>\n",
       "      <td>проспект Вернадского</td>\n",
       "      <td>Ломоносовский район</td>\n",
       "    </tr>\n",
       "    <tr>\n",
       "      <th>32</th>\n",
       "      <td>проспект Вернадского</td>\n",
       "      <td>район Тропарёво-Никулино</td>\n",
       "    </tr>\n",
       "    <tr>\n",
       "      <th>33</th>\n",
       "      <td>проспект Вернадского</td>\n",
       "      <td>район Проспект Вернадского</td>\n",
       "    </tr>\n",
       "    <tr>\n",
       "      <th>34</th>\n",
       "      <td>проспект Вернадского</td>\n",
       "      <td>поселение Вороновское</td>\n",
       "    </tr>\n",
       "    <tr>\n",
       "      <th>35</th>\n",
       "      <td>проспект Вернадского</td>\n",
       "      <td>район Раменки</td>\n",
       "    </tr>\n",
       "    <tr>\n",
       "      <th>36</th>\n",
       "      <td>Кутузовский проспект</td>\n",
       "      <td>район Дорогомилово</td>\n",
       "    </tr>\n",
       "    <tr>\n",
       "      <th>37</th>\n",
       "      <td>Кутузовский проспект</td>\n",
       "      <td>район Фили-Давыдково</td>\n",
       "    </tr>\n",
       "    <tr>\n",
       "      <th>38</th>\n",
       "      <td>Кутузовский проспект</td>\n",
       "      <td>поселение Краснопахорское</td>\n",
       "    </tr>\n",
       "    <tr>\n",
       "      <th>39</th>\n",
       "      <td>Каширское шоссе</td>\n",
       "      <td>район Москворечье-Сабурово</td>\n",
       "    </tr>\n",
       "    <tr>\n",
       "      <th>40</th>\n",
       "      <td>Каширское шоссе</td>\n",
       "      <td>район Нагатино-Садовники</td>\n",
       "    </tr>\n",
       "    <tr>\n",
       "      <th>41</th>\n",
       "      <td>Каширское шоссе</td>\n",
       "      <td>район Орехово-Борисово Южное</td>\n",
       "    </tr>\n",
       "    <tr>\n",
       "      <th>42</th>\n",
       "      <td>Каширское шоссе</td>\n",
       "      <td>район Орехово-Борисово Северное</td>\n",
       "    </tr>\n",
       "    <tr>\n",
       "      <th>43</th>\n",
       "      <td>Кировоградская улица</td>\n",
       "      <td>район Чертаново Южное</td>\n",
       "    </tr>\n",
       "    <tr>\n",
       "      <th>44</th>\n",
       "      <td>Кировоградская улица</td>\n",
       "      <td>район Чертаново Центральное</td>\n",
       "    </tr>\n",
       "    <tr>\n",
       "      <th>45</th>\n",
       "      <td>Кировоградская улица</td>\n",
       "      <td>район Чертаново Северное</td>\n",
       "    </tr>\n",
       "  </tbody>\n",
       "</table>\n",
       "</div>"
      ],
      "text/plain": [
       "                     street                         District\n",
       "0             проспект Мира                  Мещанский район\n",
       "1             проспект Мира               Останкинский район\n",
       "2             проспект Мира               Алексеевский район\n",
       "3             проспект Мира                   район Свиблово\n",
       "4             проспект Мира                  район Ростокино\n",
       "5         Профсоюзная улица              Академический район\n",
       "6         Профсоюзная улица                  район Черёмушки\n",
       "7         Профсоюзная улица                район Тёплый Стан\n",
       "8         Профсоюзная улица                   район Коньково\n",
       "9         Профсоюзная улица                Обручевский район\n",
       "10        Профсоюзная улица                    район Ясенево\n",
       "11   Ленинградский проспект                    район Беговой\n",
       "12   Ленинградский проспект                   район Аэропорт\n",
       "13   Ленинградский проспект                      район Сокол\n",
       "14   Ленинградский проспект                Хорошёвский район\n",
       "15   Пресненская набережная                Пресненский район\n",
       "16         Варшавское шоссе                    Донской район\n",
       "17         Варшавское шоссе                   Нагорный район\n",
       "18         Варшавское шоссе            район Чертаново Южное\n",
       "19         Варшавское шоссе      район Чертаново Центральное\n",
       "20         Варшавское шоссе         район Чертаново Северное\n",
       "21         Варшавское шоссе               район Южное Бутово\n",
       "22         Варшавское шоссе         район Нагатино-Садовники\n",
       "23       Ленинский проспект                   район Якиманка\n",
       "24       Ленинский проспект                    Донской район\n",
       "25       Ленинский проспект                Гагаринский район\n",
       "26       Ленинский проспект              Ломоносовский район\n",
       "27       Ленинский проспект                Обручевский район\n",
       "28       Ленинский проспект         район Тропарёво-Никулино\n",
       "29       Ленинский проспект                район Тёплый Стан\n",
       "30       Ленинский проспект       район Проспект Вернадского\n",
       "31     проспект Вернадского              Ломоносовский район\n",
       "32     проспект Вернадского         район Тропарёво-Никулино\n",
       "33     проспект Вернадского       район Проспект Вернадского\n",
       "34     проспект Вернадского            поселение Вороновское\n",
       "35     проспект Вернадского                    район Раменки\n",
       "36     Кутузовский проспект               район Дорогомилово\n",
       "37     Кутузовский проспект             район Фили-Давыдково\n",
       "38     Кутузовский проспект        поселение Краснопахорское\n",
       "39          Каширское шоссе       район Москворечье-Сабурово\n",
       "40          Каширское шоссе         район Нагатино-Садовники\n",
       "41          Каширское шоссе     район Орехово-Борисово Южное\n",
       "42          Каширское шоссе  район Орехово-Борисово Северное\n",
       "43     Кировоградская улица            район Чертаново Южное\n",
       "44     Кировоградская улица      район Чертаново Центральное\n",
       "45     Кировоградская улица         район Чертаново Северное"
      ]
     },
     "execution_count": 33,
     "metadata": {},
     "output_type": "execute_result"
    }
   ],
   "source": [
    "streets_merged.drop_duplicates().reset_index(drop=True).drop('amount_of_objects', 1)"
   ]
  },
  {
   "cell_type": "markdown",
   "metadata": {},
   "source": [
    "**Вывод**\\\n",
    "Мы нашли информацию, в каких районах находятся улицы с максимальным количеством объектов общественного питания."
   ]
  },
  {
   "cell_type": "markdown",
   "metadata": {},
   "source": [
    "<a id=\"analize8\"></a>\n",
    "###  Найдем число улиц с одним объектом общественного питания. Ответим на вопрос — в каких районах Москвы находятся эти улицы?"
   ]
  },
  {
   "cell_type": "code",
   "execution_count": 34,
   "metadata": {},
   "outputs": [],
   "source": [
    "streets_with_1_object = (\n",
    "    data.pivot_table(index='street', values='id', aggfunc='count')\n",
    "        .sort_values(by='id', ascending=False)\n",
    "        .reset_index()\n",
    ")\n",
    "\n",
    "streets_with_1_object.columns = ['street', 'amount_of_objects']\n",
    "streets_with_1_object = streets_with_1_object.query('amount_of_objects == 1')"
   ]
  },
  {
   "cell_type": "code",
   "execution_count": 35,
   "metadata": {
    "scrolled": true
   },
   "outputs": [
    {
     "data": {
      "text/html": [
       "<div>\n",
       "<style scoped>\n",
       "    .dataframe tbody tr th:only-of-type {\n",
       "        vertical-align: middle;\n",
       "    }\n",
       "\n",
       "    .dataframe tbody tr th {\n",
       "        vertical-align: top;\n",
       "    }\n",
       "\n",
       "    .dataframe thead th {\n",
       "        text-align: right;\n",
       "    }\n",
       "</style>\n",
       "<table border=\"1\" class=\"dataframe\">\n",
       "  <thead>\n",
       "    <tr style=\"text-align: right;\">\n",
       "      <th></th>\n",
       "      <th>street</th>\n",
       "      <th>amount_of_objects</th>\n",
       "    </tr>\n",
       "  </thead>\n",
       "  <tbody>\n",
       "    <tr>\n",
       "      <th>1321</th>\n",
       "      <td>улица Демьяна Бедного</td>\n",
       "      <td>1</td>\n",
       "    </tr>\n",
       "    <tr>\n",
       "      <th>1322</th>\n",
       "      <td>Андреево-Забелинская улица</td>\n",
       "      <td>1</td>\n",
       "    </tr>\n",
       "    <tr>\n",
       "      <th>1323</th>\n",
       "      <td>1-й Саратовский проезд</td>\n",
       "      <td>1</td>\n",
       "    </tr>\n",
       "    <tr>\n",
       "      <th>1324</th>\n",
       "      <td>Андроньевская площадь</td>\n",
       "      <td>1</td>\n",
       "    </tr>\n",
       "    <tr>\n",
       "      <th>1325</th>\n",
       "      <td>2-й Стрелецкий проезд</td>\n",
       "      <td>1</td>\n",
       "    </tr>\n",
       "  </tbody>\n",
       "</table>\n",
       "</div>"
      ],
      "text/plain": [
       "                           street  amount_of_objects\n",
       "1321        улица Демьяна Бедного                  1\n",
       "1322   Андреево-Забелинская улица                  1\n",
       "1323       1-й Саратовский проезд                  1\n",
       "1324        Андроньевская площадь                  1\n",
       "1325        2-й Стрелецкий проезд                  1"
      ]
     },
     "execution_count": 35,
     "metadata": {},
     "output_type": "execute_result"
    }
   ],
   "source": [
    "streets_with_1_object.head()"
   ]
  },
  {
   "cell_type": "code",
   "execution_count": 36,
   "metadata": {},
   "outputs": [
    {
     "data": {
      "text/plain": [
       "(579, 2)"
      ]
     },
     "execution_count": 36,
     "metadata": {},
     "output_type": "execute_result"
    }
   ],
   "source": [
    "streets_with_1_object.shape"
   ]
  },
  {
   "cell_type": "code",
   "execution_count": 37,
   "metadata": {},
   "outputs": [
    {
     "data": {
      "text/plain": [
       "(1831,)"
      ]
     },
     "execution_count": 37,
     "metadata": {},
     "output_type": "execute_result"
    }
   ],
   "source": [
    "df['street'].unique().shape"
   ]
  },
  {
   "cell_type": "markdown",
   "metadata": {},
   "source": [
    "Объединим эту таблицу с таблицей, где указаны районы."
   ]
  },
  {
   "cell_type": "code",
   "execution_count": 38,
   "metadata": {},
   "outputs": [],
   "source": [
    "streets_1_ob_merged = streets_with_max_objects.merge(df[['District', 'street']], on='street', how='inner')"
   ]
  },
  {
   "cell_type": "code",
   "execution_count": 39,
   "metadata": {
    "scrolled": false
   },
   "outputs": [
    {
     "data": {
      "text/html": [
       "<div>\n",
       "<style scoped>\n",
       "    .dataframe tbody tr th:only-of-type {\n",
       "        vertical-align: middle;\n",
       "    }\n",
       "\n",
       "    .dataframe tbody tr th {\n",
       "        vertical-align: top;\n",
       "    }\n",
       "\n",
       "    .dataframe thead th {\n",
       "        text-align: right;\n",
       "    }\n",
       "</style>\n",
       "<table border=\"1\" class=\"dataframe\">\n",
       "  <thead>\n",
       "    <tr style=\"text-align: right;\">\n",
       "      <th></th>\n",
       "      <th>street</th>\n",
       "      <th>amount_of_objects</th>\n",
       "      <th>District</th>\n",
       "    </tr>\n",
       "  </thead>\n",
       "  <tbody>\n",
       "    <tr>\n",
       "      <th>0</th>\n",
       "      <td>проспект Мира</td>\n",
       "      <td>204</td>\n",
       "      <td>Мещанский район</td>\n",
       "    </tr>\n",
       "    <tr>\n",
       "      <th>1</th>\n",
       "      <td>проспект Мира</td>\n",
       "      <td>204</td>\n",
       "      <td>Мещанский район</td>\n",
       "    </tr>\n",
       "    <tr>\n",
       "      <th>2</th>\n",
       "      <td>проспект Мира</td>\n",
       "      <td>204</td>\n",
       "      <td>Мещанский район</td>\n",
       "    </tr>\n",
       "    <tr>\n",
       "      <th>3</th>\n",
       "      <td>проспект Мира</td>\n",
       "      <td>204</td>\n",
       "      <td>Мещанский район</td>\n",
       "    </tr>\n",
       "    <tr>\n",
       "      <th>4</th>\n",
       "      <td>проспект Мира</td>\n",
       "      <td>204</td>\n",
       "      <td>Мещанский район</td>\n",
       "    </tr>\n",
       "    <tr>\n",
       "      <th>...</th>\n",
       "      <td>...</td>\n",
       "      <td>...</td>\n",
       "      <td>...</td>\n",
       "    </tr>\n",
       "    <tr>\n",
       "      <th>1511</th>\n",
       "      <td>Кировоградская улица</td>\n",
       "      <td>110</td>\n",
       "      <td>район Чертаново Центральное</td>\n",
       "    </tr>\n",
       "    <tr>\n",
       "      <th>1512</th>\n",
       "      <td>Кировоградская улица</td>\n",
       "      <td>110</td>\n",
       "      <td>район Чертаново Центральное</td>\n",
       "    </tr>\n",
       "    <tr>\n",
       "      <th>1513</th>\n",
       "      <td>Кировоградская улица</td>\n",
       "      <td>110</td>\n",
       "      <td>район Чертаново Центральное</td>\n",
       "    </tr>\n",
       "    <tr>\n",
       "      <th>1514</th>\n",
       "      <td>Кировоградская улица</td>\n",
       "      <td>110</td>\n",
       "      <td>район Чертаново Центральное</td>\n",
       "    </tr>\n",
       "    <tr>\n",
       "      <th>1515</th>\n",
       "      <td>Кировоградская улица</td>\n",
       "      <td>110</td>\n",
       "      <td>район Чертаново Северное</td>\n",
       "    </tr>\n",
       "  </tbody>\n",
       "</table>\n",
       "<p>1516 rows × 3 columns</p>\n",
       "</div>"
      ],
      "text/plain": [
       "                     street  amount_of_objects                     District\n",
       "0             проспект Мира                204              Мещанский район\n",
       "1             проспект Мира                204              Мещанский район\n",
       "2             проспект Мира                204              Мещанский район\n",
       "3             проспект Мира                204              Мещанский район\n",
       "4             проспект Мира                204              Мещанский район\n",
       "...                     ...                ...                          ...\n",
       "1511   Кировоградская улица                110  район Чертаново Центральное\n",
       "1512   Кировоградская улица                110  район Чертаново Центральное\n",
       "1513   Кировоградская улица                110  район Чертаново Центральное\n",
       "1514   Кировоградская улица                110  район Чертаново Центральное\n",
       "1515   Кировоградская улица                110     район Чертаново Северное\n",
       "\n",
       "[1516 rows x 3 columns]"
      ]
     },
     "execution_count": 39,
     "metadata": {},
     "output_type": "execute_result"
    }
   ],
   "source": [
    "streets_1_ob_merged"
   ]
  },
  {
   "cell_type": "markdown",
   "metadata": {},
   "source": [
    "Выведем уникальные названия районов, где находятся улицы с одним объектом общественного питания."
   ]
  },
  {
   "cell_type": "code",
   "execution_count": 40,
   "metadata": {
    "scrolled": true
   },
   "outputs": [
    {
     "name": "stdout",
     "output_type": "stream",
     "text": [
      "* Академический район\n",
      "* Алексеевский район\n",
      "* Гагаринский район\n",
      "* Донской район\n",
      "* Ломоносовский район\n",
      "* Мещанский район\n",
      "* Нагорный район\n",
      "* Обручевский район\n",
      "* Останкинский район\n",
      "* Пресненский район\n",
      "* Хорошёвский район\n",
      "* поселение Вороновское\n",
      "* поселение Краснопахорское\n",
      "* район Аэропорт\n",
      "* район Беговой\n",
      "* район Дорогомилово\n",
      "* район Коньково\n",
      "* район Москворечье-Сабурово\n",
      "* район Нагатино-Садовники\n",
      "* район Орехово-Борисово Северное\n",
      "* район Орехово-Борисово Южное\n",
      "* район Проспект Вернадского\n",
      "* район Раменки\n",
      "* район Ростокино\n",
      "* район Свиблово\n",
      "* район Сокол\n",
      "* район Тропарёво-Никулино\n",
      "* район Тёплый Стан\n",
      "* район Фили-Давыдково\n",
      "* район Чертаново Северное\n",
      "* район Чертаново Центральное\n",
      "* район Чертаново Южное\n",
      "* район Черёмушки\n",
      "* район Южное Бутово\n",
      "* район Якиманка\n",
      "* район Ясенево\n"
     ]
    }
   ],
   "source": [
    "for district in streets_1_ob_merged['District'].sort_values().unique():\n",
    "   print('*', district)"
   ]
  },
  {
   "cell_type": "code",
   "execution_count": 41,
   "metadata": {},
   "outputs": [
    {
     "data": {
      "text/plain": [
       "(36,)"
      ]
     },
     "execution_count": 41,
     "metadata": {},
     "output_type": "execute_result"
    }
   ],
   "source": [
    "streets_1_ob_merged['District'].unique().shape"
   ]
  },
  {
   "cell_type": "markdown",
   "metadata": {},
   "source": [
    "**Вывод**\\\n",
    "Итак, всего улиц с одним объектом общественного питания в Москве - 579. Это составляет около 31% от общего количества всех улиц. Также у нас есть список с 36 районами, в которых располагаются улицы с одним объектом общественного питания."
   ]
  },
  {
   "cell_type": "markdown",
   "metadata": {},
   "source": [
    "<a id=\"analize9\"></a>\n",
    "###  Посмотрим на распределение количества посадочных мест для улиц с большим количеством объектов общественного питания. "
   ]
  },
  {
   "cell_type": "markdown",
   "metadata": {},
   "source": [
    "Для этого сначала создадим список с 10 улицами с наибольшим количеством объектов общественного питания. Потом сделаем срез по основной таблице, где будут только строки с этими улицами. И построим \"ящики с усами\"."
   ]
  },
  {
   "cell_type": "code",
   "execution_count": 42,
   "metadata": {},
   "outputs": [],
   "source": [
    "top_10_streets = streets_with_max_objects['street'].tolist()"
   ]
  },
  {
   "cell_type": "code",
   "execution_count": 43,
   "metadata": {},
   "outputs": [
    {
     "data": {
      "text/plain": [
       "[' проспект Мира',\n",
       " ' Профсоюзная улица',\n",
       " ' Ленинградский проспект',\n",
       " ' Пресненская набережная',\n",
       " ' Варшавское шоссе',\n",
       " ' Ленинский проспект',\n",
       " ' проспект Вернадского',\n",
       " ' Кутузовский проспект',\n",
       " ' Каширское шоссе',\n",
       " ' Кировоградская улица']"
      ]
     },
     "execution_count": 43,
     "metadata": {},
     "output_type": "execute_result"
    }
   ],
   "source": [
    "top_10_streets"
   ]
  },
  {
   "cell_type": "code",
   "execution_count": 44,
   "metadata": {},
   "outputs": [],
   "source": [
    "top_data = data.query('street in @top_10_streets')"
   ]
  },
  {
   "cell_type": "code",
   "execution_count": 45,
   "metadata": {
    "scrolled": false
   },
   "outputs": [
    {
     "data": {
      "image/png": "[encoded data removed]",
      "text/plain": [
       "<Figure size 1152x720 with 1 Axes>"
      ]
     },
     "metadata": {
      "needs_background": "light"
     },
     "output_type": "display_data"
    }
   ],
   "source": [
    "plt.figure(figsize=(16,10))\n",
    "ax = sns.boxplot(x='number', y='street', data=top_data, palette='Set3')\n",
    "plt.title('Распределение количества посадочных мест в срезе по топ-10 улицам с выбросами', fontsize=16)\n",
    "plt.xlabel('Количество посадочных мест', fontsize=14)\n",
    "plt.ylabel('Улицы', fontsize=14);\n"
   ]
  },
  {
   "cell_type": "markdown",
   "metadata": {},
   "source": [
    "Из-за выбросов график не так информативен, избавимся от них"
   ]
  },
  {
   "cell_type": "code",
   "execution_count": 46,
   "metadata": {},
   "outputs": [
    {
     "data": {
      "image/png": "[encoded data removed]",
      "text/plain": [
       "<Figure size 1152x720 with 1 Axes>"
      ]
     },
     "metadata": {
      "needs_background": "light"
     },
     "output_type": "display_data"
    }
   ],
   "source": [
    "plt.figure(figsize=(16,10))\n",
    "ax = sns.boxplot(x='number', y='street', data=top_data, palette='Set3', showfliers=False)\n",
    "plt.title('Распределение количества посадочных мест в срезе по топ-10 улицам без выбросов')\n",
    "plt.xlabel('Количество посадочных мест')\n",
    "plt.ylabel('Улицы');\n",
    "ax.set_xlim(0,200);"
   ]
  },
  {
   "cell_type": "code",
   "execution_count": 47,
   "metadata": {},
   "outputs": [
    {
     "data": {
      "text/plain": [
       "40.0"
      ]
     },
     "execution_count": 47,
     "metadata": {},
     "output_type": "execute_result"
    }
   ],
   "source": [
    "top_data['number'].median()"
   ]
  },
  {
   "cell_type": "markdown",
   "metadata": {},
   "source": [
    "**Вывод**\\\n",
    "Итак, во-первых, есть выбросы. Во-вторых, улица c наибольшим разбросом количества посадочных мест - Кутузовский проспект. Основная масса заведений имеют не более 100-150 посадочных мест. А медианное значение количества посадочных мест в нашем топ-списке - 40 мест."
   ]
  },
  {
   "cell_type": "markdown",
   "metadata": {},
   "source": [
    "<a id=\"conclusion\"></a>\n",
    "## Общий вывод"
   ]
  },
  {
   "cell_type": "markdown",
   "metadata": {},
   "source": [
    "Итак, что мы выяснили:\n",
    "- Наибольшее количество типов объектов общественного притания составляют такие предприятия, как кафе (40% от общего числа заведений), столовые (17%), рестораны (15%) и предприятия быстрого обслуживания (13%).\n",
    "- Сетевых заведений всего лишь 20% от общего количества. Остальные предприятия - несетевые.\n",
    "- Сетевое распространение характерно для кафе (47% от общего количества сетевых заведений), предприятий быстрого обслуживания (27%) и ресторанов (18%). В меньшей степени оно характерно для магазинов (29% заведений), ресторанов (24% заведений) и кафе (23% заведений). Остальных типов среди сетевых заведений очень мало.\n",
    "- В среднем, 90% сетей имеют не более 130 посадочных мест и 6 заведений.\n",
    "- Для сетевых заведений характерно следующее - мало заведений с большим количеством посадочных мест.\n",
    "- **Среднее количество посадочных мест по типам объектов общественного питания:**\\\n",
    " *столовая* - 103\\\n",
    " *ресторан* - 80\\\n",
    " *бар* - 35\\\n",
    " *буфет* - 32\\\n",
    " *кафе* - 30\\\n",
    "Как мы видим, у типов объекта **столовая** наибольшее количество, в среднем, посадочных мест (103) \n",
    "\n",
    "- **Топ-10 улиц с наибольшим количеством заведений:**\n",
    " проспект Мира\n",
    " *Профсоюзная улица\\\n",
    " Ленинградский проспект\\\n",
    " Пресненская набережная\\\n",
    " Варшавское шоссе\\\n",
    " Ленинский проспект\\\n",
    " проспект Вернадского\\\n",
    " Кутузовский проспект\\\n",
    " Каширское шоссе\\\n",
    " Кировоградская улица*\n",
    " \n",
    "- Среднее количество посадочных мест в заведениях на топ-10 улицах равно 40.\n",
    "- У нас есть список из 36 районов, в которых есть улицы с одним объектом общественного питания.\n",
    " \n",
    "\n",
    "\n"
   ]
  },
  {
   "cell_type": "markdown",
   "metadata": {},
   "source": [
    "**РЕКОМЕНДАЦИИ**\\\n",
    "Честно говоря, хотелось бы побольше вводных данных от инвесторов... Но имеем, то что есть. Поскольку мы выяснили, что самые популярные заведения в Москве (предполагая, что поскольку их больше, то они и популярнее) - это кафе, предприятия фастфуд, столовые и рестораны, а мы по вводным данным и желаем открыть кафе. Значит тут все хорошо. Небольшое кафе с количеством 30-40 посадочных мест - хороший вариант. Самый главный вопрос - это то, где именно разместить кафе. Конечно, для ответа на этот вопрос желательно провести более глубокое исследование. Подробней изучить заведения, находящиеся на топ-10 улицах с максимальным количеством заведений. Может быть, изучить средний чек в заведениях, зависимость среднего чека от типа заведения. Что может повысить посещаемость - близость метро, наличие мест скопления людей (бизнес-центры, учебные заведения, какие-то крупные предприятия, отели, гостиницы). Это все тоже желательно изучить подробнее.\\\n",
    "По тому исследованию, которое я провела, мне кажется, есть **два пути**, по которому можно пойти.\n",
    "\n",
    "**1)** Рассмотреть топ-10 улиц, поскольку не просто так на них располагается максимальное количество разных заведений. Но есть и минус, большое количество конкурентов. Значит, надо искать идеи, как выгодно выделиться, чтобы привлечь клиентов.\\\n",
    "**2)** Рассмотреть районы, в которых есть улицы с одним заведением. Но тут тоже понадобиться новое исследование. Возможно среди этих районов найдутся перспективные, например, со стоящимися ЖК поблизости. Большой плюс этого подхода - меньше конкурентов. Но этот вопрос надо очень внимательно изучать, чтобы не ошибиться с выбором места."
   ]
  },
  {
   "cell_type": "markdown",
   "metadata": {},
   "source": [
    "**ССЫЛКА НА ПРЕЗЕНТАЦИЮ**"
   ]
  },
  {
   "cell_type": "markdown",
   "metadata": {},
   "source": [
    "Презентация: https://cloud.mail.ru/public/ZtWa/NejPhCcoP"
   ]
  }
 ],
 "metadata": {
  "ExecuteTimeLog": [
   {
    "duration": 1838,
    "start_time": "2022-05-03T08:56:32.999Z"
   },
   {
    "duration": 86,
    "start_time": "2022-05-03T08:56:55.405Z"
   },
   {
    "duration": 22,
    "start_time": "2022-05-03T08:57:05.101Z"
   },
   {
    "duration": 129,
    "start_time": "2022-05-03T08:57:29.964Z"
   },
   {
    "duration": 27,
    "start_time": "2022-05-03T08:57:41.961Z"
   },
   {
    "duration": 8,
    "start_time": "2022-05-03T08:58:01.199Z"
   },
   {
    "duration": 9,
    "start_time": "2022-05-03T08:58:09.059Z"
   },
   {
    "duration": 17,
    "start_time": "2022-05-03T08:58:16.434Z"
   },
   {
    "duration": 29,
    "start_time": "2022-05-03T08:59:00.022Z"
   },
   {
    "duration": 279,
    "start_time": "2022-05-03T08:59:26.018Z"
   },
   {
    "duration": 22,
    "start_time": "2022-05-03T09:00:18.507Z"
   },
   {
    "duration": 298,
    "start_time": "2022-05-03T09:00:36.758Z"
   },
   {
    "duration": 17,
    "start_time": "2022-05-03T09:01:21.389Z"
   },
   {
    "duration": 7,
    "start_time": "2022-05-03T09:01:28.388Z"
   },
   {
    "duration": 161,
    "start_time": "2022-05-03T09:01:33.056Z"
   },
   {
    "duration": 23,
    "start_time": "2022-05-03T09:02:29.284Z"
   },
   {
    "duration": 169,
    "start_time": "2022-05-03T09:02:46.162Z"
   },
   {
    "duration": 102,
    "start_time": "2022-05-03T09:03:10.239Z"
   },
   {
    "duration": 26,
    "start_time": "2022-05-03T09:03:49.289Z"
   },
   {
    "duration": 281,
    "start_time": "2022-05-03T09:04:10.641Z"
   },
   {
    "duration": 4,
    "start_time": "2022-05-03T09:05:44.124Z"
   },
   {
    "duration": 566,
    "start_time": "2022-05-03T09:06:01.109Z"
   },
   {
    "duration": 24,
    "start_time": "2022-05-03T09:06:46.165Z"
   },
   {
    "duration": 280,
    "start_time": "2022-05-03T09:06:56.587Z"
   },
   {
    "duration": 146,
    "start_time": "2022-05-03T09:07:47.458Z"
   },
   {
    "duration": 16,
    "start_time": "2022-05-03T09:07:57.928Z"
   },
   {
    "duration": 269,
    "start_time": "2022-05-03T09:08:18.298Z"
   },
   {
    "duration": 10,
    "start_time": "2022-05-03T09:08:28.067Z"
   },
   {
    "duration": 10,
    "start_time": "2022-05-03T09:35:02.101Z"
   },
   {
    "duration": 11,
    "start_time": "2022-05-03T09:35:09.162Z"
   },
   {
    "duration": 8,
    "start_time": "2022-05-03T09:35:29.144Z"
   },
   {
    "duration": 84,
    "start_time": "2022-05-03T09:35:29.154Z"
   },
   {
    "duration": 21,
    "start_time": "2022-05-03T09:35:29.240Z"
   },
   {
    "duration": 27,
    "start_time": "2022-05-03T09:35:29.264Z"
   },
   {
    "duration": 34,
    "start_time": "2022-05-03T09:35:29.294Z"
   },
   {
    "duration": 14,
    "start_time": "2022-05-03T09:35:29.331Z"
   },
   {
    "duration": 16,
    "start_time": "2022-05-03T09:35:29.348Z"
   },
   {
    "duration": 23,
    "start_time": "2022-05-03T09:35:29.366Z"
   },
   {
    "duration": 286,
    "start_time": "2022-05-03T09:35:29.425Z"
   },
   {
    "duration": 27,
    "start_time": "2022-05-03T09:35:29.714Z"
   },
   {
    "duration": 186,
    "start_time": "2022-05-03T09:35:29.745Z"
   },
   {
    "duration": 24,
    "start_time": "2022-05-03T09:35:29.933Z"
   },
   {
    "duration": 329,
    "start_time": "2022-05-03T09:35:29.959Z"
   },
   {
    "duration": 4,
    "start_time": "2022-05-03T09:35:30.290Z"
   },
   {
    "duration": 462,
    "start_time": "2022-05-03T09:35:30.296Z"
   },
   {
    "duration": 24,
    "start_time": "2022-05-03T09:35:30.760Z"
   },
   {
    "duration": 313,
    "start_time": "2022-05-03T09:35:30.786Z"
   },
   {
    "duration": 9,
    "start_time": "2022-05-03T09:35:34.226Z"
   },
   {
    "duration": 10,
    "start_time": "2022-05-03T09:35:34.685Z"
   },
   {
    "duration": 8,
    "start_time": "2022-05-03T09:44:26.633Z"
   },
   {
    "duration": 9,
    "start_time": "2022-05-03T09:44:27.759Z"
   },
   {
    "duration": 29,
    "start_time": "2022-05-03T09:52:18.327Z"
   },
   {
    "duration": 25,
    "start_time": "2022-05-03T09:52:19.668Z"
   },
   {
    "duration": 5,
    "start_time": "2022-05-03T09:59:23.775Z"
   },
   {
    "duration": 97,
    "start_time": "2022-05-03T09:59:57.052Z"
   },
   {
    "duration": 21,
    "start_time": "2022-05-03T10:01:41.947Z"
   },
   {
    "duration": 6,
    "start_time": "2022-05-03T10:01:43.721Z"
   },
   {
    "duration": 187,
    "start_time": "2022-05-03T10:01:44.076Z"
   },
   {
    "duration": 19,
    "start_time": "2022-05-03T10:03:03.732Z"
   },
   {
    "duration": 5,
    "start_time": "2022-05-03T10:03:04.676Z"
   },
   {
    "duration": 68,
    "start_time": "2022-05-03T10:03:05.280Z"
   },
   {
    "duration": 22,
    "start_time": "2022-05-03T10:03:07.026Z"
   },
   {
    "duration": 276,
    "start_time": "2022-05-03T10:03:27.054Z"
   },
   {
    "duration": 67,
    "start_time": "2022-05-03T10:03:45.106Z"
   },
   {
    "duration": 16,
    "start_time": "2022-05-03T10:03:46.423Z"
   },
   {
    "duration": 282,
    "start_time": "2022-05-03T10:03:49.078Z"
   },
   {
    "duration": 22,
    "start_time": "2022-05-03T10:04:34.182Z"
   },
   {
    "duration": 281,
    "start_time": "2022-05-03T10:04:51.291Z"
   },
   {
    "duration": 7,
    "start_time": "2022-05-03T10:05:06.727Z"
   },
   {
    "duration": 90,
    "start_time": "2022-05-03T10:05:06.736Z"
   },
   {
    "duration": 18,
    "start_time": "2022-05-03T10:05:06.829Z"
   },
   {
    "duration": 32,
    "start_time": "2022-05-03T10:05:06.849Z"
   },
   {
    "duration": 43,
    "start_time": "2022-05-03T10:05:06.885Z"
   },
   {
    "duration": 12,
    "start_time": "2022-05-03T10:05:06.931Z"
   },
   {
    "duration": 19,
    "start_time": "2022-05-03T10:05:06.946Z"
   },
   {
    "duration": 62,
    "start_time": "2022-05-03T10:05:06.967Z"
   },
   {
    "duration": 281,
    "start_time": "2022-05-03T10:05:07.031Z"
   },
   {
    "duration": 26,
    "start_time": "2022-05-03T10:05:07.315Z"
   },
   {
    "duration": 199,
    "start_time": "2022-05-03T10:05:07.344Z"
   },
   {
    "duration": 26,
    "start_time": "2022-05-03T10:05:07.545Z"
   },
   {
    "duration": 526,
    "start_time": "2022-05-03T10:05:07.573Z"
   },
   {
    "duration": 4,
    "start_time": "2022-05-03T10:05:08.101Z"
   },
   {
    "duration": 454,
    "start_time": "2022-05-03T10:05:08.107Z"
   },
   {
    "duration": 23,
    "start_time": "2022-05-03T10:05:08.564Z"
   },
   {
    "duration": 308,
    "start_time": "2022-05-03T10:05:08.590Z"
   },
   {
    "duration": 35,
    "start_time": "2022-05-03T10:05:08.900Z"
   },
   {
    "duration": 7,
    "start_time": "2022-05-03T10:05:08.937Z"
   },
   {
    "duration": 86,
    "start_time": "2022-05-03T10:05:08.946Z"
   },
   {
    "duration": 65,
    "start_time": "2022-05-03T10:05:10.430Z"
   },
   {
    "duration": 18,
    "start_time": "2022-05-03T10:05:14.755Z"
   },
   {
    "duration": 284,
    "start_time": "2022-05-03T10:05:28.224Z"
   },
   {
    "duration": 10,
    "start_time": "2022-05-03T10:05:35.354Z"
   },
   {
    "duration": 72,
    "start_time": "2022-05-03T10:06:28.494Z"
   },
   {
    "duration": 16,
    "start_time": "2022-05-03T10:06:29.839Z"
   },
   {
    "duration": 297,
    "start_time": "2022-05-03T10:06:32.033Z"
   },
   {
    "duration": 25,
    "start_time": "2022-05-03T10:08:35.987Z"
   },
   {
    "duration": 21,
    "start_time": "2022-05-03T10:08:41.879Z"
   },
   {
    "duration": 173,
    "start_time": "2022-05-03T10:12:04.785Z"
   },
   {
    "duration": 16,
    "start_time": "2022-05-03T10:12:17.820Z"
   },
   {
    "duration": 285,
    "start_time": "2022-05-03T10:12:26.664Z"
   },
   {
    "duration": 428,
    "start_time": "2022-05-03T11:15:00.658Z"
   },
   {
    "duration": 5843,
    "start_time": "2022-05-03T11:15:14.333Z"
   },
   {
    "duration": 2575,
    "start_time": "2022-05-03T11:19:00.709Z"
   },
   {
    "duration": 2254,
    "start_time": "2022-05-03T11:22:00.188Z"
   },
   {
    "duration": 2015,
    "start_time": "2022-05-03T11:22:13.603Z"
   },
   {
    "duration": 3928,
    "start_time": "2022-05-03T11:48:49.598Z"
   },
   {
    "duration": 79,
    "start_time": "2022-05-03T11:49:45.498Z"
   },
   {
    "duration": 75,
    "start_time": "2022-05-03T11:49:52.022Z"
   },
   {
    "duration": 76,
    "start_time": "2022-05-03T11:49:55.897Z"
   },
   {
    "duration": 167,
    "start_time": "2022-05-03T11:50:52.309Z"
   },
   {
    "duration": 106,
    "start_time": "2022-05-03T11:51:05.340Z"
   },
   {
    "duration": 99,
    "start_time": "2022-05-03T11:52:44.439Z"
   },
   {
    "duration": 21,
    "start_time": "2022-05-03T11:52:57.095Z"
   },
   {
    "duration": 35,
    "start_time": "2022-05-03T11:53:10.228Z"
   },
   {
    "duration": 97,
    "start_time": "2022-05-03T11:53:16.966Z"
   },
   {
    "duration": 20,
    "start_time": "2022-05-03T11:53:34.527Z"
   },
   {
    "duration": 19,
    "start_time": "2022-05-03T11:53:40.185Z"
   },
   {
    "duration": 104,
    "start_time": "2022-05-03T11:54:21.256Z"
   },
   {
    "duration": 17,
    "start_time": "2022-05-03T11:54:26.979Z"
   },
   {
    "duration": 21,
    "start_time": "2022-05-03T11:54:34.727Z"
   },
   {
    "duration": 14,
    "start_time": "2022-05-03T11:56:45.867Z"
   },
   {
    "duration": 21,
    "start_time": "2022-05-03T11:56:47.205Z"
   },
   {
    "duration": 14,
    "start_time": "2022-05-03T11:56:59.282Z"
   },
   {
    "duration": 20,
    "start_time": "2022-05-03T11:56:59.918Z"
   },
   {
    "duration": 14,
    "start_time": "2022-05-03T11:57:15.594Z"
   },
   {
    "duration": 19,
    "start_time": "2022-05-03T11:57:16.615Z"
   },
   {
    "duration": 14,
    "start_time": "2022-05-03T11:58:59.172Z"
   },
   {
    "duration": 19,
    "start_time": "2022-05-03T11:58:59.965Z"
   },
   {
    "duration": 14,
    "start_time": "2022-05-03T11:59:19.866Z"
   },
   {
    "duration": 19,
    "start_time": "2022-05-03T11:59:20.483Z"
   },
   {
    "duration": 189,
    "start_time": "2022-05-03T12:01:23.166Z"
   },
   {
    "duration": 114,
    "start_time": "2022-05-03T12:01:28.119Z"
   },
   {
    "duration": 24,
    "start_time": "2022-05-03T12:01:39.588Z"
   },
   {
    "duration": 25,
    "start_time": "2022-05-03T12:01:49.512Z"
   },
   {
    "duration": 18,
    "start_time": "2022-05-03T12:01:51.727Z"
   },
   {
    "duration": 3368,
    "start_time": "2022-05-03T12:02:13.518Z"
   },
   {
    "duration": 102,
    "start_time": "2022-05-03T12:02:28.311Z"
   },
   {
    "duration": 38,
    "start_time": "2022-05-03T12:02:34.028Z"
   },
   {
    "duration": 17,
    "start_time": "2022-05-03T12:02:35.308Z"
   },
   {
    "duration": 10,
    "start_time": "2022-05-03T12:03:27.243Z"
   },
   {
    "duration": 11,
    "start_time": "2022-05-03T12:05:02.743Z"
   },
   {
    "duration": 26,
    "start_time": "2022-05-03T12:05:23.648Z"
   },
   {
    "duration": 15,
    "start_time": "2022-05-03T12:09:14.924Z"
   },
   {
    "duration": 17,
    "start_time": "2022-05-03T12:09:16.207Z"
   },
   {
    "duration": 15,
    "start_time": "2022-05-03T12:10:29.222Z"
   },
   {
    "duration": 17,
    "start_time": "2022-05-03T12:10:33.808Z"
   },
   {
    "duration": 19,
    "start_time": "2022-05-03T12:12:49.059Z"
   },
   {
    "duration": 18,
    "start_time": "2022-05-03T12:12:49.834Z"
   },
   {
    "duration": 15,
    "start_time": "2022-05-03T12:13:01.900Z"
   },
   {
    "duration": 18,
    "start_time": "2022-05-03T12:13:03.186Z"
   },
   {
    "duration": 15,
    "start_time": "2022-05-03T12:13:09.212Z"
   },
   {
    "duration": 18,
    "start_time": "2022-05-03T12:13:09.822Z"
   },
   {
    "duration": 18,
    "start_time": "2022-05-03T12:14:40.928Z"
   },
   {
    "duration": 9,
    "start_time": "2022-05-03T12:14:54.384Z"
   },
   {
    "duration": 20,
    "start_time": "2022-05-03T12:15:19.102Z"
   },
   {
    "duration": 21,
    "start_time": "2022-05-03T12:15:31.138Z"
   },
   {
    "duration": 17,
    "start_time": "2022-05-03T12:15:50.516Z"
   },
   {
    "duration": 17,
    "start_time": "2022-05-03T12:15:51.448Z"
   },
   {
    "duration": 273,
    "start_time": "2022-05-03T12:18:05.788Z"
   },
   {
    "duration": 287,
    "start_time": "2022-05-03T12:18:15.592Z"
   },
   {
    "duration": 10,
    "start_time": "2022-05-03T12:21:47.522Z"
   },
   {
    "duration": 7,
    "start_time": "2022-05-03T12:23:16.606Z"
   },
   {
    "duration": 137,
    "start_time": "2022-05-03T12:24:38.819Z"
   },
   {
    "duration": 13,
    "start_time": "2022-05-03T12:26:14.696Z"
   },
   {
    "duration": 19,
    "start_time": "2022-05-03T12:26:49.664Z"
   },
   {
    "duration": 18,
    "start_time": "2022-05-03T12:34:24.197Z"
   },
   {
    "duration": 23,
    "start_time": "2022-05-03T12:39:17.124Z"
   },
   {
    "duration": 7,
    "start_time": "2022-05-03T12:39:22.156Z"
   },
   {
    "duration": 21,
    "start_time": "2022-05-03T12:39:34.779Z"
   },
   {
    "duration": 19,
    "start_time": "2022-05-03T12:39:43.926Z"
   },
   {
    "duration": 11,
    "start_time": "2022-05-03T12:39:44.451Z"
   },
   {
    "duration": 19,
    "start_time": "2022-05-03T12:40:10.435Z"
   },
   {
    "duration": 13,
    "start_time": "2022-05-03T12:40:11.382Z"
   },
   {
    "duration": 20,
    "start_time": "2022-05-03T12:40:17.170Z"
   },
   {
    "duration": 14,
    "start_time": "2022-05-03T12:40:36.391Z"
   },
   {
    "duration": 22,
    "start_time": "2022-05-03T12:40:59.574Z"
   },
   {
    "duration": 13,
    "start_time": "2022-05-03T12:41:00.352Z"
   },
   {
    "duration": 28,
    "start_time": "2022-05-03T12:44:55.850Z"
   },
   {
    "duration": 19,
    "start_time": "2022-05-03T12:46:04.034Z"
   },
   {
    "duration": 13,
    "start_time": "2022-05-03T12:46:54.164Z"
   },
   {
    "duration": 20,
    "start_time": "2022-05-03T12:47:25.573Z"
   },
   {
    "duration": 18,
    "start_time": "2022-05-03T12:47:47.976Z"
   },
   {
    "duration": 22,
    "start_time": "2022-05-03T12:47:58.604Z"
   },
   {
    "duration": 25,
    "start_time": "2022-05-03T12:48:08.117Z"
   },
   {
    "duration": 24,
    "start_time": "2022-05-03T12:50:01.380Z"
   },
   {
    "duration": 11,
    "start_time": "2022-05-03T12:50:51.656Z"
   },
   {
    "duration": 13,
    "start_time": "2022-05-03T13:02:43.954Z"
   },
   {
    "duration": 14,
    "start_time": "2022-05-03T13:10:55.073Z"
   },
   {
    "duration": 18,
    "start_time": "2022-05-03T13:10:59.153Z"
   },
   {
    "duration": 254,
    "start_time": "2022-05-03T13:13:00.103Z"
   },
   {
    "duration": 17,
    "start_time": "2022-05-03T13:13:14.522Z"
   },
   {
    "duration": 12,
    "start_time": "2022-05-03T13:13:56.182Z"
   },
   {
    "duration": 16,
    "start_time": "2022-05-03T13:16:02.553Z"
   },
   {
    "duration": 3,
    "start_time": "2022-05-03T13:20:28.665Z"
   },
   {
    "duration": 10,
    "start_time": "2022-05-03T13:21:36.251Z"
   },
   {
    "duration": 40,
    "start_time": "2022-05-03T13:21:53.241Z"
   },
   {
    "duration": 3,
    "start_time": "2022-05-03T13:22:42.733Z"
   },
   {
    "duration": 37,
    "start_time": "2022-05-03T13:22:43.097Z"
   },
   {
    "duration": 89,
    "start_time": "2022-05-03T13:23:02.283Z"
   },
   {
    "duration": 40,
    "start_time": "2022-05-03T13:23:09.655Z"
   },
   {
    "duration": 43,
    "start_time": "2022-05-03T13:23:46.968Z"
   },
   {
    "duration": 4,
    "start_time": "2022-05-03T13:23:57.162Z"
   },
   {
    "duration": 41,
    "start_time": "2022-05-03T13:23:57.777Z"
   },
   {
    "duration": 39,
    "start_time": "2022-05-03T13:24:35.710Z"
   },
   {
    "duration": 8,
    "start_time": "2022-05-03T13:30:43.816Z"
   },
   {
    "duration": 5,
    "start_time": "2022-05-03T13:30:54.406Z"
   },
   {
    "duration": 6,
    "start_time": "2022-05-03T13:30:54.993Z"
   },
   {
    "duration": 5,
    "start_time": "2022-05-03T13:31:33.236Z"
   },
   {
    "duration": 7,
    "start_time": "2022-05-03T13:31:34.220Z"
   },
   {
    "duration": 39,
    "start_time": "2022-05-03T13:31:40.221Z"
   },
   {
    "duration": 38,
    "start_time": "2022-05-03T13:31:42.419Z"
   },
   {
    "duration": 5,
    "start_time": "2022-05-03T13:32:03.618Z"
   },
   {
    "duration": 6,
    "start_time": "2022-05-03T13:32:04.880Z"
   },
   {
    "duration": 4,
    "start_time": "2022-05-03T13:33:17.538Z"
   },
   {
    "duration": 6,
    "start_time": "2022-05-03T13:33:18.336Z"
   },
   {
    "duration": 4,
    "start_time": "2022-05-03T13:33:25.703Z"
   },
   {
    "duration": 6,
    "start_time": "2022-05-03T13:33:27.110Z"
   },
   {
    "duration": 9,
    "start_time": "2022-05-03T13:33:30.129Z"
   },
   {
    "duration": 21,
    "start_time": "2022-05-03T13:33:41.442Z"
   },
   {
    "duration": 4,
    "start_time": "2022-05-03T13:34:35.438Z"
   },
   {
    "duration": 6,
    "start_time": "2022-05-03T13:34:35.927Z"
   },
   {
    "duration": 9,
    "start_time": "2022-05-03T13:34:37.378Z"
   },
   {
    "duration": 469,
    "start_time": "2022-05-03T13:39:12.646Z"
   },
   {
    "duration": 453,
    "start_time": "2022-05-03T13:39:21.150Z"
   },
   {
    "duration": 562,
    "start_time": "2022-05-03T13:39:25.870Z"
   },
   {
    "duration": 500,
    "start_time": "2022-05-03T13:39:30.803Z"
   },
   {
    "duration": 491,
    "start_time": "2022-05-03T13:39:38.155Z"
   },
   {
    "duration": 487,
    "start_time": "2022-05-03T13:40:06.690Z"
   },
   {
    "duration": 490,
    "start_time": "2022-05-03T13:41:15.492Z"
   },
   {
    "duration": 609,
    "start_time": "2022-05-03T13:41:49.694Z"
   },
   {
    "duration": 619,
    "start_time": "2022-05-03T13:42:08.711Z"
   },
   {
    "duration": 493,
    "start_time": "2022-05-03T13:42:25.890Z"
   },
   {
    "duration": 497,
    "start_time": "2022-05-03T13:42:32.970Z"
   },
   {
    "duration": 487,
    "start_time": "2022-05-03T13:42:39.278Z"
   },
   {
    "duration": 520,
    "start_time": "2022-05-03T13:42:57.797Z"
   },
   {
    "duration": 712,
    "start_time": "2022-05-03T13:43:19.949Z"
   },
   {
    "duration": 550,
    "start_time": "2022-05-03T13:43:24.413Z"
   },
   {
    "duration": 517,
    "start_time": "2022-05-03T13:43:55.370Z"
   },
   {
    "duration": 522,
    "start_time": "2022-05-03T13:43:59.451Z"
   },
   {
    "duration": 530,
    "start_time": "2022-05-03T13:44:05.830Z"
   },
   {
    "duration": 616,
    "start_time": "2022-05-03T13:44:17.659Z"
   },
   {
    "duration": 519,
    "start_time": "2022-05-03T13:44:26.214Z"
   },
   {
    "duration": 11,
    "start_time": "2022-05-03T13:52:54.409Z"
   },
   {
    "duration": 305,
    "start_time": "2022-05-03T13:53:07.526Z"
   },
   {
    "duration": 10,
    "start_time": "2022-05-03T13:53:36.281Z"
   },
   {
    "duration": 298,
    "start_time": "2022-05-03T13:53:37.047Z"
   },
   {
    "duration": 34,
    "start_time": "2022-05-03T13:54:01.975Z"
   },
   {
    "duration": 307,
    "start_time": "2022-05-03T13:54:27.023Z"
   },
   {
    "duration": 11,
    "start_time": "2022-05-03T13:54:44.051Z"
   },
   {
    "duration": 22,
    "start_time": "2022-05-03T13:54:56.968Z"
   },
   {
    "duration": 13,
    "start_time": "2022-05-03T13:55:10.735Z"
   },
   {
    "duration": 5,
    "start_time": "2022-05-03T13:55:44.428Z"
   },
   {
    "duration": 9,
    "start_time": "2022-05-03T13:55:50.316Z"
   },
   {
    "duration": 10,
    "start_time": "2022-05-03T13:56:42.214Z"
   },
   {
    "duration": 14,
    "start_time": "2022-05-03T13:57:22.701Z"
   },
   {
    "duration": 9,
    "start_time": "2022-05-03T13:57:24.221Z"
   },
   {
    "duration": 295,
    "start_time": "2022-05-03T13:57:26.988Z"
   },
   {
    "duration": 14,
    "start_time": "2022-05-03T13:57:46.968Z"
   },
   {
    "duration": 12,
    "start_time": "2022-05-03T13:59:00.815Z"
   },
   {
    "duration": 9,
    "start_time": "2022-05-03T13:59:02.049Z"
   },
   {
    "duration": 298,
    "start_time": "2022-05-03T13:59:05.242Z"
   },
   {
    "duration": 16,
    "start_time": "2022-05-03T13:59:06.852Z"
   },
   {
    "duration": 1056,
    "start_time": "2022-05-03T14:00:14.171Z"
   },
   {
    "duration": 30,
    "start_time": "2022-05-03T14:00:18.745Z"
   },
   {
    "duration": 10,
    "start_time": "2022-05-03T14:00:25.625Z"
   },
   {
    "duration": 8,
    "start_time": "2022-05-03T14:01:56.673Z"
   },
   {
    "duration": 7,
    "start_time": "2022-05-03T14:01:58.115Z"
   },
   {
    "duration": 8,
    "start_time": "2022-05-03T14:02:10.844Z"
   },
   {
    "duration": 6,
    "start_time": "2022-05-03T14:02:11.542Z"
   },
   {
    "duration": 8,
    "start_time": "2022-05-03T14:02:36.837Z"
   },
   {
    "duration": 10,
    "start_time": "2022-05-03T14:02:37.727Z"
   },
   {
    "duration": 7,
    "start_time": "2022-05-03T14:02:44.193Z"
   },
   {
    "duration": 10,
    "start_time": "2022-05-03T14:02:47.891Z"
   },
   {
    "duration": 11,
    "start_time": "2022-05-03T14:04:03.411Z"
   },
   {
    "duration": 13,
    "start_time": "2022-05-03T14:04:04.164Z"
   },
   {
    "duration": 22,
    "start_time": "2022-05-03T14:04:25.143Z"
   },
   {
    "duration": 10,
    "start_time": "2022-05-03T14:04:31.792Z"
   },
   {
    "duration": 25,
    "start_time": "2022-05-03T14:04:32.263Z"
   },
   {
    "duration": 7,
    "start_time": "2022-05-03T14:04:39.839Z"
   },
   {
    "duration": 86,
    "start_time": "2022-05-03T14:04:39.849Z"
   },
   {
    "duration": 20,
    "start_time": "2022-05-03T14:04:39.938Z"
   },
   {
    "duration": 33,
    "start_time": "2022-05-03T14:04:39.960Z"
   },
   {
    "duration": 7,
    "start_time": "2022-05-03T14:04:40.024Z"
   },
   {
    "duration": 9,
    "start_time": "2022-05-03T14:04:40.033Z"
   },
   {
    "duration": 31,
    "start_time": "2022-05-03T14:04:40.044Z"
   },
   {
    "duration": 34,
    "start_time": "2022-05-03T14:04:40.078Z"
   },
   {
    "duration": 280,
    "start_time": "2022-05-03T14:04:40.124Z"
   },
   {
    "duration": 32,
    "start_time": "2022-05-03T14:04:40.406Z"
   },
   {
    "duration": 180,
    "start_time": "2022-05-03T14:04:40.441Z"
   },
   {
    "duration": 25,
    "start_time": "2022-05-03T14:04:40.625Z"
   },
   {
    "duration": 312,
    "start_time": "2022-05-03T14:04:40.653Z"
   },
   {
    "duration": 4,
    "start_time": "2022-05-03T14:04:40.967Z"
   },
   {
    "duration": 528,
    "start_time": "2022-05-03T14:04:40.973Z"
   },
   {
    "duration": 33,
    "start_time": "2022-05-03T14:04:41.504Z"
   },
   {
    "duration": 309,
    "start_time": "2022-05-03T14:04:41.540Z"
   },
   {
    "duration": 88,
    "start_time": "2022-05-03T14:04:41.851Z"
   },
   {
    "duration": 15,
    "start_time": "2022-05-03T14:04:41.942Z"
   },
   {
    "duration": 11,
    "start_time": "2022-05-03T14:04:43.748Z"
   },
   {
    "duration": 10,
    "start_time": "2022-05-03T14:04:44.197Z"
   },
   {
    "duration": 23,
    "start_time": "2022-05-03T14:04:45.339Z"
   },
   {
    "duration": 19,
    "start_time": "2022-05-03T14:05:14.569Z"
   },
   {
    "duration": 18,
    "start_time": "2022-05-03T14:05:22.324Z"
   },
   {
    "duration": 24,
    "start_time": "2022-05-03T14:05:48.016Z"
   },
   {
    "duration": 26,
    "start_time": "2022-05-03T14:06:14.387Z"
   },
   {
    "duration": 7,
    "start_time": "2022-05-03T14:06:28.660Z"
   },
   {
    "duration": 81,
    "start_time": "2022-05-03T14:06:28.671Z"
   },
   {
    "duration": 22,
    "start_time": "2022-05-03T14:06:28.756Z"
   },
   {
    "duration": 56,
    "start_time": "2022-05-03T14:06:28.781Z"
   },
   {
    "duration": 7,
    "start_time": "2022-05-03T14:06:28.840Z"
   },
   {
    "duration": 8,
    "start_time": "2022-05-03T14:06:28.849Z"
   },
   {
    "duration": 15,
    "start_time": "2022-05-03T14:06:28.860Z"
   },
   {
    "duration": 62,
    "start_time": "2022-05-03T14:06:28.878Z"
   },
   {
    "duration": 277,
    "start_time": "2022-05-03T14:06:28.942Z"
   },
   {
    "duration": 20,
    "start_time": "2022-05-03T14:06:29.222Z"
   },
   {
    "duration": 185,
    "start_time": "2022-05-03T14:06:29.246Z"
   },
   {
    "duration": 24,
    "start_time": "2022-05-03T14:06:29.433Z"
   },
   {
    "duration": 307,
    "start_time": "2022-05-03T14:06:29.459Z"
   },
   {
    "duration": 3,
    "start_time": "2022-05-03T14:06:29.769Z"
   },
   {
    "duration": 415,
    "start_time": "2022-05-03T14:06:29.774Z"
   },
   {
    "duration": 36,
    "start_time": "2022-05-03T14:06:30.192Z"
   },
   {
    "duration": 297,
    "start_time": "2022-05-03T14:06:30.230Z"
   },
   {
    "duration": 72,
    "start_time": "2022-05-03T14:06:30.529Z"
   },
   {
    "duration": 32,
    "start_time": "2022-05-03T14:06:30.603Z"
   },
   {
    "duration": 24,
    "start_time": "2022-05-03T14:06:35.203Z"
   },
   {
    "duration": 1537,
    "start_time": "2022-05-03T14:06:58.752Z"
   },
   {
    "duration": 83,
    "start_time": "2022-05-03T14:07:00.292Z"
   },
   {
    "duration": 20,
    "start_time": "2022-05-03T14:07:00.377Z"
   },
   {
    "duration": 48,
    "start_time": "2022-05-03T14:07:00.400Z"
   },
   {
    "duration": 7,
    "start_time": "2022-05-03T14:07:00.451Z"
   },
   {
    "duration": 16,
    "start_time": "2022-05-03T14:07:00.460Z"
   },
   {
    "duration": 24,
    "start_time": "2022-05-03T14:07:00.478Z"
   },
   {
    "duration": 42,
    "start_time": "2022-05-03T14:07:00.504Z"
   },
   {
    "duration": 312,
    "start_time": "2022-05-03T14:07:00.549Z"
   },
   {
    "duration": 24,
    "start_time": "2022-05-03T14:07:00.865Z"
   },
   {
    "duration": 200,
    "start_time": "2022-05-03T14:07:00.892Z"
   },
   {
    "duration": 41,
    "start_time": "2022-05-03T14:07:01.095Z"
   },
   {
    "duration": 309,
    "start_time": "2022-05-03T14:07:01.139Z"
   },
   {
    "duration": 4,
    "start_time": "2022-05-03T14:07:01.450Z"
   },
   {
    "duration": 411,
    "start_time": "2022-05-03T14:07:01.456Z"
   },
   {
    "duration": 24,
    "start_time": "2022-05-03T14:07:01.869Z"
   },
   {
    "duration": 302,
    "start_time": "2022-05-03T14:07:01.895Z"
   },
   {
    "duration": 70,
    "start_time": "2022-05-03T14:07:02.199Z"
   },
   {
    "duration": 17,
    "start_time": "2022-05-03T14:07:02.271Z"
   },
   {
    "duration": 43,
    "start_time": "2022-05-03T14:07:02.290Z"
   },
   {
    "duration": 24,
    "start_time": "2022-05-03T14:07:02.336Z"
   },
   {
    "duration": 162,
    "start_time": "2022-05-03T14:07:02.362Z"
   },
   {
    "duration": 0,
    "start_time": "2022-05-03T14:07:02.527Z"
   },
   {
    "duration": 0,
    "start_time": "2022-05-03T14:07:02.529Z"
   },
   {
    "duration": 0,
    "start_time": "2022-05-03T14:07:02.530Z"
   },
   {
    "duration": 0,
    "start_time": "2022-05-03T14:07:02.532Z"
   },
   {
    "duration": 0,
    "start_time": "2022-05-03T14:07:02.534Z"
   },
   {
    "duration": 0,
    "start_time": "2022-05-03T14:07:02.536Z"
   },
   {
    "duration": 0,
    "start_time": "2022-05-03T14:07:02.538Z"
   },
   {
    "duration": 0,
    "start_time": "2022-05-03T14:07:02.539Z"
   },
   {
    "duration": 0,
    "start_time": "2022-05-03T14:07:02.541Z"
   },
   {
    "duration": 0,
    "start_time": "2022-05-03T14:07:02.543Z"
   },
   {
    "duration": 0,
    "start_time": "2022-05-03T14:07:02.544Z"
   },
   {
    "duration": 0,
    "start_time": "2022-05-03T14:07:02.546Z"
   },
   {
    "duration": 0,
    "start_time": "2022-05-03T14:07:02.547Z"
   },
   {
    "duration": 0,
    "start_time": "2022-05-03T14:07:02.549Z"
   },
   {
    "duration": 0,
    "start_time": "2022-05-03T14:07:02.550Z"
   },
   {
    "duration": 300,
    "start_time": "2022-05-03T14:07:30.562Z"
   },
   {
    "duration": 20,
    "start_time": "2022-05-03T14:09:13.271Z"
   },
   {
    "duration": 25,
    "start_time": "2022-05-03T14:09:15.342Z"
   },
   {
    "duration": 401,
    "start_time": "2022-05-03T14:09:41.892Z"
   },
   {
    "duration": 27,
    "start_time": "2022-05-03T14:10:38.561Z"
   },
   {
    "duration": 14,
    "start_time": "2022-05-03T14:10:49.674Z"
   },
   {
    "duration": 7,
    "start_time": "2022-05-03T14:16:28.347Z"
   },
   {
    "duration": 10,
    "start_time": "2022-05-03T14:16:35.862Z"
   },
   {
    "duration": 6,
    "start_time": "2022-05-03T14:17:00.073Z"
   },
   {
    "duration": 23,
    "start_time": "2022-05-03T14:17:01.401Z"
   },
   {
    "duration": 9,
    "start_time": "2022-05-03T14:17:11.133Z"
   },
   {
    "duration": 8,
    "start_time": "2022-05-03T14:17:52.312Z"
   },
   {
    "duration": 23,
    "start_time": "2022-05-03T14:17:53.294Z"
   },
   {
    "duration": 42,
    "start_time": "2022-05-03T14:18:18.998Z"
   },
   {
    "duration": 8,
    "start_time": "2022-05-03T14:18:35.279Z"
   },
   {
    "duration": 182,
    "start_time": "2022-05-03T14:18:39.272Z"
   },
   {
    "duration": 12,
    "start_time": "2022-05-03T14:18:50.339Z"
   },
   {
    "duration": 327,
    "start_time": "2022-05-03T14:18:50.833Z"
   },
   {
    "duration": 11,
    "start_time": "2022-05-03T14:20:49.472Z"
   },
   {
    "duration": 317,
    "start_time": "2022-05-03T14:20:50.309Z"
   },
   {
    "duration": 12,
    "start_time": "2022-05-03T14:20:55.234Z"
   },
   {
    "duration": 325,
    "start_time": "2022-05-03T14:24:41.799Z"
   },
   {
    "duration": 305,
    "start_time": "2022-05-03T14:27:16.595Z"
   },
   {
    "duration": 442,
    "start_time": "2022-05-03T14:33:56.953Z"
   },
   {
    "duration": 324,
    "start_time": "2022-05-03T14:35:35.568Z"
   },
   {
    "duration": 10,
    "start_time": "2022-05-03T14:35:44.104Z"
   },
   {
    "duration": 3946,
    "start_time": "2022-05-03T14:35:46.041Z"
   },
   {
    "duration": 93,
    "start_time": "2022-05-03T14:35:58.716Z"
   },
   {
    "duration": 46,
    "start_time": "2022-05-03T14:36:00.514Z"
   },
   {
    "duration": 24,
    "start_time": "2022-05-03T14:36:05.893Z"
   },
   {
    "duration": 29,
    "start_time": "2022-05-03T14:36:14.277Z"
   },
   {
    "duration": 27,
    "start_time": "2022-05-03T14:36:56.824Z"
   },
   {
    "duration": 17,
    "start_time": "2022-05-03T14:37:00.312Z"
   },
   {
    "duration": 15,
    "start_time": "2022-05-03T14:37:05.893Z"
   },
   {
    "duration": 17,
    "start_time": "2022-05-03T14:37:06.424Z"
   },
   {
    "duration": 23,
    "start_time": "2022-05-03T14:37:11.546Z"
   },
   {
    "duration": 3,
    "start_time": "2022-05-03T14:37:19.335Z"
   },
   {
    "duration": 6,
    "start_time": "2022-05-03T14:37:21.302Z"
   },
   {
    "duration": 9,
    "start_time": "2022-05-03T14:37:23.934Z"
   },
   {
    "duration": 628,
    "start_time": "2022-05-03T14:37:24.416Z"
   },
   {
    "duration": 31,
    "start_time": "2022-05-03T14:39:53.272Z"
   },
   {
    "duration": 14,
    "start_time": "2022-05-03T14:40:00.931Z"
   },
   {
    "duration": 524,
    "start_time": "2022-05-03T14:40:26.085Z"
   },
   {
    "duration": 546,
    "start_time": "2022-05-03T14:40:57.891Z"
   },
   {
    "duration": 521,
    "start_time": "2022-05-03T14:41:22.220Z"
   },
   {
    "duration": 510,
    "start_time": "2022-05-03T14:41:31.243Z"
   },
   {
    "duration": 635,
    "start_time": "2022-05-03T14:44:04.739Z"
   },
   {
    "duration": 518,
    "start_time": "2022-05-03T14:48:00.753Z"
   },
   {
    "duration": 8,
    "start_time": "2022-05-03T14:48:44.090Z"
   },
   {
    "duration": 29,
    "start_time": "2022-05-03T15:51:15.505Z"
   },
   {
    "duration": 270,
    "start_time": "2022-05-03T15:54:25.638Z"
   },
   {
    "duration": 20,
    "start_time": "2022-05-03T15:54:39.889Z"
   },
   {
    "duration": 560,
    "start_time": "2022-05-03T15:54:57.269Z"
   },
   {
    "duration": 283,
    "start_time": "2022-05-03T15:56:28.419Z"
   },
   {
    "duration": 281,
    "start_time": "2022-05-03T16:04:37.649Z"
   },
   {
    "duration": 302,
    "start_time": "2022-05-03T16:05:16.880Z"
   },
   {
    "duration": 313,
    "start_time": "2022-05-03T16:05:26.951Z"
   },
   {
    "duration": 430,
    "start_time": "2022-05-03T16:06:11.957Z"
   },
   {
    "duration": 307,
    "start_time": "2022-05-03T16:06:31.810Z"
   },
   {
    "duration": 416,
    "start_time": "2022-05-03T16:06:43.538Z"
   },
   {
    "duration": 373,
    "start_time": "2022-05-03T16:07:06.054Z"
   },
   {
    "duration": 405,
    "start_time": "2022-05-03T16:07:16.547Z"
   },
   {
    "duration": 379,
    "start_time": "2022-05-03T16:07:29.188Z"
   },
   {
    "duration": 381,
    "start_time": "2022-05-03T16:08:10.980Z"
   },
   {
    "duration": 375,
    "start_time": "2022-05-03T16:08:18.486Z"
   },
   {
    "duration": 396,
    "start_time": "2022-05-03T16:08:26.805Z"
   },
   {
    "duration": 393,
    "start_time": "2022-05-03T16:08:48.447Z"
   },
   {
    "duration": 400,
    "start_time": "2022-05-03T16:08:53.548Z"
   },
   {
    "duration": 355,
    "start_time": "2022-05-03T16:09:24.353Z"
   },
   {
    "duration": 361,
    "start_time": "2022-05-03T16:10:21.924Z"
   },
   {
    "duration": 533,
    "start_time": "2022-05-03T16:10:32.800Z"
   },
   {
    "duration": 361,
    "start_time": "2022-05-03T16:10:41.687Z"
   },
   {
    "duration": 288,
    "start_time": "2022-05-03T16:11:28.486Z"
   },
   {
    "duration": 292,
    "start_time": "2022-05-03T16:11:41.895Z"
   },
   {
    "duration": 289,
    "start_time": "2022-05-03T16:12:09.748Z"
   },
   {
    "duration": 389,
    "start_time": "2022-05-03T16:12:15.085Z"
   },
   {
    "duration": 27,
    "start_time": "2022-05-03T16:13:52.197Z"
   },
   {
    "duration": 26,
    "start_time": "2022-05-03T16:13:57.782Z"
   },
   {
    "duration": 28,
    "start_time": "2022-05-03T16:14:13.235Z"
   },
   {
    "duration": 277,
    "start_time": "2022-05-03T16:15:28.104Z"
   },
   {
    "duration": 279,
    "start_time": "2022-05-03T16:15:32.548Z"
   },
   {
    "duration": 23,
    "start_time": "2022-05-03T16:19:08.964Z"
   },
   {
    "duration": 13,
    "start_time": "2022-05-03T16:21:35.282Z"
   },
   {
    "duration": 14,
    "start_time": "2022-05-03T16:21:48.268Z"
   },
   {
    "duration": 13,
    "start_time": "2022-05-03T16:21:55.651Z"
   },
   {
    "duration": 211,
    "start_time": "2022-05-03T16:24:11.865Z"
   },
   {
    "duration": 440,
    "start_time": "2022-05-03T16:24:57.802Z"
   },
   {
    "duration": 122,
    "start_time": "2022-05-03T16:25:10.526Z"
   },
   {
    "duration": 21,
    "start_time": "2022-05-03T16:25:13.337Z"
   },
   {
    "duration": 218,
    "start_time": "2022-05-03T16:25:16.391Z"
   },
   {
    "duration": 215,
    "start_time": "2022-05-03T16:26:34.497Z"
   },
   {
    "duration": 383,
    "start_time": "2022-05-03T16:27:42.068Z"
   },
   {
    "duration": 245,
    "start_time": "2022-05-03T16:28:47.374Z"
   },
   {
    "duration": 241,
    "start_time": "2022-05-03T16:31:41.819Z"
   },
   {
    "duration": 264,
    "start_time": "2022-05-03T16:33:10.874Z"
   },
   {
    "duration": 176,
    "start_time": "2022-05-03T16:34:39.716Z"
   },
   {
    "duration": 177,
    "start_time": "2022-05-03T16:36:10.747Z"
   },
   {
    "duration": 173,
    "start_time": "2022-05-03T16:36:15.959Z"
   },
   {
    "duration": 11,
    "start_time": "2022-05-03T16:37:15.312Z"
   },
   {
    "duration": 38,
    "start_time": "2022-05-03T16:37:56.569Z"
   },
   {
    "duration": 211,
    "start_time": "2022-05-03T16:38:26.299Z"
   },
   {
    "duration": 23,
    "start_time": "2022-05-03T16:39:42.039Z"
   },
   {
    "duration": 23,
    "start_time": "2022-05-03T16:40:09.482Z"
   },
   {
    "duration": 576,
    "start_time": "2022-05-03T16:41:53.198Z"
   },
   {
    "duration": 96,
    "start_time": "2022-05-03T16:42:05.206Z"
   },
   {
    "duration": 23,
    "start_time": "2022-05-03T16:43:03.397Z"
   },
   {
    "duration": 15,
    "start_time": "2022-05-03T16:43:39.174Z"
   },
   {
    "duration": 14,
    "start_time": "2022-05-03T16:45:37.468Z"
   },
   {
    "duration": 20,
    "start_time": "2022-05-03T16:46:06.464Z"
   },
   {
    "duration": 31,
    "start_time": "2022-05-03T16:47:33.841Z"
   },
   {
    "duration": 312,
    "start_time": "2022-05-03T16:48:47.827Z"
   },
   {
    "duration": 293,
    "start_time": "2022-05-03T16:49:38.634Z"
   },
   {
    "duration": 300,
    "start_time": "2022-05-03T16:49:49.254Z"
   },
   {
    "duration": 526,
    "start_time": "2022-05-03T16:50:05.403Z"
   },
   {
    "duration": 283,
    "start_time": "2022-05-03T16:50:26.913Z"
   },
   {
    "duration": 323,
    "start_time": "2022-05-03T16:50:36.961Z"
   },
   {
    "duration": 16,
    "start_time": "2022-05-03T16:50:55.194Z"
   },
   {
    "duration": 29,
    "start_time": "2022-05-03T16:50:58.768Z"
   },
   {
    "duration": 305,
    "start_time": "2022-05-03T16:50:59.445Z"
   },
   {
    "duration": 27,
    "start_time": "2022-05-03T16:53:20.884Z"
   },
   {
    "duration": 290,
    "start_time": "2022-05-03T16:53:25.728Z"
   },
   {
    "duration": 284,
    "start_time": "2022-05-03T16:53:31.416Z"
   },
   {
    "duration": 119,
    "start_time": "2022-05-03T16:54:41.987Z"
   },
   {
    "duration": 299,
    "start_time": "2022-05-03T16:54:46.897Z"
   },
   {
    "duration": 8,
    "start_time": "2022-05-03T16:55:08.278Z"
   },
   {
    "duration": 97,
    "start_time": "2022-05-03T16:55:08.289Z"
   },
   {
    "duration": 19,
    "start_time": "2022-05-03T16:55:08.389Z"
   },
   {
    "duration": 30,
    "start_time": "2022-05-03T16:55:08.425Z"
   },
   {
    "duration": 7,
    "start_time": "2022-05-03T16:55:08.458Z"
   },
   {
    "duration": 10,
    "start_time": "2022-05-03T16:55:08.467Z"
   },
   {
    "duration": 51,
    "start_time": "2022-05-03T16:55:08.480Z"
   },
   {
    "duration": 25,
    "start_time": "2022-05-03T16:55:08.534Z"
   },
   {
    "duration": 317,
    "start_time": "2022-05-03T16:55:08.561Z"
   },
   {
    "duration": 0,
    "start_time": "2022-05-03T16:55:08.880Z"
   },
   {
    "duration": 0,
    "start_time": "2022-05-03T16:55:08.882Z"
   },
   {
    "duration": 0,
    "start_time": "2022-05-03T16:55:08.884Z"
   },
   {
    "duration": 0,
    "start_time": "2022-05-03T16:55:08.885Z"
   },
   {
    "duration": 0,
    "start_time": "2022-05-03T16:55:08.887Z"
   },
   {
    "duration": 5,
    "start_time": "2022-05-03T16:55:13.005Z"
   },
   {
    "duration": 418,
    "start_time": "2022-05-03T16:55:13.626Z"
   },
   {
    "duration": 10,
    "start_time": "2022-05-03T16:56:17.832Z"
   },
   {
    "duration": 92,
    "start_time": "2022-05-03T16:56:17.846Z"
   },
   {
    "duration": 20,
    "start_time": "2022-05-03T16:56:17.941Z"
   },
   {
    "duration": 30,
    "start_time": "2022-05-03T16:56:17.965Z"
   },
   {
    "duration": 31,
    "start_time": "2022-05-03T16:56:17.998Z"
   },
   {
    "duration": 11,
    "start_time": "2022-05-03T16:56:18.032Z"
   },
   {
    "duration": 17,
    "start_time": "2022-05-03T16:56:18.046Z"
   },
   {
    "duration": 28,
    "start_time": "2022-05-03T16:56:25.052Z"
   },
   {
    "duration": 288,
    "start_time": "2022-05-03T16:56:26.518Z"
   },
   {
    "duration": 8,
    "start_time": "2022-05-03T16:56:46.806Z"
   },
   {
    "duration": 128,
    "start_time": "2022-05-03T16:56:46.817Z"
   },
   {
    "duration": 28,
    "start_time": "2022-05-03T16:56:46.950Z"
   },
   {
    "duration": 66,
    "start_time": "2022-05-03T16:56:46.981Z"
   },
   {
    "duration": 9,
    "start_time": "2022-05-03T16:56:47.050Z"
   },
   {
    "duration": 19,
    "start_time": "2022-05-03T16:56:47.062Z"
   },
   {
    "duration": 52,
    "start_time": "2022-05-03T16:56:47.084Z"
   },
   {
    "duration": 37,
    "start_time": "2022-05-03T16:56:47.139Z"
   },
   {
    "duration": 29,
    "start_time": "2022-05-03T16:56:48.848Z"
   },
   {
    "duration": 435,
    "start_time": "2022-05-03T16:56:49.617Z"
   },
   {
    "duration": 1381,
    "start_time": "2022-05-04T11:54:42.824Z"
   },
   {
    "duration": 66,
    "start_time": "2022-05-04T11:54:44.207Z"
   },
   {
    "duration": 25,
    "start_time": "2022-05-04T11:54:44.275Z"
   },
   {
    "duration": 36,
    "start_time": "2022-05-04T11:54:44.305Z"
   },
   {
    "duration": 5,
    "start_time": "2022-05-04T11:54:44.342Z"
   },
   {
    "duration": 9,
    "start_time": "2022-05-04T11:54:44.349Z"
   },
   {
    "duration": 11,
    "start_time": "2022-05-04T11:54:44.359Z"
   },
   {
    "duration": 138,
    "start_time": "2022-05-04T11:54:44.372Z"
   },
   {
    "duration": 0,
    "start_time": "2022-05-04T11:54:44.513Z"
   },
   {
    "duration": 0,
    "start_time": "2022-05-04T11:54:44.516Z"
   },
   {
    "duration": 0,
    "start_time": "2022-05-04T11:54:44.517Z"
   },
   {
    "duration": 0,
    "start_time": "2022-05-04T11:54:44.518Z"
   },
   {
    "duration": 0,
    "start_time": "2022-05-04T11:54:44.520Z"
   },
   {
    "duration": 0,
    "start_time": "2022-05-04T11:54:44.521Z"
   },
   {
    "duration": 0,
    "start_time": "2022-05-04T11:54:44.522Z"
   },
   {
    "duration": 0,
    "start_time": "2022-05-04T11:54:44.523Z"
   },
   {
    "duration": 0,
    "start_time": "2022-05-04T11:54:44.524Z"
   },
   {
    "duration": 0,
    "start_time": "2022-05-04T11:54:44.525Z"
   },
   {
    "duration": 0,
    "start_time": "2022-05-04T11:54:44.526Z"
   },
   {
    "duration": 0,
    "start_time": "2022-05-04T11:54:44.527Z"
   },
   {
    "duration": 0,
    "start_time": "2022-05-04T11:54:44.529Z"
   },
   {
    "duration": 0,
    "start_time": "2022-05-04T11:54:44.530Z"
   },
   {
    "duration": 0,
    "start_time": "2022-05-04T11:54:44.531Z"
   },
   {
    "duration": 0,
    "start_time": "2022-05-04T11:54:44.532Z"
   },
   {
    "duration": 0,
    "start_time": "2022-05-04T11:54:44.533Z"
   },
   {
    "duration": 0,
    "start_time": "2022-05-04T11:54:44.535Z"
   },
   {
    "duration": 0,
    "start_time": "2022-05-04T11:54:44.536Z"
   },
   {
    "duration": 0,
    "start_time": "2022-05-04T11:54:44.537Z"
   },
   {
    "duration": 0,
    "start_time": "2022-05-04T11:54:44.538Z"
   },
   {
    "duration": 0,
    "start_time": "2022-05-04T11:54:44.539Z"
   },
   {
    "duration": 0,
    "start_time": "2022-05-04T11:54:44.540Z"
   },
   {
    "duration": 0,
    "start_time": "2022-05-04T11:54:44.541Z"
   },
   {
    "duration": 0,
    "start_time": "2022-05-04T11:54:44.542Z"
   },
   {
    "duration": 0,
    "start_time": "2022-05-04T11:54:44.543Z"
   },
   {
    "duration": 0,
    "start_time": "2022-05-04T11:54:44.545Z"
   },
   {
    "duration": 0,
    "start_time": "2022-05-04T11:54:44.600Z"
   },
   {
    "duration": 0,
    "start_time": "2022-05-04T11:54:44.602Z"
   },
   {
    "duration": 0,
    "start_time": "2022-05-04T11:54:44.603Z"
   },
   {
    "duration": 17,
    "start_time": "2022-05-04T12:30:35.331Z"
   },
   {
    "duration": 231,
    "start_time": "2022-05-04T12:30:39.339Z"
   },
   {
    "duration": 17,
    "start_time": "2022-05-04T12:30:57.927Z"
   },
   {
    "duration": 3,
    "start_time": "2022-05-04T12:31:02.869Z"
   },
   {
    "duration": 20,
    "start_time": "2022-05-04T12:31:04.599Z"
   },
   {
    "duration": 168,
    "start_time": "2022-05-04T12:31:06.941Z"
   },
   {
    "duration": 174,
    "start_time": "2022-05-04T12:31:15.376Z"
   },
   {
    "duration": 10,
    "start_time": "2022-05-04T12:31:28.765Z"
   },
   {
    "duration": 8,
    "start_time": "2022-05-04T12:31:38.579Z"
   },
   {
    "duration": 285,
    "start_time": "2022-05-04T12:31:44.548Z"
   },
   {
    "duration": 14,
    "start_time": "2022-05-04T12:32:50.252Z"
   },
   {
    "duration": 20,
    "start_time": "2022-05-04T12:32:55.829Z"
   },
   {
    "duration": 178,
    "start_time": "2022-05-04T12:32:57.637Z"
   },
   {
    "duration": 3,
    "start_time": "2022-05-04T12:33:35.893Z"
   },
   {
    "duration": 296,
    "start_time": "2022-05-04T12:33:36.670Z"
   },
   {
    "duration": 269,
    "start_time": "2022-05-04T12:41:28.054Z"
   },
   {
    "duration": 284,
    "start_time": "2022-05-04T12:41:39.192Z"
   },
   {
    "duration": 293,
    "start_time": "2022-05-04T12:41:45.093Z"
   },
   {
    "duration": 266,
    "start_time": "2022-05-04T12:41:53.952Z"
   },
   {
    "duration": 259,
    "start_time": "2022-05-04T12:42:09.405Z"
   },
   {
    "duration": 134,
    "start_time": "2022-05-04T12:48:08.334Z"
   },
   {
    "duration": 351,
    "start_time": "2022-05-04T12:48:15.544Z"
   },
   {
    "duration": 273,
    "start_time": "2022-05-04T12:48:30.302Z"
   },
   {
    "duration": 255,
    "start_time": "2022-05-04T12:48:37.214Z"
   },
   {
    "duration": 260,
    "start_time": "2022-05-04T12:49:15.703Z"
   },
   {
    "duration": 252,
    "start_time": "2022-05-04T12:50:04.100Z"
   },
   {
    "duration": 363,
    "start_time": "2022-05-04T12:50:14.272Z"
   },
   {
    "duration": 270,
    "start_time": "2022-05-04T12:50:21.689Z"
   },
   {
    "duration": 239,
    "start_time": "2022-05-04T12:50:47.914Z"
   },
   {
    "duration": 265,
    "start_time": "2022-05-04T12:50:57.739Z"
   },
   {
    "duration": 269,
    "start_time": "2022-05-04T12:59:19.783Z"
   },
   {
    "duration": 18,
    "start_time": "2022-05-04T13:12:26.973Z"
   },
   {
    "duration": 165,
    "start_time": "2022-05-04T13:12:37.100Z"
   },
   {
    "duration": 54,
    "start_time": "2022-05-04T13:12:55.667Z"
   },
   {
    "duration": 13,
    "start_time": "2022-05-04T13:12:56.252Z"
   },
   {
    "duration": 12,
    "start_time": "2022-05-04T13:12:58.622Z"
   },
   {
    "duration": 201,
    "start_time": "2022-05-04T13:12:59.302Z"
   },
   {
    "duration": 7,
    "start_time": "2022-05-04T13:12:59.866Z"
   },
   {
    "duration": 2982,
    "start_time": "2022-05-04T13:13:06.413Z"
   },
   {
    "duration": 68,
    "start_time": "2022-05-04T13:13:09.397Z"
   },
   {
    "duration": 29,
    "start_time": "2022-05-04T13:13:14.506Z"
   },
   {
    "duration": 11,
    "start_time": "2022-05-04T13:14:39.765Z"
   },
   {
    "duration": 12,
    "start_time": "2022-05-04T13:14:41.824Z"
   },
   {
    "duration": 17,
    "start_time": "2022-05-04T13:14:49.211Z"
   },
   {
    "duration": 12,
    "start_time": "2022-05-04T13:15:07.392Z"
   },
   {
    "duration": 17,
    "start_time": "2022-05-04T13:15:23.902Z"
   },
   {
    "duration": 16,
    "start_time": "2022-05-04T13:15:31.923Z"
   },
   {
    "duration": 9,
    "start_time": "2022-05-04T13:15:34.261Z"
   },
   {
    "duration": 9,
    "start_time": "2022-05-04T13:15:45.346Z"
   },
   {
    "duration": 14,
    "start_time": "2022-05-04T13:15:55.037Z"
   },
   {
    "duration": 16,
    "start_time": "2022-05-04T13:15:55.571Z"
   },
   {
    "duration": 13,
    "start_time": "2022-05-04T13:16:05.773Z"
   },
   {
    "duration": 2,
    "start_time": "2022-05-04T13:16:34.962Z"
   },
   {
    "duration": 5,
    "start_time": "2022-05-04T13:16:36.160Z"
   },
   {
    "duration": 6,
    "start_time": "2022-05-04T13:16:39.651Z"
   },
   {
    "duration": 452,
    "start_time": "2022-05-04T13:16:40.217Z"
   },
   {
    "duration": 324,
    "start_time": "2022-05-04T13:17:37.385Z"
   },
   {
    "duration": 304,
    "start_time": "2022-05-04T13:17:55.214Z"
   },
   {
    "duration": 341,
    "start_time": "2022-05-04T13:18:49.026Z"
   },
   {
    "duration": 6,
    "start_time": "2022-05-04T13:18:55.120Z"
   },
   {
    "duration": 161,
    "start_time": "2022-05-04T13:27:42.542Z"
   },
   {
    "duration": 17,
    "start_time": "2022-05-04T13:41:12.537Z"
   },
   {
    "duration": 19,
    "start_time": "2022-05-04T13:41:24.591Z"
   },
   {
    "duration": 6,
    "start_time": "2022-05-04T13:42:46.633Z"
   },
   {
    "duration": 19,
    "start_time": "2022-05-04T13:43:21.313Z"
   },
   {
    "duration": 2383,
    "start_time": "2022-05-04T13:58:27.745Z"
   },
   {
    "duration": 17,
    "start_time": "2022-05-04T13:59:12.666Z"
   },
   {
    "duration": 16,
    "start_time": "2022-05-04T13:59:22.994Z"
   },
   {
    "duration": 16,
    "start_time": "2022-05-04T13:59:45.505Z"
   },
   {
    "duration": 15,
    "start_time": "2022-05-04T14:00:40.905Z"
   },
   {
    "duration": 14,
    "start_time": "2022-05-04T14:00:55.388Z"
   },
   {
    "duration": 13,
    "start_time": "2022-05-04T14:01:25.697Z"
   },
   {
    "duration": 9,
    "start_time": "2022-05-04T14:01:38.057Z"
   },
   {
    "duration": 394,
    "start_time": "2022-05-04T14:01:47.967Z"
   },
   {
    "duration": 14,
    "start_time": "2022-05-04T14:02:04.250Z"
   },
   {
    "duration": 15,
    "start_time": "2022-05-04T14:02:16.489Z"
   },
   {
    "duration": 172,
    "start_time": "2022-05-04T14:02:22.024Z"
   },
   {
    "duration": 16,
    "start_time": "2022-05-04T14:02:29.005Z"
   },
   {
    "duration": 5,
    "start_time": "2022-05-04T14:02:36.606Z"
   },
   {
    "duration": 76,
    "start_time": "2022-05-04T14:02:36.616Z"
   },
   {
    "duration": 13,
    "start_time": "2022-05-04T14:02:36.695Z"
   },
   {
    "duration": 28,
    "start_time": "2022-05-04T14:02:36.710Z"
   },
   {
    "duration": 6,
    "start_time": "2022-05-04T14:02:36.740Z"
   },
   {
    "duration": 9,
    "start_time": "2022-05-04T14:02:36.747Z"
   },
   {
    "duration": 36,
    "start_time": "2022-05-04T14:02:36.758Z"
   },
   {
    "duration": 20,
    "start_time": "2022-05-04T14:02:36.796Z"
   },
   {
    "duration": 195,
    "start_time": "2022-05-04T14:02:36.818Z"
   },
   {
    "duration": 15,
    "start_time": "2022-05-04T14:02:37.015Z"
   },
   {
    "duration": 11,
    "start_time": "2022-05-04T14:02:37.033Z"
   },
   {
    "duration": 50,
    "start_time": "2022-05-04T14:02:37.046Z"
   },
   {
    "duration": 197,
    "start_time": "2022-05-04T14:02:37.098Z"
   },
   {
    "duration": 303,
    "start_time": "2022-05-04T14:02:37.296Z"
   },
   {
    "duration": 302,
    "start_time": "2022-05-04T14:02:37.601Z"
   },
   {
    "duration": 3,
    "start_time": "2022-05-04T14:02:37.906Z"
   },
   {
    "duration": 265,
    "start_time": "2022-05-04T14:02:37.911Z"
   },
   {
    "duration": 193,
    "start_time": "2022-05-04T14:02:40.638Z"
   },
   {
    "duration": 16,
    "start_time": "2022-05-04T14:04:41.138Z"
   },
   {
    "duration": 2512,
    "start_time": "2022-05-04T14:05:46.696Z"
   },
   {
    "duration": 5,
    "start_time": "2022-05-04T14:06:02.678Z"
   },
   {
    "duration": 85,
    "start_time": "2022-05-04T14:06:02.685Z"
   },
   {
    "duration": 13,
    "start_time": "2022-05-04T14:06:02.772Z"
   },
   {
    "duration": 35,
    "start_time": "2022-05-04T14:06:02.787Z"
   },
   {
    "duration": 6,
    "start_time": "2022-05-04T14:06:02.824Z"
   },
   {
    "duration": 23,
    "start_time": "2022-05-04T14:06:02.831Z"
   },
   {
    "duration": 33,
    "start_time": "2022-05-04T14:06:02.855Z"
   },
   {
    "duration": 33,
    "start_time": "2022-05-04T14:06:02.890Z"
   },
   {
    "duration": 159,
    "start_time": "2022-05-04T14:06:02.925Z"
   },
   {
    "duration": 16,
    "start_time": "2022-05-04T14:06:03.086Z"
   },
   {
    "duration": 125,
    "start_time": "2022-05-04T14:06:03.105Z"
   },
   {
    "duration": 18,
    "start_time": "2022-05-04T14:06:03.232Z"
   },
   {
    "duration": 181,
    "start_time": "2022-05-04T14:06:03.252Z"
   },
   {
    "duration": 283,
    "start_time": "2022-05-04T14:06:03.435Z"
   },
   {
    "duration": 275,
    "start_time": "2022-05-04T14:06:03.719Z"
   },
   {
    "duration": 183,
    "start_time": "2022-05-04T14:06:03.996Z"
   },
   {
    "duration": 21,
    "start_time": "2022-05-04T14:06:04.181Z"
   },
   {
    "duration": 16,
    "start_time": "2022-05-04T14:06:14.435Z"
   },
   {
    "duration": 5,
    "start_time": "2022-05-04T14:06:21.627Z"
   },
   {
    "duration": 56,
    "start_time": "2022-05-04T14:06:21.636Z"
   },
   {
    "duration": 14,
    "start_time": "2022-05-04T14:06:21.694Z"
   },
   {
    "duration": 24,
    "start_time": "2022-05-04T14:06:21.709Z"
   },
   {
    "duration": 5,
    "start_time": "2022-05-04T14:06:21.735Z"
   },
   {
    "duration": 10,
    "start_time": "2022-05-04T14:06:21.741Z"
   },
   {
    "duration": 16,
    "start_time": "2022-05-04T14:06:21.753Z"
   },
   {
    "duration": 19,
    "start_time": "2022-05-04T14:06:21.792Z"
   },
   {
    "duration": 182,
    "start_time": "2022-05-04T14:06:21.813Z"
   },
   {
    "duration": 14,
    "start_time": "2022-05-04T14:06:21.997Z"
   },
   {
    "duration": 11,
    "start_time": "2022-05-04T14:06:22.013Z"
   },
   {
    "duration": 19,
    "start_time": "2022-05-04T14:06:22.025Z"
   },
   {
    "duration": 199,
    "start_time": "2022-05-04T14:06:22.046Z"
   },
   {
    "duration": 281,
    "start_time": "2022-05-04T14:06:22.247Z"
   },
   {
    "duration": 363,
    "start_time": "2022-05-04T14:06:22.529Z"
   },
   {
    "duration": 173,
    "start_time": "2022-05-04T14:06:44.402Z"
   },
   {
    "duration": 171,
    "start_time": "2022-05-04T14:06:51.616Z"
   },
   {
    "duration": 168,
    "start_time": "2022-05-04T14:06:59.901Z"
   },
   {
    "duration": 5,
    "start_time": "2022-05-04T14:07:07.897Z"
   },
   {
    "duration": 144,
    "start_time": "2022-05-04T14:07:46.789Z"
   },
   {
    "duration": 15,
    "start_time": "2022-05-04T14:07:47.209Z"
   },
   {
    "duration": 8,
    "start_time": "2022-05-04T14:08:06.043Z"
   },
   {
    "duration": 2264,
    "start_time": "2022-05-04T14:08:46.517Z"
   },
   {
    "duration": 14,
    "start_time": "2022-05-04T14:09:04.149Z"
   },
   {
    "duration": 5,
    "start_time": "2022-05-04T14:10:36.497Z"
   },
   {
    "duration": 9,
    "start_time": "2022-05-04T14:10:51.093Z"
   },
   {
    "duration": 5,
    "start_time": "2022-05-04T14:11:04.997Z"
   },
   {
    "duration": 5,
    "start_time": "2022-05-04T14:11:27.285Z"
   },
   {
    "duration": 5,
    "start_time": "2022-05-04T14:11:32.270Z"
   },
   {
    "duration": 162,
    "start_time": "2022-05-04T14:15:41.726Z"
   },
   {
    "duration": 4,
    "start_time": "2022-05-04T14:24:55.022Z"
   },
   {
    "duration": 15,
    "start_time": "2022-05-04T14:27:48.479Z"
   },
   {
    "duration": 5,
    "start_time": "2022-05-04T14:28:14.792Z"
   },
   {
    "duration": 6,
    "start_time": "2022-05-04T14:30:16.107Z"
   },
   {
    "duration": 9,
    "start_time": "2022-05-04T14:30:42.623Z"
   },
   {
    "duration": 61,
    "start_time": "2022-05-05T07:08:19.359Z"
   },
   {
    "duration": 1432,
    "start_time": "2022-05-05T07:08:28.429Z"
   },
   {
    "duration": 81,
    "start_time": "2022-05-05T07:08:29.862Z"
   },
   {
    "duration": 15,
    "start_time": "2022-05-05T07:08:29.945Z"
   },
   {
    "duration": 46,
    "start_time": "2022-05-05T07:08:29.963Z"
   },
   {
    "duration": 5,
    "start_time": "2022-05-05T07:08:30.011Z"
   },
   {
    "duration": 15,
    "start_time": "2022-05-05T07:08:30.018Z"
   },
   {
    "duration": 46,
    "start_time": "2022-05-05T07:08:30.035Z"
   },
   {
    "duration": 24,
    "start_time": "2022-05-05T07:08:30.085Z"
   },
   {
    "duration": 190,
    "start_time": "2022-05-05T07:08:30.111Z"
   },
   {
    "duration": 15,
    "start_time": "2022-05-05T07:08:30.305Z"
   },
   {
    "duration": 267,
    "start_time": "2022-05-05T07:08:30.322Z"
   },
   {
    "duration": 28,
    "start_time": "2022-05-05T07:08:30.591Z"
   },
   {
    "duration": 306,
    "start_time": "2022-05-05T07:08:30.621Z"
   },
   {
    "duration": 311,
    "start_time": "2022-05-05T07:08:30.929Z"
   },
   {
    "duration": 364,
    "start_time": "2022-05-05T07:08:31.256Z"
   },
   {
    "duration": 192,
    "start_time": "2022-05-05T07:08:31.622Z"
   },
   {
    "duration": 6,
    "start_time": "2022-05-05T07:08:31.815Z"
   },
   {
    "duration": 29,
    "start_time": "2022-05-05T07:08:31.822Z"
   },
   {
    "duration": 55,
    "start_time": "2022-05-05T07:08:31.853Z"
   },
   {
    "duration": 27,
    "start_time": "2022-05-05T07:08:31.910Z"
   },
   {
    "duration": 177,
    "start_time": "2022-05-05T07:08:31.939Z"
   },
   {
    "duration": 79,
    "start_time": "2022-05-05T07:08:32.118Z"
   },
   {
    "duration": 10,
    "start_time": "2022-05-05T07:08:32.199Z"
   },
   {
    "duration": 24,
    "start_time": "2022-05-05T07:08:32.211Z"
   },
   {
    "duration": 296,
    "start_time": "2022-05-05T07:08:32.237Z"
   },
   {
    "duration": 18,
    "start_time": "2022-05-05T07:08:32.536Z"
   },
   {
    "duration": 2379,
    "start_time": "2022-05-05T07:08:32.557Z"
   },
   {
    "duration": 80,
    "start_time": "2022-05-05T07:08:34.939Z"
   },
   {
    "duration": 38,
    "start_time": "2022-05-05T07:08:35.020Z"
   },
   {
    "duration": 34,
    "start_time": "2022-05-05T07:08:35.060Z"
   },
   {
    "duration": 15,
    "start_time": "2022-05-05T07:08:35.096Z"
   },
   {
    "duration": 15,
    "start_time": "2022-05-05T07:08:35.113Z"
   },
   {
    "duration": 40,
    "start_time": "2022-05-05T07:08:35.130Z"
   },
   {
    "duration": 15,
    "start_time": "2022-05-05T07:08:35.172Z"
   },
   {
    "duration": 12,
    "start_time": "2022-05-05T07:08:35.189Z"
   },
   {
    "duration": 11,
    "start_time": "2022-05-05T07:08:35.203Z"
   },
   {
    "duration": 11,
    "start_time": "2022-05-05T07:08:35.216Z"
   },
   {
    "duration": 15,
    "start_time": "2022-05-05T07:08:35.228Z"
   },
   {
    "duration": 4,
    "start_time": "2022-05-05T07:08:35.245Z"
   },
   {
    "duration": 12,
    "start_time": "2022-05-05T07:08:35.250Z"
   },
   {
    "duration": 25,
    "start_time": "2022-05-05T07:08:35.267Z"
   },
   {
    "duration": 17,
    "start_time": "2022-05-05T07:08:35.294Z"
   },
   {
    "duration": 393,
    "start_time": "2022-05-05T07:08:35.312Z"
   },
   {
    "duration": 405,
    "start_time": "2022-05-05T07:08:35.707Z"
   },
   {
    "duration": 6,
    "start_time": "2022-05-05T07:08:36.114Z"
   },
   {
    "duration": 157,
    "start_time": "2022-05-05T07:09:25.839Z"
   },
   {
    "duration": 179,
    "start_time": "2022-05-05T07:10:07.814Z"
   },
   {
    "duration": 164,
    "start_time": "2022-05-05T07:15:31.139Z"
   },
   {
    "duration": 123,
    "start_time": "2022-05-05T07:21:11.599Z"
   },
   {
    "duration": 61,
    "start_time": "2022-05-05T07:23:29.070Z"
   },
   {
    "duration": 70,
    "start_time": "2022-05-05T07:27:50.942Z"
   },
   {
    "duration": 82,
    "start_time": "2022-05-05T07:29:36.056Z"
   },
   {
    "duration": 158,
    "start_time": "2022-05-05T07:42:05.055Z"
   },
   {
    "duration": 157,
    "start_time": "2022-05-05T07:42:52.490Z"
   },
   {
    "duration": 161,
    "start_time": "2022-05-05T10:40:47.022Z"
   },
   {
    "duration": 1276,
    "start_time": "2022-05-05T10:48:07.353Z"
   },
   {
    "duration": 68,
    "start_time": "2022-05-05T10:48:08.632Z"
   },
   {
    "duration": 15,
    "start_time": "2022-05-05T10:48:08.702Z"
   },
   {
    "duration": 41,
    "start_time": "2022-05-05T10:48:08.720Z"
   },
   {
    "duration": 7,
    "start_time": "2022-05-05T10:48:08.763Z"
   },
   {
    "duration": 7,
    "start_time": "2022-05-05T10:48:08.772Z"
   },
   {
    "duration": 13,
    "start_time": "2022-05-05T10:48:08.781Z"
   },
   {
    "duration": 23,
    "start_time": "2022-05-05T10:48:08.796Z"
   },
   {
    "duration": 213,
    "start_time": "2022-05-05T10:48:08.820Z"
   },
   {
    "duration": 24,
    "start_time": "2022-05-05T10:48:09.036Z"
   },
   {
    "duration": 107,
    "start_time": "2022-05-05T10:48:09.062Z"
   },
   {
    "duration": 0,
    "start_time": "2022-05-05T10:48:09.172Z"
   },
   {
    "duration": 0,
    "start_time": "2022-05-05T10:48:09.173Z"
   },
   {
    "duration": 0,
    "start_time": "2022-05-05T10:48:09.174Z"
   },
   {
    "duration": 0,
    "start_time": "2022-05-05T10:48:09.175Z"
   },
   {
    "duration": 0,
    "start_time": "2022-05-05T10:48:09.176Z"
   },
   {
    "duration": 0,
    "start_time": "2022-05-05T10:48:09.177Z"
   },
   {
    "duration": 0,
    "start_time": "2022-05-05T10:48:09.178Z"
   },
   {
    "duration": 0,
    "start_time": "2022-05-05T10:48:09.179Z"
   },
   {
    "duration": 0,
    "start_time": "2022-05-05T10:48:09.180Z"
   },
   {
    "duration": 0,
    "start_time": "2022-05-05T10:48:09.181Z"
   },
   {
    "duration": 0,
    "start_time": "2022-05-05T10:48:09.183Z"
   },
   {
    "duration": 0,
    "start_time": "2022-05-05T10:48:09.184Z"
   },
   {
    "duration": 0,
    "start_time": "2022-05-05T10:48:09.185Z"
   },
   {
    "duration": 0,
    "start_time": "2022-05-05T10:48:09.186Z"
   },
   {
    "duration": 0,
    "start_time": "2022-05-05T10:48:09.187Z"
   },
   {
    "duration": 0,
    "start_time": "2022-05-05T10:48:09.188Z"
   },
   {
    "duration": 0,
    "start_time": "2022-05-05T10:48:09.189Z"
   },
   {
    "duration": 0,
    "start_time": "2022-05-05T10:48:09.190Z"
   },
   {
    "duration": 0,
    "start_time": "2022-05-05T10:48:09.191Z"
   },
   {
    "duration": 0,
    "start_time": "2022-05-05T10:48:09.192Z"
   },
   {
    "duration": 0,
    "start_time": "2022-05-05T10:48:09.193Z"
   },
   {
    "duration": 0,
    "start_time": "2022-05-05T10:48:09.194Z"
   },
   {
    "duration": 0,
    "start_time": "2022-05-05T10:48:09.195Z"
   },
   {
    "duration": 0,
    "start_time": "2022-05-05T10:48:09.196Z"
   },
   {
    "duration": 0,
    "start_time": "2022-05-05T10:48:09.197Z"
   },
   {
    "duration": 0,
    "start_time": "2022-05-05T10:48:09.198Z"
   },
   {
    "duration": 0,
    "start_time": "2022-05-05T10:48:09.199Z"
   },
   {
    "duration": 0,
    "start_time": "2022-05-05T10:48:09.200Z"
   },
   {
    "duration": 0,
    "start_time": "2022-05-05T10:48:09.201Z"
   },
   {
    "duration": 0,
    "start_time": "2022-05-05T10:48:09.202Z"
   },
   {
    "duration": 0,
    "start_time": "2022-05-05T10:48:09.203Z"
   },
   {
    "duration": 0,
    "start_time": "2022-05-05T10:48:09.204Z"
   },
   {
    "duration": 0,
    "start_time": "2022-05-05T10:48:09.205Z"
   },
   {
    "duration": 0,
    "start_time": "2022-05-05T10:48:09.255Z"
   },
   {
    "duration": 0,
    "start_time": "2022-05-05T10:48:09.256Z"
   },
   {
    "duration": 6,
    "start_time": "2022-05-05T10:54:20.710Z"
   },
   {
    "duration": 225,
    "start_time": "2022-05-05T10:58:53.337Z"
   },
   {
    "duration": 11,
    "start_time": "2022-05-05T10:59:15.796Z"
   },
   {
    "duration": 7,
    "start_time": "2022-05-05T10:59:56.550Z"
   },
   {
    "duration": 10,
    "start_time": "2022-05-05T11:00:33.112Z"
   },
   {
    "duration": 1269,
    "start_time": "2022-05-05T11:05:34.190Z"
   },
   {
    "duration": 64,
    "start_time": "2022-05-05T11:05:35.461Z"
   },
   {
    "duration": 14,
    "start_time": "2022-05-05T11:05:35.527Z"
   },
   {
    "duration": 24,
    "start_time": "2022-05-05T11:05:35.555Z"
   },
   {
    "duration": 7,
    "start_time": "2022-05-05T11:05:35.581Z"
   },
   {
    "duration": 26,
    "start_time": "2022-05-05T11:05:35.589Z"
   },
   {
    "duration": 64,
    "start_time": "2022-05-05T11:05:35.617Z"
   },
   {
    "duration": 19,
    "start_time": "2022-05-05T11:05:35.683Z"
   },
   {
    "duration": 173,
    "start_time": "2022-05-05T11:05:35.703Z"
   },
   {
    "duration": 15,
    "start_time": "2022-05-05T11:05:35.878Z"
   },
   {
    "duration": 108,
    "start_time": "2022-05-05T11:05:35.894Z"
   },
   {
    "duration": 0,
    "start_time": "2022-05-05T11:05:36.004Z"
   },
   {
    "duration": 0,
    "start_time": "2022-05-05T11:05:36.006Z"
   },
   {
    "duration": 0,
    "start_time": "2022-05-05T11:05:36.007Z"
   },
   {
    "duration": 0,
    "start_time": "2022-05-05T11:05:36.008Z"
   },
   {
    "duration": 0,
    "start_time": "2022-05-05T11:05:36.009Z"
   },
   {
    "duration": 0,
    "start_time": "2022-05-05T11:05:36.011Z"
   },
   {
    "duration": 0,
    "start_time": "2022-05-05T11:05:36.012Z"
   },
   {
    "duration": 0,
    "start_time": "2022-05-05T11:05:36.013Z"
   },
   {
    "duration": 0,
    "start_time": "2022-05-05T11:05:36.014Z"
   },
   {
    "duration": 0,
    "start_time": "2022-05-05T11:05:36.015Z"
   },
   {
    "duration": 0,
    "start_time": "2022-05-05T11:05:36.016Z"
   },
   {
    "duration": 0,
    "start_time": "2022-05-05T11:05:36.017Z"
   },
   {
    "duration": 0,
    "start_time": "2022-05-05T11:05:36.018Z"
   },
   {
    "duration": 0,
    "start_time": "2022-05-05T11:05:36.019Z"
   },
   {
    "duration": 0,
    "start_time": "2022-05-05T11:05:36.021Z"
   },
   {
    "duration": 0,
    "start_time": "2022-05-05T11:05:36.022Z"
   },
   {
    "duration": 0,
    "start_time": "2022-05-05T11:05:36.023Z"
   },
   {
    "duration": 0,
    "start_time": "2022-05-05T11:05:36.055Z"
   },
   {
    "duration": 0,
    "start_time": "2022-05-05T11:05:36.056Z"
   },
   {
    "duration": 0,
    "start_time": "2022-05-05T11:05:36.057Z"
   },
   {
    "duration": 0,
    "start_time": "2022-05-05T11:05:36.058Z"
   },
   {
    "duration": 0,
    "start_time": "2022-05-05T11:05:36.060Z"
   },
   {
    "duration": 0,
    "start_time": "2022-05-05T11:05:36.061Z"
   },
   {
    "duration": 0,
    "start_time": "2022-05-05T11:05:36.062Z"
   },
   {
    "duration": 0,
    "start_time": "2022-05-05T11:05:36.063Z"
   },
   {
    "duration": 0,
    "start_time": "2022-05-05T11:05:36.064Z"
   },
   {
    "duration": 0,
    "start_time": "2022-05-05T11:05:36.065Z"
   },
   {
    "duration": 0,
    "start_time": "2022-05-05T11:05:36.066Z"
   },
   {
    "duration": 0,
    "start_time": "2022-05-05T11:05:36.067Z"
   },
   {
    "duration": 0,
    "start_time": "2022-05-05T11:05:36.068Z"
   },
   {
    "duration": 0,
    "start_time": "2022-05-05T11:05:36.069Z"
   },
   {
    "duration": 0,
    "start_time": "2022-05-05T11:05:36.070Z"
   },
   {
    "duration": 0,
    "start_time": "2022-05-05T11:05:36.071Z"
   },
   {
    "duration": 0,
    "start_time": "2022-05-05T11:05:36.072Z"
   },
   {
    "duration": 0,
    "start_time": "2022-05-05T11:05:36.073Z"
   },
   {
    "duration": 1684,
    "start_time": "2022-05-05T11:22:44.929Z"
   },
   {
    "duration": 88,
    "start_time": "2022-05-05T11:22:46.616Z"
   },
   {
    "duration": 21,
    "start_time": "2022-05-05T11:22:46.705Z"
   },
   {
    "duration": 43,
    "start_time": "2022-05-05T11:22:46.730Z"
   },
   {
    "duration": 6,
    "start_time": "2022-05-05T11:22:46.776Z"
   },
   {
    "duration": 7,
    "start_time": "2022-05-05T11:22:46.784Z"
   },
   {
    "duration": 18,
    "start_time": "2022-05-05T11:22:46.793Z"
   },
   {
    "duration": 52,
    "start_time": "2022-05-05T11:22:46.814Z"
   },
   {
    "duration": 267,
    "start_time": "2022-05-05T11:22:46.868Z"
   },
   {
    "duration": 31,
    "start_time": "2022-05-05T11:22:47.139Z"
   },
   {
    "duration": 165,
    "start_time": "2022-05-05T11:22:47.172Z"
   },
   {
    "duration": 0,
    "start_time": "2022-05-05T11:22:47.340Z"
   },
   {
    "duration": 0,
    "start_time": "2022-05-05T11:22:47.342Z"
   },
   {
    "duration": 0,
    "start_time": "2022-05-05T11:22:47.343Z"
   },
   {
    "duration": 0,
    "start_time": "2022-05-05T11:22:47.345Z"
   },
   {
    "duration": 0,
    "start_time": "2022-05-05T11:22:47.346Z"
   },
   {
    "duration": 0,
    "start_time": "2022-05-05T11:22:47.354Z"
   },
   {
    "duration": 0,
    "start_time": "2022-05-05T11:22:47.355Z"
   },
   {
    "duration": 0,
    "start_time": "2022-05-05T11:22:47.357Z"
   },
   {
    "duration": 0,
    "start_time": "2022-05-05T11:22:47.358Z"
   },
   {
    "duration": 0,
    "start_time": "2022-05-05T11:22:47.359Z"
   },
   {
    "duration": 0,
    "start_time": "2022-05-05T11:22:47.361Z"
   },
   {
    "duration": 0,
    "start_time": "2022-05-05T11:22:47.363Z"
   },
   {
    "duration": 0,
    "start_time": "2022-05-05T11:22:47.364Z"
   },
   {
    "duration": 0,
    "start_time": "2022-05-05T11:22:47.366Z"
   },
   {
    "duration": 0,
    "start_time": "2022-05-05T11:22:47.367Z"
   },
   {
    "duration": 0,
    "start_time": "2022-05-05T11:22:47.368Z"
   },
   {
    "duration": 0,
    "start_time": "2022-05-05T11:22:47.369Z"
   },
   {
    "duration": 0,
    "start_time": "2022-05-05T11:22:47.371Z"
   },
   {
    "duration": 0,
    "start_time": "2022-05-05T11:22:47.372Z"
   },
   {
    "duration": 1,
    "start_time": "2022-05-05T11:22:47.373Z"
   },
   {
    "duration": 0,
    "start_time": "2022-05-05T11:22:47.375Z"
   },
   {
    "duration": 0,
    "start_time": "2022-05-05T11:22:47.376Z"
   },
   {
    "duration": 0,
    "start_time": "2022-05-05T11:22:47.378Z"
   },
   {
    "duration": 0,
    "start_time": "2022-05-05T11:22:47.379Z"
   },
   {
    "duration": 0,
    "start_time": "2022-05-05T11:22:47.380Z"
   },
   {
    "duration": 0,
    "start_time": "2022-05-05T11:22:47.382Z"
   },
   {
    "duration": 0,
    "start_time": "2022-05-05T11:22:47.383Z"
   },
   {
    "duration": 0,
    "start_time": "2022-05-05T11:22:47.384Z"
   },
   {
    "duration": 0,
    "start_time": "2022-05-05T11:22:47.386Z"
   },
   {
    "duration": 0,
    "start_time": "2022-05-05T11:22:47.387Z"
   },
   {
    "duration": 0,
    "start_time": "2022-05-05T11:22:47.388Z"
   },
   {
    "duration": 0,
    "start_time": "2022-05-05T11:22:47.390Z"
   },
   {
    "duration": 1,
    "start_time": "2022-05-05T11:22:47.454Z"
   },
   {
    "duration": 0,
    "start_time": "2022-05-05T11:22:47.456Z"
   },
   {
    "duration": 0,
    "start_time": "2022-05-05T11:22:47.458Z"
   },
   {
    "duration": 1405,
    "start_time": "2022-05-05T11:26:55.966Z"
   },
   {
    "duration": 62,
    "start_time": "2022-05-05T11:26:57.373Z"
   },
   {
    "duration": 23,
    "start_time": "2022-05-05T11:26:57.437Z"
   },
   {
    "duration": 21,
    "start_time": "2022-05-05T11:26:57.464Z"
   },
   {
    "duration": 7,
    "start_time": "2022-05-05T11:26:57.486Z"
   },
   {
    "duration": 26,
    "start_time": "2022-05-05T11:26:57.496Z"
   },
   {
    "duration": 36,
    "start_time": "2022-05-05T11:26:57.524Z"
   },
   {
    "duration": 19,
    "start_time": "2022-05-05T11:26:57.562Z"
   },
   {
    "duration": 203,
    "start_time": "2022-05-05T11:26:57.583Z"
   },
   {
    "duration": 16,
    "start_time": "2022-05-05T11:26:57.789Z"
   },
   {
    "duration": 116,
    "start_time": "2022-05-05T11:26:57.806Z"
   },
   {
    "duration": 0,
    "start_time": "2022-05-05T11:26:57.925Z"
   },
   {
    "duration": 0,
    "start_time": "2022-05-05T11:26:57.926Z"
   },
   {
    "duration": 0,
    "start_time": "2022-05-05T11:26:57.928Z"
   },
   {
    "duration": 0,
    "start_time": "2022-05-05T11:26:57.929Z"
   },
   {
    "duration": 0,
    "start_time": "2022-05-05T11:26:57.930Z"
   },
   {
    "duration": 0,
    "start_time": "2022-05-05T11:26:57.931Z"
   },
   {
    "duration": 0,
    "start_time": "2022-05-05T11:26:57.933Z"
   },
   {
    "duration": 0,
    "start_time": "2022-05-05T11:26:57.934Z"
   },
   {
    "duration": 0,
    "start_time": "2022-05-05T11:26:57.935Z"
   },
   {
    "duration": 0,
    "start_time": "2022-05-05T11:26:57.937Z"
   },
   {
    "duration": 0,
    "start_time": "2022-05-05T11:26:57.937Z"
   },
   {
    "duration": 0,
    "start_time": "2022-05-05T11:26:57.955Z"
   },
   {
    "duration": 0,
    "start_time": "2022-05-05T11:26:57.956Z"
   },
   {
    "duration": 0,
    "start_time": "2022-05-05T11:26:57.957Z"
   },
   {
    "duration": 0,
    "start_time": "2022-05-05T11:26:57.958Z"
   },
   {
    "duration": 0,
    "start_time": "2022-05-05T11:26:57.959Z"
   },
   {
    "duration": 0,
    "start_time": "2022-05-05T11:26:57.960Z"
   },
   {
    "duration": 0,
    "start_time": "2022-05-05T11:26:57.961Z"
   },
   {
    "duration": 0,
    "start_time": "2022-05-05T11:26:57.962Z"
   },
   {
    "duration": 0,
    "start_time": "2022-05-05T11:26:57.962Z"
   },
   {
    "duration": 0,
    "start_time": "2022-05-05T11:26:57.964Z"
   },
   {
    "duration": 0,
    "start_time": "2022-05-05T11:26:57.965Z"
   },
   {
    "duration": 0,
    "start_time": "2022-05-05T11:26:57.966Z"
   },
   {
    "duration": 0,
    "start_time": "2022-05-05T11:26:57.967Z"
   },
   {
    "duration": 0,
    "start_time": "2022-05-05T11:26:57.968Z"
   },
   {
    "duration": 0,
    "start_time": "2022-05-05T11:26:57.968Z"
   },
   {
    "duration": 0,
    "start_time": "2022-05-05T11:26:57.969Z"
   },
   {
    "duration": 0,
    "start_time": "2022-05-05T11:26:57.970Z"
   },
   {
    "duration": 0,
    "start_time": "2022-05-05T11:26:57.971Z"
   },
   {
    "duration": 0,
    "start_time": "2022-05-05T11:26:57.972Z"
   },
   {
    "duration": 0,
    "start_time": "2022-05-05T11:26:57.973Z"
   },
   {
    "duration": 0,
    "start_time": "2022-05-05T11:26:57.974Z"
   },
   {
    "duration": 0,
    "start_time": "2022-05-05T11:26:57.975Z"
   },
   {
    "duration": 0,
    "start_time": "2022-05-05T11:26:57.976Z"
   },
   {
    "duration": 0,
    "start_time": "2022-05-05T11:26:57.977Z"
   },
   {
    "duration": 1372,
    "start_time": "2022-05-05T11:28:37.307Z"
   },
   {
    "duration": 68,
    "start_time": "2022-05-05T11:28:38.681Z"
   },
   {
    "duration": 14,
    "start_time": "2022-05-05T11:28:38.751Z"
   },
   {
    "duration": 20,
    "start_time": "2022-05-05T11:28:38.768Z"
   },
   {
    "duration": 6,
    "start_time": "2022-05-05T11:28:38.790Z"
   },
   {
    "duration": 10,
    "start_time": "2022-05-05T11:28:38.798Z"
   },
   {
    "duration": 46,
    "start_time": "2022-05-05T11:28:38.810Z"
   },
   {
    "duration": 20,
    "start_time": "2022-05-05T11:28:38.858Z"
   },
   {
    "duration": 297,
    "start_time": "2022-05-05T11:28:38.879Z"
   },
   {
    "duration": 17,
    "start_time": "2022-05-05T11:28:39.180Z"
   },
   {
    "duration": 110,
    "start_time": "2022-05-05T11:28:39.198Z"
   },
   {
    "duration": 19,
    "start_time": "2022-05-05T11:28:39.310Z"
   },
   {
    "duration": 192,
    "start_time": "2022-05-05T11:28:39.331Z"
   },
   {
    "duration": 292,
    "start_time": "2022-05-05T11:28:39.525Z"
   },
   {
    "duration": 275,
    "start_time": "2022-05-05T11:28:39.819Z"
   },
   {
    "duration": 186,
    "start_time": "2022-05-05T11:28:40.095Z"
   },
   {
    "duration": 5,
    "start_time": "2022-05-05T11:28:40.283Z"
   },
   {
    "duration": 8,
    "start_time": "2022-05-05T11:28:40.289Z"
   },
   {
    "duration": 16,
    "start_time": "2022-05-05T11:28:40.298Z"
   },
   {
    "duration": 50,
    "start_time": "2022-05-05T11:28:40.316Z"
   },
   {
    "duration": 419,
    "start_time": "2022-05-05T11:28:40.368Z"
   },
   {
    "duration": 88,
    "start_time": "2022-05-05T11:28:40.790Z"
   },
   {
    "duration": 12,
    "start_time": "2022-05-05T11:28:40.880Z"
   },
   {
    "duration": 12,
    "start_time": "2022-05-05T11:28:40.894Z"
   },
   {
    "duration": 215,
    "start_time": "2022-05-05T11:28:40.908Z"
   },
   {
    "duration": 8,
    "start_time": "2022-05-05T11:28:41.126Z"
   },
   {
    "duration": 2992,
    "start_time": "2022-05-05T11:28:41.136Z"
   },
   {
    "duration": 87,
    "start_time": "2022-05-05T11:28:44.133Z"
   },
   {
    "duration": 40,
    "start_time": "2022-05-05T11:28:44.222Z"
   },
   {
    "duration": 14,
    "start_time": "2022-05-05T11:28:44.264Z"
   },
   {
    "duration": 26,
    "start_time": "2022-05-05T11:28:44.280Z"
   },
   {
    "duration": 20,
    "start_time": "2022-05-05T11:28:44.308Z"
   },
   {
    "duration": 27,
    "start_time": "2022-05-05T11:28:44.330Z"
   },
   {
    "duration": 13,
    "start_time": "2022-05-05T11:28:44.359Z"
   },
   {
    "duration": 20,
    "start_time": "2022-05-05T11:28:44.375Z"
   },
   {
    "duration": 20,
    "start_time": "2022-05-05T11:28:44.398Z"
   },
   {
    "duration": 26,
    "start_time": "2022-05-05T11:28:44.420Z"
   },
   {
    "duration": 16,
    "start_time": "2022-05-05T11:28:44.456Z"
   },
   {
    "duration": 8,
    "start_time": "2022-05-05T11:28:44.474Z"
   },
   {
    "duration": 24,
    "start_time": "2022-05-05T11:28:44.484Z"
   },
   {
    "duration": 23,
    "start_time": "2022-05-05T11:28:44.511Z"
   },
   {
    "duration": 15,
    "start_time": "2022-05-05T11:28:44.536Z"
   },
   {
    "duration": 562,
    "start_time": "2022-05-05T11:28:44.553Z"
   },
   {
    "duration": 454,
    "start_time": "2022-05-05T11:28:45.131Z"
   },
   {
    "duration": 6,
    "start_time": "2022-05-05T11:28:45.587Z"
   },
   {
    "duration": 12,
    "start_time": "2022-05-05T11:30:41.939Z"
   },
   {
    "duration": 1441,
    "start_time": "2022-05-05T11:31:01.102Z"
   },
   {
    "duration": 77,
    "start_time": "2022-05-05T11:31:02.545Z"
   },
   {
    "duration": 17,
    "start_time": "2022-05-05T11:31:02.624Z"
   },
   {
    "duration": 54,
    "start_time": "2022-05-05T11:31:02.644Z"
   },
   {
    "duration": 7,
    "start_time": "2022-05-05T11:31:02.700Z"
   },
   {
    "duration": 22,
    "start_time": "2022-05-05T11:31:02.709Z"
   },
   {
    "duration": 29,
    "start_time": "2022-05-05T11:31:02.733Z"
   },
   {
    "duration": 37,
    "start_time": "2022-05-05T11:31:02.764Z"
   },
   {
    "duration": 191,
    "start_time": "2022-05-05T11:31:02.803Z"
   },
   {
    "duration": 16,
    "start_time": "2022-05-05T11:31:02.997Z"
   },
   {
    "duration": 104,
    "start_time": "2022-05-05T11:31:03.014Z"
   },
   {
    "duration": 22,
    "start_time": "2022-05-05T11:31:03.120Z"
   },
   {
    "duration": 212,
    "start_time": "2022-05-05T11:31:03.155Z"
   },
   {
    "duration": 442,
    "start_time": "2022-05-05T11:31:03.370Z"
   },
   {
    "duration": 351,
    "start_time": "2022-05-05T11:31:03.814Z"
   },
   {
    "duration": 186,
    "start_time": "2022-05-05T11:31:04.167Z"
   },
   {
    "duration": 5,
    "start_time": "2022-05-05T11:31:04.355Z"
   },
   {
    "duration": 35,
    "start_time": "2022-05-05T11:31:04.362Z"
   },
   {
    "duration": 27,
    "start_time": "2022-05-05T11:31:04.399Z"
   },
   {
    "duration": 52,
    "start_time": "2022-05-05T11:31:04.428Z"
   },
   {
    "duration": 252,
    "start_time": "2022-05-05T11:31:04.481Z"
   },
   {
    "duration": 53,
    "start_time": "2022-05-05T11:31:04.734Z"
   },
   {
    "duration": 15,
    "start_time": "2022-05-05T11:31:04.789Z"
   },
   {
    "duration": 27,
    "start_time": "2022-05-05T11:31:04.806Z"
   },
   {
    "duration": 220,
    "start_time": "2022-05-05T11:31:04.835Z"
   },
   {
    "duration": 8,
    "start_time": "2022-05-05T11:31:05.057Z"
   },
   {
    "duration": 2213,
    "start_time": "2022-05-05T11:31:05.066Z"
   },
   {
    "duration": 74,
    "start_time": "2022-05-05T11:31:07.282Z"
   },
   {
    "duration": 30,
    "start_time": "2022-05-05T11:31:07.358Z"
   },
   {
    "duration": 11,
    "start_time": "2022-05-05T11:31:07.390Z"
   },
   {
    "duration": 15,
    "start_time": "2022-05-05T11:31:07.403Z"
   },
   {
    "duration": 45,
    "start_time": "2022-05-05T11:31:07.420Z"
   },
   {
    "duration": 9,
    "start_time": "2022-05-05T11:31:07.467Z"
   },
   {
    "duration": 10,
    "start_time": "2022-05-05T11:31:07.478Z"
   },
   {
    "duration": 10,
    "start_time": "2022-05-05T11:31:07.489Z"
   },
   {
    "duration": 14,
    "start_time": "2022-05-05T11:31:07.501Z"
   },
   {
    "duration": 12,
    "start_time": "2022-05-05T11:31:07.517Z"
   },
   {
    "duration": 10,
    "start_time": "2022-05-05T11:31:07.554Z"
   },
   {
    "duration": 10,
    "start_time": "2022-05-05T11:31:07.570Z"
   },
   {
    "duration": 11,
    "start_time": "2022-05-05T11:31:07.582Z"
   },
   {
    "duration": 6,
    "start_time": "2022-05-05T11:31:07.595Z"
   },
   {
    "duration": 10,
    "start_time": "2022-05-05T11:31:07.603Z"
   },
   {
    "duration": 323,
    "start_time": "2022-05-05T11:31:07.614Z"
   },
   {
    "duration": 304,
    "start_time": "2022-05-05T11:31:07.939Z"
   },
   {
    "duration": 11,
    "start_time": "2022-05-05T11:31:08.246Z"
   },
   {
    "duration": 1198,
    "start_time": "2022-05-05T11:35:39.783Z"
   },
   {
    "duration": 61,
    "start_time": "2022-05-05T11:35:40.983Z"
   },
   {
    "duration": 19,
    "start_time": "2022-05-05T11:35:41.045Z"
   },
   {
    "duration": 34,
    "start_time": "2022-05-05T11:35:41.066Z"
   },
   {
    "duration": 9,
    "start_time": "2022-05-05T11:35:41.102Z"
   },
   {
    "duration": 29,
    "start_time": "2022-05-05T11:35:41.112Z"
   },
   {
    "duration": 19,
    "start_time": "2022-05-05T11:35:41.142Z"
   },
   {
    "duration": 30,
    "start_time": "2022-05-05T11:35:41.162Z"
   },
   {
    "duration": 168,
    "start_time": "2022-05-05T11:35:41.194Z"
   },
   {
    "duration": 15,
    "start_time": "2022-05-05T11:35:41.365Z"
   },
   {
    "duration": 101,
    "start_time": "2022-05-05T11:35:41.382Z"
   },
   {
    "duration": 19,
    "start_time": "2022-05-05T11:35:41.484Z"
   },
   {
    "duration": 186,
    "start_time": "2022-05-05T11:35:41.505Z"
   },
   {
    "duration": 283,
    "start_time": "2022-05-05T11:35:41.693Z"
   },
   {
    "duration": 268,
    "start_time": "2022-05-05T11:35:41.977Z"
   },
   {
    "duration": 166,
    "start_time": "2022-05-05T11:35:42.255Z"
   },
   {
    "duration": 6,
    "start_time": "2022-05-05T11:35:42.423Z"
   },
   {
    "duration": 24,
    "start_time": "2022-05-05T11:35:42.431Z"
   },
   {
    "duration": 28,
    "start_time": "2022-05-05T11:35:42.457Z"
   },
   {
    "duration": 27,
    "start_time": "2022-05-05T11:35:42.487Z"
   },
   {
    "duration": 253,
    "start_time": "2022-05-05T11:35:42.517Z"
   },
   {
    "duration": 52,
    "start_time": "2022-05-05T11:35:42.772Z"
   },
   {
    "duration": 33,
    "start_time": "2022-05-05T11:35:42.826Z"
   },
   {
    "duration": 11,
    "start_time": "2022-05-05T11:35:42.861Z"
   },
   {
    "duration": 209,
    "start_time": "2022-05-05T11:35:42.874Z"
   },
   {
    "duration": 7,
    "start_time": "2022-05-05T11:35:43.085Z"
   },
   {
    "duration": 1966,
    "start_time": "2022-05-05T11:35:43.094Z"
   },
   {
    "duration": 62,
    "start_time": "2022-05-05T11:35:45.064Z"
   },
   {
    "duration": 43,
    "start_time": "2022-05-05T11:35:45.128Z"
   },
   {
    "duration": 12,
    "start_time": "2022-05-05T11:35:45.172Z"
   },
   {
    "duration": 35,
    "start_time": "2022-05-05T11:35:45.185Z"
   },
   {
    "duration": 22,
    "start_time": "2022-05-05T11:35:45.222Z"
   },
   {
    "duration": 17,
    "start_time": "2022-05-05T11:35:45.246Z"
   },
   {
    "duration": 26,
    "start_time": "2022-05-05T11:35:45.265Z"
   },
   {
    "duration": 26,
    "start_time": "2022-05-05T11:35:45.293Z"
   },
   {
    "duration": 36,
    "start_time": "2022-05-05T11:35:45.321Z"
   },
   {
    "duration": 20,
    "start_time": "2022-05-05T11:35:45.359Z"
   },
   {
    "duration": 31,
    "start_time": "2022-05-05T11:35:45.382Z"
   },
   {
    "duration": 9,
    "start_time": "2022-05-05T11:35:45.416Z"
   },
   {
    "duration": 29,
    "start_time": "2022-05-05T11:35:45.426Z"
   },
   {
    "duration": 24,
    "start_time": "2022-05-05T11:35:45.457Z"
   },
   {
    "duration": 14,
    "start_time": "2022-05-05T11:35:45.482Z"
   },
   {
    "duration": 296,
    "start_time": "2022-05-05T11:35:45.498Z"
   },
   {
    "duration": 285,
    "start_time": "2022-05-05T11:35:45.796Z"
   },
   {
    "duration": 6,
    "start_time": "2022-05-05T11:35:46.083Z"
   },
   {
    "duration": 68,
    "start_time": "2022-05-11T08:21:55.357Z"
   },
   {
    "duration": 1348,
    "start_time": "2022-05-11T08:22:18.242Z"
   },
   {
    "duration": 76,
    "start_time": "2022-05-11T08:22:19.592Z"
   },
   {
    "duration": 13,
    "start_time": "2022-05-11T08:22:19.669Z"
   },
   {
    "duration": 17,
    "start_time": "2022-05-11T08:22:19.684Z"
   },
   {
    "duration": 6,
    "start_time": "2022-05-11T08:22:19.702Z"
   },
   {
    "duration": 9,
    "start_time": "2022-05-11T08:22:19.710Z"
   },
   {
    "duration": 14,
    "start_time": "2022-05-11T08:22:19.720Z"
   },
   {
    "duration": 22,
    "start_time": "2022-05-11T08:22:25.107Z"
   },
   {
    "duration": 22,
    "start_time": "2022-05-11T08:22:49.221Z"
   },
   {
    "duration": 6,
    "start_time": "2022-05-11T08:23:40.604Z"
   },
   {
    "duration": 63,
    "start_time": "2022-05-11T08:23:40.612Z"
   },
   {
    "duration": 11,
    "start_time": "2022-05-11T08:23:40.677Z"
   },
   {
    "duration": 28,
    "start_time": "2022-05-11T08:23:40.690Z"
   },
   {
    "duration": 4,
    "start_time": "2022-05-11T08:23:40.719Z"
   },
   {
    "duration": 6,
    "start_time": "2022-05-11T08:23:40.724Z"
   },
   {
    "duration": 9,
    "start_time": "2022-05-11T08:23:40.731Z"
   },
   {
    "duration": 57,
    "start_time": "2022-05-11T08:23:43.099Z"
   },
   {
    "duration": 5,
    "start_time": "2022-05-11T08:23:58.964Z"
   },
   {
    "duration": 65,
    "start_time": "2022-05-11T08:23:58.971Z"
   },
   {
    "duration": 12,
    "start_time": "2022-05-11T08:23:59.038Z"
   },
   {
    "duration": 25,
    "start_time": "2022-05-11T08:23:59.052Z"
   },
   {
    "duration": 23,
    "start_time": "2022-05-11T08:23:59.079Z"
   },
   {
    "duration": 6,
    "start_time": "2022-05-11T08:23:59.104Z"
   },
   {
    "duration": 12,
    "start_time": "2022-05-11T08:23:59.112Z"
   },
   {
    "duration": 12,
    "start_time": "2022-05-11T08:24:00.943Z"
   },
   {
    "duration": 12,
    "start_time": "2022-05-11T08:24:03.260Z"
   },
   {
    "duration": 1179,
    "start_time": "2022-05-11T08:24:20.409Z"
   },
   {
    "duration": 63,
    "start_time": "2022-05-11T08:24:21.590Z"
   },
   {
    "duration": 13,
    "start_time": "2022-05-11T08:24:21.655Z"
   },
   {
    "duration": 25,
    "start_time": "2022-05-11T08:24:21.670Z"
   },
   {
    "duration": 5,
    "start_time": "2022-05-11T08:24:21.700Z"
   },
   {
    "duration": 9,
    "start_time": "2022-05-11T08:24:21.707Z"
   },
   {
    "duration": 11,
    "start_time": "2022-05-11T08:24:21.718Z"
   },
   {
    "duration": 113,
    "start_time": "2022-05-11T08:24:21.730Z"
   },
   {
    "duration": 0,
    "start_time": "2022-05-11T08:24:21.846Z"
   },
   {
    "duration": 0,
    "start_time": "2022-05-11T08:24:21.847Z"
   },
   {
    "duration": 0,
    "start_time": "2022-05-11T08:24:21.848Z"
   },
   {
    "duration": 0,
    "start_time": "2022-05-11T08:24:21.849Z"
   },
   {
    "duration": 0,
    "start_time": "2022-05-11T08:24:21.851Z"
   },
   {
    "duration": 0,
    "start_time": "2022-05-11T08:24:21.852Z"
   },
   {
    "duration": 0,
    "start_time": "2022-05-11T08:24:21.854Z"
   },
   {
    "duration": 0,
    "start_time": "2022-05-11T08:24:21.855Z"
   },
   {
    "duration": 0,
    "start_time": "2022-05-11T08:24:21.856Z"
   },
   {
    "duration": 0,
    "start_time": "2022-05-11T08:24:21.858Z"
   },
   {
    "duration": 0,
    "start_time": "2022-05-11T08:24:21.859Z"
   },
   {
    "duration": 0,
    "start_time": "2022-05-11T08:24:21.861Z"
   },
   {
    "duration": 0,
    "start_time": "2022-05-11T08:24:21.862Z"
   },
   {
    "duration": 0,
    "start_time": "2022-05-11T08:24:21.864Z"
   },
   {
    "duration": 0,
    "start_time": "2022-05-11T08:24:21.865Z"
   },
   {
    "duration": 0,
    "start_time": "2022-05-11T08:24:21.866Z"
   },
   {
    "duration": 0,
    "start_time": "2022-05-11T08:24:21.900Z"
   },
   {
    "duration": 0,
    "start_time": "2022-05-11T08:24:21.902Z"
   },
   {
    "duration": 0,
    "start_time": "2022-05-11T08:24:21.903Z"
   },
   {
    "duration": 0,
    "start_time": "2022-05-11T08:24:21.905Z"
   },
   {
    "duration": 0,
    "start_time": "2022-05-11T08:24:21.906Z"
   },
   {
    "duration": 0,
    "start_time": "2022-05-11T08:24:21.907Z"
   },
   {
    "duration": 0,
    "start_time": "2022-05-11T08:24:21.909Z"
   },
   {
    "duration": 1,
    "start_time": "2022-05-11T08:24:21.910Z"
   },
   {
    "duration": 0,
    "start_time": "2022-05-11T08:24:21.912Z"
   },
   {
    "duration": 0,
    "start_time": "2022-05-11T08:24:21.913Z"
   },
   {
    "duration": 0,
    "start_time": "2022-05-11T08:24:21.914Z"
   },
   {
    "duration": 0,
    "start_time": "2022-05-11T08:24:21.916Z"
   },
   {
    "duration": 0,
    "start_time": "2022-05-11T08:24:21.917Z"
   },
   {
    "duration": 0,
    "start_time": "2022-05-11T08:24:21.919Z"
   },
   {
    "duration": 0,
    "start_time": "2022-05-11T08:24:21.920Z"
   },
   {
    "duration": 0,
    "start_time": "2022-05-11T08:24:21.921Z"
   },
   {
    "duration": 0,
    "start_time": "2022-05-11T08:24:21.922Z"
   },
   {
    "duration": 0,
    "start_time": "2022-05-11T08:24:21.923Z"
   },
   {
    "duration": 0,
    "start_time": "2022-05-11T08:24:21.924Z"
   },
   {
    "duration": 0,
    "start_time": "2022-05-11T08:24:21.925Z"
   },
   {
    "duration": 0,
    "start_time": "2022-05-11T08:24:21.926Z"
   },
   {
    "duration": 0,
    "start_time": "2022-05-11T08:24:21.927Z"
   },
   {
    "duration": 5,
    "start_time": "2022-05-11T08:25:18.605Z"
   },
   {
    "duration": 88,
    "start_time": "2022-05-11T08:25:18.613Z"
   },
   {
    "duration": 13,
    "start_time": "2022-05-11T08:25:18.703Z"
   },
   {
    "duration": 17,
    "start_time": "2022-05-11T08:25:18.718Z"
   },
   {
    "duration": 6,
    "start_time": "2022-05-11T08:25:18.737Z"
   },
   {
    "duration": 6,
    "start_time": "2022-05-11T08:25:18.745Z"
   },
   {
    "duration": 11,
    "start_time": "2022-05-11T08:25:18.753Z"
   },
   {
    "duration": 17,
    "start_time": "2022-05-11T08:25:21.517Z"
   },
   {
    "duration": 15,
    "start_time": "2022-05-11T08:25:26.993Z"
   },
   {
    "duration": 5,
    "start_time": "2022-05-11T08:25:36.585Z"
   },
   {
    "duration": 68,
    "start_time": "2022-05-11T08:25:36.593Z"
   },
   {
    "duration": 12,
    "start_time": "2022-05-11T08:25:36.663Z"
   },
   {
    "duration": 24,
    "start_time": "2022-05-11T08:25:36.676Z"
   },
   {
    "duration": 5,
    "start_time": "2022-05-11T08:25:36.702Z"
   },
   {
    "duration": 6,
    "start_time": "2022-05-11T08:25:36.709Z"
   },
   {
    "duration": 10,
    "start_time": "2022-05-11T08:25:36.716Z"
   },
   {
    "duration": 15,
    "start_time": "2022-05-11T08:25:39.175Z"
   },
   {
    "duration": 9,
    "start_time": "2022-05-11T08:25:59.723Z"
   },
   {
    "duration": 8,
    "start_time": "2022-05-11T08:26:12.260Z"
   },
   {
    "duration": 8,
    "start_time": "2022-05-11T08:26:25.123Z"
   },
   {
    "duration": 5,
    "start_time": "2022-05-11T08:27:19.056Z"
   },
   {
    "duration": 80,
    "start_time": "2022-05-11T08:27:19.063Z"
   },
   {
    "duration": 13,
    "start_time": "2022-05-11T08:27:19.145Z"
   },
   {
    "duration": 22,
    "start_time": "2022-05-11T08:27:19.160Z"
   },
   {
    "duration": 17,
    "start_time": "2022-05-11T08:27:19.184Z"
   },
   {
    "duration": 5,
    "start_time": "2022-05-11T08:27:19.202Z"
   },
   {
    "duration": 10,
    "start_time": "2022-05-11T08:27:19.209Z"
   },
   {
    "duration": 18,
    "start_time": "2022-05-11T08:27:19.220Z"
   },
   {
    "duration": 12,
    "start_time": "2022-05-11T08:27:20.890Z"
   },
   {
    "duration": 8,
    "start_time": "2022-05-11T08:27:21.846Z"
   },
   {
    "duration": 11,
    "start_time": "2022-05-11T08:27:54.394Z"
   },
   {
    "duration": 5,
    "start_time": "2022-05-11T08:27:59.637Z"
   },
   {
    "duration": 84,
    "start_time": "2022-05-11T08:27:59.645Z"
   },
   {
    "duration": 16,
    "start_time": "2022-05-11T08:27:59.731Z"
   },
   {
    "duration": 25,
    "start_time": "2022-05-11T08:27:59.749Z"
   },
   {
    "duration": 24,
    "start_time": "2022-05-11T08:27:59.776Z"
   },
   {
    "duration": 5,
    "start_time": "2022-05-11T08:27:59.802Z"
   },
   {
    "duration": 15,
    "start_time": "2022-05-11T08:27:59.810Z"
   },
   {
    "duration": 15,
    "start_time": "2022-05-11T08:27:59.827Z"
   },
   {
    "duration": 12,
    "start_time": "2022-05-11T08:28:02.320Z"
   },
   {
    "duration": 5,
    "start_time": "2022-05-11T08:28:10.688Z"
   },
   {
    "duration": 69,
    "start_time": "2022-05-11T08:28:10.694Z"
   },
   {
    "duration": 12,
    "start_time": "2022-05-11T08:28:10.764Z"
   },
   {
    "duration": 23,
    "start_time": "2022-05-11T08:28:10.778Z"
   },
   {
    "duration": 4,
    "start_time": "2022-05-11T08:28:10.803Z"
   },
   {
    "duration": 7,
    "start_time": "2022-05-11T08:28:10.809Z"
   },
   {
    "duration": 12,
    "start_time": "2022-05-11T08:28:10.817Z"
   },
   {
    "duration": 10,
    "start_time": "2022-05-11T08:28:19.038Z"
   },
   {
    "duration": 15,
    "start_time": "2022-05-11T08:28:20.424Z"
   },
   {
    "duration": 7,
    "start_time": "2022-05-11T08:29:07.004Z"
   },
   {
    "duration": 70,
    "start_time": "2022-05-11T08:29:07.013Z"
   },
   {
    "duration": 13,
    "start_time": "2022-05-11T08:29:07.085Z"
   },
   {
    "duration": 22,
    "start_time": "2022-05-11T08:29:07.100Z"
   },
   {
    "duration": 5,
    "start_time": "2022-05-11T08:29:07.125Z"
   },
   {
    "duration": 6,
    "start_time": "2022-05-11T08:29:07.132Z"
   },
   {
    "duration": 12,
    "start_time": "2022-05-11T08:29:07.139Z"
   },
   {
    "duration": 9,
    "start_time": "2022-05-11T08:29:09.049Z"
   },
   {
    "duration": 8,
    "start_time": "2022-05-11T08:29:13.238Z"
   },
   {
    "duration": 4,
    "start_time": "2022-05-11T10:08:51.283Z"
   },
   {
    "duration": 65,
    "start_time": "2022-05-11T10:08:51.290Z"
   },
   {
    "duration": 12,
    "start_time": "2022-05-11T10:08:51.357Z"
   },
   {
    "duration": 16,
    "start_time": "2022-05-11T10:08:51.370Z"
   },
   {
    "duration": 13,
    "start_time": "2022-05-11T10:08:51.388Z"
   },
   {
    "duration": 8,
    "start_time": "2022-05-11T10:08:51.402Z"
   },
   {
    "duration": 10,
    "start_time": "2022-05-11T10:08:51.411Z"
   },
   {
    "duration": 7,
    "start_time": "2022-05-11T10:08:51.423Z"
   },
   {
    "duration": 8,
    "start_time": "2022-05-11T10:08:54.179Z"
   },
   {
    "duration": 6,
    "start_time": "2022-05-11T10:08:55.650Z"
   },
   {
    "duration": 5,
    "start_time": "2022-05-11T10:09:07.592Z"
   },
   {
    "duration": 62,
    "start_time": "2022-05-11T10:09:07.599Z"
   },
   {
    "duration": 12,
    "start_time": "2022-05-11T10:09:07.663Z"
   },
   {
    "duration": 30,
    "start_time": "2022-05-11T10:09:07.677Z"
   },
   {
    "duration": 5,
    "start_time": "2022-05-11T10:09:07.709Z"
   },
   {
    "duration": 7,
    "start_time": "2022-05-11T10:09:07.716Z"
   },
   {
    "duration": 13,
    "start_time": "2022-05-11T10:09:07.724Z"
   },
   {
    "duration": 7,
    "start_time": "2022-05-11T10:09:07.739Z"
   },
   {
    "duration": 5,
    "start_time": "2022-05-11T10:09:12.594Z"
   },
   {
    "duration": 5,
    "start_time": "2022-05-11T10:09:32.219Z"
   },
   {
    "duration": 12,
    "start_time": "2022-05-11T10:10:59.896Z"
   },
   {
    "duration": 12,
    "start_time": "2022-05-11T10:11:12.360Z"
   },
   {
    "duration": 4,
    "start_time": "2022-05-11T10:11:32.521Z"
   },
   {
    "duration": 60,
    "start_time": "2022-05-11T10:11:32.530Z"
   },
   {
    "duration": 12,
    "start_time": "2022-05-11T10:11:32.592Z"
   },
   {
    "duration": 21,
    "start_time": "2022-05-11T10:11:32.606Z"
   },
   {
    "duration": 4,
    "start_time": "2022-05-11T10:11:32.630Z"
   },
   {
    "duration": 7,
    "start_time": "2022-05-11T10:11:32.636Z"
   },
   {
    "duration": 11,
    "start_time": "2022-05-11T10:11:32.645Z"
   },
   {
    "duration": 10,
    "start_time": "2022-05-11T10:11:32.657Z"
   },
   {
    "duration": 5,
    "start_time": "2022-05-11T10:11:35.262Z"
   },
   {
    "duration": 12,
    "start_time": "2022-05-11T10:11:45.078Z"
   },
   {
    "duration": 16,
    "start_time": "2022-05-11T10:12:23.888Z"
   },
   {
    "duration": 14,
    "start_time": "2022-05-11T10:12:38.753Z"
   },
   {
    "duration": 13,
    "start_time": "2022-05-11T10:13:41.858Z"
   },
   {
    "duration": 5,
    "start_time": "2022-05-11T10:13:45.127Z"
   },
   {
    "duration": 11,
    "start_time": "2022-05-11T10:17:23.993Z"
   },
   {
    "duration": 11,
    "start_time": "2022-05-11T10:17:46.148Z"
   },
   {
    "duration": 20,
    "start_time": "2022-05-11T10:20:06.080Z"
   },
   {
    "duration": 1159,
    "start_time": "2022-05-11T10:24:10.013Z"
   },
   {
    "duration": 62,
    "start_time": "2022-05-11T10:24:11.174Z"
   },
   {
    "duration": 13,
    "start_time": "2022-05-11T10:24:11.238Z"
   },
   {
    "duration": 18,
    "start_time": "2022-05-11T10:24:11.253Z"
   },
   {
    "duration": 5,
    "start_time": "2022-05-11T10:24:11.272Z"
   },
   {
    "duration": 28,
    "start_time": "2022-05-11T10:24:11.279Z"
   },
   {
    "duration": 10,
    "start_time": "2022-05-11T10:24:11.309Z"
   },
   {
    "duration": 12,
    "start_time": "2022-05-11T10:24:11.321Z"
   },
   {
    "duration": 7,
    "start_time": "2022-05-11T10:24:11.334Z"
   },
   {
    "duration": 15,
    "start_time": "2022-05-11T10:24:11.343Z"
   },
   {
    "duration": 42,
    "start_time": "2022-05-11T10:24:11.360Z"
   },
   {
    "duration": 5,
    "start_time": "2022-05-11T10:24:11.404Z"
   },
   {
    "duration": 107,
    "start_time": "2022-05-11T10:24:11.411Z"
   },
   {
    "duration": 0,
    "start_time": "2022-05-11T10:24:11.520Z"
   },
   {
    "duration": 0,
    "start_time": "2022-05-11T10:24:11.521Z"
   },
   {
    "duration": 0,
    "start_time": "2022-05-11T10:24:11.522Z"
   },
   {
    "duration": 0,
    "start_time": "2022-05-11T10:24:11.523Z"
   },
   {
    "duration": 0,
    "start_time": "2022-05-11T10:24:11.524Z"
   },
   {
    "duration": 0,
    "start_time": "2022-05-11T10:24:11.525Z"
   },
   {
    "duration": 0,
    "start_time": "2022-05-11T10:24:11.526Z"
   },
   {
    "duration": 0,
    "start_time": "2022-05-11T10:24:11.527Z"
   },
   {
    "duration": 0,
    "start_time": "2022-05-11T10:24:11.528Z"
   },
   {
    "duration": 0,
    "start_time": "2022-05-11T10:24:11.529Z"
   },
   {
    "duration": 0,
    "start_time": "2022-05-11T10:24:11.530Z"
   },
   {
    "duration": 0,
    "start_time": "2022-05-11T10:24:11.531Z"
   },
   {
    "duration": 0,
    "start_time": "2022-05-11T10:24:11.531Z"
   },
   {
    "duration": 0,
    "start_time": "2022-05-11T10:24:11.532Z"
   },
   {
    "duration": 0,
    "start_time": "2022-05-11T10:24:11.533Z"
   },
   {
    "duration": 0,
    "start_time": "2022-05-11T10:24:11.534Z"
   },
   {
    "duration": 0,
    "start_time": "2022-05-11T10:24:11.535Z"
   },
   {
    "duration": 0,
    "start_time": "2022-05-11T10:24:11.536Z"
   },
   {
    "duration": 0,
    "start_time": "2022-05-11T10:24:11.537Z"
   },
   {
    "duration": 0,
    "start_time": "2022-05-11T10:24:11.538Z"
   },
   {
    "duration": 0,
    "start_time": "2022-05-11T10:24:11.539Z"
   },
   {
    "duration": 0,
    "start_time": "2022-05-11T10:24:11.540Z"
   },
   {
    "duration": 0,
    "start_time": "2022-05-11T10:24:11.541Z"
   },
   {
    "duration": 0,
    "start_time": "2022-05-11T10:24:11.542Z"
   },
   {
    "duration": 0,
    "start_time": "2022-05-11T10:24:11.543Z"
   },
   {
    "duration": 0,
    "start_time": "2022-05-11T10:24:11.543Z"
   },
   {
    "duration": 0,
    "start_time": "2022-05-11T10:24:11.544Z"
   },
   {
    "duration": 0,
    "start_time": "2022-05-11T10:24:11.545Z"
   },
   {
    "duration": 0,
    "start_time": "2022-05-11T10:24:11.546Z"
   },
   {
    "duration": 0,
    "start_time": "2022-05-11T10:24:11.547Z"
   },
   {
    "duration": 0,
    "start_time": "2022-05-11T10:24:11.548Z"
   },
   {
    "duration": 0,
    "start_time": "2022-05-11T10:24:11.600Z"
   },
   {
    "duration": 0,
    "start_time": "2022-05-11T10:24:11.601Z"
   },
   {
    "duration": 0,
    "start_time": "2022-05-11T10:24:11.602Z"
   },
   {
    "duration": 0,
    "start_time": "2022-05-11T10:24:11.603Z"
   },
   {
    "duration": 0,
    "start_time": "2022-05-11T10:24:11.604Z"
   },
   {
    "duration": 0,
    "start_time": "2022-05-11T10:24:11.605Z"
   },
   {
    "duration": 11,
    "start_time": "2022-05-11T10:26:12.887Z"
   },
   {
    "duration": 11,
    "start_time": "2022-05-11T10:27:51.009Z"
   },
   {
    "duration": 5,
    "start_time": "2022-05-11T10:31:07.695Z"
   },
   {
    "duration": 75,
    "start_time": "2022-05-11T10:31:07.702Z"
   },
   {
    "duration": 12,
    "start_time": "2022-05-11T10:31:07.778Z"
   },
   {
    "duration": 21,
    "start_time": "2022-05-11T10:31:07.792Z"
   },
   {
    "duration": 5,
    "start_time": "2022-05-11T10:31:07.814Z"
   },
   {
    "duration": 10,
    "start_time": "2022-05-11T10:31:07.820Z"
   },
   {
    "duration": 11,
    "start_time": "2022-05-11T10:31:07.831Z"
   },
   {
    "duration": 14,
    "start_time": "2022-05-11T10:31:07.843Z"
   },
   {
    "duration": 10,
    "start_time": "2022-05-11T10:31:07.859Z"
   },
   {
    "duration": 178,
    "start_time": "2022-05-11T10:31:07.870Z"
   },
   {
    "duration": 11,
    "start_time": "2022-05-11T10:31:17.641Z"
   },
   {
    "duration": 13,
    "start_time": "2022-05-11T10:31:22.793Z"
   },
   {
    "duration": 20,
    "start_time": "2022-05-11T10:31:24.943Z"
   },
   {
    "duration": 11,
    "start_time": "2022-05-11T10:31:54.131Z"
   },
   {
    "duration": 17,
    "start_time": "2022-05-11T10:31:57.954Z"
   },
   {
    "duration": 1139,
    "start_time": "2022-05-11T10:32:10.064Z"
   },
   {
    "duration": 61,
    "start_time": "2022-05-11T10:32:11.205Z"
   },
   {
    "duration": 12,
    "start_time": "2022-05-11T10:32:11.268Z"
   },
   {
    "duration": 19,
    "start_time": "2022-05-11T10:32:11.282Z"
   },
   {
    "duration": 5,
    "start_time": "2022-05-11T10:32:11.302Z"
   },
   {
    "duration": 5,
    "start_time": "2022-05-11T10:32:11.308Z"
   },
   {
    "duration": 9,
    "start_time": "2022-05-11T10:32:11.315Z"
   },
   {
    "duration": 10,
    "start_time": "2022-05-11T10:32:11.326Z"
   },
   {
    "duration": 5,
    "start_time": "2022-05-11T10:32:11.337Z"
   },
   {
    "duration": 12,
    "start_time": "2022-05-11T10:32:11.344Z"
   },
   {
    "duration": 44,
    "start_time": "2022-05-11T10:32:11.357Z"
   },
   {
    "duration": 17,
    "start_time": "2022-05-11T10:32:11.403Z"
   },
   {
    "duration": 12,
    "start_time": "2022-05-11T10:32:11.421Z"
   },
   {
    "duration": 17,
    "start_time": "2022-05-11T10:32:11.434Z"
   },
   {
    "duration": 173,
    "start_time": "2022-05-11T10:32:11.453Z"
   },
   {
    "duration": 13,
    "start_time": "2022-05-11T10:32:11.627Z"
   },
   {
    "duration": 89,
    "start_time": "2022-05-11T10:32:11.641Z"
   },
   {
    "duration": 17,
    "start_time": "2022-05-11T10:32:11.732Z"
   },
   {
    "duration": 163,
    "start_time": "2022-05-11T10:32:11.750Z"
   },
   {
    "duration": 246,
    "start_time": "2022-05-11T10:32:11.914Z"
   },
   {
    "duration": 245,
    "start_time": "2022-05-11T10:32:12.161Z"
   },
   {
    "duration": 160,
    "start_time": "2022-05-11T10:32:12.407Z"
   },
   {
    "duration": 4,
    "start_time": "2022-05-11T10:32:12.569Z"
   },
   {
    "duration": 21,
    "start_time": "2022-05-11T10:32:12.574Z"
   },
   {
    "duration": 27,
    "start_time": "2022-05-11T10:32:12.596Z"
   },
   {
    "duration": 21,
    "start_time": "2022-05-11T10:32:12.624Z"
   },
   {
    "duration": 212,
    "start_time": "2022-05-11T10:32:12.646Z"
   },
   {
    "duration": 53,
    "start_time": "2022-05-11T10:32:12.862Z"
   },
   {
    "duration": 13,
    "start_time": "2022-05-11T10:32:12.917Z"
   },
   {
    "duration": 14,
    "start_time": "2022-05-11T10:32:12.932Z"
   },
   {
    "duration": 177,
    "start_time": "2022-05-11T10:32:12.948Z"
   },
   {
    "duration": 7,
    "start_time": "2022-05-11T10:32:13.127Z"
   },
   {
    "duration": 3086,
    "start_time": "2022-05-11T10:32:13.136Z"
   },
   {
    "duration": 56,
    "start_time": "2022-05-11T10:32:16.224Z"
   },
   {
    "duration": 36,
    "start_time": "2022-05-11T10:32:16.282Z"
   },
   {
    "duration": 20,
    "start_time": "2022-05-11T10:32:16.320Z"
   },
   {
    "duration": 13,
    "start_time": "2022-05-11T10:32:16.341Z"
   },
   {
    "duration": 14,
    "start_time": "2022-05-11T10:32:16.355Z"
   },
   {
    "duration": 5,
    "start_time": "2022-05-11T10:32:16.371Z"
   },
   {
    "duration": 6,
    "start_time": "2022-05-11T10:32:16.377Z"
   },
   {
    "duration": 20,
    "start_time": "2022-05-11T10:32:16.384Z"
   },
   {
    "duration": 13,
    "start_time": "2022-05-11T10:32:16.405Z"
   },
   {
    "duration": 11,
    "start_time": "2022-05-11T10:32:16.419Z"
   },
   {
    "duration": 10,
    "start_time": "2022-05-11T10:32:16.431Z"
   },
   {
    "duration": 4,
    "start_time": "2022-05-11T10:32:16.442Z"
   },
   {
    "duration": 6,
    "start_time": "2022-05-11T10:32:16.447Z"
   },
   {
    "duration": 5,
    "start_time": "2022-05-11T10:32:16.455Z"
   },
   {
    "duration": 39,
    "start_time": "2022-05-11T10:32:16.461Z"
   },
   {
    "duration": 272,
    "start_time": "2022-05-11T10:32:16.502Z"
   },
   {
    "duration": 272,
    "start_time": "2022-05-11T10:32:16.776Z"
   },
   {
    "duration": 6,
    "start_time": "2022-05-11T10:32:17.049Z"
   },
   {
    "duration": 242,
    "start_time": "2022-05-11T10:39:14.403Z"
   },
   {
    "duration": 4,
    "start_time": "2022-05-11T10:39:37.871Z"
   },
   {
    "duration": 12,
    "start_time": "2022-05-11T10:39:43.350Z"
   },
   {
    "duration": 105,
    "start_time": "2022-05-11T10:40:22.490Z"
   },
   {
    "duration": 254,
    "start_time": "2022-05-11T10:40:40.746Z"
   },
   {
    "duration": 4,
    "start_time": "2022-05-11T10:41:00.392Z"
   },
   {
    "duration": 118,
    "start_time": "2022-05-11T10:41:19.213Z"
   },
   {
    "duration": 101,
    "start_time": "2022-05-11T10:43:05.657Z"
   },
   {
    "duration": 97,
    "start_time": "2022-05-11T10:44:44.872Z"
   },
   {
    "duration": 4,
    "start_time": "2022-05-11T10:44:59.562Z"
   },
   {
    "duration": 11,
    "start_time": "2022-05-11T10:49:04.185Z"
   },
   {
    "duration": 129,
    "start_time": "2022-05-11T10:50:01.442Z"
   },
   {
    "duration": 118,
    "start_time": "2022-05-11T10:50:04.926Z"
   },
   {
    "duration": 1154,
    "start_time": "2022-05-11T11:11:18.525Z"
   },
   {
    "duration": 65,
    "start_time": "2022-05-11T11:11:19.681Z"
   },
   {
    "duration": 13,
    "start_time": "2022-05-11T11:11:19.748Z"
   },
   {
    "duration": 19,
    "start_time": "2022-05-11T11:11:19.763Z"
   },
   {
    "duration": 18,
    "start_time": "2022-05-11T11:11:19.783Z"
   },
   {
    "duration": 4,
    "start_time": "2022-05-11T11:11:19.802Z"
   },
   {
    "duration": 12,
    "start_time": "2022-05-11T11:11:19.808Z"
   },
   {
    "duration": 10,
    "start_time": "2022-05-11T11:11:19.822Z"
   },
   {
    "duration": 7,
    "start_time": "2022-05-11T11:11:19.834Z"
   },
   {
    "duration": 14,
    "start_time": "2022-05-11T11:11:19.843Z"
   },
   {
    "duration": 16,
    "start_time": "2022-05-11T11:11:19.858Z"
   },
   {
    "duration": 19,
    "start_time": "2022-05-11T11:11:19.900Z"
   },
   {
    "duration": 10,
    "start_time": "2022-05-11T11:11:19.920Z"
   },
   {
    "duration": 19,
    "start_time": "2022-05-11T11:11:19.931Z"
   },
   {
    "duration": 173,
    "start_time": "2022-05-11T11:11:19.952Z"
   },
   {
    "duration": 14,
    "start_time": "2022-05-11T11:11:20.127Z"
   },
   {
    "duration": 90,
    "start_time": "2022-05-11T11:11:20.143Z"
   },
   {
    "duration": 18,
    "start_time": "2022-05-11T11:11:20.235Z"
   },
   {
    "duration": 167,
    "start_time": "2022-05-11T11:11:20.254Z"
   },
   {
    "duration": 264,
    "start_time": "2022-05-11T11:11:20.423Z"
   },
   {
    "duration": 268,
    "start_time": "2022-05-11T11:11:20.689Z"
   },
   {
    "duration": 155,
    "start_time": "2022-05-11T11:11:20.959Z"
   },
   {
    "duration": 4,
    "start_time": "2022-05-11T11:11:21.116Z"
   },
   {
    "duration": 9,
    "start_time": "2022-05-11T11:11:21.121Z"
   },
   {
    "duration": 5,
    "start_time": "2022-05-11T11:11:21.132Z"
   },
   {
    "duration": 204,
    "start_time": "2022-05-11T11:11:21.138Z"
   },
   {
    "duration": 12,
    "start_time": "2022-05-11T11:11:21.343Z"
   },
   {
    "duration": 15,
    "start_time": "2022-05-11T11:11:21.358Z"
   },
   {
    "duration": 157,
    "start_time": "2022-05-11T11:11:21.374Z"
   },
   {
    "duration": 44,
    "start_time": "2022-05-11T11:11:21.532Z"
   },
   {
    "duration": 9,
    "start_time": "2022-05-11T11:11:21.578Z"
   },
   {
    "duration": 15,
    "start_time": "2022-05-11T11:11:21.588Z"
   },
   {
    "duration": 173,
    "start_time": "2022-05-11T11:11:21.605Z"
   },
   {
    "duration": 6,
    "start_time": "2022-05-11T11:11:21.779Z"
   },
   {
    "duration": 3973,
    "start_time": "2022-05-11T11:11:21.787Z"
   },
   {
    "duration": 69,
    "start_time": "2022-05-11T11:11:25.762Z"
   },
   {
    "duration": 28,
    "start_time": "2022-05-11T11:11:25.833Z"
   },
   {
    "duration": 11,
    "start_time": "2022-05-11T11:11:25.863Z"
   },
   {
    "duration": 29,
    "start_time": "2022-05-11T11:11:25.875Z"
   },
   {
    "duration": 15,
    "start_time": "2022-05-11T11:11:25.906Z"
   },
   {
    "duration": 5,
    "start_time": "2022-05-11T11:11:25.922Z"
   },
   {
    "duration": 5,
    "start_time": "2022-05-11T11:11:25.929Z"
   },
   {
    "duration": 13,
    "start_time": "2022-05-11T11:11:25.935Z"
   },
   {
    "duration": 11,
    "start_time": "2022-05-11T11:11:25.950Z"
   },
   {
    "duration": 9,
    "start_time": "2022-05-11T11:11:25.962Z"
   },
   {
    "duration": 34,
    "start_time": "2022-05-11T11:11:25.972Z"
   },
   {
    "duration": 4,
    "start_time": "2022-05-11T11:11:26.007Z"
   },
   {
    "duration": 4,
    "start_time": "2022-05-11T11:11:26.012Z"
   },
   {
    "duration": 5,
    "start_time": "2022-05-11T11:11:26.018Z"
   },
   {
    "duration": 8,
    "start_time": "2022-05-11T11:11:26.024Z"
   },
   {
    "duration": 279,
    "start_time": "2022-05-11T11:11:26.034Z"
   },
   {
    "duration": 339,
    "start_time": "2022-05-11T11:11:26.314Z"
   },
   {
    "duration": 4,
    "start_time": "2022-05-11T11:11:26.654Z"
   },
   {
    "duration": 81,
    "start_time": "2022-09-15T10:48:50.555Z"
   },
   {
    "duration": 1279,
    "start_time": "2022-09-15T10:50:48.260Z"
   },
   {
    "duration": 273,
    "start_time": "2022-09-15T10:50:49.541Z"
   },
   {
    "duration": 14,
    "start_time": "2022-09-15T10:50:49.816Z"
   },
   {
    "duration": 22,
    "start_time": "2022-09-15T10:50:49.832Z"
   },
   {
    "duration": 6,
    "start_time": "2022-09-15T10:50:49.857Z"
   },
   {
    "duration": 15,
    "start_time": "2022-09-15T10:50:49.865Z"
   },
   {
    "duration": 13,
    "start_time": "2022-09-15T10:50:49.882Z"
   },
   {
    "duration": 21,
    "start_time": "2022-09-15T10:50:49.920Z"
   },
   {
    "duration": 243,
    "start_time": "2022-09-15T10:50:49.943Z"
   },
   {
    "duration": 16,
    "start_time": "2022-09-15T10:50:50.190Z"
   },
   {
    "duration": 110,
    "start_time": "2022-09-15T10:50:50.220Z"
   },
   {
    "duration": 24,
    "start_time": "2022-09-15T10:50:50.333Z"
   },
   {
    "duration": 210,
    "start_time": "2022-09-15T10:50:50.359Z"
   },
   {
    "duration": 316,
    "start_time": "2022-09-15T10:50:50.572Z"
   },
   {
    "duration": 316,
    "start_time": "2022-09-15T10:50:50.891Z"
   },
   {
    "duration": 258,
    "start_time": "2022-09-15T10:50:51.210Z"
   },
   {
    "duration": 6,
    "start_time": "2022-09-15T10:50:51.470Z"
   },
   {
    "duration": 12,
    "start_time": "2022-09-15T10:50:51.478Z"
   },
   {
    "duration": 12,
    "start_time": "2022-09-15T10:50:51.492Z"
   },
   {
    "duration": 167,
    "start_time": "2022-09-15T10:50:51.506Z"
   },
   {
    "duration": 13,
    "start_time": "2022-09-15T10:50:51.675Z"
   },
   {
    "duration": 33,
    "start_time": "2022-09-15T10:50:51.690Z"
   },
   {
    "duration": 202,
    "start_time": "2022-09-15T10:50:51.725Z"
   },
   {
    "duration": 46,
    "start_time": "2022-09-15T10:50:51.929Z"
   },
   {
    "duration": 11,
    "start_time": "2022-09-15T10:50:51.977Z"
   },
   {
    "duration": 33,
    "start_time": "2022-09-15T10:50:51.990Z"
   },
   {
    "duration": 228,
    "start_time": "2022-09-15T10:50:52.025Z"
   },
   {
    "duration": 8,
    "start_time": "2022-09-15T10:50:52.257Z"
   },
   {
    "duration": 3023,
    "start_time": "2022-09-15T10:50:52.267Z"
   },
   {
    "duration": 72,
    "start_time": "2022-09-15T10:50:55.292Z"
   },
   {
    "duration": 29,
    "start_time": "2022-09-15T10:50:55.366Z"
   },
   {
    "duration": 28,
    "start_time": "2022-09-15T10:50:55.397Z"
   },
   {
    "duration": 14,
    "start_time": "2022-09-15T10:50:55.427Z"
   },
   {
    "duration": 18,
    "start_time": "2022-09-15T10:50:55.443Z"
   },
   {
    "duration": 7,
    "start_time": "2022-09-15T10:50:55.463Z"
   },
   {
    "duration": 7,
    "start_time": "2022-09-15T10:50:55.472Z"
   },
   {
    "duration": 40,
    "start_time": "2022-09-15T10:50:55.481Z"
   },
   {
    "duration": 15,
    "start_time": "2022-09-15T10:50:55.522Z"
   },
   {
    "duration": 15,
    "start_time": "2022-09-15T10:50:55.539Z"
   },
   {
    "duration": 17,
    "start_time": "2022-09-15T10:50:55.556Z"
   },
   {
    "duration": 6,
    "start_time": "2022-09-15T10:50:55.575Z"
   },
   {
    "duration": 9,
    "start_time": "2022-09-15T10:50:55.582Z"
   },
   {
    "duration": 27,
    "start_time": "2022-09-15T10:50:55.592Z"
   },
   {
    "duration": 15,
    "start_time": "2022-09-15T10:50:55.621Z"
   },
   {
    "duration": 346,
    "start_time": "2022-09-15T10:50:55.638Z"
   },
   {
    "duration": 416,
    "start_time": "2022-09-15T10:50:55.986Z"
   },
   {
    "duration": 375,
    "start_time": "2022-09-15T10:51:09.011Z"
   },
   {
    "duration": 323,
    "start_time": "2022-09-15T10:51:38.201Z"
   },
   {
    "duration": 1210,
    "start_time": "2022-09-15T10:52:45.446Z"
   },
   {
    "duration": 82,
    "start_time": "2022-09-15T10:52:46.658Z"
   },
   {
    "duration": 14,
    "start_time": "2022-09-15T10:52:46.743Z"
   },
   {
    "duration": 24,
    "start_time": "2022-09-15T10:52:46.760Z"
   },
   {
    "duration": 6,
    "start_time": "2022-09-15T10:52:46.786Z"
   },
   {
    "duration": 28,
    "start_time": "2022-09-15T10:52:46.794Z"
   },
   {
    "duration": 12,
    "start_time": "2022-09-15T10:52:46.824Z"
   },
   {
    "duration": 22,
    "start_time": "2022-09-15T10:52:46.837Z"
   },
   {
    "duration": 256,
    "start_time": "2022-09-15T10:52:46.861Z"
   },
   {
    "duration": 21,
    "start_time": "2022-09-15T10:52:47.122Z"
   },
   {
    "duration": 123,
    "start_time": "2022-09-15T10:52:47.146Z"
   },
   {
    "duration": 23,
    "start_time": "2022-09-15T10:52:47.271Z"
   },
   {
    "duration": 224,
    "start_time": "2022-09-15T10:52:47.296Z"
   },
   {
    "duration": 336,
    "start_time": "2022-09-15T10:52:47.522Z"
   },
   {
    "duration": 318,
    "start_time": "2022-09-15T10:52:47.860Z"
   },
   {
    "duration": 275,
    "start_time": "2022-09-15T10:52:48.180Z"
   },
   {
    "duration": 5,
    "start_time": "2022-09-15T10:52:48.458Z"
   },
   {
    "duration": 12,
    "start_time": "2022-09-15T10:52:48.465Z"
   },
   {
    "duration": 10,
    "start_time": "2022-09-15T10:52:48.479Z"
   },
   {
    "duration": 191,
    "start_time": "2022-09-15T10:52:48.491Z"
   },
   {
    "duration": 16,
    "start_time": "2022-09-15T10:52:48.685Z"
   },
   {
    "duration": 31,
    "start_time": "2022-09-15T10:52:48.703Z"
   },
   {
    "duration": 220,
    "start_time": "2022-09-15T10:52:48.735Z"
   },
   {
    "duration": 73,
    "start_time": "2022-09-15T10:52:48.957Z"
   },
   {
    "duration": 19,
    "start_time": "2022-09-15T10:52:49.033Z"
   },
   {
    "duration": 30,
    "start_time": "2022-09-15T10:52:49.055Z"
   },
   {
    "duration": 280,
    "start_time": "2022-09-15T10:52:49.088Z"
   },
   {
    "duration": 8,
    "start_time": "2022-09-15T10:52:49.373Z"
   },
   {
    "duration": 1845,
    "start_time": "2022-09-15T10:52:49.383Z"
   },
   {
    "duration": 69,
    "start_time": "2022-09-15T10:52:51.230Z"
   },
   {
    "duration": 45,
    "start_time": "2022-09-15T10:52:51.301Z"
   },
   {
    "duration": 13,
    "start_time": "2022-09-15T10:52:51.348Z"
   },
   {
    "duration": 20,
    "start_time": "2022-09-15T10:52:51.362Z"
   },
   {
    "duration": 40,
    "start_time": "2022-09-15T10:52:51.385Z"
   },
   {
    "duration": 8,
    "start_time": "2022-09-15T10:52:51.427Z"
   },
   {
    "duration": 29,
    "start_time": "2022-09-15T10:52:51.437Z"
   },
   {
    "duration": 9,
    "start_time": "2022-09-15T10:52:51.468Z"
   },
   {
    "duration": 21,
    "start_time": "2022-09-15T10:52:51.479Z"
   },
   {
    "duration": 13,
    "start_time": "2022-09-15T10:52:51.501Z"
   },
   {
    "duration": 10,
    "start_time": "2022-09-15T10:52:51.519Z"
   },
   {
    "duration": 6,
    "start_time": "2022-09-15T10:52:51.534Z"
   },
   {
    "duration": 19,
    "start_time": "2022-09-15T10:52:51.542Z"
   },
   {
    "duration": 20,
    "start_time": "2022-09-15T10:52:51.563Z"
   },
   {
    "duration": 10,
    "start_time": "2022-09-15T10:52:51.585Z"
   },
   {
    "duration": 383,
    "start_time": "2022-09-15T10:52:51.597Z"
   },
   {
    "duration": 412,
    "start_time": "2022-09-15T10:52:51.981Z"
   },
   {
    "duration": 7,
    "start_time": "2022-09-15T10:52:52.395Z"
   }
  ],
  "kernelspec": {
   "display_name": "Python 3 (ipykernel)",
   "language": "python",
   "name": "python3"
  },
  "language_info": {
   "codemirror_mode": {
    "name": "ipython",
    "version": 3
   },
   "file_extension": ".py",
   "mimetype": "text/x-python",
   "name": "python",
   "nbconvert_exporter": "python",
   "pygments_lexer": "ipython3",
   "version": "3.9.5"
  },
  "toc": {
   "base_numbering": 1,
   "nav_menu": {},
   "number_sections": true,
   "sideBar": true,
   "skip_h1_title": true,
   "title_cell": "Table of Contents",
   "title_sidebar": "Contents",
   "toc_cell": false,
   "toc_position": {},
   "toc_section_display": true,
   "toc_window_display": false
  }
 },
 "nbformat": 4,
 "nbformat_minor": 2
}
