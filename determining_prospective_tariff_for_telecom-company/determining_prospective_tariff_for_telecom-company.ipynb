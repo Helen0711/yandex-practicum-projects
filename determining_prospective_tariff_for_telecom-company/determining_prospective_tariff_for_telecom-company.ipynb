{
 "cells": [
  {
   "cell_type": "markdown",
   "metadata": {},
   "source": [
    "# Определение перспективного тарифа для телеком-компании"
   ]
  },
  {
   "cell_type": "markdown",
   "metadata": {},
   "source": [
    "**СОДЕРЖАНИЕ**\n",
    "1. [Описание проекта](#start)\n",
    "2. [Изучение общей информации](#info)\n",
    "3. [Предобработка данных](#prep)\n",
    "4. [Создание общей таблицы и расчеты](#table)\n",
    "5. [Анализ данных](#analize)\n",
    "6. [Проверка гипотез](#hyp)    \n",
    "7. [Общий вывод](#end)    "
   ]
  },
  {
   "cell_type": "markdown",
   "metadata": {},
   "source": [
    "<a id=\"start\"></a>\n",
    "## Описание проекта"
   ]
  },
  {
   "cell_type": "markdown",
   "metadata": {},
   "source": [
    "Вы аналитик компании «Мегалайн» — федерального оператора сотовой связи. Клиентам предлагают два тарифных плана: «Смарт» и «Ультра». Чтобы скорректировать рекламный бюджет, коммерческий департамент хочет понять, какой тариф приносит больше денег.\n",
    "Вам предстоит сделать предварительный анализ тарифов на небольшой выборке клиентов. В вашем распоряжении данные 500 пользователей «Мегалайна»: кто они, откуда, каким тарифом пользуются, сколько звонков и сообщений каждый отправил за 2018 год. Нужно проанализировать поведение клиентов и сделать вывод — какой тариф лучше."
   ]
  },
  {
   "cell_type": "markdown",
   "metadata": {},
   "source": [
    "**Описание тарифов**\n"
   ]
  },
  {
   "cell_type": "markdown",
   "metadata": {},
   "source": [
    "**Тариф «Смарт»**\n",
    "- Ежемесячная плата: 550 рублей\n",
    "- Включено 500 минут разговора, 50 сообщений и 15 Гб интернет-трафика\\\n",
    "Стоимость услуг сверх тарифного пакета:\n",
    "- минута разговора: 3 рубля\n",
    "- сообщение: 3 рубля\n",
    "- 1 Гб интернет-трафика: 200 рублей"
   ]
  },
  {
   "cell_type": "markdown",
   "metadata": {},
   "source": [
    "**Тариф «Ультра»**\n",
    "- Ежемесячная плата: 1950 рублей\n",
    "- Включено 3000 минут разговора, 1000 сообщений и 30 Гб интернет-трафика\\\n",
    "Стоимость услуг сверх тарифного пакета:\n",
    "- минута разговора: 1 рубль\n",
    "- сообщение: 1 рубль\n",
    "- 1 Гб интернет-трафика: 150 рублей"
   ]
  },
  {
   "cell_type": "markdown",
   "metadata": {},
   "source": [
    "<a id=\"info\"></a>\n",
    "## Изучение общей информации"
   ]
  },
  {
   "cell_type": "code",
   "execution_count": 1,
   "metadata": {},
   "outputs": [],
   "source": [
    "# Импортируем необходимые библиотеки\n",
    "import pandas as pd\n",
    "import numpy as np\n",
    "import matplotlib.pyplot as plt\n",
    "from scipy import stats as st\n",
    "import warnings\n",
    "warnings.filterwarnings(\"ignore\")"
   ]
  },
  {
   "cell_type": "code",
   "execution_count": 2,
   "metadata": {},
   "outputs": [],
   "source": [
    "pd.options.display.float_format = '{:,.2f}'.format"
   ]
  },
  {
   "cell_type": "code",
   "execution_count": 3,
   "metadata": {},
   "outputs": [],
   "source": [
    "calls = pd.read_csv('/datasets/calls.csv')\n",
    "internet = pd.read_csv('/datasets/internet.csv', index_col=0)\n",
    "messages = pd.read_csv('/datasets/messages.csv')\n",
    "tariffs = pd.read_csv('/datasets/tariffs.csv')                       \n",
    "users = pd.read_csv('/datasets/users.csv')"
   ]
  },
  {
   "cell_type": "markdown",
   "metadata": {},
   "source": [
    "Посмотрим на данные"
   ]
  },
  {
   "cell_type": "code",
   "execution_count": 4,
   "metadata": {
    "scrolled": true
   },
   "outputs": [
    {
     "data": {
      "text/html": [
       "<div>\n",
       "<style scoped>\n",
       "    .dataframe tbody tr th:only-of-type {\n",
       "        vertical-align: middle;\n",
       "    }\n",
       "\n",
       "    .dataframe tbody tr th {\n",
       "        vertical-align: top;\n",
       "    }\n",
       "\n",
       "    .dataframe thead th {\n",
       "        text-align: right;\n",
       "    }\n",
       "</style>\n",
       "<table border=\"1\" class=\"dataframe\">\n",
       "  <thead>\n",
       "    <tr style=\"text-align: right;\">\n",
       "      <th></th>\n",
       "      <th>id</th>\n",
       "      <th>call_date</th>\n",
       "      <th>duration</th>\n",
       "      <th>user_id</th>\n",
       "    </tr>\n",
       "  </thead>\n",
       "  <tbody>\n",
       "    <tr>\n",
       "      <th>0</th>\n",
       "      <td>1000_0</td>\n",
       "      <td>2018-07-25</td>\n",
       "      <td>0.00</td>\n",
       "      <td>1000</td>\n",
       "    </tr>\n",
       "    <tr>\n",
       "      <th>1</th>\n",
       "      <td>1000_1</td>\n",
       "      <td>2018-08-17</td>\n",
       "      <td>0.00</td>\n",
       "      <td>1000</td>\n",
       "    </tr>\n",
       "    <tr>\n",
       "      <th>2</th>\n",
       "      <td>1000_2</td>\n",
       "      <td>2018-06-11</td>\n",
       "      <td>2.85</td>\n",
       "      <td>1000</td>\n",
       "    </tr>\n",
       "    <tr>\n",
       "      <th>3</th>\n",
       "      <td>1000_3</td>\n",
       "      <td>2018-09-21</td>\n",
       "      <td>13.80</td>\n",
       "      <td>1000</td>\n",
       "    </tr>\n",
       "    <tr>\n",
       "      <th>4</th>\n",
       "      <td>1000_4</td>\n",
       "      <td>2018-12-15</td>\n",
       "      <td>5.18</td>\n",
       "      <td>1000</td>\n",
       "    </tr>\n",
       "  </tbody>\n",
       "</table>\n",
       "</div>"
      ],
      "text/plain": [
       "       id   call_date  duration  user_id\n",
       "0  1000_0  2018-07-25      0.00     1000\n",
       "1  1000_1  2018-08-17      0.00     1000\n",
       "2  1000_2  2018-06-11      2.85     1000\n",
       "3  1000_3  2018-09-21     13.80     1000\n",
       "4  1000_4  2018-12-15      5.18     1000"
      ]
     },
     "execution_count": 4,
     "metadata": {},
     "output_type": "execute_result"
    }
   ],
   "source": [
    "calls.head()"
   ]
  },
  {
   "cell_type": "code",
   "execution_count": 5,
   "metadata": {},
   "outputs": [
    {
     "name": "stdout",
     "output_type": "stream",
     "text": [
      "<class 'pandas.core.frame.DataFrame'>\n",
      "RangeIndex: 202607 entries, 0 to 202606\n",
      "Data columns (total 4 columns):\n",
      " #   Column     Non-Null Count   Dtype  \n",
      "---  ------     --------------   -----  \n",
      " 0   id         202607 non-null  object \n",
      " 1   call_date  202607 non-null  object \n",
      " 2   duration   202607 non-null  float64\n",
      " 3   user_id    202607 non-null  int64  \n",
      "dtypes: float64(1), int64(1), object(2)\n",
      "memory usage: 6.2+ MB\n"
     ]
    }
   ],
   "source": [
    "calls.info()"
   ]
  },
  {
   "cell_type": "code",
   "execution_count": 6,
   "metadata": {
    "scrolled": true
   },
   "outputs": [
    {
     "data": {
      "text/html": [
       "<div>\n",
       "<style scoped>\n",
       "    .dataframe tbody tr th:only-of-type {\n",
       "        vertical-align: middle;\n",
       "    }\n",
       "\n",
       "    .dataframe tbody tr th {\n",
       "        vertical-align: top;\n",
       "    }\n",
       "\n",
       "    .dataframe thead th {\n",
       "        text-align: right;\n",
       "    }\n",
       "</style>\n",
       "<table border=\"1\" class=\"dataframe\">\n",
       "  <thead>\n",
       "    <tr style=\"text-align: right;\">\n",
       "      <th></th>\n",
       "      <th>id</th>\n",
       "      <th>mb_used</th>\n",
       "      <th>session_date</th>\n",
       "      <th>user_id</th>\n",
       "    </tr>\n",
       "  </thead>\n",
       "  <tbody>\n",
       "    <tr>\n",
       "      <th>0</th>\n",
       "      <td>1000_0</td>\n",
       "      <td>112.95</td>\n",
       "      <td>2018-11-25</td>\n",
       "      <td>1000</td>\n",
       "    </tr>\n",
       "    <tr>\n",
       "      <th>1</th>\n",
       "      <td>1000_1</td>\n",
       "      <td>1,052.81</td>\n",
       "      <td>2018-09-07</td>\n",
       "      <td>1000</td>\n",
       "    </tr>\n",
       "    <tr>\n",
       "      <th>2</th>\n",
       "      <td>1000_2</td>\n",
       "      <td>1,197.26</td>\n",
       "      <td>2018-06-25</td>\n",
       "      <td>1000</td>\n",
       "    </tr>\n",
       "    <tr>\n",
       "      <th>3</th>\n",
       "      <td>1000_3</td>\n",
       "      <td>550.27</td>\n",
       "      <td>2018-08-22</td>\n",
       "      <td>1000</td>\n",
       "    </tr>\n",
       "    <tr>\n",
       "      <th>4</th>\n",
       "      <td>1000_4</td>\n",
       "      <td>302.56</td>\n",
       "      <td>2018-09-24</td>\n",
       "      <td>1000</td>\n",
       "    </tr>\n",
       "  </tbody>\n",
       "</table>\n",
       "</div>"
      ],
      "text/plain": [
       "       id  mb_used session_date  user_id\n",
       "0  1000_0   112.95   2018-11-25     1000\n",
       "1  1000_1 1,052.81   2018-09-07     1000\n",
       "2  1000_2 1,197.26   2018-06-25     1000\n",
       "3  1000_3   550.27   2018-08-22     1000\n",
       "4  1000_4   302.56   2018-09-24     1000"
      ]
     },
     "execution_count": 6,
     "metadata": {},
     "output_type": "execute_result"
    }
   ],
   "source": [
    "internet.head()"
   ]
  },
  {
   "cell_type": "code",
   "execution_count": 7,
   "metadata": {
    "scrolled": true
   },
   "outputs": [
    {
     "name": "stdout",
     "output_type": "stream",
     "text": [
      "<class 'pandas.core.frame.DataFrame'>\n",
      "Int64Index: 149396 entries, 0 to 149395\n",
      "Data columns (total 4 columns):\n",
      " #   Column        Non-Null Count   Dtype  \n",
      "---  ------        --------------   -----  \n",
      " 0   id            149396 non-null  object \n",
      " 1   mb_used       149396 non-null  float64\n",
      " 2   session_date  149396 non-null  object \n",
      " 3   user_id       149396 non-null  int64  \n",
      "dtypes: float64(1), int64(1), object(2)\n",
      "memory usage: 5.7+ MB\n"
     ]
    }
   ],
   "source": [
    "internet.info()"
   ]
  },
  {
   "cell_type": "markdown",
   "metadata": {},
   "source": [
    "**Проверим на аномалии столбец \"mb_used\".**"
   ]
  },
  {
   "cell_type": "code",
   "execution_count": 8,
   "metadata": {
    "scrolled": true
   },
   "outputs": [
    {
     "data": {
      "text/plain": [
       "''"
      ]
     },
     "execution_count": 8,
     "metadata": {},
     "output_type": "execute_result"
    },
    {
     "data": {
      "image/png": "[encoded data removed]",
      "text/plain": [
       "<Figure size 432x288 with 1 Axes>"
      ]
     },
     "metadata": {
      "needs_background": "light"
     },
     "output_type": "display_data"
    }
   ],
   "source": [
    "internet['mb_used'].plot(kind='hist', bins=20)\n",
    ";"
   ]
  },
  {
   "cell_type": "markdown",
   "metadata": {},
   "source": [
    "**Вывод**\n",
    "Виден всплеск на нулевых сессиях. Причины могли быть разные - клиенты пытались выйти в интернет, но не смогли, происходил обрыв сессий и звонков. Возможно, стоило бы обратиться с этим к тех. поддержке после более детального исследования: город, время, клиенты, у которых произошел сбой."
   ]
  },
  {
   "cell_type": "code",
   "execution_count": 9,
   "metadata": {},
   "outputs": [
    {
     "data": {
      "text/html": [
       "<div>\n",
       "<style scoped>\n",
       "    .dataframe tbody tr th:only-of-type {\n",
       "        vertical-align: middle;\n",
       "    }\n",
       "\n",
       "    .dataframe tbody tr th {\n",
       "        vertical-align: top;\n",
       "    }\n",
       "\n",
       "    .dataframe thead th {\n",
       "        text-align: right;\n",
       "    }\n",
       "</style>\n",
       "<table border=\"1\" class=\"dataframe\">\n",
       "  <thead>\n",
       "    <tr style=\"text-align: right;\">\n",
       "      <th></th>\n",
       "      <th>id</th>\n",
       "      <th>message_date</th>\n",
       "      <th>user_id</th>\n",
       "    </tr>\n",
       "  </thead>\n",
       "  <tbody>\n",
       "    <tr>\n",
       "      <th>0</th>\n",
       "      <td>1000_0</td>\n",
       "      <td>2018-06-27</td>\n",
       "      <td>1000</td>\n",
       "    </tr>\n",
       "    <tr>\n",
       "      <th>1</th>\n",
       "      <td>1000_1</td>\n",
       "      <td>2018-10-08</td>\n",
       "      <td>1000</td>\n",
       "    </tr>\n",
       "    <tr>\n",
       "      <th>2</th>\n",
       "      <td>1000_2</td>\n",
       "      <td>2018-08-04</td>\n",
       "      <td>1000</td>\n",
       "    </tr>\n",
       "    <tr>\n",
       "      <th>3</th>\n",
       "      <td>1000_3</td>\n",
       "      <td>2018-06-16</td>\n",
       "      <td>1000</td>\n",
       "    </tr>\n",
       "    <tr>\n",
       "      <th>4</th>\n",
       "      <td>1000_4</td>\n",
       "      <td>2018-12-05</td>\n",
       "      <td>1000</td>\n",
       "    </tr>\n",
       "  </tbody>\n",
       "</table>\n",
       "</div>"
      ],
      "text/plain": [
       "       id message_date  user_id\n",
       "0  1000_0   2018-06-27     1000\n",
       "1  1000_1   2018-10-08     1000\n",
       "2  1000_2   2018-08-04     1000\n",
       "3  1000_3   2018-06-16     1000\n",
       "4  1000_4   2018-12-05     1000"
      ]
     },
     "execution_count": 9,
     "metadata": {},
     "output_type": "execute_result"
    }
   ],
   "source": [
    "messages.head()"
   ]
  },
  {
   "cell_type": "code",
   "execution_count": 10,
   "metadata": {},
   "outputs": [
    {
     "name": "stdout",
     "output_type": "stream",
     "text": [
      "<class 'pandas.core.frame.DataFrame'>\n",
      "RangeIndex: 123036 entries, 0 to 123035\n",
      "Data columns (total 3 columns):\n",
      " #   Column        Non-Null Count   Dtype \n",
      "---  ------        --------------   ----- \n",
      " 0   id            123036 non-null  object\n",
      " 1   message_date  123036 non-null  object\n",
      " 2   user_id       123036 non-null  int64 \n",
      "dtypes: int64(1), object(2)\n",
      "memory usage: 2.8+ MB\n"
     ]
    }
   ],
   "source": [
    "messages.info()"
   ]
  },
  {
   "cell_type": "code",
   "execution_count": 11,
   "metadata": {},
   "outputs": [
    {
     "data": {
      "text/html": [
       "<div>\n",
       "<style scoped>\n",
       "    .dataframe tbody tr th:only-of-type {\n",
       "        vertical-align: middle;\n",
       "    }\n",
       "\n",
       "    .dataframe tbody tr th {\n",
       "        vertical-align: top;\n",
       "    }\n",
       "\n",
       "    .dataframe thead th {\n",
       "        text-align: right;\n",
       "    }\n",
       "</style>\n",
       "<table border=\"1\" class=\"dataframe\">\n",
       "  <thead>\n",
       "    <tr style=\"text-align: right;\">\n",
       "      <th></th>\n",
       "      <th>messages_included</th>\n",
       "      <th>mb_per_month_included</th>\n",
       "      <th>minutes_included</th>\n",
       "      <th>rub_monthly_fee</th>\n",
       "      <th>rub_per_gb</th>\n",
       "      <th>rub_per_message</th>\n",
       "      <th>rub_per_minute</th>\n",
       "      <th>tariff_name</th>\n",
       "    </tr>\n",
       "  </thead>\n",
       "  <tbody>\n",
       "    <tr>\n",
       "      <th>0</th>\n",
       "      <td>50</td>\n",
       "      <td>15360</td>\n",
       "      <td>500</td>\n",
       "      <td>550</td>\n",
       "      <td>200</td>\n",
       "      <td>3</td>\n",
       "      <td>3</td>\n",
       "      <td>smart</td>\n",
       "    </tr>\n",
       "    <tr>\n",
       "      <th>1</th>\n",
       "      <td>1000</td>\n",
       "      <td>30720</td>\n",
       "      <td>3000</td>\n",
       "      <td>1950</td>\n",
       "      <td>150</td>\n",
       "      <td>1</td>\n",
       "      <td>1</td>\n",
       "      <td>ultra</td>\n",
       "    </tr>\n",
       "  </tbody>\n",
       "</table>\n",
       "</div>"
      ],
      "text/plain": [
       "   messages_included  mb_per_month_included  minutes_included  \\\n",
       "0                 50                  15360               500   \n",
       "1               1000                  30720              3000   \n",
       "\n",
       "   rub_monthly_fee  rub_per_gb  rub_per_message  rub_per_minute tariff_name  \n",
       "0              550         200                3               3       smart  \n",
       "1             1950         150                1               1       ultra  "
      ]
     },
     "execution_count": 11,
     "metadata": {},
     "output_type": "execute_result"
    }
   ],
   "source": [
    "tariffs.head()"
   ]
  },
  {
   "cell_type": "code",
   "execution_count": 12,
   "metadata": {},
   "outputs": [
    {
     "name": "stdout",
     "output_type": "stream",
     "text": [
      "<class 'pandas.core.frame.DataFrame'>\n",
      "RangeIndex: 2 entries, 0 to 1\n",
      "Data columns (total 8 columns):\n",
      " #   Column                 Non-Null Count  Dtype \n",
      "---  ------                 --------------  ----- \n",
      " 0   messages_included      2 non-null      int64 \n",
      " 1   mb_per_month_included  2 non-null      int64 \n",
      " 2   minutes_included       2 non-null      int64 \n",
      " 3   rub_monthly_fee        2 non-null      int64 \n",
      " 4   rub_per_gb             2 non-null      int64 \n",
      " 5   rub_per_message        2 non-null      int64 \n",
      " 6   rub_per_minute         2 non-null      int64 \n",
      " 7   tariff_name            2 non-null      object\n",
      "dtypes: int64(7), object(1)\n",
      "memory usage: 256.0+ bytes\n"
     ]
    }
   ],
   "source": [
    "tariffs.info()"
   ]
  },
  {
   "cell_type": "code",
   "execution_count": 13,
   "metadata": {},
   "outputs": [
    {
     "data": {
      "text/html": [
       "<div>\n",
       "<style scoped>\n",
       "    .dataframe tbody tr th:only-of-type {\n",
       "        vertical-align: middle;\n",
       "    }\n",
       "\n",
       "    .dataframe tbody tr th {\n",
       "        vertical-align: top;\n",
       "    }\n",
       "\n",
       "    .dataframe thead th {\n",
       "        text-align: right;\n",
       "    }\n",
       "</style>\n",
       "<table border=\"1\" class=\"dataframe\">\n",
       "  <thead>\n",
       "    <tr style=\"text-align: right;\">\n",
       "      <th></th>\n",
       "      <th>user_id</th>\n",
       "      <th>age</th>\n",
       "      <th>churn_date</th>\n",
       "      <th>city</th>\n",
       "      <th>first_name</th>\n",
       "      <th>last_name</th>\n",
       "      <th>reg_date</th>\n",
       "      <th>tariff</th>\n",
       "    </tr>\n",
       "  </thead>\n",
       "  <tbody>\n",
       "    <tr>\n",
       "      <th>0</th>\n",
       "      <td>1000</td>\n",
       "      <td>52</td>\n",
       "      <td>NaN</td>\n",
       "      <td>Краснодар</td>\n",
       "      <td>Рафаил</td>\n",
       "      <td>Верещагин</td>\n",
       "      <td>2018-05-25</td>\n",
       "      <td>ultra</td>\n",
       "    </tr>\n",
       "    <tr>\n",
       "      <th>1</th>\n",
       "      <td>1001</td>\n",
       "      <td>41</td>\n",
       "      <td>NaN</td>\n",
       "      <td>Москва</td>\n",
       "      <td>Иван</td>\n",
       "      <td>Ежов</td>\n",
       "      <td>2018-11-01</td>\n",
       "      <td>smart</td>\n",
       "    </tr>\n",
       "    <tr>\n",
       "      <th>2</th>\n",
       "      <td>1002</td>\n",
       "      <td>59</td>\n",
       "      <td>NaN</td>\n",
       "      <td>Стерлитамак</td>\n",
       "      <td>Евгений</td>\n",
       "      <td>Абрамович</td>\n",
       "      <td>2018-06-17</td>\n",
       "      <td>smart</td>\n",
       "    </tr>\n",
       "    <tr>\n",
       "      <th>3</th>\n",
       "      <td>1003</td>\n",
       "      <td>23</td>\n",
       "      <td>NaN</td>\n",
       "      <td>Москва</td>\n",
       "      <td>Белла</td>\n",
       "      <td>Белякова</td>\n",
       "      <td>2018-08-17</td>\n",
       "      <td>ultra</td>\n",
       "    </tr>\n",
       "    <tr>\n",
       "      <th>4</th>\n",
       "      <td>1004</td>\n",
       "      <td>68</td>\n",
       "      <td>NaN</td>\n",
       "      <td>Новокузнецк</td>\n",
       "      <td>Татьяна</td>\n",
       "      <td>Авдеенко</td>\n",
       "      <td>2018-05-14</td>\n",
       "      <td>ultra</td>\n",
       "    </tr>\n",
       "  </tbody>\n",
       "</table>\n",
       "</div>"
      ],
      "text/plain": [
       "   user_id  age churn_date         city first_name  last_name    reg_date  \\\n",
       "0     1000   52        NaN    Краснодар     Рафаил  Верещагин  2018-05-25   \n",
       "1     1001   41        NaN       Москва       Иван       Ежов  2018-11-01   \n",
       "2     1002   59        NaN  Стерлитамак    Евгений  Абрамович  2018-06-17   \n",
       "3     1003   23        NaN       Москва      Белла   Белякова  2018-08-17   \n",
       "4     1004   68        NaN  Новокузнецк    Татьяна   Авдеенко  2018-05-14   \n",
       "\n",
       "  tariff  \n",
       "0  ultra  \n",
       "1  smart  \n",
       "2  smart  \n",
       "3  ultra  \n",
       "4  ultra  "
      ]
     },
     "execution_count": 13,
     "metadata": {},
     "output_type": "execute_result"
    }
   ],
   "source": [
    "users.head()"
   ]
  },
  {
   "cell_type": "code",
   "execution_count": 14,
   "metadata": {},
   "outputs": [
    {
     "name": "stdout",
     "output_type": "stream",
     "text": [
      "<class 'pandas.core.frame.DataFrame'>\n",
      "RangeIndex: 500 entries, 0 to 499\n",
      "Data columns (total 8 columns):\n",
      " #   Column      Non-Null Count  Dtype \n",
      "---  ------      --------------  ----- \n",
      " 0   user_id     500 non-null    int64 \n",
      " 1   age         500 non-null    int64 \n",
      " 2   churn_date  38 non-null     object\n",
      " 3   city        500 non-null    object\n",
      " 4   first_name  500 non-null    object\n",
      " 5   last_name   500 non-null    object\n",
      " 6   reg_date    500 non-null    object\n",
      " 7   tariff      500 non-null    object\n",
      "dtypes: int64(2), object(6)\n",
      "memory usage: 31.4+ KB\n"
     ]
    }
   ],
   "source": [
    "users.info()"
   ]
  },
  {
   "cell_type": "markdown",
   "metadata": {},
   "source": [
    "**Вывод**"
   ]
  },
  {
   "cell_type": "markdown",
   "metadata": {},
   "source": [
    "Итак, у нас есть 5 датасетов.\n",
    "* Первый датасет **calls** содержит информацию о звонках. В нем 4 колонки.\\\n",
    " `id` - уникальный номер звонка (***object***)\\\n",
    " `call_date`- дата звонка (***object***)\\\n",
    " `duration` - длительность звонка в минутах (***float64***)\\\n",
    " `user_id` - идентификатор пользователя, сделавшего звонок (***int64***).\n",
    " \n",
    "\n",
    "* Датасет **internet** содержит информацию об использованном трафике интернета пользователем. В нем 5 столбцов.\\\n",
    "  `Unnamed: 0`- непонятный столбец, дублирует индексы\\\n",
    "  `id` - уникальный номер сессии(***object***)\\\n",
    "  `mb_used` - объём потраченного за сессию интернет-трафика (в мегабайтах) (***float64***)\\\n",
    "  `session_date` - дата интернет-сессии (***object***)\\\n",
    "  `user_id` - идентификатор пользователя (***int64***).\n",
    "   \n",
    "\n",
    "* Датасет **messages** содержит информацию об смс. В нем 3 колонки.\\\n",
    " `id` - уникальный номер сообщения (***object***)\\\n",
    " `message_date` - дата сообщения (***object***)\\\n",
    " `user_id` - идентификатор пользователя, отправившего сообщение (***int64***).\n",
    " \n",
    "\n",
    "* Датасет **tariffs** содержит информацию о тарифах. В нем 8 колонок и 2 строки.\\  \n",
    " `messages_included` - количество сообщений в месяц, включённых в абонентскую плату (***int64***)\\\n",
    " `mb_per_month_included` - объём интернет-трафика, включённого в абонентскую плату (в мегабайтах) (***int64***)\\\n",
    " `minutes_included` - количество минут разговора в месяц, включённых в абонентскую плату (***int64***)\\\n",
    " `rub_monthly_fee` - ежемесячная абонентская плата в рублях (***int64***)\\\n",
    " `rub_per_gb`- стоимость дополнительного гигабайта интернет-трафика сверх тарифного пакета  (***int64***)\\\n",
    " `rub_per_message` - стоимость отправки сообщения сверх тарифного пакета (***int64***)\\\n",
    " `rub_per_minute` - стоимость минуты разговора сверх тарифного пакета (***int64***)\\\n",
    " `tariff_name` - название тарифа (***object***).\n",
    "\n",
    "\n",
    "* Датасет **users** содержит информацию о пользователях. В нем 8 колонок.\\\n",
    " `user_id` - уникальный идентификатор пользователя (***int64***)\\\n",
    " `age` - возраст пользователя (годы) (***int64***)\\\n",
    " `churn_date` - дата прекращения пользования тарифом (если значение пропущено, то тариф ещё действовал на момент выгрузки данных) (***object***)\\\n",
    " `city` - город проживания пользователя (***object***)\\\n",
    " `first_name` - имя пользователя (***object***)\\\n",
    " `last_name` - фамилия пользователя (***object***)\\\n",
    " `reg_date` - дата подключения тарифа (день, месяц, год) (***object***)\\\n",
    " `tariff` - название тарифного плана (***object***).\n",
    " \n",
    " В таблице **users** в колонке `churn_date` есть пропущенные значения. Кроме того, надо привести данные в некоторых колонках к нужному типу. Например, колонки, которые содержат даты: `call_date` в **calls**, `session_date`в **internet**, `message_date` в **messages**, `churn_date` в **users** - надо перевести тип данных в этих колонках в **datetime64**. "
   ]
  },
  {
   "cell_type": "markdown",
   "metadata": {},
   "source": [
    "<a id=\"prep\"></a>\n",
    "## Предобработка данных"
   ]
  },
  {
   "cell_type": "markdown",
   "metadata": {},
   "source": [
    "### Переименование колонки"
   ]
  },
  {
   "cell_type": "markdown",
   "metadata": {},
   "source": [
    "Колонку `tariff_name` в таблице **tariffs** переименуем в `tariff`, это нам понадобится в дальнейшем при объединении датасетов."
   ]
  },
  {
   "cell_type": "code",
   "execution_count": 15,
   "metadata": {},
   "outputs": [
    {
     "data": {
      "text/html": [
       "<div>\n",
       "<style scoped>\n",
       "    .dataframe tbody tr th:only-of-type {\n",
       "        vertical-align: middle;\n",
       "    }\n",
       "\n",
       "    .dataframe tbody tr th {\n",
       "        vertical-align: top;\n",
       "    }\n",
       "\n",
       "    .dataframe thead th {\n",
       "        text-align: right;\n",
       "    }\n",
       "</style>\n",
       "<table border=\"1\" class=\"dataframe\">\n",
       "  <thead>\n",
       "    <tr style=\"text-align: right;\">\n",
       "      <th></th>\n",
       "      <th>messages_included</th>\n",
       "      <th>mb_per_month_included</th>\n",
       "      <th>minutes_included</th>\n",
       "      <th>rub_monthly_fee</th>\n",
       "      <th>rub_per_gb</th>\n",
       "      <th>rub_per_message</th>\n",
       "      <th>rub_per_minute</th>\n",
       "      <th>tariff</th>\n",
       "    </tr>\n",
       "  </thead>\n",
       "  <tbody>\n",
       "    <tr>\n",
       "      <th>0</th>\n",
       "      <td>50</td>\n",
       "      <td>15360</td>\n",
       "      <td>500</td>\n",
       "      <td>550</td>\n",
       "      <td>200</td>\n",
       "      <td>3</td>\n",
       "      <td>3</td>\n",
       "      <td>smart</td>\n",
       "    </tr>\n",
       "    <tr>\n",
       "      <th>1</th>\n",
       "      <td>1000</td>\n",
       "      <td>30720</td>\n",
       "      <td>3000</td>\n",
       "      <td>1950</td>\n",
       "      <td>150</td>\n",
       "      <td>1</td>\n",
       "      <td>1</td>\n",
       "      <td>ultra</td>\n",
       "    </tr>\n",
       "  </tbody>\n",
       "</table>\n",
       "</div>"
      ],
      "text/plain": [
       "   messages_included  mb_per_month_included  minutes_included  \\\n",
       "0                 50                  15360               500   \n",
       "1               1000                  30720              3000   \n",
       "\n",
       "   rub_monthly_fee  rub_per_gb  rub_per_message  rub_per_minute tariff  \n",
       "0              550         200                3               3  smart  \n",
       "1             1950         150                1               1  ultra  "
      ]
     },
     "execution_count": 15,
     "metadata": {},
     "output_type": "execute_result"
    }
   ],
   "source": [
    "tariffs = tariffs.rename(columns={'tariff_name':'tariff'})\n",
    "tariffs.head()"
   ]
  },
  {
   "cell_type": "markdown",
   "metadata": {},
   "source": [
    "### Работа с пропусками"
   ]
  },
  {
   "cell_type": "markdown",
   "metadata": {},
   "source": [
    "В столбце `churn_date` указана дата прекращения тарифом. Пропуск в этом столбце означает, что тариф на момент выгрузки данных еще действовал. Заполнять его я пока не буду. "
   ]
  },
  {
   "cell_type": "code",
   "execution_count": 16,
   "metadata": {},
   "outputs": [
    {
     "data": {
      "text/plain": [
       "462"
      ]
     },
     "execution_count": 16,
     "metadata": {},
     "output_type": "execute_result"
    }
   ],
   "source": [
    "users['churn_date'].isnull().sum()"
   ]
  },
  {
   "cell_type": "markdown",
   "metadata": {},
   "source": [
    "### Изменение типа данных"
   ]
  },
  {
   "cell_type": "code",
   "execution_count": 17,
   "metadata": {},
   "outputs": [],
   "source": [
    "calls['call_date'] = pd.to_datetime(calls['call_date'], format='%Y-%m-%d %H:%M')\n",
    "internet['session_date'] = pd.to_datetime(internet['session_date'], format='%Y-%m-%d %H:%M')\n",
    "messages['message_date'] = pd.to_datetime(messages['message_date'], format='%Y-%m-%d %H:%M')\n",
    "users['churn_date'] = pd.to_datetime(users['churn_date'], format='%Y-%m-%d %H:%M')"
   ]
  },
  {
   "cell_type": "markdown",
   "metadata": {},
   "source": [
    "**Вывод**:\\\n",
    "Перевела все столбцы с датами во всех датасетах в правильный тип: **datetime64**."
   ]
  },
  {
   "cell_type": "markdown",
   "metadata": {},
   "source": [
    "### Проверка на явные дупликаты"
   ]
  },
  {
   "cell_type": "code",
   "execution_count": 18,
   "metadata": {},
   "outputs": [
    {
     "data": {
      "text/plain": [
       "0"
      ]
     },
     "execution_count": 18,
     "metadata": {},
     "output_type": "execute_result"
    }
   ],
   "source": [
    "users.duplicated().sum()"
   ]
  },
  {
   "cell_type": "code",
   "execution_count": 19,
   "metadata": {},
   "outputs": [
    {
     "data": {
      "text/plain": [
       "0"
      ]
     },
     "execution_count": 19,
     "metadata": {},
     "output_type": "execute_result"
    }
   ],
   "source": [
    "calls.duplicated().sum()"
   ]
  },
  {
   "cell_type": "code",
   "execution_count": 20,
   "metadata": {},
   "outputs": [
    {
     "data": {
      "text/plain": [
       "0"
      ]
     },
     "execution_count": 20,
     "metadata": {},
     "output_type": "execute_result"
    }
   ],
   "source": [
    "internet.duplicated().sum()"
   ]
  },
  {
   "cell_type": "code",
   "execution_count": 21,
   "metadata": {},
   "outputs": [
    {
     "data": {
      "text/plain": [
       "0"
      ]
     },
     "execution_count": 21,
     "metadata": {},
     "output_type": "execute_result"
    }
   ],
   "source": [
    "messages.duplicated().sum()"
   ]
  },
  {
   "cell_type": "markdown",
   "metadata": {},
   "source": [
    "Проверю еще, на всякий случай, в таблице **users** колонку `city` на наличие неявных дубликатов.  "
   ]
  },
  {
   "cell_type": "code",
   "execution_count": 22,
   "metadata": {},
   "outputs": [
    {
     "data": {
      "text/plain": [
       "array(['Архангельск', 'Астрахань', 'Балашиха', 'Барнаул', 'Белгород',\n",
       "       'Брянск', 'Владивосток', 'Владикавказ', 'Владимир', 'Волгоград',\n",
       "       'Волжский', 'Вологда', 'Воронеж', 'Грозный', 'Екатеринбург',\n",
       "       'Иваново', 'Ижевск', 'Иркутск', 'Казань', 'Калининград', 'Калуга',\n",
       "       'Кемерово', 'Киров', 'Кострома', 'Краснодар', 'Красноярск',\n",
       "       'Курган', 'Курск', 'Липецк', 'Магнитогорск', 'Махачкала', 'Москва',\n",
       "       'Мурманск', 'Набережные Челны', 'Нижневартовск', 'Нижний Новгород',\n",
       "       'Нижний Тагил', 'Новокузнецк', 'Новороссийск', 'Новосибирск',\n",
       "       'Омск', 'Оренбург', 'Орёл', 'Пенза', 'Пермь', 'Петрозаводск',\n",
       "       'Подольск', 'Ростов-на-Дону', 'Рязань', 'Самара',\n",
       "       'Санкт-Петербург', 'Саранск', 'Саратов', 'Севастополь', 'Смоленск',\n",
       "       'Сочи', 'Ставрополь', 'Стерлитамак', 'Сургут', 'Тамбов', 'Тверь',\n",
       "       'Тольятти', 'Томск', 'Тула', 'Тюмень', 'Улан-Удэ', 'Ульяновск',\n",
       "       'Уфа', 'Хабаровск', 'Химки', 'Чебоксары', 'Челябинск', 'Череповец',\n",
       "       'Чита', 'Якутск', 'Ярославль'], dtype=object)"
      ]
     },
     "execution_count": 22,
     "metadata": {},
     "output_type": "execute_result"
    }
   ],
   "source": [
    "users['city'].sort_values().unique()"
   ]
  },
  {
   "cell_type": "markdown",
   "metadata": {},
   "source": [
    "**Вывод**\\\n",
    "Явных дупликатов ни в одной из таблиц нет. В столбце `city` также все хорошо. Можно продолжать исследование."
   ]
  },
  {
   "cell_type": "markdown",
   "metadata": {},
   "source": [
    "<a id=\"table\"></a>\n",
    "## Создание общей таблицы и расчеты"
   ]
  },
  {
   "cell_type": "markdown",
   "metadata": {},
   "source": [
    "В описании к тарифам сказано,что «Мегалайн» всегда округляет секунды до минут, а мегабайты — до гигабайт. Каждый звонок округляется отдельно: даже если он длился всего 1 секунду, будет засчитан как 1 минута.\\\n",
    "   Для веб-трафика отдельные сессии не считаются. Вместо этого общая сумма за месяц округляется в бо́льшую сторону.\n",
    "Учитывая это, в столбце `duration` таблицы **calls** округлим все значения в большую сторону.\n",
    "В таблице **internet** сначала сгруппируем данные по траффику помесячно для каждого пользователя, а переводить данные в гигабайты и делать округление будем уже при подсчетах."
   ]
  },
  {
   "cell_type": "code",
   "execution_count": 23,
   "metadata": {},
   "outputs": [],
   "source": [
    "calls['duration'] = np.ceil(calls.duration).astype('int')"
   ]
  },
  {
   "cell_type": "code",
   "execution_count": 24,
   "metadata": {},
   "outputs": [
    {
     "data": {
      "text/html": [
       "<div>\n",
       "<style scoped>\n",
       "    .dataframe tbody tr th:only-of-type {\n",
       "        vertical-align: middle;\n",
       "    }\n",
       "\n",
       "    .dataframe tbody tr th {\n",
       "        vertical-align: top;\n",
       "    }\n",
       "\n",
       "    .dataframe thead th {\n",
       "        text-align: right;\n",
       "    }\n",
       "</style>\n",
       "<table border=\"1\" class=\"dataframe\">\n",
       "  <thead>\n",
       "    <tr style=\"text-align: right;\">\n",
       "      <th></th>\n",
       "      <th>id</th>\n",
       "      <th>call_date</th>\n",
       "      <th>duration</th>\n",
       "      <th>user_id</th>\n",
       "    </tr>\n",
       "  </thead>\n",
       "  <tbody>\n",
       "    <tr>\n",
       "      <th>0</th>\n",
       "      <td>1000_0</td>\n",
       "      <td>2018-07-25</td>\n",
       "      <td>0</td>\n",
       "      <td>1000</td>\n",
       "    </tr>\n",
       "    <tr>\n",
       "      <th>1</th>\n",
       "      <td>1000_1</td>\n",
       "      <td>2018-08-17</td>\n",
       "      <td>0</td>\n",
       "      <td>1000</td>\n",
       "    </tr>\n",
       "    <tr>\n",
       "      <th>2</th>\n",
       "      <td>1000_2</td>\n",
       "      <td>2018-06-11</td>\n",
       "      <td>3</td>\n",
       "      <td>1000</td>\n",
       "    </tr>\n",
       "    <tr>\n",
       "      <th>3</th>\n",
       "      <td>1000_3</td>\n",
       "      <td>2018-09-21</td>\n",
       "      <td>14</td>\n",
       "      <td>1000</td>\n",
       "    </tr>\n",
       "    <tr>\n",
       "      <th>4</th>\n",
       "      <td>1000_4</td>\n",
       "      <td>2018-12-15</td>\n",
       "      <td>6</td>\n",
       "      <td>1000</td>\n",
       "    </tr>\n",
       "  </tbody>\n",
       "</table>\n",
       "</div>"
      ],
      "text/plain": [
       "       id  call_date  duration  user_id\n",
       "0  1000_0 2018-07-25         0     1000\n",
       "1  1000_1 2018-08-17         0     1000\n",
       "2  1000_2 2018-06-11         3     1000\n",
       "3  1000_3 2018-09-21        14     1000\n",
       "4  1000_4 2018-12-15         6     1000"
      ]
     },
     "execution_count": 24,
     "metadata": {},
     "output_type": "execute_result"
    }
   ],
   "source": [
    "calls.head()"
   ]
  },
  {
   "cell_type": "markdown",
   "metadata": {},
   "source": [
    "Сделаем колонку с месяцем `month` в таблицах **calls**, **internet** и **messages**. Создадим 3 сгруппированных датасетов по столбцам `user_id` и `month`. Потом из них соберем общий датасет. "
   ]
  },
  {
   "cell_type": "code",
   "execution_count": 25,
   "metadata": {},
   "outputs": [],
   "source": [
    "# Из колонки \"дата звонка\" выделяю месяц и создаю новый столбец \"month\"\n",
    "calls['month'] = calls['call_date'].dt.month\n",
    "internet['month'] = internet['session_date'].dt.month\n",
    "messages['month'] = messages['message_date'].dt.month"
   ]
  },
  {
   "cell_type": "code",
   "execution_count": 26,
   "metadata": {},
   "outputs": [
    {
     "data": {
      "text/plain": [
       "3174"
      ]
     },
     "execution_count": 26,
     "metadata": {},
     "output_type": "execute_result"
    }
   ],
   "source": [
    "# Создаю сгруппированную по id пользователя и месяцу таблицу, где подсчитываю количество и сумму звонков\n",
    "calls_grouped = calls.groupby(['user_id', 'month'])\\\n",
    "                     .agg({'duration':['count', 'sum']})\\\n",
    "                     .reset_index()\n",
    "calls_grouped.columns = ['user_id', 'month','total_count_calls', 'total_duration_calls']\n",
    "calls_grouped.shape[0] # посмотрим, сколько в таблице строк"
   ]
  },
  {
   "cell_type": "code",
   "execution_count": 27,
   "metadata": {},
   "outputs": [
    {
     "data": {
      "text/html": [
       "<div>\n",
       "<style scoped>\n",
       "    .dataframe tbody tr th:only-of-type {\n",
       "        vertical-align: middle;\n",
       "    }\n",
       "\n",
       "    .dataframe tbody tr th {\n",
       "        vertical-align: top;\n",
       "    }\n",
       "\n",
       "    .dataframe thead th {\n",
       "        text-align: right;\n",
       "    }\n",
       "</style>\n",
       "<table border=\"1\" class=\"dataframe\">\n",
       "  <thead>\n",
       "    <tr style=\"text-align: right;\">\n",
       "      <th></th>\n",
       "      <th>user_id</th>\n",
       "      <th>month</th>\n",
       "      <th>total_count_calls</th>\n",
       "      <th>total_duration_calls</th>\n",
       "    </tr>\n",
       "  </thead>\n",
       "  <tbody>\n",
       "    <tr>\n",
       "      <th>0</th>\n",
       "      <td>1000</td>\n",
       "      <td>5</td>\n",
       "      <td>22</td>\n",
       "      <td>159</td>\n",
       "    </tr>\n",
       "    <tr>\n",
       "      <th>1</th>\n",
       "      <td>1000</td>\n",
       "      <td>6</td>\n",
       "      <td>43</td>\n",
       "      <td>172</td>\n",
       "    </tr>\n",
       "    <tr>\n",
       "      <th>2</th>\n",
       "      <td>1000</td>\n",
       "      <td>7</td>\n",
       "      <td>47</td>\n",
       "      <td>340</td>\n",
       "    </tr>\n",
       "    <tr>\n",
       "      <th>3</th>\n",
       "      <td>1000</td>\n",
       "      <td>8</td>\n",
       "      <td>52</td>\n",
       "      <td>408</td>\n",
       "    </tr>\n",
       "    <tr>\n",
       "      <th>4</th>\n",
       "      <td>1000</td>\n",
       "      <td>9</td>\n",
       "      <td>58</td>\n",
       "      <td>466</td>\n",
       "    </tr>\n",
       "  </tbody>\n",
       "</table>\n",
       "</div>"
      ],
      "text/plain": [
       "   user_id  month  total_count_calls  total_duration_calls\n",
       "0     1000      5                 22                   159\n",
       "1     1000      6                 43                   172\n",
       "2     1000      7                 47                   340\n",
       "3     1000      8                 52                   408\n",
       "4     1000      9                 58                   466"
      ]
     },
     "execution_count": 27,
     "metadata": {},
     "output_type": "execute_result"
    }
   ],
   "source": [
    "calls_grouped.head()"
   ]
  },
  {
   "cell_type": "code",
   "execution_count": 28,
   "metadata": {},
   "outputs": [
    {
     "data": {
      "text/plain": [
       "2717"
      ]
     },
     "execution_count": 28,
     "metadata": {},
     "output_type": "execute_result"
    }
   ],
   "source": [
    "# Создаю сгруппированную по id пользователя и месяцу таблицу, где подсчитываю количество смс\n",
    "messages_grouped = messages.groupby(['user_id', 'month'])\\\n",
    "                           .agg({'id':'count'})\\\n",
    "                           .reset_index().rename(columns={'id':'total_sms_in_month'})\n",
    "messages_grouped.shape[0]"
   ]
  },
  {
   "cell_type": "code",
   "execution_count": 29,
   "metadata": {},
   "outputs": [
    {
     "data": {
      "text/html": [
       "<div>\n",
       "<style scoped>\n",
       "    .dataframe tbody tr th:only-of-type {\n",
       "        vertical-align: middle;\n",
       "    }\n",
       "\n",
       "    .dataframe tbody tr th {\n",
       "        vertical-align: top;\n",
       "    }\n",
       "\n",
       "    .dataframe thead th {\n",
       "        text-align: right;\n",
       "    }\n",
       "</style>\n",
       "<table border=\"1\" class=\"dataframe\">\n",
       "  <thead>\n",
       "    <tr style=\"text-align: right;\">\n",
       "      <th></th>\n",
       "      <th>user_id</th>\n",
       "      <th>month</th>\n",
       "      <th>total_sms_in_month</th>\n",
       "    </tr>\n",
       "  </thead>\n",
       "  <tbody>\n",
       "    <tr>\n",
       "      <th>0</th>\n",
       "      <td>1000</td>\n",
       "      <td>5</td>\n",
       "      <td>22</td>\n",
       "    </tr>\n",
       "    <tr>\n",
       "      <th>1</th>\n",
       "      <td>1000</td>\n",
       "      <td>6</td>\n",
       "      <td>60</td>\n",
       "    </tr>\n",
       "    <tr>\n",
       "      <th>2</th>\n",
       "      <td>1000</td>\n",
       "      <td>7</td>\n",
       "      <td>75</td>\n",
       "    </tr>\n",
       "    <tr>\n",
       "      <th>3</th>\n",
       "      <td>1000</td>\n",
       "      <td>8</td>\n",
       "      <td>81</td>\n",
       "    </tr>\n",
       "    <tr>\n",
       "      <th>4</th>\n",
       "      <td>1000</td>\n",
       "      <td>9</td>\n",
       "      <td>57</td>\n",
       "    </tr>\n",
       "  </tbody>\n",
       "</table>\n",
       "</div>"
      ],
      "text/plain": [
       "   user_id  month  total_sms_in_month\n",
       "0     1000      5                  22\n",
       "1     1000      6                  60\n",
       "2     1000      7                  75\n",
       "3     1000      8                  81\n",
       "4     1000      9                  57"
      ]
     },
     "execution_count": 29,
     "metadata": {},
     "output_type": "execute_result"
    }
   ],
   "source": [
    "messages_grouped.head()"
   ]
  },
  {
   "cell_type": "code",
   "execution_count": 30,
   "metadata": {},
   "outputs": [
    {
     "data": {
      "text/plain": [
       "2717"
      ]
     },
     "execution_count": 30,
     "metadata": {},
     "output_type": "execute_result"
    }
   ],
   "source": [
    "# Создаю сгруппированную по id пользователя и месяцу таблицу, где подсчитываю количество использованных мегабайтов\n",
    "internet_grouped = internet.groupby(['user_id', 'month'])[['mb_used']].sum()\\\n",
    "                           .reset_index()\\\n",
    "                           .rename(columns={'mb_used':'total_traffic_in_month'})\n",
    "internet_grouped['total_traffic_in_month'] = np.ceil(internet_grouped['total_traffic_in_month'] / 1024)\n",
    "messages_grouped.shape[0]"
   ]
  },
  {
   "cell_type": "code",
   "execution_count": 31,
   "metadata": {
    "scrolled": false
   },
   "outputs": [
    {
     "data": {
      "text/html": [
       "<div>\n",
       "<style scoped>\n",
       "    .dataframe tbody tr th:only-of-type {\n",
       "        vertical-align: middle;\n",
       "    }\n",
       "\n",
       "    .dataframe tbody tr th {\n",
       "        vertical-align: top;\n",
       "    }\n",
       "\n",
       "    .dataframe thead th {\n",
       "        text-align: right;\n",
       "    }\n",
       "</style>\n",
       "<table border=\"1\" class=\"dataframe\">\n",
       "  <thead>\n",
       "    <tr style=\"text-align: right;\">\n",
       "      <th></th>\n",
       "      <th>user_id</th>\n",
       "      <th>month</th>\n",
       "      <th>total_traffic_in_month</th>\n",
       "    </tr>\n",
       "  </thead>\n",
       "  <tbody>\n",
       "    <tr>\n",
       "      <th>0</th>\n",
       "      <td>1000</td>\n",
       "      <td>5</td>\n",
       "      <td>3.00</td>\n",
       "    </tr>\n",
       "    <tr>\n",
       "      <th>1</th>\n",
       "      <td>1000</td>\n",
       "      <td>6</td>\n",
       "      <td>23.00</td>\n",
       "    </tr>\n",
       "    <tr>\n",
       "      <th>2</th>\n",
       "      <td>1000</td>\n",
       "      <td>7</td>\n",
       "      <td>14.00</td>\n",
       "    </tr>\n",
       "    <tr>\n",
       "      <th>3</th>\n",
       "      <td>1000</td>\n",
       "      <td>8</td>\n",
       "      <td>14.00</td>\n",
       "    </tr>\n",
       "    <tr>\n",
       "      <th>4</th>\n",
       "      <td>1000</td>\n",
       "      <td>9</td>\n",
       "      <td>15.00</td>\n",
       "    </tr>\n",
       "  </tbody>\n",
       "</table>\n",
       "</div>"
      ],
      "text/plain": [
       "   user_id  month  total_traffic_in_month\n",
       "0     1000      5                    3.00\n",
       "1     1000      6                   23.00\n",
       "2     1000      7                   14.00\n",
       "3     1000      8                   14.00\n",
       "4     1000      9                   15.00"
      ]
     },
     "execution_count": 31,
     "metadata": {},
     "output_type": "execute_result"
    }
   ],
   "source": [
    "internet_grouped.head()"
   ]
  },
  {
   "cell_type": "markdown",
   "metadata": {},
   "source": [
    "Теперь объединим сгруппированные таблицы в одну."
   ]
  },
  {
   "cell_type": "code",
   "execution_count": 32,
   "metadata": {},
   "outputs": [],
   "source": [
    "data = calls_grouped.merge(messages_grouped, on=['user_id', 'month'], how='outer')"
   ]
  },
  {
   "cell_type": "code",
   "execution_count": 33,
   "metadata": {},
   "outputs": [],
   "source": [
    "data = data.merge(internet_grouped, on=['user_id', 'month'], how='outer')"
   ]
  },
  {
   "cell_type": "markdown",
   "metadata": {},
   "source": [
    "Прибавим к нашей таблице колонку `tariff` из таблицы **users** и колонки из таблицы **tariffs**. Они нужны будут для подсчета помесячной выручки."
   ]
  },
  {
   "cell_type": "code",
   "execution_count": 34,
   "metadata": {},
   "outputs": [],
   "source": [
    "data = data.merge(users[['user_id','tariff','city']], on='user_id', how='outer')"
   ]
  },
  {
   "cell_type": "code",
   "execution_count": 35,
   "metadata": {},
   "outputs": [],
   "source": [
    "data = data.merge(tariffs, on='tariff',how='outer')"
   ]
  },
  {
   "cell_type": "code",
   "execution_count": 36,
   "metadata": {},
   "outputs": [
    {
     "data": {
      "text/html": [
       "<div>\n",
       "<style scoped>\n",
       "    .dataframe tbody tr th:only-of-type {\n",
       "        vertical-align: middle;\n",
       "    }\n",
       "\n",
       "    .dataframe tbody tr th {\n",
       "        vertical-align: top;\n",
       "    }\n",
       "\n",
       "    .dataframe thead th {\n",
       "        text-align: right;\n",
       "    }\n",
       "</style>\n",
       "<table border=\"1\" class=\"dataframe\">\n",
       "  <thead>\n",
       "    <tr style=\"text-align: right;\">\n",
       "      <th></th>\n",
       "      <th>user_id</th>\n",
       "      <th>month</th>\n",
       "      <th>total_count_calls</th>\n",
       "      <th>total_duration_calls</th>\n",
       "      <th>total_sms_in_month</th>\n",
       "      <th>total_traffic_in_month</th>\n",
       "      <th>tariff</th>\n",
       "      <th>city</th>\n",
       "      <th>messages_included</th>\n",
       "      <th>mb_per_month_included</th>\n",
       "      <th>minutes_included</th>\n",
       "      <th>rub_monthly_fee</th>\n",
       "      <th>rub_per_gb</th>\n",
       "      <th>rub_per_message</th>\n",
       "      <th>rub_per_minute</th>\n",
       "    </tr>\n",
       "  </thead>\n",
       "  <tbody>\n",
       "    <tr>\n",
       "      <th>0</th>\n",
       "      <td>1000</td>\n",
       "      <td>5.00</td>\n",
       "      <td>22.00</td>\n",
       "      <td>159.00</td>\n",
       "      <td>22.00</td>\n",
       "      <td>3.00</td>\n",
       "      <td>ultra</td>\n",
       "      <td>Краснодар</td>\n",
       "      <td>1000</td>\n",
       "      <td>30720</td>\n",
       "      <td>3000</td>\n",
       "      <td>1950</td>\n",
       "      <td>150</td>\n",
       "      <td>1</td>\n",
       "      <td>1</td>\n",
       "    </tr>\n",
       "    <tr>\n",
       "      <th>1</th>\n",
       "      <td>1000</td>\n",
       "      <td>6.00</td>\n",
       "      <td>43.00</td>\n",
       "      <td>172.00</td>\n",
       "      <td>60.00</td>\n",
       "      <td>23.00</td>\n",
       "      <td>ultra</td>\n",
       "      <td>Краснодар</td>\n",
       "      <td>1000</td>\n",
       "      <td>30720</td>\n",
       "      <td>3000</td>\n",
       "      <td>1950</td>\n",
       "      <td>150</td>\n",
       "      <td>1</td>\n",
       "      <td>1</td>\n",
       "    </tr>\n",
       "    <tr>\n",
       "      <th>2</th>\n",
       "      <td>1000</td>\n",
       "      <td>7.00</td>\n",
       "      <td>47.00</td>\n",
       "      <td>340.00</td>\n",
       "      <td>75.00</td>\n",
       "      <td>14.00</td>\n",
       "      <td>ultra</td>\n",
       "      <td>Краснодар</td>\n",
       "      <td>1000</td>\n",
       "      <td>30720</td>\n",
       "      <td>3000</td>\n",
       "      <td>1950</td>\n",
       "      <td>150</td>\n",
       "      <td>1</td>\n",
       "      <td>1</td>\n",
       "    </tr>\n",
       "    <tr>\n",
       "      <th>3</th>\n",
       "      <td>1000</td>\n",
       "      <td>8.00</td>\n",
       "      <td>52.00</td>\n",
       "      <td>408.00</td>\n",
       "      <td>81.00</td>\n",
       "      <td>14.00</td>\n",
       "      <td>ultra</td>\n",
       "      <td>Краснодар</td>\n",
       "      <td>1000</td>\n",
       "      <td>30720</td>\n",
       "      <td>3000</td>\n",
       "      <td>1950</td>\n",
       "      <td>150</td>\n",
       "      <td>1</td>\n",
       "      <td>1</td>\n",
       "    </tr>\n",
       "    <tr>\n",
       "      <th>4</th>\n",
       "      <td>1000</td>\n",
       "      <td>9.00</td>\n",
       "      <td>58.00</td>\n",
       "      <td>466.00</td>\n",
       "      <td>57.00</td>\n",
       "      <td>15.00</td>\n",
       "      <td>ultra</td>\n",
       "      <td>Краснодар</td>\n",
       "      <td>1000</td>\n",
       "      <td>30720</td>\n",
       "      <td>3000</td>\n",
       "      <td>1950</td>\n",
       "      <td>150</td>\n",
       "      <td>1</td>\n",
       "      <td>1</td>\n",
       "    </tr>\n",
       "  </tbody>\n",
       "</table>\n",
       "</div>"
      ],
      "text/plain": [
       "   user_id  month  total_count_calls  total_duration_calls  \\\n",
       "0     1000   5.00              22.00                159.00   \n",
       "1     1000   6.00              43.00                172.00   \n",
       "2     1000   7.00              47.00                340.00   \n",
       "3     1000   8.00              52.00                408.00   \n",
       "4     1000   9.00              58.00                466.00   \n",
       "\n",
       "   total_sms_in_month  total_traffic_in_month tariff       city  \\\n",
       "0               22.00                    3.00  ultra  Краснодар   \n",
       "1               60.00                   23.00  ultra  Краснодар   \n",
       "2               75.00                   14.00  ultra  Краснодар   \n",
       "3               81.00                   14.00  ultra  Краснодар   \n",
       "4               57.00                   15.00  ultra  Краснодар   \n",
       "\n",
       "   messages_included  mb_per_month_included  minutes_included  \\\n",
       "0               1000                  30720              3000   \n",
       "1               1000                  30720              3000   \n",
       "2               1000                  30720              3000   \n",
       "3               1000                  30720              3000   \n",
       "4               1000                  30720              3000   \n",
       "\n",
       "   rub_monthly_fee  rub_per_gb  rub_per_message  rub_per_minute  \n",
       "0             1950         150                1               1  \n",
       "1             1950         150                1               1  \n",
       "2             1950         150                1               1  \n",
       "3             1950         150                1               1  \n",
       "4             1950         150                1               1  "
      ]
     },
     "execution_count": 36,
     "metadata": {},
     "output_type": "execute_result"
    }
   ],
   "source": [
    "data.head()"
   ]
  },
  {
   "cell_type": "markdown",
   "metadata": {},
   "source": [
    "Посмотрим информацию о нашей таблице."
   ]
  },
  {
   "cell_type": "code",
   "execution_count": 37,
   "metadata": {
    "scrolled": true
   },
   "outputs": [
    {
     "name": "stdout",
     "output_type": "stream",
     "text": [
      "<class 'pandas.core.frame.DataFrame'>\n",
      "Int64Index: 3216 entries, 0 to 3215\n",
      "Data columns (total 15 columns):\n",
      " #   Column                  Non-Null Count  Dtype  \n",
      "---  ------                  --------------  -----  \n",
      " 0   user_id                 3216 non-null   int64  \n",
      " 1   month                   3214 non-null   float64\n",
      " 2   total_count_calls       3174 non-null   float64\n",
      " 3   total_duration_calls    3174 non-null   float64\n",
      " 4   total_sms_in_month      2717 non-null   float64\n",
      " 5   total_traffic_in_month  3203 non-null   float64\n",
      " 6   tariff                  3216 non-null   object \n",
      " 7   city                    3216 non-null   object \n",
      " 8   messages_included       3216 non-null   int64  \n",
      " 9   mb_per_month_included   3216 non-null   int64  \n",
      " 10  minutes_included        3216 non-null   int64  \n",
      " 11  rub_monthly_fee         3216 non-null   int64  \n",
      " 12  rub_per_gb              3216 non-null   int64  \n",
      " 13  rub_per_message         3216 non-null   int64  \n",
      " 14  rub_per_minute          3216 non-null   int64  \n",
      "dtypes: float64(5), int64(8), object(2)\n",
      "memory usage: 402.0+ KB\n"
     ]
    }
   ],
   "source": [
    "data.info()"
   ]
  },
  {
   "cell_type": "code",
   "execution_count": 38,
   "metadata": {},
   "outputs": [
    {
     "data": {
      "text/plain": [
       "user_id                     0\n",
       "month                       2\n",
       "total_count_calls          42\n",
       "total_duration_calls       42\n",
       "total_sms_in_month        499\n",
       "total_traffic_in_month     13\n",
       "tariff                      0\n",
       "city                        0\n",
       "messages_included           0\n",
       "mb_per_month_included       0\n",
       "minutes_included            0\n",
       "rub_monthly_fee             0\n",
       "rub_per_gb                  0\n",
       "rub_per_message             0\n",
       "rub_per_minute              0\n",
       "dtype: int64"
      ]
     },
     "execution_count": 38,
     "metadata": {},
     "output_type": "execute_result"
    }
   ],
   "source": [
    "data.isna().sum()"
   ]
  },
  {
   "cell_type": "markdown",
   "metadata": {},
   "source": [
    "Итак, в нашей таблице 3216 строк, есть пропуски в столбцах `month`, `total_count_calls`, `total_duration_calls`, `total_sms_in_month` и `total_traffic_in_month`. Это люди,которые не пользовались звонками, смс или интернетом. Пропуски в этих строчках можно заполнить **0**.\\\n",
    "Также в таблице столбцы `month`, `total_count_calls`, `total_duration_calls` и`total_sms_in_month`имеют тип **float**, хотя нам нужен целочисленный. Поменяем тип на **int64**."
   ]
  },
  {
   "cell_type": "code",
   "execution_count": 39,
   "metadata": {},
   "outputs": [],
   "source": [
    "data = data.fillna(0)"
   ]
  },
  {
   "cell_type": "code",
   "execution_count": 40,
   "metadata": {},
   "outputs": [
    {
     "data": {
      "text/plain": [
       "user_id                   0\n",
       "month                     0\n",
       "total_count_calls         0\n",
       "total_duration_calls      0\n",
       "total_sms_in_month        0\n",
       "total_traffic_in_month    0\n",
       "tariff                    0\n",
       "city                      0\n",
       "messages_included         0\n",
       "mb_per_month_included     0\n",
       "minutes_included          0\n",
       "rub_monthly_fee           0\n",
       "rub_per_gb                0\n",
       "rub_per_message           0\n",
       "rub_per_minute            0\n",
       "dtype: int64"
      ]
     },
     "execution_count": 40,
     "metadata": {},
     "output_type": "execute_result"
    }
   ],
   "source": [
    "data.isna().sum()"
   ]
  },
  {
   "cell_type": "markdown",
   "metadata": {},
   "source": [
    "**Проверим,сколько клиентов не пользуются определенными видами услуг.**"
   ]
  },
  {
   "cell_type": "markdown",
   "metadata": {},
   "source": [
    "Для этого выясним, сколько в изначальных отдельных таблицах число уникальных пользователей и сравним эти цифры с числом уникальных клиентов в общей таблице."
   ]
  },
  {
   "cell_type": "code",
   "execution_count": 41,
   "metadata": {},
   "outputs": [
    {
     "data": {
      "text/plain": [
       "492"
      ]
     },
     "execution_count": 41,
     "metadata": {},
     "output_type": "execute_result"
    }
   ],
   "source": [
    "len(calls.user_id.unique())"
   ]
  },
  {
   "cell_type": "code",
   "execution_count": 42,
   "metadata": {},
   "outputs": [
    {
     "data": {
      "text/plain": [
       "426"
      ]
     },
     "execution_count": 42,
     "metadata": {},
     "output_type": "execute_result"
    }
   ],
   "source": [
    "len(messages.user_id.unique())"
   ]
  },
  {
   "cell_type": "code",
   "execution_count": 43,
   "metadata": {},
   "outputs": [
    {
     "data": {
      "text/plain": [
       "497"
      ]
     },
     "execution_count": 43,
     "metadata": {},
     "output_type": "execute_result"
    }
   ],
   "source": [
    "len(internet.user_id.unique())"
   ]
  },
  {
   "cell_type": "code",
   "execution_count": 44,
   "metadata": {
    "scrolled": true
   },
   "outputs": [
    {
     "data": {
      "text/plain": [
       "500"
      ]
     },
     "execution_count": 44,
     "metadata": {},
     "output_type": "execute_result"
    }
   ],
   "source": [
    "len(data.user_id.unique())"
   ]
  },
  {
   "cell_type": "code",
   "execution_count": 45,
   "metadata": {},
   "outputs": [
    {
     "data": {
      "text/plain": [
       "array([1128, 1371])"
      ]
     },
     "execution_count": 45,
     "metadata": {},
     "output_type": "execute_result"
    }
   ],
   "source": [
    "data[(data['total_sms_in_month'] == 0) & (data['total_count_calls'] == 0) & (data['total_traffic_in_month'] == 0)]['user_id'].unique()"
   ]
  },
  {
   "cell_type": "markdown",
   "metadata": {},
   "source": [
    "**Вывод**\\\n",
    "Итак, интернетом не пользовались 3 клиента, звонками - 8 клиентов, сообщениями - 74 клиента. При этом 2 клиента (с id **1128** и **1371)** вообще не пользовались никакими услугами."
   ]
  },
  {
   "cell_type": "markdown",
   "metadata": {},
   "source": [
    "**Также посмотрим,сколько условных учетных месяцев клиенты не использовали интернет.**"
   ]
  },
  {
   "cell_type": "code",
   "execution_count": 46,
   "metadata": {},
   "outputs": [
    {
     "data": {
      "text/plain": [
       "(15, 3216)"
      ]
     },
     "execution_count": 46,
     "metadata": {},
     "output_type": "execute_result"
    }
   ],
   "source": [
    "data[data['total_traffic_in_month'] == 0]['month'].count(), data['month'].count()"
   ]
  },
  {
   "cell_type": "markdown",
   "metadata": {},
   "source": [
    "**Вывод**\\\n",
    "15 месяцев из 3216 условных месяцев клиенты не использовали интернет."
   ]
  },
  {
   "cell_type": "code",
   "execution_count": null,
   "metadata": {},
   "outputs": [],
   "source": []
  },
  {
   "cell_type": "markdown",
   "metadata": {},
   "source": [
    "Переведем в целочисленный тип столбцы, которые имеют тип **float**."
   ]
  },
  {
   "cell_type": "code",
   "execution_count": 47,
   "metadata": {},
   "outputs": [],
   "source": [
    "list_columns = ['month', 'total_count_calls', 'total_duration_calls', 'total_sms_in_month']\n",
    "\n",
    "for column in list_columns:\n",
    "    data[column] = data[column].astype(int)"
   ]
  },
  {
   "cell_type": "code",
   "execution_count": 48,
   "metadata": {},
   "outputs": [
    {
     "name": "stdout",
     "output_type": "stream",
     "text": [
      "<class 'pandas.core.frame.DataFrame'>\n",
      "Int64Index: 3216 entries, 0 to 3215\n",
      "Data columns (total 15 columns):\n",
      " #   Column                  Non-Null Count  Dtype  \n",
      "---  ------                  --------------  -----  \n",
      " 0   user_id                 3216 non-null   int64  \n",
      " 1   month                   3216 non-null   int64  \n",
      " 2   total_count_calls       3216 non-null   int64  \n",
      " 3   total_duration_calls    3216 non-null   int64  \n",
      " 4   total_sms_in_month      3216 non-null   int64  \n",
      " 5   total_traffic_in_month  3216 non-null   float64\n",
      " 6   tariff                  3216 non-null   object \n",
      " 7   city                    3216 non-null   object \n",
      " 8   messages_included       3216 non-null   int64  \n",
      " 9   mb_per_month_included   3216 non-null   int64  \n",
      " 10  minutes_included        3216 non-null   int64  \n",
      " 11  rub_monthly_fee         3216 non-null   int64  \n",
      " 12  rub_per_gb              3216 non-null   int64  \n",
      " 13  rub_per_message         3216 non-null   int64  \n",
      " 14  rub_per_minute          3216 non-null   int64  \n",
      "dtypes: float64(1), int64(12), object(2)\n",
      "memory usage: 402.0+ KB\n"
     ]
    }
   ],
   "source": [
    "data.info()"
   ]
  },
  {
   "cell_type": "markdown",
   "metadata": {},
   "source": [
    "С пропусками поработали. Можно с таблицей дальше работать."
   ]
  },
  {
   "cell_type": "markdown",
   "metadata": {},
   "source": [
    "Напишем функцию, подсчитывающую сумму, уплаченную пользователем сверх тарифа и создадим колонку `pay_above_tariff` в **data**, где будет указана эта сумма."
   ]
  },
  {
   "cell_type": "code",
   "execution_count": 49,
   "metadata": {},
   "outputs": [],
   "source": [
    "def above_tariff(row): # возвращает сумму, уплаченную пользователем сверх тарифа:\n",
    "    # подсчет суммы, уплаченной за смс сверх тарифа\n",
    "    sms = (row['total_sms_in_month']-row['messages_included'])*row['rub_per_message'] \n",
    "    # подсчет суммы, уплаченной за звонки сверх тарифа\n",
    "    minutes = (row['total_duration_calls']-row['minutes_included'])*row['rub_per_minute'] \n",
    "    # подсчет суммы, уплаченной за интернет сверх тарифа\n",
    "    mbs = np.ceil((row['total_traffic_in_month']-(row['mb_per_month_included']/1024))*row['rub_per_gb']) \n",
    "   # в создадим переменную, в которой будет храниться сумма, уплаченная пользователем сверх тарифа\n",
    "   # за звонки, смс и интернет\n",
    "    total = 0\n",
    "    for value in [sms, minutes, mbs]:\n",
    "        if value > 0:  \n",
    "            total += value\n",
    "    return total"
   ]
  },
  {
   "cell_type": "code",
   "execution_count": 50,
   "metadata": {},
   "outputs": [],
   "source": [
    "data['pay_above_tariff'] = data.apply(above_tariff, axis=1) "
   ]
  },
  {
   "cell_type": "code",
   "execution_count": 51,
   "metadata": {},
   "outputs": [
    {
     "data": {
      "text/html": [
       "<div>\n",
       "<style scoped>\n",
       "    .dataframe tbody tr th:only-of-type {\n",
       "        vertical-align: middle;\n",
       "    }\n",
       "\n",
       "    .dataframe tbody tr th {\n",
       "        vertical-align: top;\n",
       "    }\n",
       "\n",
       "    .dataframe thead th {\n",
       "        text-align: right;\n",
       "    }\n",
       "</style>\n",
       "<table border=\"1\" class=\"dataframe\">\n",
       "  <thead>\n",
       "    <tr style=\"text-align: right;\">\n",
       "      <th></th>\n",
       "      <th>user_id</th>\n",
       "      <th>month</th>\n",
       "      <th>total_count_calls</th>\n",
       "      <th>total_duration_calls</th>\n",
       "      <th>total_sms_in_month</th>\n",
       "      <th>total_traffic_in_month</th>\n",
       "      <th>tariff</th>\n",
       "      <th>city</th>\n",
       "      <th>messages_included</th>\n",
       "      <th>mb_per_month_included</th>\n",
       "      <th>minutes_included</th>\n",
       "      <th>rub_monthly_fee</th>\n",
       "      <th>rub_per_gb</th>\n",
       "      <th>rub_per_message</th>\n",
       "      <th>rub_per_minute</th>\n",
       "      <th>pay_above_tariff</th>\n",
       "    </tr>\n",
       "  </thead>\n",
       "  <tbody>\n",
       "    <tr>\n",
       "      <th>3211</th>\n",
       "      <td>1489</td>\n",
       "      <td>9</td>\n",
       "      <td>0</td>\n",
       "      <td>0</td>\n",
       "      <td>32</td>\n",
       "      <td>17.00</td>\n",
       "      <td>smart</td>\n",
       "      <td>Санкт-Петербург</td>\n",
       "      <td>50</td>\n",
       "      <td>15360</td>\n",
       "      <td>500</td>\n",
       "      <td>550</td>\n",
       "      <td>200</td>\n",
       "      <td>3</td>\n",
       "      <td>3</td>\n",
       "      <td>400.00</td>\n",
       "    </tr>\n",
       "    <tr>\n",
       "      <th>3212</th>\n",
       "      <td>1489</td>\n",
       "      <td>10</td>\n",
       "      <td>0</td>\n",
       "      <td>0</td>\n",
       "      <td>21</td>\n",
       "      <td>20.00</td>\n",
       "      <td>smart</td>\n",
       "      <td>Санкт-Петербург</td>\n",
       "      <td>50</td>\n",
       "      <td>15360</td>\n",
       "      <td>500</td>\n",
       "      <td>550</td>\n",
       "      <td>200</td>\n",
       "      <td>3</td>\n",
       "      <td>3</td>\n",
       "      <td>1,000.00</td>\n",
       "    </tr>\n",
       "    <tr>\n",
       "      <th>3213</th>\n",
       "      <td>1489</td>\n",
       "      <td>11</td>\n",
       "      <td>0</td>\n",
       "      <td>0</td>\n",
       "      <td>20</td>\n",
       "      <td>18.00</td>\n",
       "      <td>smart</td>\n",
       "      <td>Санкт-Петербург</td>\n",
       "      <td>50</td>\n",
       "      <td>15360</td>\n",
       "      <td>500</td>\n",
       "      <td>550</td>\n",
       "      <td>200</td>\n",
       "      <td>3</td>\n",
       "      <td>3</td>\n",
       "      <td>600.00</td>\n",
       "    </tr>\n",
       "    <tr>\n",
       "      <th>3214</th>\n",
       "      <td>1489</td>\n",
       "      <td>12</td>\n",
       "      <td>0</td>\n",
       "      <td>0</td>\n",
       "      <td>35</td>\n",
       "      <td>17.00</td>\n",
       "      <td>smart</td>\n",
       "      <td>Санкт-Петербург</td>\n",
       "      <td>50</td>\n",
       "      <td>15360</td>\n",
       "      <td>500</td>\n",
       "      <td>550</td>\n",
       "      <td>200</td>\n",
       "      <td>3</td>\n",
       "      <td>3</td>\n",
       "      <td>400.00</td>\n",
       "    </tr>\n",
       "    <tr>\n",
       "      <th>3215</th>\n",
       "      <td>1371</td>\n",
       "      <td>0</td>\n",
       "      <td>0</td>\n",
       "      <td>0</td>\n",
       "      <td>0</td>\n",
       "      <td>0.00</td>\n",
       "      <td>smart</td>\n",
       "      <td>Омск</td>\n",
       "      <td>50</td>\n",
       "      <td>15360</td>\n",
       "      <td>500</td>\n",
       "      <td>550</td>\n",
       "      <td>200</td>\n",
       "      <td>3</td>\n",
       "      <td>3</td>\n",
       "      <td>0.00</td>\n",
       "    </tr>\n",
       "  </tbody>\n",
       "</table>\n",
       "</div>"
      ],
      "text/plain": [
       "      user_id  month  total_count_calls  total_duration_calls  \\\n",
       "3211     1489      9                  0                     0   \n",
       "3212     1489     10                  0                     0   \n",
       "3213     1489     11                  0                     0   \n",
       "3214     1489     12                  0                     0   \n",
       "3215     1371      0                  0                     0   \n",
       "\n",
       "      total_sms_in_month  total_traffic_in_month tariff             city  \\\n",
       "3211                  32                   17.00  smart  Санкт-Петербург   \n",
       "3212                  21                   20.00  smart  Санкт-Петербург   \n",
       "3213                  20                   18.00  smart  Санкт-Петербург   \n",
       "3214                  35                   17.00  smart  Санкт-Петербург   \n",
       "3215                   0                    0.00  smart             Омск   \n",
       "\n",
       "      messages_included  mb_per_month_included  minutes_included  \\\n",
       "3211                 50                  15360               500   \n",
       "3212                 50                  15360               500   \n",
       "3213                 50                  15360               500   \n",
       "3214                 50                  15360               500   \n",
       "3215                 50                  15360               500   \n",
       "\n",
       "      rub_monthly_fee  rub_per_gb  rub_per_message  rub_per_minute  \\\n",
       "3211              550         200                3               3   \n",
       "3212              550         200                3               3   \n",
       "3213              550         200                3               3   \n",
       "3214              550         200                3               3   \n",
       "3215              550         200                3               3   \n",
       "\n",
       "      pay_above_tariff  \n",
       "3211            400.00  \n",
       "3212          1,000.00  \n",
       "3213            600.00  \n",
       "3214            400.00  \n",
       "3215              0.00  "
      ]
     },
     "execution_count": 51,
     "metadata": {},
     "output_type": "execute_result"
    }
   ],
   "source": [
    "data.tail()"
   ]
  },
  {
   "cell_type": "markdown",
   "metadata": {},
   "source": [
    "Посчитаем помесячную выручку с каждого пользователя, для этого сложим значение из колонки `pay_above_tariff` с абонентской платой в зависимости от тарифного плана. "
   ]
  },
  {
   "cell_type": "code",
   "execution_count": 52,
   "metadata": {},
   "outputs": [],
   "source": [
    "data['month_pay'] = data['pay_above_tariff'] + data['rub_monthly_fee']"
   ]
  },
  {
   "cell_type": "code",
   "execution_count": 53,
   "metadata": {
    "scrolled": true
   },
   "outputs": [
    {
     "data": {
      "text/html": [
       "<div>\n",
       "<style scoped>\n",
       "    .dataframe tbody tr th:only-of-type {\n",
       "        vertical-align: middle;\n",
       "    }\n",
       "\n",
       "    .dataframe tbody tr th {\n",
       "        vertical-align: top;\n",
       "    }\n",
       "\n",
       "    .dataframe thead th {\n",
       "        text-align: right;\n",
       "    }\n",
       "</style>\n",
       "<table border=\"1\" class=\"dataframe\">\n",
       "  <thead>\n",
       "    <tr style=\"text-align: right;\">\n",
       "      <th></th>\n",
       "      <th>user_id</th>\n",
       "      <th>month</th>\n",
       "      <th>total_count_calls</th>\n",
       "      <th>total_duration_calls</th>\n",
       "      <th>total_sms_in_month</th>\n",
       "      <th>total_traffic_in_month</th>\n",
       "      <th>tariff</th>\n",
       "      <th>city</th>\n",
       "      <th>messages_included</th>\n",
       "      <th>mb_per_month_included</th>\n",
       "      <th>minutes_included</th>\n",
       "      <th>rub_monthly_fee</th>\n",
       "      <th>rub_per_gb</th>\n",
       "      <th>rub_per_message</th>\n",
       "      <th>rub_per_minute</th>\n",
       "      <th>pay_above_tariff</th>\n",
       "      <th>month_pay</th>\n",
       "    </tr>\n",
       "  </thead>\n",
       "  <tbody>\n",
       "    <tr>\n",
       "      <th>3211</th>\n",
       "      <td>1489</td>\n",
       "      <td>9</td>\n",
       "      <td>0</td>\n",
       "      <td>0</td>\n",
       "      <td>32</td>\n",
       "      <td>17.00</td>\n",
       "      <td>smart</td>\n",
       "      <td>Санкт-Петербург</td>\n",
       "      <td>50</td>\n",
       "      <td>15360</td>\n",
       "      <td>500</td>\n",
       "      <td>550</td>\n",
       "      <td>200</td>\n",
       "      <td>3</td>\n",
       "      <td>3</td>\n",
       "      <td>400.00</td>\n",
       "      <td>950.00</td>\n",
       "    </tr>\n",
       "    <tr>\n",
       "      <th>3212</th>\n",
       "      <td>1489</td>\n",
       "      <td>10</td>\n",
       "      <td>0</td>\n",
       "      <td>0</td>\n",
       "      <td>21</td>\n",
       "      <td>20.00</td>\n",
       "      <td>smart</td>\n",
       "      <td>Санкт-Петербург</td>\n",
       "      <td>50</td>\n",
       "      <td>15360</td>\n",
       "      <td>500</td>\n",
       "      <td>550</td>\n",
       "      <td>200</td>\n",
       "      <td>3</td>\n",
       "      <td>3</td>\n",
       "      <td>1,000.00</td>\n",
       "      <td>1,550.00</td>\n",
       "    </tr>\n",
       "    <tr>\n",
       "      <th>3213</th>\n",
       "      <td>1489</td>\n",
       "      <td>11</td>\n",
       "      <td>0</td>\n",
       "      <td>0</td>\n",
       "      <td>20</td>\n",
       "      <td>18.00</td>\n",
       "      <td>smart</td>\n",
       "      <td>Санкт-Петербург</td>\n",
       "      <td>50</td>\n",
       "      <td>15360</td>\n",
       "      <td>500</td>\n",
       "      <td>550</td>\n",
       "      <td>200</td>\n",
       "      <td>3</td>\n",
       "      <td>3</td>\n",
       "      <td>600.00</td>\n",
       "      <td>1,150.00</td>\n",
       "    </tr>\n",
       "    <tr>\n",
       "      <th>3214</th>\n",
       "      <td>1489</td>\n",
       "      <td>12</td>\n",
       "      <td>0</td>\n",
       "      <td>0</td>\n",
       "      <td>35</td>\n",
       "      <td>17.00</td>\n",
       "      <td>smart</td>\n",
       "      <td>Санкт-Петербург</td>\n",
       "      <td>50</td>\n",
       "      <td>15360</td>\n",
       "      <td>500</td>\n",
       "      <td>550</td>\n",
       "      <td>200</td>\n",
       "      <td>3</td>\n",
       "      <td>3</td>\n",
       "      <td>400.00</td>\n",
       "      <td>950.00</td>\n",
       "    </tr>\n",
       "    <tr>\n",
       "      <th>3215</th>\n",
       "      <td>1371</td>\n",
       "      <td>0</td>\n",
       "      <td>0</td>\n",
       "      <td>0</td>\n",
       "      <td>0</td>\n",
       "      <td>0.00</td>\n",
       "      <td>smart</td>\n",
       "      <td>Омск</td>\n",
       "      <td>50</td>\n",
       "      <td>15360</td>\n",
       "      <td>500</td>\n",
       "      <td>550</td>\n",
       "      <td>200</td>\n",
       "      <td>3</td>\n",
       "      <td>3</td>\n",
       "      <td>0.00</td>\n",
       "      <td>550.00</td>\n",
       "    </tr>\n",
       "  </tbody>\n",
       "</table>\n",
       "</div>"
      ],
      "text/plain": [
       "      user_id  month  total_count_calls  total_duration_calls  \\\n",
       "3211     1489      9                  0                     0   \n",
       "3212     1489     10                  0                     0   \n",
       "3213     1489     11                  0                     0   \n",
       "3214     1489     12                  0                     0   \n",
       "3215     1371      0                  0                     0   \n",
       "\n",
       "      total_sms_in_month  total_traffic_in_month tariff             city  \\\n",
       "3211                  32                   17.00  smart  Санкт-Петербург   \n",
       "3212                  21                   20.00  smart  Санкт-Петербург   \n",
       "3213                  20                   18.00  smart  Санкт-Петербург   \n",
       "3214                  35                   17.00  smart  Санкт-Петербург   \n",
       "3215                   0                    0.00  smart             Омск   \n",
       "\n",
       "      messages_included  mb_per_month_included  minutes_included  \\\n",
       "3211                 50                  15360               500   \n",
       "3212                 50                  15360               500   \n",
       "3213                 50                  15360               500   \n",
       "3214                 50                  15360               500   \n",
       "3215                 50                  15360               500   \n",
       "\n",
       "      rub_monthly_fee  rub_per_gb  rub_per_message  rub_per_minute  \\\n",
       "3211              550         200                3               3   \n",
       "3212              550         200                3               3   \n",
       "3213              550         200                3               3   \n",
       "3214              550         200                3               3   \n",
       "3215              550         200                3               3   \n",
       "\n",
       "      pay_above_tariff  month_pay  \n",
       "3211            400.00     950.00  \n",
       "3212          1,000.00   1,550.00  \n",
       "3213            600.00   1,150.00  \n",
       "3214            400.00     950.00  \n",
       "3215              0.00     550.00  "
      ]
     },
     "execution_count": 53,
     "metadata": {},
     "output_type": "execute_result"
    }
   ],
   "source": [
    "data.tail()"
   ]
  },
  {
   "cell_type": "markdown",
   "metadata": {},
   "source": [
    "**Вывод**\\\n",
    "Итак, я создала одну большую таблицу с необходимыми для дальнейшего анализа расчетами. Можно продолжать исследование."
   ]
  },
  {
   "cell_type": "markdown",
   "metadata": {},
   "source": [
    "<a id=\"analize\"></a>\n",
    "## Анализ данных"
   ]
  },
  {
   "cell_type": "code",
   "execution_count": 54,
   "metadata": {},
   "outputs": [
    {
     "data": {
      "text/html": [
       "<div>\n",
       "<style scoped>\n",
       "    .dataframe tbody tr th:only-of-type {\n",
       "        vertical-align: middle;\n",
       "    }\n",
       "\n",
       "    .dataframe tbody tr th {\n",
       "        vertical-align: top;\n",
       "    }\n",
       "\n",
       "    .dataframe thead th {\n",
       "        text-align: right;\n",
       "    }\n",
       "</style>\n",
       "<table border=\"1\" class=\"dataframe\">\n",
       "  <thead>\n",
       "    <tr style=\"text-align: right;\">\n",
       "      <th></th>\n",
       "      <th>pay_above_tariff</th>\n",
       "      <th>month_pay</th>\n",
       "    </tr>\n",
       "  </thead>\n",
       "  <tbody>\n",
       "    <tr>\n",
       "      <th>count</th>\n",
       "      <td>3,216.00</td>\n",
       "      <td>3,216.00</td>\n",
       "    </tr>\n",
       "    <tr>\n",
       "      <th>mean</th>\n",
       "      <td>549.67</td>\n",
       "      <td>1,528.90</td>\n",
       "    </tr>\n",
       "    <tr>\n",
       "      <th>std</th>\n",
       "      <td>767.66</td>\n",
       "      <td>798.22</td>\n",
       "    </tr>\n",
       "    <tr>\n",
       "      <th>min</th>\n",
       "      <td>0.00</td>\n",
       "      <td>550.00</td>\n",
       "    </tr>\n",
       "    <tr>\n",
       "      <th>25%</th>\n",
       "      <td>0.00</td>\n",
       "      <td>750.00</td>\n",
       "    </tr>\n",
       "    <tr>\n",
       "      <th>50%</th>\n",
       "      <td>159.00</td>\n",
       "      <td>1,653.50</td>\n",
       "    </tr>\n",
       "    <tr>\n",
       "      <th>75%</th>\n",
       "      <td>938.00</td>\n",
       "      <td>1,950.00</td>\n",
       "    </tr>\n",
       "    <tr>\n",
       "      <th>max</th>\n",
       "      <td>6,220.00</td>\n",
       "      <td>6,770.00</td>\n",
       "    </tr>\n",
       "  </tbody>\n",
       "</table>\n",
       "</div>"
      ],
      "text/plain": [
       "       pay_above_tariff  month_pay\n",
       "count          3,216.00   3,216.00\n",
       "mean             549.67   1,528.90\n",
       "std              767.66     798.22\n",
       "min                0.00     550.00\n",
       "25%                0.00     750.00\n",
       "50%              159.00   1,653.50\n",
       "75%              938.00   1,950.00\n",
       "max            6,220.00   6,770.00"
      ]
     },
     "execution_count": 54,
     "metadata": {},
     "output_type": "execute_result"
    }
   ],
   "source": [
    "data[['pay_above_tariff', 'month_pay']].describe()"
   ]
  },
  {
   "cell_type": "markdown",
   "metadata": {},
   "source": [
    "Попробуем построить boxplot по общим платежам в зависимости от тарифа."
   ]
  },
  {
   "cell_type": "code",
   "execution_count": 55,
   "metadata": {},
   "outputs": [
    {
     "data": {
      "image/png": "[encoded data removed]",
      "text/plain": [
       "<Figure size 720x720 with 1 Axes>"
      ]
     },
     "metadata": {
      "needs_background": "light"
     },
     "output_type": "display_data"
    }
   ],
   "source": [
    "data.boxplot('month_pay', by='tariff', figsize=(10,10)).set_ylim(0,6800);\n"
   ]
  },
  {
   "cell_type": "markdown",
   "metadata": {},
   "source": [
    "По тарифу **smart** видно, что в основном люди платят от 550 до 1600 руб в месяц. Но есть платежи выше 3000 руб, а один человек заплатил больше 6000р. Основная часть клиентов **ultra** укладывается в абонентскую плату, есть незначительное кол-во выбросов."
   ]
  },
  {
   "cell_type": "code",
   "execution_count": 56,
   "metadata": {
    "scrolled": false
   },
   "outputs": [
    {
     "data": {
      "image/png": "[encoded data removed]",
      "text/plain": [
       "<Figure size 432x288 with 1 Axes>"
      ]
     },
     "metadata": {
      "needs_background": "light"
     },
     "output_type": "display_data"
    }
   ],
   "source": [
    "data[data['tariff'] == 'ultra']['month_pay'].plot(kind='hist', bins=10);"
   ]
  },
  {
   "cell_type": "code",
   "execution_count": 57,
   "metadata": {},
   "outputs": [
    {
     "data": {
      "image/png": "[encoded data removed]",
      "text/plain": [
       "<Figure size 432x288 with 1 Axes>"
      ]
     },
     "metadata": {
      "needs_background": "light"
     },
     "output_type": "display_data"
    }
   ],
   "source": [
    "data[data['tariff'] == 'smart']['month_pay'].plot(kind='hist', bins=10);"
   ]
  },
  {
   "cell_type": "markdown",
   "metadata": {},
   "source": [
    "**Вывод**\\\n",
    "По тарифу \"Ultra\" люди в основном платят по тарифу, и лишь немногочисленные группы выходят за пределы абонентской платы. Абоненты с тарифом \"Smart\" чаще выходят за границы своего тарифа. "
   ]
  },
  {
   "cell_type": "markdown",
   "metadata": {},
   "source": [
    "**Сравним поведение пользователей**"
   ]
  },
  {
   "cell_type": "markdown",
   "metadata": {},
   "source": [
    "**ДЛИТЕЛЬНОСТЬ ЗВОНКОВ**"
   ]
  },
  {
   "cell_type": "code",
   "execution_count": 58,
   "metadata": {},
   "outputs": [
    {
     "data": {
      "image/png": "[encoded data removed]",
      "text/plain": [
       "<Figure size 432x288 with 1 Axes>"
      ]
     },
     "metadata": {
      "needs_background": "light"
     },
     "output_type": "display_data"
    }
   ],
   "source": [
    "data[data['tariff'] == 'smart']['total_duration_calls'].plot(kind='hist', bins=10)\n",
    "plt.title('Smart — Звонки в минутах в месяц');"
   ]
  },
  {
   "cell_type": "code",
   "execution_count": 59,
   "metadata": {},
   "outputs": [
    {
     "data": {
      "image/png": "[encoded data removed]",
      "text/plain": [
       "<Figure size 432x288 with 1 Axes>"
      ]
     },
     "metadata": {
      "needs_background": "light"
     },
     "output_type": "display_data"
    }
   ],
   "source": [
    "data[data['tariff'] == 'ultra']['total_duration_calls'].plot(kind='hist', bins=10)\n",
    "plt.title('Ultra — Звонки в минутах в месяц');"
   ]
  },
  {
   "cell_type": "markdown",
   "metadata": {},
   "source": [
    "Посмотрим на медиану, среднее, дисперсию и стандартное отклонение по времени звонков."
   ]
  },
  {
   "cell_type": "code",
   "execution_count": 60,
   "metadata": {
    "scrolled": true
   },
   "outputs": [
    {
     "data": {
      "text/html": [
       "<div>\n",
       "<style scoped>\n",
       "    .dataframe tbody tr th:only-of-type {\n",
       "        vertical-align: middle;\n",
       "    }\n",
       "\n",
       "    .dataframe tbody tr th {\n",
       "        vertical-align: top;\n",
       "    }\n",
       "\n",
       "    .dataframe thead tr th {\n",
       "        text-align: left;\n",
       "    }\n",
       "\n",
       "    .dataframe thead tr:last-of-type th {\n",
       "        text-align: right;\n",
       "    }\n",
       "</style>\n",
       "<table border=\"1\" class=\"dataframe\">\n",
       "  <thead>\n",
       "    <tr>\n",
       "      <th></th>\n",
       "      <th colspan=\"6\" halign=\"left\">total_duration_calls</th>\n",
       "    </tr>\n",
       "    <tr>\n",
       "      <th></th>\n",
       "      <th>median</th>\n",
       "      <th>mean</th>\n",
       "      <th>max</th>\n",
       "      <th>min</th>\n",
       "      <th>var</th>\n",
       "      <th>std</th>\n",
       "    </tr>\n",
       "    <tr>\n",
       "      <th>tariff</th>\n",
       "      <th></th>\n",
       "      <th></th>\n",
       "      <th></th>\n",
       "      <th></th>\n",
       "      <th></th>\n",
       "      <th></th>\n",
       "    </tr>\n",
       "  </thead>\n",
       "  <tbody>\n",
       "    <tr>\n",
       "      <th>smart</th>\n",
       "      <td>421.50</td>\n",
       "      <td>417.75</td>\n",
       "      <td>1435</td>\n",
       "      <td>0</td>\n",
       "      <td>36,281.39</td>\n",
       "      <td>190.48</td>\n",
       "    </tr>\n",
       "    <tr>\n",
       "      <th>ultra</th>\n",
       "      <td>518.00</td>\n",
       "      <td>526.09</td>\n",
       "      <td>1673</td>\n",
       "      <td>0</td>\n",
       "      <td>101,052.49</td>\n",
       "      <td>317.89</td>\n",
       "    </tr>\n",
       "  </tbody>\n",
       "</table>\n",
       "</div>"
      ],
      "text/plain": [
       "       total_duration_calls                                   \n",
       "                     median   mean   max min        var    std\n",
       "tariff                                                        \n",
       "smart                421.50 417.75  1435   0  36,281.39 190.48\n",
       "ultra                518.00 526.09  1673   0 101,052.49 317.89"
      ]
     },
     "execution_count": 60,
     "metadata": {},
     "output_type": "execute_result"
    }
   ],
   "source": [
    "data.groupby('tariff')\\\n",
    "  .agg({'total_duration_calls':['median','mean','max','min','var','std']}) "
   ]
  },
  {
   "cell_type": "markdown",
   "metadata": {},
   "source": [
    "**Вывод**\n",
    "\n",
    "Распределение в графике по тарифу \"Smart\" похоже на нормальное, пик около значения 500 мин. В графике \"Ultra\" значения распределились не так равномерно, есть много значений до 500 минут, а пик приходится около 600 минут. \n",
    "\n",
    "На \"Smart\" люди говорят в среднем около 420 минут, то есть подходят к краю своего тарифа, достаточно много абонентов выходят за пределы тарифа. А вот на \"Ultra\" люди в среднем разговаривают около 520 минут, то есть в запасе у них есть еще 2450 минут.\n",
    "Медиана и среднее и там, и там примерно равны, значит, наверное, ничего экстремального нет."
   ]
  },
  {
   "cell_type": "markdown",
   "metadata": {},
   "source": [
    "**КОЛИЧЕСТВО СМС**"
   ]
  },
  {
   "cell_type": "code",
   "execution_count": 61,
   "metadata": {},
   "outputs": [
    {
     "data": {
      "image/png": "[encoded data removed]",
      "text/plain": [
       "<Figure size 432x288 with 1 Axes>"
      ]
     },
     "metadata": {
      "needs_background": "light"
     },
     "output_type": "display_data"
    }
   ],
   "source": [
    "data[data['tariff'] == 'smart']['total_sms_in_month'].plot(kind='hist', bins=15)\n",
    "plt.title('Smart — Количество сообщений в месяц');"
   ]
  },
  {
   "cell_type": "code",
   "execution_count": 62,
   "metadata": {},
   "outputs": [
    {
     "data": {
      "image/png": "[encoded data removed]",
      "text/plain": [
       "<Figure size 432x288 with 1 Axes>"
      ]
     },
     "metadata": {
      "needs_background": "light"
     },
     "output_type": "display_data"
    }
   ],
   "source": [
    "data[data['tariff'] == 'ultra']['total_sms_in_month'].plot(kind='hist', bins=15)\n",
    "plt.title('Ultra — Количество сообщений в месяц');"
   ]
  },
  {
   "cell_type": "code",
   "execution_count": 63,
   "metadata": {},
   "outputs": [
    {
     "data": {
      "text/html": [
       "<div>\n",
       "<style scoped>\n",
       "    .dataframe tbody tr th:only-of-type {\n",
       "        vertical-align: middle;\n",
       "    }\n",
       "\n",
       "    .dataframe tbody tr th {\n",
       "        vertical-align: top;\n",
       "    }\n",
       "\n",
       "    .dataframe thead tr th {\n",
       "        text-align: left;\n",
       "    }\n",
       "\n",
       "    .dataframe thead tr:last-of-type th {\n",
       "        text-align: right;\n",
       "    }\n",
       "</style>\n",
       "<table border=\"1\" class=\"dataframe\">\n",
       "  <thead>\n",
       "    <tr>\n",
       "      <th></th>\n",
       "      <th colspan=\"4\" halign=\"left\">total_sms_in_month</th>\n",
       "    </tr>\n",
       "    <tr>\n",
       "      <th></th>\n",
       "      <th>median</th>\n",
       "      <th>mean</th>\n",
       "      <th>var</th>\n",
       "      <th>std</th>\n",
       "    </tr>\n",
       "    <tr>\n",
       "      <th>tariff</th>\n",
       "      <th></th>\n",
       "      <th></th>\n",
       "      <th></th>\n",
       "      <th></th>\n",
       "    </tr>\n",
       "  </thead>\n",
       "  <tbody>\n",
       "    <tr>\n",
       "      <th>smart</th>\n",
       "      <td>28</td>\n",
       "      <td>33.37</td>\n",
       "      <td>796.96</td>\n",
       "      <td>28.23</td>\n",
       "    </tr>\n",
       "    <tr>\n",
       "      <th>ultra</th>\n",
       "      <td>38</td>\n",
       "      <td>49.31</td>\n",
       "      <td>2,285.42</td>\n",
       "      <td>47.81</td>\n",
       "    </tr>\n",
       "  </tbody>\n",
       "</table>\n",
       "</div>"
      ],
      "text/plain": [
       "       total_sms_in_month                     \n",
       "                   median  mean      var   std\n",
       "tariff                                        \n",
       "smart                  28 33.37   796.96 28.23\n",
       "ultra                  38 49.31 2,285.42 47.81"
      ]
     },
     "execution_count": 63,
     "metadata": {},
     "output_type": "execute_result"
    }
   ],
   "source": [
    "data.groupby('tariff')\\\n",
    "  .agg({'total_sms_in_month':['median','mean','var','std']}) "
   ]
  },
  {
   "cell_type": "markdown",
   "metadata": {},
   "source": [
    "**Вывод**\n",
    "\n",
    "Поведение пользователей выглядит похожим. Смс не особо пользуются спросом. Но если некоторые пользователи с тарифом \"смарт\" все же переходят лимит в 50 смс, то пользователи с тарифом \"ультра\" еле-еле переходят порог 200, при том что лимит смс в этом тарифе 1000 смс. Также в тарифе \"ультра\" больше разброс значений (дисперсия и стандартное отклонение выше, чем в \"смарт\")."
   ]
  },
  {
   "cell_type": "markdown",
   "metadata": {},
   "source": [
    "**ИНТЕРНЕТ-ГБ в месяц**"
   ]
  },
  {
   "cell_type": "code",
   "execution_count": 64,
   "metadata": {},
   "outputs": [
    {
     "data": {
      "image/png": "[encoded data removed]",
      "text/plain": [
       "<Figure size 432x288 with 1 Axes>"
      ]
     },
     "metadata": {
      "needs_background": "light"
     },
     "output_type": "display_data"
    }
   ],
   "source": [
    "data[data['tariff'] == 'smart']['total_traffic_in_month'].plot(kind='hist', bins=10)\n",
    "plt.title('Smart — Интернет в Гб в месяц');"
   ]
  },
  {
   "cell_type": "code",
   "execution_count": 65,
   "metadata": {},
   "outputs": [
    {
     "data": {
      "image/png": "[encoded data removed]",
      "text/plain": [
       "<Figure size 432x288 with 1 Axes>"
      ]
     },
     "metadata": {
      "needs_background": "light"
     },
     "output_type": "display_data"
    }
   ],
   "source": [
    "data[data['tariff'] == 'ultra']['total_traffic_in_month'].plot(kind='hist', bins=10)\n",
    "plt.title('Ultra — Интернет в ГБ в месяц');"
   ]
  },
  {
   "cell_type": "code",
   "execution_count": 66,
   "metadata": {},
   "outputs": [
    {
     "data": {
      "text/html": [
       "<div>\n",
       "<style scoped>\n",
       "    .dataframe tbody tr th:only-of-type {\n",
       "        vertical-align: middle;\n",
       "    }\n",
       "\n",
       "    .dataframe tbody tr th {\n",
       "        vertical-align: top;\n",
       "    }\n",
       "\n",
       "    .dataframe thead tr th {\n",
       "        text-align: left;\n",
       "    }\n",
       "\n",
       "    .dataframe thead tr:last-of-type th {\n",
       "        text-align: right;\n",
       "    }\n",
       "</style>\n",
       "<table border=\"1\" class=\"dataframe\">\n",
       "  <thead>\n",
       "    <tr>\n",
       "      <th></th>\n",
       "      <th colspan=\"4\" halign=\"left\">total_traffic_in_month</th>\n",
       "    </tr>\n",
       "    <tr>\n",
       "      <th></th>\n",
       "      <th>median</th>\n",
       "      <th>mean</th>\n",
       "      <th>var</th>\n",
       "      <th>std</th>\n",
       "    </tr>\n",
       "    <tr>\n",
       "      <th>tariff</th>\n",
       "      <th></th>\n",
       "      <th></th>\n",
       "      <th></th>\n",
       "      <th></th>\n",
       "    </tr>\n",
       "  </thead>\n",
       "  <tbody>\n",
       "    <tr>\n",
       "      <th>smart</th>\n",
       "      <td>17.00</td>\n",
       "      <td>16.32</td>\n",
       "      <td>33.13</td>\n",
       "      <td>5.76</td>\n",
       "    </tr>\n",
       "    <tr>\n",
       "      <th>ultra</th>\n",
       "      <td>19.00</td>\n",
       "      <td>19.47</td>\n",
       "      <td>97.38</td>\n",
       "      <td>9.87</td>\n",
       "    </tr>\n",
       "  </tbody>\n",
       "</table>\n",
       "</div>"
      ],
      "text/plain": [
       "       total_traffic_in_month                 \n",
       "                       median  mean   var  std\n",
       "tariff                                        \n",
       "smart                   17.00 16.32 33.13 5.76\n",
       "ultra                   19.00 19.47 97.38 9.87"
      ]
     },
     "execution_count": 66,
     "metadata": {},
     "output_type": "execute_result"
    }
   ],
   "source": [
    "data.groupby('tariff')\\\n",
    "  .agg({'total_traffic_in_month':['median','mean','var','std']}) "
   ]
  },
  {
   "cell_type": "markdown",
   "metadata": {},
   "source": [
    "**Вывод**\n",
    "\n",
    "Среднее и медиана лежат рядом и там и там. На Смарте люди выходят за пределы тарифа (15ГБ) чаще, у  Ультры в основном пользователи остаются в рамках дозволенного интернета (30 Г), но и разброс больше (это видно и на графиках, и по значению std - стандартного отклонения)."
   ]
  },
  {
   "cell_type": "markdown",
   "metadata": {},
   "source": [
    "**СРЕДНЯЯ ЕЖЕМЕСЯЧНАЯ ВЫРУЧКА**"
   ]
  },
  {
   "cell_type": "code",
   "execution_count": 67,
   "metadata": {
    "scrolled": true
   },
   "outputs": [
    {
     "data": {
      "text/html": [
       "<div>\n",
       "<style scoped>\n",
       "    .dataframe tbody tr th:only-of-type {\n",
       "        vertical-align: middle;\n",
       "    }\n",
       "\n",
       "    .dataframe tbody tr th {\n",
       "        vertical-align: top;\n",
       "    }\n",
       "\n",
       "    .dataframe thead tr th {\n",
       "        text-align: left;\n",
       "    }\n",
       "\n",
       "    .dataframe thead tr:last-of-type th {\n",
       "        text-align: right;\n",
       "    }\n",
       "</style>\n",
       "<table border=\"1\" class=\"dataframe\">\n",
       "  <thead>\n",
       "    <tr>\n",
       "      <th></th>\n",
       "      <th colspan=\"2\" halign=\"left\">month_pay</th>\n",
       "    </tr>\n",
       "    <tr>\n",
       "      <th></th>\n",
       "      <th>median</th>\n",
       "      <th>mean</th>\n",
       "    </tr>\n",
       "    <tr>\n",
       "      <th>tariff</th>\n",
       "      <th></th>\n",
       "      <th></th>\n",
       "    </tr>\n",
       "  </thead>\n",
       "  <tbody>\n",
       "    <tr>\n",
       "      <th>smart</th>\n",
       "      <td>1,021.00</td>\n",
       "      <td>1,289.64</td>\n",
       "    </tr>\n",
       "    <tr>\n",
       "      <th>ultra</th>\n",
       "      <td>1,950.00</td>\n",
       "      <td>2,070.03</td>\n",
       "    </tr>\n",
       "  </tbody>\n",
       "</table>\n",
       "</div>"
      ],
      "text/plain": [
       "       month_pay         \n",
       "          median     mean\n",
       "tariff                   \n",
       "smart   1,021.00 1,289.64\n",
       "ultra   1,950.00 2,070.03"
      ]
     },
     "execution_count": 67,
     "metadata": {},
     "output_type": "execute_result"
    }
   ],
   "source": [
    "data.groupby('tariff')\\\n",
    "  .agg({'month_pay':['median','mean']}) "
   ]
  },
  {
   "cell_type": "markdown",
   "metadata": {},
   "source": [
    "**Вывод**\\\n",
    "Средняя ежемесячная выручка по тарифу \"Смарт\" составляет **1290р.**, по тарифу \"Ультра\" - **2070р**."
   ]
  },
  {
   "cell_type": "markdown",
   "metadata": {},
   "source": [
    "**ГОДОВАЯ ВЫРУЧКА**"
   ]
  },
  {
   "cell_type": "code",
   "execution_count": 68,
   "metadata": {
    "scrolled": false
   },
   "outputs": [
    {
     "data": {
      "text/plain": [
       "tariff\n",
       "smart   2,875,901.00\n",
       "ultra   2,041,050.00\n",
       "Name: month_pay, dtype: float64"
      ]
     },
     "execution_count": 68,
     "metadata": {},
     "output_type": "execute_result"
    }
   ],
   "source": [
    "data.groupby('tariff')['month_pay'].sum()"
   ]
  },
  {
   "cell_type": "markdown",
   "metadata": {},
   "source": [
    "**Вывод**\\\n",
    "Годовая выручка с тарифа **Smart** составила 2 875 901р., годовая выручка с тарифа **Ultra** меньше - 2 041 050р."
   ]
  },
  {
   "cell_type": "markdown",
   "metadata": {},
   "source": [
    "**УШЕДШИЕ АБОНЕНТЫ**"
   ]
  },
  {
   "cell_type": "markdown",
   "metadata": {},
   "source": [
    "Хочу еще проверить тех абонентов, которые ушли. "
   ]
  },
  {
   "cell_type": "code",
   "execution_count": 69,
   "metadata": {
    "scrolled": true
   },
   "outputs": [
    {
     "data": {
      "text/plain": [
       "tariff\n",
       "smart    23\n",
       "ultra    15\n",
       "Name: user_id, dtype: int64"
      ]
     },
     "execution_count": 69,
     "metadata": {},
     "output_type": "execute_result"
    }
   ],
   "source": [
    "users[~users['churn_date'].isna()].groupby('tariff')['user_id'].nunique()"
   ]
  },
  {
   "cell_type": "markdown",
   "metadata": {},
   "source": [
    "**Вывод**\\\n",
    "Ушедших с тарифа \"Smart\" больше, чем с \"Ultra\". "
   ]
  },
  {
   "cell_type": "markdown",
   "metadata": {},
   "source": [
    "<a id=\"hyp\"></a>\n",
    "## Проверка гипотез"
   ]
  },
  {
   "cell_type": "markdown",
   "metadata": {},
   "source": [
    "Будем использовать t-критерий Стьюдента, так как сравниваемые выборки независимы между собой."
   ]
  },
  {
   "cell_type": "markdown",
   "metadata": {},
   "source": [
    "**1. Гипотеза о равенстве средних двух генеральных совокупностей**"
   ]
  },
  {
   "cell_type": "markdown",
   "metadata": {},
   "source": [
    "Сформулируем гипотезы:\n",
    "\n",
    "    - H0: Средняя выручка пользователей тарифов «Ультра» и «Смарт» не различается.\n",
    "    - H1: Средняя выручка пользователей тарифов «Ультра» и «Смарт» различается."
   ]
  },
  {
   "cell_type": "markdown",
   "metadata": {},
   "source": [
    "Сделаем 2 выборки, в одной будут пользователи с тарифом \"Смарт\", в другой - с тарифом \"Ультра\"."
   ]
  },
  {
   "cell_type": "code",
   "execution_count": 70,
   "metadata": {},
   "outputs": [],
   "source": [
    "data_smart = data[data['tariff'] == 'smart']\n",
    "data_ultra = data[data['tariff'] == 'ultra']"
   ]
  },
  {
   "cell_type": "code",
   "execution_count": 71,
   "metadata": {
    "scrolled": true
   },
   "outputs": [
    {
     "data": {
      "text/plain": [
       "2230"
      ]
     },
     "metadata": {},
     "output_type": "display_data"
    },
    {
     "data": {
      "text/plain": [
       "986"
      ]
     },
     "execution_count": 71,
     "metadata": {},
     "output_type": "execute_result"
    }
   ],
   "source": [
    "# Посмотрим на размер каждой выборки\n",
    "display(data_smart.shape[0])\n",
    "data_ultra.shape[0]"
   ]
  },
  {
   "cell_type": "markdown",
   "metadata": {},
   "source": [
    "Поскольку размеры этих 2 выборок отличаются значительно, при тесте установим значение equal_var равным False."
   ]
  },
  {
   "cell_type": "code",
   "execution_count": 72,
   "metadata": {},
   "outputs": [],
   "source": [
    "# Установим пороговое значение\n",
    "alpha = 0.05"
   ]
  },
  {
   "cell_type": "markdown",
   "metadata": {},
   "source": [
    "Будем сравнивать помесячную выручку."
   ]
  },
  {
   "cell_type": "code",
   "execution_count": 73,
   "metadata": {},
   "outputs": [],
   "source": [
    "smart = data_smart['month_pay']\n",
    "ultra = data_ultra['month_pay']"
   ]
  },
  {
   "cell_type": "code",
   "execution_count": 74,
   "metadata": {},
   "outputs": [],
   "source": [
    "results = st.ttest_ind(ultra, smart, equal_var=False)"
   ]
  },
  {
   "cell_type": "code",
   "execution_count": 75,
   "metadata": {},
   "outputs": [
    {
     "data": {
      "text/plain": [
       "'p-значение:'"
      ]
     },
     "metadata": {},
     "output_type": "display_data"
    },
    {
     "data": {
      "text/plain": [
       "1.927011394420941e-250"
      ]
     },
     "metadata": {},
     "output_type": "display_data"
    },
    {
     "data": {
      "text/plain": [
       "'Отвергаем нулевую гипотезу'"
      ]
     },
     "metadata": {},
     "output_type": "display_data"
    }
   ],
   "source": [
    "display('p-значение:', results.pvalue)\n",
    "if (results.pvalue < alpha):\n",
    "    display('Отвергаем нулевую гипотезу')\n",
    "else:\n",
    "    display('Не получилось отвергнуть нулевую гипотезу')"
   ]
  },
  {
   "cell_type": "markdown",
   "metadata": {},
   "source": [
    "**Вывод**\\\n",
    "Отвергаем нулевую гипотезу, так как значение p-value намного меньше порогового значения. Такое маленькое значение p-value говорит о том, что разница не случайна, есть значимые различия между выборками."
   ]
  },
  {
   "cell_type": "markdown",
   "metadata": {},
   "source": [
    "**2. Гипотеза о равенстве средних двух генеральных совокупностей**"
   ]
  },
  {
   "cell_type": "markdown",
   "metadata": {},
   "source": [
    "Сформулируем гипотезы:\n",
    "\n",
    "    - H0: Средняя выручка пользователей из Москвы не отличается от выручки пользователей из других регионов.\n",
    "    - H1: Средняя выручка пользователей из Москвы отличается от выручки пользователей из других регионов.\n"
   ]
  },
  {
   "cell_type": "markdown",
   "metadata": {},
   "source": [
    "Посмотрим, какие значения есть в колонке **city**."
   ]
  },
  {
   "cell_type": "code",
   "execution_count": 76,
   "metadata": {},
   "outputs": [
    {
     "data": {
      "text/plain": [
       "array(['Краснодар', 'Москва', 'Новокузнецк', 'Иваново', 'Омск', 'Уфа',\n",
       "       'Томск', 'Санкт-Петербург', 'Тверь', 'Ярославль', 'Тюмень',\n",
       "       'Ростов-на-Дону', 'Калуга', 'Тула', 'Волгоград', 'Саранск',\n",
       "       'Иркутск', 'Череповец', 'Новосибирск', 'Брянск', 'Тольятти',\n",
       "       'Нижний Тагил', 'Воронеж', 'Махачкала', 'Пермь', 'Сургут', 'Пенза',\n",
       "       'Мурманск', 'Набережные Челны', 'Самара', 'Нижний Новгород',\n",
       "       'Кемерово', 'Кострома', 'Оренбург', 'Магнитогорск', 'Астрахань',\n",
       "       'Нижневартовск', 'Челябинск', 'Курган', 'Красноярск',\n",
       "       'Владивосток', 'Смоленск', 'Владимир', 'Казань', 'Саратов',\n",
       "       'Севастополь', 'Рязань', 'Екатеринбург', 'Стерлитамак',\n",
       "       'Ульяновск', 'Балашиха', 'Барнаул', 'Киров', 'Сочи', 'Вологда',\n",
       "       'Чебоксары', 'Волжский', 'Чита', 'Петрозаводск', 'Хабаровск',\n",
       "       'Ставрополь', 'Улан-Удэ', 'Курск', 'Якутск', 'Химки',\n",
       "       'Владикавказ', 'Ижевск', 'Орёл', 'Белгород', 'Архангельск',\n",
       "       'Липецк', 'Тамбов', 'Калининград', 'Новороссийск', 'Грозный',\n",
       "       'Подольск'], dtype=object)"
      ]
     },
     "execution_count": 76,
     "metadata": {},
     "output_type": "execute_result"
    }
   ],
   "source": [
    "data['city'].unique()"
   ]
  },
  {
   "cell_type": "markdown",
   "metadata": {},
   "source": [
    "Заменим все названия населенных пунктов, кроме Москвы, словосочетанием \"Другие регионы\"."
   ]
  },
  {
   "cell_type": "code",
   "execution_count": 77,
   "metadata": {},
   "outputs": [],
   "source": [
    "data['region'] = np.where(data['city'] == 'Москва', 'Москва', 'Другие регионы')"
   ]
  },
  {
   "cell_type": "markdown",
   "metadata": {},
   "source": [
    "Сделаем 2 выборки, в одной будут пользователи из Москвы, в другой - все остальные."
   ]
  },
  {
   "cell_type": "code",
   "execution_count": 78,
   "metadata": {},
   "outputs": [],
   "source": [
    "data_moscow = data[data['region'] == 'Москва']\n",
    "data_regions = data[data['region'] == 'Другие регионы']"
   ]
  },
  {
   "cell_type": "code",
   "execution_count": 79,
   "metadata": {},
   "outputs": [
    {
     "data": {
      "text/plain": [
       "611"
      ]
     },
     "metadata": {},
     "output_type": "display_data"
    },
    {
     "data": {
      "text/plain": [
       "2605"
      ]
     },
     "execution_count": 79,
     "metadata": {},
     "output_type": "execute_result"
    }
   ],
   "source": [
    "# Сравним размеры выборок\n",
    "display(data_moscow.shape[0])\n",
    "data_regions.shape[0]"
   ]
  },
  {
   "cell_type": "code",
   "execution_count": 80,
   "metadata": {},
   "outputs": [],
   "source": [
    "moscow = data_moscow['month_pay']\n",
    "regions = data_regions['month_pay']"
   ]
  },
  {
   "cell_type": "code",
   "execution_count": 81,
   "metadata": {},
   "outputs": [],
   "source": [
    "result = st.ttest_ind(moscow, regions, equal_var=False)"
   ]
  },
  {
   "cell_type": "code",
   "execution_count": 82,
   "metadata": {},
   "outputs": [
    {
     "data": {
      "text/plain": [
       "'p-значение:'"
      ]
     },
     "metadata": {},
     "output_type": "display_data"
    },
    {
     "data": {
      "text/plain": [
       "0.5216952110000278"
      ]
     },
     "metadata": {},
     "output_type": "display_data"
    },
    {
     "data": {
      "text/plain": [
       "'Не получилось отвергнуть нулевую гипотезу'"
      ]
     },
     "metadata": {},
     "output_type": "display_data"
    }
   ],
   "source": [
    "display('p-значение:', result.pvalue)\n",
    "if (result.pvalue < alpha):\n",
    "    display('Отвергаем нулевую гипотезу')\n",
    "else:\n",
    "    display('Не получилось отвергнуть нулевую гипотезу')"
   ]
  },
  {
   "cell_type": "markdown",
   "metadata": {},
   "source": [
    "**Вывод**\\\n",
    "Нулевую гипотезу не удалось опровергнуть. Можно сделать вывод, что выручка от абонентов Москвы, скорее всего, не отличается от выручки абонентов из других регионов."
   ]
  },
  {
   "cell_type": "markdown",
   "metadata": {},
   "source": [
    "<a id=\"end\"></a>\n",
    "## Общий вывод"
   ]
  },
  {
   "cell_type": "markdown",
   "metadata": {},
   "source": [
    "- Люди на разных тарифах ведут себя по-разному, что наверно и хорошо.  Но и переплачивает достаточно много абонентов, а это, особенно в Смарте, может приводить к разочарованию и оттоку.\n",
    "\t    \n",
    "- СМС-ками мало кто пользуется на обоих тарифах. Но если в Смарте люди близки к своим лимитам, то на Ультре остаются большие неизрасходованные запасы — возможно, стоит подумать, как использовать эту, по сути своей, упущенную выгоду.\n",
    "\n",
    "- Интернетом не пользовались 3 клиента, звонками - 8 клиентов, сообщениями - 74 клиента. При этом 2 клиента (с id **1128** и **1371)** вообще не пользовались никакими услугами.\n",
    "\n",
    "- 15 месяцев из 3216 условных месяцев клиенты не использовали интернет.\n",
    "\n",
    "- Годовая выручка с тарифа **Smart** составила 2 875 901р., годовая выручка с тарифа **Ultra** меньше - 2 041 050р.\n",
    "\t   \n",
    "- Тарифы приносят разные деньги, значимые различия есть. Средняя ежемесячная выручка по тарифу \"Смарт\" составляет **1290р.**, по тарифу \"Ультра\" - **2070р**.\n",
    "\t    \n",
    "- Средняя выручка Москвы и регионов различается, вероятно, это связано с разным уровнем дохода.\n",
    "\n",
    "- Всего за исследуемый период \"ушедших\" с тарифа \"Смарт\" - **23 пользователя**, с тарифа \"Ультра\" - **15**. Таким образом больше недовольных именно тарифом \"Смарт\", возможно, стоит с ними связаться, чтобы выяснить причины их ухода.  \n",
    "\n",
    "- Ниже представлен график средней ежемесячной выручки в зависимости от тарифа. Видим, что на тарифе **Ultra** выручка особо не меняется и составляет суммы  в районе 2000р., тогда как выручка с тарифа **Smart** растет с каждым месяцем. Если в начале она составляла около 600 рублей, то к 12 месяцу выросла до 1600 р. Думаю, это связано с увеличением количества пользователей тарифа \"Смарт\". Все-таки пользователей больше привлекает недорогой тариф.\n"
   ]
  },
  {
   "cell_type": "code",
   "execution_count": 83,
   "metadata": {},
   "outputs": [
    {
     "data": {
      "image/png": "[encoded data removed]",
      "text/plain": [
       "<Figure size 720x288 with 1 Axes>"
      ]
     },
     "metadata": {
      "needs_background": "light"
     },
     "output_type": "display_data"
    }
   ],
   "source": [
    "(data\n",
    " .pivot_table(index='tariff', columns='month', values='month_pay', aggfunc='mean')\n",
    " .T\n",
    " .plot(kind='line', alpha=0.5, figsize=(10,4))\n",
    ")\n",
    "plt.title('Средняя ежемесячная выручка по 2-м тарифам за год'+ \"\\n\")\n",
    "plt.xlabel('Месяц')\n",
    "plt.ylabel('Рубли');"
   ]
  },
  {
   "cell_type": "code",
   "execution_count": null,
   "metadata": {},
   "outputs": [],
   "source": []
  }
 ],
 "metadata": {
  "ExecuteTimeLog": [
   {
    "duration": 1203,
    "start_time": "2022-02-26T15:14:45.205Z"
   },
   {
    "duration": 491,
    "start_time": "2022-02-26T15:14:59.996Z"
   },
   {
    "duration": 15,
    "start_time": "2022-02-26T15:15:24.552Z"
   },
   {
    "duration": 30,
    "start_time": "2022-02-26T15:15:33.161Z"
   },
   {
    "duration": 11,
    "start_time": "2022-02-26T15:15:43.701Z"
   },
   {
    "duration": 21,
    "start_time": "2022-02-26T15:15:56.744Z"
   },
   {
    "duration": 12,
    "start_time": "2022-02-26T15:16:06.810Z"
   },
   {
    "duration": 17,
    "start_time": "2022-02-26T15:16:16.314Z"
   },
   {
    "duration": 12,
    "start_time": "2022-02-26T15:16:29.939Z"
   },
   {
    "duration": 9,
    "start_time": "2022-02-26T15:16:37.955Z"
   },
   {
    "duration": 14,
    "start_time": "2022-02-26T15:16:46.185Z"
   },
   {
    "duration": 9,
    "start_time": "2022-02-26T15:16:54.052Z"
   },
   {
    "duration": 14,
    "start_time": "2022-02-26T15:18:34.496Z"
   },
   {
    "duration": 6842,
    "start_time": "2022-02-26T15:18:58.197Z"
   },
   {
    "duration": 4,
    "start_time": "2022-02-26T15:19:16.334Z"
   },
   {
    "duration": 490,
    "start_time": "2022-02-26T15:19:16.341Z"
   },
   {
    "duration": 11,
    "start_time": "2022-02-26T15:19:16.834Z"
   },
   {
    "duration": 29,
    "start_time": "2022-02-26T15:19:16.847Z"
   },
   {
    "duration": 11,
    "start_time": "2022-02-26T15:19:16.879Z"
   },
   {
    "duration": 23,
    "start_time": "2022-02-26T15:19:16.892Z"
   },
   {
    "duration": 9,
    "start_time": "2022-02-26T15:19:16.918Z"
   },
   {
    "duration": 19,
    "start_time": "2022-02-26T15:19:16.952Z"
   },
   {
    "duration": 12,
    "start_time": "2022-02-26T15:19:16.974Z"
   },
   {
    "duration": 13,
    "start_time": "2022-02-26T15:19:16.989Z"
   },
   {
    "duration": 49,
    "start_time": "2022-02-26T15:19:17.005Z"
   },
   {
    "duration": 10,
    "start_time": "2022-02-26T15:19:17.056Z"
   },
   {
    "duration": 12,
    "start_time": "2022-02-26T15:19:22.050Z"
   },
   {
    "duration": 12,
    "start_time": "2022-02-26T15:19:32.425Z"
   },
   {
    "duration": 6,
    "start_time": "2022-02-26T15:20:37.204Z"
   },
   {
    "duration": 95,
    "start_time": "2022-02-26T15:21:16.757Z"
   },
   {
    "duration": 10,
    "start_time": "2022-02-26T15:21:57.957Z"
   },
   {
    "duration": 107,
    "start_time": "2022-02-26T15:22:19.189Z"
   },
   {
    "duration": 55,
    "start_time": "2022-02-26T15:22:26.295Z"
   },
   {
    "duration": 53,
    "start_time": "2022-02-26T15:22:32.139Z"
   },
   {
    "duration": 7,
    "start_time": "2022-02-26T15:24:01.076Z"
   },
   {
    "duration": 12,
    "start_time": "2022-02-26T15:24:10.940Z"
   },
   {
    "duration": 66,
    "start_time": "2022-02-26T15:25:11.859Z"
   },
   {
    "duration": 39,
    "start_time": "2022-02-26T15:25:51.950Z"
   },
   {
    "duration": 10,
    "start_time": "2022-02-26T15:26:11.975Z"
   },
   {
    "duration": 24,
    "start_time": "2022-02-26T15:26:23.768Z"
   },
   {
    "duration": 9,
    "start_time": "2022-02-26T15:26:48.186Z"
   },
   {
    "duration": 24,
    "start_time": "2022-02-26T15:26:59.432Z"
   },
   {
    "duration": 10,
    "start_time": "2022-02-26T15:27:07.384Z"
   },
   {
    "duration": 63,
    "start_time": "2022-02-26T15:27:18.077Z"
   },
   {
    "duration": 12,
    "start_time": "2022-02-26T15:27:35.055Z"
   },
   {
    "duration": 12,
    "start_time": "2022-02-26T15:27:40.767Z"
   },
   {
    "duration": 12,
    "start_time": "2022-02-26T15:28:52.062Z"
   },
   {
    "duration": 130,
    "start_time": "2022-02-26T15:29:01.101Z"
   },
   {
    "duration": 13,
    "start_time": "2022-02-26T15:29:16.511Z"
   },
   {
    "duration": 9,
    "start_time": "2022-02-26T15:29:23.426Z"
   },
   {
    "duration": 21,
    "start_time": "2022-02-26T15:29:30.057Z"
   },
   {
    "duration": 308,
    "start_time": "2022-02-26T15:29:49.030Z"
   },
   {
    "duration": 12,
    "start_time": "2022-02-26T15:30:03.225Z"
   },
   {
    "duration": 8,
    "start_time": "2022-02-26T15:30:14.761Z"
   },
   {
    "duration": 8,
    "start_time": "2022-02-26T15:30:49.083Z"
   },
   {
    "duration": 7,
    "start_time": "2022-02-26T15:30:57.252Z"
   },
   {
    "duration": 11,
    "start_time": "2022-02-26T15:31:09.022Z"
   },
   {
    "duration": 10,
    "start_time": "2022-02-26T15:31:36.075Z"
   },
   {
    "duration": 14,
    "start_time": "2022-02-26T15:31:52.266Z"
   },
   {
    "duration": 6,
    "start_time": "2022-02-26T15:32:47.256Z"
   },
   {
    "duration": 320,
    "start_time": "2022-02-26T15:32:57.190Z"
   },
   {
    "duration": 19,
    "start_time": "2022-02-26T15:33:07.227Z"
   },
   {
    "duration": 35,
    "start_time": "2022-02-26T15:33:37.353Z"
   },
   {
    "duration": 21,
    "start_time": "2022-02-26T15:33:45.555Z"
   },
   {
    "duration": 23,
    "start_time": "2022-02-26T15:34:22.774Z"
   },
   {
    "duration": 442,
    "start_time": "2022-02-26T15:34:43.489Z"
   },
   {
    "duration": 283,
    "start_time": "2022-02-26T15:35:32.353Z"
   },
   {
    "duration": 280,
    "start_time": "2022-02-26T15:35:46.505Z"
   },
   {
    "duration": 514,
    "start_time": "2022-02-26T15:36:40.811Z"
   },
   {
    "duration": 525,
    "start_time": "2022-02-26T15:36:51.400Z"
   },
   {
    "duration": 22,
    "start_time": "2022-02-26T15:37:13.314Z"
   },
   {
    "duration": 314,
    "start_time": "2022-02-26T15:37:44.173Z"
   },
   {
    "duration": 281,
    "start_time": "2022-02-26T15:37:54.274Z"
   },
   {
    "duration": 22,
    "start_time": "2022-02-26T15:38:14.898Z"
   },
   {
    "duration": 69,
    "start_time": "2022-02-26T15:38:56.688Z"
   },
   {
    "duration": 319,
    "start_time": "2022-02-26T15:39:11.275Z"
   },
   {
    "duration": 285,
    "start_time": "2022-02-26T15:39:21.226Z"
   },
   {
    "duration": 21,
    "start_time": "2022-02-26T15:39:31.547Z"
   },
   {
    "duration": 82,
    "start_time": "2022-02-26T15:40:12.057Z"
   },
   {
    "duration": 6,
    "start_time": "2022-02-26T15:40:40.698Z"
   },
   {
    "duration": 9,
    "start_time": "2022-02-26T15:41:00.861Z"
   },
   {
    "duration": 69,
    "start_time": "2022-02-26T15:41:19.206Z"
   },
   {
    "duration": 202,
    "start_time": "2022-02-26T15:41:26.810Z"
   },
   {
    "duration": 3,
    "start_time": "2022-02-26T15:41:31.642Z"
   },
   {
    "duration": 3,
    "start_time": "2022-02-26T15:41:47.608Z"
   },
   {
    "duration": 7,
    "start_time": "2022-02-26T15:41:50.093Z"
   },
   {
    "duration": 8,
    "start_time": "2022-02-26T15:41:59.552Z"
   },
   {
    "duration": 7,
    "start_time": "2022-02-26T15:43:01.671Z"
   },
   {
    "duration": 9,
    "start_time": "2022-02-26T15:43:34.443Z"
   },
   {
    "duration": 61,
    "start_time": "2022-02-26T15:43:41.665Z"
   },
   {
    "duration": 7,
    "start_time": "2022-02-26T15:43:58.592Z"
   },
   {
    "duration": 9,
    "start_time": "2022-02-26T15:44:09.678Z"
   },
   {
    "duration": 74,
    "start_time": "2022-02-26T15:44:19.815Z"
   },
   {
    "duration": 8,
    "start_time": "2022-02-26T15:44:28.173Z"
   },
   {
    "duration": 8,
    "start_time": "2022-02-26T15:44:36.219Z"
   },
   {
    "duration": 1314,
    "start_time": "2022-02-26T16:25:07.748Z"
   },
   {
    "duration": 460,
    "start_time": "2022-02-26T16:25:09.065Z"
   },
   {
    "duration": 15,
    "start_time": "2022-02-26T16:25:09.529Z"
   },
   {
    "duration": 27,
    "start_time": "2022-02-26T16:25:09.547Z"
   },
   {
    "duration": 12,
    "start_time": "2022-02-26T16:25:09.576Z"
   },
   {
    "duration": 23,
    "start_time": "2022-02-26T16:25:09.590Z"
   },
   {
    "duration": 38,
    "start_time": "2022-02-26T16:25:09.616Z"
   },
   {
    "duration": 18,
    "start_time": "2022-02-26T16:25:09.657Z"
   },
   {
    "duration": 11,
    "start_time": "2022-02-26T16:25:09.678Z"
   },
   {
    "duration": 9,
    "start_time": "2022-02-26T16:25:09.692Z"
   },
   {
    "duration": 51,
    "start_time": "2022-02-26T16:25:09.704Z"
   },
   {
    "duration": 9,
    "start_time": "2022-02-26T16:25:09.757Z"
   },
   {
    "duration": 14,
    "start_time": "2022-02-26T16:25:09.768Z"
   },
   {
    "duration": 12,
    "start_time": "2022-02-26T16:25:09.785Z"
   },
   {
    "duration": 7,
    "start_time": "2022-02-26T16:25:09.800Z"
   },
   {
    "duration": 99,
    "start_time": "2022-02-26T16:25:09.852Z"
   },
   {
    "duration": 13,
    "start_time": "2022-02-26T16:25:09.953Z"
   },
   {
    "duration": 147,
    "start_time": "2022-02-26T16:25:09.969Z"
   },
   {
    "duration": 69,
    "start_time": "2022-02-26T16:25:10.119Z"
   },
   {
    "duration": 61,
    "start_time": "2022-02-26T16:25:10.191Z"
   },
   {
    "duration": 7,
    "start_time": "2022-02-26T16:25:10.254Z"
   },
   {
    "duration": 11,
    "start_time": "2022-02-26T16:25:10.263Z"
   },
   {
    "duration": 96,
    "start_time": "2022-02-26T16:25:10.280Z"
   },
   {
    "duration": 37,
    "start_time": "2022-02-26T16:25:10.380Z"
   },
   {
    "duration": 10,
    "start_time": "2022-02-26T16:25:10.419Z"
   },
   {
    "duration": 27,
    "start_time": "2022-02-26T16:25:10.451Z"
   },
   {
    "duration": 9,
    "start_time": "2022-02-26T16:25:10.481Z"
   },
   {
    "duration": 30,
    "start_time": "2022-02-26T16:25:10.492Z"
   },
   {
    "duration": 9,
    "start_time": "2022-02-26T16:25:10.552Z"
   },
   {
    "duration": 13,
    "start_time": "2022-02-26T16:25:10.563Z"
   },
   {
    "duration": 14,
    "start_time": "2022-02-26T16:25:10.579Z"
   },
   {
    "duration": 14,
    "start_time": "2022-02-26T16:25:10.596Z"
   },
   {
    "duration": 47,
    "start_time": "2022-02-26T16:25:10.612Z"
   },
   {
    "duration": 22,
    "start_time": "2022-02-26T16:25:10.662Z"
   },
   {
    "duration": 13,
    "start_time": "2022-02-26T16:25:10.687Z"
   },
   {
    "duration": 51,
    "start_time": "2022-02-26T16:25:10.702Z"
   },
   {
    "duration": 8,
    "start_time": "2022-02-26T16:25:10.755Z"
   },
   {
    "duration": 6,
    "start_time": "2022-02-26T16:25:10.765Z"
   },
   {
    "duration": 13,
    "start_time": "2022-02-26T16:25:10.773Z"
   },
   {
    "duration": 8,
    "start_time": "2022-02-26T16:25:10.788Z"
   },
   {
    "duration": 11,
    "start_time": "2022-02-26T16:25:10.799Z"
   },
   {
    "duration": 43,
    "start_time": "2022-02-26T16:25:10.812Z"
   },
   {
    "duration": 326,
    "start_time": "2022-02-26T16:25:10.857Z"
   },
   {
    "duration": 20,
    "start_time": "2022-02-26T16:25:11.185Z"
   },
   {
    "duration": 49,
    "start_time": "2022-02-26T16:25:11.208Z"
   },
   {
    "duration": 20,
    "start_time": "2022-02-26T16:25:11.260Z"
   },
   {
    "duration": 24,
    "start_time": "2022-02-26T16:25:11.283Z"
   },
   {
    "duration": 450,
    "start_time": "2022-02-26T16:25:11.310Z"
   },
   {
    "duration": 291,
    "start_time": "2022-02-26T16:25:11.762Z"
   },
   {
    "duration": 302,
    "start_time": "2022-02-26T16:25:12.055Z"
   },
   {
    "duration": 321,
    "start_time": "2022-02-26T16:25:12.360Z"
   },
   {
    "duration": 312,
    "start_time": "2022-02-26T16:25:12.684Z"
   },
   {
    "duration": 22,
    "start_time": "2022-02-26T16:25:12.998Z"
   },
   {
    "duration": 341,
    "start_time": "2022-02-26T16:25:13.023Z"
   },
   {
    "duration": 342,
    "start_time": "2022-02-26T16:25:13.368Z"
   },
   {
    "duration": 22,
    "start_time": "2022-02-26T16:25:13.713Z"
   },
   {
    "duration": 319,
    "start_time": "2022-02-26T16:25:13.751Z"
   },
   {
    "duration": 298,
    "start_time": "2022-02-26T16:25:14.073Z"
   },
   {
    "duration": 22,
    "start_time": "2022-02-26T16:25:14.374Z"
   },
   {
    "duration": 9,
    "start_time": "2022-02-26T16:25:14.398Z"
   },
   {
    "duration": 3,
    "start_time": "2022-02-26T16:25:14.410Z"
   },
   {
    "duration": 3,
    "start_time": "2022-02-26T16:25:14.450Z"
   },
   {
    "duration": 10,
    "start_time": "2022-02-26T16:25:14.455Z"
   },
   {
    "duration": 9,
    "start_time": "2022-02-26T16:25:14.468Z"
   },
   {
    "duration": 6,
    "start_time": "2022-02-26T16:25:14.480Z"
   },
   {
    "duration": 104,
    "start_time": "2022-02-26T16:25:14.489Z"
   },
   {
    "duration": 10,
    "start_time": "2022-02-26T16:25:14.595Z"
   },
   {
    "duration": 3,
    "start_time": "2022-02-26T16:25:14.613Z"
   },
   {
    "duration": 32,
    "start_time": "2022-02-26T16:25:14.619Z"
   },
   {
    "duration": 10,
    "start_time": "2022-02-26T16:25:14.654Z"
   },
   {
    "duration": 19,
    "start_time": "2022-02-26T16:40:35.178Z"
   },
   {
    "duration": 420,
    "start_time": "2022-02-26T16:41:36.036Z"
   },
   {
    "duration": 7,
    "start_time": "2022-02-26T16:42:05.299Z"
   },
   {
    "duration": 6,
    "start_time": "2022-02-26T16:42:21.726Z"
   },
   {
    "duration": 8,
    "start_time": "2022-02-26T16:44:05.476Z"
   },
   {
    "duration": 9,
    "start_time": "2022-02-26T16:46:11.767Z"
   },
   {
    "duration": 4,
    "start_time": "2022-02-26T16:49:53.497Z"
   },
   {
    "duration": 1258,
    "start_time": "2022-02-26T16:51:05.505Z"
   },
   {
    "duration": 485,
    "start_time": "2022-02-26T16:51:06.766Z"
   },
   {
    "duration": 18,
    "start_time": "2022-02-26T16:51:07.255Z"
   },
   {
    "duration": 30,
    "start_time": "2022-02-26T16:51:07.277Z"
   },
   {
    "duration": 12,
    "start_time": "2022-02-26T16:51:07.309Z"
   },
   {
    "duration": 37,
    "start_time": "2022-02-26T16:51:07.353Z"
   },
   {
    "duration": 11,
    "start_time": "2022-02-26T16:51:07.393Z"
   },
   {
    "duration": 49,
    "start_time": "2022-02-26T16:51:07.408Z"
   },
   {
    "duration": 16,
    "start_time": "2022-02-26T16:51:07.461Z"
   },
   {
    "duration": 10,
    "start_time": "2022-02-26T16:51:07.480Z"
   },
   {
    "duration": 16,
    "start_time": "2022-02-26T16:51:07.492Z"
   },
   {
    "duration": 9,
    "start_time": "2022-02-26T16:51:07.550Z"
   },
   {
    "duration": 13,
    "start_time": "2022-02-26T16:51:07.561Z"
   },
   {
    "duration": 13,
    "start_time": "2022-02-26T16:51:07.576Z"
   },
   {
    "duration": 7,
    "start_time": "2022-02-26T16:51:07.591Z"
   },
   {
    "duration": 140,
    "start_time": "2022-02-26T16:51:07.600Z"
   },
   {
    "duration": 17,
    "start_time": "2022-02-26T16:51:07.742Z"
   },
   {
    "duration": 172,
    "start_time": "2022-02-26T16:51:07.761Z"
   },
   {
    "duration": 82,
    "start_time": "2022-02-26T16:51:07.938Z"
   },
   {
    "duration": 87,
    "start_time": "2022-02-26T16:51:08.023Z"
   },
   {
    "duration": 9,
    "start_time": "2022-02-26T16:51:08.112Z"
   },
   {
    "duration": 29,
    "start_time": "2022-02-26T16:51:08.123Z"
   },
   {
    "duration": 17,
    "start_time": "2022-02-26T16:51:08.159Z"
   },
   {
    "duration": 90,
    "start_time": "2022-02-26T16:51:08.181Z"
   },
   {
    "duration": 37,
    "start_time": "2022-02-26T16:51:08.273Z"
   },
   {
    "duration": 10,
    "start_time": "2022-02-26T16:51:08.313Z"
   },
   {
    "duration": 51,
    "start_time": "2022-02-26T16:51:08.326Z"
   },
   {
    "duration": 12,
    "start_time": "2022-02-26T16:51:08.379Z"
   },
   {
    "duration": 35,
    "start_time": "2022-02-26T16:51:08.393Z"
   },
   {
    "duration": 23,
    "start_time": "2022-02-26T16:51:08.430Z"
   },
   {
    "duration": 11,
    "start_time": "2022-02-26T16:51:08.456Z"
   },
   {
    "duration": 15,
    "start_time": "2022-02-26T16:51:08.470Z"
   },
   {
    "duration": 13,
    "start_time": "2022-02-26T16:51:08.488Z"
   },
   {
    "duration": 55,
    "start_time": "2022-02-26T16:51:08.503Z"
   },
   {
    "duration": 25,
    "start_time": "2022-02-26T16:51:08.560Z"
   },
   {
    "duration": 23,
    "start_time": "2022-02-26T16:51:08.587Z"
   },
   {
    "duration": 19,
    "start_time": "2022-02-26T16:51:08.612Z"
   },
   {
    "duration": 18,
    "start_time": "2022-02-26T16:51:08.634Z"
   },
   {
    "duration": 10,
    "start_time": "2022-02-26T16:51:08.655Z"
   },
   {
    "duration": 11,
    "start_time": "2022-02-26T16:51:08.668Z"
   },
   {
    "duration": 8,
    "start_time": "2022-02-26T16:51:08.682Z"
   },
   {
    "duration": 12,
    "start_time": "2022-02-26T16:51:08.692Z"
   },
   {
    "duration": 46,
    "start_time": "2022-02-26T16:51:08.707Z"
   },
   {
    "duration": 345,
    "start_time": "2022-02-26T16:51:08.755Z"
   },
   {
    "duration": 19,
    "start_time": "2022-02-26T16:51:09.102Z"
   },
   {
    "duration": 8,
    "start_time": "2022-02-26T16:51:09.123Z"
   },
   {
    "duration": 20,
    "start_time": "2022-02-26T16:51:09.151Z"
   },
   {
    "duration": 21,
    "start_time": "2022-02-26T16:51:09.173Z"
   },
   {
    "duration": 439,
    "start_time": "2022-02-26T16:51:09.196Z"
   },
   {
    "duration": 293,
    "start_time": "2022-02-26T16:51:09.637Z"
   },
   {
    "duration": 306,
    "start_time": "2022-02-26T16:51:09.933Z"
   },
   {
    "duration": 325,
    "start_time": "2022-02-26T16:51:10.242Z"
   },
   {
    "duration": 306,
    "start_time": "2022-02-26T16:51:10.570Z"
   },
   {
    "duration": 22,
    "start_time": "2022-02-26T16:51:10.878Z"
   },
   {
    "duration": 329,
    "start_time": "2022-02-26T16:51:10.902Z"
   },
   {
    "duration": 310,
    "start_time": "2022-02-26T16:51:11.234Z"
   },
   {
    "duration": 26,
    "start_time": "2022-02-26T16:51:11.551Z"
   },
   {
    "duration": 317,
    "start_time": "2022-02-26T16:51:11.580Z"
   },
   {
    "duration": 300,
    "start_time": "2022-02-26T16:51:11.899Z"
   },
   {
    "duration": 21,
    "start_time": "2022-02-26T16:51:12.201Z"
   },
   {
    "duration": 26,
    "start_time": "2022-02-26T16:51:12.225Z"
   },
   {
    "duration": 3,
    "start_time": "2022-02-26T16:51:12.254Z"
   },
   {
    "duration": 7,
    "start_time": "2022-02-26T16:51:12.259Z"
   },
   {
    "duration": 5,
    "start_time": "2022-02-26T16:51:12.268Z"
   },
   {
    "duration": 8,
    "start_time": "2022-02-26T16:51:12.276Z"
   },
   {
    "duration": 7,
    "start_time": "2022-02-26T16:51:12.286Z"
   },
   {
    "duration": 119,
    "start_time": "2022-02-26T16:51:12.295Z"
   },
   {
    "duration": 8,
    "start_time": "2022-02-26T16:51:12.421Z"
   },
   {
    "duration": 20,
    "start_time": "2022-02-26T16:51:12.431Z"
   },
   {
    "duration": 4,
    "start_time": "2022-02-26T16:51:12.453Z"
   },
   {
    "duration": 9,
    "start_time": "2022-02-26T16:51:12.459Z"
   },
   {
    "duration": 280,
    "start_time": "2022-02-26T16:56:58.434Z"
   },
   {
    "duration": 304,
    "start_time": "2022-02-26T16:57:08.663Z"
   },
   {
    "duration": 352,
    "start_time": "2022-02-26T16:57:19.489Z"
   },
   {
    "duration": 348,
    "start_time": "2022-02-26T16:57:42.203Z"
   },
   {
    "duration": 336,
    "start_time": "2022-02-26T16:58:01.337Z"
   },
   {
    "duration": 29,
    "start_time": "2022-02-26T17:05:12.020Z"
   },
   {
    "duration": 5,
    "start_time": "2022-02-26T17:13:53.517Z"
   },
   {
    "duration": 8,
    "start_time": "2022-02-26T17:14:19.439Z"
   },
   {
    "duration": 5,
    "start_time": "2022-02-26T17:16:55.453Z"
   },
   {
    "duration": 10,
    "start_time": "2022-02-26T17:16:56.520Z"
   },
   {
    "duration": 8,
    "start_time": "2022-02-26T17:19:45.432Z"
   },
   {
    "duration": 3,
    "start_time": "2022-02-26T17:19:47.152Z"
   },
   {
    "duration": 327,
    "start_time": "2022-02-26T17:29:10.039Z"
   },
   {
    "duration": 7,
    "start_time": "2022-02-26T17:29:16.825Z"
   },
   {
    "duration": 5,
    "start_time": "2022-02-26T17:30:07.328Z"
   },
   {
    "duration": 8,
    "start_time": "2022-02-26T17:30:08.394Z"
   },
   {
    "duration": 38,
    "start_time": "2022-02-26T17:42:36.229Z"
   },
   {
    "duration": 4930,
    "start_time": "2022-02-26T17:43:28.019Z"
   },
   {
    "duration": 4904,
    "start_time": "2022-02-26T17:44:02.812Z"
   },
   {
    "duration": 204,
    "start_time": "2022-02-26T17:45:24.757Z"
   },
   {
    "duration": 205,
    "start_time": "2022-02-26T17:45:33.236Z"
   },
   {
    "duration": 243,
    "start_time": "2022-02-26T17:45:43.723Z"
   },
   {
    "duration": 26,
    "start_time": "2022-02-26T17:45:55.424Z"
   },
   {
    "duration": 24,
    "start_time": "2022-02-26T17:46:22.557Z"
   },
   {
    "duration": 8,
    "start_time": "2022-02-26T17:48:30.833Z"
   },
   {
    "duration": 224,
    "start_time": "2022-02-26T17:48:57.525Z"
   },
   {
    "duration": 12,
    "start_time": "2022-02-26T17:49:03.381Z"
   },
   {
    "duration": 1305,
    "start_time": "2022-02-26T17:56:24.301Z"
   },
   {
    "duration": 494,
    "start_time": "2022-02-26T17:56:25.608Z"
   },
   {
    "duration": 17,
    "start_time": "2022-02-26T17:56:26.106Z"
   },
   {
    "duration": 39,
    "start_time": "2022-02-26T17:56:26.126Z"
   },
   {
    "duration": 12,
    "start_time": "2022-02-26T17:56:26.168Z"
   },
   {
    "duration": 25,
    "start_time": "2022-02-26T17:56:26.183Z"
   },
   {
    "duration": 46,
    "start_time": "2022-02-26T17:56:26.211Z"
   },
   {
    "duration": 29,
    "start_time": "2022-02-26T17:56:26.263Z"
   },
   {
    "duration": 16,
    "start_time": "2022-02-26T17:56:26.295Z"
   },
   {
    "duration": 39,
    "start_time": "2022-02-26T17:56:26.314Z"
   },
   {
    "duration": 17,
    "start_time": "2022-02-26T17:56:26.356Z"
   },
   {
    "duration": 10,
    "start_time": "2022-02-26T17:56:26.377Z"
   },
   {
    "duration": 14,
    "start_time": "2022-02-26T17:56:26.390Z"
   },
   {
    "duration": 15,
    "start_time": "2022-02-26T17:56:26.452Z"
   },
   {
    "duration": 8,
    "start_time": "2022-02-26T17:56:26.470Z"
   },
   {
    "duration": 132,
    "start_time": "2022-02-26T17:56:26.481Z"
   },
   {
    "duration": 12,
    "start_time": "2022-02-26T17:56:26.615Z"
   },
   {
    "duration": 143,
    "start_time": "2022-02-26T17:56:26.630Z"
   },
   {
    "duration": 75,
    "start_time": "2022-02-26T17:56:26.776Z"
   },
   {
    "duration": 53,
    "start_time": "2022-02-26T17:56:26.853Z"
   },
   {
    "duration": 7,
    "start_time": "2022-02-26T17:56:26.909Z"
   },
   {
    "duration": 35,
    "start_time": "2022-02-26T17:56:26.918Z"
   },
   {
    "duration": 11,
    "start_time": "2022-02-26T17:56:26.959Z"
   },
   {
    "duration": 92,
    "start_time": "2022-02-26T17:56:26.974Z"
   },
   {
    "duration": 40,
    "start_time": "2022-02-26T17:56:27.068Z"
   },
   {
    "duration": 10,
    "start_time": "2022-02-26T17:56:27.111Z"
   },
   {
    "duration": 49,
    "start_time": "2022-02-26T17:56:27.124Z"
   },
   {
    "duration": 9,
    "start_time": "2022-02-26T17:56:27.176Z"
   },
   {
    "duration": 25,
    "start_time": "2022-02-26T17:56:27.187Z"
   },
   {
    "duration": 39,
    "start_time": "2022-02-26T17:56:27.215Z"
   },
   {
    "duration": 16,
    "start_time": "2022-02-26T17:56:27.256Z"
   },
   {
    "duration": 22,
    "start_time": "2022-02-26T17:56:27.275Z"
   },
   {
    "duration": 18,
    "start_time": "2022-02-26T17:56:27.300Z"
   },
   {
    "duration": 38,
    "start_time": "2022-02-26T17:56:27.321Z"
   },
   {
    "duration": 30,
    "start_time": "2022-02-26T17:56:27.361Z"
   },
   {
    "duration": 17,
    "start_time": "2022-02-26T17:56:27.394Z"
   },
   {
    "duration": 39,
    "start_time": "2022-02-26T17:56:27.414Z"
   },
   {
    "duration": 11,
    "start_time": "2022-02-26T17:56:27.456Z"
   },
   {
    "duration": 8,
    "start_time": "2022-02-26T17:56:27.470Z"
   },
   {
    "duration": 13,
    "start_time": "2022-02-26T17:56:27.481Z"
   },
   {
    "duration": 12,
    "start_time": "2022-02-26T17:56:27.498Z"
   },
   {
    "duration": 11,
    "start_time": "2022-02-26T17:56:27.551Z"
   },
   {
    "duration": 6,
    "start_time": "2022-02-26T17:56:27.564Z"
   },
   {
    "duration": 589,
    "start_time": "2022-02-26T17:56:27.573Z"
   },
   {
    "duration": 29,
    "start_time": "2022-02-26T17:56:28.165Z"
   },
   {
    "duration": 8,
    "start_time": "2022-02-26T17:56:28.197Z"
   },
   {
    "duration": 49,
    "start_time": "2022-02-26T17:56:28.208Z"
   },
   {
    "duration": 27,
    "start_time": "2022-02-26T17:56:28.259Z"
   },
   {
    "duration": 408,
    "start_time": "2022-02-26T17:56:28.289Z"
   },
   {
    "duration": 293,
    "start_time": "2022-02-26T17:56:28.701Z"
   },
   {
    "duration": 310,
    "start_time": "2022-02-26T17:56:28.996Z"
   },
   {
    "duration": 314,
    "start_time": "2022-02-26T17:56:29.309Z"
   },
   {
    "duration": 322,
    "start_time": "2022-02-26T17:56:29.625Z"
   },
   {
    "duration": 24,
    "start_time": "2022-02-26T17:56:29.951Z"
   },
   {
    "duration": 339,
    "start_time": "2022-02-26T17:56:29.977Z"
   },
   {
    "duration": 330,
    "start_time": "2022-02-26T17:56:30.319Z"
   },
   {
    "duration": 24,
    "start_time": "2022-02-26T17:56:30.652Z"
   },
   {
    "duration": 343,
    "start_time": "2022-02-26T17:56:30.679Z"
   },
   {
    "duration": 317,
    "start_time": "2022-02-26T17:56:31.024Z"
   },
   {
    "duration": 20,
    "start_time": "2022-02-26T17:56:31.352Z"
   },
   {
    "duration": 8,
    "start_time": "2022-02-26T17:56:31.375Z"
   },
   {
    "duration": 7,
    "start_time": "2022-02-26T17:56:31.386Z"
   },
   {
    "duration": 11,
    "start_time": "2022-02-26T17:56:31.396Z"
   },
   {
    "duration": 11,
    "start_time": "2022-02-26T17:56:31.409Z"
   },
   {
    "duration": 34,
    "start_time": "2022-02-26T17:56:31.422Z"
   },
   {
    "duration": 7,
    "start_time": "2022-02-26T17:56:31.459Z"
   },
   {
    "duration": 99,
    "start_time": "2022-02-26T17:56:31.469Z"
   },
   {
    "duration": 6,
    "start_time": "2022-02-26T17:56:31.575Z"
   },
   {
    "duration": 6,
    "start_time": "2022-02-26T17:56:31.584Z"
   },
   {
    "duration": 10,
    "start_time": "2022-02-26T17:56:31.592Z"
   },
   {
    "duration": 51,
    "start_time": "2022-02-26T17:56:31.604Z"
   },
   {
    "duration": 4,
    "start_time": "2022-02-26T17:56:31.658Z"
   },
   {
    "duration": 7,
    "start_time": "2022-02-26T17:56:31.664Z"
   },
   {
    "duration": 11,
    "start_time": "2022-02-26T17:56:31.673Z"
   },
   {
    "duration": 1379,
    "start_time": "2022-02-26T17:59:36.521Z"
   },
   {
    "duration": 466,
    "start_time": "2022-02-26T17:59:37.902Z"
   },
   {
    "duration": 15,
    "start_time": "2022-02-26T17:59:38.371Z"
   },
   {
    "duration": 28,
    "start_time": "2022-02-26T17:59:38.389Z"
   },
   {
    "duration": 12,
    "start_time": "2022-02-26T17:59:38.420Z"
   },
   {
    "duration": 47,
    "start_time": "2022-02-26T17:59:38.436Z"
   },
   {
    "duration": 13,
    "start_time": "2022-02-26T17:59:38.486Z"
   },
   {
    "duration": 19,
    "start_time": "2022-02-26T17:59:38.503Z"
   },
   {
    "duration": 12,
    "start_time": "2022-02-26T17:59:38.553Z"
   },
   {
    "duration": 9,
    "start_time": "2022-02-26T17:59:38.568Z"
   },
   {
    "duration": 14,
    "start_time": "2022-02-26T17:59:38.580Z"
   },
   {
    "duration": 59,
    "start_time": "2022-02-26T17:59:38.596Z"
   },
   {
    "duration": 12,
    "start_time": "2022-02-26T17:59:38.657Z"
   },
   {
    "duration": 12,
    "start_time": "2022-02-26T17:59:38.672Z"
   },
   {
    "duration": 6,
    "start_time": "2022-02-26T17:59:38.686Z"
   },
   {
    "duration": 135,
    "start_time": "2022-02-26T17:59:38.694Z"
   },
   {
    "duration": 26,
    "start_time": "2022-02-26T17:59:38.831Z"
   },
   {
    "duration": 139,
    "start_time": "2022-02-26T17:59:38.860Z"
   },
   {
    "duration": 75,
    "start_time": "2022-02-26T17:59:39.001Z"
   },
   {
    "duration": 54,
    "start_time": "2022-02-26T17:59:39.078Z"
   },
   {
    "duration": 22,
    "start_time": "2022-02-26T17:59:39.134Z"
   },
   {
    "duration": 10,
    "start_time": "2022-02-26T17:59:39.159Z"
   },
   {
    "duration": 15,
    "start_time": "2022-02-26T17:59:39.179Z"
   },
   {
    "duration": 107,
    "start_time": "2022-02-26T17:59:39.197Z"
   },
   {
    "duration": 46,
    "start_time": "2022-02-26T17:59:39.306Z"
   },
   {
    "duration": 10,
    "start_time": "2022-02-26T17:59:39.355Z"
   },
   {
    "duration": 25,
    "start_time": "2022-02-26T17:59:39.367Z"
   },
   {
    "duration": 9,
    "start_time": "2022-02-26T17:59:39.395Z"
   },
   {
    "duration": 62,
    "start_time": "2022-02-26T17:59:39.406Z"
   },
   {
    "duration": 9,
    "start_time": "2022-02-26T17:59:39.471Z"
   },
   {
    "duration": 14,
    "start_time": "2022-02-26T17:59:39.483Z"
   },
   {
    "duration": 14,
    "start_time": "2022-02-26T17:59:39.499Z"
   },
   {
    "duration": 46,
    "start_time": "2022-02-26T17:59:39.515Z"
   },
   {
    "duration": 11,
    "start_time": "2022-02-26T17:59:39.563Z"
   },
   {
    "duration": 22,
    "start_time": "2022-02-26T17:59:39.576Z"
   },
   {
    "duration": 11,
    "start_time": "2022-02-26T17:59:39.600Z"
   },
   {
    "duration": 46,
    "start_time": "2022-02-26T17:59:39.613Z"
   },
   {
    "duration": 12,
    "start_time": "2022-02-26T17:59:39.661Z"
   },
   {
    "duration": 8,
    "start_time": "2022-02-26T17:59:39.676Z"
   },
   {
    "duration": 12,
    "start_time": "2022-02-26T17:59:39.687Z"
   },
   {
    "duration": 51,
    "start_time": "2022-02-26T17:59:39.702Z"
   },
   {
    "duration": 11,
    "start_time": "2022-02-26T17:59:39.756Z"
   },
   {
    "duration": 6,
    "start_time": "2022-02-26T17:59:39.769Z"
   },
   {
    "duration": 357,
    "start_time": "2022-02-26T17:59:39.777Z"
   },
   {
    "duration": 27,
    "start_time": "2022-02-26T17:59:40.137Z"
   },
   {
    "duration": 7,
    "start_time": "2022-02-26T17:59:40.166Z"
   },
   {
    "duration": 21,
    "start_time": "2022-02-26T17:59:40.176Z"
   },
   {
    "duration": 52,
    "start_time": "2022-02-26T17:59:40.200Z"
   },
   {
    "duration": 400,
    "start_time": "2022-02-26T17:59:40.255Z"
   },
   {
    "duration": 294,
    "start_time": "2022-02-26T17:59:40.657Z"
   },
   {
    "duration": 300,
    "start_time": "2022-02-26T17:59:40.954Z"
   },
   {
    "duration": 470,
    "start_time": "2022-02-26T17:59:41.257Z"
   },
   {
    "duration": 473,
    "start_time": "2022-02-26T17:59:41.730Z"
   },
   {
    "duration": 54,
    "start_time": "2022-02-26T17:59:42.206Z"
   },
   {
    "duration": 477,
    "start_time": "2022-02-26T17:59:42.263Z"
   },
   {
    "duration": 314,
    "start_time": "2022-02-26T17:59:42.743Z"
   },
   {
    "duration": 22,
    "start_time": "2022-02-26T17:59:43.060Z"
   },
   {
    "duration": 472,
    "start_time": "2022-02-26T17:59:43.085Z"
   },
   {
    "duration": 296,
    "start_time": "2022-02-26T17:59:43.559Z"
   },
   {
    "duration": 21,
    "start_time": "2022-02-26T17:59:43.858Z"
   },
   {
    "duration": 9,
    "start_time": "2022-02-26T17:59:43.881Z"
   },
   {
    "duration": 7,
    "start_time": "2022-02-26T17:59:43.892Z"
   },
   {
    "duration": 7,
    "start_time": "2022-02-26T17:59:43.902Z"
   },
   {
    "duration": 3,
    "start_time": "2022-02-26T17:59:43.951Z"
   },
   {
    "duration": 5,
    "start_time": "2022-02-26T17:59:43.957Z"
   },
   {
    "duration": 6,
    "start_time": "2022-02-26T17:59:43.964Z"
   },
   {
    "duration": 103,
    "start_time": "2022-02-26T17:59:43.972Z"
   },
   {
    "duration": 5,
    "start_time": "2022-02-26T17:59:44.083Z"
   },
   {
    "duration": 6,
    "start_time": "2022-02-26T17:59:44.091Z"
   },
   {
    "duration": 10,
    "start_time": "2022-02-26T17:59:44.100Z"
   },
   {
    "duration": 43,
    "start_time": "2022-02-26T17:59:44.113Z"
   },
   {
    "duration": 4,
    "start_time": "2022-02-26T17:59:44.158Z"
   },
   {
    "duration": 7,
    "start_time": "2022-02-26T17:59:44.164Z"
   },
   {
    "duration": 12,
    "start_time": "2022-02-26T17:59:44.173Z"
   },
   {
    "duration": 1386,
    "start_time": "2022-02-26T18:01:21.314Z"
   },
   {
    "duration": 463,
    "start_time": "2022-02-26T18:01:22.703Z"
   },
   {
    "duration": 18,
    "start_time": "2022-02-26T18:01:23.169Z"
   },
   {
    "duration": 28,
    "start_time": "2022-02-26T18:01:23.190Z"
   },
   {
    "duration": 38,
    "start_time": "2022-02-26T18:01:23.221Z"
   },
   {
    "duration": 24,
    "start_time": "2022-02-26T18:01:23.261Z"
   },
   {
    "duration": 11,
    "start_time": "2022-02-26T18:01:23.287Z"
   },
   {
    "duration": 51,
    "start_time": "2022-02-26T18:01:23.304Z"
   },
   {
    "duration": 11,
    "start_time": "2022-02-26T18:01:23.358Z"
   },
   {
    "duration": 9,
    "start_time": "2022-02-26T18:01:23.371Z"
   },
   {
    "duration": 15,
    "start_time": "2022-02-26T18:01:23.383Z"
   },
   {
    "duration": 9,
    "start_time": "2022-02-26T18:01:23.401Z"
   },
   {
    "duration": 13,
    "start_time": "2022-02-26T18:01:23.452Z"
   },
   {
    "duration": 14,
    "start_time": "2022-02-26T18:01:23.467Z"
   },
   {
    "duration": 7,
    "start_time": "2022-02-26T18:01:23.483Z"
   },
   {
    "duration": 125,
    "start_time": "2022-02-26T18:01:23.492Z"
   },
   {
    "duration": 9,
    "start_time": "2022-02-26T18:01:23.619Z"
   },
   {
    "duration": 138,
    "start_time": "2022-02-26T18:01:23.630Z"
   },
   {
    "duration": 57,
    "start_time": "2022-02-26T18:01:23.770Z"
   },
   {
    "duration": 66,
    "start_time": "2022-02-26T18:01:23.830Z"
   },
   {
    "duration": 8,
    "start_time": "2022-02-26T18:01:23.898Z"
   },
   {
    "duration": 8,
    "start_time": "2022-02-26T18:01:23.908Z"
   },
   {
    "duration": 12,
    "start_time": "2022-02-26T18:01:23.950Z"
   },
   {
    "duration": 87,
    "start_time": "2022-02-26T18:01:23.968Z"
   },
   {
    "duration": 37,
    "start_time": "2022-02-26T18:01:24.058Z"
   },
   {
    "duration": 9,
    "start_time": "2022-02-26T18:01:24.098Z"
   },
   {
    "duration": 55,
    "start_time": "2022-02-26T18:01:24.109Z"
   },
   {
    "duration": 9,
    "start_time": "2022-02-26T18:01:24.166Z"
   },
   {
    "duration": 26,
    "start_time": "2022-02-26T18:01:24.177Z"
   },
   {
    "duration": 8,
    "start_time": "2022-02-26T18:01:24.206Z"
   },
   {
    "duration": 41,
    "start_time": "2022-02-26T18:01:24.216Z"
   },
   {
    "duration": 13,
    "start_time": "2022-02-26T18:01:24.259Z"
   },
   {
    "duration": 13,
    "start_time": "2022-02-26T18:01:24.274Z"
   },
   {
    "duration": 10,
    "start_time": "2022-02-26T18:01:24.289Z"
   },
   {
    "duration": 57,
    "start_time": "2022-02-26T18:01:24.301Z"
   },
   {
    "duration": 12,
    "start_time": "2022-02-26T18:01:24.360Z"
   },
   {
    "duration": 8,
    "start_time": "2022-02-26T18:01:24.374Z"
   },
   {
    "duration": 9,
    "start_time": "2022-02-26T18:01:24.384Z"
   },
   {
    "duration": 7,
    "start_time": "2022-02-26T18:01:24.396Z"
   },
   {
    "duration": 8,
    "start_time": "2022-02-26T18:01:24.406Z"
   },
   {
    "duration": 7,
    "start_time": "2022-02-26T18:01:24.451Z"
   },
   {
    "duration": 13,
    "start_time": "2022-02-26T18:01:24.460Z"
   },
   {
    "duration": 6,
    "start_time": "2022-02-26T18:01:24.475Z"
   },
   {
    "duration": 350,
    "start_time": "2022-02-26T18:01:24.483Z"
   },
   {
    "duration": 25,
    "start_time": "2022-02-26T18:01:24.836Z"
   },
   {
    "duration": 9,
    "start_time": "2022-02-26T18:01:24.864Z"
   },
   {
    "duration": 20,
    "start_time": "2022-02-26T18:01:24.875Z"
   },
   {
    "duration": 56,
    "start_time": "2022-02-26T18:01:24.897Z"
   },
   {
    "duration": 399,
    "start_time": "2022-02-26T18:01:24.955Z"
   },
   {
    "duration": 275,
    "start_time": "2022-02-26T18:01:25.356Z"
   },
   {
    "duration": 289,
    "start_time": "2022-02-26T18:01:25.634Z"
   },
   {
    "duration": 304,
    "start_time": "2022-02-26T18:01:25.926Z"
   },
   {
    "duration": 324,
    "start_time": "2022-02-26T18:01:26.232Z"
   },
   {
    "duration": 26,
    "start_time": "2022-02-26T18:01:26.558Z"
   },
   {
    "duration": 330,
    "start_time": "2022-02-26T18:01:26.586Z"
   },
   {
    "duration": 314,
    "start_time": "2022-02-26T18:01:26.918Z"
   },
   {
    "duration": 32,
    "start_time": "2022-02-26T18:01:27.235Z"
   },
   {
    "duration": 305,
    "start_time": "2022-02-26T18:01:27.269Z"
   },
   {
    "duration": 301,
    "start_time": "2022-02-26T18:01:27.577Z"
   },
   {
    "duration": 22,
    "start_time": "2022-02-26T18:01:27.880Z"
   },
   {
    "duration": 10,
    "start_time": "2022-02-26T18:01:27.904Z"
   },
   {
    "duration": 38,
    "start_time": "2022-02-26T18:01:27.916Z"
   },
   {
    "duration": 6,
    "start_time": "2022-02-26T18:01:27.956Z"
   },
   {
    "duration": 6,
    "start_time": "2022-02-26T18:01:27.964Z"
   },
   {
    "duration": 10,
    "start_time": "2022-02-26T18:01:27.972Z"
   },
   {
    "duration": 6,
    "start_time": "2022-02-26T18:01:27.984Z"
   },
   {
    "duration": 98,
    "start_time": "2022-02-26T18:01:27.992Z"
   },
   {
    "duration": 6,
    "start_time": "2022-02-26T18:01:28.097Z"
   },
   {
    "duration": 6,
    "start_time": "2022-02-26T18:01:28.106Z"
   },
   {
    "duration": 39,
    "start_time": "2022-02-26T18:01:28.114Z"
   },
   {
    "duration": 6,
    "start_time": "2022-02-26T18:01:28.155Z"
   },
   {
    "duration": 7,
    "start_time": "2022-02-26T18:01:28.164Z"
   },
   {
    "duration": 8,
    "start_time": "2022-02-26T18:01:28.174Z"
   },
   {
    "duration": 12,
    "start_time": "2022-02-26T18:01:28.184Z"
   },
   {
    "duration": 1351,
    "start_time": "2022-02-26T18:05:34.458Z"
   },
   {
    "duration": 456,
    "start_time": "2022-02-26T18:05:35.812Z"
   },
   {
    "duration": 16,
    "start_time": "2022-02-26T18:05:36.271Z"
   },
   {
    "duration": 27,
    "start_time": "2022-02-26T18:05:36.290Z"
   },
   {
    "duration": 31,
    "start_time": "2022-02-26T18:05:36.320Z"
   },
   {
    "duration": 21,
    "start_time": "2022-02-26T18:05:36.353Z"
   },
   {
    "duration": 10,
    "start_time": "2022-02-26T18:05:36.376Z"
   },
   {
    "duration": 23,
    "start_time": "2022-02-26T18:05:36.389Z"
   },
   {
    "duration": 40,
    "start_time": "2022-02-26T18:05:36.415Z"
   },
   {
    "duration": 9,
    "start_time": "2022-02-26T18:05:36.458Z"
   },
   {
    "duration": 18,
    "start_time": "2022-02-26T18:05:36.469Z"
   },
   {
    "duration": 10,
    "start_time": "2022-02-26T18:05:36.490Z"
   },
   {
    "duration": 51,
    "start_time": "2022-02-26T18:05:36.502Z"
   },
   {
    "duration": 12,
    "start_time": "2022-02-26T18:05:36.555Z"
   },
   {
    "duration": 7,
    "start_time": "2022-02-26T18:05:36.569Z"
   },
   {
    "duration": 120,
    "start_time": "2022-02-26T18:05:36.579Z"
   },
   {
    "duration": 10,
    "start_time": "2022-02-26T18:05:36.701Z"
   },
   {
    "duration": 146,
    "start_time": "2022-02-26T18:05:36.713Z"
   },
   {
    "duration": 53,
    "start_time": "2022-02-26T18:05:36.861Z"
   },
   {
    "duration": 75,
    "start_time": "2022-02-26T18:05:36.916Z"
   },
   {
    "duration": 8,
    "start_time": "2022-02-26T18:05:36.993Z"
   },
   {
    "duration": 7,
    "start_time": "2022-02-26T18:05:37.004Z"
   },
   {
    "duration": 39,
    "start_time": "2022-02-26T18:05:37.017Z"
   },
   {
    "duration": 66,
    "start_time": "2022-02-26T18:05:37.060Z"
   },
   {
    "duration": 57,
    "start_time": "2022-02-26T18:05:37.129Z"
   },
   {
    "duration": 10,
    "start_time": "2022-02-26T18:05:37.189Z"
   },
   {
    "duration": 50,
    "start_time": "2022-02-26T18:05:37.202Z"
   },
   {
    "duration": 10,
    "start_time": "2022-02-26T18:05:37.255Z"
   },
   {
    "duration": 26,
    "start_time": "2022-02-26T18:05:37.268Z"
   },
   {
    "duration": 12,
    "start_time": "2022-02-26T18:05:37.296Z"
   },
   {
    "duration": 14,
    "start_time": "2022-02-26T18:05:37.352Z"
   },
   {
    "duration": 14,
    "start_time": "2022-02-26T18:05:37.368Z"
   },
   {
    "duration": 15,
    "start_time": "2022-02-26T18:05:37.384Z"
   },
   {
    "duration": 50,
    "start_time": "2022-02-26T18:05:37.401Z"
   },
   {
    "duration": 20,
    "start_time": "2022-02-26T18:05:37.454Z"
   },
   {
    "duration": 10,
    "start_time": "2022-02-26T18:05:37.477Z"
   },
   {
    "duration": 8,
    "start_time": "2022-02-26T18:05:37.489Z"
   },
   {
    "duration": 15,
    "start_time": "2022-02-26T18:05:37.499Z"
   },
   {
    "duration": 39,
    "start_time": "2022-02-26T18:05:37.516Z"
   },
   {
    "duration": 8,
    "start_time": "2022-02-26T18:05:37.557Z"
   },
   {
    "duration": 7,
    "start_time": "2022-02-26T18:05:37.567Z"
   },
   {
    "duration": 12,
    "start_time": "2022-02-26T18:05:37.576Z"
   },
   {
    "duration": 6,
    "start_time": "2022-02-26T18:05:37.590Z"
   },
   {
    "duration": 359,
    "start_time": "2022-02-26T18:05:37.598Z"
   },
   {
    "duration": 17,
    "start_time": "2022-02-26T18:05:37.959Z"
   },
   {
    "duration": 9,
    "start_time": "2022-02-26T18:05:37.979Z"
   },
   {
    "duration": 18,
    "start_time": "2022-02-26T18:05:37.990Z"
   },
   {
    "duration": 54,
    "start_time": "2022-02-26T18:05:38.010Z"
   },
   {
    "duration": 391,
    "start_time": "2022-02-26T18:05:38.067Z"
   },
   {
    "duration": 292,
    "start_time": "2022-02-26T18:05:38.461Z"
   },
   {
    "duration": 327,
    "start_time": "2022-02-26T18:05:38.756Z"
   },
   {
    "duration": 306,
    "start_time": "2022-02-26T18:05:39.085Z"
   },
   {
    "duration": 308,
    "start_time": "2022-02-26T18:05:39.393Z"
   },
   {
    "duration": 26,
    "start_time": "2022-02-26T18:05:39.704Z"
   },
   {
    "duration": 325,
    "start_time": "2022-02-26T18:05:39.734Z"
   },
   {
    "duration": 304,
    "start_time": "2022-02-26T18:05:40.061Z"
   },
   {
    "duration": 22,
    "start_time": "2022-02-26T18:05:40.367Z"
   },
   {
    "duration": 326,
    "start_time": "2022-02-26T18:05:40.392Z"
   },
   {
    "duration": 305,
    "start_time": "2022-02-26T18:05:40.721Z"
   },
   {
    "duration": 34,
    "start_time": "2022-02-26T18:05:41.029Z"
   },
   {
    "duration": 10,
    "start_time": "2022-02-26T18:05:41.065Z"
   },
   {
    "duration": 6,
    "start_time": "2022-02-26T18:05:41.077Z"
   },
   {
    "duration": 6,
    "start_time": "2022-02-26T18:05:41.086Z"
   },
   {
    "duration": 3,
    "start_time": "2022-02-26T18:05:41.095Z"
   },
   {
    "duration": 5,
    "start_time": "2022-02-26T18:05:41.100Z"
   },
   {
    "duration": 5,
    "start_time": "2022-02-26T18:05:41.151Z"
   },
   {
    "duration": 70,
    "start_time": "2022-02-26T18:05:41.158Z"
   },
   {
    "duration": 6,
    "start_time": "2022-02-26T18:05:41.253Z"
   },
   {
    "duration": 6,
    "start_time": "2022-02-26T18:05:41.262Z"
   },
   {
    "duration": 8,
    "start_time": "2022-02-26T18:05:41.271Z"
   },
   {
    "duration": 7,
    "start_time": "2022-02-26T18:05:41.281Z"
   },
   {
    "duration": 4,
    "start_time": "2022-02-26T18:05:41.290Z"
   },
   {
    "duration": 5,
    "start_time": "2022-02-26T18:05:41.297Z"
   },
   {
    "duration": 9,
    "start_time": "2022-02-26T18:05:41.352Z"
   },
   {
    "duration": 63,
    "start_time": "2022-03-07T11:00:54.511Z"
   },
   {
    "duration": 53,
    "start_time": "2022-03-07T11:03:40.425Z"
   },
   {
    "duration": 61,
    "start_time": "2022-03-07T11:12:49.237Z"
   },
   {
    "duration": 52,
    "start_time": "2022-03-07T11:14:31.589Z"
   },
   {
    "duration": 52,
    "start_time": "2022-03-07T11:15:09.798Z"
   },
   {
    "duration": 162,
    "start_time": "2022-03-07T11:23:19.053Z"
   },
   {
    "duration": 54,
    "start_time": "2022-03-07T11:24:18.578Z"
   },
   {
    "duration": 65,
    "start_time": "2022-03-07T11:36:42.841Z"
   },
   {
    "duration": 59,
    "start_time": "2022-03-07T11:39:13.810Z"
   },
   {
    "duration": 72,
    "start_time": "2022-03-07T11:40:53.038Z"
   },
   {
    "duration": 56,
    "start_time": "2022-03-07T11:43:41.315Z"
   },
   {
    "duration": 204,
    "start_time": "2022-03-07T11:47:36.757Z"
   },
   {
    "duration": 977,
    "start_time": "2022-03-07T11:47:43.181Z"
   },
   {
    "duration": 359,
    "start_time": "2022-03-07T11:47:44.160Z"
   },
   {
    "duration": 10,
    "start_time": "2022-03-07T11:47:44.521Z"
   },
   {
    "duration": 23,
    "start_time": "2022-03-07T11:47:44.533Z"
   },
   {
    "duration": 7,
    "start_time": "2022-03-07T11:47:44.558Z"
   },
   {
    "duration": 18,
    "start_time": "2022-03-07T11:47:44.567Z"
   },
   {
    "duration": 7,
    "start_time": "2022-03-07T11:47:44.586Z"
   },
   {
    "duration": 18,
    "start_time": "2022-03-07T11:47:44.595Z"
   },
   {
    "duration": 24,
    "start_time": "2022-03-07T11:47:44.615Z"
   },
   {
    "duration": 10,
    "start_time": "2022-03-07T11:47:44.641Z"
   },
   {
    "duration": 14,
    "start_time": "2022-03-07T11:47:44.653Z"
   },
   {
    "duration": 8,
    "start_time": "2022-03-07T11:47:44.668Z"
   },
   {
    "duration": 13,
    "start_time": "2022-03-07T11:47:44.677Z"
   },
   {
    "duration": 9,
    "start_time": "2022-03-07T11:47:44.692Z"
   },
   {
    "duration": 8,
    "start_time": "2022-03-07T11:47:44.702Z"
   },
   {
    "duration": 85,
    "start_time": "2022-03-07T11:47:44.712Z"
   },
   {
    "duration": 6,
    "start_time": "2022-03-07T11:47:44.799Z"
   },
   {
    "duration": 112,
    "start_time": "2022-03-07T11:47:44.806Z"
   },
   {
    "duration": 44,
    "start_time": "2022-03-07T11:47:44.920Z"
   },
   {
    "duration": 42,
    "start_time": "2022-03-07T11:47:44.965Z"
   },
   {
    "duration": 6,
    "start_time": "2022-03-07T11:47:45.009Z"
   },
   {
    "duration": 17,
    "start_time": "2022-03-07T11:47:45.037Z"
   },
   {
    "duration": 14,
    "start_time": "2022-03-07T11:47:45.059Z"
   },
   {
    "duration": 63,
    "start_time": "2022-03-07T11:47:45.076Z"
   },
   {
    "duration": 27,
    "start_time": "2022-03-07T11:47:45.141Z"
   },
   {
    "duration": 7,
    "start_time": "2022-03-07T11:47:45.170Z"
   },
   {
    "duration": 22,
    "start_time": "2022-03-07T11:47:45.178Z"
   },
   {
    "duration": 6,
    "start_time": "2022-03-07T11:47:45.202Z"
   },
   {
    "duration": 19,
    "start_time": "2022-03-07T11:47:45.239Z"
   },
   {
    "duration": 7,
    "start_time": "2022-03-07T11:47:45.259Z"
   },
   {
    "duration": 14,
    "start_time": "2022-03-07T11:47:45.267Z"
   },
   {
    "duration": 8,
    "start_time": "2022-03-07T11:47:45.282Z"
   },
   {
    "duration": 9,
    "start_time": "2022-03-07T11:47:45.292Z"
   },
   {
    "duration": 35,
    "start_time": "2022-03-07T11:47:45.303Z"
   },
   {
    "duration": 15,
    "start_time": "2022-03-07T11:47:45.340Z"
   },
   {
    "duration": 8,
    "start_time": "2022-03-07T11:47:45.357Z"
   },
   {
    "duration": 5,
    "start_time": "2022-03-07T11:47:45.367Z"
   },
   {
    "duration": 7,
    "start_time": "2022-03-07T11:47:45.374Z"
   },
   {
    "duration": 7,
    "start_time": "2022-03-07T11:47:45.383Z"
   },
   {
    "duration": 6,
    "start_time": "2022-03-07T11:47:45.392Z"
   },
   {
    "duration": 39,
    "start_time": "2022-03-07T11:47:45.399Z"
   },
   {
    "duration": 7,
    "start_time": "2022-03-07T11:47:45.440Z"
   },
   {
    "duration": 6,
    "start_time": "2022-03-07T11:47:45.448Z"
   },
   {
    "duration": 202,
    "start_time": "2022-03-07T11:47:45.455Z"
   },
   {
    "duration": 12,
    "start_time": "2022-03-07T11:47:45.659Z"
   },
   {
    "duration": 9,
    "start_time": "2022-03-07T11:47:45.672Z"
   },
   {
    "duration": 13,
    "start_time": "2022-03-07T11:47:45.682Z"
   },
   {
    "duration": 16,
    "start_time": "2022-03-07T11:47:45.696Z"
   },
   {
    "duration": 270,
    "start_time": "2022-03-07T11:47:45.713Z"
   },
   {
    "duration": 182,
    "start_time": "2022-03-07T11:47:45.985Z"
   },
   {
    "duration": 189,
    "start_time": "2022-03-07T11:47:46.169Z"
   },
   {
    "duration": 202,
    "start_time": "2022-03-07T11:47:46.360Z"
   },
   {
    "duration": 220,
    "start_time": "2022-03-07T11:47:46.564Z"
   },
   {
    "duration": 18,
    "start_time": "2022-03-07T11:47:46.786Z"
   },
   {
    "duration": 224,
    "start_time": "2022-03-07T11:47:46.805Z"
   },
   {
    "duration": 201,
    "start_time": "2022-03-07T11:47:47.030Z"
   },
   {
    "duration": 14,
    "start_time": "2022-03-07T11:47:47.237Z"
   },
   {
    "duration": 210,
    "start_time": "2022-03-07T11:47:47.253Z"
   },
   {
    "duration": 213,
    "start_time": "2022-03-07T11:47:47.464Z"
   },
   {
    "duration": 16,
    "start_time": "2022-03-07T11:47:47.679Z"
   },
   {
    "duration": 7,
    "start_time": "2022-03-07T11:47:47.696Z"
   },
   {
    "duration": 6,
    "start_time": "2022-03-07T11:47:47.705Z"
   },
   {
    "duration": 27,
    "start_time": "2022-03-07T11:47:47.713Z"
   },
   {
    "duration": 2,
    "start_time": "2022-03-07T11:47:47.742Z"
   },
   {
    "duration": 4,
    "start_time": "2022-03-07T11:47:47.746Z"
   },
   {
    "duration": 7,
    "start_time": "2022-03-07T11:47:47.752Z"
   },
   {
    "duration": 86,
    "start_time": "2022-03-07T11:47:47.761Z"
   },
   {
    "duration": 5,
    "start_time": "2022-03-07T11:47:47.851Z"
   },
   {
    "duration": 6,
    "start_time": "2022-03-07T11:47:47.857Z"
   },
   {
    "duration": 11,
    "start_time": "2022-03-07T11:47:47.864Z"
   },
   {
    "duration": 5,
    "start_time": "2022-03-07T11:47:47.876Z"
   },
   {
    "duration": 6,
    "start_time": "2022-03-07T11:47:47.882Z"
   },
   {
    "duration": 6,
    "start_time": "2022-03-07T11:47:47.890Z"
   },
   {
    "duration": 8,
    "start_time": "2022-03-07T11:47:47.898Z"
   },
   {
    "duration": 105,
    "start_time": "2022-03-07T11:47:47.908Z"
   },
   {
    "duration": 3,
    "start_time": "2022-03-07T11:47:48.015Z"
   },
   {
    "duration": 277,
    "start_time": "2022-03-07T11:47:48.020Z"
   },
   {
    "duration": 171,
    "start_time": "2022-03-07T11:48:22.798Z"
   },
   {
    "duration": 1645,
    "start_time": "2022-03-07T11:48:29.991Z"
   },
   {
    "duration": 1549,
    "start_time": "2022-03-07T11:49:26.353Z"
   },
   {
    "duration": 1563,
    "start_time": "2022-03-07T11:49:48.841Z"
   },
   {
    "duration": 2373,
    "start_time": "2022-03-07T11:50:55.747Z"
   },
   {
    "duration": 2304,
    "start_time": "2022-03-07T11:51:06.940Z"
   },
   {
    "duration": 305,
    "start_time": "2022-03-07T11:56:35.626Z"
   },
   {
    "duration": 1062,
    "start_time": "2022-03-07T11:59:44.638Z"
   },
   {
    "duration": 377,
    "start_time": "2022-03-07T11:59:45.702Z"
   },
   {
    "duration": 10,
    "start_time": "2022-03-07T11:59:46.081Z"
   },
   {
    "duration": 23,
    "start_time": "2022-03-07T11:59:46.093Z"
   },
   {
    "duration": 8,
    "start_time": "2022-03-07T11:59:46.118Z"
   },
   {
    "duration": 22,
    "start_time": "2022-03-07T11:59:46.127Z"
   },
   {
    "duration": 7,
    "start_time": "2022-03-07T11:59:46.151Z"
   },
   {
    "duration": 17,
    "start_time": "2022-03-07T11:59:46.159Z"
   },
   {
    "duration": 8,
    "start_time": "2022-03-07T11:59:46.179Z"
   },
   {
    "duration": 11,
    "start_time": "2022-03-07T11:59:46.189Z"
   },
   {
    "duration": 14,
    "start_time": "2022-03-07T11:59:46.202Z"
   },
   {
    "duration": 23,
    "start_time": "2022-03-07T11:59:46.217Z"
   },
   {
    "duration": 12,
    "start_time": "2022-03-07T11:59:46.242Z"
   },
   {
    "duration": 8,
    "start_time": "2022-03-07T11:59:46.256Z"
   },
   {
    "duration": 8,
    "start_time": "2022-03-07T11:59:46.266Z"
   },
   {
    "duration": 87,
    "start_time": "2022-03-07T11:59:46.276Z"
   },
   {
    "duration": 6,
    "start_time": "2022-03-07T11:59:46.365Z"
   },
   {
    "duration": 107,
    "start_time": "2022-03-07T11:59:46.373Z"
   },
   {
    "duration": 41,
    "start_time": "2022-03-07T11:59:46.481Z"
   },
   {
    "duration": 49,
    "start_time": "2022-03-07T11:59:46.523Z"
   },
   {
    "duration": 7,
    "start_time": "2022-03-07T11:59:46.574Z"
   },
   {
    "duration": 11,
    "start_time": "2022-03-07T11:59:46.582Z"
   },
   {
    "duration": 12,
    "start_time": "2022-03-07T11:59:46.594Z"
   },
   {
    "duration": 72,
    "start_time": "2022-03-07T11:59:46.608Z"
   },
   {
    "duration": 29,
    "start_time": "2022-03-07T11:59:46.681Z"
   },
   {
    "duration": 6,
    "start_time": "2022-03-07T11:59:46.711Z"
   },
   {
    "duration": 18,
    "start_time": "2022-03-07T11:59:46.738Z"
   },
   {
    "duration": 6,
    "start_time": "2022-03-07T11:59:46.758Z"
   },
   {
    "duration": 22,
    "start_time": "2022-03-07T11:59:46.766Z"
   },
   {
    "duration": 8,
    "start_time": "2022-03-07T11:59:46.790Z"
   },
   {
    "duration": 11,
    "start_time": "2022-03-07T11:59:46.799Z"
   },
   {
    "duration": 33,
    "start_time": "2022-03-07T11:59:46.811Z"
   },
   {
    "duration": 9,
    "start_time": "2022-03-07T11:59:46.846Z"
   },
   {
    "duration": 8,
    "start_time": "2022-03-07T11:59:46.856Z"
   },
   {
    "duration": 14,
    "start_time": "2022-03-07T11:59:46.865Z"
   },
   {
    "duration": 9,
    "start_time": "2022-03-07T11:59:46.881Z"
   },
   {
    "duration": 6,
    "start_time": "2022-03-07T11:59:46.892Z"
   },
   {
    "duration": 40,
    "start_time": "2022-03-07T11:59:46.900Z"
   },
   {
    "duration": 5,
    "start_time": "2022-03-07T11:59:46.942Z"
   },
   {
    "duration": 7,
    "start_time": "2022-03-07T11:59:46.949Z"
   },
   {
    "duration": 6,
    "start_time": "2022-03-07T11:59:46.958Z"
   },
   {
    "duration": 9,
    "start_time": "2022-03-07T11:59:46.965Z"
   },
   {
    "duration": 5,
    "start_time": "2022-03-07T11:59:46.976Z"
   },
   {
    "duration": 231,
    "start_time": "2022-03-07T11:59:46.983Z"
   },
   {
    "duration": 14,
    "start_time": "2022-03-07T11:59:47.216Z"
   },
   {
    "duration": 6,
    "start_time": "2022-03-07T11:59:47.238Z"
   },
   {
    "duration": 16,
    "start_time": "2022-03-07T11:59:47.245Z"
   },
   {
    "duration": 19,
    "start_time": "2022-03-07T11:59:47.263Z"
   },
   {
    "duration": 284,
    "start_time": "2022-03-07T11:59:47.284Z"
   },
   {
    "duration": 199,
    "start_time": "2022-03-07T11:59:47.570Z"
   },
   {
    "duration": 212,
    "start_time": "2022-03-07T11:59:47.771Z"
   },
   {
    "duration": 211,
    "start_time": "2022-03-07T11:59:47.985Z"
   },
   {
    "duration": 217,
    "start_time": "2022-03-07T11:59:48.198Z"
   },
   {
    "duration": 26,
    "start_time": "2022-03-07T11:59:48.418Z"
   },
   {
    "duration": 221,
    "start_time": "2022-03-07T11:59:48.446Z"
   },
   {
    "duration": 234,
    "start_time": "2022-03-07T11:59:48.669Z"
   },
   {
    "duration": 15,
    "start_time": "2022-03-07T11:59:48.905Z"
   },
   {
    "duration": 228,
    "start_time": "2022-03-07T11:59:48.922Z"
   },
   {
    "duration": 210,
    "start_time": "2022-03-07T11:59:49.152Z"
   },
   {
    "duration": 13,
    "start_time": "2022-03-07T11:59:49.364Z"
   },
   {
    "duration": 6,
    "start_time": "2022-03-07T11:59:49.379Z"
   },
   {
    "duration": 11,
    "start_time": "2022-03-07T11:59:49.387Z"
   },
   {
    "duration": 4,
    "start_time": "2022-03-07T11:59:49.400Z"
   },
   {
    "duration": 4,
    "start_time": "2022-03-07T11:59:49.406Z"
   },
   {
    "duration": 5,
    "start_time": "2022-03-07T11:59:49.411Z"
   },
   {
    "duration": 10,
    "start_time": "2022-03-07T11:59:49.439Z"
   },
   {
    "duration": 11,
    "start_time": "2022-03-07T11:59:49.451Z"
   },
   {
    "duration": 83,
    "start_time": "2022-03-07T11:59:49.464Z"
   },
   {
    "duration": 5,
    "start_time": "2022-03-07T11:59:49.549Z"
   },
   {
    "duration": 9,
    "start_time": "2022-03-07T11:59:49.556Z"
   },
   {
    "duration": 5,
    "start_time": "2022-03-07T11:59:49.566Z"
   },
   {
    "duration": 4,
    "start_time": "2022-03-07T11:59:49.572Z"
   },
   {
    "duration": 6,
    "start_time": "2022-03-07T11:59:49.578Z"
   },
   {
    "duration": 11,
    "start_time": "2022-03-07T11:59:49.586Z"
   },
   {
    "duration": 256,
    "start_time": "2022-03-07T11:59:49.598Z"
   },
   {
    "duration": 83,
    "start_time": "2022-03-07T11:59:49.856Z"
   },
   {
    "duration": 2410,
    "start_time": "2022-03-07T11:59:49.940Z"
   },
   {
    "duration": 2459,
    "start_time": "2022-03-07T12:02:54.790Z"
   },
   {
    "duration": 5,
    "start_time": "2022-03-07T12:03:07.061Z"
   },
   {
    "duration": 1131,
    "start_time": "2022-03-08T16:42:27.874Z"
   },
   {
    "duration": 399,
    "start_time": "2022-03-08T16:42:29.007Z"
   },
   {
    "duration": 11,
    "start_time": "2022-03-08T16:42:29.409Z"
   },
   {
    "duration": 26,
    "start_time": "2022-03-08T16:42:29.422Z"
   },
   {
    "duration": 15,
    "start_time": "2022-03-08T16:42:29.450Z"
   },
   {
    "duration": 34,
    "start_time": "2022-03-08T16:42:29.467Z"
   },
   {
    "duration": 8,
    "start_time": "2022-03-08T16:42:29.503Z"
   },
   {
    "duration": 16,
    "start_time": "2022-03-08T16:42:29.514Z"
   },
   {
    "duration": 9,
    "start_time": "2022-03-08T16:42:29.532Z"
   },
   {
    "duration": 9,
    "start_time": "2022-03-08T16:42:29.543Z"
   },
   {
    "duration": 15,
    "start_time": "2022-03-08T16:42:29.554Z"
   },
   {
    "duration": 7,
    "start_time": "2022-03-08T16:42:29.601Z"
   },
   {
    "duration": 15,
    "start_time": "2022-03-08T16:42:29.610Z"
   },
   {
    "duration": 12,
    "start_time": "2022-03-08T16:42:29.628Z"
   },
   {
    "duration": 7,
    "start_time": "2022-03-08T16:42:29.642Z"
   },
   {
    "duration": 106,
    "start_time": "2022-03-08T16:42:29.651Z"
   },
   {
    "duration": 8,
    "start_time": "2022-03-08T16:42:29.759Z"
   },
   {
    "duration": 107,
    "start_time": "2022-03-08T16:42:29.768Z"
   },
   {
    "duration": 52,
    "start_time": "2022-03-08T16:42:29.877Z"
   },
   {
    "duration": 48,
    "start_time": "2022-03-08T16:42:29.931Z"
   },
   {
    "duration": 25,
    "start_time": "2022-03-08T16:42:29.981Z"
   },
   {
    "duration": 6,
    "start_time": "2022-03-08T16:42:30.009Z"
   },
   {
    "duration": 18,
    "start_time": "2022-03-08T16:42:30.019Z"
   },
   {
    "duration": 72,
    "start_time": "2022-03-08T16:42:30.039Z"
   },
   {
    "duration": 32,
    "start_time": "2022-03-08T16:42:30.114Z"
   },
   {
    "duration": 7,
    "start_time": "2022-03-08T16:42:30.148Z"
   },
   {
    "duration": 28,
    "start_time": "2022-03-08T16:42:30.157Z"
   },
   {
    "duration": 7,
    "start_time": "2022-03-08T16:42:30.202Z"
   },
   {
    "duration": 7,
    "start_time": "2022-03-08T16:42:33.044Z"
   },
   {
    "duration": 25,
    "start_time": "2022-03-08T16:42:36.448Z"
   },
   {
    "duration": 19,
    "start_time": "2022-03-08T16:42:47.258Z"
   },
   {
    "duration": 9,
    "start_time": "2022-03-08T16:42:49.165Z"
   },
   {
    "duration": 5,
    "start_time": "2022-03-08T17:08:17.507Z"
   },
   {
    "duration": 5,
    "start_time": "2022-03-08T17:08:17.516Z"
   },
   {
    "duration": 414,
    "start_time": "2022-03-08T17:08:17.523Z"
   },
   {
    "duration": 7,
    "start_time": "2022-03-08T17:08:17.940Z"
   },
   {
    "duration": 29,
    "start_time": "2022-03-08T17:08:17.950Z"
   },
   {
    "duration": 9,
    "start_time": "2022-03-08T17:08:17.981Z"
   },
   {
    "duration": 31,
    "start_time": "2022-03-08T17:08:17.992Z"
   },
   {
    "duration": 19,
    "start_time": "2022-03-08T17:08:23.626Z"
   },
   {
    "duration": 234,
    "start_time": "2022-03-08T17:08:24.298Z"
   },
   {
    "duration": 238,
    "start_time": "2022-03-08T17:10:32.565Z"
   },
   {
    "duration": 233,
    "start_time": "2022-03-08T17:11:53.888Z"
   },
   {
    "duration": 73,
    "start_time": "2022-03-08T17:16:28.108Z"
   },
   {
    "duration": 4,
    "start_time": "2022-03-08T17:17:14.534Z"
   },
   {
    "duration": 6,
    "start_time": "2022-03-08T17:17:14.541Z"
   },
   {
    "duration": 390,
    "start_time": "2022-03-08T17:17:14.550Z"
   },
   {
    "duration": 8,
    "start_time": "2022-03-08T17:17:14.943Z"
   },
   {
    "duration": 27,
    "start_time": "2022-03-08T17:17:14.954Z"
   },
   {
    "duration": 9,
    "start_time": "2022-03-08T17:17:14.983Z"
   },
   {
    "duration": 23,
    "start_time": "2022-03-08T17:17:14.994Z"
   },
   {
    "duration": 238,
    "start_time": "2022-03-08T17:17:15.020Z"
   },
   {
    "duration": 9,
    "start_time": "2022-03-08T17:17:15.260Z"
   },
   {
    "duration": 29,
    "start_time": "2022-03-08T17:17:15.272Z"
   },
   {
    "duration": 9,
    "start_time": "2022-03-08T17:17:15.304Z"
   },
   {
    "duration": 13,
    "start_time": "2022-03-08T17:17:15.315Z"
   },
   {
    "duration": 15,
    "start_time": "2022-03-08T17:17:15.330Z"
   },
   {
    "duration": 10,
    "start_time": "2022-03-08T17:17:15.347Z"
   },
   {
    "duration": 41,
    "start_time": "2022-03-08T17:17:15.359Z"
   },
   {
    "duration": 11,
    "start_time": "2022-03-08T17:17:15.402Z"
   },
   {
    "duration": 6,
    "start_time": "2022-03-08T17:17:15.415Z"
   },
   {
    "duration": 79,
    "start_time": "2022-03-08T17:17:15.423Z"
   },
   {
    "duration": 8,
    "start_time": "2022-03-08T17:17:15.504Z"
   },
   {
    "duration": 118,
    "start_time": "2022-03-08T17:17:15.514Z"
   },
   {
    "duration": 38,
    "start_time": "2022-03-08T17:17:15.634Z"
   },
   {
    "duration": 67,
    "start_time": "2022-03-08T17:17:15.674Z"
   },
   {
    "duration": 7,
    "start_time": "2022-03-08T17:17:15.743Z"
   },
   {
    "duration": 7,
    "start_time": "2022-03-08T17:17:15.752Z"
   },
   {
    "duration": 9,
    "start_time": "2022-03-08T17:17:15.763Z"
   },
   {
    "duration": 74,
    "start_time": "2022-03-08T17:17:15.775Z"
   },
   {
    "duration": 50,
    "start_time": "2022-03-08T17:17:15.851Z"
   },
   {
    "duration": 9,
    "start_time": "2022-03-08T17:17:15.903Z"
   },
   {
    "duration": 22,
    "start_time": "2022-03-08T17:17:15.914Z"
   },
   {
    "duration": 6,
    "start_time": "2022-03-08T17:17:15.938Z"
   },
   {
    "duration": 31,
    "start_time": "2022-03-08T17:17:15.946Z"
   },
   {
    "duration": 29,
    "start_time": "2022-03-08T17:17:15.978Z"
   },
   {
    "duration": 18,
    "start_time": "2022-03-08T17:17:16.009Z"
   },
   {
    "duration": 9,
    "start_time": "2022-03-08T17:17:16.029Z"
   },
   {
    "duration": 8,
    "start_time": "2022-03-08T17:17:16.040Z"
   },
   {
    "duration": 20,
    "start_time": "2022-03-08T17:17:16.050Z"
   },
   {
    "duration": 17,
    "start_time": "2022-03-08T17:17:16.072Z"
   },
   {
    "duration": 330,
    "start_time": "2022-03-08T17:23:58.761Z"
   },
   {
    "duration": 218,
    "start_time": "2022-03-08T17:24:34.609Z"
   },
   {
    "duration": 7,
    "start_time": "2022-03-08T17:25:04.311Z"
   },
   {
    "duration": 24,
    "start_time": "2022-03-08T17:26:22.231Z"
   },
   {
    "duration": 5,
    "start_time": "2022-03-08T17:30:15.340Z"
   },
   {
    "duration": 11,
    "start_time": "2022-03-08T17:32:36.630Z"
   },
   {
    "duration": 15,
    "start_time": "2022-03-08T17:34:54.556Z"
   },
   {
    "duration": 22,
    "start_time": "2022-03-08T17:35:23.535Z"
   },
   {
    "duration": 221,
    "start_time": "2022-03-08T17:42:08.821Z"
   },
   {
    "duration": 218,
    "start_time": "2022-03-08T17:42:39.419Z"
   },
   {
    "duration": 74,
    "start_time": "2022-03-08T17:46:27.894Z"
   },
   {
    "duration": 25,
    "start_time": "2022-03-08T17:46:34.521Z"
   },
   {
    "duration": 7,
    "start_time": "2022-03-08T17:48:30.575Z"
   },
   {
    "duration": 10,
    "start_time": "2022-03-08T17:48:48.759Z"
   },
   {
    "duration": 12,
    "start_time": "2022-03-08T17:48:59.755Z"
   },
   {
    "duration": 4,
    "start_time": "2022-03-08T17:49:09.802Z"
   },
   {
    "duration": 22,
    "start_time": "2022-03-08T17:49:14.842Z"
   },
   {
    "duration": 217,
    "start_time": "2022-03-08T17:52:14.389Z"
   },
   {
    "duration": 7,
    "start_time": "2022-03-08T17:52:41.295Z"
   },
   {
    "duration": 9,
    "start_time": "2022-03-08T17:54:19.136Z"
   },
   {
    "duration": 7,
    "start_time": "2022-03-08T18:02:24.844Z"
   },
   {
    "duration": 216,
    "start_time": "2022-03-08T18:02:53.393Z"
   },
   {
    "duration": 250,
    "start_time": "2022-03-08T18:03:38.011Z"
   },
   {
    "duration": 341,
    "start_time": "2022-03-08T18:04:34.696Z"
   },
   {
    "duration": 7,
    "start_time": "2022-03-08T18:04:41.188Z"
   },
   {
    "duration": 9,
    "start_time": "2022-03-08T18:04:56.469Z"
   },
   {
    "duration": 8,
    "start_time": "2022-03-08T18:05:28.509Z"
   },
   {
    "duration": 7,
    "start_time": "2022-03-08T18:05:51.733Z"
   },
   {
    "duration": 5,
    "start_time": "2022-03-08T18:11:17.988Z"
   },
   {
    "duration": 8,
    "start_time": "2022-03-08T18:11:17.995Z"
   },
   {
    "duration": 438,
    "start_time": "2022-03-08T18:11:18.006Z"
   },
   {
    "duration": 9,
    "start_time": "2022-03-08T18:11:18.446Z"
   },
   {
    "duration": 33,
    "start_time": "2022-03-08T18:11:18.457Z"
   },
   {
    "duration": 9,
    "start_time": "2022-03-08T18:11:18.492Z"
   },
   {
    "duration": 30,
    "start_time": "2022-03-08T18:11:18.504Z"
   },
   {
    "duration": 265,
    "start_time": "2022-03-08T18:11:18.536Z"
   },
   {
    "duration": 9,
    "start_time": "2022-03-08T18:11:18.803Z"
   },
   {
    "duration": 18,
    "start_time": "2022-03-08T18:11:18.814Z"
   },
   {
    "duration": 9,
    "start_time": "2022-03-08T18:11:18.834Z"
   },
   {
    "duration": 8,
    "start_time": "2022-03-08T18:11:18.845Z"
   },
   {
    "duration": 51,
    "start_time": "2022-03-08T18:11:18.855Z"
   },
   {
    "duration": 7,
    "start_time": "2022-03-08T18:11:18.908Z"
   },
   {
    "duration": 15,
    "start_time": "2022-03-08T18:11:18.918Z"
   },
   {
    "duration": 11,
    "start_time": "2022-03-08T18:11:18.936Z"
   },
   {
    "duration": 8,
    "start_time": "2022-03-08T18:11:18.950Z"
   },
   {
    "duration": 104,
    "start_time": "2022-03-08T18:11:18.962Z"
   },
   {
    "duration": 8,
    "start_time": "2022-03-08T18:11:19.069Z"
   },
   {
    "duration": 123,
    "start_time": "2022-03-08T18:11:19.079Z"
   },
   {
    "duration": 41,
    "start_time": "2022-03-08T18:11:19.205Z"
   },
   {
    "duration": 67,
    "start_time": "2022-03-08T18:11:19.248Z"
   },
   {
    "duration": 7,
    "start_time": "2022-03-08T18:11:19.318Z"
   },
   {
    "duration": 9,
    "start_time": "2022-03-08T18:11:19.327Z"
   },
   {
    "duration": 15,
    "start_time": "2022-03-08T18:11:19.338Z"
   },
   {
    "duration": 86,
    "start_time": "2022-03-08T18:11:19.355Z"
   },
   {
    "duration": 27,
    "start_time": "2022-03-08T18:11:19.443Z"
   },
   {
    "duration": 9,
    "start_time": "2022-03-08T18:11:19.472Z"
   },
   {
    "duration": 22,
    "start_time": "2022-03-08T18:11:19.501Z"
   },
   {
    "duration": 18,
    "start_time": "2022-03-08T18:11:19.525Z"
   },
   {
    "duration": 28,
    "start_time": "2022-03-08T18:11:19.545Z"
   },
   {
    "duration": 7,
    "start_time": "2022-03-08T18:11:19.575Z"
   },
   {
    "duration": 23,
    "start_time": "2022-03-08T18:11:19.584Z"
   },
   {
    "duration": 16,
    "start_time": "2022-03-08T18:11:19.610Z"
   },
   {
    "duration": 23,
    "start_time": "2022-03-08T18:11:19.628Z"
   },
   {
    "duration": 13,
    "start_time": "2022-03-08T18:11:19.653Z"
   },
   {
    "duration": 16,
    "start_time": "2022-03-08T18:11:19.669Z"
   },
   {
    "duration": 11,
    "start_time": "2022-03-08T18:11:19.700Z"
   },
   {
    "duration": 7,
    "start_time": "2022-03-08T18:11:19.713Z"
   },
   {
    "duration": 9,
    "start_time": "2022-03-08T18:11:19.722Z"
   },
   {
    "duration": 8,
    "start_time": "2022-03-08T18:11:25.722Z"
   },
   {
    "duration": 4,
    "start_time": "2022-03-08T18:33:03.075Z"
   },
   {
    "duration": 8,
    "start_time": "2022-03-08T18:33:03.082Z"
   },
   {
    "duration": 446,
    "start_time": "2022-03-08T18:33:03.093Z"
   },
   {
    "duration": 8,
    "start_time": "2022-03-08T18:33:03.542Z"
   },
   {
    "duration": 26,
    "start_time": "2022-03-08T18:33:03.552Z"
   },
   {
    "duration": 9,
    "start_time": "2022-03-08T18:33:03.580Z"
   },
   {
    "duration": 28,
    "start_time": "2022-03-08T18:33:03.590Z"
   },
   {
    "duration": 281,
    "start_time": "2022-03-08T18:33:03.620Z"
   },
   {
    "duration": 8,
    "start_time": "2022-03-08T18:33:03.904Z"
   },
   {
    "duration": 29,
    "start_time": "2022-03-08T18:33:03.914Z"
   },
   {
    "duration": 8,
    "start_time": "2022-03-08T18:33:03.946Z"
   },
   {
    "duration": 8,
    "start_time": "2022-03-08T18:33:03.956Z"
   },
   {
    "duration": 21,
    "start_time": "2022-03-08T18:33:03.966Z"
   },
   {
    "duration": 10,
    "start_time": "2022-03-08T18:33:04.001Z"
   },
   {
    "duration": 25,
    "start_time": "2022-03-08T18:33:04.014Z"
   },
   {
    "duration": 14,
    "start_time": "2022-03-08T18:33:04.041Z"
   },
   {
    "duration": 11,
    "start_time": "2022-03-08T18:33:04.057Z"
   },
   {
    "duration": 79,
    "start_time": "2022-03-08T18:33:04.070Z"
   },
   {
    "duration": 9,
    "start_time": "2022-03-08T18:33:04.151Z"
   },
   {
    "duration": 125,
    "start_time": "2022-03-08T18:33:04.162Z"
   },
   {
    "duration": 48,
    "start_time": "2022-03-08T18:33:04.289Z"
   },
   {
    "duration": 43,
    "start_time": "2022-03-08T18:33:04.339Z"
   },
   {
    "duration": 23,
    "start_time": "2022-03-08T18:33:04.383Z"
   },
   {
    "duration": 10,
    "start_time": "2022-03-08T18:33:04.409Z"
   },
   {
    "duration": 33,
    "start_time": "2022-03-08T18:33:04.422Z"
   },
   {
    "duration": 69,
    "start_time": "2022-03-08T18:33:04.458Z"
   },
   {
    "duration": 28,
    "start_time": "2022-03-08T18:33:04.529Z"
   },
   {
    "duration": 8,
    "start_time": "2022-03-08T18:33:04.559Z"
   },
   {
    "duration": 47,
    "start_time": "2022-03-08T18:33:04.569Z"
   },
   {
    "duration": 7,
    "start_time": "2022-03-08T18:33:04.619Z"
   },
   {
    "duration": 27,
    "start_time": "2022-03-08T18:33:04.628Z"
   },
   {
    "duration": 8,
    "start_time": "2022-03-08T18:33:04.657Z"
   },
   {
    "duration": 39,
    "start_time": "2022-03-08T18:33:04.667Z"
   },
   {
    "duration": 10,
    "start_time": "2022-03-08T18:33:04.708Z"
   },
   {
    "duration": 12,
    "start_time": "2022-03-08T18:33:04.720Z"
   },
   {
    "duration": 15,
    "start_time": "2022-03-08T18:33:04.734Z"
   },
   {
    "duration": 20,
    "start_time": "2022-03-08T18:33:04.751Z"
   },
   {
    "duration": 23,
    "start_time": "2022-03-08T18:33:04.774Z"
   },
   {
    "duration": 7,
    "start_time": "2022-03-08T18:33:04.801Z"
   },
   {
    "duration": 12,
    "start_time": "2022-03-08T18:33:04.810Z"
   },
   {
    "duration": 9,
    "start_time": "2022-03-08T18:33:04.824Z"
   },
   {
    "duration": 7,
    "start_time": "2022-03-08T18:33:04.835Z"
   },
   {
    "duration": 15,
    "start_time": "2022-03-08T18:33:04.844Z"
   },
   {
    "duration": 5,
    "start_time": "2022-03-08T18:33:11.131Z"
   },
   {
    "duration": 216,
    "start_time": "2022-03-08T18:33:18.752Z"
   },
   {
    "duration": 13,
    "start_time": "2022-03-08T18:33:20.640Z"
   },
   {
    "duration": 5,
    "start_time": "2022-03-08T18:33:38.074Z"
   },
   {
    "duration": 13,
    "start_time": "2022-03-08T18:33:38.349Z"
   },
   {
    "duration": 257,
    "start_time": "2022-03-08T18:34:26.655Z"
   },
   {
    "duration": 255,
    "start_time": "2022-03-08T18:34:36.924Z"
   },
   {
    "duration": 249,
    "start_time": "2022-03-08T18:34:43.894Z"
   },
   {
    "duration": 254,
    "start_time": "2022-03-08T18:34:56.105Z"
   },
   {
    "duration": 188,
    "start_time": "2022-03-08T18:35:21.525Z"
   },
   {
    "duration": 195,
    "start_time": "2022-03-08T18:36:25.426Z"
   },
   {
    "duration": 197,
    "start_time": "2022-03-08T18:36:37.368Z"
   },
   {
    "duration": 199,
    "start_time": "2022-03-08T18:36:47.123Z"
   },
   {
    "duration": 4,
    "start_time": "2022-03-08T18:36:58.525Z"
   },
   {
    "duration": 9,
    "start_time": "2022-03-08T18:36:58.531Z"
   },
   {
    "duration": 448,
    "start_time": "2022-03-08T18:36:58.543Z"
   },
   {
    "duration": 11,
    "start_time": "2022-03-08T18:36:58.994Z"
   },
   {
    "duration": 31,
    "start_time": "2022-03-08T18:36:59.007Z"
   },
   {
    "duration": 10,
    "start_time": "2022-03-08T18:36:59.040Z"
   },
   {
    "duration": 21,
    "start_time": "2022-03-08T18:36:59.053Z"
   },
   {
    "duration": 274,
    "start_time": "2022-03-08T18:36:59.077Z"
   },
   {
    "duration": 8,
    "start_time": "2022-03-08T18:36:59.353Z"
   },
   {
    "duration": 19,
    "start_time": "2022-03-08T18:36:59.364Z"
   },
   {
    "duration": 10,
    "start_time": "2022-03-08T18:36:59.400Z"
   },
   {
    "duration": 11,
    "start_time": "2022-03-08T18:36:59.412Z"
   },
   {
    "duration": 16,
    "start_time": "2022-03-08T18:36:59.425Z"
   },
   {
    "duration": 11,
    "start_time": "2022-03-08T18:36:59.443Z"
   },
   {
    "duration": 13,
    "start_time": "2022-03-08T18:36:59.456Z"
   },
   {
    "duration": 43,
    "start_time": "2022-03-08T18:36:59.471Z"
   },
   {
    "duration": 21,
    "start_time": "2022-03-08T18:36:59.516Z"
   },
   {
    "duration": 96,
    "start_time": "2022-03-08T18:36:59.540Z"
   },
   {
    "duration": 7,
    "start_time": "2022-03-08T18:36:59.639Z"
   },
   {
    "duration": 114,
    "start_time": "2022-03-08T18:36:59.648Z"
   },
   {
    "duration": 56,
    "start_time": "2022-03-08T18:36:59.764Z"
   },
   {
    "duration": 47,
    "start_time": "2022-03-08T18:36:59.822Z"
   },
   {
    "duration": 6,
    "start_time": "2022-03-08T18:36:59.871Z"
   },
   {
    "duration": 6,
    "start_time": "2022-03-08T18:36:59.902Z"
   },
   {
    "duration": 11,
    "start_time": "2022-03-08T18:36:59.910Z"
   },
   {
    "duration": 80,
    "start_time": "2022-03-08T18:36:59.924Z"
   },
   {
    "duration": 30,
    "start_time": "2022-03-08T18:37:00.006Z"
   },
   {
    "duration": 8,
    "start_time": "2022-03-08T18:37:00.038Z"
   },
   {
    "duration": 27,
    "start_time": "2022-03-08T18:37:00.048Z"
   },
   {
    "duration": 30,
    "start_time": "2022-03-08T18:37:00.077Z"
   },
   {
    "duration": 28,
    "start_time": "2022-03-08T18:37:00.109Z"
   },
   {
    "duration": 7,
    "start_time": "2022-03-08T18:37:00.139Z"
   },
   {
    "duration": 24,
    "start_time": "2022-03-08T18:37:00.148Z"
   },
   {
    "duration": 27,
    "start_time": "2022-03-08T18:37:00.174Z"
   },
   {
    "duration": 9,
    "start_time": "2022-03-08T18:37:00.204Z"
   },
   {
    "duration": 11,
    "start_time": "2022-03-08T18:37:00.215Z"
   },
   {
    "duration": 21,
    "start_time": "2022-03-08T18:37:00.228Z"
   },
   {
    "duration": 16,
    "start_time": "2022-03-08T18:37:00.251Z"
   },
   {
    "duration": 14,
    "start_time": "2022-03-08T18:37:00.269Z"
   },
   {
    "duration": 5,
    "start_time": "2022-03-08T18:37:00.302Z"
   },
   {
    "duration": 16,
    "start_time": "2022-03-08T18:37:00.309Z"
   },
   {
    "duration": 19,
    "start_time": "2022-03-08T18:37:00.328Z"
   },
   {
    "duration": 42,
    "start_time": "2022-03-08T18:37:00.350Z"
   },
   {
    "duration": 16,
    "start_time": "2022-03-08T18:37:00.395Z"
   },
   {
    "duration": 256,
    "start_time": "2022-03-08T18:37:00.413Z"
   },
   {
    "duration": 14,
    "start_time": "2022-03-08T18:37:00.671Z"
   },
   {
    "duration": 17,
    "start_time": "2022-03-08T18:37:00.687Z"
   },
   {
    "duration": 24,
    "start_time": "2022-03-08T18:37:00.706Z"
   },
   {
    "duration": 32,
    "start_time": "2022-03-08T18:37:00.732Z"
   },
   {
    "duration": 280,
    "start_time": "2022-03-08T18:37:00.766Z"
   },
   {
    "duration": 198,
    "start_time": "2022-03-08T18:37:01.051Z"
   },
   {
    "duration": 297,
    "start_time": "2022-03-08T18:37:01.251Z"
   },
   {
    "duration": 301,
    "start_time": "2022-03-08T18:37:01.550Z"
   },
   {
    "duration": 216,
    "start_time": "2022-03-08T18:37:01.853Z"
   },
   {
    "duration": 17,
    "start_time": "2022-03-08T18:37:08.309Z"
   },
   {
    "duration": 280,
    "start_time": "2022-03-08T18:37:41.914Z"
   },
   {
    "duration": 188,
    "start_time": "2022-03-08T18:37:51.574Z"
   },
   {
    "duration": 15,
    "start_time": "2022-03-08T18:37:57.383Z"
   },
   {
    "duration": 194,
    "start_time": "2022-03-08T18:38:23.546Z"
   },
   {
    "duration": 194,
    "start_time": "2022-03-08T18:40:45.452Z"
   },
   {
    "duration": 207,
    "start_time": "2022-03-08T18:40:46.104Z"
   },
   {
    "duration": 16,
    "start_time": "2022-03-08T18:40:46.313Z"
   },
   {
    "duration": 4,
    "start_time": "2022-03-08T18:41:42.954Z"
   },
   {
    "duration": 20,
    "start_time": "2022-03-08T18:41:42.963Z"
   },
   {
    "duration": 457,
    "start_time": "2022-03-08T18:41:42.985Z"
   },
   {
    "duration": 11,
    "start_time": "2022-03-08T18:41:43.444Z"
   },
   {
    "duration": 69,
    "start_time": "2022-03-08T18:41:43.458Z"
   },
   {
    "duration": 11,
    "start_time": "2022-03-08T18:41:43.529Z"
   },
   {
    "duration": 59,
    "start_time": "2022-03-08T18:41:43.542Z"
   },
   {
    "duration": 356,
    "start_time": "2022-03-08T18:41:43.603Z"
   },
   {
    "duration": 8,
    "start_time": "2022-03-08T18:41:43.962Z"
   },
   {
    "duration": 40,
    "start_time": "2022-03-08T18:41:43.972Z"
   },
   {
    "duration": 28,
    "start_time": "2022-03-08T18:41:44.014Z"
   },
   {
    "duration": 22,
    "start_time": "2022-03-08T18:41:44.044Z"
   },
   {
    "duration": 42,
    "start_time": "2022-03-08T18:41:44.068Z"
   },
   {
    "duration": 29,
    "start_time": "2022-03-08T18:41:44.112Z"
   },
   {
    "duration": 32,
    "start_time": "2022-03-08T18:41:44.144Z"
   },
   {
    "duration": 25,
    "start_time": "2022-03-08T18:41:44.178Z"
   },
   {
    "duration": 22,
    "start_time": "2022-03-08T18:41:44.206Z"
   },
   {
    "duration": 79,
    "start_time": "2022-03-08T18:41:44.231Z"
   },
   {
    "duration": 10,
    "start_time": "2022-03-08T18:41:44.312Z"
   },
   {
    "duration": 114,
    "start_time": "2022-03-08T18:41:44.324Z"
   },
   {
    "duration": 37,
    "start_time": "2022-03-08T18:41:44.440Z"
   },
   {
    "duration": 54,
    "start_time": "2022-03-08T18:41:44.479Z"
   },
   {
    "duration": 7,
    "start_time": "2022-03-08T18:41:44.535Z"
   },
   {
    "duration": 21,
    "start_time": "2022-03-08T18:41:44.546Z"
   },
   {
    "duration": 16,
    "start_time": "2022-03-08T18:41:44.570Z"
   },
   {
    "duration": 75,
    "start_time": "2022-03-08T18:41:44.588Z"
   },
   {
    "duration": 29,
    "start_time": "2022-03-08T18:41:44.665Z"
   },
   {
    "duration": 10,
    "start_time": "2022-03-08T18:41:44.700Z"
   },
   {
    "duration": 40,
    "start_time": "2022-03-08T18:41:44.712Z"
   },
   {
    "duration": 17,
    "start_time": "2022-03-08T18:41:44.754Z"
   },
   {
    "duration": 35,
    "start_time": "2022-03-08T18:41:44.774Z"
   },
   {
    "duration": 10,
    "start_time": "2022-03-08T18:41:44.811Z"
   },
   {
    "duration": 35,
    "start_time": "2022-03-08T18:41:44.823Z"
   },
   {
    "duration": 29,
    "start_time": "2022-03-08T18:41:44.860Z"
   },
   {
    "duration": 16,
    "start_time": "2022-03-08T18:41:44.891Z"
   },
   {
    "duration": 27,
    "start_time": "2022-03-08T18:41:44.909Z"
   },
   {
    "duration": 28,
    "start_time": "2022-03-08T18:41:44.938Z"
   },
   {
    "duration": 28,
    "start_time": "2022-03-08T18:41:44.968Z"
   },
   {
    "duration": 26,
    "start_time": "2022-03-08T18:41:44.998Z"
   },
   {
    "duration": 25,
    "start_time": "2022-03-08T18:41:45.026Z"
   },
   {
    "duration": 36,
    "start_time": "2022-03-08T18:41:45.053Z"
   },
   {
    "duration": 40,
    "start_time": "2022-03-08T18:41:45.091Z"
   },
   {
    "duration": 24,
    "start_time": "2022-03-08T18:41:45.133Z"
   },
   {
    "duration": 28,
    "start_time": "2022-03-08T18:41:45.159Z"
   },
   {
    "duration": 261,
    "start_time": "2022-03-08T18:41:45.189Z"
   },
   {
    "duration": 16,
    "start_time": "2022-03-08T18:41:45.452Z"
   },
   {
    "duration": 25,
    "start_time": "2022-03-08T18:41:45.470Z"
   },
   {
    "duration": 34,
    "start_time": "2022-03-08T18:41:45.497Z"
   },
   {
    "duration": 30,
    "start_time": "2022-03-08T18:41:45.533Z"
   },
   {
    "duration": 262,
    "start_time": "2022-03-08T18:41:45.565Z"
   },
   {
    "duration": 190,
    "start_time": "2022-03-08T18:41:45.829Z"
   },
   {
    "duration": 198,
    "start_time": "2022-03-08T18:41:46.021Z"
   },
   {
    "duration": 295,
    "start_time": "2022-03-08T18:41:46.221Z"
   },
   {
    "duration": 221,
    "start_time": "2022-03-08T18:41:46.518Z"
   },
   {
    "duration": 16,
    "start_time": "2022-03-08T18:41:46.741Z"
   },
   {
    "duration": 229,
    "start_time": "2022-03-08T18:41:46.759Z"
   },
   {
    "duration": 203,
    "start_time": "2022-03-08T18:41:46.990Z"
   },
   {
    "duration": 20,
    "start_time": "2022-03-08T18:41:47.195Z"
   },
   {
    "duration": 218,
    "start_time": "2022-03-08T18:41:47.216Z"
   },
   {
    "duration": 216,
    "start_time": "2022-03-08T18:41:47.436Z"
   },
   {
    "duration": 14,
    "start_time": "2022-03-08T18:41:47.654Z"
   },
   {
    "duration": 21,
    "start_time": "2022-03-08T18:41:47.670Z"
   },
   {
    "duration": 30,
    "start_time": "2022-03-08T18:41:47.702Z"
   },
   {
    "duration": 36,
    "start_time": "2022-03-08T18:41:47.734Z"
   },
   {
    "duration": 12,
    "start_time": "2022-03-08T18:41:47.772Z"
   },
   {
    "duration": 35,
    "start_time": "2022-03-08T18:41:47.786Z"
   },
   {
    "duration": 32,
    "start_time": "2022-03-08T18:41:47.823Z"
   },
   {
    "duration": 4,
    "start_time": "2022-03-08T18:41:49.398Z"
   },
   {
    "duration": 8,
    "start_time": "2022-03-08T18:41:50.073Z"
   },
   {
    "duration": 4,
    "start_time": "2022-03-08T18:46:39.574Z"
   },
   {
    "duration": 17,
    "start_time": "2022-03-08T18:46:39.582Z"
   },
   {
    "duration": 447,
    "start_time": "2022-03-08T18:46:39.602Z"
   },
   {
    "duration": 12,
    "start_time": "2022-03-08T18:46:40.052Z"
   },
   {
    "duration": 39,
    "start_time": "2022-03-08T18:46:40.066Z"
   },
   {
    "duration": 9,
    "start_time": "2022-03-08T18:46:40.108Z"
   },
   {
    "duration": 28,
    "start_time": "2022-03-08T18:46:40.119Z"
   },
   {
    "duration": 261,
    "start_time": "2022-03-08T18:46:40.150Z"
   },
   {
    "duration": 8,
    "start_time": "2022-03-08T18:46:40.416Z"
   },
   {
    "duration": 31,
    "start_time": "2022-03-08T18:46:40.427Z"
   },
   {
    "duration": 11,
    "start_time": "2022-03-08T18:46:40.461Z"
   },
   {
    "duration": 29,
    "start_time": "2022-03-08T18:46:40.475Z"
   },
   {
    "duration": 14,
    "start_time": "2022-03-08T18:46:40.506Z"
   },
   {
    "duration": 10,
    "start_time": "2022-03-08T18:46:40.522Z"
   },
   {
    "duration": 12,
    "start_time": "2022-03-08T18:46:40.534Z"
   },
   {
    "duration": 14,
    "start_time": "2022-03-08T18:46:40.548Z"
   },
   {
    "duration": 39,
    "start_time": "2022-03-08T18:46:40.564Z"
   },
   {
    "duration": 66,
    "start_time": "2022-03-08T18:46:40.605Z"
   },
   {
    "duration": 9,
    "start_time": "2022-03-08T18:46:40.674Z"
   },
   {
    "duration": 106,
    "start_time": "2022-03-08T18:46:40.702Z"
   },
   {
    "duration": 40,
    "start_time": "2022-03-08T18:46:40.809Z"
   },
   {
    "duration": 63,
    "start_time": "2022-03-08T18:46:40.851Z"
   },
   {
    "duration": 6,
    "start_time": "2022-03-08T18:46:40.916Z"
   },
   {
    "duration": 5,
    "start_time": "2022-03-08T18:46:40.926Z"
   },
   {
    "duration": 13,
    "start_time": "2022-03-08T18:46:40.934Z"
   },
   {
    "duration": 87,
    "start_time": "2022-03-08T18:46:40.949Z"
   },
   {
    "duration": 30,
    "start_time": "2022-03-08T18:46:41.038Z"
   },
   {
    "duration": 7,
    "start_time": "2022-03-08T18:46:41.070Z"
   },
   {
    "duration": 37,
    "start_time": "2022-03-08T18:46:41.079Z"
   },
   {
    "duration": 7,
    "start_time": "2022-03-08T18:46:41.118Z"
   },
   {
    "duration": 48,
    "start_time": "2022-03-08T18:46:41.127Z"
   },
   {
    "duration": 7,
    "start_time": "2022-03-08T18:46:41.177Z"
   },
   {
    "duration": 19,
    "start_time": "2022-03-08T18:46:41.186Z"
   },
   {
    "duration": 18,
    "start_time": "2022-03-08T18:46:41.207Z"
   },
   {
    "duration": 19,
    "start_time": "2022-03-08T18:46:41.227Z"
   },
   {
    "duration": 18,
    "start_time": "2022-03-08T18:46:41.248Z"
   },
   {
    "duration": 25,
    "start_time": "2022-03-08T18:46:41.268Z"
   },
   {
    "duration": 21,
    "start_time": "2022-03-08T18:46:41.295Z"
   },
   {
    "duration": 11,
    "start_time": "2022-03-08T18:46:41.318Z"
   },
   {
    "duration": 17,
    "start_time": "2022-03-08T18:46:41.331Z"
   },
   {
    "duration": 17,
    "start_time": "2022-03-08T18:46:41.350Z"
   },
   {
    "duration": 10,
    "start_time": "2022-03-08T18:46:41.370Z"
   },
   {
    "duration": 27,
    "start_time": "2022-03-08T18:46:41.383Z"
   },
   {
    "duration": 16,
    "start_time": "2022-03-08T18:46:41.412Z"
   },
   {
    "duration": 232,
    "start_time": "2022-03-08T18:46:41.430Z"
   },
   {
    "duration": 14,
    "start_time": "2022-03-08T18:46:41.664Z"
   },
   {
    "duration": 18,
    "start_time": "2022-03-08T18:46:41.680Z"
   },
   {
    "duration": 24,
    "start_time": "2022-03-08T18:46:41.701Z"
   },
   {
    "duration": 35,
    "start_time": "2022-03-08T18:46:41.727Z"
   },
   {
    "duration": 255,
    "start_time": "2022-03-08T18:46:41.765Z"
   },
   {
    "duration": 196,
    "start_time": "2022-03-08T18:46:42.023Z"
   },
   {
    "duration": 283,
    "start_time": "2022-03-08T18:46:42.222Z"
   },
   {
    "duration": 212,
    "start_time": "2022-03-08T18:46:42.507Z"
   },
   {
    "duration": 294,
    "start_time": "2022-03-08T18:46:42.721Z"
   },
   {
    "duration": 19,
    "start_time": "2022-03-08T18:46:43.017Z"
   },
   {
    "duration": 228,
    "start_time": "2022-03-08T18:46:43.038Z"
   },
   {
    "duration": 227,
    "start_time": "2022-03-08T18:46:43.268Z"
   },
   {
    "duration": 17,
    "start_time": "2022-03-08T18:46:43.501Z"
   },
   {
    "duration": 219,
    "start_time": "2022-03-08T18:46:43.520Z"
   },
   {
    "duration": 208,
    "start_time": "2022-03-08T18:46:43.742Z"
   },
   {
    "duration": 16,
    "start_time": "2022-03-08T18:46:43.953Z"
   },
   {
    "duration": 31,
    "start_time": "2022-03-08T18:46:43.971Z"
   },
   {
    "duration": 7,
    "start_time": "2022-03-08T18:46:44.005Z"
   },
   {
    "duration": 7,
    "start_time": "2022-03-08T18:46:44.014Z"
   },
   {
    "duration": 3,
    "start_time": "2022-03-08T18:46:44.023Z"
   },
   {
    "duration": 10,
    "start_time": "2022-03-08T18:46:44.027Z"
   },
   {
    "duration": 12,
    "start_time": "2022-03-08T18:46:44.039Z"
   },
   {
    "duration": 12,
    "start_time": "2022-03-08T18:46:44.053Z"
   },
   {
    "duration": 34,
    "start_time": "2022-03-08T18:46:44.071Z"
   },
   {
    "duration": 6,
    "start_time": "2022-03-08T18:46:44.107Z"
   },
   {
    "duration": 11,
    "start_time": "2022-03-08T18:46:44.114Z"
   },
   {
    "duration": 6,
    "start_time": "2022-03-08T18:46:44.127Z"
   },
   {
    "duration": 9,
    "start_time": "2022-03-08T18:46:44.135Z"
   },
   {
    "duration": 17,
    "start_time": "2022-03-08T18:46:44.146Z"
   },
   {
    "duration": 5,
    "start_time": "2022-03-08T18:46:50.717Z"
   },
   {
    "duration": 7,
    "start_time": "2022-03-08T18:46:52.661Z"
   },
   {
    "duration": 9,
    "start_time": "2022-03-08T18:47:35.054Z"
   },
   {
    "duration": 3,
    "start_time": "2022-03-08T19:03:19.242Z"
   },
   {
    "duration": 3,
    "start_time": "2022-03-08T19:03:19.298Z"
   },
   {
    "duration": 440,
    "start_time": "2022-03-08T19:03:19.311Z"
   },
   {
    "duration": 9,
    "start_time": "2022-03-08T19:03:19.754Z"
   },
   {
    "duration": 24,
    "start_time": "2022-03-08T19:03:19.766Z"
   },
   {
    "duration": 10,
    "start_time": "2022-03-08T19:03:19.801Z"
   },
   {
    "duration": 22,
    "start_time": "2022-03-08T19:03:19.813Z"
   },
   {
    "duration": 286,
    "start_time": "2022-03-08T19:03:19.837Z"
   },
   {
    "duration": 9,
    "start_time": "2022-03-08T19:03:20.125Z"
   },
   {
    "duration": 39,
    "start_time": "2022-03-08T19:03:20.135Z"
   },
   {
    "duration": 9,
    "start_time": "2022-03-08T19:03:20.177Z"
   },
   {
    "duration": 18,
    "start_time": "2022-03-08T19:03:20.188Z"
   },
   {
    "duration": 16,
    "start_time": "2022-03-08T19:03:20.208Z"
   },
   {
    "duration": 11,
    "start_time": "2022-03-08T19:03:20.226Z"
   },
   {
    "duration": 12,
    "start_time": "2022-03-08T19:03:20.239Z"
   },
   {
    "duration": 13,
    "start_time": "2022-03-08T19:03:20.253Z"
   },
   {
    "duration": 34,
    "start_time": "2022-03-08T19:03:20.268Z"
   },
   {
    "duration": 74,
    "start_time": "2022-03-08T19:03:20.304Z"
   },
   {
    "duration": 21,
    "start_time": "2022-03-08T19:03:20.380Z"
   },
   {
    "duration": 103,
    "start_time": "2022-03-08T19:03:20.404Z"
   },
   {
    "duration": 40,
    "start_time": "2022-03-08T19:03:20.509Z"
   },
   {
    "duration": 57,
    "start_time": "2022-03-08T19:03:20.550Z"
   },
   {
    "duration": 6,
    "start_time": "2022-03-08T19:03:20.609Z"
   },
   {
    "duration": 7,
    "start_time": "2022-03-08T19:03:20.617Z"
   },
   {
    "duration": 10,
    "start_time": "2022-03-08T19:03:20.626Z"
   },
   {
    "duration": 77,
    "start_time": "2022-03-08T19:03:20.638Z"
   },
   {
    "duration": 29,
    "start_time": "2022-03-08T19:03:20.718Z"
   },
   {
    "duration": 9,
    "start_time": "2022-03-08T19:03:20.749Z"
   },
   {
    "duration": 46,
    "start_time": "2022-03-08T19:03:20.763Z"
   },
   {
    "duration": 7,
    "start_time": "2022-03-08T19:03:20.813Z"
   },
   {
    "duration": 31,
    "start_time": "2022-03-08T19:03:20.822Z"
   },
   {
    "duration": 7,
    "start_time": "2022-03-08T19:03:20.855Z"
   },
   {
    "duration": 37,
    "start_time": "2022-03-08T19:03:20.864Z"
   },
   {
    "duration": 9,
    "start_time": "2022-03-08T19:03:20.903Z"
   },
   {
    "duration": 17,
    "start_time": "2022-03-08T19:03:20.914Z"
   },
   {
    "duration": 10,
    "start_time": "2022-03-08T19:03:20.934Z"
   },
   {
    "duration": 16,
    "start_time": "2022-03-08T19:03:20.947Z"
   },
   {
    "duration": 13,
    "start_time": "2022-03-08T19:03:20.965Z"
   },
   {
    "duration": 25,
    "start_time": "2022-03-08T19:03:20.980Z"
   },
   {
    "duration": 15,
    "start_time": "2022-03-08T19:03:21.008Z"
   },
   {
    "duration": 10,
    "start_time": "2022-03-08T19:03:21.025Z"
   },
   {
    "duration": 6,
    "start_time": "2022-03-08T19:03:21.037Z"
   },
   {
    "duration": 23,
    "start_time": "2022-03-08T19:03:21.045Z"
   },
   {
    "duration": 7,
    "start_time": "2022-03-08T19:03:21.071Z"
   },
   {
    "duration": 210,
    "start_time": "2022-03-08T19:03:21.080Z"
   },
   {
    "duration": 19,
    "start_time": "2022-03-08T19:03:21.292Z"
   },
   {
    "duration": 6,
    "start_time": "2022-03-08T19:03:21.314Z"
   },
   {
    "duration": 20,
    "start_time": "2022-03-08T19:03:21.322Z"
   },
   {
    "duration": 19,
    "start_time": "2022-03-08T19:03:21.344Z"
   },
   {
    "duration": 280,
    "start_time": "2022-03-08T19:03:21.365Z"
   },
   {
    "duration": 185,
    "start_time": "2022-03-08T19:03:21.647Z"
   },
   {
    "duration": 198,
    "start_time": "2022-03-08T19:03:21.834Z"
   },
   {
    "duration": 211,
    "start_time": "2022-03-08T19:03:22.034Z"
   },
   {
    "duration": 210,
    "start_time": "2022-03-08T19:03:22.247Z"
   },
   {
    "duration": 17,
    "start_time": "2022-03-08T19:03:22.459Z"
   },
   {
    "duration": 309,
    "start_time": "2022-03-08T19:03:22.477Z"
   },
   {
    "duration": 209,
    "start_time": "2022-03-08T19:03:22.788Z"
   },
   {
    "duration": 15,
    "start_time": "2022-03-08T19:03:22.998Z"
   },
   {
    "duration": 205,
    "start_time": "2022-03-08T19:03:23.015Z"
   },
   {
    "duration": 217,
    "start_time": "2022-03-08T19:03:23.222Z"
   },
   {
    "duration": 14,
    "start_time": "2022-03-08T19:03:23.441Z"
   },
   {
    "duration": 9,
    "start_time": "2022-03-08T19:03:23.457Z"
   },
   {
    "duration": 7,
    "start_time": "2022-03-08T19:03:23.467Z"
   },
   {
    "duration": 28,
    "start_time": "2022-03-08T19:03:23.476Z"
   },
   {
    "duration": 5,
    "start_time": "2022-03-08T19:03:23.506Z"
   },
   {
    "duration": 7,
    "start_time": "2022-03-08T19:03:23.512Z"
   },
   {
    "duration": 7,
    "start_time": "2022-03-08T19:03:23.521Z"
   },
   {
    "duration": 4,
    "start_time": "2022-03-08T19:03:25.184Z"
   },
   {
    "duration": 6,
    "start_time": "2022-03-08T19:03:26.121Z"
   },
   {
    "duration": 1265,
    "start_time": "2022-03-09T11:50:59.897Z"
   },
   {
    "duration": 4,
    "start_time": "2022-03-09T11:51:01.165Z"
   },
   {
    "duration": 427,
    "start_time": "2022-03-09T11:51:01.172Z"
   },
   {
    "duration": 13,
    "start_time": "2022-03-09T11:51:01.601Z"
   },
   {
    "duration": 43,
    "start_time": "2022-03-09T11:51:01.616Z"
   },
   {
    "duration": 19,
    "start_time": "2022-03-09T11:51:01.661Z"
   },
   {
    "duration": 32,
    "start_time": "2022-03-09T11:51:01.682Z"
   },
   {
    "duration": 264,
    "start_time": "2022-03-09T11:51:01.717Z"
   },
   {
    "duration": 19,
    "start_time": "2022-03-09T11:51:01.983Z"
   },
   {
    "duration": 38,
    "start_time": "2022-03-09T11:51:02.004Z"
   },
   {
    "duration": 26,
    "start_time": "2022-03-09T11:51:02.044Z"
   },
   {
    "duration": 31,
    "start_time": "2022-03-09T11:51:02.071Z"
   },
   {
    "duration": 33,
    "start_time": "2022-03-09T11:51:02.104Z"
   },
   {
    "duration": 39,
    "start_time": "2022-03-09T11:51:02.139Z"
   },
   {
    "duration": 53,
    "start_time": "2022-03-09T11:51:02.180Z"
   },
   {
    "duration": 46,
    "start_time": "2022-03-09T11:51:02.235Z"
   },
   {
    "duration": 19,
    "start_time": "2022-03-09T11:51:02.283Z"
   },
   {
    "duration": 94,
    "start_time": "2022-03-09T11:51:02.303Z"
   },
   {
    "duration": 8,
    "start_time": "2022-03-09T11:51:02.399Z"
   },
   {
    "duration": 112,
    "start_time": "2022-03-09T11:51:02.409Z"
   },
   {
    "duration": 47,
    "start_time": "2022-03-09T11:51:02.523Z"
   },
   {
    "duration": 58,
    "start_time": "2022-03-09T11:51:02.572Z"
   },
   {
    "duration": 7,
    "start_time": "2022-03-09T11:51:02.635Z"
   },
   {
    "duration": 39,
    "start_time": "2022-03-09T11:51:02.645Z"
   },
   {
    "duration": 31,
    "start_time": "2022-03-09T11:51:02.686Z"
   },
   {
    "duration": 79,
    "start_time": "2022-03-09T11:51:02.719Z"
   },
   {
    "duration": 32,
    "start_time": "2022-03-09T11:51:02.800Z"
   },
   {
    "duration": 8,
    "start_time": "2022-03-09T11:51:02.834Z"
   },
   {
    "duration": 41,
    "start_time": "2022-03-09T11:51:02.844Z"
   },
   {
    "duration": 21,
    "start_time": "2022-03-09T11:51:02.887Z"
   },
   {
    "duration": 48,
    "start_time": "2022-03-09T11:51:02.910Z"
   },
   {
    "duration": 7,
    "start_time": "2022-03-09T11:51:02.960Z"
   },
   {
    "duration": 15,
    "start_time": "2022-03-09T11:51:02.969Z"
   },
   {
    "duration": 17,
    "start_time": "2022-03-09T11:51:02.985Z"
   },
   {
    "duration": 27,
    "start_time": "2022-03-09T11:51:03.003Z"
   },
   {
    "duration": 18,
    "start_time": "2022-03-09T11:51:03.031Z"
   },
   {
    "duration": 19,
    "start_time": "2022-03-09T11:51:03.051Z"
   },
   {
    "duration": 21,
    "start_time": "2022-03-09T11:51:03.071Z"
   },
   {
    "duration": 13,
    "start_time": "2022-03-09T11:51:03.094Z"
   },
   {
    "duration": 8,
    "start_time": "2022-03-09T11:51:03.109Z"
   },
   {
    "duration": 14,
    "start_time": "2022-03-09T11:51:03.119Z"
   },
   {
    "duration": 32,
    "start_time": "2022-03-09T11:51:03.135Z"
   },
   {
    "duration": 54,
    "start_time": "2022-03-09T11:51:03.169Z"
   },
   {
    "duration": 13,
    "start_time": "2022-03-09T11:51:03.225Z"
   },
   {
    "duration": 252,
    "start_time": "2022-03-09T11:51:03.240Z"
   },
   {
    "duration": 14,
    "start_time": "2022-03-09T11:51:03.494Z"
   },
   {
    "duration": 10,
    "start_time": "2022-03-09T11:51:03.510Z"
   },
   {
    "duration": 26,
    "start_time": "2022-03-09T11:51:03.522Z"
   },
   {
    "duration": 28,
    "start_time": "2022-03-09T11:51:03.549Z"
   },
   {
    "duration": 269,
    "start_time": "2022-03-09T11:51:03.579Z"
   },
   {
    "duration": 193,
    "start_time": "2022-03-09T11:51:03.850Z"
   },
   {
    "duration": 207,
    "start_time": "2022-03-09T11:51:04.045Z"
   },
   {
    "duration": 220,
    "start_time": "2022-03-09T11:51:04.254Z"
   },
   {
    "duration": 220,
    "start_time": "2022-03-09T11:51:04.476Z"
   },
   {
    "duration": 16,
    "start_time": "2022-03-09T11:51:04.699Z"
   },
   {
    "duration": 226,
    "start_time": "2022-03-09T11:51:04.717Z"
   },
   {
    "duration": 220,
    "start_time": "2022-03-09T11:51:04.945Z"
   },
   {
    "duration": 16,
    "start_time": "2022-03-09T11:51:05.167Z"
   },
   {
    "duration": 329,
    "start_time": "2022-03-09T11:51:05.185Z"
   },
   {
    "duration": 222,
    "start_time": "2022-03-09T11:51:05.517Z"
   },
   {
    "duration": 16,
    "start_time": "2022-03-09T11:51:05.741Z"
   },
   {
    "duration": 7,
    "start_time": "2022-03-09T11:51:05.759Z"
   },
   {
    "duration": 33,
    "start_time": "2022-03-09T11:51:05.768Z"
   },
   {
    "duration": 22,
    "start_time": "2022-03-09T11:51:05.803Z"
   },
   {
    "duration": 11,
    "start_time": "2022-03-09T11:51:05.827Z"
   },
   {
    "duration": 17,
    "start_time": "2022-03-09T11:51:05.840Z"
   },
   {
    "duration": 26,
    "start_time": "2022-03-09T11:51:05.858Z"
   },
   {
    "duration": 28,
    "start_time": "2022-03-09T11:51:05.889Z"
   },
   {
    "duration": 17,
    "start_time": "2022-03-09T11:51:05.920Z"
   },
   {
    "duration": 31,
    "start_time": "2022-03-09T11:51:05.940Z"
   },
   {
    "duration": 25,
    "start_time": "2022-03-09T11:51:05.974Z"
   },
   {
    "duration": 16,
    "start_time": "2022-03-09T11:51:06.002Z"
   },
   {
    "duration": 21,
    "start_time": "2022-03-09T11:51:06.020Z"
   },
   {
    "duration": 20,
    "start_time": "2022-03-09T11:51:06.044Z"
   },
   {
    "duration": 17,
    "start_time": "2022-03-09T11:51:06.066Z"
   },
   {
    "duration": 251,
    "start_time": "2022-03-09T11:51:06.085Z"
   },
   {
    "duration": 99,
    "start_time": "2022-03-09T11:51:06.338Z"
   },
   {
    "duration": 2444,
    "start_time": "2022-03-09T11:51:06.439Z"
   },
   {
    "duration": 101,
    "start_time": "2022-03-10T07:10:43.213Z"
   },
   {
    "duration": 964,
    "start_time": "2022-03-10T07:14:45.102Z"
   },
   {
    "duration": 3,
    "start_time": "2022-03-10T07:14:46.067Z"
   },
   {
    "duration": 361,
    "start_time": "2022-03-10T07:14:46.071Z"
   },
   {
    "duration": 9,
    "start_time": "2022-03-10T07:14:46.434Z"
   },
   {
    "duration": 20,
    "start_time": "2022-03-10T07:14:46.445Z"
   },
   {
    "duration": 6,
    "start_time": "2022-03-10T07:14:46.466Z"
   },
   {
    "duration": 17,
    "start_time": "2022-03-10T07:14:46.474Z"
   },
   {
    "duration": 188,
    "start_time": "2022-03-10T07:14:46.493Z"
   },
   {
    "duration": 6,
    "start_time": "2022-03-10T07:14:46.683Z"
   },
   {
    "duration": 20,
    "start_time": "2022-03-10T07:14:46.690Z"
   },
   {
    "duration": 8,
    "start_time": "2022-03-10T07:14:46.711Z"
   },
   {
    "duration": 9,
    "start_time": "2022-03-10T07:14:46.720Z"
   },
   {
    "duration": 13,
    "start_time": "2022-03-10T07:14:46.730Z"
   },
   {
    "duration": 9,
    "start_time": "2022-03-10T07:14:46.744Z"
   },
   {
    "duration": 21,
    "start_time": "2022-03-10T07:14:46.754Z"
   },
   {
    "duration": 11,
    "start_time": "2022-03-10T07:14:46.776Z"
   },
   {
    "duration": 5,
    "start_time": "2022-03-10T07:14:46.788Z"
   },
   {
    "duration": 65,
    "start_time": "2022-03-10T07:14:46.794Z"
   },
   {
    "duration": 6,
    "start_time": "2022-03-10T07:14:46.860Z"
   },
   {
    "duration": 85,
    "start_time": "2022-03-10T07:14:46.868Z"
   },
   {
    "duration": 33,
    "start_time": "2022-03-10T07:14:46.954Z"
   },
   {
    "duration": 44,
    "start_time": "2022-03-10T07:14:46.989Z"
   },
   {
    "duration": 5,
    "start_time": "2022-03-10T07:14:47.037Z"
   },
   {
    "duration": 5,
    "start_time": "2022-03-10T07:14:47.044Z"
   },
   {
    "duration": 7,
    "start_time": "2022-03-10T07:14:47.051Z"
   },
   {
    "duration": 66,
    "start_time": "2022-03-10T07:14:47.060Z"
   },
   {
    "duration": 23,
    "start_time": "2022-03-10T07:14:47.127Z"
   },
   {
    "duration": 6,
    "start_time": "2022-03-10T07:14:47.152Z"
   },
   {
    "duration": 20,
    "start_time": "2022-03-10T07:14:47.159Z"
   },
   {
    "duration": 26,
    "start_time": "2022-03-10T07:14:47.180Z"
   },
   {
    "duration": 19,
    "start_time": "2022-03-10T07:14:47.207Z"
   },
   {
    "duration": 5,
    "start_time": "2022-03-10T07:14:47.227Z"
   },
   {
    "duration": 17,
    "start_time": "2022-03-10T07:14:47.234Z"
   },
   {
    "duration": 8,
    "start_time": "2022-03-10T07:14:47.252Z"
   },
   {
    "duration": 11,
    "start_time": "2022-03-10T07:14:47.261Z"
   },
   {
    "duration": 6,
    "start_time": "2022-03-10T07:14:47.273Z"
   },
   {
    "duration": 10,
    "start_time": "2022-03-10T07:14:47.280Z"
   },
   {
    "duration": 6,
    "start_time": "2022-03-10T07:14:47.305Z"
   },
   {
    "duration": 4,
    "start_time": "2022-03-10T07:14:47.313Z"
   },
   {
    "duration": 4,
    "start_time": "2022-03-10T07:14:47.318Z"
   },
   {
    "duration": 5,
    "start_time": "2022-03-10T07:14:47.323Z"
   },
   {
    "duration": 5,
    "start_time": "2022-03-10T07:14:47.329Z"
   },
   {
    "duration": 7,
    "start_time": "2022-03-10T07:14:47.335Z"
   },
   {
    "duration": 4,
    "start_time": "2022-03-10T07:14:47.343Z"
   },
   {
    "duration": 202,
    "start_time": "2022-03-10T07:14:47.348Z"
   },
   {
    "duration": 10,
    "start_time": "2022-03-10T07:14:47.552Z"
   },
   {
    "duration": 6,
    "start_time": "2022-03-10T07:14:47.563Z"
   },
   {
    "duration": 13,
    "start_time": "2022-03-10T07:14:47.570Z"
   },
   {
    "duration": 24,
    "start_time": "2022-03-10T07:14:47.584Z"
   },
   {
    "duration": 215,
    "start_time": "2022-03-10T07:14:47.609Z"
   },
   {
    "duration": 145,
    "start_time": "2022-03-10T07:14:47.826Z"
   },
   {
    "duration": 159,
    "start_time": "2022-03-10T07:14:47.972Z"
   },
   {
    "duration": 166,
    "start_time": "2022-03-10T07:14:48.132Z"
   },
   {
    "duration": 173,
    "start_time": "2022-03-10T07:14:48.299Z"
   },
   {
    "duration": 14,
    "start_time": "2022-03-10T07:14:48.473Z"
   },
   {
    "duration": 174,
    "start_time": "2022-03-10T07:14:48.488Z"
   },
   {
    "duration": 168,
    "start_time": "2022-03-10T07:14:48.664Z"
   },
   {
    "duration": 12,
    "start_time": "2022-03-10T07:14:48.833Z"
   },
   {
    "duration": 222,
    "start_time": "2022-03-10T07:14:48.846Z"
   },
   {
    "duration": 163,
    "start_time": "2022-03-10T07:14:49.070Z"
   },
   {
    "duration": 10,
    "start_time": "2022-03-10T07:14:49.235Z"
   },
   {
    "duration": 10,
    "start_time": "2022-03-10T07:14:49.246Z"
   },
   {
    "duration": 7,
    "start_time": "2022-03-10T07:14:49.258Z"
   },
   {
    "duration": 8,
    "start_time": "2022-03-10T07:14:49.267Z"
   },
   {
    "duration": 3,
    "start_time": "2022-03-10T07:14:49.276Z"
   },
   {
    "duration": 5,
    "start_time": "2022-03-10T07:14:49.281Z"
   },
   {
    "duration": 24,
    "start_time": "2022-03-10T07:14:49.287Z"
   },
   {
    "duration": 6,
    "start_time": "2022-03-10T07:14:49.315Z"
   },
   {
    "duration": 5,
    "start_time": "2022-03-10T07:14:49.322Z"
   },
   {
    "duration": 5,
    "start_time": "2022-03-10T07:14:49.328Z"
   },
   {
    "duration": 9,
    "start_time": "2022-03-10T07:14:49.334Z"
   },
   {
    "duration": 5,
    "start_time": "2022-03-10T07:14:49.344Z"
   },
   {
    "duration": 3,
    "start_time": "2022-03-10T07:14:49.350Z"
   },
   {
    "duration": 7,
    "start_time": "2022-03-10T07:14:49.354Z"
   },
   {
    "duration": 9,
    "start_time": "2022-03-10T07:14:49.362Z"
   },
   {
    "duration": 337,
    "start_time": "2022-03-10T07:14:49.373Z"
   },
   {
    "duration": 77,
    "start_time": "2022-03-10T07:14:49.711Z"
   },
   {
    "duration": 1974,
    "start_time": "2022-03-10T07:14:49.789Z"
   },
   {
    "duration": 4,
    "start_time": "2022-03-10T07:15:21.917Z"
   },
   {
    "duration": 15,
    "start_time": "2022-03-10T07:18:16.872Z"
   },
   {
    "duration": 7,
    "start_time": "2022-03-10T07:18:24.812Z"
   },
   {
    "duration": 5,
    "start_time": "2022-03-10T07:18:38.011Z"
   },
   {
    "duration": 6,
    "start_time": "2022-03-10T07:19:17.181Z"
   },
   {
    "duration": 6,
    "start_time": "2022-03-10T07:19:35.469Z"
   },
   {
    "duration": 170,
    "start_time": "2022-03-10T07:23:00.998Z"
   },
   {
    "duration": 4,
    "start_time": "2022-03-10T07:23:06.143Z"
   },
   {
    "duration": 4,
    "start_time": "2022-03-10T07:23:22.294Z"
   },
   {
    "duration": 393,
    "start_time": "2022-03-10T07:25:07.505Z"
   },
   {
    "duration": 3,
    "start_time": "2022-03-10T07:25:24.883Z"
   },
   {
    "duration": 11,
    "start_time": "2022-03-10T07:32:39.684Z"
   },
   {
    "duration": 4,
    "start_time": "2022-03-10T07:32:47.938Z"
   },
   {
    "duration": 10,
    "start_time": "2022-03-10T07:33:00.682Z"
   },
   {
    "duration": 2265,
    "start_time": "2022-03-10T07:39:29.673Z"
   },
   {
    "duration": 2273,
    "start_time": "2022-03-10T07:40:03.057Z"
   },
   {
    "duration": 420,
    "start_time": "2022-03-10T07:43:14.458Z"
   },
   {
    "duration": 469,
    "start_time": "2022-03-10T07:43:34.914Z"
   },
   {
    "duration": 584,
    "start_time": "2022-03-10T07:43:56.290Z"
   },
   {
    "duration": 498,
    "start_time": "2022-03-10T07:44:06.699Z"
   },
   {
    "duration": 373,
    "start_time": "2022-03-10T07:44:12.011Z"
   },
   {
    "duration": 367,
    "start_time": "2022-03-10T07:44:30.148Z"
   },
   {
    "duration": 438,
    "start_time": "2022-03-10T07:44:38.949Z"
   },
   {
    "duration": 553,
    "start_time": "2022-03-10T07:44:45.540Z"
   },
   {
    "duration": 454,
    "start_time": "2022-03-10T07:44:58.957Z"
   },
   {
    "duration": 1016,
    "start_time": "2022-03-10T07:47:01.020Z"
   },
   {
    "duration": 2,
    "start_time": "2022-03-10T07:47:02.038Z"
   },
   {
    "duration": 414,
    "start_time": "2022-03-10T07:47:02.042Z"
   },
   {
    "duration": 8,
    "start_time": "2022-03-10T07:47:02.458Z"
   },
   {
    "duration": 22,
    "start_time": "2022-03-10T07:47:02.468Z"
   },
   {
    "duration": 6,
    "start_time": "2022-03-10T07:47:02.492Z"
   },
   {
    "duration": 18,
    "start_time": "2022-03-10T07:47:02.499Z"
   },
   {
    "duration": 197,
    "start_time": "2022-03-10T07:47:02.519Z"
   },
   {
    "duration": 6,
    "start_time": "2022-03-10T07:47:02.717Z"
   },
   {
    "duration": 16,
    "start_time": "2022-03-10T07:47:02.725Z"
   },
   {
    "duration": 7,
    "start_time": "2022-03-10T07:47:02.742Z"
   },
   {
    "duration": 6,
    "start_time": "2022-03-10T07:47:02.750Z"
   },
   {
    "duration": 10,
    "start_time": "2022-03-10T07:47:02.757Z"
   },
   {
    "duration": 7,
    "start_time": "2022-03-10T07:47:02.768Z"
   },
   {
    "duration": 9,
    "start_time": "2022-03-10T07:47:02.776Z"
   },
   {
    "duration": 10,
    "start_time": "2022-03-10T07:47:02.786Z"
   },
   {
    "duration": 5,
    "start_time": "2022-03-10T07:47:02.797Z"
   },
   {
    "duration": 61,
    "start_time": "2022-03-10T07:47:02.803Z"
   },
   {
    "duration": 6,
    "start_time": "2022-03-10T07:47:02.865Z"
   },
   {
    "duration": 79,
    "start_time": "2022-03-10T07:47:02.873Z"
   },
   {
    "duration": 35,
    "start_time": "2022-03-10T07:47:02.953Z"
   },
   {
    "duration": 33,
    "start_time": "2022-03-10T07:47:02.990Z"
   },
   {
    "duration": 5,
    "start_time": "2022-03-10T07:47:03.026Z"
   },
   {
    "duration": 6,
    "start_time": "2022-03-10T07:47:03.033Z"
   },
   {
    "duration": 9,
    "start_time": "2022-03-10T07:47:03.041Z"
   },
   {
    "duration": 43,
    "start_time": "2022-03-10T07:47:03.052Z"
   },
   {
    "duration": 25,
    "start_time": "2022-03-10T07:47:03.097Z"
   },
   {
    "duration": 6,
    "start_time": "2022-03-10T07:47:03.124Z"
   },
   {
    "duration": 77,
    "start_time": "2022-03-10T07:47:03.131Z"
   },
   {
    "duration": 6,
    "start_time": "2022-03-10T07:47:03.209Z"
   },
   {
    "duration": 25,
    "start_time": "2022-03-10T07:47:03.217Z"
   },
   {
    "duration": 6,
    "start_time": "2022-03-10T07:47:03.244Z"
   },
   {
    "duration": 15,
    "start_time": "2022-03-10T07:47:03.252Z"
   },
   {
    "duration": 6,
    "start_time": "2022-03-10T07:47:03.269Z"
   },
   {
    "duration": 8,
    "start_time": "2022-03-10T07:47:03.276Z"
   },
   {
    "duration": 8,
    "start_time": "2022-03-10T07:47:03.285Z"
   },
   {
    "duration": 15,
    "start_time": "2022-03-10T07:47:03.294Z"
   },
   {
    "duration": 6,
    "start_time": "2022-03-10T07:47:03.310Z"
   },
   {
    "duration": 4,
    "start_time": "2022-03-10T07:47:03.318Z"
   },
   {
    "duration": 7,
    "start_time": "2022-03-10T07:47:03.324Z"
   },
   {
    "duration": 6,
    "start_time": "2022-03-10T07:47:03.333Z"
   },
   {
    "duration": 7,
    "start_time": "2022-03-10T07:47:03.340Z"
   },
   {
    "duration": 10,
    "start_time": "2022-03-10T07:47:03.349Z"
   },
   {
    "duration": 5,
    "start_time": "2022-03-10T07:47:03.360Z"
   },
   {
    "duration": 6,
    "start_time": "2022-03-10T07:47:03.366Z"
   },
   {
    "duration": 3,
    "start_time": "2022-03-10T07:47:03.374Z"
   },
   {
    "duration": 237,
    "start_time": "2022-03-10T07:47:03.405Z"
   },
   {
    "duration": 10,
    "start_time": "2022-03-10T07:47:03.644Z"
   },
   {
    "duration": 50,
    "start_time": "2022-03-10T07:47:03.656Z"
   },
   {
    "duration": 13,
    "start_time": "2022-03-10T07:47:03.707Z"
   },
   {
    "duration": 18,
    "start_time": "2022-03-10T07:47:03.721Z"
   },
   {
    "duration": 697,
    "start_time": "2022-03-10T07:47:03.741Z"
   },
   {
    "duration": 591,
    "start_time": "2022-03-10T07:47:04.440Z"
   },
   {
    "duration": 185,
    "start_time": "2022-03-10T07:47:05.034Z"
   },
   {
    "duration": 199,
    "start_time": "2022-03-10T07:47:05.222Z"
   },
   {
    "duration": 201,
    "start_time": "2022-03-10T07:47:05.423Z"
   },
   {
    "duration": 16,
    "start_time": "2022-03-10T07:47:05.627Z"
   },
   {
    "duration": 207,
    "start_time": "2022-03-10T07:47:05.645Z"
   },
   {
    "duration": 191,
    "start_time": "2022-03-10T07:47:05.854Z"
   },
   {
    "duration": 14,
    "start_time": "2022-03-10T07:47:06.046Z"
   },
   {
    "duration": 253,
    "start_time": "2022-03-10T07:47:06.061Z"
   },
   {
    "duration": 187,
    "start_time": "2022-03-10T07:47:06.315Z"
   },
   {
    "duration": 13,
    "start_time": "2022-03-10T07:47:06.505Z"
   },
   {
    "duration": 7,
    "start_time": "2022-03-10T07:47:06.519Z"
   },
   {
    "duration": 8,
    "start_time": "2022-03-10T07:47:06.527Z"
   },
   {
    "duration": 6,
    "start_time": "2022-03-10T07:47:06.536Z"
   },
   {
    "duration": 3,
    "start_time": "2022-03-10T07:47:06.544Z"
   },
   {
    "duration": 2,
    "start_time": "2022-03-10T07:47:06.552Z"
   },
   {
    "duration": 6,
    "start_time": "2022-03-10T07:47:06.556Z"
   },
   {
    "duration": 45,
    "start_time": "2022-03-10T07:47:06.564Z"
   },
   {
    "duration": 5,
    "start_time": "2022-03-10T07:47:06.611Z"
   },
   {
    "duration": 6,
    "start_time": "2022-03-10T07:47:06.618Z"
   },
   {
    "duration": 11,
    "start_time": "2022-03-10T07:47:06.626Z"
   },
   {
    "duration": 6,
    "start_time": "2022-03-10T07:47:06.639Z"
   },
   {
    "duration": 4,
    "start_time": "2022-03-10T07:47:06.647Z"
   },
   {
    "duration": 4,
    "start_time": "2022-03-10T07:47:06.653Z"
   },
   {
    "duration": 46,
    "start_time": "2022-03-10T07:47:06.659Z"
   },
   {
    "duration": 12,
    "start_time": "2022-03-10T07:47:06.708Z"
   },
   {
    "duration": 461,
    "start_time": "2022-03-10T07:47:06.721Z"
   },
   {
    "duration": 213,
    "start_time": "2022-03-10T07:47:07.184Z"
   },
   {
    "duration": 70,
    "start_time": "2022-03-10T07:47:07.399Z"
   },
   {
    "duration": 2117,
    "start_time": "2022-03-10T07:47:07.471Z"
   },
   {
    "duration": 2419,
    "start_time": "2022-03-10T07:47:09.589Z"
   },
   {
    "duration": 272,
    "start_time": "2022-03-10T07:48:10.504Z"
   },
   {
    "duration": 7,
    "start_time": "2022-03-10T07:48:15.143Z"
   },
   {
    "duration": 1231,
    "start_time": "2022-09-10T11:22:49.567Z"
   },
   {
    "duration": 3,
    "start_time": "2022-09-10T11:22:50.800Z"
   },
   {
    "duration": 1580,
    "start_time": "2022-09-10T11:22:51.251Z"
   },
   {
    "duration": 10,
    "start_time": "2022-09-10T11:22:53.677Z"
   },
   {
    "duration": 35,
    "start_time": "2022-09-10T11:22:54.335Z"
   },
   {
    "duration": 7,
    "start_time": "2022-09-10T11:22:56.115Z"
   },
   {
    "duration": 23,
    "start_time": "2022-09-10T11:22:58.508Z"
   },
   {
    "duration": 5,
    "start_time": "2022-09-10T12:01:51.511Z"
   },
   {
    "duration": 6,
    "start_time": "2022-09-10T12:02:29.394Z"
   },
   {
    "duration": 103,
    "start_time": "2022-09-10T12:04:15.673Z"
   },
   {
    "duration": 3,
    "start_time": "2022-09-10T12:04:26.720Z"
   },
   {
    "duration": 6,
    "start_time": "2022-09-10T12:04:26.725Z"
   },
   {
    "duration": 444,
    "start_time": "2022-09-10T12:04:26.733Z"
   },
   {
    "duration": 10,
    "start_time": "2022-09-10T12:04:27.179Z"
   },
   {
    "duration": 50,
    "start_time": "2022-09-10T12:04:27.192Z"
   },
   {
    "duration": 17,
    "start_time": "2022-09-10T12:04:27.244Z"
   },
   {
    "duration": 44,
    "start_time": "2022-09-10T12:04:27.263Z"
   },
   {
    "duration": 254,
    "start_time": "2022-09-10T12:04:27.309Z"
   },
   {
    "duration": 12,
    "start_time": "2022-09-10T12:04:27.565Z"
   },
   {
    "duration": 22,
    "start_time": "2022-09-10T12:04:27.580Z"
   },
   {
    "duration": 8,
    "start_time": "2022-09-10T12:04:27.604Z"
   },
   {
    "duration": 27,
    "start_time": "2022-09-10T12:04:27.614Z"
   },
   {
    "duration": 17,
    "start_time": "2022-09-10T12:04:27.643Z"
   },
   {
    "duration": 18,
    "start_time": "2022-09-10T12:04:27.662Z"
   },
   {
    "duration": 24,
    "start_time": "2022-09-10T12:04:27.682Z"
   },
   {
    "duration": 19,
    "start_time": "2022-09-10T12:04:27.708Z"
   },
   {
    "duration": 99,
    "start_time": "2022-09-10T12:04:27.728Z"
   },
   {
    "duration": 6,
    "start_time": "2022-09-10T12:04:27.829Z"
   },
   {
    "duration": 102,
    "start_time": "2022-09-10T12:04:27.837Z"
   },
   {
    "duration": 56,
    "start_time": "2022-09-10T12:04:27.941Z"
   },
   {
    "duration": 68,
    "start_time": "2022-09-10T12:04:28.000Z"
   },
   {
    "duration": 6,
    "start_time": "2022-09-10T12:04:28.070Z"
   },
   {
    "duration": 11,
    "start_time": "2022-09-10T12:04:28.078Z"
   },
   {
    "duration": 19,
    "start_time": "2022-09-10T12:04:28.090Z"
   },
   {
    "duration": 61,
    "start_time": "2022-09-10T12:04:28.112Z"
   },
   {
    "duration": 30,
    "start_time": "2022-09-10T12:04:28.175Z"
   },
   {
    "duration": 6,
    "start_time": "2022-09-10T12:04:28.207Z"
   },
   {
    "duration": 43,
    "start_time": "2022-09-10T12:04:28.214Z"
   },
   {
    "duration": 7,
    "start_time": "2022-09-10T12:04:28.258Z"
   },
   {
    "duration": 27,
    "start_time": "2022-09-10T12:04:28.266Z"
   },
   {
    "duration": 7,
    "start_time": "2022-09-10T12:04:28.294Z"
   },
   {
    "duration": 12,
    "start_time": "2022-09-10T12:04:28.302Z"
   },
   {
    "duration": 27,
    "start_time": "2022-09-10T12:04:28.315Z"
   },
   {
    "duration": 9,
    "start_time": "2022-09-10T12:04:28.344Z"
   },
   {
    "duration": 10,
    "start_time": "2022-09-10T12:04:28.355Z"
   },
   {
    "duration": 40,
    "start_time": "2022-09-10T12:04:28.367Z"
   },
   {
    "duration": 18,
    "start_time": "2022-09-10T12:04:28.409Z"
   },
   {
    "duration": 11,
    "start_time": "2022-09-10T12:04:28.429Z"
   },
   {
    "duration": 11,
    "start_time": "2022-09-10T12:04:28.442Z"
   },
   {
    "duration": 21,
    "start_time": "2022-09-10T12:04:28.454Z"
   },
   {
    "duration": 16,
    "start_time": "2022-09-10T12:04:28.477Z"
   },
   {
    "duration": 16,
    "start_time": "2022-09-10T12:04:28.495Z"
   },
   {
    "duration": 6,
    "start_time": "2022-09-10T12:04:30.587Z"
   },
   {
    "duration": 5,
    "start_time": "2022-09-10T12:04:31.937Z"
   },
   {
    "duration": 13,
    "start_time": "2022-09-10T12:09:53.963Z"
   },
   {
    "duration": 6,
    "start_time": "2022-09-10T12:10:40.271Z"
   },
   {
    "duration": 6,
    "start_time": "2022-09-10T12:12:36.815Z"
   },
   {
    "duration": 7,
    "start_time": "2022-09-10T12:12:37.467Z"
   },
   {
    "duration": 8,
    "start_time": "2022-09-10T12:12:38.103Z"
   },
   {
    "duration": 8,
    "start_time": "2022-09-10T12:13:53.542Z"
   },
   {
    "duration": 6,
    "start_time": "2022-09-10T12:14:42.603Z"
   },
   {
    "duration": 6,
    "start_time": "2022-09-10T12:14:43.048Z"
   },
   {
    "duration": 4,
    "start_time": "2022-09-10T12:14:43.575Z"
   },
   {
    "duration": 6,
    "start_time": "2022-09-10T12:14:46.519Z"
   },
   {
    "duration": 14,
    "start_time": "2022-09-10T12:15:01.786Z"
   },
   {
    "duration": 8,
    "start_time": "2022-09-10T12:15:10.705Z"
   },
   {
    "duration": 4,
    "start_time": "2022-09-10T12:17:08.755Z"
   },
   {
    "duration": 6,
    "start_time": "2022-09-10T12:17:24.920Z"
   },
   {
    "duration": 6,
    "start_time": "2022-09-10T12:17:40.419Z"
   },
   {
    "duration": 5,
    "start_time": "2022-09-10T12:18:28.258Z"
   },
   {
    "duration": 5,
    "start_time": "2022-09-10T12:18:28.287Z"
   },
   {
    "duration": 10,
    "start_time": "2022-09-10T12:18:28.294Z"
   },
   {
    "duration": 6,
    "start_time": "2022-09-10T12:18:28.306Z"
   },
   {
    "duration": 9,
    "start_time": "2022-09-10T12:18:28.314Z"
   },
   {
    "duration": 8,
    "start_time": "2022-09-10T12:18:28.325Z"
   },
   {
    "duration": 16,
    "start_time": "2022-09-10T12:18:28.335Z"
   },
   {
    "duration": 6,
    "start_time": "2022-09-10T12:18:28.352Z"
   },
   {
    "duration": 15,
    "start_time": "2022-09-10T12:18:28.360Z"
   },
   {
    "duration": 4,
    "start_time": "2022-09-10T12:18:28.377Z"
   },
   {
    "duration": 110,
    "start_time": "2022-09-10T12:18:28.382Z"
   },
   {
    "duration": 10,
    "start_time": "2022-09-10T12:18:28.494Z"
   },
   {
    "duration": 7,
    "start_time": "2022-09-10T12:18:28.506Z"
   },
   {
    "duration": 23,
    "start_time": "2022-09-10T12:18:28.515Z"
   },
   {
    "duration": 15,
    "start_time": "2022-09-10T12:18:28.541Z"
   },
   {
    "duration": 148,
    "start_time": "2022-09-10T12:18:28.558Z"
   },
   {
    "duration": 113,
    "start_time": "2022-09-10T12:18:28.708Z"
   },
   {
    "duration": 127,
    "start_time": "2022-09-10T12:18:28.823Z"
   },
   {
    "duration": 134,
    "start_time": "2022-09-10T12:18:28.952Z"
   },
   {
    "duration": 140,
    "start_time": "2022-09-10T12:18:29.088Z"
   },
   {
    "duration": 18,
    "start_time": "2022-09-10T12:18:29.229Z"
   },
   {
    "duration": 138,
    "start_time": "2022-09-10T12:18:29.249Z"
   },
   {
    "duration": 135,
    "start_time": "2022-09-10T12:18:29.389Z"
   },
   {
    "duration": 19,
    "start_time": "2022-09-10T12:18:29.525Z"
   },
   {
    "duration": 127,
    "start_time": "2022-09-10T12:18:29.546Z"
   },
   {
    "duration": 195,
    "start_time": "2022-09-10T12:18:29.675Z"
   },
   {
    "duration": 12,
    "start_time": "2022-09-10T12:18:29.871Z"
   },
   {
    "duration": 5,
    "start_time": "2022-09-10T12:18:29.885Z"
   },
   {
    "duration": 11,
    "start_time": "2022-09-10T12:18:29.891Z"
   },
   {
    "duration": 12,
    "start_time": "2022-09-10T12:18:29.903Z"
   },
   {
    "duration": 20,
    "start_time": "2022-09-10T12:18:29.917Z"
   },
   {
    "duration": 11,
    "start_time": "2022-09-10T12:18:29.939Z"
   },
   {
    "duration": 9,
    "start_time": "2022-09-10T12:18:29.951Z"
   },
   {
    "duration": 7,
    "start_time": "2022-09-10T12:18:29.961Z"
   },
   {
    "duration": 4,
    "start_time": "2022-09-10T12:18:29.970Z"
   },
   {
    "duration": 7,
    "start_time": "2022-09-10T12:18:29.975Z"
   },
   {
    "duration": 9,
    "start_time": "2022-09-10T12:18:29.983Z"
   },
   {
    "duration": 7,
    "start_time": "2022-09-10T12:18:29.993Z"
   },
   {
    "duration": 5,
    "start_time": "2022-09-10T12:18:30.001Z"
   },
   {
    "duration": 36,
    "start_time": "2022-09-10T12:18:30.007Z"
   },
   {
    "duration": 18,
    "start_time": "2022-09-10T12:18:30.045Z"
   },
   {
    "duration": 16,
    "start_time": "2022-09-10T12:18:30.067Z"
   },
   {
    "duration": 318,
    "start_time": "2022-09-10T12:18:30.085Z"
   },
   {
    "duration": 202,
    "start_time": "2022-09-10T12:18:30.405Z"
   },
   {
    "duration": 62,
    "start_time": "2022-09-10T12:18:30.608Z"
   },
   {
    "duration": 1549,
    "start_time": "2022-09-10T12:18:30.672Z"
   },
   {
    "duration": 1602,
    "start_time": "2022-09-10T12:18:32.222Z"
   },
   {
    "duration": 4,
    "start_time": "2022-09-10T12:19:04.472Z"
   },
   {
    "duration": 18,
    "start_time": "2022-09-10T12:19:04.477Z"
   },
   {
    "duration": 432,
    "start_time": "2022-09-10T12:19:04.496Z"
   },
   {
    "duration": 7,
    "start_time": "2022-09-10T12:19:04.930Z"
   },
   {
    "duration": 33,
    "start_time": "2022-09-10T12:19:04.939Z"
   },
   {
    "duration": 9,
    "start_time": "2022-09-10T12:19:04.974Z"
   },
   {
    "duration": 34,
    "start_time": "2022-09-10T12:19:04.984Z"
   },
   {
    "duration": 209,
    "start_time": "2022-09-10T12:19:05.020Z"
   },
   {
    "duration": 11,
    "start_time": "2022-09-10T12:19:05.231Z"
   },
   {
    "duration": 30,
    "start_time": "2022-09-10T12:19:05.244Z"
   },
   {
    "duration": 15,
    "start_time": "2022-09-10T12:19:05.276Z"
   },
   {
    "duration": 24,
    "start_time": "2022-09-10T12:19:05.292Z"
   },
   {
    "duration": 20,
    "start_time": "2022-09-10T12:19:05.318Z"
   },
   {
    "duration": 18,
    "start_time": "2022-09-10T12:19:05.340Z"
   },
   {
    "duration": 22,
    "start_time": "2022-09-10T12:19:05.360Z"
   },
   {
    "duration": 22,
    "start_time": "2022-09-10T12:19:05.384Z"
   },
   {
    "duration": 77,
    "start_time": "2022-09-10T12:19:05.408Z"
   },
   {
    "duration": 6,
    "start_time": "2022-09-10T12:19:05.487Z"
   },
   {
    "duration": 103,
    "start_time": "2022-09-10T12:19:05.494Z"
   },
   {
    "duration": 48,
    "start_time": "2022-09-10T12:19:05.599Z"
   },
   {
    "duration": 38,
    "start_time": "2022-09-10T12:19:05.649Z"
   },
   {
    "duration": 4,
    "start_time": "2022-09-10T12:19:05.689Z"
   },
   {
    "duration": 16,
    "start_time": "2022-09-10T12:19:05.694Z"
   },
   {
    "duration": 27,
    "start_time": "2022-09-10T12:19:05.712Z"
   },
   {
    "duration": 58,
    "start_time": "2022-09-10T12:19:05.740Z"
   },
   {
    "duration": 23,
    "start_time": "2022-09-10T12:19:05.801Z"
   },
   {
    "duration": 12,
    "start_time": "2022-09-10T12:19:05.826Z"
   },
   {
    "duration": 26,
    "start_time": "2022-09-10T12:19:05.840Z"
   },
   {
    "duration": 6,
    "start_time": "2022-09-10T12:19:05.869Z"
   },
   {
    "duration": 33,
    "start_time": "2022-09-10T12:19:05.876Z"
   },
   {
    "duration": 6,
    "start_time": "2022-09-10T12:19:05.910Z"
   },
   {
    "duration": 34,
    "start_time": "2022-09-10T12:19:05.918Z"
   },
   {
    "duration": 15,
    "start_time": "2022-09-10T12:19:05.954Z"
   },
   {
    "duration": 24,
    "start_time": "2022-09-10T12:19:05.971Z"
   },
   {
    "duration": 43,
    "start_time": "2022-09-10T12:19:05.997Z"
   },
   {
    "duration": 25,
    "start_time": "2022-09-10T12:19:06.041Z"
   },
   {
    "duration": 32,
    "start_time": "2022-09-10T12:19:06.068Z"
   },
   {
    "duration": 10,
    "start_time": "2022-09-10T12:19:06.102Z"
   },
   {
    "duration": 24,
    "start_time": "2022-09-10T12:19:06.114Z"
   },
   {
    "duration": 26,
    "start_time": "2022-09-10T12:19:06.139Z"
   },
   {
    "duration": 20,
    "start_time": "2022-09-10T12:19:06.167Z"
   },
   {
    "duration": 31,
    "start_time": "2022-09-10T12:19:06.189Z"
   },
   {
    "duration": 28,
    "start_time": "2022-09-10T12:19:06.222Z"
   },
   {
    "duration": 6,
    "start_time": "2022-09-10T12:19:09.306Z"
   },
   {
    "duration": 6,
    "start_time": "2022-09-10T12:19:09.934Z"
   },
   {
    "duration": 7,
    "start_time": "2022-09-10T12:19:10.787Z"
   },
   {
    "duration": 7,
    "start_time": "2022-09-10T12:19:13.056Z"
   },
   {
    "duration": 9,
    "start_time": "2022-09-10T12:19:14.385Z"
   },
   {
    "duration": 5,
    "start_time": "2022-09-10T12:21:29.619Z"
   },
   {
    "duration": 6,
    "start_time": "2022-09-10T12:35:33.626Z"
   },
   {
    "duration": 4,
    "start_time": "2022-09-10T12:45:00.410Z"
   },
   {
    "duration": 3,
    "start_time": "2022-09-10T12:45:13.584Z"
   },
   {
    "duration": 14,
    "start_time": "2022-09-10T12:46:14.445Z"
   },
   {
    "duration": 12,
    "start_time": "2022-09-10T12:46:56.255Z"
   },
   {
    "duration": 3,
    "start_time": "2022-09-10T12:47:03.433Z"
   },
   {
    "duration": 46,
    "start_time": "2022-09-10T12:47:03.438Z"
   },
   {
    "duration": 430,
    "start_time": "2022-09-10T12:47:03.486Z"
   },
   {
    "duration": 8,
    "start_time": "2022-09-10T12:47:03.918Z"
   },
   {
    "duration": 36,
    "start_time": "2022-09-10T12:47:03.927Z"
   },
   {
    "duration": 7,
    "start_time": "2022-09-10T12:47:03.964Z"
   },
   {
    "duration": 38,
    "start_time": "2022-09-10T12:47:03.973Z"
   },
   {
    "duration": 198,
    "start_time": "2022-09-10T12:47:04.013Z"
   },
   {
    "duration": 8,
    "start_time": "2022-09-10T12:47:04.213Z"
   },
   {
    "duration": 29,
    "start_time": "2022-09-10T12:47:04.222Z"
   },
   {
    "duration": 7,
    "start_time": "2022-09-10T12:47:04.255Z"
   },
   {
    "duration": 13,
    "start_time": "2022-09-10T12:47:04.263Z"
   },
   {
    "duration": 21,
    "start_time": "2022-09-10T12:47:04.278Z"
   },
   {
    "duration": 18,
    "start_time": "2022-09-10T12:47:04.300Z"
   },
   {
    "duration": 10,
    "start_time": "2022-09-10T12:47:04.320Z"
   },
   {
    "duration": 3,
    "start_time": "2022-09-10T12:47:04.337Z"
   },
   {
    "duration": 74,
    "start_time": "2022-09-10T12:47:04.342Z"
   },
   {
    "duration": 5,
    "start_time": "2022-09-10T12:47:04.418Z"
   },
   {
    "duration": 96,
    "start_time": "2022-09-10T12:47:04.425Z"
   },
   {
    "duration": 51,
    "start_time": "2022-09-10T12:47:04.523Z"
   },
   {
    "duration": 45,
    "start_time": "2022-09-10T12:47:04.576Z"
   },
   {
    "duration": 19,
    "start_time": "2022-09-10T12:47:04.623Z"
   },
   {
    "duration": 14,
    "start_time": "2022-09-10T12:47:04.644Z"
   },
   {
    "duration": 10,
    "start_time": "2022-09-10T12:47:04.659Z"
   },
   {
    "duration": 56,
    "start_time": "2022-09-10T12:47:04.671Z"
   },
   {
    "duration": 23,
    "start_time": "2022-09-10T12:47:04.729Z"
   },
   {
    "duration": 8,
    "start_time": "2022-09-10T12:47:04.754Z"
   },
   {
    "duration": 25,
    "start_time": "2022-09-10T12:47:04.763Z"
   },
   {
    "duration": 7,
    "start_time": "2022-09-10T12:47:04.792Z"
   },
   {
    "duration": 43,
    "start_time": "2022-09-10T12:47:04.800Z"
   },
   {
    "duration": 6,
    "start_time": "2022-09-10T12:47:04.844Z"
   },
   {
    "duration": 11,
    "start_time": "2022-09-10T12:47:04.851Z"
   },
   {
    "duration": 7,
    "start_time": "2022-09-10T12:47:04.863Z"
   },
   {
    "duration": 8,
    "start_time": "2022-09-10T12:47:04.871Z"
   },
   {
    "duration": 6,
    "start_time": "2022-09-10T12:47:04.880Z"
   },
   {
    "duration": 13,
    "start_time": "2022-09-10T12:47:04.887Z"
   },
   {
    "duration": 36,
    "start_time": "2022-09-10T12:47:04.901Z"
   },
   {
    "duration": 7,
    "start_time": "2022-09-10T12:47:04.938Z"
   },
   {
    "duration": 7,
    "start_time": "2022-09-10T12:47:04.946Z"
   },
   {
    "duration": 7,
    "start_time": "2022-09-10T12:47:04.954Z"
   },
   {
    "duration": 5,
    "start_time": "2022-09-10T12:47:04.963Z"
   },
   {
    "duration": 6,
    "start_time": "2022-09-10T12:47:04.969Z"
   },
   {
    "duration": 6,
    "start_time": "2022-09-10T12:47:04.976Z"
   },
   {
    "duration": 4,
    "start_time": "2022-09-10T12:47:04.983Z"
   },
   {
    "duration": 9,
    "start_time": "2022-09-10T12:47:04.988Z"
   },
   {
    "duration": 39,
    "start_time": "2022-09-10T12:47:04.999Z"
   },
   {
    "duration": 19,
    "start_time": "2022-09-10T12:47:05.040Z"
   },
   {
    "duration": 22,
    "start_time": "2022-09-10T12:47:05.062Z"
   },
   {
    "duration": 9,
    "start_time": "2022-09-10T12:47:05.085Z"
   },
   {
    "duration": 103,
    "start_time": "2022-09-10T12:47:05.095Z"
   },
   {
    "duration": 10,
    "start_time": "2022-09-10T12:47:05.200Z"
   },
   {
    "duration": 11,
    "start_time": "2022-09-10T12:47:05.212Z"
   },
   {
    "duration": 18,
    "start_time": "2022-09-10T12:47:05.224Z"
   },
   {
    "duration": 15,
    "start_time": "2022-09-10T12:47:05.243Z"
   },
   {
    "duration": 152,
    "start_time": "2022-09-10T12:47:05.260Z"
   },
   {
    "duration": 164,
    "start_time": "2022-09-10T12:47:05.414Z"
   },
   {
    "duration": 175,
    "start_time": "2022-09-10T12:47:05.580Z"
   },
   {
    "duration": 180,
    "start_time": "2022-09-10T12:47:05.758Z"
   },
   {
    "duration": 203,
    "start_time": "2022-09-10T12:47:05.940Z"
   },
   {
    "duration": 15,
    "start_time": "2022-09-10T12:47:06.144Z"
   },
   {
    "duration": 190,
    "start_time": "2022-09-10T12:47:06.161Z"
   },
   {
    "duration": 175,
    "start_time": "2022-09-10T12:47:06.353Z"
   },
   {
    "duration": 17,
    "start_time": "2022-09-10T12:47:06.530Z"
   },
   {
    "duration": 201,
    "start_time": "2022-09-10T12:47:06.549Z"
   },
   {
    "duration": 286,
    "start_time": "2022-09-10T12:47:06.752Z"
   },
   {
    "duration": 12,
    "start_time": "2022-09-10T12:47:07.040Z"
   },
   {
    "duration": 10,
    "start_time": "2022-09-10T12:47:12.216Z"
   },
   {
    "duration": 7,
    "start_time": "2022-09-10T12:47:21.811Z"
   },
   {
    "duration": 8,
    "start_time": "2022-09-10T12:53:50.992Z"
   },
   {
    "duration": 12,
    "start_time": "2022-09-10T13:03:44.398Z"
   },
   {
    "duration": 1057,
    "start_time": "2022-09-10T13:04:31.030Z"
   },
   {
    "duration": 3,
    "start_time": "2022-09-10T13:04:32.089Z"
   },
   {
    "duration": 486,
    "start_time": "2022-09-10T13:04:32.093Z"
   },
   {
    "duration": 13,
    "start_time": "2022-09-10T13:04:32.581Z"
   },
   {
    "duration": 67,
    "start_time": "2022-09-10T13:04:32.595Z"
   },
   {
    "duration": 38,
    "start_time": "2022-09-10T13:04:32.663Z"
   },
   {
    "duration": 70,
    "start_time": "2022-09-10T13:04:32.703Z"
   },
   {
    "duration": 198,
    "start_time": "2022-09-10T13:04:32.775Z"
   },
   {
    "duration": 8,
    "start_time": "2022-09-10T13:04:32.975Z"
   },
   {
    "duration": 62,
    "start_time": "2022-09-10T13:04:32.985Z"
   },
   {
    "duration": 33,
    "start_time": "2022-09-10T13:04:33.049Z"
   },
   {
    "duration": 66,
    "start_time": "2022-09-10T13:04:33.083Z"
   },
   {
    "duration": 31,
    "start_time": "2022-09-10T13:04:33.151Z"
   },
   {
    "duration": 38,
    "start_time": "2022-09-10T13:04:33.184Z"
   },
   {
    "duration": 54,
    "start_time": "2022-09-10T13:04:33.223Z"
   },
   {
    "duration": 41,
    "start_time": "2022-09-10T13:04:33.279Z"
   },
   {
    "duration": 96,
    "start_time": "2022-09-10T13:04:33.322Z"
   },
   {
    "duration": 9,
    "start_time": "2022-09-10T13:04:33.420Z"
   },
   {
    "duration": 135,
    "start_time": "2022-09-10T13:04:33.430Z"
   },
   {
    "duration": 41,
    "start_time": "2022-09-10T13:04:33.567Z"
   },
   {
    "duration": 64,
    "start_time": "2022-09-10T13:04:33.610Z"
   },
   {
    "duration": 5,
    "start_time": "2022-09-10T13:04:33.675Z"
   },
   {
    "duration": 54,
    "start_time": "2022-09-10T13:04:33.681Z"
   },
   {
    "duration": 37,
    "start_time": "2022-09-10T13:04:33.737Z"
   },
   {
    "duration": 116,
    "start_time": "2022-09-10T13:04:33.775Z"
   },
   {
    "duration": 37,
    "start_time": "2022-09-10T13:04:33.893Z"
   },
   {
    "duration": 13,
    "start_time": "2022-09-10T13:04:33.932Z"
   },
   {
    "duration": 54,
    "start_time": "2022-09-10T13:04:33.949Z"
   },
   {
    "duration": 38,
    "start_time": "2022-09-10T13:04:34.005Z"
   },
   {
    "duration": 75,
    "start_time": "2022-09-10T13:04:34.045Z"
   },
   {
    "duration": 26,
    "start_time": "2022-09-10T13:04:34.122Z"
   },
   {
    "duration": 39,
    "start_time": "2022-09-10T13:04:34.149Z"
   },
   {
    "duration": 14,
    "start_time": "2022-09-10T13:04:34.190Z"
   },
   {
    "duration": 28,
    "start_time": "2022-09-10T13:04:34.206Z"
   },
   {
    "duration": 38,
    "start_time": "2022-09-10T13:04:34.235Z"
   },
   {
    "duration": 44,
    "start_time": "2022-09-10T13:04:34.274Z"
   },
   {
    "duration": 46,
    "start_time": "2022-09-10T13:04:34.320Z"
   },
   {
    "duration": 19,
    "start_time": "2022-09-10T13:04:34.368Z"
   },
   {
    "duration": 51,
    "start_time": "2022-09-10T13:04:34.388Z"
   },
   {
    "duration": 28,
    "start_time": "2022-09-10T13:04:34.441Z"
   },
   {
    "duration": 54,
    "start_time": "2022-09-10T13:04:34.470Z"
   },
   {
    "duration": 18,
    "start_time": "2022-09-10T13:04:34.526Z"
   },
   {
    "duration": 13,
    "start_time": "2022-09-10T13:04:34.545Z"
   },
   {
    "duration": 16,
    "start_time": "2022-09-10T13:04:34.560Z"
   },
   {
    "duration": 9,
    "start_time": "2022-09-10T13:04:34.578Z"
   },
   {
    "duration": 8,
    "start_time": "2022-09-10T13:04:34.588Z"
   },
   {
    "duration": 8,
    "start_time": "2022-09-10T13:04:34.597Z"
   },
   {
    "duration": 25,
    "start_time": "2022-09-10T13:04:34.606Z"
   },
   {
    "duration": 6,
    "start_time": "2022-09-10T13:04:34.632Z"
   },
   {
    "duration": 100,
    "start_time": "2022-09-10T13:04:34.639Z"
   },
   {
    "duration": 11,
    "start_time": "2022-09-10T13:04:34.740Z"
   },
   {
    "duration": 16,
    "start_time": "2022-09-10T13:04:34.753Z"
   },
   {
    "duration": 19,
    "start_time": "2022-09-10T13:04:34.770Z"
   },
   {
    "duration": 15,
    "start_time": "2022-09-10T13:04:34.791Z"
   },
   {
    "duration": 139,
    "start_time": "2022-09-10T13:04:34.808Z"
   },
   {
    "duration": 112,
    "start_time": "2022-09-10T13:04:34.949Z"
   },
   {
    "duration": 133,
    "start_time": "2022-09-10T13:04:35.063Z"
   },
   {
    "duration": 129,
    "start_time": "2022-09-10T13:04:35.198Z"
   },
   {
    "duration": 154,
    "start_time": "2022-09-10T13:04:35.329Z"
   },
   {
    "duration": 14,
    "start_time": "2022-09-10T13:04:35.484Z"
   },
   {
    "duration": 133,
    "start_time": "2022-09-10T13:04:35.500Z"
   },
   {
    "duration": 127,
    "start_time": "2022-09-10T13:04:35.637Z"
   },
   {
    "duration": 14,
    "start_time": "2022-09-10T13:04:35.765Z"
   },
   {
    "duration": 205,
    "start_time": "2022-09-10T13:04:35.781Z"
   },
   {
    "duration": 136,
    "start_time": "2022-09-10T13:04:35.988Z"
   },
   {
    "duration": 15,
    "start_time": "2022-09-10T13:04:36.126Z"
   },
   {
    "duration": 5,
    "start_time": "2022-09-10T13:04:36.143Z"
   },
   {
    "duration": 25,
    "start_time": "2022-09-10T13:04:36.149Z"
   },
   {
    "duration": 11,
    "start_time": "2022-09-10T13:04:36.175Z"
   },
   {
    "duration": 18,
    "start_time": "2022-09-10T13:04:36.187Z"
   },
   {
    "duration": 7,
    "start_time": "2022-09-10T13:04:36.206Z"
   },
   {
    "duration": 13,
    "start_time": "2022-09-10T13:04:36.214Z"
   },
   {
    "duration": 10,
    "start_time": "2022-09-10T13:04:36.229Z"
   },
   {
    "duration": 12,
    "start_time": "2022-09-10T13:04:36.241Z"
   },
   {
    "duration": 7,
    "start_time": "2022-09-10T13:04:36.255Z"
   },
   {
    "duration": 11,
    "start_time": "2022-09-10T13:04:36.263Z"
   },
   {
    "duration": 12,
    "start_time": "2022-09-10T13:04:36.276Z"
   },
   {
    "duration": 6,
    "start_time": "2022-09-10T13:04:36.289Z"
   },
   {
    "duration": 8,
    "start_time": "2022-09-10T13:04:36.297Z"
   },
   {
    "duration": 23,
    "start_time": "2022-09-10T13:04:36.306Z"
   },
   {
    "duration": 12,
    "start_time": "2022-09-10T13:04:36.331Z"
   },
   {
    "duration": 12,
    "start_time": "2022-09-10T13:04:36.347Z"
   },
   {
    "duration": 198,
    "start_time": "2022-09-10T13:04:36.360Z"
   },
   {
    "duration": 10,
    "start_time": "2022-09-10T13:07:49.325Z"
   },
   {
    "duration": 1087,
    "start_time": "2022-09-10T13:08:32.693Z"
   },
   {
    "duration": 2,
    "start_time": "2022-09-10T13:08:33.782Z"
   },
   {
    "duration": 436,
    "start_time": "2022-09-10T13:08:33.785Z"
   },
   {
    "duration": 11,
    "start_time": "2022-09-10T13:08:34.223Z"
   },
   {
    "duration": 27,
    "start_time": "2022-09-10T13:08:34.236Z"
   },
   {
    "duration": 8,
    "start_time": "2022-09-10T13:08:34.265Z"
   },
   {
    "duration": 38,
    "start_time": "2022-09-10T13:08:34.274Z"
   },
   {
    "duration": 165,
    "start_time": "2022-09-10T13:08:34.314Z"
   },
   {
    "duration": 7,
    "start_time": "2022-09-10T13:08:34.481Z"
   },
   {
    "duration": 36,
    "start_time": "2022-09-10T13:08:34.490Z"
   },
   {
    "duration": 11,
    "start_time": "2022-09-10T13:08:34.528Z"
   },
   {
    "duration": 17,
    "start_time": "2022-09-10T13:08:34.541Z"
   },
   {
    "duration": 31,
    "start_time": "2022-09-10T13:08:34.559Z"
   },
   {
    "duration": 25,
    "start_time": "2022-09-10T13:08:34.591Z"
   },
   {
    "duration": 21,
    "start_time": "2022-09-10T13:08:34.618Z"
   },
   {
    "duration": 21,
    "start_time": "2022-09-10T13:08:34.641Z"
   },
   {
    "duration": 91,
    "start_time": "2022-09-10T13:08:34.664Z"
   },
   {
    "duration": 6,
    "start_time": "2022-09-10T13:08:34.757Z"
   },
   {
    "duration": 118,
    "start_time": "2022-09-10T13:08:34.764Z"
   },
   {
    "duration": 43,
    "start_time": "2022-09-10T13:08:34.884Z"
   },
   {
    "duration": 45,
    "start_time": "2022-09-10T13:08:34.929Z"
   },
   {
    "duration": 5,
    "start_time": "2022-09-10T13:08:34.975Z"
   },
   {
    "duration": 9,
    "start_time": "2022-09-10T13:08:34.981Z"
   },
   {
    "duration": 8,
    "start_time": "2022-09-10T13:08:34.991Z"
   },
   {
    "duration": 69,
    "start_time": "2022-09-10T13:08:35.000Z"
   },
   {
    "duration": 24,
    "start_time": "2022-09-10T13:08:35.071Z"
   },
   {
    "duration": 7,
    "start_time": "2022-09-10T13:08:35.096Z"
   },
   {
    "duration": 38,
    "start_time": "2022-09-10T13:08:35.106Z"
   },
   {
    "duration": 6,
    "start_time": "2022-09-10T13:08:35.146Z"
   },
   {
    "duration": 24,
    "start_time": "2022-09-10T13:08:35.153Z"
   },
   {
    "duration": 5,
    "start_time": "2022-09-10T13:08:35.179Z"
   },
   {
    "duration": 10,
    "start_time": "2022-09-10T13:08:35.185Z"
   },
   {
    "duration": 7,
    "start_time": "2022-09-10T13:08:35.197Z"
   },
   {
    "duration": 32,
    "start_time": "2022-09-10T13:08:35.205Z"
   },
   {
    "duration": 6,
    "start_time": "2022-09-10T13:08:35.238Z"
   },
   {
    "duration": 10,
    "start_time": "2022-09-10T13:08:35.246Z"
   },
   {
    "duration": 14,
    "start_time": "2022-09-10T13:08:35.257Z"
   },
   {
    "duration": 6,
    "start_time": "2022-09-10T13:08:35.272Z"
   },
   {
    "duration": 4,
    "start_time": "2022-09-10T13:08:35.280Z"
   },
   {
    "duration": 6,
    "start_time": "2022-09-10T13:08:35.285Z"
   },
   {
    "duration": 4,
    "start_time": "2022-09-10T13:08:35.293Z"
   },
   {
    "duration": 40,
    "start_time": "2022-09-10T13:08:35.298Z"
   },
   {
    "duration": 4,
    "start_time": "2022-09-10T13:08:35.340Z"
   },
   {
    "duration": 8,
    "start_time": "2022-09-10T13:08:35.346Z"
   },
   {
    "duration": 11,
    "start_time": "2022-09-10T13:08:35.355Z"
   },
   {
    "duration": 6,
    "start_time": "2022-09-10T13:08:35.368Z"
   },
   {
    "duration": 6,
    "start_time": "2022-09-10T13:08:35.376Z"
   },
   {
    "duration": 15,
    "start_time": "2022-09-10T13:08:35.384Z"
   },
   {
    "duration": 8,
    "start_time": "2022-09-10T13:08:35.400Z"
   },
   {
    "duration": 121,
    "start_time": "2022-09-10T13:08:35.409Z"
   },
   {
    "duration": 11,
    "start_time": "2022-09-10T13:08:35.532Z"
   },
   {
    "duration": 6,
    "start_time": "2022-09-10T13:08:35.544Z"
   },
   {
    "duration": 13,
    "start_time": "2022-09-10T13:08:35.551Z"
   },
   {
    "duration": 18,
    "start_time": "2022-09-10T13:08:35.565Z"
   },
   {
    "duration": 153,
    "start_time": "2022-09-10T13:08:35.585Z"
   },
   {
    "duration": 113,
    "start_time": "2022-09-10T13:08:35.739Z"
   },
   {
    "duration": 138,
    "start_time": "2022-09-10T13:08:35.854Z"
   },
   {
    "duration": 137,
    "start_time": "2022-09-10T13:08:35.993Z"
   },
   {
    "duration": 134,
    "start_time": "2022-09-10T13:08:36.131Z"
   },
   {
    "duration": 15,
    "start_time": "2022-09-10T13:08:36.266Z"
   },
   {
    "duration": 152,
    "start_time": "2022-09-10T13:08:36.282Z"
   },
   {
    "duration": 130,
    "start_time": "2022-09-10T13:08:36.437Z"
   },
   {
    "duration": 13,
    "start_time": "2022-09-10T13:08:36.568Z"
   },
   {
    "duration": 202,
    "start_time": "2022-09-10T13:08:36.582Z"
   },
   {
    "duration": 134,
    "start_time": "2022-09-10T13:08:36.786Z"
   },
   {
    "duration": 21,
    "start_time": "2022-09-10T13:08:36.922Z"
   },
   {
    "duration": 13,
    "start_time": "2022-09-10T13:08:36.945Z"
   },
   {
    "duration": 6,
    "start_time": "2022-09-10T13:08:36.959Z"
   },
   {
    "duration": 9,
    "start_time": "2022-09-10T13:08:36.967Z"
   },
   {
    "duration": 7,
    "start_time": "2022-09-10T13:08:36.977Z"
   },
   {
    "duration": 6,
    "start_time": "2022-09-10T13:08:36.986Z"
   },
   {
    "duration": 4,
    "start_time": "2022-09-10T13:08:36.994Z"
   },
   {
    "duration": 11,
    "start_time": "2022-09-10T13:08:37.000Z"
   },
   {
    "duration": 26,
    "start_time": "2022-09-10T13:08:37.012Z"
   },
   {
    "duration": 8,
    "start_time": "2022-09-10T13:08:37.040Z"
   },
   {
    "duration": 13,
    "start_time": "2022-09-10T13:08:37.050Z"
   },
   {
    "duration": 7,
    "start_time": "2022-09-10T13:08:37.065Z"
   },
   {
    "duration": 9,
    "start_time": "2022-09-10T13:08:37.073Z"
   },
   {
    "duration": 11,
    "start_time": "2022-09-10T13:08:37.083Z"
   },
   {
    "duration": 13,
    "start_time": "2022-09-10T13:08:37.095Z"
   },
   {
    "duration": 8,
    "start_time": "2022-09-10T13:08:37.110Z"
   },
   {
    "duration": 6,
    "start_time": "2022-09-10T13:08:37.123Z"
   },
   {
    "duration": 237,
    "start_time": "2022-09-10T13:08:37.138Z"
   },
   {
    "duration": 177,
    "start_time": "2022-09-10T13:11:17.823Z"
   },
   {
    "duration": 1049,
    "start_time": "2022-09-10T13:20:51.728Z"
   },
   {
    "duration": 2,
    "start_time": "2022-09-10T13:20:52.779Z"
   },
   {
    "duration": 459,
    "start_time": "2022-09-10T13:20:52.783Z"
   },
   {
    "duration": 11,
    "start_time": "2022-09-10T13:20:53.244Z"
   },
   {
    "duration": 24,
    "start_time": "2022-09-10T13:20:53.256Z"
   },
   {
    "duration": 7,
    "start_time": "2022-09-10T13:20:53.282Z"
   },
   {
    "duration": 22,
    "start_time": "2022-09-10T13:20:53.290Z"
   },
   {
    "duration": 190,
    "start_time": "2022-09-10T13:20:53.314Z"
   },
   {
    "duration": 7,
    "start_time": "2022-09-10T13:20:53.506Z"
   },
   {
    "duration": 30,
    "start_time": "2022-09-10T13:20:53.516Z"
   },
   {
    "duration": 7,
    "start_time": "2022-09-10T13:20:53.548Z"
   },
   {
    "duration": 15,
    "start_time": "2022-09-10T13:20:53.557Z"
   },
   {
    "duration": 19,
    "start_time": "2022-09-10T13:20:53.574Z"
   },
   {
    "duration": 11,
    "start_time": "2022-09-10T13:20:53.595Z"
   },
   {
    "duration": 7,
    "start_time": "2022-09-10T13:20:53.608Z"
   },
   {
    "duration": 6,
    "start_time": "2022-09-10T13:20:53.617Z"
   },
   {
    "duration": 69,
    "start_time": "2022-09-10T13:20:53.637Z"
   },
   {
    "duration": 7,
    "start_time": "2022-09-10T13:20:53.707Z"
   },
   {
    "duration": 110,
    "start_time": "2022-09-10T13:20:53.715Z"
   },
   {
    "duration": 51,
    "start_time": "2022-09-10T13:20:53.826Z"
   },
   {
    "duration": 43,
    "start_time": "2022-09-10T13:20:53.879Z"
   },
   {
    "duration": 15,
    "start_time": "2022-09-10T13:20:53.924Z"
   },
   {
    "duration": 12,
    "start_time": "2022-09-10T13:20:53.941Z"
   },
   {
    "duration": 11,
    "start_time": "2022-09-10T13:20:53.955Z"
   },
   {
    "duration": 48,
    "start_time": "2022-09-10T13:20:53.968Z"
   },
   {
    "duration": 34,
    "start_time": "2022-09-10T13:20:54.018Z"
   },
   {
    "duration": 6,
    "start_time": "2022-09-10T13:20:54.054Z"
   },
   {
    "duration": 24,
    "start_time": "2022-09-10T13:20:54.065Z"
   },
   {
    "duration": 7,
    "start_time": "2022-09-10T13:20:54.090Z"
   },
   {
    "duration": 49,
    "start_time": "2022-09-10T13:20:54.099Z"
   },
   {
    "duration": 6,
    "start_time": "2022-09-10T13:20:54.150Z"
   },
   {
    "duration": 17,
    "start_time": "2022-09-10T13:20:54.157Z"
   },
   {
    "duration": 7,
    "start_time": "2022-09-10T13:20:54.175Z"
   },
   {
    "duration": 7,
    "start_time": "2022-09-10T13:20:54.183Z"
   },
   {
    "duration": 7,
    "start_time": "2022-09-10T13:20:54.191Z"
   },
   {
    "duration": 11,
    "start_time": "2022-09-10T13:20:54.199Z"
   },
   {
    "duration": 29,
    "start_time": "2022-09-10T13:20:54.212Z"
   },
   {
    "duration": 9,
    "start_time": "2022-09-10T13:20:54.242Z"
   },
   {
    "duration": 7,
    "start_time": "2022-09-10T13:20:54.253Z"
   },
   {
    "duration": 9,
    "start_time": "2022-09-10T13:20:54.261Z"
   },
   {
    "duration": 7,
    "start_time": "2022-09-10T13:20:54.271Z"
   },
   {
    "duration": 7,
    "start_time": "2022-09-10T13:20:54.279Z"
   },
   {
    "duration": 8,
    "start_time": "2022-09-10T13:20:54.287Z"
   },
   {
    "duration": 7,
    "start_time": "2022-09-10T13:20:54.296Z"
   },
   {
    "duration": 7,
    "start_time": "2022-09-10T13:20:54.304Z"
   },
   {
    "duration": 28,
    "start_time": "2022-09-10T13:20:54.312Z"
   },
   {
    "duration": 6,
    "start_time": "2022-09-10T13:20:54.342Z"
   },
   {
    "duration": 11,
    "start_time": "2022-09-10T13:20:54.349Z"
   },
   {
    "duration": 7,
    "start_time": "2022-09-10T13:20:54.362Z"
   },
   {
    "duration": 111,
    "start_time": "2022-09-10T13:20:54.370Z"
   },
   {
    "duration": 12,
    "start_time": "2022-09-10T13:20:54.483Z"
   },
   {
    "duration": 8,
    "start_time": "2022-09-10T13:20:54.497Z"
   },
   {
    "duration": 14,
    "start_time": "2022-09-10T13:20:54.506Z"
   },
   {
    "duration": 27,
    "start_time": "2022-09-10T13:20:54.522Z"
   },
   {
    "duration": 150,
    "start_time": "2022-09-10T13:20:54.551Z"
   },
   {
    "duration": 118,
    "start_time": "2022-09-10T13:20:54.703Z"
   },
   {
    "duration": 117,
    "start_time": "2022-09-10T13:20:54.823Z"
   },
   {
    "duration": 137,
    "start_time": "2022-09-10T13:20:54.942Z"
   },
   {
    "duration": 153,
    "start_time": "2022-09-10T13:20:55.080Z"
   },
   {
    "duration": 16,
    "start_time": "2022-09-10T13:20:55.237Z"
   },
   {
    "duration": 137,
    "start_time": "2022-09-10T13:20:55.254Z"
   },
   {
    "duration": 127,
    "start_time": "2022-09-10T13:20:55.392Z"
   },
   {
    "duration": 20,
    "start_time": "2022-09-10T13:20:55.521Z"
   },
   {
    "duration": 189,
    "start_time": "2022-09-10T13:20:55.543Z"
   },
   {
    "duration": 128,
    "start_time": "2022-09-10T13:20:55.736Z"
   },
   {
    "duration": 11,
    "start_time": "2022-09-10T13:20:55.866Z"
   },
   {
    "duration": 9,
    "start_time": "2022-09-10T13:20:55.879Z"
   },
   {
    "duration": 5,
    "start_time": "2022-09-10T13:20:55.889Z"
   },
   {
    "duration": 6,
    "start_time": "2022-09-10T13:20:55.896Z"
   },
   {
    "duration": 6,
    "start_time": "2022-09-10T13:20:55.903Z"
   },
   {
    "duration": 5,
    "start_time": "2022-09-10T13:20:55.936Z"
   },
   {
    "duration": 4,
    "start_time": "2022-09-10T13:20:55.943Z"
   },
   {
    "duration": 8,
    "start_time": "2022-09-10T13:20:55.949Z"
   },
   {
    "duration": 6,
    "start_time": "2022-09-10T13:20:55.958Z"
   },
   {
    "duration": 6,
    "start_time": "2022-09-10T13:20:55.966Z"
   },
   {
    "duration": 6,
    "start_time": "2022-09-10T13:20:55.974Z"
   },
   {
    "duration": 8,
    "start_time": "2022-09-10T13:20:55.981Z"
   },
   {
    "duration": 9,
    "start_time": "2022-09-10T13:20:55.991Z"
   },
   {
    "duration": 5,
    "start_time": "2022-09-10T13:20:56.002Z"
   },
   {
    "duration": 28,
    "start_time": "2022-09-10T13:20:56.009Z"
   },
   {
    "duration": 3,
    "start_time": "2022-09-10T13:20:56.038Z"
   },
   {
    "duration": 6,
    "start_time": "2022-09-10T13:20:56.046Z"
   },
   {
    "duration": 191,
    "start_time": "2022-09-10T13:20:56.053Z"
   }
  ],
  "kernelspec": {
   "display_name": "Python 3 (ipykernel)",
   "language": "python",
   "name": "python3"
  },
  "language_info": {
   "codemirror_mode": {
    "name": "ipython",
    "version": 3
   },
   "file_extension": ".py",
   "mimetype": "text/x-python",
   "name": "python",
   "nbconvert_exporter": "python",
   "pygments_lexer": "ipython3",
   "version": "3.9.5"
  },
  "toc": {
   "base_numbering": 1,
   "nav_menu": {},
   "number_sections": true,
   "sideBar": true,
   "skip_h1_title": true,
   "title_cell": "Table of Contents",
   "title_sidebar": "Contents",
   "toc_cell": false,
   "toc_position": {},
   "toc_section_display": true,
   "toc_window_display": false
  }
 },
 "nbformat": 4,
 "nbformat_minor": 2
}
